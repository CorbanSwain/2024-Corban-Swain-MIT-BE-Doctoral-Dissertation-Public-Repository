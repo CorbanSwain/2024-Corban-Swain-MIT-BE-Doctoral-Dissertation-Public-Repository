{
 "cells": [
  {
   "cell_type": "code",
   "execution_count": 1,
   "id": "70d8d06d-2567-4ecd-bd5e-63b9d170df57",
   "metadata": {},
   "outputs": [],
   "source": [
    "import imageio\n",
    "import napari\n",
    "import c_swain_python_utils as csutils\n",
    "import os\n",
    "import numpy as np\n",
    "import logging\n",
    "import glob\n",
    "import xml.etree.ElementTree as ET\n",
    "\n",
    "headdir = os.path.join('..')\n",
    "datadir = os.path.join(headdir, 'data')"
   ]
  },
  {
   "cell_type": "code",
   "execution_count": 2,
   "id": "ab8e524b-6cea-4b08-996e-d56e3fac43b7",
   "metadata": {},
   "outputs": [],
   "source": [
    "L = csutils.get_logger(name='misc_tests_01', \n",
    "                       filepath=os.path.join(headdir, 'logs', 'misc_tests_01.log'))"
   ]
  },
  {
   "cell_type": "code",
   "execution_count": 3,
   "id": "fab4b380-0f7b-484c-afd2-3d854732195b",
   "metadata": {},
   "outputs": [
    {
     "name": "stdout",
     "output_type": "stream",
     "text": [
      "misc_tests_01 :       INFO : Reading in data from \"..\\data\\test_data_01\\high_res_gcamp_z_stack.tif\"\n"
     ]
    },
    {
     "name": "stderr",
     "output_type": "stream",
     "text": [
      "TiffPage 0: TypeError: read_bytes() missing 3 required positional arguments: 'dtype', 'count', and 'offsetsize'\n"
     ]
    },
    {
     "name": "stdout",
     "output_type": "stream",
     "text": [
      "misc_tests_01 :       INFO : Image size is (41, 2048, 2048)\n",
      "misc_tests_01 :       INFO : Image datatype is float64\n"
     ]
    }
   ],
   "source": [
    "datapath = os.path.join(datadir, 'test_data_01', 'high_res_gcamp_z_stack.tif')\n",
    "\n",
    "L.info(f'Reading in data from \"{datapath:s}\"')\n",
    "imdata = imageio.volread(datapath)\n",
    "imdata = imdata.astype(float) / np.iinfo(imdata.dtype).max\n",
    "\n",
    "L.debug(f'Image size is {imdata.shape}')\n",
    "L.debug(f'Image datatype is {imdata.dtype}')"
   ]
  },
  {
   "cell_type": "code",
   "execution_count": 4,
   "id": "0b725368-72e2-4657-8a4e-06dcfad3afd3",
   "metadata": {},
   "outputs": [
    {
     "name": "stdout",
     "output_type": "stream",
     "text": [
      "misc_tests_01 :       INFO : Opening test image in napari.\n"
     ]
    },
    {
     "name": "stderr",
     "output_type": "stream",
     "text": [
      "C:\\Users\\CorbanSwain\\repos\\zmia_zebrafish_multimodal_imaging_analysis\\envs\\zmia-env\\lib\\site-packages\\napari\\_vispy\\vispy_camera.py:109: RuntimeWarning: divide by zero encountered in true_divide\n",
      "  zoom = np.min(canvas_size / scale)\n"
     ]
    }
   ],
   "source": [
    "L.info(f'Opening test image in napari.')\n",
    "viewer = napari.view_image(imdata)"
   ]
  },
  {
   "cell_type": "code",
   "execution_count": 3,
   "id": "450fd2d2-03e6-4e2e-ace3-d4fe4a207f64",
   "metadata": {},
   "outputs": [
    {
     "name": "stdout",
     "output_type": "stream",
     "text": [
      "misc_tests_01 :      DEBUG : xml_file_list = ['..\\\\data\\\\test_data_01\\\\gcamp_t_series_01_avgp-1\\\\soma_gcamp_t-z_series-001.xml']\n",
      "misc_tests_01 :      DEBUG : xml_file_path = ..\\data\\test_data_01\\gcamp_t_series_01_avgp-1\\soma_gcamp_t-z_series-001.xml\n"
     ]
    },
    {
     "data": {
      "text/plain": [
       "<xml.etree.ElementTree.ElementTree at 0x2351ef4dd90>"
      ]
     },
     "execution_count": 3,
     "metadata": {},
     "output_type": "execute_result"
    }
   ],
   "source": [
    "t_series_path = os.path.join(datadir, 'test_data_01', 'gcamp_t_series_01_avgp-1')\n",
    "xml_file_list = glob.glob(os.path.join(t_series_path, '*.xml'))\n",
    "\n",
    "L.debug(f'xml_file_list = {xml_file_list}')\n",
    "\n",
    "if len(xml_file_list) == 1:\n",
    "    xml_file_path = xml_file_list[0]\n",
    "elif len(xml_file_list) == 0:\n",
    "    L.error('No xml file found.')\n",
    "else:\n",
    "    L.error('Multiple xml files found.')\n",
    "\n",
    "L.debug(f'xml_file_path = {xml_file_path}')\n",
    "    \n",
    "xml_tree = ET.parse(xml_file_path)\n",
    "xml_tree"
   ]
  },
  {
   "cell_type": "code",
   "execution_count": 6,
   "id": "05382b3b-411d-4aad-b3a0-1c76d02034e6",
   "metadata": {},
   "outputs": [
    {
     "name": "stdout",
     "output_type": "stream",
     "text": [
      "misc_tests_01 :      DEBUG : xml_root:\n",
      "misc_tests_01 :      DEBUG : PVScan {'version': '5.5.64.500', 'date': '7/28/2021 2:36:17 PM', 'notes': ''}\n",
      "misc_tests_01 :      DEBUG :    SystemIDs {'SystemID': '3AE5-9DFC-D2EA-F20F-CEE5-A859-D570-21C3'}\n",
      "misc_tests_01 :      DEBUG :       SystemID {'SystemID': '4315', 'Description': 'MIT - UPGRADED 2021 with Resonant and  ...}\n",
      "misc_tests_01 :      DEBUG :    PVStateShard {}\n",
      "misc_tests_01 :      DEBUG :       PVStateValue {'key': 'activeMode', 'value': 'ResonantGalvo'}\n",
      "misc_tests_01 :      DEBUG :       PVStateValue {'key': 'bitDepth', 'value': '13'}\n",
      "misc_tests_01 :      DEBUG :       PVStateValue {'key': 'currentScanAmplitude'}\n",
      "misc_tests_01 :      DEBUG :          IndexedValue {'index': 'XAxis', 'value': '-3.29655348'}\n",
      "misc_tests_01 :      DEBUG :          IndexedValue {'index': 'YAxis', 'value': '5.225061225'}\n",
      "misc_tests_01 :      DEBUG :       PVStateValue {'key': 'currentScanCenter'}\n",
      "misc_tests_01 :      DEBUG :          IndexedValue {'index': 'XAxis', 'value': '0.0742467'}\n",
      "misc_tests_01 :      DEBUG : general_metadata:\n",
      "misc_tests_01 :      DEBUG : PVStateShard {}\n",
      "misc_tests_01 :      DEBUG :    PVStateValue {'key': 'activeMode', 'value': 'ResonantGalvo'}\n",
      "misc_tests_01 :      DEBUG :    PVStateValue {'key': 'bitDepth', 'value': '13'}\n",
      "misc_tests_01 :      DEBUG :    PVStateValue {'key': 'currentScanAmplitude'}\n",
      "misc_tests_01 :      DEBUG :       IndexedValue {'index': 'XAxis', 'value': '-3.29655348'}\n",
      "misc_tests_01 :      DEBUG :       IndexedValue {'index': 'YAxis', 'value': '5.225061225'}\n",
      "misc_tests_01 :      DEBUG :    PVStateValue {'key': 'currentScanCenter'}\n",
      "misc_tests_01 :      DEBUG :       IndexedValue {'index': 'XAxis', 'value': '0.0742467'}\n",
      "misc_tests_01 :      DEBUG :       IndexedValue {'index': 'YAxis', 'value': '-0.0467567'}\n",
      "misc_tests_01 :      DEBUG :    PVStateValue {'key': 'dwellTime', 'value': '0.4'}\n",
      "misc_tests_01 :      DEBUG :    PVStateValue {'key': 'framePeriod', 'value': '0.033474222'}\n",
      "misc_tests_01 :      DEBUG :    PVStateValue {'key': 'interlacedScanTrackCount', 'value': '0'}\n",
      "misc_tests_01 :      DEBUG :    PVStateValue {'key': 'laserPower'}\n",
      "misc_tests_01 :      DEBUG :       IndexedValue {'index': '0', 'value': '235.897435897436', 'description': 'Pockels'}\n",
      "misc_tests_01 :      DEBUG :       IndexedValue {'index': '1', 'value': '0', 'description': 'Aurora 1'}\n",
      "misc_tests_01 :      DEBUG :       IndexedValue {'index': '2', 'value': '0', 'description': 'Aurora 2'}\n",
      "misc_tests_01 :      DEBUG :       IndexedValue {'index': '3', 'value': '0', 'description': 'Aurora 3'}\n",
      "misc_tests_01 :      DEBUG :    PVStateValue {'key': 'laserPowerAttenuation'}\n",
      "misc_tests_01 :      DEBUG :       IndexedValue {'index': '0', 'value': '0', 'description': 'Pockels'}\n",
      "misc_tests_01 :      DEBUG :    PVStateValue {'key': 'laserPowerCalibrated'}\n",
      "misc_tests_01 :      DEBUG :       IndexedValue {'index': '0', 'value': '0.343604857118376', 'description': 'Pockels'}\n",
      "misc_tests_01 :      DEBUG :    PVStateValue {'key': 'laserPowerMode'}\n",
      "misc_tests_01 :      DEBUG :       IndexedValue {'index': '0', 'value': '4'}\n",
      "misc_tests_01 :      DEBUG :    PVStateValue {'key': 'laserWavelength'}\n",
      "misc_tests_01 :      DEBUG :       IndexedValue {'index': '0', 'value': '910', 'description': 'S-P Mai Tai 1'}\n",
      "misc_tests_01 :      DEBUG :    PVStateValue {'key': 'linesPerFrame', 'value': '512'}\n",
      "misc_tests_01 :      DEBUG :    PVStateValue {'key': 'maxVoltage'}\n",
      "misc_tests_01 :      DEBUG :       IndexedValue {'index': 'XAxis', 'value': '4.628472675'}\n",
      "misc_tests_01 :      DEBUG :       IndexedValue {'index': 'YAxis', 'value': '5.178304525'}\n",
      "misc_tests_01 :      DEBUG :    PVStateValue {'key': 'micronsPerPixel'}\n",
      "misc_tests_01 :      DEBUG :       IndexedValue {'index': 'XAxis', 'value': '1.1388599182398'}\n",
      "misc_tests_01 :      DEBUG :       IndexedValue {'index': 'YAxis', 'value': '1.1388599182398'}\n",
      "misc_tests_01 :      DEBUG :       IndexedValue {'index': 'ZAxis', 'value': '5'}\n",
      "misc_tests_01 :      DEBUG :    PVStateValue {'key': 'minVoltage'}\n",
      "misc_tests_01 :      DEBUG :       IndexedValue {'index': 'XAxis', 'value': '-4.479979275'}\n",
      "misc_tests_01 :      DEBUG :       IndexedValue {'index': 'YAxis', 'value': '-5.271817925'}\n",
      "misc_tests_01 :      DEBUG :    PVStateValue {'key': 'objectiveLens', 'value': '20x Olympus'}\n",
      "misc_tests_01 :      DEBUG :    PVStateValue {'key': 'objectiveLensMag', 'value': '20'}\n",
      "misc_tests_01 :      DEBUG :    PVStateValue {'key': 'objectiveLensNA', 'value': '1'}\n",
      "misc_tests_01 :      DEBUG :    PVStateValue {'key': 'opticalZoom', 'value': '1'}\n",
      "misc_tests_01 :      DEBUG :    PVStateValue {'key': 'pixelsPerLine', 'value': '512'}\n",
      "misc_tests_01 :      DEBUG :    PVStateValue {'key': 'pmtGain'}\n",
      "misc_tests_01 :      DEBUG :       IndexedValue {'index': '0', 'value': '0', 'description': 'PMT 1 HV (MA)'}\n",
      "misc_tests_01 :      DEBUG :       IndexedValue {'index': '1', 'value': '800', 'description': 'PMT 2 HV (GaAsP)'}\n",
      "misc_tests_01 :      DEBUG :    PVStateValue {'key': 'positionCurrent'}\n",
      "misc_tests_01 :      DEBUG :       SubindexedValues {'index': 'XAxis'}\n",
      "misc_tests_01 :      DEBUG :          SubindexedValue {'subindex': '0', 'value': '991.706'}\n",
      "misc_tests_01 :      DEBUG :       SubindexedValues {'index': 'YAxis'}\n",
      "misc_tests_01 :      DEBUG :          SubindexedValue {'subindex': '0', 'value': '-952.006'}\n",
      "misc_tests_01 :      DEBUG :       SubindexedValues {'index': 'ZAxis'}\n",
      "misc_tests_01 :      DEBUG :          SubindexedValue {'subindex': '0', 'value': '1780.725', 'description': 'Z Focus'}\n",
      "misc_tests_01 :      DEBUG :          SubindexedValue {'subindex': '1', 'value': '180', 'description': 'Bruker 400 μm Piezo'}\n",
      "misc_tests_01 :      DEBUG :    PVStateValue {'key': 'preampFilter', 'value': 'NoFilter', 'description': 'None'}\n",
      "misc_tests_01 :      DEBUG :    PVStateValue {'key': 'preampOffset'}\n",
      "misc_tests_01 :      DEBUG :       SubindexedValues {'index': '0'}\n",
      "misc_tests_01 :      DEBUG :          SubindexedValue {'subindex': '0', 'value': '0', 'description': 'Ch1'}\n",
      "misc_tests_01 :      DEBUG :          SubindexedValue {'subindex': '1', 'value': '0', 'description': 'Ch2'}\n",
      "misc_tests_01 :      DEBUG :    PVStateValue {'key': 'rastersPerFrame', 'value': '1'}\n",
      "misc_tests_01 :      DEBUG :    PVStateValue {'key': 'resonantSamplesPerPixel', 'value': '3'}\n",
      "misc_tests_01 :      DEBUG :    PVStateValue {'key': 'rotation', 'value': '0'}\n",
      "misc_tests_01 :      DEBUG :    PVStateValue {'key': 'samplesPerPixel', 'value': '3'}\n",
      "misc_tests_01 :      DEBUG :    PVStateValue {'key': 'scanLinePeriod', 'value': '6.3169E-05'}\n",
      "misc_tests_01 :      DEBUG :    PVStateValue {'key': 'twophotonLaserPower'}\n",
      "misc_tests_01 :      DEBUG :       IndexedValue {'index': '0', 'value': '1975.46'}\n",
      "misc_tests_01 :      DEBUG :    PVStateValue {'key': 'useInterlacedScanPattern', 'value': 'False'}\n",
      "misc_tests_01 :      DEBUG :    PVStateValue {'key': 'xYStageGridIndex', 'value': '-1'}\n",
      "misc_tests_01 :      DEBUG :    PVStateValue {'key': 'xYStageGridXIndex', 'value': '-1'}\n",
      "misc_tests_01 :      DEBUG :    PVStateValue {'key': 'xYStageGridYIndex', 'value': '-1'}\n",
      "misc_tests_01 :      DEBUG :    PVStateValue {'key': 'yAspectExpansion', 'value': '1'}\n",
      "misc_tests_01 :      DEBUG :    PVStateValue {'key': 'zDevice', 'value': '1'}\n"
     ]
    }
   ],
   "source": [
    "xml_root = xml_tree.getroot()\n",
    "\n",
    "\n",
    "def print_xml(xml, child_limit=10, recursive=False, level=0, indent_str='   '):    \n",
    "    if level == 0:\n",
    "        L.debug((indent_str * level) + f'{xml.tag} {xml.attrib}')\n",
    "    \n",
    "    if child_limit == 0:\n",
    "        return        \n",
    "    elif child_limit:\n",
    "        counter = 0\n",
    "        \n",
    "    for child in xml:\n",
    "        attrib_str = str(child.attrib)\n",
    "        if len(attrib_str) > 80:\n",
    "            attrib_str = attrib_str[:75] + ' ...}'\n",
    "\n",
    "        L.debug((indent_str * (level + 1)) + f'{child.tag} {attrib_str}')\n",
    "\n",
    "        if child_limit:\n",
    "            counter += 1\n",
    "        \n",
    "        if recursive and len(child) > 0:\n",
    "            print_xml(child,\n",
    "                      child_limit=(child_limit - counter) if child_limit else None,\n",
    "                      recursive=True,\n",
    "                      level=(level + 1), \n",
    "                      indent_str=indent_str)   \n",
    "            if child_limit:\n",
    "                counter += len(child)\n",
    "\n",
    "        if child_limit and counter >= child_limit:\n",
    "            break\n",
    "\n",
    "L.debug('xml_root:')\n",
    "print_xml(xml_root, recursive=True)\n",
    "\n",
    "general_metadata = xml_root.find('PVStateShard')\n",
    "L.debug('general_metadata:')\n",
    "print_xml(general_metadata, child_limit=None, recursive=True)    "
   ]
  },
  {
   "cell_type": "code",
   "execution_count": 8,
   "id": "3b907fd8-6feb-423a-801b-246ba5b49a79",
   "metadata": {
    "collapsed": true,
    "jupyter": {
     "outputs_hidden": true
    },
    "tags": []
   },
   "outputs": [
    {
     "name": "stdout",
     "output_type": "stream",
     "text": [
      "misc_tests_01 :      DEBUG : PVScan {'version': '5.5.64.500', 'date': '7/28/2021 2:36:17 PM', 'notes': ''}\n",
      "misc_tests_01 :      DEBUG :    SystemIDs {'SystemID': '3AE5-9DFC-D2EA-F20F-CEE5-A859-D570-21C3'}\n",
      "misc_tests_01 :      DEBUG :       SystemID {'SystemID': '4315', 'Description': 'MIT - UPGRADED 2021 with Resonant and  ...}\n",
      "misc_tests_01 :      DEBUG :    PVStateShard {}\n",
      "misc_tests_01 :      DEBUG :       PVStateValue {'key': 'activeMode', 'value': 'ResonantGalvo'}\n",
      "misc_tests_01 :      DEBUG :       PVStateValue {'key': 'bitDepth', 'value': '13'}\n",
      "misc_tests_01 :      DEBUG :       PVStateValue {'key': 'currentScanAmplitude'}\n",
      "misc_tests_01 :      DEBUG :          IndexedValue {'index': 'XAxis', 'value': '-3.29655348'}\n",
      "misc_tests_01 :      DEBUG :          IndexedValue {'index': 'YAxis', 'value': '5.225061225'}\n",
      "misc_tests_01 :      DEBUG :       PVStateValue {'key': 'currentScanCenter'}\n",
      "misc_tests_01 :      DEBUG :          IndexedValue {'index': 'XAxis', 'value': '0.0742467'}\n",
      "misc_tests_01 :      DEBUG :          IndexedValue {'index': 'YAxis', 'value': '-0.0467567'}\n",
      "misc_tests_01 :      DEBUG :       PVStateValue {'key': 'dwellTime', 'value': '0.4'}\n",
      "misc_tests_01 :      DEBUG :       PVStateValue {'key': 'framePeriod', 'value': '0.033474222'}\n",
      "misc_tests_01 :      DEBUG :       PVStateValue {'key': 'interlacedScanTrackCount', 'value': '0'}\n",
      "misc_tests_01 :      DEBUG :       PVStateValue {'key': 'laserPower'}\n",
      "misc_tests_01 :      DEBUG :          IndexedValue {'index': '0', 'value': '235.897435897436', 'description': 'Pockels'}\n",
      "misc_tests_01 :      DEBUG :          IndexedValue {'index': '1', 'value': '0', 'description': 'Aurora 1'}\n",
      "misc_tests_01 :      DEBUG :          IndexedValue {'index': '2', 'value': '0', 'description': 'Aurora 2'}\n",
      "misc_tests_01 :      DEBUG :          IndexedValue {'index': '3', 'value': '0', 'description': 'Aurora 3'}\n",
      "misc_tests_01 :      DEBUG :       PVStateValue {'key': 'laserPowerAttenuation'}\n",
      "misc_tests_01 :      DEBUG :          IndexedValue {'index': '0', 'value': '0', 'description': 'Pockels'}\n",
      "misc_tests_01 :      DEBUG :       PVStateValue {'key': 'laserPowerCalibrated'}\n",
      "misc_tests_01 :      DEBUG :          IndexedValue {'index': '0', 'value': '0.343604857118376', 'description': 'Pockels'}\n",
      "misc_tests_01 :      DEBUG :       PVStateValue {'key': 'laserPowerMode'}\n",
      "misc_tests_01 :      DEBUG :          IndexedValue {'index': '0', 'value': '4'}\n",
      "misc_tests_01 :      DEBUG :       PVStateValue {'key': 'laserWavelength'}\n",
      "misc_tests_01 :      DEBUG :          IndexedValue {'index': '0', 'value': '910', 'description': 'S-P Mai Tai 1'}\n",
      "misc_tests_01 :      DEBUG :       PVStateValue {'key': 'linesPerFrame', 'value': '512'}\n",
      "misc_tests_01 :      DEBUG :       PVStateValue {'key': 'maxVoltage'}\n",
      "misc_tests_01 :      DEBUG :          IndexedValue {'index': 'XAxis', 'value': '4.628472675'}\n",
      "misc_tests_01 :      DEBUG :          IndexedValue {'index': 'YAxis', 'value': '5.178304525'}\n",
      "misc_tests_01 :      DEBUG :       PVStateValue {'key': 'micronsPerPixel'}\n",
      "misc_tests_01 :      DEBUG :          IndexedValue {'index': 'XAxis', 'value': '1.1388599182398'}\n",
      "misc_tests_01 :      DEBUG :          IndexedValue {'index': 'YAxis', 'value': '1.1388599182398'}\n",
      "misc_tests_01 :      DEBUG :          IndexedValue {'index': 'ZAxis', 'value': '5'}\n",
      "misc_tests_01 :      DEBUG :       PVStateValue {'key': 'minVoltage'}\n",
      "misc_tests_01 :      DEBUG :          IndexedValue {'index': 'XAxis', 'value': '-4.479979275'}\n",
      "misc_tests_01 :      DEBUG :          IndexedValue {'index': 'YAxis', 'value': '-5.271817925'}\n",
      "misc_tests_01 :      DEBUG :       PVStateValue {'key': 'objectiveLens', 'value': '20x Olympus'}\n",
      "misc_tests_01 :      DEBUG :       PVStateValue {'key': 'objectiveLensMag', 'value': '20'}\n",
      "misc_tests_01 :      DEBUG :       PVStateValue {'key': 'objectiveLensNA', 'value': '1'}\n",
      "misc_tests_01 :      DEBUG :       PVStateValue {'key': 'opticalZoom', 'value': '1'}\n",
      "misc_tests_01 :      DEBUG :       PVStateValue {'key': 'pixelsPerLine', 'value': '512'}\n",
      "misc_tests_01 :      DEBUG :       PVStateValue {'key': 'pmtGain'}\n",
      "misc_tests_01 :      DEBUG :          IndexedValue {'index': '0', 'value': '0', 'description': 'PMT 1 HV (MA)'}\n",
      "misc_tests_01 :      DEBUG :          IndexedValue {'index': '1', 'value': '800', 'description': 'PMT 2 HV (GaAsP)'}\n",
      "misc_tests_01 :      DEBUG :       PVStateValue {'key': 'positionCurrent'}\n",
      "misc_tests_01 :      DEBUG :          SubindexedValues {'index': 'XAxis'}\n",
      "misc_tests_01 :      DEBUG :             SubindexedValue {'subindex': '0', 'value': '991.706'}\n",
      "misc_tests_01 :      DEBUG :          SubindexedValues {'index': 'YAxis'}\n",
      "misc_tests_01 :      DEBUG :    Sequence {'type': 'TSeries ZSeries Element', 'cycle': '1', 'time': '14:36:17.0312759 ...}\n",
      "misc_tests_01 :      DEBUG :       PVStateShard {}\n",
      "misc_tests_01 :      DEBUG :       Frame {'relativeTime': '0', 'absoluteTime': '1.9350000000004', 'index': '1', 'par ...}\n",
      "misc_tests_01 :      DEBUG :          File {'channel': '2', 'channelName': '2 Shortpass', 'filename': 'soma_gcamp_t-z_ ...}\n",
      "misc_tests_01 :      DEBUG :          ExtraParameters {'lastGoodFrame': '0'}\n",
      "misc_tests_01 :      DEBUG :          PVStateShard {}\n",
      "misc_tests_01 :      DEBUG :             PVStateValue {'key': 'framePeriod', 'value': '0.038474272'}\n",
      "misc_tests_01 :      DEBUG :             PVStateValue {'key': 'positionCurrent'}\n",
      "misc_tests_01 :      DEBUG :                SubindexedValues {'index': 'XAxis'}\n",
      "misc_tests_01 :      DEBUG :                   SubindexedValue {'subindex': '0', 'value': '991.706'}\n",
      "misc_tests_01 :      DEBUG :       Frame {'relativeTime': '0.038474272', 'absoluteTime': '1.9734742720004', 'index': ...}\n",
      "misc_tests_01 :      DEBUG :          File {'channel': '2', 'channelName': '2 Shortpass', 'filename': 'soma_gcamp_t-z_ ...}\n",
      "misc_tests_01 :      DEBUG :          ExtraParameters {'lastGoodFrame': '0'}\n",
      "misc_tests_01 :      DEBUG :          PVStateShard {}\n"
     ]
    }
   ],
   "source": [
    "print_xml(xml_root, recursive=True, child_limit=50)"
   ]
  },
  {
   "cell_type": "code",
   "execution_count": null,
   "id": "57034265-f20c-4f93-ad63-7c3ca6865f36",
   "metadata": {},
   "outputs": [],
   "source": []
  }
 ],
 "metadata": {
  "kernelspec": {
   "display_name": "Python 3",
   "language": "python",
   "name": "python3"
  },
  "language_info": {
   "codemirror_mode": {
    "name": "ipython",
    "version": 3
   },
   "file_extension": ".py",
   "mimetype": "text/x-python",
   "name": "python",
   "nbconvert_exporter": "python",
   "pygments_lexer": "ipython3",
   "version": "3.8.11"
  }
 },
 "nbformat": 4,
 "nbformat_minor": 5
}
