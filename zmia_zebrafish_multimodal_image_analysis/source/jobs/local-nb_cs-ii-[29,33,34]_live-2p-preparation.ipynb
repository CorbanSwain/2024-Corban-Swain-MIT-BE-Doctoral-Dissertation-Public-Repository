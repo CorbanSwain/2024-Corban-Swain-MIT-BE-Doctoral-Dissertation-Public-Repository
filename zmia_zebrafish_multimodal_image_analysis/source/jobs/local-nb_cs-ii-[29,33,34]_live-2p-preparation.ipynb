{
 "cells": [
  {
   "cell_type": "markdown",
   "id": "7492e3022e699613",
   "metadata": {
    "collapsed": false,
    "jupyter": {
     "outputs_hidden": false
    }
   },
   "source": [
    "# Conversion of Raw 2-Photon Imaging Data for Sharing with Annotations\n",
    "\n",
    "## 1. Let's begin with importing the config files"
   ]
  },
  {
   "cell_type": "code",
   "execution_count": 1,
   "id": "73167df0ba479e45",
   "metadata": {
    "ExecuteTime": {
     "end_time": "2024-01-09T15:56:10.506731200Z",
     "start_time": "2024-01-09T15:56:09.597820500Z"
    },
    "collapsed": false,
    "jupyter": {
     "outputs_hidden": false
    }
   },
   "outputs": [],
   "source": [
    "# base and metaprogramming imports\n",
    "from __future__ import annotations\n",
    "import os\n",
    "import sys\n",
    "import itertools as it\n",
    "import pprint as pp\n",
    "from typing import Optional\n",
    "import warnings\n",
    "\n",
    "# analysis imports\n",
    "import numpy as np\n",
    "import pandas as pd\n",
    "\n",
    "# visualization imports\n",
    "import napari\n",
    "import matplotlib as mpl\n",
    "import matplotlib.pyplot as plt\n",
    "import seaborn as sns\n",
    "\n",
    "# ipynb-specific imports\n",
    "try:\n",
    "    import ipynbname\n",
    "except Exception as e:\n",
    "    warnings.warn(f'`ipynbname` module import failed with error: {e!r}')\n",
    "    ipynbname = None\n",
    "    \n",
    "if ipynbname is not None:\n",
    "    _file = ipynbname.path()\n",
    "else:\n",
    "    _file = ''\n",
    "    \n",
    "jobs_dir = os.path.split(_file)[0]\n",
    "sources_dir = os.path.abspath(os.path.join(jobs_dir, '..'))\n",
    "repo_dir = os.path.abspath(os.path.join(sources_dir, '..'))\n",
    "config_dir = os.path.abspath(os.path.join(repo_dir, 'configs'))\n",
    "\n",
    "# add sources directory to path\n",
    "if sources_dir not in sys.path:\n",
    "    sys.path.append(sources_dir)\n",
    "\n",
    "# local imports\n",
    "import c_swain_python_utils as csutils\n",
    "from utilities import *\n",
    "import imaging_dataset as imd\n",
    "import prairie_view_imports as pvi\n",
    "\n",
    "_name = csutils.no_ext_basename(_file)"
   ]
  },
  {
   "cell_type": "code",
   "execution_count": 2,
   "id": "7c19bcfde93e59db",
   "metadata": {
    "ExecuteTime": {
     "end_time": "2024-01-09T15:56:11.084399700Z",
     "start_time": "2024-01-09T15:56:11.067426200Z"
    },
    "collapsed": false,
    "jupyter": {
     "outputs_hidden": false
    }
   },
   "outputs": [],
   "source": [
    "# plotting defaults\n",
    "sns.set_style('ticks')"
   ]
  },
  {
   "cell_type": "code",
   "execution_count": 3,
   "id": "7e65c0c3222514ef",
   "metadata": {
    "ExecuteTime": {
     "end_time": "2024-01-09T15:56:11.881263800Z",
     "start_time": "2024-01-09T15:56:11.861296Z"
    },
    "collapsed": false,
    "jupyter": {
     "outputs_hidden": false
    }
   },
   "outputs": [],
   "source": [
    "# logging setup\n",
    "log = csutils.get_logger(_name)\n",
    "\n",
    "debug_mode = False\n",
    "default_window_level = 'debug'\n",
    "\n",
    "log_path = os.path.join(sources_dir, '..', 'logs', f'{_file}.log')\n",
    "csutils.apply_standard_logging_config(\n",
    "    file_path=log_path,\n",
    "    window_level='debug' if debug_mode else default_window_level,\n",
    "    window_format='debug' if debug_mode else 'default')"
   ]
  },
  {
   "cell_type": "code",
   "execution_count": 4,
   "id": "e4885f3aa9c240d3",
   "metadata": {
    "ExecuteTime": {
     "end_time": "2024-01-09T15:56:13.426102500Z",
     "start_time": "2024-01-09T15:56:13.369198300Z"
    },
    "collapsed": false,
    "jupyter": {
     "outputs_hidden": false
    }
   },
   "outputs": [
    {
     "name": "stdout",
     "output_type": "stream",
     "text": [
      "local-nb_cs-ii-[29,33,34]_live-2p-preparation (  15): INFO : Matched 16 live datasets.\n"
     ]
    }
   ],
   "source": [
    "config_list = [\n",
    "    'cs-ii-29_config.yml',\n",
    "    'cs-ii-33_config.yml',\n",
    "    'cs-ii-34_config.yml']\n",
    "\n",
    "config_list = [ZMIAConfig(os.path.join(config_dir, c)) \n",
    "               for c in config_list]\n",
    "\n",
    "all_dataset_infos = sum([c.dataset_list for c in config_list], [])\n",
    "all_2p_live_dataset_infos = [\n",
    "    di for di in all_dataset_infos                    \n",
    "    if (di.type == 'two-photon' and di.run_id is not None)]\n",
    "\n",
    "num_matched_datasets = len(all_2p_live_dataset_infos)\n",
    "log.info('Matched {:d} live datasets.', num_matched_datasets)"
   ]
  },
  {
   "cell_type": "code",
   "execution_count": 5,
   "id": "7ef424103154976d",
   "metadata": {
    "ExecuteTime": {
     "end_time": "2024-01-09T16:57:18.755017800Z",
     "start_time": "2024-01-09T15:56:16.476569700Z"
    },
    "collapsed": false,
    "jupyter": {
     "outputs_hidden": false
    }
   },
   "outputs": [
    {
     "name": "stdout",
     "output_type": "stream",
     "text": [
      "local-nb_cs-ii-[29,33,34]_live-2p-preparation (   4): INFO : >>>>>>>>>>>>>>> Loading Dataset 1 of 16 <<<<<<<<<<<<<<<\n",
      "prairie_view_imports (2745): INFO : Loading dataset (two-photon-fish-29B_run-395_2p-tz) from config cs-ii-29_all.\n",
      "prairie_view_imports (1534): INFO : Attempting to load dataset from cache.\n",
      "prairie_view_imports (1551): INFO : Loading of dataset from cache was successful.\n",
      "prairie_view_imports (1564): INFO : Loading in cached images.\n",
      "prairie_view_imports (1572): INFO : Loading in of cached images is sucessful.\n",
      "imaging_dataset (1051): INFO : Categorized PVDataset as PVDatasetCategory.Z_STACK_IMAGE|TZ_SERIES_IMAGE|MULTI_SEQUENCE\n",
      "imaging_dataset (1058): INFO : Initializing ImagingDataset(s) from prairie view dataset PVDataset(name='two-photon-fish-29B_run-395_2p-tz', num_sequences=855)\n",
      "imaging_dataset ( 699): INFO : Attempting to load imaging dataset from cache.\n",
      "local-nb_cs-ii-[29,33,34]_live-2p-preparation (  11): INFO : Loaded ImagingDataset(name='two-photon-fish-29B_run-395_2p-tz', shape=(855, 40, 362, 512))\n",
      "local-nb_cs-ii-[29,33,34]_live-2p-preparation (   4): INFO : >>>>>>>>>>>>>>> Loading Dataset 2 of 16 <<<<<<<<<<<<<<<\n",
      "prairie_view_imports (2745): INFO : Loading dataset (two-photon-fish-29B_run-396_2p-tz) from config cs-ii-29_all.\n",
      "prairie_view_imports (1534): INFO : Attempting to load dataset from cache.\n",
      "prairie_view_imports (1551): INFO : Loading of dataset from cache was successful.\n",
      "prairie_view_imports (1564): INFO : Loading in cached images.\n",
      "prairie_view_imports (1572): INFO : Loading in of cached images is sucessful.\n",
      "imaging_dataset (1051): INFO : Categorized PVDataset as PVDatasetCategory.Z_STACK_IMAGE|TZ_SERIES_IMAGE|MULTI_SEQUENCE\n",
      "imaging_dataset (1058): INFO : Initializing ImagingDataset(s) from prairie view dataset PVDataset(name='two-photon-fish-29B_run-396_2p-tz', num_sequences=855)\n",
      "imaging_dataset ( 699): INFO : Attempting to load imaging dataset from cache.\n",
      "local-nb_cs-ii-[29,33,34]_live-2p-preparation (  11): INFO : Loaded ImagingDataset(name='two-photon-fish-29B_run-396_2p-tz', shape=(855, 40, 362, 512))\n",
      "local-nb_cs-ii-[29,33,34]_live-2p-preparation (   4): INFO : >>>>>>>>>>>>>>> Loading Dataset 3 of 16 <<<<<<<<<<<<<<<\n",
      "prairie_view_imports (2745): INFO : Loading dataset (two-photon-fish-29B_run-398_2p-tz) from config cs-ii-29_all.\n",
      "prairie_view_imports (1534): INFO : Attempting to load dataset from cache.\n",
      "prairie_view_imports (1551): INFO : Loading of dataset from cache was successful.\n",
      "prairie_view_imports (1564): INFO : Loading in cached images.\n",
      "prairie_view_imports (1572): INFO : Loading in of cached images is sucessful.\n",
      "imaging_dataset (1051): INFO : Categorized PVDataset as PVDatasetCategory.Z_STACK_IMAGE|TZ_SERIES_IMAGE|MULTI_SEQUENCE\n",
      "imaging_dataset (1058): INFO : Initializing ImagingDataset(s) from prairie view dataset PVDataset(name='two-photon-fish-29B_run-398_2p-tz', num_sequences=1710)\n",
      "imaging_dataset ( 699): INFO : Attempting to load imaging dataset from cache.\n",
      "local-nb_cs-ii-[29,33,34]_live-2p-preparation (  11): INFO : Loaded ImagingDataset(name='two-photon-fish-29B_run-398_2p-tz', shape=(1710, 20, 362, 512))\n",
      "local-nb_cs-ii-[29,33,34]_live-2p-preparation (   4): INFO : >>>>>>>>>>>>>>> Loading Dataset 4 of 16 <<<<<<<<<<<<<<<\n",
      "prairie_view_imports (2745): INFO : Loading dataset (two-photon-fish-29B_run-399_2p-tz) from config cs-ii-29_all.\n",
      "prairie_view_imports (1534): INFO : Attempting to load dataset from cache.\n",
      "prairie_view_imports (1551): INFO : Loading of dataset from cache was successful.\n",
      "prairie_view_imports (1564): INFO : Loading in cached images.\n",
      "prairie_view_imports (1572): INFO : Loading in of cached images is sucessful.\n",
      "imaging_dataset (1051): INFO : Categorized PVDataset as PVDatasetCategory.Z_STACK_IMAGE|TZ_SERIES_IMAGE|MULTI_SEQUENCE\n",
      "imaging_dataset (1058): INFO : Initializing ImagingDataset(s) from prairie view dataset PVDataset(name='two-photon-fish-29B_run-399_2p-tz', num_sequences=1710)\n",
      "imaging_dataset ( 699): INFO : Attempting to load imaging dataset from cache.\n",
      "local-nb_cs-ii-[29,33,34]_live-2p-preparation (  11): INFO : Loaded ImagingDataset(name='two-photon-fish-29B_run-399_2p-tz', shape=(1710, 20, 362, 512))\n",
      "local-nb_cs-ii-[29,33,34]_live-2p-preparation (   4): INFO : >>>>>>>>>>>>>>> Loading Dataset 5 of 16 <<<<<<<<<<<<<<<\n",
      "prairie_view_imports (2745): INFO : Loading dataset (two-photon-cs-ii-33_fish-A_run-188_2p-tz) from config cs-ii-33.\n",
      "prairie_view_imports (1534): INFO : Attempting to load dataset from cache.\n",
      "prairie_view_imports (1551): INFO : Loading of dataset from cache was successful.\n",
      "prairie_view_imports (1564): INFO : Loading in cached images.\n",
      "prairie_view_imports (1572): INFO : Loading in of cached images is sucessful.\n",
      "imaging_dataset (1051): INFO : Categorized PVDataset as PVDatasetCategory.Z_STACK_IMAGE|TZ_SERIES_IMAGE|MULTI_SEQUENCE\n",
      "imaging_dataset (1058): INFO : Initializing ImagingDataset(s) from prairie view dataset PVDataset(name='two-photon-cs-ii-33_fish-A_run-188_2p-tz', num_sequences=1546)\n",
      "imaging_dataset ( 699): INFO : Attempting to load imaging dataset from cache.\n",
      "local-nb_cs-ii-[29,33,34]_live-2p-preparation (  11): INFO : Loaded ImagingDataset(name='two-photon-cs-ii-33_fish-A_run-188_2p-tz', shape=(1546, 33, 371, 512))\n",
      "local-nb_cs-ii-[29,33,34]_live-2p-preparation (   4): INFO : >>>>>>>>>>>>>>> Loading Dataset 6 of 16 <<<<<<<<<<<<<<<\n",
      "prairie_view_imports (2745): INFO : Loading dataset (two-photon-cs-ii-33_fish-A_run-189_2p-tz) from config cs-ii-33.\n",
      "prairie_view_imports (1534): INFO : Attempting to load dataset from cache.\n",
      "prairie_view_imports (1551): INFO : Loading of dataset from cache was successful.\n",
      "prairie_view_imports (1564): INFO : Loading in cached images.\n",
      "prairie_view_imports (1572): INFO : Loading in of cached images is sucessful.\n",
      "imaging_dataset (1051): INFO : Categorized PVDataset as PVDatasetCategory.Z_STACK_IMAGE|TZ_SERIES_IMAGE|MULTI_SEQUENCE\n",
      "imaging_dataset (1058): INFO : Initializing ImagingDataset(s) from prairie view dataset PVDataset(name='two-photon-cs-ii-33_fish-A_run-189_2p-tz', num_sequences=1546)\n",
      "imaging_dataset ( 699): INFO : Attempting to load imaging dataset from cache.\n",
      "local-nb_cs-ii-[29,33,34]_live-2p-preparation (  11): INFO : Loaded ImagingDataset(name='two-photon-cs-ii-33_fish-A_run-189_2p-tz', shape=(1546, 33, 371, 512))\n",
      "local-nb_cs-ii-[29,33,34]_live-2p-preparation (   4): INFO : >>>>>>>>>>>>>>> Loading Dataset 7 of 16 <<<<<<<<<<<<<<<\n",
      "prairie_view_imports (2745): INFO : Loading dataset (two-photon-cs-ii-33_fish-A_run-190_2p-tz) from config cs-ii-33.\n",
      "prairie_view_imports (1534): INFO : Attempting to load dataset from cache.\n",
      "prairie_view_imports (1551): INFO : Loading of dataset from cache was successful.\n",
      "prairie_view_imports (1564): INFO : Loading in cached images.\n",
      "prairie_view_imports (1572): INFO : Loading in of cached images is sucessful.\n",
      "imaging_dataset (1051): INFO : Categorized PVDataset as PVDatasetCategory.Z_STACK_IMAGE|TZ_SERIES_IMAGE|MULTI_SEQUENCE\n",
      "imaging_dataset (1058): INFO : Initializing ImagingDataset(s) from prairie view dataset PVDataset(name='two-photon-cs-ii-33_fish-A_run-190_2p-tz', num_sequences=1546)\n",
      "imaging_dataset ( 699): INFO : Attempting to load imaging dataset from cache.\n",
      "local-nb_cs-ii-[29,33,34]_live-2p-preparation (  11): INFO : Loaded ImagingDataset(name='two-photon-cs-ii-33_fish-A_run-190_2p-tz', shape=(1546, 33, 371, 512))\n",
      "local-nb_cs-ii-[29,33,34]_live-2p-preparation (   4): INFO : >>>>>>>>>>>>>>> Loading Dataset 8 of 16 <<<<<<<<<<<<<<<\n",
      "prairie_view_imports (2745): INFO : Loading dataset (two-photon-cs-ii-33_fish-A_run-195_2p-tz) from config cs-ii-33.\n",
      "prairie_view_imports (1534): INFO : Attempting to load dataset from cache.\n"
     ]
    },
    {
     "name": "stderr",
     "output_type": "stream",
     "text": [
      "prairie_view_imports (1553): ERROR : Initialization of dataset from cache failed.\n",
      "Traceback (most recent call last):\n",
      "  File \"I:\\CorbanSwain\\repos\\zmia\\source\\prairie_view_imports.py\", line 1539, in _init_from_cache\n",
      "    cache_object: _PVDatasetCache = pickle.load(_file)\n",
      "_pickle.UnpicklingError: pickle data was truncated\n"
     ]
    },
    {
     "name": "stdout",
     "output_type": "stream",
     "text": [
      "prairie_view_imports (1556): INFO : Falling back to initialize dataset from xml.\n",
      "prairie_view_imports (1492): INFO : Importing dataset metadata from xml.\n",
      "prairie_view_imports (1621): INFO : Caching dataset to disk.\n",
      "prairie_view_imports (1655): INFO : Loading up to 51018 2D image(s) from 1546 image files on disk; this may take some time.\n",
      "prairie_view_imports (1670): INFO : Loading images using 32 parallel processes.\n",
      "prairie_view_imports (1698): INFO : All images loaded.\n"
     ]
    },
    {
     "name": "stderr",
     "output_type": "stream",
     "text": [
      "local-nb_cs-ii-[29,33,34]_live-2p-preparation (   9): ERROR : Failed to load dataset. Failed with error:\n",
      "Traceback (most recent call last):\n",
      "  File \"C:\\Users\\CorbanSwain\\AppData\\Local\\Temp\\ipykernel_21152\\3884351420.py\", line 6, in <module>\n",
      "    imaging_data = imd.ImagingDataset.from_dataset_info(dataset_info)\n",
      "  File \"I:\\CorbanSwain\\repos\\zmia\\source\\imaging_dataset.py\", line 858, in from_dataset_info\n",
      "    return cls.from_dataset(loader(dataset_info=dataset_info),\n",
      "  File \"I:\\CorbanSwain\\repos\\zmia\\source\\prairie_view_imports.py\", line 2749, in load_dataset\n",
      "    return PVDataset(dataset_info.full_path, **kwargs)\n",
      "  File \"I:\\CorbanSwain\\repos\\zmia\\source\\prairie_view_imports.py\", line 1386, in __init__\n",
      "    self._init_from_path(path,\n",
      "  File \"I:\\CorbanSwain\\repos\\zmia\\source\\prairie_view_imports.py\", line 1485, in _init_from_path\n",
      "    init_function(**init_func_kwargs)\n",
      "  File \"I:\\CorbanSwain\\repos\\zmia\\source\\prairie_view_imports.py\", line 1562, in _init_from_cache\n",
      "    if cache_object.images is not None:\n",
      "UnboundLocalError: local variable 'cache_object' referenced before assignment\n"
     ]
    },
    {
     "name": "stdout",
     "output_type": "stream",
     "text": [
      "local-nb_cs-ii-[29,33,34]_live-2p-preparation (   4): INFO : >>>>>>>>>>>>>>> Loading Dataset 9 of 16 <<<<<<<<<<<<<<<\n",
      "prairie_view_imports (2745): INFO : Loading dataset (two-photon-ref-cs-ii-34_fish-A_run-202_2p-tz) from config cs-ii-34.\n",
      "prairie_view_imports (1492): INFO : Importing dataset metadata from xml.\n",
      "prairie_view_imports (1621): INFO : Caching dataset to disk.\n",
      "prairie_view_imports (1655): INFO : Loading up to 31720 2D image(s) from 793 image files on disk; this may take some time.\n",
      "prairie_view_imports (1670): INFO : Loading images using 32 parallel processes.\n",
      "prairie_view_imports (1698): INFO : All images loaded.\n",
      "imaging_dataset (1051): INFO : Categorized PVDataset as PVDatasetCategory.Z_STACK_IMAGE|TZ_SERIES_IMAGE|MULTI_SEQUENCE\n",
      "imaging_dataset (1058): INFO : Initializing ImagingDataset(s) from prairie view dataset PVDataset(name='two-photon-ref-cs-ii-34_fish-A_run-202_2p-tz', num_sequences=793)\n",
      "imaging_dataset ( 699): INFO : Attempting to load imaging dataset from cache.\n",
      "imaging_dataset ( 710): INFO : Cache file not found.\n",
      "prairie_view_imports (1655): INFO : Loading up to 31720 2D image(s) from 793 image files on disk; this may take some time.\n",
      "prairie_view_imports (1691): INFO : All image files already loaded.\n",
      "imaging_dataset (1075): INFO : Using dataset category to convert to imaging dataset.\n",
      "imaging_dataset (1104): INFO : Processing multi-dimensional data and extracting coordinate information.\n",
      "imaging_dataset (1154): INFO : Generating image_ndarray from raw dataset.\n",
      "imaging_dataset ( 699): INFO : Attempting to load imaging dataset from cache.\n",
      "imaging_dataset ( 710): INFO : Cache file not found.\n",
      "imaging_dataset ( 681): INFO : Caching imaging dataset to disk.\n",
      "imaging_dataset (1194): INFO : Conversion into imaging dataset and structuring of ndarray complete.\n",
      "local-nb_cs-ii-[29,33,34]_live-2p-preparation (  11): INFO : Loaded ImagingDataset(name='two-photon-ref-cs-ii-34_fish-A_run-202_2p-tz', shape=(793, 40, 367, 512))\n",
      "local-nb_cs-ii-[29,33,34]_live-2p-preparation (   4): INFO : >>>>>>>>>>>>>>> Loading Dataset 10 of 16 <<<<<<<<<<<<<<<\n",
      "prairie_view_imports (2745): INFO : Loading dataset (two-photon-ref-cs-ii-34_fish-A_run-203_2p-tz) from config cs-ii-34.\n",
      "prairie_view_imports (1492): INFO : Importing dataset metadata from xml.\n",
      "prairie_view_imports (1621): INFO : Caching dataset to disk.\n",
      "prairie_view_imports (1655): INFO : Loading up to 31720 2D image(s) from 793 image files on disk; this may take some time.\n",
      "prairie_view_imports (1670): INFO : Loading images using 32 parallel processes.\n",
      "prairie_view_imports (1698): INFO : All images loaded.\n",
      "imaging_dataset (1051): INFO : Categorized PVDataset as PVDatasetCategory.Z_STACK_IMAGE|TZ_SERIES_IMAGE|MULTI_SEQUENCE\n",
      "imaging_dataset (1058): INFO : Initializing ImagingDataset(s) from prairie view dataset PVDataset(name='two-photon-ref-cs-ii-34_fish-A_run-203_2p-tz', num_sequences=793)\n",
      "imaging_dataset ( 699): INFO : Attempting to load imaging dataset from cache.\n",
      "imaging_dataset ( 710): INFO : Cache file not found.\n",
      "prairie_view_imports (1655): INFO : Loading up to 31720 2D image(s) from 793 image files on disk; this may take some time.\n",
      "prairie_view_imports (1691): INFO : All image files already loaded.\n",
      "imaging_dataset (1075): INFO : Using dataset category to convert to imaging dataset.\n",
      "imaging_dataset (1104): INFO : Processing multi-dimensional data and extracting coordinate information.\n",
      "imaging_dataset (1154): INFO : Generating image_ndarray from raw dataset.\n",
      "imaging_dataset ( 699): INFO : Attempting to load imaging dataset from cache.\n",
      "imaging_dataset ( 710): INFO : Cache file not found.\n",
      "imaging_dataset ( 681): INFO : Caching imaging dataset to disk.\n",
      "imaging_dataset (1194): INFO : Conversion into imaging dataset and structuring of ndarray complete.\n",
      "local-nb_cs-ii-[29,33,34]_live-2p-preparation (  11): INFO : Loaded ImagingDataset(name='two-photon-ref-cs-ii-34_fish-A_run-203_2p-tz', shape=(793, 40, 367, 512))\n",
      "local-nb_cs-ii-[29,33,34]_live-2p-preparation (   4): INFO : >>>>>>>>>>>>>>> Loading Dataset 11 of 16 <<<<<<<<<<<<<<<\n",
      "prairie_view_imports (2745): INFO : Loading dataset (two-photon-ref-cs-ii-34_fish-A_run-204_2p-tz) from config cs-ii-34.\n",
      "prairie_view_imports (1492): INFO : Importing dataset metadata from xml.\n",
      "prairie_view_imports (1621): INFO : Caching dataset to disk.\n",
      "prairie_view_imports (1655): INFO : Loading up to 31720 2D image(s) from 793 image files on disk; this may take some time.\n",
      "prairie_view_imports (1670): INFO : Loading images using 32 parallel processes.\n",
      "prairie_view_imports (1698): INFO : All images loaded.\n",
      "imaging_dataset (1051): INFO : Categorized PVDataset as PVDatasetCategory.Z_STACK_IMAGE|TZ_SERIES_IMAGE|MULTI_SEQUENCE\n",
      "imaging_dataset (1058): INFO : Initializing ImagingDataset(s) from prairie view dataset PVDataset(name='two-photon-ref-cs-ii-34_fish-A_run-204_2p-tz', num_sequences=793)\n",
      "imaging_dataset ( 699): INFO : Attempting to load imaging dataset from cache.\n",
      "imaging_dataset ( 710): INFO : Cache file not found.\n",
      "prairie_view_imports (1655): INFO : Loading up to 31720 2D image(s) from 793 image files on disk; this may take some time.\n",
      "prairie_view_imports (1691): INFO : All image files already loaded.\n",
      "imaging_dataset (1075): INFO : Using dataset category to convert to imaging dataset.\n",
      "imaging_dataset (1104): INFO : Processing multi-dimensional data and extracting coordinate information.\n",
      "imaging_dataset (1154): INFO : Generating image_ndarray from raw dataset.\n",
      "imaging_dataset ( 699): INFO : Attempting to load imaging dataset from cache.\n",
      "imaging_dataset ( 710): INFO : Cache file not found.\n",
      "imaging_dataset ( 681): INFO : Caching imaging dataset to disk.\n",
      "imaging_dataset (1194): INFO : Conversion into imaging dataset and structuring of ndarray complete.\n",
      "local-nb_cs-ii-[29,33,34]_live-2p-preparation (  11): INFO : Loaded ImagingDataset(name='two-photon-ref-cs-ii-34_fish-A_run-204_2p-tz', shape=(793, 40, 367, 512))\n",
      "local-nb_cs-ii-[29,33,34]_live-2p-preparation (   4): INFO : >>>>>>>>>>>>>>> Loading Dataset 12 of 16 <<<<<<<<<<<<<<<\n",
      "prairie_view_imports (2745): INFO : Loading dataset (two-photon-ref-cs-ii-34_fish-A_run-205_2p-tz) from config cs-ii-34.\n",
      "prairie_view_imports (1492): INFO : Importing dataset metadata from xml.\n",
      "prairie_view_imports (1621): INFO : Caching dataset to disk.\n",
      "prairie_view_imports (1655): INFO : Loading up to 31720 2D image(s) from 793 image files on disk; this may take some time.\n",
      "prairie_view_imports (1670): INFO : Loading images using 32 parallel processes.\n",
      "prairie_view_imports (1698): INFO : All images loaded.\n",
      "imaging_dataset (1051): INFO : Categorized PVDataset as PVDatasetCategory.Z_STACK_IMAGE|TZ_SERIES_IMAGE|MULTI_SEQUENCE\n",
      "imaging_dataset (1058): INFO : Initializing ImagingDataset(s) from prairie view dataset PVDataset(name='two-photon-ref-cs-ii-34_fish-A_run-205_2p-tz', num_sequences=793)\n",
      "imaging_dataset ( 699): INFO : Attempting to load imaging dataset from cache.\n",
      "imaging_dataset ( 710): INFO : Cache file not found.\n",
      "prairie_view_imports (1655): INFO : Loading up to 31720 2D image(s) from 793 image files on disk; this may take some time.\n",
      "prairie_view_imports (1691): INFO : All image files already loaded.\n",
      "imaging_dataset (1075): INFO : Using dataset category to convert to imaging dataset.\n",
      "imaging_dataset (1104): INFO : Processing multi-dimensional data and extracting coordinate information.\n",
      "imaging_dataset (1154): INFO : Generating image_ndarray from raw dataset.\n",
      "imaging_dataset ( 699): INFO : Attempting to load imaging dataset from cache.\n",
      "imaging_dataset ( 710): INFO : Cache file not found.\n",
      "imaging_dataset ( 681): INFO : Caching imaging dataset to disk.\n",
      "imaging_dataset (1194): INFO : Conversion into imaging dataset and structuring of ndarray complete.\n",
      "local-nb_cs-ii-[29,33,34]_live-2p-preparation (  11): INFO : Loaded ImagingDataset(name='two-photon-ref-cs-ii-34_fish-A_run-205_2p-tz', shape=(793, 40, 367, 512))\n",
      "local-nb_cs-ii-[29,33,34]_live-2p-preparation (   4): INFO : >>>>>>>>>>>>>>> Loading Dataset 13 of 16 <<<<<<<<<<<<<<<\n",
      "prairie_view_imports (2745): INFO : Loading dataset (two-photon-ref-cs-ii-34_fish-A_run-206_2p-tz) from config cs-ii-34.\n",
      "prairie_view_imports (1492): INFO : Importing dataset metadata from xml.\n",
      "prairie_view_imports (1621): INFO : Caching dataset to disk.\n",
      "prairie_view_imports (1655): INFO : Loading up to 31720 2D image(s) from 793 image files on disk; this may take some time.\n",
      "prairie_view_imports (1670): INFO : Loading images using 32 parallel processes.\n",
      "prairie_view_imports (1698): INFO : All images loaded.\n",
      "imaging_dataset (1051): INFO : Categorized PVDataset as PVDatasetCategory.Z_STACK_IMAGE|TZ_SERIES_IMAGE|MULTI_SEQUENCE\n",
      "imaging_dataset (1058): INFO : Initializing ImagingDataset(s) from prairie view dataset PVDataset(name='two-photon-ref-cs-ii-34_fish-A_run-206_2p-tz', num_sequences=793)\n",
      "imaging_dataset ( 699): INFO : Attempting to load imaging dataset from cache.\n",
      "imaging_dataset ( 710): INFO : Cache file not found.\n",
      "prairie_view_imports (1655): INFO : Loading up to 31720 2D image(s) from 793 image files on disk; this may take some time.\n",
      "prairie_view_imports (1691): INFO : All image files already loaded.\n",
      "imaging_dataset (1075): INFO : Using dataset category to convert to imaging dataset.\n",
      "imaging_dataset (1104): INFO : Processing multi-dimensional data and extracting coordinate information.\n",
      "imaging_dataset (1154): INFO : Generating image_ndarray from raw dataset.\n",
      "imaging_dataset ( 699): INFO : Attempting to load imaging dataset from cache.\n",
      "imaging_dataset ( 710): INFO : Cache file not found.\n",
      "imaging_dataset ( 681): INFO : Caching imaging dataset to disk.\n",
      "imaging_dataset (1194): INFO : Conversion into imaging dataset and structuring of ndarray complete.\n",
      "local-nb_cs-ii-[29,33,34]_live-2p-preparation (  11): INFO : Loaded ImagingDataset(name='two-photon-ref-cs-ii-34_fish-A_run-206_2p-tz', shape=(793, 40, 367, 512))\n",
      "local-nb_cs-ii-[29,33,34]_live-2p-preparation (   4): INFO : >>>>>>>>>>>>>>> Loading Dataset 14 of 16 <<<<<<<<<<<<<<<\n",
      "prairie_view_imports (2745): INFO : Loading dataset (two-photon-ref-cs-ii-34_fish-A_run-207_2p-tz) from config cs-ii-34.\n",
      "prairie_view_imports (1492): INFO : Importing dataset metadata from xml.\n",
      "prairie_view_imports (1621): INFO : Caching dataset to disk.\n",
      "prairie_view_imports (1655): INFO : Loading up to 27888 2D image(s) from 664 image files on disk; this may take some time.\n",
      "prairie_view_imports (1670): INFO : Loading images using 32 parallel processes.\n",
      "prairie_view_imports (1698): INFO : All images loaded.\n",
      "imaging_dataset (1051): INFO : Categorized PVDataset as PVDatasetCategory.Z_STACK_IMAGE|TZ_SERIES_IMAGE|MULTI_SEQUENCE\n",
      "imaging_dataset (1058): INFO : Initializing ImagingDataset(s) from prairie view dataset PVDataset(name='two-photon-ref-cs-ii-34_fish-A_run-207_2p-tz', num_sequences=664)\n",
      "imaging_dataset ( 699): INFO : Attempting to load imaging dataset from cache.\n",
      "imaging_dataset ( 710): INFO : Cache file not found.\n",
      "prairie_view_imports (1655): INFO : Loading up to 27888 2D image(s) from 664 image files on disk; this may take some time.\n",
      "prairie_view_imports (1691): INFO : All image files already loaded.\n",
      "imaging_dataset (1075): INFO : Using dataset category to convert to imaging dataset.\n",
      "imaging_dataset (1104): INFO : Processing multi-dimensional data and extracting coordinate information.\n",
      "imaging_dataset (1154): INFO : Generating image_ndarray from raw dataset.\n",
      "imaging_dataset ( 699): INFO : Attempting to load imaging dataset from cache.\n",
      "imaging_dataset ( 710): INFO : Cache file not found.\n",
      "imaging_dataset ( 681): INFO : Caching imaging dataset to disk.\n",
      "imaging_dataset (1194): INFO : Conversion into imaging dataset and structuring of ndarray complete.\n",
      "local-nb_cs-ii-[29,33,34]_live-2p-preparation (  11): INFO : Loaded ImagingDataset(name='two-photon-ref-cs-ii-34_fish-A_run-207_2p-tz', shape=(664, 40, 422, 514))\n",
      "local-nb_cs-ii-[29,33,34]_live-2p-preparation (   4): INFO : >>>>>>>>>>>>>>> Loading Dataset 15 of 16 <<<<<<<<<<<<<<<\n",
      "prairie_view_imports (2745): INFO : Loading dataset (two-photon-ref-cs-ii-34_fish-A_run-208_2p-tz) from config cs-ii-34.\n",
      "prairie_view_imports (1492): INFO : Importing dataset metadata from xml.\n",
      "prairie_view_imports (1621): INFO : Caching dataset to disk.\n",
      "prairie_view_imports (1655): INFO : Loading up to 45318 2D image(s) from 1079 image files on disk; this may take some time.\n",
      "prairie_view_imports (1670): INFO : Loading images using 32 parallel processes.\n",
      "prairie_view_imports (1698): INFO : All images loaded.\n",
      "imaging_dataset (1051): INFO : Categorized PVDataset as PVDatasetCategory.Z_STACK_IMAGE|TZ_SERIES_IMAGE|MULTI_SEQUENCE\n",
      "imaging_dataset (1058): INFO : Initializing ImagingDataset(s) from prairie view dataset PVDataset(name='two-photon-ref-cs-ii-34_fish-A_run-208_2p-tz', num_sequences=1079)\n",
      "imaging_dataset ( 699): INFO : Attempting to load imaging dataset from cache.\n",
      "imaging_dataset ( 710): INFO : Cache file not found.\n",
      "prairie_view_imports (1655): INFO : Loading up to 45318 2D image(s) from 1079 image files on disk; this may take some time.\n",
      "prairie_view_imports (1691): INFO : All image files already loaded.\n",
      "imaging_dataset (1075): INFO : Using dataset category to convert to imaging dataset.\n",
      "imaging_dataset (1104): INFO : Processing multi-dimensional data and extracting coordinate information.\n",
      "imaging_dataset (1154): INFO : Generating image_ndarray from raw dataset.\n",
      "imaging_dataset ( 699): INFO : Attempting to load imaging dataset from cache.\n",
      "imaging_dataset ( 710): INFO : Cache file not found.\n",
      "imaging_dataset ( 681): INFO : Caching imaging dataset to disk.\n",
      "imaging_dataset (1194): INFO : Conversion into imaging dataset and structuring of ndarray complete.\n",
      "local-nb_cs-ii-[29,33,34]_live-2p-preparation (  11): INFO : Loaded ImagingDataset(name='two-photon-ref-cs-ii-34_fish-A_run-208_2p-tz', shape=(1079, 42, 422, 514))\n",
      "local-nb_cs-ii-[29,33,34]_live-2p-preparation (   4): INFO : >>>>>>>>>>>>>>> Loading Dataset 16 of 16 <<<<<<<<<<<<<<<\n",
      "prairie_view_imports (2745): INFO : Loading dataset (two-photon-ref-cs-ii-34_fish-A_run-209_2p-tz) from config cs-ii-34.\n",
      "prairie_view_imports (1492): INFO : Importing dataset metadata from xml.\n",
      "prairie_view_imports (1621): INFO : Caching dataset to disk.\n",
      "prairie_view_imports (1655): INFO : Loading up to 38280 2D image(s) from 957 image files on disk; this may take some time.\n",
      "prairie_view_imports (1670): INFO : Loading images using 32 parallel processes.\n",
      "prairie_view_imports (1698): INFO : All images loaded.\n",
      "imaging_dataset (1051): INFO : Categorized PVDataset as PVDatasetCategory.Z_STACK_IMAGE|TZ_SERIES_IMAGE|MULTI_SEQUENCE\n",
      "imaging_dataset (1058): INFO : Initializing ImagingDataset(s) from prairie view dataset PVDataset(name='two-photon-ref-cs-ii-34_fish-A_run-209_2p-tz', num_sequences=957)\n",
      "imaging_dataset ( 699): INFO : Attempting to load imaging dataset from cache.\n",
      "imaging_dataset ( 710): INFO : Cache file not found.\n",
      "prairie_view_imports (1655): INFO : Loading up to 38280 2D image(s) from 957 image files on disk; this may take some time.\n",
      "prairie_view_imports (1691): INFO : All image files already loaded.\n",
      "imaging_dataset (1075): INFO : Using dataset category to convert to imaging dataset.\n",
      "imaging_dataset (1104): INFO : Processing multi-dimensional data and extracting coordinate information.\n",
      "imaging_dataset (1154): INFO : Generating image_ndarray from raw dataset.\n"
     ]
    },
    {
     "name": "stderr",
     "output_type": "stream",
     "text": [
      "local-nb_cs-ii-[29,33,34]_live-2p-preparation (   9): ERROR : Failed to load dataset. Failed with error:\n",
      "Traceback (most recent call last):\n",
      "  File \"C:\\Users\\CorbanSwain\\AppData\\Local\\Temp\\ipykernel_21152\\3884351420.py\", line 6, in <module>\n",
      "    imaging_data = imd.ImagingDataset.from_dataset_info(dataset_info)\n",
      "  File \"I:\\CorbanSwain\\repos\\zmia\\source\\imaging_dataset.py\", line 858, in from_dataset_info\n",
      "    return cls.from_dataset(loader(dataset_info=dataset_info),\n",
      "  File \"I:\\CorbanSwain\\repos\\zmia\\source\\imaging_dataset.py\", line 867, in from_dataset\n",
      "    return cls.from_pvdataset(dataset, **kwargs)\n",
      "  File \"I:\\CorbanSwain\\repos\\zmia\\source\\imaging_dataset.py\", line 1173, in from_pvdataset\n",
      "    assert len(single_2d_image) == 1, (\n",
      "AssertionError: Expected to receive a scalar PVDataList here; got PVDataList of len 0 instead.\n"
     ]
    }
   ],
   "source": [
    "datasets: list[Optional[imd.ImagingDataset]] = []\n",
    "dataset_info: ZMIADatasetInfo\n",
    "for i, dataset_info in enumerate(all_2p_live_dataset_infos):\n",
    "    log.info('>'*15 + ' Loading Dataset {:d} of {:d} ' + '<'*15, i+1, num_matched_datasets)\n",
    "    try:\n",
    "        imaging_data = imd.ImagingDataset.from_dataset_info(dataset_info)\n",
    "    except Exception as e:\n",
    "        imaging_data = None\n",
    "        log.error('Failed to load dataset. Failed with error:', exc_info=e)\n",
    "    else:\n",
    "        log.info(f'Loaded {imaging_data}')        \n",
    "        imaging_data.clear_cache(disk=False)\n",
    "    \n",
    "    datasets.append(imaging_data)"
   ]
  },
  {
   "cell_type": "code",
   "execution_count": 6,
   "id": "eb50834424fc270a",
   "metadata": {
    "ExecuteTime": {
     "end_time": "2024-01-09T21:36:29.169654500Z",
     "start_time": "2024-01-09T21:36:28.440191Z"
    },
    "collapsed": false,
    "jupyter": {
     "outputs_hidden": false
    }
   },
   "outputs": [
    {
     "ename": "AttributeError",
     "evalue": "'ImagingDataset' object has no attribute '_get_image_data_func'",
     "output_type": "error",
     "traceback": [
      "\u001b[1;31m---------------------------------------------------------------------------\u001b[0m",
      "\u001b[1;31mAttributeError\u001b[0m                            Traceback (most recent call last)",
      "Cell \u001b[1;32mIn[6], line 23\u001b[0m\n\u001b[0;32m     21\u001b[0m     imaging_data_slice \u001b[38;5;241m=\u001b[39m imaging_data\n\u001b[0;32m     22\u001b[0m \u001b[38;5;28;01melse\u001b[39;00m:\n\u001b[1;32m---> 23\u001b[0m     imaging_data_slice \u001b[38;5;241m=\u001b[39m \u001b[43mimaging_data\u001b[49m\u001b[38;5;241;43m.\u001b[39;49m\u001b[43mdrop_slices\u001b[49m\u001b[43m(\u001b[49m\u001b[43m[\u001b[49m\u001b[38;5;241;43m0\u001b[39;49m\u001b[43m,\u001b[49m\u001b[43m \u001b[49m\u001b[38;5;241;43m1\u001b[39;49m\u001b[43m]\u001b[49m\u001b[43m,\u001b[49m\u001b[43m \u001b[49m\u001b[43mimd\u001b[49m\u001b[38;5;241;43m.\u001b[39;49m\u001b[43mDim\u001b[49m\u001b[38;5;241;43m.\u001b[39;49m\u001b[43mZ\u001b[49m\u001b[43m)\u001b[49m        \n\u001b[0;32m     25\u001b[0m \u001b[38;5;66;03m# shape\u001b[39;00m\n\u001b[0;32m     26\u001b[0m shape_dict \u001b[38;5;241m=\u001b[39m imaging_data_slice\u001b[38;5;241m.\u001b[39mshape_dict\n",
      "File \u001b[1;32mI:\\CorbanSwain\\repos\\zmia\\source\\imaging_dataset.py:250\u001b[0m, in \u001b[0;36mImagingDataset.drop_slices\u001b[1;34m(self, slice_indexes, axis, in_place, **kwargs)\u001b[0m\n\u001b[0;32m    246\u001b[0m \u001b[38;5;28;01melse\u001b[39;00m:\n\u001b[0;32m    247\u001b[0m     \u001b[38;5;66;03m# axis is an instance of int\u001b[39;00m\n\u001b[0;32m    248\u001b[0m     slice_dim \u001b[38;5;241m=\u001b[39m \u001b[38;5;28mself\u001b[39m\u001b[38;5;241m.\u001b[39mdimensions[axis]\n\u001b[1;32m--> 250\u001b[0m kept_slices \u001b[38;5;241m=\u001b[39m [i \u001b[38;5;28;01mfor\u001b[39;00m i \u001b[38;5;129;01min\u001b[39;00m \u001b[38;5;28mrange\u001b[39m(\u001b[38;5;28;43mself\u001b[39;49m\u001b[38;5;241;43m.\u001b[39;49m\u001b[43mshape_dict\u001b[49m[slice_dim])\n\u001b[0;32m    251\u001b[0m                \u001b[38;5;28;01mif\u001b[39;00m (i \u001b[38;5;129;01mnot\u001b[39;00m \u001b[38;5;129;01min\u001b[39;00m slice_indexes)]\n\u001b[0;32m    252\u001b[0m kept_slices_bool \u001b[38;5;241m=\u001b[39m np\u001b[38;5;241m.\u001b[39mzeros((\u001b[38;5;28mself\u001b[39m\u001b[38;5;241m.\u001b[39mshape_dict[slice_dim], ),\n\u001b[0;32m    253\u001b[0m                             dtype\u001b[38;5;241m=\u001b[39m\u001b[38;5;28mbool\u001b[39m)\n\u001b[0;32m    254\u001b[0m kept_slices_bool[kept_slices] \u001b[38;5;241m=\u001b[39m \u001b[38;5;28;01mTrue\u001b[39;00m\n",
      "File \u001b[1;32mI:\\CorbanSwain\\repos\\zmia\\source\\imaging_dataset.py:802\u001b[0m, in \u001b[0;36mImagingDataset.shape_dict\u001b[1;34m(self)\u001b[0m\n\u001b[0;32m    800\u001b[0m \u001b[38;5;129m@property\u001b[39m\n\u001b[0;32m    801\u001b[0m \u001b[38;5;28;01mdef\u001b[39;00m \u001b[38;5;21mshape_dict\u001b[39m(\u001b[38;5;28mself\u001b[39m):\n\u001b[1;32m--> 802\u001b[0m     \u001b[38;5;28;01mreturn\u001b[39;00m \u001b[38;5;28mdict\u001b[39m(\u001b[38;5;28mzip\u001b[39m(\u001b[38;5;28mself\u001b[39m\u001b[38;5;241m.\u001b[39mdimensions, \u001b[38;5;28;43mself\u001b[39;49m\u001b[38;5;241;43m.\u001b[39;49m\u001b[43mshape\u001b[49m))\n",
      "File \u001b[1;32mI:\\CorbanSwain\\repos\\zmia\\source\\imaging_dataset.py:798\u001b[0m, in \u001b[0;36mImagingDataset.shape\u001b[1;34m(self)\u001b[0m\n\u001b[0;32m    795\u001b[0m \u001b[38;5;129m@property\u001b[39m\n\u001b[0;32m    796\u001b[0m \u001b[38;5;28;01mdef\u001b[39;00m \u001b[38;5;21mshape\u001b[39m(\u001b[38;5;28mself\u001b[39m):\n\u001b[0;32m    797\u001b[0m     \u001b[38;5;66;03m# FIXME - let's see if there's a more effecient way to do this\u001b[39;00m\n\u001b[1;32m--> 798\u001b[0m     \u001b[38;5;28;01mreturn\u001b[39;00m \u001b[38;5;28;43mself\u001b[39;49m\u001b[38;5;241;43m.\u001b[39;49m\u001b[43mget_image_data\u001b[49m\u001b[43m(\u001b[49m\u001b[43m)\u001b[49m\u001b[38;5;241m.\u001b[39mshape\n",
      "File \u001b[1;32mI:\\CorbanSwain\\repos\\zmia\\source\\imaging_dataset.py:584\u001b[0m, in \u001b[0;36mImagingDataset.get_image_data\u001b[1;34m(self, lazy, in_standard_dims)\u001b[0m\n\u001b[0;32m    582\u001b[0m     \u001b[38;5;28;01melse\u001b[39;00m:\n\u001b[0;32m    583\u001b[0m         out_data \u001b[38;5;241m=\u001b[39m \u001b[38;5;28mself\u001b[39m\u001b[38;5;241m.\u001b[39m_image_daskarray\u001b[38;5;241m.\u001b[39mcompute()\n\u001b[1;32m--> 584\u001b[0m \u001b[38;5;28;01melif\u001b[39;00m \u001b[38;5;28;43mself\u001b[39;49m\u001b[38;5;241;43m.\u001b[39;49m\u001b[43m_get_image_data_func\u001b[49m \u001b[38;5;129;01mis\u001b[39;00m \u001b[38;5;129;01mnot\u001b[39;00m \u001b[38;5;28;01mNone\u001b[39;00m:\n\u001b[0;32m    585\u001b[0m     log\u001b[38;5;241m.\u001b[39minfo(\u001b[38;5;124m'\u001b[39m\u001b[38;5;124mRunning function for retrieving/computing image data.\u001b[39m\u001b[38;5;124m'\u001b[39m)\n\u001b[0;32m    586\u001b[0m     out_data \u001b[38;5;241m=\u001b[39m \u001b[38;5;28mself\u001b[39m\u001b[38;5;241m.\u001b[39m_get_image_data_func()\n",
      "\u001b[1;31mAttributeError\u001b[0m: 'ImagingDataset' object has no attribute '_get_image_data_func'"
     ]
    }
   ],
   "source": [
    "for imaging_data in datasets:\n",
    "    # objective\n",
    "    metadata_dict = imaging_data.source_data.unique_metadata\n",
    "    obj_lens = metadata_dict.get_value(pvi.pvmk.OBJECTIVE_LENS)\n",
    "    \n",
    "    # bidirectional scan\n",
    "    is_bidir_scan = metadata_dict.get_value(pvi.pvmk.BIDIRECTIONAL_Z_SCAN)\n",
    "    \n",
    "    # x-pitch-um, y-pitch-um\n",
    "    x_pitch_um = metadata_dict.get_value((pvi.pvmk.MICRONS_PER_PIXEL, pvi.pvmk.X_AXIS))\n",
    "    y_pitch_um = metadata_dict.get_value((pvi.pvmk.MICRONS_PER_PIXEL, pvi.pvmk.Y_AXIS))\n",
    "    \n",
    "    # z-pitch-um\n",
    "    z_pitch_um = imaging_data.coordinates[\"z\"].median_pitch\n",
    "    \n",
    "    # volume-acquisition-rate-hz\n",
    "    acquisition_rate_hz = 1 / imaging_data.coordinates[\"time\"].median_pitch\n",
    "    \n",
    "    # slice data if it's not a bidirectional scan\n",
    "    if is_bidir_scan:\n",
    "        imaging_data_slice = imaging_data\n",
    "    else:\n",
    "        imaging_data_slice = imaging_data.drop_slices([0, 1], imd.Dim.Z)        \n",
    "    \n",
    "    # shape\n",
    "    shape_dict = imaging_data_slice.shape_dict\n",
    "    \n",
    "    select_metadata_dict = {\n",
    "        'x-pitch_um': x_pitch_um,\n",
    "        'y-pitch_um': y_pitch_um,\n",
    "        'z-pitch_um': z_pitch_um,\n",
    "        'acquisition-rate_hz': acquisition_rate_hz,\n",
    "        'is-bidirectional-z-scan': is_bidir_scan,\n",
    "        'shape_unitless': {\n",
    "            'x': shape_dict[Dim.X],\n",
    "            'y': shape_dict[Dim.Y],\n",
    "            'z': shape_dict[Dim.Z],\n",
    "            'time': shape_dict[Dim.TIME]},\n",
    "        'objective-lens': obj_lens\n",
    "    }\n",
    "    \n",
    "    pp.pprint(select_metadata_dict)\n",
    "    break"
   ]
  },
  {
   "cell_type": "code",
   "execution_count": null,
   "id": "803786c04f6e8ae7",
   "metadata": {
    "ExecuteTime": {
     "start_time": "2023-12-07T15:04:59.393244800Z"
    },
    "collapsed": false,
    "jupyter": {
     "outputs_hidden": false
    }
   },
   "outputs": [],
   "source": [
    "# metadata experiments\n",
    "# shape\n",
    "imaging_data.shape_dict\n",
    "log.info(f'{imaging_data_slice.shape_dict = }')\n",
    "\n",
    "# objective\n",
    "metadata_dict = imaging_data.source_data.unique_metadata\n",
    "log.info(f'{metadata_dict.get_value(pvi.pvmk.OBJECTIVE_LENS) = }')\n",
    "\n",
    "# bidirectional scan\n",
    "log.info(f'{metadata_dict.get_value(pvi.pvmk.BIDIRECTIONAL_Z_SCAN) = }')\n",
    "\n",
    "# x-pitch-um, y-pitch-um\n",
    "log.info(f'{metadata_dict.get_value((pvi.pvmk.MICRONS_PER_PIXEL, pvi.pvmk.X_AXIS)) = }')\n",
    "log.info(f'{metadata_dict.get_value((pvi.pvmk.MICRONS_PER_PIXEL, pvi.pvmk.Y_AXIS)) = }')\n",
    "\n",
    "# z-pitch-um\n",
    "log.info(f'{imaging_data.coordinates[\"z\"].median_pitch = }')\n",
    "\n",
    "# volume-acquisition-rate-hz\n",
    "log.info(f'{1 / imaging_data.coordinates[\"time\"].median_pitch = }')"
   ]
  },
  {
   "cell_type": "code",
   "execution_count": null,
   "id": "abd7778bb12a91a1",
   "metadata": {
    "collapsed": false,
    "jupyter": {
     "outputs_hidden": false
    }
   },
   "outputs": [],
   "source": []
  }
 ],
 "metadata": {
  "kernelspec": {
   "display_name": "Python 3 (ipykernel)",
   "language": "python",
   "name": "python3"
  },
  "language_info": {
   "codemirror_mode": {
    "name": "ipython",
    "version": 3
   },
   "file_extension": ".py",
   "mimetype": "text/x-python",
   "name": "python",
   "nbconvert_exporter": "python",
   "pygments_lexer": "ipython3",
   "version": "3.10.8"
  }
 },
 "nbformat": 4,
 "nbformat_minor": 5
}
