{
 "cells": [
  {
   "cell_type": "code",
   "execution_count": 1,
   "outputs": [],
   "source": [
    "# base and metaprogramming imports\n",
    "from __future__ import annotations\n",
    "import os\n",
    "import shutil\n",
    "import sys\n",
    "import itertools as it\n",
    "import pprint as pp\n",
    "from typing import Optional\n",
    "import warnings\n",
    "\n",
    "# analysis imports\n",
    "import h5py\n",
    "import numpy as np\n",
    "import pandas as pd\n",
    "import pandas\n",
    "from pandas.api.types import CategoricalDtype\n",
    "import scipy\n",
    "import scipy.ndimage\n",
    "import skimage as ski\n",
    "import ants\n",
    "\n",
    "# visualization imports\n",
    "import napari\n",
    "import matplotlib as mpl\n",
    "import matplotlib.pyplot as plt\n",
    "\n",
    "import seaborn as sns\n",
    "\n",
    "# ipynb-specific imports\n",
    "try:\n",
    "    import ipynbname\n",
    "except Exception as e:\n",
    "    warnings.warn(f'`ipynbname` module import failed with error: {e!r}')\n",
    "    ipynbname = None\n",
    "    \n",
    "if ipynbname is not None:\n",
    "    _file = ipynbname.path()\n",
    "else:\n",
    "    # manually set the full path to the current notebook below if `ipynbname` \n",
    "    # import fails\n",
    "    _file = ''\n",
    "    \n",
    "jobs_dir = os.path.split(_file)[0]\n",
    "sources_dir = os.path.abspath(os.path.join(jobs_dir, '..'))\n",
    "repo_dir = os.path.abspath(os.path.join(sources_dir, '..'))\n",
    "config_dir = os.path.abspath(os.path.join(repo_dir, 'configs'))\n",
    "\n",
    "# add sources directory to path\n",
    "if sources_dir not in sys.path:\n",
    "    sys.path.append(sources_dir)\n",
    "\n",
    "# local imports\n",
    "import c_swain_python_utils as csutils\n",
    "from utilities import *\n",
    "import imaging_dataset as imd\n",
    "import prairie_view_imports as pvi\n",
    "\n",
    "_basename = os.path.basename(_file)\n",
    "_name = csutils.no_ext_basename(_file)\n"
   ],
   "metadata": {
    "collapsed": false,
    "ExecuteTime": {
     "end_time": "2024-01-16T03:05:29.536881300Z",
     "start_time": "2024-01-16T03:05:25.973340500Z"
    }
   },
   "id": "73167df0ba479e45"
  },
  {
   "cell_type": "code",
   "execution_count": 2,
   "outputs": [],
   "source": [
    "# plotting defaults\n",
    "sns.set_style('ticks')"
   ],
   "metadata": {
    "collapsed": false,
    "ExecuteTime": {
     "end_time": "2024-01-16T03:05:29.595786700Z",
     "start_time": "2024-01-16T03:05:29.538877900Z"
    }
   },
   "id": "7c19bcfde93e59db"
  },
  {
   "cell_type": "code",
   "execution_count": 3,
   "outputs": [],
   "source": [
    "# logging setup\n",
    "log = csutils.get_logger(_name)\n",
    "\n",
    "debug_mode = False\n",
    "default_window_level = 'debug'\n",
    "\n",
    "log_path = os.path.join(sources_dir, '..', 'logs', f'{_basename}.log')\n",
    "csutils.apply_standard_logging_config(\n",
    "    file_path=log_path,\n",
    "    window_level='debug' if debug_mode else default_window_level,\n",
    "    window_format='debug' if debug_mode else 'default')"
   ],
   "metadata": {
    "collapsed": false,
    "ExecuteTime": {
     "end_time": "2024-01-16T03:05:29.605778600Z",
     "start_time": "2024-01-16T03:05:29.554852400Z"
    }
   },
   "id": "7e65c0c3222514ef"
  },
  {
   "cell_type": "code",
   "execution_count": null,
   "outputs": [],
   "source": [
    "multi_experiment_output_dir = os.path.join(\n",
    "    r'G:\\c_swain\\zf_correlative_microscopy\\analyzed_and_generated_data',\n",
    "    'cs-ii-[29,33,34]_outputs')\n",
    "csutils.touchdir(multi_experiment_output_dir)\n",
    "\n",
    "activity_traces_fname = 'cs-ii-[29,33,24]_all-traces-dataframe_v1.pkl'\n",
    "activity_traces_path = os.path.join(multi_experiment_output_dir, activity_traces_fname)\n",
    "activity_traces_df: pd.DataFrame = csutils.load_from_disk(activity_traces_path)\n",
    "log.info(f'Activity Traces Dataframe loaded...')\n",
    "activity_traces_df.info()\n",
    "activity_traces_df.head()"
   ],
   "metadata": {
    "collapsed": false,
    "ExecuteTime": {
     "end_time": "2024-01-16T03:08:37.590293600Z",
     "start_time": "2024-01-16T03:08:37.174973700Z"
    }
   },
   "id": "d46a00389a71df9e"
  },
  {
   "metadata": {},
   "cell_type": "code",
   "outputs": [],
   "execution_count": null,
   "source": [
    "stimulation_log_fname = 'full_experiment_stim_config_df.csv.pkl'\n",
    "stimulation_log_path = os.path.join(multi_experiment_output_dir, stimulation_log_fname)\n",
    "stimulation_log_df: pd.DataFrame = csutils.load_from_disk(stimulation_log_path)\n",
    "log.info(f'Stimulation Log Dataframe loaded...')\n",
    "stimulation_log_df.info()\n",
    "stimulation_log_df.head()"
   ],
   "id": "478edf376835db94"
  },
  {
   "metadata": {},
   "cell_type": "code",
   "outputs": [],
   "execution_count": null,
   "source": [
    "swim_bout_stat_fname = 'cs-ii-[29,33,34]_swim-bout-statistics.pd.pkl'\n",
    "swim_bout_stat_path = os.path.join(\n",
    "    multi_experiment_output_dir, swim_bout_stat_fname)\n",
    "swim_bout_stat_df: pd.DataFrame = (\n",
    "    csutils.load_from_disk(swim_bout_stat_path))\n",
    "log.info(f'Swim Bout Statistics Dataframe loaded...')\n",
    "swim_bout_stat_df.info()\n",
    "swim_bout_stat_df.head()"
   ],
   "id": "d937df41a30f41b1"
  },
  {
   "metadata": {},
   "cell_type": "code",
   "outputs": [
    {
     "name": "stdout",
     "output_type": "stream",
     "text": [
      "local-nb_cs-ii-[33,34]_activity_stimulus_overlays (  10): INFO : Activity Traces Dataframe loaded...\n",
      "<class 'pandas.core.frame.DataFrame'>\n",
      "RangeIndex: 7428722 entries, 0 to 7428721\n",
      "Data columns (total 16 columns):\n",
      " #   Column                    Dtype   \n",
      "---  ------                    -----   \n",
      " 0   region                    category\n",
      " 1   super-region              category\n",
      " 2   lateral-side              category\n",
      " 3   time                      float64 \n",
      " 4   fluorescence-quantile_95  float64 \n",
      " 5   fluorescence-quantile_75  float64 \n",
      " 6   fluorescence-quantile_50  float64 \n",
      " 7   fluorescence-quantile_25  float64 \n",
      " 8   fluorescence-quantile_05  float64 \n",
      " 9   fluorescence-mean         float64 \n",
      " 10  fluorescence-variance     float64 \n",
      " 11  dorsoventral-position     float64 \n",
      " 12  lateral-position          float64 \n",
      " 13  anteroposterior-position  float64 \n",
      " 14  experiment-id             category\n",
      " 15  run-id                    category\n",
      "dtypes: category(5), float64(11)\n",
      "memory usage: 666.0 MB\n",
      "local-nb_cs-ii-[33,34]_activity_stimulus_overlays (  17): INFO : Stimulation Log Dataframe loaded...\n",
      "<class 'pandas.core.frame.DataFrame'>\n",
      "RangeIndex: 250 entries, 0 to 249\n",
      "Data columns (total 11 columns):\n",
      " #   Column                   Non-Null Count  Dtype   \n",
      "---  ------                   --------------  -----   \n",
      " 0   description              250 non-null    object  \n",
      " 1   duration_s               250 non-null    float64 \n",
      " 2   left                     222 non-null    category\n",
      " 3   middle                   234 non-null    category\n",
      " 4   right                    222 non-null    category\n",
      " 5   flag                     250 non-null    bool    \n",
      " 6   stim-type                250 non-null    category\n",
      " 7   actual-rel-start-time_s  250 non-null    float64 \n",
      " 8   experiment-id            250 non-null    category\n",
      " 9   run-id                   250 non-null    category\n",
      " 10  stim-step-index          250 non-null    int64   \n",
      "dtypes: bool(1), category(6), float64(2), int64(1), object(1)\n",
      "memory usage: 10.0+ KB\n"
     ]
    }
   ],
   "execution_count": 4,
   "source": [
    "tail_movement_timecourse_fname = 'cs-ii-[29,33,34]_tail-movement-timecourses.pd.pkl'\n",
    "tail_movement_timecourse_path = os.path.join(\n",
    "    multi_experiment_output_dir, tail_movement_timecourse_fname)\n",
    "tail_movement_timecourse_df: pd.DataFrame = (\n",
    "    csutils.load_from_disk(tail_movement_timecourse_path))\n",
    "log.info(f'Tail Movement Timecourse Dataframe loaded...')\n",
    "tail_movement_timecourse_df.info()\n",
    "tail_movement_timecourse_df.head()"
   ],
   "id": "3cd6b89feba167f3"
  },
  {
   "cell_type": "code",
   "execution_count": 11,
   "outputs": [
    {
     "data": {
      "text/plain": "            description  duration_s                 left      middle  \\\n0               break-1       300.0                  NaN         NaN   \n1               pulse-1        60.0                  NaN  fish water   \n2               break-2       120.0                  NaN         NaN   \n3               pulse-2        60.0                  NaN  fish water   \n4               break-3       120.0                  NaN         NaN   \n..                  ...         ...                  ...         ...   \n245                wash       120.0           fish water  fish water   \n246          aa sustain        30.0  amino acid (1.3 mM)  fish water   \n247                wash       120.0           fish water  fish water   \n248  cadaverine sustain        30.0    cadaverine (2 mM)  fish water   \n249                wash       120.0           fish water  fish water   \n\n                   right   flag      stim-type  actual-rel-start-time_s  \\\n0                    NaN  False  equilibration                 0.000000   \n1                    NaN  False  tactile-pulse               299.999816   \n2                    NaN  False          break               360.000666   \n3                    NaN  False  tactile-pulse               480.001961   \n4                    NaN  False          break               540.002058   \n..                   ...    ...            ...                      ...   \n245           fish water  False          break               848.006102   \n246  amino acid (1.3 mM)  False       aa-1.3mM               968.005482   \n247           fish water  False          break               998.005913   \n248    cadaverine (2 mM)  False        cdv-2mM              1118.006394   \n249           fish water  False          break              1148.006835   \n\n    experiment-id run-id  stim-step-index  \n0        cs-ii-29    395                0  \n1        cs-ii-29    395                1  \n2        cs-ii-29    395                2  \n3        cs-ii-29    395                3  \n4        cs-ii-29    395                4  \n..            ...    ...              ...  \n245      cs-ii-34    209               19  \n246      cs-ii-34    209               20  \n247      cs-ii-34    209               21  \n248      cs-ii-34    209               22  \n249      cs-ii-34    209               23  \n\n[250 rows x 11 columns]",
      "text/html": "<div>\n<style scoped>\n    .dataframe tbody tr th:only-of-type {\n        vertical-align: middle;\n    }\n\n    .dataframe tbody tr th {\n        vertical-align: top;\n    }\n\n    .dataframe thead th {\n        text-align: right;\n    }\n</style>\n<table border=\"1\" class=\"dataframe\">\n  <thead>\n    <tr style=\"text-align: right;\">\n      <th></th>\n      <th>description</th>\n      <th>duration_s</th>\n      <th>left</th>\n      <th>middle</th>\n      <th>right</th>\n      <th>flag</th>\n      <th>stim-type</th>\n      <th>actual-rel-start-time_s</th>\n      <th>experiment-id</th>\n      <th>run-id</th>\n      <th>stim-step-index</th>\n    </tr>\n  </thead>\n  <tbody>\n    <tr>\n      <th>0</th>\n      <td>break-1</td>\n      <td>300.0</td>\n      <td>NaN</td>\n      <td>NaN</td>\n      <td>NaN</td>\n      <td>False</td>\n      <td>equilibration</td>\n      <td>0.000000</td>\n      <td>cs-ii-29</td>\n      <td>395</td>\n      <td>0</td>\n    </tr>\n    <tr>\n      <th>1</th>\n      <td>pulse-1</td>\n      <td>60.0</td>\n      <td>NaN</td>\n      <td>fish water</td>\n      <td>NaN</td>\n      <td>False</td>\n      <td>tactile-pulse</td>\n      <td>299.999816</td>\n      <td>cs-ii-29</td>\n      <td>395</td>\n      <td>1</td>\n    </tr>\n    <tr>\n      <th>2</th>\n      <td>break-2</td>\n      <td>120.0</td>\n      <td>NaN</td>\n      <td>NaN</td>\n      <td>NaN</td>\n      <td>False</td>\n      <td>break</td>\n      <td>360.000666</td>\n      <td>cs-ii-29</td>\n      <td>395</td>\n      <td>2</td>\n    </tr>\n    <tr>\n      <th>3</th>\n      <td>pulse-2</td>\n      <td>60.0</td>\n      <td>NaN</td>\n      <td>fish water</td>\n      <td>NaN</td>\n      <td>False</td>\n      <td>tactile-pulse</td>\n      <td>480.001961</td>\n      <td>cs-ii-29</td>\n      <td>395</td>\n      <td>3</td>\n    </tr>\n    <tr>\n      <th>4</th>\n      <td>break-3</td>\n      <td>120.0</td>\n      <td>NaN</td>\n      <td>NaN</td>\n      <td>NaN</td>\n      <td>False</td>\n      <td>break</td>\n      <td>540.002058</td>\n      <td>cs-ii-29</td>\n      <td>395</td>\n      <td>4</td>\n    </tr>\n    <tr>\n      <th>...</th>\n      <td>...</td>\n      <td>...</td>\n      <td>...</td>\n      <td>...</td>\n      <td>...</td>\n      <td>...</td>\n      <td>...</td>\n      <td>...</td>\n      <td>...</td>\n      <td>...</td>\n      <td>...</td>\n    </tr>\n    <tr>\n      <th>245</th>\n      <td>wash</td>\n      <td>120.0</td>\n      <td>fish water</td>\n      <td>fish water</td>\n      <td>fish water</td>\n      <td>False</td>\n      <td>break</td>\n      <td>848.006102</td>\n      <td>cs-ii-34</td>\n      <td>209</td>\n      <td>19</td>\n    </tr>\n    <tr>\n      <th>246</th>\n      <td>aa sustain</td>\n      <td>30.0</td>\n      <td>amino acid (1.3 mM)</td>\n      <td>fish water</td>\n      <td>amino acid (1.3 mM)</td>\n      <td>False</td>\n      <td>aa-1.3mM</td>\n      <td>968.005482</td>\n      <td>cs-ii-34</td>\n      <td>209</td>\n      <td>20</td>\n    </tr>\n    <tr>\n      <th>247</th>\n      <td>wash</td>\n      <td>120.0</td>\n      <td>fish water</td>\n      <td>fish water</td>\n      <td>fish water</td>\n      <td>False</td>\n      <td>break</td>\n      <td>998.005913</td>\n      <td>cs-ii-34</td>\n      <td>209</td>\n      <td>21</td>\n    </tr>\n    <tr>\n      <th>248</th>\n      <td>cadaverine sustain</td>\n      <td>30.0</td>\n      <td>cadaverine (2 mM)</td>\n      <td>fish water</td>\n      <td>cadaverine (2 mM)</td>\n      <td>False</td>\n      <td>cdv-2mM</td>\n      <td>1118.006394</td>\n      <td>cs-ii-34</td>\n      <td>209</td>\n      <td>22</td>\n    </tr>\n    <tr>\n      <th>249</th>\n      <td>wash</td>\n      <td>120.0</td>\n      <td>fish water</td>\n      <td>fish water</td>\n      <td>fish water</td>\n      <td>False</td>\n      <td>break</td>\n      <td>1148.006835</td>\n      <td>cs-ii-34</td>\n      <td>209</td>\n      <td>23</td>\n    </tr>\n  </tbody>\n</table>\n<p>250 rows × 11 columns</p>\n</div>"
     },
     "execution_count": 11,
     "metadata": {},
     "output_type": "execute_result"
    }
   ],
   "source": [
    "stimulation_log_df"
   ],
   "metadata": {
    "collapsed": false,
    "ExecuteTime": {
     "end_time": "2024-01-16T03:31:32.699329100Z",
     "start_time": "2024-01-16T03:31:32.542743600Z"
    }
   },
   "id": "3098415a6ef0522f"
  },
  {
   "cell_type": "code",
   "execution_count": 40,
   "outputs": [],
   "source": [
    "# COLUMN NAMES (CN)\n",
    "REGION_CN = 'region'\n",
    "SUPER_REGION_CN = 'super-region'\n",
    "LAT_SIDE_CN = 'lateral-side'\n",
    "TIME_CN = 'time'\n",
    "Q95_CN = 'fluorescence-quantile_95'\n",
    "Q75_CN = 'fluorescence-quantile_75'\n",
    "Q50_CN = 'fluorescence-quantile_50'\n",
    "Q25_CN = 'fluorescence-quantile_25'\n",
    "Q05_CN = 'fluorescence-quantile_05'\n",
    "MEAN_CN = 'fluorescence-mean'       \n",
    "VAR_CN = 'fluorescence-variance'   \n",
    "DV_POS_CN = 'dorsoventral-position'   \n",
    "LAT_POS_CN = 'lateral-position'        \n",
    "AP_POS_CN = 'anteroposterior-position'\n",
    "EXPERIMENT_ID_CN = 'experiment-id'           \n",
    "RUN_ID_CN = 'run-id'                  \n",
    "DESCRIPTION_CN = 'description'             \n",
    "DURATION_CN = 'duration_s'              \n",
    "MANIFOLD_LEFT_CN = 'left'                   \n",
    "MANIFOLD_MIDDLE_CN = 'middle'                  \n",
    "MANIFOLD_RIGHT_CN = 'right'                   \n",
    "FLAG_CN = 'flag'                    \n",
    "STIM_TYPE_CN = 'stim-type'               \n",
    "REL_START_TIME_CN = 'actual-rel-start-time_s'                 \n",
    "STIM_STEP_INDEX_CN = 'stim-step-index'         "
   ],
   "metadata": {
    "collapsed": false,
    "ExecuteTime": {
     "end_time": "2024-01-16T04:58:14.148213100Z",
     "start_time": "2024-01-16T04:58:14.066344500Z"
    }
   },
   "id": "8d4e88da81910f7f"
  },
  {
   "cell_type": "code",
   "execution_count": 14,
   "outputs": [
    {
     "data": {
      "text/plain": "['equilibration', 'tactile-pulse', 'break', 'cdv-2mM', 'aa-1.3mM', 'aa-1.3mM&cdv-2mM', 'control', 'rest-baseline', 'cdv-2mM&aa-1.3mM']\nCategories (9, object): ['aa-1.3mM', 'aa-1.3mM&cdv-2mM', 'break', 'cdv-2mM', ..., 'control', 'equilibration', 'rest-baseline', 'tactile-pulse']"
     },
     "execution_count": 14,
     "metadata": {},
     "output_type": "execute_result"
    }
   ],
   "source": [
    "unique_stim_types = stimulation_log_df[STIM_TYPE_CN].unique()\n",
    "unique_stim_types"
   ],
   "metadata": {
    "collapsed": false,
    "ExecuteTime": {
     "end_time": "2024-01-16T03:33:28.758460400Z",
     "start_time": "2024-01-16T03:33:28.578557400Z"
    }
   },
   "id": "182a97e265919b87"
  },
  {
   "cell_type": "code",
   "execution_count": 76,
   "outputs": [],
   "source": [
    "def chunks(seq, size):\n",
    "    _it = iter(seq)\n",
    "    while True:\n",
    "        ret = tuple(next(_it) for _ in range(size))\n",
    "        if len(ret) == size:\n",
    "            yield ret\n",
    "        else:\n",
    "            raise StopIteration()"
   ],
   "metadata": {
    "collapsed": false,
    "ExecuteTime": {
     "end_time": "2024-01-16T05:53:50.983265600Z",
     "start_time": "2024-01-16T05:53:50.864456100Z"
    }
   },
   "id": "3dc886bf59831d02"
  },
  {
   "cell_type": "code",
   "execution_count": 77,
   "outputs": [
    {
     "data": {
      "text/plain": "(['Lateral Line Neuromast N, Ganglia', 'Olfactory Epithelium, Ganglia', 'Olfactory Bulb, Telencephalon', 'Olfactory bulb dopaminergic neuron areas, Tel..., 'Olig2 Cluster, Telencephalon', ..., 'Isl1 stripe - motorneurons, Spinal Cord', 'Dorsal Sparse Isl1 cluster, Spinal Cord', 'Gad1b Stripe 2, Spinal Cord', 'Spinal Cord', 'Vmat2 Stripe2, Spinal Cord']\n Length: 293\n Categories (293, object): ['6.7FDhcrtR-Gal4 Cluster 1, Rhombencephalon', '6.7FDhcrtR-Gal4 Cluster 2 Sparse, Rhombenceph..., '6.7FDhcrtR-Gal4 Cluster 3, Rhombencephalon', '6.7FDhcrtR-Gal4 Cluster 4, Rhombencephalon', ..., 'Vmat2 cluster of paraventricular organ, Mesen..., 'Vmat2 cluster, Telencephalon', 'Vmat2 cluster2, Mesencephalon', 'X Vagus motorneuron cluster, Rhombencephalon'],\n array([0.06344404, 0.08408829, 0.10214415, 0.10937681, 0.12268165,\n        0.13710157, 0.13935534, 0.14849849, 0.14956865, 0.1571719 ,\n        0.15886315, 0.16027254, 0.16265537, 0.16408585, 0.16958026,\n        0.17162645, 0.17439997, 0.18534494, 0.1870018 , 0.19609765,\n        0.20034325, 0.20323401, 0.20768095, 0.21413098, 0.22484772,\n        0.2285711 , 0.23029522, 0.2334672 , 0.23368078, 0.23373216,\n        0.23448457, 0.23616378, 0.23731886, 0.23829552, 0.24374687,\n        0.24974798, 0.25044335, 0.25100883, 0.25264071, 0.25534407,\n        0.25582255, 0.25972945, 0.27128047, 0.27170697, 0.27186269,\n        0.27251311, 0.27400117, 0.28014284, 0.28089425, 0.28116752,\n        0.28171301, 0.28194055, 0.28350804, 0.28368736, 0.28482658,\n        0.28787043, 0.28833604, 0.28966148, 0.29223184, 0.2929472 ,\n        0.29459809, 0.29479379, 0.29602135, 0.29675097, 0.30132064,\n        0.30353138, 0.30512263, 0.30855307, 0.30934502, 0.31132086,\n        0.31196731, 0.31582995, 0.31743693, 0.32169126, 0.32492365,\n        0.32581084, 0.32999881, 0.33024155, 0.33026158, 0.33134682,\n        0.34235312, 0.34884337, 0.35036812, 0.35059999, 0.35128522,\n        0.35735299, 0.36379041, 0.36776731, 0.36930507, 0.37409747,\n        0.37508722, 0.37569634, 0.37934651, 0.37950533, 0.37952075,\n        0.38184177, 0.38870061, 0.39173726, 0.39290744, 0.39529617,\n        0.39762596, 0.39773004, 0.39908188, 0.39944194, 0.40007285,\n        0.40236505, 0.40332101, 0.40740161, 0.41295027, 0.41844374,\n        0.41874089, 0.41887974, 0.41949153, 0.42075648, 0.42614132,\n        0.42643333, 0.42669461, 0.42824427, 0.43250623, 0.43370404,\n        0.4354141 , 0.4404419 , 0.44565341, 0.4474091 , 0.4484523 ,\n        0.44847234, 0.44922728, 0.45163287, 0.45422886, 0.45587412,\n        0.45638406, 0.45791074, 0.45918107, 0.46008883, 0.46125811,\n        0.46492235, 0.46826573, 0.46907184, 0.47332543, 0.47370227,\n        0.47647816, 0.47729904, 0.47920867, 0.47932833, 0.4804966 ,\n        0.48192072, 0.48272137, 0.48485584, 0.49044216, 0.49100863,\n        0.49295192, 0.49330767, 0.49710845, 0.49907034, 0.502291  ,\n        0.50345344, 0.50463352, 0.50685065, 0.5081902 , 0.50976786,\n        0.51014341, 0.51064144, 0.51196252, 0.51242851, 0.51427332,\n        0.51466582, 0.51576766, 0.51621072, 0.51912961, 0.52176012,\n        0.52198882, 0.52234209, 0.52445052, 0.5249461 , 0.52505258,\n        0.5265462 , 0.52763886, 0.52825121, 0.52977681, 0.53053851,\n        0.53173725, 0.53326509, 0.53341138, 0.5351848 , 0.53654141,\n        0.53670065, 0.53699062, 0.53962016, 0.54026642, 0.54062394,\n        0.54067171, 0.54078831, 0.54232074, 0.54416426, 0.54523898,\n        0.54609505, 0.54611947, 0.54614699, 0.54711482, 0.54774585,\n        0.54883551, 0.55238845, 0.5534176 , 0.55406221, 0.55557248,\n        0.55568447, 0.55611811, 0.55679765, 0.55850452, 0.55866429,\n        0.56247409, 0.56330287, 0.56451837, 0.56873643, 0.57092737,\n        0.57106664, 0.57236009, 0.57349306, 0.57460486, 0.57644202,\n        0.57677109, 0.57730559, 0.57831967, 0.58061435, 0.58135506,\n        0.58175061, 0.58279339, 0.5838265 , 0.58709316, 0.58786138,\n        0.58952018, 0.58982714, 0.59207598, 0.59257914, 0.59304354,\n        0.59613694, 0.5972201 , 0.60010797, 0.60088832, 0.60496254,\n        0.60519499, 0.60688096, 0.60717879, 0.60947004, 0.61018286,\n        0.61220647, 0.61422888, 0.6145791 , 0.61619246, 0.61754418,\n        0.61900767, 0.62320212, 0.62638658, 0.63057306, 0.6345433 ,\n        0.63720835, 0.63931216, 0.63992515, 0.64229985, 0.64304881,\n        0.64626759, 0.64958696, 0.65412498, 0.65506678, 0.65532575,\n        0.65850672, 0.65935532, 0.66128035, 0.66170671, 0.67814916,\n        0.67878698, 0.68062074, 0.68117778, 0.69647265, 0.72240563,\n        0.7228475 , 0.7347315 , 0.74693757, 0.78967198, 0.80616467,\n        0.80773922, 0.80835475, 0.81253299, 0.81904183, 0.82011455,\n        0.82034682, 0.82285514, 0.82421389, 0.82788047, 0.83044838,\n        0.84945553, 0.85302718, 0.86865709]))"
     },
     "execution_count": 77,
     "metadata": {},
     "output_type": "execute_result"
    }
   ],
   "source": [
    "all_regions = activity_traces_df[REGION_CN].unique()\n",
    "\n",
    "reg = all_regions[0]\n",
    "\n",
    "loc_arr = np.zeros((len(all_regions),))\n",
    "for i, reg in enumerate(all_regions):\n",
    "    res = (activity_traces_df\n",
    "           .loc[activity_traces_df[REGION_CN] == reg, :]\n",
    "           .reset_index()\n",
    "           .loc[0, AP_POS_CN])\n",
    "    loc_arr[i] = res\n",
    "    \n",
    "all_regions = all_regions[np.argsort(loc_arr)]\n",
    "all_regions, loc_arr[np.argsort(loc_arr)]"
   ],
   "metadata": {
    "collapsed": false,
    "ExecuteTime": {
     "end_time": "2024-01-16T05:54:00.224023500Z",
     "start_time": "2024-01-16T05:53:57.068690700Z"
    }
   },
   "id": "f55931640c8da702"
  },
  {
   "cell_type": "markdown",
   "source": [
    "## Generating Plots for Neural Responses to Tactile Pulses"
   ],
   "metadata": {
    "collapsed": false
   },
   "id": "513218e80f9aa0e9"
  },
  {
   "cell_type": "code",
   "execution_count": 15,
   "outputs": [
    {
     "name": "stdout",
     "output_type": "stream",
     "text": [
      "<class 'pandas.core.frame.DataFrame'>\n",
      "Int64Index: 12 entries, 1 to 26\n",
      "Data columns (total 11 columns):\n",
      " #   Column                   Non-Null Count  Dtype   \n",
      "---  ------                   --------------  -----   \n",
      " 0   description              12 non-null     object  \n",
      " 1   duration_s               12 non-null     float64 \n",
      " 2   left                     0 non-null      category\n",
      " 3   middle                   12 non-null     category\n",
      " 4   right                    0 non-null      category\n",
      " 5   flag                     12 non-null     bool    \n",
      " 6   stim-type                12 non-null     category\n",
      " 7   actual-rel-start-time_s  12 non-null     float64 \n",
      " 8   experiment-id            12 non-null     category\n",
      " 9   run-id                   12 non-null     category\n",
      " 10  stim-step-index          12 non-null     int64   \n",
      "dtypes: bool(1), category(6), float64(2), int64(1), object(1)\n",
      "memory usage: 2.3+ KB\n"
     ]
    },
    {
     "data": {
      "text/plain": "   description  duration_s left      middle right   flag      stim-type  \\\n1      pulse-1        60.0  NaN  fish water   NaN  False  tactile-pulse   \n3      pulse-2        60.0  NaN  fish water   NaN  False  tactile-pulse   \n5      pulse-3        60.0  NaN  fish water   NaN  False  tactile-pulse   \n8      pulse-1        60.0  NaN  fish water   NaN  False  tactile-pulse   \n10     pulse-2        60.0  NaN  fish water   NaN  False  tactile-pulse   \n12     pulse-3        60.0  NaN  fish water   NaN  False  tactile-pulse   \n15     pulse-1        60.0  NaN  fish water   NaN  False  tactile-pulse   \n17     pulse-2        60.0  NaN  fish water   NaN  False  tactile-pulse   \n19     pulse-3        60.0  NaN  fish water   NaN  False  tactile-pulse   \n22     pulse-1        60.0  NaN  fish water   NaN  False  tactile-pulse   \n24     pulse-2        60.0  NaN  fish water   NaN  False  tactile-pulse   \n26     pulse-3        60.0  NaN  fish water   NaN  False  tactile-pulse   \n\n    actual-rel-start-time_s experiment-id run-id  stim-step-index  \n1                299.999816      cs-ii-29    395                1  \n3                480.001961      cs-ii-29    395                3  \n5                660.002661      cs-ii-29    395                5  \n8                299.999124      cs-ii-29    396                1  \n10               479.998784      cs-ii-29    396                3  \n12               659.999918      cs-ii-29    396                5  \n15               299.999802      cs-ii-29    398                1  \n17               480.000258      cs-ii-29    398                3  \n19               659.999595      cs-ii-29    398                5  \n22               300.001012      cs-ii-29    399                1  \n24               480.001866      cs-ii-29    399                3  \n26               660.003282      cs-ii-29    399                5  ",
      "text/html": "<div>\n<style scoped>\n    .dataframe tbody tr th:only-of-type {\n        vertical-align: middle;\n    }\n\n    .dataframe tbody tr th {\n        vertical-align: top;\n    }\n\n    .dataframe thead th {\n        text-align: right;\n    }\n</style>\n<table border=\"1\" class=\"dataframe\">\n  <thead>\n    <tr style=\"text-align: right;\">\n      <th></th>\n      <th>description</th>\n      <th>duration_s</th>\n      <th>left</th>\n      <th>middle</th>\n      <th>right</th>\n      <th>flag</th>\n      <th>stim-type</th>\n      <th>actual-rel-start-time_s</th>\n      <th>experiment-id</th>\n      <th>run-id</th>\n      <th>stim-step-index</th>\n    </tr>\n  </thead>\n  <tbody>\n    <tr>\n      <th>1</th>\n      <td>pulse-1</td>\n      <td>60.0</td>\n      <td>NaN</td>\n      <td>fish water</td>\n      <td>NaN</td>\n      <td>False</td>\n      <td>tactile-pulse</td>\n      <td>299.999816</td>\n      <td>cs-ii-29</td>\n      <td>395</td>\n      <td>1</td>\n    </tr>\n    <tr>\n      <th>3</th>\n      <td>pulse-2</td>\n      <td>60.0</td>\n      <td>NaN</td>\n      <td>fish water</td>\n      <td>NaN</td>\n      <td>False</td>\n      <td>tactile-pulse</td>\n      <td>480.001961</td>\n      <td>cs-ii-29</td>\n      <td>395</td>\n      <td>3</td>\n    </tr>\n    <tr>\n      <th>5</th>\n      <td>pulse-3</td>\n      <td>60.0</td>\n      <td>NaN</td>\n      <td>fish water</td>\n      <td>NaN</td>\n      <td>False</td>\n      <td>tactile-pulse</td>\n      <td>660.002661</td>\n      <td>cs-ii-29</td>\n      <td>395</td>\n      <td>5</td>\n    </tr>\n    <tr>\n      <th>8</th>\n      <td>pulse-1</td>\n      <td>60.0</td>\n      <td>NaN</td>\n      <td>fish water</td>\n      <td>NaN</td>\n      <td>False</td>\n      <td>tactile-pulse</td>\n      <td>299.999124</td>\n      <td>cs-ii-29</td>\n      <td>396</td>\n      <td>1</td>\n    </tr>\n    <tr>\n      <th>10</th>\n      <td>pulse-2</td>\n      <td>60.0</td>\n      <td>NaN</td>\n      <td>fish water</td>\n      <td>NaN</td>\n      <td>False</td>\n      <td>tactile-pulse</td>\n      <td>479.998784</td>\n      <td>cs-ii-29</td>\n      <td>396</td>\n      <td>3</td>\n    </tr>\n    <tr>\n      <th>12</th>\n      <td>pulse-3</td>\n      <td>60.0</td>\n      <td>NaN</td>\n      <td>fish water</td>\n      <td>NaN</td>\n      <td>False</td>\n      <td>tactile-pulse</td>\n      <td>659.999918</td>\n      <td>cs-ii-29</td>\n      <td>396</td>\n      <td>5</td>\n    </tr>\n    <tr>\n      <th>15</th>\n      <td>pulse-1</td>\n      <td>60.0</td>\n      <td>NaN</td>\n      <td>fish water</td>\n      <td>NaN</td>\n      <td>False</td>\n      <td>tactile-pulse</td>\n      <td>299.999802</td>\n      <td>cs-ii-29</td>\n      <td>398</td>\n      <td>1</td>\n    </tr>\n    <tr>\n      <th>17</th>\n      <td>pulse-2</td>\n      <td>60.0</td>\n      <td>NaN</td>\n      <td>fish water</td>\n      <td>NaN</td>\n      <td>False</td>\n      <td>tactile-pulse</td>\n      <td>480.000258</td>\n      <td>cs-ii-29</td>\n      <td>398</td>\n      <td>3</td>\n    </tr>\n    <tr>\n      <th>19</th>\n      <td>pulse-3</td>\n      <td>60.0</td>\n      <td>NaN</td>\n      <td>fish water</td>\n      <td>NaN</td>\n      <td>False</td>\n      <td>tactile-pulse</td>\n      <td>659.999595</td>\n      <td>cs-ii-29</td>\n      <td>398</td>\n      <td>5</td>\n    </tr>\n    <tr>\n      <th>22</th>\n      <td>pulse-1</td>\n      <td>60.0</td>\n      <td>NaN</td>\n      <td>fish water</td>\n      <td>NaN</td>\n      <td>False</td>\n      <td>tactile-pulse</td>\n      <td>300.001012</td>\n      <td>cs-ii-29</td>\n      <td>399</td>\n      <td>1</td>\n    </tr>\n    <tr>\n      <th>24</th>\n      <td>pulse-2</td>\n      <td>60.0</td>\n      <td>NaN</td>\n      <td>fish water</td>\n      <td>NaN</td>\n      <td>False</td>\n      <td>tactile-pulse</td>\n      <td>480.001866</td>\n      <td>cs-ii-29</td>\n      <td>399</td>\n      <td>3</td>\n    </tr>\n    <tr>\n      <th>26</th>\n      <td>pulse-3</td>\n      <td>60.0</td>\n      <td>NaN</td>\n      <td>fish water</td>\n      <td>NaN</td>\n      <td>False</td>\n      <td>tactile-pulse</td>\n      <td>660.003282</td>\n      <td>cs-ii-29</td>\n      <td>399</td>\n      <td>5</td>\n    </tr>\n  </tbody>\n</table>\n</div>"
     },
     "execution_count": 15,
     "metadata": {},
     "output_type": "execute_result"
    }
   ],
   "source": [
    "selected_stim_type = 'tactile-pulse'\n",
    "stim_log_subset_df: pd.DataFrame = stimulation_log_df.loc[stimulation_log_df[STIM_TYPE_CN] == selected_stim_type, :]\n",
    "stim_log_subset_df.info()\n",
    "stim_log_subset_df"
   ],
   "metadata": {
    "collapsed": false,
    "ExecuteTime": {
     "start_time": "2024-01-16T03:33:29.806144100Z"
    }
   },
   "id": "998719588a6b2270"
  },
  {
   "cell_type": "code",
   "execution_count": 17,
   "outputs": [
    {
     "data": {
      "text/plain": "array([60.])"
     },
     "execution_count": 17,
     "metadata": {},
     "output_type": "execute_result"
    }
   ],
   "source": [
    "unique_stim_durations = stim_log_subset_df.loc[:, DURATION_CN].unique()\n",
    "unique_stim_durations"
   ],
   "metadata": {
    "collapsed": false,
    "ExecuteTime": {
     "start_time": "2024-01-16T03:34:12.214749100Z"
    }
   },
   "id": "8a607a6280eb25a2"
  },
  {
   "cell_type": "code",
   "execution_count": 90,
   "outputs": [
    {
     "name": "stdout",
     "output_type": "stream",
     "text": [
      "matplotlib.pyplot ( 339): DEBUG : Loaded backend Qt5Agg version 5.15.7.\n",
      "local-nb_cs-ii-[33,34]_activity_stimulus_overlays (  11): INFO : ref_time_array.shape = (338,)\n",
      "local-nb_cs-ii-[33,34]_activity_stimulus_overlays (  12): INFO : ref_time_index = Float64Index([-19.5, -19.0, -18.5, -18.0, -17.5, -17.0, -16.5, -16.0, -15.5,\n",
      "              -15.0,\n",
      "              ...\n",
      "              144.5, 145.0, 145.5, 146.0, 146.5, 147.0, 147.5, 148.0, 148.5,\n",
      "              149.0],\n",
      "             dtype='float64', name='time', length=338)\n",
      "local-nb_cs-ii-[33,34]_activity_stimulus_overlays (  16): INFO : stim_loc_row[EXPERIMENT_ID_CN] = 'cs-ii-29', stim_loc_row[RUN_ID_CN] = 395\n",
      "local-nb_cs-ii-[33,34]_activity_stimulus_overlays (  26): INFO : activity_traces_subset_df.shape = (100206, 16)\n",
      "local-nb_cs-ii-[33,34]_activity_stimulus_overlays (  32): INFO : activity_traces_subset_data.shape = (171, 586)\n",
      "local-nb_cs-ii-[33,34]_activity_stimulus_overlays (  36): INFO : baseline_mean.shape = (586,)\n",
      "local-nb_cs-ii-[33,34]_activity_stimulus_overlays (  48): INFO : interp_res.shape = (338, 586)\n",
      "local-nb_cs-ii-[33,34]_activity_stimulus_overlays (  59): INFO : filt_activity_traces_subset_df.shape = (198068, 6)\n",
      "local-nb_cs-ii-[33,34]_activity_stimulus_overlays (  16): INFO : stim_loc_row[EXPERIMENT_ID_CN] = 'cs-ii-29', stim_loc_row[RUN_ID_CN] = 395\n",
      "local-nb_cs-ii-[33,34]_activity_stimulus_overlays (  26): INFO : activity_traces_subset_df.shape = (100206, 16)\n",
      "local-nb_cs-ii-[33,34]_activity_stimulus_overlays (  32): INFO : activity_traces_subset_data.shape = (171, 586)\n",
      "local-nb_cs-ii-[33,34]_activity_stimulus_overlays (  36): INFO : baseline_mean.shape = (586,)\n",
      "local-nb_cs-ii-[33,34]_activity_stimulus_overlays (  48): INFO : interp_res.shape = (338, 586)\n",
      "local-nb_cs-ii-[33,34]_activity_stimulus_overlays (  59): INFO : filt_activity_traces_subset_df.shape = (198068, 6)\n",
      "local-nb_cs-ii-[33,34]_activity_stimulus_overlays (  16): INFO : stim_loc_row[EXPERIMENT_ID_CN] = 'cs-ii-29', stim_loc_row[RUN_ID_CN] = 395\n",
      "local-nb_cs-ii-[33,34]_activity_stimulus_overlays (  26): INFO : activity_traces_subset_df.shape = (100206, 16)\n",
      "local-nb_cs-ii-[33,34]_activity_stimulus_overlays (  32): INFO : activity_traces_subset_data.shape = (171, 586)\n",
      "local-nb_cs-ii-[33,34]_activity_stimulus_overlays (  36): INFO : baseline_mean.shape = (586,)\n",
      "local-nb_cs-ii-[33,34]_activity_stimulus_overlays (  48): INFO : interp_res.shape = (338, 586)\n",
      "local-nb_cs-ii-[33,34]_activity_stimulus_overlays (  59): INFO : filt_activity_traces_subset_df.shape = (198068, 6)\n",
      "local-nb_cs-ii-[33,34]_activity_stimulus_overlays (  16): INFO : stim_loc_row[EXPERIMENT_ID_CN] = 'cs-ii-29', stim_loc_row[RUN_ID_CN] = 396\n",
      "local-nb_cs-ii-[33,34]_activity_stimulus_overlays (  26): INFO : activity_traces_subset_df.shape = (100206, 16)\n",
      "local-nb_cs-ii-[33,34]_activity_stimulus_overlays (  32): INFO : activity_traces_subset_data.shape = (171, 586)\n",
      "local-nb_cs-ii-[33,34]_activity_stimulus_overlays (  36): INFO : baseline_mean.shape = (586,)\n",
      "local-nb_cs-ii-[33,34]_activity_stimulus_overlays (  48): INFO : interp_res.shape = (338, 586)\n",
      "local-nb_cs-ii-[33,34]_activity_stimulus_overlays (  59): INFO : filt_activity_traces_subset_df.shape = (198068, 6)\n",
      "local-nb_cs-ii-[33,34]_activity_stimulus_overlays (  16): INFO : stim_loc_row[EXPERIMENT_ID_CN] = 'cs-ii-29', stim_loc_row[RUN_ID_CN] = 396\n",
      "local-nb_cs-ii-[33,34]_activity_stimulus_overlays (  26): INFO : activity_traces_subset_df.shape = (100206, 16)\n",
      "local-nb_cs-ii-[33,34]_activity_stimulus_overlays (  32): INFO : activity_traces_subset_data.shape = (171, 586)\n",
      "local-nb_cs-ii-[33,34]_activity_stimulus_overlays (  36): INFO : baseline_mean.shape = (586,)\n",
      "local-nb_cs-ii-[33,34]_activity_stimulus_overlays (  48): INFO : interp_res.shape = (338, 586)\n",
      "local-nb_cs-ii-[33,34]_activity_stimulus_overlays (  59): INFO : filt_activity_traces_subset_df.shape = (198068, 6)\n",
      "local-nb_cs-ii-[33,34]_activity_stimulus_overlays (  16): INFO : stim_loc_row[EXPERIMENT_ID_CN] = 'cs-ii-29', stim_loc_row[RUN_ID_CN] = 396\n",
      "local-nb_cs-ii-[33,34]_activity_stimulus_overlays (  26): INFO : activity_traces_subset_df.shape = (100206, 16)\n",
      "local-nb_cs-ii-[33,34]_activity_stimulus_overlays (  32): INFO : activity_traces_subset_data.shape = (171, 586)\n",
      "local-nb_cs-ii-[33,34]_activity_stimulus_overlays (  36): INFO : baseline_mean.shape = (586,)\n",
      "local-nb_cs-ii-[33,34]_activity_stimulus_overlays (  48): INFO : interp_res.shape = (338, 586)\n",
      "local-nb_cs-ii-[33,34]_activity_stimulus_overlays (  59): INFO : filt_activity_traces_subset_df.shape = (198068, 6)\n",
      "local-nb_cs-ii-[33,34]_activity_stimulus_overlays (  16): INFO : stim_loc_row[EXPERIMENT_ID_CN] = 'cs-ii-29', stim_loc_row[RUN_ID_CN] = 398\n",
      "local-nb_cs-ii-[33,34]_activity_stimulus_overlays (  26): INFO : activity_traces_subset_df.shape = (200412, 16)\n",
      "local-nb_cs-ii-[33,34]_activity_stimulus_overlays (  32): INFO : activity_traces_subset_data.shape = (342, 586)\n",
      "local-nb_cs-ii-[33,34]_activity_stimulus_overlays (  36): INFO : baseline_mean.shape = (586,)\n",
      "local-nb_cs-ii-[33,34]_activity_stimulus_overlays (  48): INFO : interp_res.shape = (338, 586)\n",
      "local-nb_cs-ii-[33,34]_activity_stimulus_overlays (  59): INFO : filt_activity_traces_subset_df.shape = (198068, 6)\n",
      "local-nb_cs-ii-[33,34]_activity_stimulus_overlays (  16): INFO : stim_loc_row[EXPERIMENT_ID_CN] = 'cs-ii-29', stim_loc_row[RUN_ID_CN] = 398\n",
      "local-nb_cs-ii-[33,34]_activity_stimulus_overlays (  26): INFO : activity_traces_subset_df.shape = (200412, 16)\n",
      "local-nb_cs-ii-[33,34]_activity_stimulus_overlays (  32): INFO : activity_traces_subset_data.shape = (342, 586)\n",
      "local-nb_cs-ii-[33,34]_activity_stimulus_overlays (  36): INFO : baseline_mean.shape = (586,)\n",
      "local-nb_cs-ii-[33,34]_activity_stimulus_overlays (  48): INFO : interp_res.shape = (338, 586)\n",
      "local-nb_cs-ii-[33,34]_activity_stimulus_overlays (  59): INFO : filt_activity_traces_subset_df.shape = (198068, 6)\n",
      "local-nb_cs-ii-[33,34]_activity_stimulus_overlays (  16): INFO : stim_loc_row[EXPERIMENT_ID_CN] = 'cs-ii-29', stim_loc_row[RUN_ID_CN] = 398\n",
      "local-nb_cs-ii-[33,34]_activity_stimulus_overlays (  26): INFO : activity_traces_subset_df.shape = (200412, 16)\n",
      "local-nb_cs-ii-[33,34]_activity_stimulus_overlays (  32): INFO : activity_traces_subset_data.shape = (342, 586)\n",
      "local-nb_cs-ii-[33,34]_activity_stimulus_overlays (  36): INFO : baseline_mean.shape = (586,)\n",
      "local-nb_cs-ii-[33,34]_activity_stimulus_overlays (  48): INFO : interp_res.shape = (338, 586)\n",
      "local-nb_cs-ii-[33,34]_activity_stimulus_overlays (  59): INFO : filt_activity_traces_subset_df.shape = (198068, 6)\n",
      "local-nb_cs-ii-[33,34]_activity_stimulus_overlays (  16): INFO : stim_loc_row[EXPERIMENT_ID_CN] = 'cs-ii-29', stim_loc_row[RUN_ID_CN] = 399\n",
      "local-nb_cs-ii-[33,34]_activity_stimulus_overlays (  26): INFO : activity_traces_subset_df.shape = (200412, 16)\n",
      "local-nb_cs-ii-[33,34]_activity_stimulus_overlays (  32): INFO : activity_traces_subset_data.shape = (342, 586)\n",
      "local-nb_cs-ii-[33,34]_activity_stimulus_overlays (  36): INFO : baseline_mean.shape = (586,)\n",
      "local-nb_cs-ii-[33,34]_activity_stimulus_overlays (  48): INFO : interp_res.shape = (338, 586)\n",
      "local-nb_cs-ii-[33,34]_activity_stimulus_overlays (  59): INFO : filt_activity_traces_subset_df.shape = (198068, 6)\n",
      "local-nb_cs-ii-[33,34]_activity_stimulus_overlays (  16): INFO : stim_loc_row[EXPERIMENT_ID_CN] = 'cs-ii-29', stim_loc_row[RUN_ID_CN] = 399\n",
      "local-nb_cs-ii-[33,34]_activity_stimulus_overlays (  26): INFO : activity_traces_subset_df.shape = (200412, 16)\n",
      "local-nb_cs-ii-[33,34]_activity_stimulus_overlays (  32): INFO : activity_traces_subset_data.shape = (342, 586)\n",
      "local-nb_cs-ii-[33,34]_activity_stimulus_overlays (  36): INFO : baseline_mean.shape = (586,)\n",
      "local-nb_cs-ii-[33,34]_activity_stimulus_overlays (  48): INFO : interp_res.shape = (338, 586)\n",
      "local-nb_cs-ii-[33,34]_activity_stimulus_overlays (  59): INFO : filt_activity_traces_subset_df.shape = (198068, 6)\n",
      "local-nb_cs-ii-[33,34]_activity_stimulus_overlays (  16): INFO : stim_loc_row[EXPERIMENT_ID_CN] = 'cs-ii-29', stim_loc_row[RUN_ID_CN] = 399\n",
      "local-nb_cs-ii-[33,34]_activity_stimulus_overlays (  26): INFO : activity_traces_subset_df.shape = (200412, 16)\n",
      "local-nb_cs-ii-[33,34]_activity_stimulus_overlays (  32): INFO : activity_traces_subset_data.shape = (342, 586)\n",
      "local-nb_cs-ii-[33,34]_activity_stimulus_overlays (  36): INFO : baseline_mean.shape = (586,)\n",
      "local-nb_cs-ii-[33,34]_activity_stimulus_overlays (  48): INFO : interp_res.shape = (338, 586)\n",
      "local-nb_cs-ii-[33,34]_activity_stimulus_overlays (  59): INFO : filt_activity_traces_subset_df.shape = (198068, 6)\n",
      "<class 'pandas.core.frame.DataFrame'>\n",
      "RangeIndex: 2376816 entries, 0 to 2376815\n",
      "Data columns (total 6 columns):\n",
      " #   Column             Dtype  \n",
      "---  ------             -----  \n",
      " 0   time               float64\n",
      " 1   region             object \n",
      " 2   lateral-side       object \n",
      " 3   experiment-id      object \n",
      " 4   run-id             int64  \n",
      " 5   fluorescence-mean  float64\n",
      "dtypes: float64(2), int64(1), object(3)\n",
      "memory usage: 108.8+ MB\n"
     ]
    },
    {
     "data": {
      "text/plain": "          time                                   region lateral-side  \\\n0        -19.5  Mauthner Cell Axon Cap, Rhombencephalon         left   \n1        -19.0  Mauthner Cell Axon Cap, Rhombencephalon         left   \n2        -18.5  Mauthner Cell Axon Cap, Rhombencephalon         left   \n3        -18.0  Mauthner Cell Axon Cap, Rhombencephalon         left   \n4        -17.5  Mauthner Cell Axon Cap, Rhombencephalon         left   \n...        ...                                      ...          ...   \n2376811  147.0                          Rhombencephalon        right   \n2376812  147.5                          Rhombencephalon        right   \n2376813  148.0                          Rhombencephalon        right   \n2376814  148.5                          Rhombencephalon        right   \n2376815  149.0                          Rhombencephalon        right   \n\n        experiment-id  run-id  fluorescence-mean  \n0            cs-ii-29     395          -0.401767  \n1            cs-ii-29     395          -0.485428  \n2            cs-ii-29     395          -0.433889  \n3            cs-ii-29     395          -0.204859  \n4            cs-ii-29     395          -0.003334  \n...               ...     ...                ...  \n2376811      cs-ii-29     399          -0.004153  \n2376812      cs-ii-29     399          -0.003659  \n2376813      cs-ii-29     399          -0.006811  \n2376814      cs-ii-29     399          -0.009070  \n2376815      cs-ii-29     399          -0.009717  \n\n[2376816 rows x 6 columns]",
      "text/html": "<div>\n<style scoped>\n    .dataframe tbody tr th:only-of-type {\n        vertical-align: middle;\n    }\n\n    .dataframe tbody tr th {\n        vertical-align: top;\n    }\n\n    .dataframe thead th {\n        text-align: right;\n    }\n</style>\n<table border=\"1\" class=\"dataframe\">\n  <thead>\n    <tr style=\"text-align: right;\">\n      <th></th>\n      <th>time</th>\n      <th>region</th>\n      <th>lateral-side</th>\n      <th>experiment-id</th>\n      <th>run-id</th>\n      <th>fluorescence-mean</th>\n    </tr>\n  </thead>\n  <tbody>\n    <tr>\n      <th>0</th>\n      <td>-19.5</td>\n      <td>Mauthner Cell Axon Cap, Rhombencephalon</td>\n      <td>left</td>\n      <td>cs-ii-29</td>\n      <td>395</td>\n      <td>-0.401767</td>\n    </tr>\n    <tr>\n      <th>1</th>\n      <td>-19.0</td>\n      <td>Mauthner Cell Axon Cap, Rhombencephalon</td>\n      <td>left</td>\n      <td>cs-ii-29</td>\n      <td>395</td>\n      <td>-0.485428</td>\n    </tr>\n    <tr>\n      <th>2</th>\n      <td>-18.5</td>\n      <td>Mauthner Cell Axon Cap, Rhombencephalon</td>\n      <td>left</td>\n      <td>cs-ii-29</td>\n      <td>395</td>\n      <td>-0.433889</td>\n    </tr>\n    <tr>\n      <th>3</th>\n      <td>-18.0</td>\n      <td>Mauthner Cell Axon Cap, Rhombencephalon</td>\n      <td>left</td>\n      <td>cs-ii-29</td>\n      <td>395</td>\n      <td>-0.204859</td>\n    </tr>\n    <tr>\n      <th>4</th>\n      <td>-17.5</td>\n      <td>Mauthner Cell Axon Cap, Rhombencephalon</td>\n      <td>left</td>\n      <td>cs-ii-29</td>\n      <td>395</td>\n      <td>-0.003334</td>\n    </tr>\n    <tr>\n      <th>...</th>\n      <td>...</td>\n      <td>...</td>\n      <td>...</td>\n      <td>...</td>\n      <td>...</td>\n      <td>...</td>\n    </tr>\n    <tr>\n      <th>2376811</th>\n      <td>147.0</td>\n      <td>Rhombencephalon</td>\n      <td>right</td>\n      <td>cs-ii-29</td>\n      <td>399</td>\n      <td>-0.004153</td>\n    </tr>\n    <tr>\n      <th>2376812</th>\n      <td>147.5</td>\n      <td>Rhombencephalon</td>\n      <td>right</td>\n      <td>cs-ii-29</td>\n      <td>399</td>\n      <td>-0.003659</td>\n    </tr>\n    <tr>\n      <th>2376813</th>\n      <td>148.0</td>\n      <td>Rhombencephalon</td>\n      <td>right</td>\n      <td>cs-ii-29</td>\n      <td>399</td>\n      <td>-0.006811</td>\n    </tr>\n    <tr>\n      <th>2376814</th>\n      <td>148.5</td>\n      <td>Rhombencephalon</td>\n      <td>right</td>\n      <td>cs-ii-29</td>\n      <td>399</td>\n      <td>-0.009070</td>\n    </tr>\n    <tr>\n      <th>2376815</th>\n      <td>149.0</td>\n      <td>Rhombencephalon</td>\n      <td>right</td>\n      <td>cs-ii-29</td>\n      <td>399</td>\n      <td>-0.009717</td>\n    </tr>\n  </tbody>\n</table>\n<p>2376816 rows × 6 columns</p>\n</div>"
     },
     "execution_count": 90,
     "metadata": {},
     "output_type": "execute_result"
    }
   ],
   "source": [
    "%matplotlib qt\n",
    "stim_duration = unique_stim_durations[0]\n",
    "time_pre_stim_start = np.min([stim_duration / 2, 20])\n",
    "time_post_stim = np.min([stim_duration * 2, 90])\n",
    "time_post_stim_start = stim_duration + time_post_stim\n",
    "\n",
    "sampling_period = 0.5\n",
    "ref_time_array = np.arange(-1 * time_pre_stim_start + 0.5, time_post_stim_start - 0.5, \n",
    "                           sampling_period)\n",
    "ref_time_index = pd.Index(ref_time_array, name=TIME_CN)\n",
    "log.info(f'{ref_time_array.shape = }')\n",
    "log.info(f'{ref_time_index = }')\n",
    "\n",
    "stim_seq_dfs = []\n",
    "for _, stim_loc_row in stim_log_subset_df.iterrows():\n",
    "    log.info(f'{stim_loc_row[EXPERIMENT_ID_CN] = }, {stim_loc_row[RUN_ID_CN] = }')\n",
    "    \n",
    "    activity_traces_subset_df: pd.DataFrame = activity_traces_df.loc[\n",
    "        (activity_traces_df[EXPERIMENT_ID_CN] == stim_loc_row[EXPERIMENT_ID_CN]) &\n",
    "        (activity_traces_df[RUN_ID_CN] == stim_loc_row[RUN_ID_CN]), :].copy()\n",
    "    activity_traces_subset_df[TIME_CN] = activity_traces_subset_df[TIME_CN] - stim_loc_row[REL_START_TIME_CN]\n",
    "    activity_traces_subset_df = activity_traces_subset_df.loc[\n",
    "        (activity_traces_subset_df[TIME_CN] >= (-1 * time_pre_stim_start)) &\n",
    "        (activity_traces_subset_df[TIME_CN] <= time_post_stim_start), :]\n",
    "    \n",
    "    log.info(f'{activity_traces_subset_df.shape = }')\n",
    "    \n",
    "    activity_traces_subset_data = activity_traces_subset_df.pivot(\n",
    "        index=TIME_CN,\n",
    "        columns=[REGION_CN, LAT_SIDE_CN, EXPERIMENT_ID_CN, RUN_ID_CN],\n",
    "        values=MEAN_CN)\n",
    "    log.info(f'{activity_traces_subset_data.shape = }')\n",
    "    \n",
    "    baseline_mean = activity_traces_subset_data.loc[\n",
    "        (activity_traces_subset_data.index < -1), :].quantile(0.5, axis=0)\n",
    "    log.info(f'{baseline_mean.shape = }')\n",
    "    \n",
    "    activity_traces_subset_data = (activity_traces_subset_data - baseline_mean) / baseline_mean\n",
    "    interp_res = scipy.interpolate.interp1d(\n",
    "        activity_traces_subset_data.index,\n",
    "        activity_traces_subset_data,\n",
    "        axis=0,\n",
    "        kind='linear',\n",
    "        bounds_error=False)(ref_time_array)\n",
    "    interp_res = scipy.ndimage.gaussian_filter1d(\n",
    "        interp_res, 0.5 / sampling_period, axis=0, mode='nearest')\n",
    "    \n",
    "    log.info(f'{interp_res.shape = }')\n",
    "    \n",
    "    activity_traces_subset_data = pd.DataFrame(\n",
    "        interp_res,\n",
    "        index=ref_time_index,\n",
    "        columns=activity_traces_subset_data.columns)            \n",
    "    \n",
    "    # make filtered data back into dataframe\n",
    "    filt_activity_traces_subset_df = (\n",
    "        activity_traces_subset_data.melt(value_name=MEAN_CN, ignore_index=False)\n",
    "        .reset_index())\n",
    "    log.info(f'{filt_activity_traces_subset_df.shape = }')\n",
    "    \n",
    "    stim_seq_dfs.append(filt_activity_traces_subset_df)\n",
    "    \n",
    "stim_seq_df = pd.concat(stim_seq_dfs, axis=0, ignore_index=True)\n",
    "\n",
    "stim_seq_df.info()\n",
    "stim_seq_df"
   ],
   "metadata": {
    "collapsed": false,
    "ExecuteTime": {
     "start_time": "2024-01-16T06:32:53.878166300Z"
    }
   },
   "id": "a5ba7d7703ff7459"
  },
  {
   "cell_type": "code",
   "execution_count": null,
   "outputs": [],
   "source": [
    "%matplotlib qt\n",
    "\n",
    "for i, region_chunk in enumerate(chunks(all_regions, 16)):\n",
    "    # log.info(f'{region_chunk = }')\n",
    "    \n",
    "    subset_df = stim_seq_df.loc[stim_seq_df[REGION_CN].isin(region_chunk), :]\n",
    "    \n",
    "    fig = sns.relplot(\n",
    "        data=subset_df,\n",
    "        x=TIME_CN,\n",
    "        y=MEAN_CN,\n",
    "        hue=LAT_SIDE_CN,\n",
    "        col=REGION_CN,\n",
    "        col_wrap=4,\n",
    "        kind='line',\n",
    "        facet_kws={'sharey': True, 'sharex': True},\n",
    "        errorbar=('se', 2),\n",
    "        height=2.5,\n",
    "        aspect=1.5)\n",
    "\n",
    "    (fig\n",
    "     .map(plt.axvline, x=0, color='k', dashes=(2, 1), linewidth=1, zorder=0)\n",
    "     .map(plt.axhline, y=0, color='k', dashes=(2, 1), linewidth=1, zorder=0)\n",
    "     .map(plt.fill_between, x=[0, stim_duration], y1=[-5, -5], y2=[5, 5], \n",
    "          color='k', alpha=0.1, linewidth=0, zorder=-1)\n",
    "     .set_axis_labels('Time (s)', 'Delta F / F (a.u.)')\n",
    "     .set_titles('{col_name}')\n",
    "     .set(xlim=(-1 * time_pre_stim_start, time_post_stim_start),\n",
    "          ylim=(-0.2, 0.4))\n",
    "     .tight_layout(h_pad=0.5, w_pad=0, rect=(0, 0, 0.95, 0.98)))\n",
    "    \n",
    "    fig.fig.suptitle(f'Aggregated Results for Stimulation: '\n",
    "                     f'{selected_stim_type} - {stim_duration} s Pulse '\n",
    "                     f'(two standard errors shaded)', \n",
    "                     y=0.99)\n",
    "    \n",
    "    # sns.despine(offset=2, trim=True)\n",
    "\n",
    "    save_path = os.path.join(multi_experiment_output_dir, \n",
    "                             'figures',\n",
    "                             f'stimulation-{selected_stim_type}',\n",
    "                             f'{selected_stim_type}_'\n",
    "                             f'{stim_duration:.0f}s-pulse_'\n",
    "                             f'{i:03d}-region-set_'\n",
    "                             f'aggregated-results.png')\n",
    "    csutils.touchdir(os.path.dirname(save_path))\n",
    "    log.info(f'Saving figure to disk...')\n",
    "    fig.savefig(save_path, dpi=300)"
   ],
   "metadata": {
    "collapsed": false
   },
   "id": "4329006549a1805c"
  },
  {
   "cell_type": "markdown",
   "source": [
    "## Generating Plots for Neural Responses to Control, AA, and Cadaverine Stimulation"
   ],
   "metadata": {
    "collapsed": false
   },
   "id": "9ed2eb6e8dc57b59"
  },
  {
   "cell_type": "code",
   "execution_count": 95,
   "outputs": [
    {
     "name": "stdout",
     "output_type": "stream",
     "text": [
      "<class 'pandas.core.frame.DataFrame'>\n",
      "Int64Index: 84 entries, 29 to 248\n",
      "Data columns (total 11 columns):\n",
      " #   Column                   Non-Null Count  Dtype   \n",
      "---  ------                   --------------  -----   \n",
      " 0   description              84 non-null     object  \n",
      " 1   duration_s               84 non-null     float64 \n",
      " 2   left                     84 non-null     category\n",
      " 3   middle                   84 non-null     category\n",
      " 4   right                    84 non-null     category\n",
      " 5   flag                     84 non-null     bool    \n",
      " 6   stim-type                84 non-null     category\n",
      " 7   actual-rel-start-time_s  84 non-null     float64 \n",
      " 8   experiment-id            84 non-null     category\n",
      " 9   run-id                   84 non-null     category\n",
      " 10  stim-step-index          84 non-null     int64   \n",
      "dtypes: bool(1), category(6), float64(2), int64(1), object(1)\n",
      "memory usage: 5.6+ KB\n"
     ]
    },
    {
     "data": {
      "text/plain": "            description  duration_s                 left      middle  \\\n29     cadaverine pulse         5.0    cadaverine (2 mM)  fish water   \n31     cadaverine pulse         5.0    cadaverine (2 mM)  fish water   \n33             aa pulse         5.0  amino acid (1.3 mM)  fish water   \n35             aa pulse         5.0  amino acid (1.3 mM)  fish water   \n44   cadaverine sustain        30.0    cadaverine (2 mM)  fish water   \n..                  ...         ...                  ...         ...   \n233            aa pulse         5.0  amino acid (1.3 mM)  fish water   \n242  cadaverine sustain        30.0    cadaverine (2 mM)  fish water   \n244          aa sustain        30.0  amino acid (1.3 mM)  fish water   \n246          aa sustain        30.0  amino acid (1.3 mM)  fish water   \n248  cadaverine sustain        30.0    cadaverine (2 mM)  fish water   \n\n                   right   flag stim-type  actual-rel-start-time_s  \\\n29     cadaverine (2 mM)  False   cdv-2mM               299.999359   \n31     cadaverine (2 mM)  False   cdv-2mM               335.000642   \n33   amino acid (1.3 mM)  False  aa-1.3mM               370.001296   \n35   amino acid (1.3 mM)  False  aa-1.3mM               405.002275   \n44     cadaverine (2 mM)  False   cdv-2mM               668.007909   \n..                   ...    ...       ...                      ...   \n233  amino acid (1.3 mM)  False  aa-1.3mM               405.001775   \n242    cadaverine (2 mM)  False   cdv-2mM               668.004826   \n244  amino acid (1.3 mM)  False  aa-1.3mM               818.005670   \n246  amino acid (1.3 mM)  False  aa-1.3mM               968.005482   \n248    cadaverine (2 mM)  False   cdv-2mM              1118.006394   \n\n    experiment-id run-id  stim-step-index  \n29       cs-ii-33    188                1  \n31       cs-ii-33    188                3  \n33       cs-ii-33    188                5  \n35       cs-ii-33    188                7  \n44       cs-ii-33    188               16  \n..            ...    ...              ...  \n233      cs-ii-34    209                7  \n242      cs-ii-34    209               16  \n244      cs-ii-34    209               18  \n246      cs-ii-34    209               20  \n248      cs-ii-34    209               22  \n\n[84 rows x 11 columns]",
      "text/html": "<div>\n<style scoped>\n    .dataframe tbody tr th:only-of-type {\n        vertical-align: middle;\n    }\n\n    .dataframe tbody tr th {\n        vertical-align: top;\n    }\n\n    .dataframe thead th {\n        text-align: right;\n    }\n</style>\n<table border=\"1\" class=\"dataframe\">\n  <thead>\n    <tr style=\"text-align: right;\">\n      <th></th>\n      <th>description</th>\n      <th>duration_s</th>\n      <th>left</th>\n      <th>middle</th>\n      <th>right</th>\n      <th>flag</th>\n      <th>stim-type</th>\n      <th>actual-rel-start-time_s</th>\n      <th>experiment-id</th>\n      <th>run-id</th>\n      <th>stim-step-index</th>\n    </tr>\n  </thead>\n  <tbody>\n    <tr>\n      <th>29</th>\n      <td>cadaverine pulse</td>\n      <td>5.0</td>\n      <td>cadaverine (2 mM)</td>\n      <td>fish water</td>\n      <td>cadaverine (2 mM)</td>\n      <td>False</td>\n      <td>cdv-2mM</td>\n      <td>299.999359</td>\n      <td>cs-ii-33</td>\n      <td>188</td>\n      <td>1</td>\n    </tr>\n    <tr>\n      <th>31</th>\n      <td>cadaverine pulse</td>\n      <td>5.0</td>\n      <td>cadaverine (2 mM)</td>\n      <td>fish water</td>\n      <td>cadaverine (2 mM)</td>\n      <td>False</td>\n      <td>cdv-2mM</td>\n      <td>335.000642</td>\n      <td>cs-ii-33</td>\n      <td>188</td>\n      <td>3</td>\n    </tr>\n    <tr>\n      <th>33</th>\n      <td>aa pulse</td>\n      <td>5.0</td>\n      <td>amino acid (1.3 mM)</td>\n      <td>fish water</td>\n      <td>amino acid (1.3 mM)</td>\n      <td>False</td>\n      <td>aa-1.3mM</td>\n      <td>370.001296</td>\n      <td>cs-ii-33</td>\n      <td>188</td>\n      <td>5</td>\n    </tr>\n    <tr>\n      <th>35</th>\n      <td>aa pulse</td>\n      <td>5.0</td>\n      <td>amino acid (1.3 mM)</td>\n      <td>fish water</td>\n      <td>amino acid (1.3 mM)</td>\n      <td>False</td>\n      <td>aa-1.3mM</td>\n      <td>405.002275</td>\n      <td>cs-ii-33</td>\n      <td>188</td>\n      <td>7</td>\n    </tr>\n    <tr>\n      <th>44</th>\n      <td>cadaverine sustain</td>\n      <td>30.0</td>\n      <td>cadaverine (2 mM)</td>\n      <td>fish water</td>\n      <td>cadaverine (2 mM)</td>\n      <td>False</td>\n      <td>cdv-2mM</td>\n      <td>668.007909</td>\n      <td>cs-ii-33</td>\n      <td>188</td>\n      <td>16</td>\n    </tr>\n    <tr>\n      <th>...</th>\n      <td>...</td>\n      <td>...</td>\n      <td>...</td>\n      <td>...</td>\n      <td>...</td>\n      <td>...</td>\n      <td>...</td>\n      <td>...</td>\n      <td>...</td>\n      <td>...</td>\n      <td>...</td>\n    </tr>\n    <tr>\n      <th>233</th>\n      <td>aa pulse</td>\n      <td>5.0</td>\n      <td>amino acid (1.3 mM)</td>\n      <td>fish water</td>\n      <td>amino acid (1.3 mM)</td>\n      <td>False</td>\n      <td>aa-1.3mM</td>\n      <td>405.001775</td>\n      <td>cs-ii-34</td>\n      <td>209</td>\n      <td>7</td>\n    </tr>\n    <tr>\n      <th>242</th>\n      <td>cadaverine sustain</td>\n      <td>30.0</td>\n      <td>cadaverine (2 mM)</td>\n      <td>fish water</td>\n      <td>cadaverine (2 mM)</td>\n      <td>False</td>\n      <td>cdv-2mM</td>\n      <td>668.004826</td>\n      <td>cs-ii-34</td>\n      <td>209</td>\n      <td>16</td>\n    </tr>\n    <tr>\n      <th>244</th>\n      <td>aa sustain</td>\n      <td>30.0</td>\n      <td>amino acid (1.3 mM)</td>\n      <td>fish water</td>\n      <td>amino acid (1.3 mM)</td>\n      <td>False</td>\n      <td>aa-1.3mM</td>\n      <td>818.005670</td>\n      <td>cs-ii-34</td>\n      <td>209</td>\n      <td>18</td>\n    </tr>\n    <tr>\n      <th>246</th>\n      <td>aa sustain</td>\n      <td>30.0</td>\n      <td>amino acid (1.3 mM)</td>\n      <td>fish water</td>\n      <td>amino acid (1.3 mM)</td>\n      <td>False</td>\n      <td>aa-1.3mM</td>\n      <td>968.005482</td>\n      <td>cs-ii-34</td>\n      <td>209</td>\n      <td>20</td>\n    </tr>\n    <tr>\n      <th>248</th>\n      <td>cadaverine sustain</td>\n      <td>30.0</td>\n      <td>cadaverine (2 mM)</td>\n      <td>fish water</td>\n      <td>cadaverine (2 mM)</td>\n      <td>False</td>\n      <td>cdv-2mM</td>\n      <td>1118.006394</td>\n      <td>cs-ii-34</td>\n      <td>209</td>\n      <td>22</td>\n    </tr>\n  </tbody>\n</table>\n<p>84 rows × 11 columns</p>\n</div>"
     },
     "execution_count": 95,
     "metadata": {},
     "output_type": "execute_result"
    }
   ],
   "source": [
    "selected_stim_types = ['control', 'cdv-2mM', 'aa-1.3mM']\n",
    "stim_log_subset_df: pd.DataFrame = (\n",
    "    stimulation_log_df\n",
    "    .loc[stimulation_log_df[STIM_TYPE_CN].isin(selected_stim_types), :])\n",
    "stim_log_subset_df.info()\n",
    "stim_log_subset_df"
   ],
   "metadata": {
    "collapsed": false,
    "ExecuteTime": {
     "end_time": "2024-01-16T07:05:22.428464400Z",
     "start_time": "2024-01-16T07:05:22.324866900Z"
    }
   },
   "id": "9e43a0d4f841dbe2"
  },
  {
   "cell_type": "code",
   "execution_count": 98,
   "outputs": [
    {
     "data": {
      "text/plain": "{'control': array([10., 40.]),\n 'cdv-2mM': array([ 5., 30., 10., 40.]),\n 'aa-1.3mM': array([ 5., 30., 10., 40.])}"
     },
     "execution_count": 98,
     "metadata": {},
     "output_type": "execute_result"
    }
   ],
   "source": [
    "unique_stim_durations_dict = dict()\n",
    "for stim_type in selected_stim_types:\n",
    "    unique_stim_durations_dict[stim_type] = (\n",
    "        stim_log_subset_df\n",
    "        .loc[stim_log_subset_df[STIM_TYPE_CN] == stim_type, DURATION_CN]\n",
    "        .unique())\n",
    "\n",
    "duration_selections = unique_stim_durations_dict['control']\n",
    "\n",
    "unique_stim_durations_dict"
   ],
   "metadata": {
    "collapsed": false,
    "ExecuteTime": {
     "end_time": "2024-01-16T07:07:23.460904400Z",
     "start_time": "2024-01-16T07:07:23.358976800Z"
    }
   },
   "id": "5f401a1ed48b59d"
  },
  {
   "cell_type": "code",
   "execution_count": 99,
   "outputs": [
    {
     "name": "stdout",
     "output_type": "stream",
     "text": [
      "<class 'pandas.core.frame.DataFrame'>\n",
      "Int64Index: 36 entries, 125 to 200\n",
      "Data columns (total 11 columns):\n",
      " #   Column                   Non-Null Count  Dtype   \n",
      "---  ------                   --------------  -----   \n",
      " 0   description              36 non-null     object  \n",
      " 1   duration_s               36 non-null     float64 \n",
      " 2   left                     36 non-null     category\n",
      " 3   middle                   36 non-null     category\n",
      " 4   right                    36 non-null     category\n",
      " 5   flag                     36 non-null     bool    \n",
      " 6   stim-type                36 non-null     category\n",
      " 7   actual-rel-start-time_s  36 non-null     float64 \n",
      " 8   experiment-id            36 non-null     category\n",
      " 9   run-id                   36 non-null     category\n",
      " 10  stim-step-index          36 non-null     int64   \n",
      "dtypes: bool(1), category(6), float64(2), int64(1), object(1)\n",
      "memory usage: 3.4+ KB\n"
     ]
    },
    {
     "data": {
      "text/plain": "             description  duration_s                 left      middle  \\\n125   control-short-left        10.0     negative control  fish water   \n127  control-short-right        10.0           fish water  fish water   \n129   control-short-both        10.0     negative control  fish water   \n131    control-long-left        40.0     negative control  fish water   \n133   control-long-right        40.0           fish water  fish water   \n135    control-long-both        40.0     negative control  fish water   \n138  control-short-right        10.0           fish water  fish water   \n140    control-long-left        40.0     negative control  fish water   \n142    control-long-both        40.0     negative control  fish water   \n144   control-short-both        10.0     negative control  fish water   \n146   control-short-left        10.0     negative control  fish water   \n148   control-long-right        40.0           fish water  fish water   \n151        aa-short-left        10.0  amino acid (1.3 mM)  fish water   \n153       aa-short-right        10.0           fish water  fish water   \n155        aa-short-both        10.0  amino acid (1.3 mM)  fish water   \n157         aa-long-left        40.0  amino acid (1.3 mM)  fish water   \n159        aa-long-right        40.0           fish water  fish water   \n161         aa-long-both        40.0  amino acid (1.3 mM)  fish water   \n164       aa-short-right        10.0           fish water  fish water   \n166         aa-long-left        40.0  amino acid (1.3 mM)  fish water   \n168         aa-long-both        40.0  amino acid (1.3 mM)  fish water   \n170        aa-short-both        10.0  amino acid (1.3 mM)  fish water   \n172        aa-short-left        10.0  amino acid (1.3 mM)  fish water   \n174        aa-long-right        40.0           fish water  fish water   \n177        aa-short-left        10.0  amino acid (1.3 mM)  fish water   \n179       aa-short-right        10.0           fish water  fish water   \n181        aa-short-both        10.0  amino acid (1.3 mM)  fish water   \n183         aa-long-left        40.0  amino acid (1.3 mM)  fish water   \n185        aa-long-right        40.0           fish water  fish water   \n187         aa-long-both        40.0  amino acid (1.3 mM)  fish water   \n190       cad-short-left        10.0    cadaverine (2 mM)  fish water   \n192      cad-short-right        10.0           fish water  fish water   \n194       cad-short-both        10.0    cadaverine (2 mM)  fish water   \n196        cad-long-left        40.0    cadaverine (2 mM)  fish water   \n198       cad-long-right        40.0           fish water  fish water   \n200        cad-long-both        40.0    cadaverine (2 mM)  fish water   \n\n                   right   flag stim-type  actual-rel-start-time_s  \\\n125           fish water  False   control               179.998946   \n127     negative control  False   control               250.000247   \n129     negative control  False   control               320.000146   \n131           fish water  False   control               390.000474   \n133     negative control  False   control               520.000670   \n135     negative control  False   control               650.001760   \n138     negative control  False   control               179.998987   \n140           fish water  False   control               250.000507   \n142     negative control  False   control               380.001330   \n144     negative control  False   control               510.001744   \n146           fish water  False   control               580.000910   \n148     negative control  False   control               650.002063   \n151           fish water  False  aa-1.3mM               180.000296   \n153  amino acid (1.3 mM)  False  aa-1.3mM               250.000380   \n155  amino acid (1.3 mM)  False  aa-1.3mM               320.000408   \n157           fish water  False  aa-1.3mM               390.000423   \n159  amino acid (1.3 mM)  False  aa-1.3mM               520.001906   \n161  amino acid (1.3 mM)  False  aa-1.3mM               650.001743   \n164  amino acid (1.3 mM)  False  aa-1.3mM               180.000179   \n166           fish water  False  aa-1.3mM               250.001354   \n168  amino acid (1.3 mM)  False  aa-1.3mM               380.002856   \n170  amino acid (1.3 mM)  False  aa-1.3mM               510.002960   \n172           fish water  False  aa-1.3mM               580.002952   \n174  amino acid (1.3 mM)  False  aa-1.3mM               650.002130   \n177           fish water  False  aa-1.3mM               179.999486   \n179  amino acid (1.3 mM)  False  aa-1.3mM               250.002160   \n181  amino acid (1.3 mM)  False  aa-1.3mM               320.002211   \n183           fish water  False  aa-1.3mM               390.002521   \n185  amino acid (1.3 mM)  False  aa-1.3mM               520.003452   \n187  amino acid (1.3 mM)  False  aa-1.3mM               650.004411   \n190           fish water  False   cdv-2mM               179.999387   \n192    cadaverine (2 mM)  False   cdv-2mM               249.999203   \n194    cadaverine (2 mM)  False   cdv-2mM               319.999036   \n196           fish water  False   cdv-2mM               389.999120   \n198    cadaverine (2 mM)  False   cdv-2mM               520.000167   \n200    cadaverine (2 mM)  False   cdv-2mM               650.001613   \n\n    experiment-id run-id  stim-step-index  \n125      cs-ii-34    202                1  \n127      cs-ii-34    202                3  \n129      cs-ii-34    202                5  \n131      cs-ii-34    202                7  \n133      cs-ii-34    202                9  \n135      cs-ii-34    202               11  \n138      cs-ii-34    203                1  \n140      cs-ii-34    203                3  \n142      cs-ii-34    203                5  \n144      cs-ii-34    203                7  \n146      cs-ii-34    203                9  \n148      cs-ii-34    203               11  \n151      cs-ii-34    204                1  \n153      cs-ii-34    204                3  \n155      cs-ii-34    204                5  \n157      cs-ii-34    204                7  \n159      cs-ii-34    204                9  \n161      cs-ii-34    204               11  \n164      cs-ii-34    205                1  \n166      cs-ii-34    205                3  \n168      cs-ii-34    205                5  \n170      cs-ii-34    205                7  \n172      cs-ii-34    205                9  \n174      cs-ii-34    205               11  \n177      cs-ii-34    206                1  \n179      cs-ii-34    206                3  \n181      cs-ii-34    206                5  \n183      cs-ii-34    206                7  \n185      cs-ii-34    206                9  \n187      cs-ii-34    206               11  \n190      cs-ii-34    207                1  \n192      cs-ii-34    207                3  \n194      cs-ii-34    207                5  \n196      cs-ii-34    207                7  \n198      cs-ii-34    207                9  \n200      cs-ii-34    207               11  ",
      "text/html": "<div>\n<style scoped>\n    .dataframe tbody tr th:only-of-type {\n        vertical-align: middle;\n    }\n\n    .dataframe tbody tr th {\n        vertical-align: top;\n    }\n\n    .dataframe thead th {\n        text-align: right;\n    }\n</style>\n<table border=\"1\" class=\"dataframe\">\n  <thead>\n    <tr style=\"text-align: right;\">\n      <th></th>\n      <th>description</th>\n      <th>duration_s</th>\n      <th>left</th>\n      <th>middle</th>\n      <th>right</th>\n      <th>flag</th>\n      <th>stim-type</th>\n      <th>actual-rel-start-time_s</th>\n      <th>experiment-id</th>\n      <th>run-id</th>\n      <th>stim-step-index</th>\n    </tr>\n  </thead>\n  <tbody>\n    <tr>\n      <th>125</th>\n      <td>control-short-left</td>\n      <td>10.0</td>\n      <td>negative control</td>\n      <td>fish water</td>\n      <td>fish water</td>\n      <td>False</td>\n      <td>control</td>\n      <td>179.998946</td>\n      <td>cs-ii-34</td>\n      <td>202</td>\n      <td>1</td>\n    </tr>\n    <tr>\n      <th>127</th>\n      <td>control-short-right</td>\n      <td>10.0</td>\n      <td>fish water</td>\n      <td>fish water</td>\n      <td>negative control</td>\n      <td>False</td>\n      <td>control</td>\n      <td>250.000247</td>\n      <td>cs-ii-34</td>\n      <td>202</td>\n      <td>3</td>\n    </tr>\n    <tr>\n      <th>129</th>\n      <td>control-short-both</td>\n      <td>10.0</td>\n      <td>negative control</td>\n      <td>fish water</td>\n      <td>negative control</td>\n      <td>False</td>\n      <td>control</td>\n      <td>320.000146</td>\n      <td>cs-ii-34</td>\n      <td>202</td>\n      <td>5</td>\n    </tr>\n    <tr>\n      <th>131</th>\n      <td>control-long-left</td>\n      <td>40.0</td>\n      <td>negative control</td>\n      <td>fish water</td>\n      <td>fish water</td>\n      <td>False</td>\n      <td>control</td>\n      <td>390.000474</td>\n      <td>cs-ii-34</td>\n      <td>202</td>\n      <td>7</td>\n    </tr>\n    <tr>\n      <th>133</th>\n      <td>control-long-right</td>\n      <td>40.0</td>\n      <td>fish water</td>\n      <td>fish water</td>\n      <td>negative control</td>\n      <td>False</td>\n      <td>control</td>\n      <td>520.000670</td>\n      <td>cs-ii-34</td>\n      <td>202</td>\n      <td>9</td>\n    </tr>\n    <tr>\n      <th>135</th>\n      <td>control-long-both</td>\n      <td>40.0</td>\n      <td>negative control</td>\n      <td>fish water</td>\n      <td>negative control</td>\n      <td>False</td>\n      <td>control</td>\n      <td>650.001760</td>\n      <td>cs-ii-34</td>\n      <td>202</td>\n      <td>11</td>\n    </tr>\n    <tr>\n      <th>138</th>\n      <td>control-short-right</td>\n      <td>10.0</td>\n      <td>fish water</td>\n      <td>fish water</td>\n      <td>negative control</td>\n      <td>False</td>\n      <td>control</td>\n      <td>179.998987</td>\n      <td>cs-ii-34</td>\n      <td>203</td>\n      <td>1</td>\n    </tr>\n    <tr>\n      <th>140</th>\n      <td>control-long-left</td>\n      <td>40.0</td>\n      <td>negative control</td>\n      <td>fish water</td>\n      <td>fish water</td>\n      <td>False</td>\n      <td>control</td>\n      <td>250.000507</td>\n      <td>cs-ii-34</td>\n      <td>203</td>\n      <td>3</td>\n    </tr>\n    <tr>\n      <th>142</th>\n      <td>control-long-both</td>\n      <td>40.0</td>\n      <td>negative control</td>\n      <td>fish water</td>\n      <td>negative control</td>\n      <td>False</td>\n      <td>control</td>\n      <td>380.001330</td>\n      <td>cs-ii-34</td>\n      <td>203</td>\n      <td>5</td>\n    </tr>\n    <tr>\n      <th>144</th>\n      <td>control-short-both</td>\n      <td>10.0</td>\n      <td>negative control</td>\n      <td>fish water</td>\n      <td>negative control</td>\n      <td>False</td>\n      <td>control</td>\n      <td>510.001744</td>\n      <td>cs-ii-34</td>\n      <td>203</td>\n      <td>7</td>\n    </tr>\n    <tr>\n      <th>146</th>\n      <td>control-short-left</td>\n      <td>10.0</td>\n      <td>negative control</td>\n      <td>fish water</td>\n      <td>fish water</td>\n      <td>False</td>\n      <td>control</td>\n      <td>580.000910</td>\n      <td>cs-ii-34</td>\n      <td>203</td>\n      <td>9</td>\n    </tr>\n    <tr>\n      <th>148</th>\n      <td>control-long-right</td>\n      <td>40.0</td>\n      <td>fish water</td>\n      <td>fish water</td>\n      <td>negative control</td>\n      <td>False</td>\n      <td>control</td>\n      <td>650.002063</td>\n      <td>cs-ii-34</td>\n      <td>203</td>\n      <td>11</td>\n    </tr>\n    <tr>\n      <th>151</th>\n      <td>aa-short-left</td>\n      <td>10.0</td>\n      <td>amino acid (1.3 mM)</td>\n      <td>fish water</td>\n      <td>fish water</td>\n      <td>False</td>\n      <td>aa-1.3mM</td>\n      <td>180.000296</td>\n      <td>cs-ii-34</td>\n      <td>204</td>\n      <td>1</td>\n    </tr>\n    <tr>\n      <th>153</th>\n      <td>aa-short-right</td>\n      <td>10.0</td>\n      <td>fish water</td>\n      <td>fish water</td>\n      <td>amino acid (1.3 mM)</td>\n      <td>False</td>\n      <td>aa-1.3mM</td>\n      <td>250.000380</td>\n      <td>cs-ii-34</td>\n      <td>204</td>\n      <td>3</td>\n    </tr>\n    <tr>\n      <th>155</th>\n      <td>aa-short-both</td>\n      <td>10.0</td>\n      <td>amino acid (1.3 mM)</td>\n      <td>fish water</td>\n      <td>amino acid (1.3 mM)</td>\n      <td>False</td>\n      <td>aa-1.3mM</td>\n      <td>320.000408</td>\n      <td>cs-ii-34</td>\n      <td>204</td>\n      <td>5</td>\n    </tr>\n    <tr>\n      <th>157</th>\n      <td>aa-long-left</td>\n      <td>40.0</td>\n      <td>amino acid (1.3 mM)</td>\n      <td>fish water</td>\n      <td>fish water</td>\n      <td>False</td>\n      <td>aa-1.3mM</td>\n      <td>390.000423</td>\n      <td>cs-ii-34</td>\n      <td>204</td>\n      <td>7</td>\n    </tr>\n    <tr>\n      <th>159</th>\n      <td>aa-long-right</td>\n      <td>40.0</td>\n      <td>fish water</td>\n      <td>fish water</td>\n      <td>amino acid (1.3 mM)</td>\n      <td>False</td>\n      <td>aa-1.3mM</td>\n      <td>520.001906</td>\n      <td>cs-ii-34</td>\n      <td>204</td>\n      <td>9</td>\n    </tr>\n    <tr>\n      <th>161</th>\n      <td>aa-long-both</td>\n      <td>40.0</td>\n      <td>amino acid (1.3 mM)</td>\n      <td>fish water</td>\n      <td>amino acid (1.3 mM)</td>\n      <td>False</td>\n      <td>aa-1.3mM</td>\n      <td>650.001743</td>\n      <td>cs-ii-34</td>\n      <td>204</td>\n      <td>11</td>\n    </tr>\n    <tr>\n      <th>164</th>\n      <td>aa-short-right</td>\n      <td>10.0</td>\n      <td>fish water</td>\n      <td>fish water</td>\n      <td>amino acid (1.3 mM)</td>\n      <td>False</td>\n      <td>aa-1.3mM</td>\n      <td>180.000179</td>\n      <td>cs-ii-34</td>\n      <td>205</td>\n      <td>1</td>\n    </tr>\n    <tr>\n      <th>166</th>\n      <td>aa-long-left</td>\n      <td>40.0</td>\n      <td>amino acid (1.3 mM)</td>\n      <td>fish water</td>\n      <td>fish water</td>\n      <td>False</td>\n      <td>aa-1.3mM</td>\n      <td>250.001354</td>\n      <td>cs-ii-34</td>\n      <td>205</td>\n      <td>3</td>\n    </tr>\n    <tr>\n      <th>168</th>\n      <td>aa-long-both</td>\n      <td>40.0</td>\n      <td>amino acid (1.3 mM)</td>\n      <td>fish water</td>\n      <td>amino acid (1.3 mM)</td>\n      <td>False</td>\n      <td>aa-1.3mM</td>\n      <td>380.002856</td>\n      <td>cs-ii-34</td>\n      <td>205</td>\n      <td>5</td>\n    </tr>\n    <tr>\n      <th>170</th>\n      <td>aa-short-both</td>\n      <td>10.0</td>\n      <td>amino acid (1.3 mM)</td>\n      <td>fish water</td>\n      <td>amino acid (1.3 mM)</td>\n      <td>False</td>\n      <td>aa-1.3mM</td>\n      <td>510.002960</td>\n      <td>cs-ii-34</td>\n      <td>205</td>\n      <td>7</td>\n    </tr>\n    <tr>\n      <th>172</th>\n      <td>aa-short-left</td>\n      <td>10.0</td>\n      <td>amino acid (1.3 mM)</td>\n      <td>fish water</td>\n      <td>fish water</td>\n      <td>False</td>\n      <td>aa-1.3mM</td>\n      <td>580.002952</td>\n      <td>cs-ii-34</td>\n      <td>205</td>\n      <td>9</td>\n    </tr>\n    <tr>\n      <th>174</th>\n      <td>aa-long-right</td>\n      <td>40.0</td>\n      <td>fish water</td>\n      <td>fish water</td>\n      <td>amino acid (1.3 mM)</td>\n      <td>False</td>\n      <td>aa-1.3mM</td>\n      <td>650.002130</td>\n      <td>cs-ii-34</td>\n      <td>205</td>\n      <td>11</td>\n    </tr>\n    <tr>\n      <th>177</th>\n      <td>aa-short-left</td>\n      <td>10.0</td>\n      <td>amino acid (1.3 mM)</td>\n      <td>fish water</td>\n      <td>fish water</td>\n      <td>False</td>\n      <td>aa-1.3mM</td>\n      <td>179.999486</td>\n      <td>cs-ii-34</td>\n      <td>206</td>\n      <td>1</td>\n    </tr>\n    <tr>\n      <th>179</th>\n      <td>aa-short-right</td>\n      <td>10.0</td>\n      <td>fish water</td>\n      <td>fish water</td>\n      <td>amino acid (1.3 mM)</td>\n      <td>False</td>\n      <td>aa-1.3mM</td>\n      <td>250.002160</td>\n      <td>cs-ii-34</td>\n      <td>206</td>\n      <td>3</td>\n    </tr>\n    <tr>\n      <th>181</th>\n      <td>aa-short-both</td>\n      <td>10.0</td>\n      <td>amino acid (1.3 mM)</td>\n      <td>fish water</td>\n      <td>amino acid (1.3 mM)</td>\n      <td>False</td>\n      <td>aa-1.3mM</td>\n      <td>320.002211</td>\n      <td>cs-ii-34</td>\n      <td>206</td>\n      <td>5</td>\n    </tr>\n    <tr>\n      <th>183</th>\n      <td>aa-long-left</td>\n      <td>40.0</td>\n      <td>amino acid (1.3 mM)</td>\n      <td>fish water</td>\n      <td>fish water</td>\n      <td>False</td>\n      <td>aa-1.3mM</td>\n      <td>390.002521</td>\n      <td>cs-ii-34</td>\n      <td>206</td>\n      <td>7</td>\n    </tr>\n    <tr>\n      <th>185</th>\n      <td>aa-long-right</td>\n      <td>40.0</td>\n      <td>fish water</td>\n      <td>fish water</td>\n      <td>amino acid (1.3 mM)</td>\n      <td>False</td>\n      <td>aa-1.3mM</td>\n      <td>520.003452</td>\n      <td>cs-ii-34</td>\n      <td>206</td>\n      <td>9</td>\n    </tr>\n    <tr>\n      <th>187</th>\n      <td>aa-long-both</td>\n      <td>40.0</td>\n      <td>amino acid (1.3 mM)</td>\n      <td>fish water</td>\n      <td>amino acid (1.3 mM)</td>\n      <td>False</td>\n      <td>aa-1.3mM</td>\n      <td>650.004411</td>\n      <td>cs-ii-34</td>\n      <td>206</td>\n      <td>11</td>\n    </tr>\n    <tr>\n      <th>190</th>\n      <td>cad-short-left</td>\n      <td>10.0</td>\n      <td>cadaverine (2 mM)</td>\n      <td>fish water</td>\n      <td>fish water</td>\n      <td>False</td>\n      <td>cdv-2mM</td>\n      <td>179.999387</td>\n      <td>cs-ii-34</td>\n      <td>207</td>\n      <td>1</td>\n    </tr>\n    <tr>\n      <th>192</th>\n      <td>cad-short-right</td>\n      <td>10.0</td>\n      <td>fish water</td>\n      <td>fish water</td>\n      <td>cadaverine (2 mM)</td>\n      <td>False</td>\n      <td>cdv-2mM</td>\n      <td>249.999203</td>\n      <td>cs-ii-34</td>\n      <td>207</td>\n      <td>3</td>\n    </tr>\n    <tr>\n      <th>194</th>\n      <td>cad-short-both</td>\n      <td>10.0</td>\n      <td>cadaverine (2 mM)</td>\n      <td>fish water</td>\n      <td>cadaverine (2 mM)</td>\n      <td>False</td>\n      <td>cdv-2mM</td>\n      <td>319.999036</td>\n      <td>cs-ii-34</td>\n      <td>207</td>\n      <td>5</td>\n    </tr>\n    <tr>\n      <th>196</th>\n      <td>cad-long-left</td>\n      <td>40.0</td>\n      <td>cadaverine (2 mM)</td>\n      <td>fish water</td>\n      <td>fish water</td>\n      <td>False</td>\n      <td>cdv-2mM</td>\n      <td>389.999120</td>\n      <td>cs-ii-34</td>\n      <td>207</td>\n      <td>7</td>\n    </tr>\n    <tr>\n      <th>198</th>\n      <td>cad-long-right</td>\n      <td>40.0</td>\n      <td>fish water</td>\n      <td>fish water</td>\n      <td>cadaverine (2 mM)</td>\n      <td>False</td>\n      <td>cdv-2mM</td>\n      <td>520.000167</td>\n      <td>cs-ii-34</td>\n      <td>207</td>\n      <td>9</td>\n    </tr>\n    <tr>\n      <th>200</th>\n      <td>cad-long-both</td>\n      <td>40.0</td>\n      <td>cadaverine (2 mM)</td>\n      <td>fish water</td>\n      <td>cadaverine (2 mM)</td>\n      <td>False</td>\n      <td>cdv-2mM</td>\n      <td>650.001613</td>\n      <td>cs-ii-34</td>\n      <td>207</td>\n      <td>11</td>\n    </tr>\n  </tbody>\n</table>\n</div>"
     },
     "execution_count": 99,
     "metadata": {},
     "output_type": "execute_result"
    }
   ],
   "source": [
    "stim_log_subset_df = stim_log_subset_df.loc[\n",
    "    stim_log_subset_df[DURATION_CN].isin(duration_selections), :]\n",
    "stim_log_subset_df.info()\n",
    "stim_log_subset_df"
   ],
   "metadata": {
    "collapsed": false,
    "ExecuteTime": {
     "end_time": "2024-01-16T07:10:24.022637100Z",
     "start_time": "2024-01-16T07:10:23.879557300Z"
    }
   },
   "id": "b4cb6c9a4585a6e6"
  },
  {
   "cell_type": "code",
   "execution_count": 106,
   "outputs": [
    {
     "data": {
      "text/plain": "             description  duration_s                 left      middle  \\\n125   control-short-left        10.0     negative control  fish water   \n127  control-short-right        10.0           fish water  fish water   \n129   control-short-both        10.0     negative control  fish water   \n131    control-long-left        40.0     negative control  fish water   \n133   control-long-right        40.0           fish water  fish water   \n135    control-long-both        40.0     negative control  fish water   \n138  control-short-right        10.0           fish water  fish water   \n140    control-long-left        40.0     negative control  fish water   \n142    control-long-both        40.0     negative control  fish water   \n144   control-short-both        10.0     negative control  fish water   \n146   control-short-left        10.0     negative control  fish water   \n148   control-long-right        40.0           fish water  fish water   \n151        aa-short-left        10.0  amino acid (1.3 mM)  fish water   \n153       aa-short-right        10.0           fish water  fish water   \n155        aa-short-both        10.0  amino acid (1.3 mM)  fish water   \n157         aa-long-left        40.0  amino acid (1.3 mM)  fish water   \n159        aa-long-right        40.0           fish water  fish water   \n161         aa-long-both        40.0  amino acid (1.3 mM)  fish water   \n164       aa-short-right        10.0           fish water  fish water   \n166         aa-long-left        40.0  amino acid (1.3 mM)  fish water   \n168         aa-long-both        40.0  amino acid (1.3 mM)  fish water   \n170        aa-short-both        10.0  amino acid (1.3 mM)  fish water   \n172        aa-short-left        10.0  amino acid (1.3 mM)  fish water   \n174        aa-long-right        40.0           fish water  fish water   \n177        aa-short-left        10.0  amino acid (1.3 mM)  fish water   \n179       aa-short-right        10.0           fish water  fish water   \n181        aa-short-both        10.0  amino acid (1.3 mM)  fish water   \n183         aa-long-left        40.0  amino acid (1.3 mM)  fish water   \n185        aa-long-right        40.0           fish water  fish water   \n187         aa-long-both        40.0  amino acid (1.3 mM)  fish water   \n190       cad-short-left        10.0    cadaverine (2 mM)  fish water   \n192      cad-short-right        10.0           fish water  fish water   \n194       cad-short-both        10.0    cadaverine (2 mM)  fish water   \n196        cad-long-left        40.0    cadaverine (2 mM)  fish water   \n198       cad-long-right        40.0           fish water  fish water   \n200        cad-long-both        40.0    cadaverine (2 mM)  fish water   \n\n                   right   flag stim-type  actual-rel-start-time_s  \\\n125           fish water  False   control               179.998946   \n127     negative control  False   control               250.000247   \n129     negative control  False   control               320.000146   \n131           fish water  False   control               390.000474   \n133     negative control  False   control               520.000670   \n135     negative control  False   control               650.001760   \n138     negative control  False   control               179.998987   \n140           fish water  False   control               250.000507   \n142     negative control  False   control               380.001330   \n144     negative control  False   control               510.001744   \n146           fish water  False   control               580.000910   \n148     negative control  False   control               650.002063   \n151           fish water  False  aa-1.3mM               180.000296   \n153  amino acid (1.3 mM)  False  aa-1.3mM               250.000380   \n155  amino acid (1.3 mM)  False  aa-1.3mM               320.000408   \n157           fish water  False  aa-1.3mM               390.000423   \n159  amino acid (1.3 mM)  False  aa-1.3mM               520.001906   \n161  amino acid (1.3 mM)  False  aa-1.3mM               650.001743   \n164  amino acid (1.3 mM)  False  aa-1.3mM               180.000179   \n166           fish water  False  aa-1.3mM               250.001354   \n168  amino acid (1.3 mM)  False  aa-1.3mM               380.002856   \n170  amino acid (1.3 mM)  False  aa-1.3mM               510.002960   \n172           fish water  False  aa-1.3mM               580.002952   \n174  amino acid (1.3 mM)  False  aa-1.3mM               650.002130   \n177           fish water  False  aa-1.3mM               179.999486   \n179  amino acid (1.3 mM)  False  aa-1.3mM               250.002160   \n181  amino acid (1.3 mM)  False  aa-1.3mM               320.002211   \n183           fish water  False  aa-1.3mM               390.002521   \n185  amino acid (1.3 mM)  False  aa-1.3mM               520.003452   \n187  amino acid (1.3 mM)  False  aa-1.3mM               650.004411   \n190           fish water  False   cdv-2mM               179.999387   \n192    cadaverine (2 mM)  False   cdv-2mM               249.999203   \n194    cadaverine (2 mM)  False   cdv-2mM               319.999036   \n196           fish water  False   cdv-2mM               389.999120   \n198    cadaverine (2 mM)  False   cdv-2mM               520.000167   \n200    cadaverine (2 mM)  False   cdv-2mM               650.001613   \n\n    experiment-id run-id  stim-step-index stimulus-direction  \n125      cs-ii-34    202                1               left  \n127      cs-ii-34    202                3              right  \n129      cs-ii-34    202                5               both  \n131      cs-ii-34    202                7               left  \n133      cs-ii-34    202                9              right  \n135      cs-ii-34    202               11               both  \n138      cs-ii-34    203                1              right  \n140      cs-ii-34    203                3               left  \n142      cs-ii-34    203                5               both  \n144      cs-ii-34    203                7               both  \n146      cs-ii-34    203                9               left  \n148      cs-ii-34    203               11              right  \n151      cs-ii-34    204                1               left  \n153      cs-ii-34    204                3              right  \n155      cs-ii-34    204                5               both  \n157      cs-ii-34    204                7               left  \n159      cs-ii-34    204                9              right  \n161      cs-ii-34    204               11               both  \n164      cs-ii-34    205                1              right  \n166      cs-ii-34    205                3               left  \n168      cs-ii-34    205                5               both  \n170      cs-ii-34    205                7               both  \n172      cs-ii-34    205                9               left  \n174      cs-ii-34    205               11              right  \n177      cs-ii-34    206                1               left  \n179      cs-ii-34    206                3              right  \n181      cs-ii-34    206                5               both  \n183      cs-ii-34    206                7               left  \n185      cs-ii-34    206                9              right  \n187      cs-ii-34    206               11               both  \n190      cs-ii-34    207                1               left  \n192      cs-ii-34    207                3              right  \n194      cs-ii-34    207                5               both  \n196      cs-ii-34    207                7               left  \n198      cs-ii-34    207                9              right  \n200      cs-ii-34    207               11               both  ",
      "text/html": "<div>\n<style scoped>\n    .dataframe tbody tr th:only-of-type {\n        vertical-align: middle;\n    }\n\n    .dataframe tbody tr th {\n        vertical-align: top;\n    }\n\n    .dataframe thead th {\n        text-align: right;\n    }\n</style>\n<table border=\"1\" class=\"dataframe\">\n  <thead>\n    <tr style=\"text-align: right;\">\n      <th></th>\n      <th>description</th>\n      <th>duration_s</th>\n      <th>left</th>\n      <th>middle</th>\n      <th>right</th>\n      <th>flag</th>\n      <th>stim-type</th>\n      <th>actual-rel-start-time_s</th>\n      <th>experiment-id</th>\n      <th>run-id</th>\n      <th>stim-step-index</th>\n      <th>stimulus-direction</th>\n    </tr>\n  </thead>\n  <tbody>\n    <tr>\n      <th>125</th>\n      <td>control-short-left</td>\n      <td>10.0</td>\n      <td>negative control</td>\n      <td>fish water</td>\n      <td>fish water</td>\n      <td>False</td>\n      <td>control</td>\n      <td>179.998946</td>\n      <td>cs-ii-34</td>\n      <td>202</td>\n      <td>1</td>\n      <td>left</td>\n    </tr>\n    <tr>\n      <th>127</th>\n      <td>control-short-right</td>\n      <td>10.0</td>\n      <td>fish water</td>\n      <td>fish water</td>\n      <td>negative control</td>\n      <td>False</td>\n      <td>control</td>\n      <td>250.000247</td>\n      <td>cs-ii-34</td>\n      <td>202</td>\n      <td>3</td>\n      <td>right</td>\n    </tr>\n    <tr>\n      <th>129</th>\n      <td>control-short-both</td>\n      <td>10.0</td>\n      <td>negative control</td>\n      <td>fish water</td>\n      <td>negative control</td>\n      <td>False</td>\n      <td>control</td>\n      <td>320.000146</td>\n      <td>cs-ii-34</td>\n      <td>202</td>\n      <td>5</td>\n      <td>both</td>\n    </tr>\n    <tr>\n      <th>131</th>\n      <td>control-long-left</td>\n      <td>40.0</td>\n      <td>negative control</td>\n      <td>fish water</td>\n      <td>fish water</td>\n      <td>False</td>\n      <td>control</td>\n      <td>390.000474</td>\n      <td>cs-ii-34</td>\n      <td>202</td>\n      <td>7</td>\n      <td>left</td>\n    </tr>\n    <tr>\n      <th>133</th>\n      <td>control-long-right</td>\n      <td>40.0</td>\n      <td>fish water</td>\n      <td>fish water</td>\n      <td>negative control</td>\n      <td>False</td>\n      <td>control</td>\n      <td>520.000670</td>\n      <td>cs-ii-34</td>\n      <td>202</td>\n      <td>9</td>\n      <td>right</td>\n    </tr>\n    <tr>\n      <th>135</th>\n      <td>control-long-both</td>\n      <td>40.0</td>\n      <td>negative control</td>\n      <td>fish water</td>\n      <td>negative control</td>\n      <td>False</td>\n      <td>control</td>\n      <td>650.001760</td>\n      <td>cs-ii-34</td>\n      <td>202</td>\n      <td>11</td>\n      <td>both</td>\n    </tr>\n    <tr>\n      <th>138</th>\n      <td>control-short-right</td>\n      <td>10.0</td>\n      <td>fish water</td>\n      <td>fish water</td>\n      <td>negative control</td>\n      <td>False</td>\n      <td>control</td>\n      <td>179.998987</td>\n      <td>cs-ii-34</td>\n      <td>203</td>\n      <td>1</td>\n      <td>right</td>\n    </tr>\n    <tr>\n      <th>140</th>\n      <td>control-long-left</td>\n      <td>40.0</td>\n      <td>negative control</td>\n      <td>fish water</td>\n      <td>fish water</td>\n      <td>False</td>\n      <td>control</td>\n      <td>250.000507</td>\n      <td>cs-ii-34</td>\n      <td>203</td>\n      <td>3</td>\n      <td>left</td>\n    </tr>\n    <tr>\n      <th>142</th>\n      <td>control-long-both</td>\n      <td>40.0</td>\n      <td>negative control</td>\n      <td>fish water</td>\n      <td>negative control</td>\n      <td>False</td>\n      <td>control</td>\n      <td>380.001330</td>\n      <td>cs-ii-34</td>\n      <td>203</td>\n      <td>5</td>\n      <td>both</td>\n    </tr>\n    <tr>\n      <th>144</th>\n      <td>control-short-both</td>\n      <td>10.0</td>\n      <td>negative control</td>\n      <td>fish water</td>\n      <td>negative control</td>\n      <td>False</td>\n      <td>control</td>\n      <td>510.001744</td>\n      <td>cs-ii-34</td>\n      <td>203</td>\n      <td>7</td>\n      <td>both</td>\n    </tr>\n    <tr>\n      <th>146</th>\n      <td>control-short-left</td>\n      <td>10.0</td>\n      <td>negative control</td>\n      <td>fish water</td>\n      <td>fish water</td>\n      <td>False</td>\n      <td>control</td>\n      <td>580.000910</td>\n      <td>cs-ii-34</td>\n      <td>203</td>\n      <td>9</td>\n      <td>left</td>\n    </tr>\n    <tr>\n      <th>148</th>\n      <td>control-long-right</td>\n      <td>40.0</td>\n      <td>fish water</td>\n      <td>fish water</td>\n      <td>negative control</td>\n      <td>False</td>\n      <td>control</td>\n      <td>650.002063</td>\n      <td>cs-ii-34</td>\n      <td>203</td>\n      <td>11</td>\n      <td>right</td>\n    </tr>\n    <tr>\n      <th>151</th>\n      <td>aa-short-left</td>\n      <td>10.0</td>\n      <td>amino acid (1.3 mM)</td>\n      <td>fish water</td>\n      <td>fish water</td>\n      <td>False</td>\n      <td>aa-1.3mM</td>\n      <td>180.000296</td>\n      <td>cs-ii-34</td>\n      <td>204</td>\n      <td>1</td>\n      <td>left</td>\n    </tr>\n    <tr>\n      <th>153</th>\n      <td>aa-short-right</td>\n      <td>10.0</td>\n      <td>fish water</td>\n      <td>fish water</td>\n      <td>amino acid (1.3 mM)</td>\n      <td>False</td>\n      <td>aa-1.3mM</td>\n      <td>250.000380</td>\n      <td>cs-ii-34</td>\n      <td>204</td>\n      <td>3</td>\n      <td>right</td>\n    </tr>\n    <tr>\n      <th>155</th>\n      <td>aa-short-both</td>\n      <td>10.0</td>\n      <td>amino acid (1.3 mM)</td>\n      <td>fish water</td>\n      <td>amino acid (1.3 mM)</td>\n      <td>False</td>\n      <td>aa-1.3mM</td>\n      <td>320.000408</td>\n      <td>cs-ii-34</td>\n      <td>204</td>\n      <td>5</td>\n      <td>both</td>\n    </tr>\n    <tr>\n      <th>157</th>\n      <td>aa-long-left</td>\n      <td>40.0</td>\n      <td>amino acid (1.3 mM)</td>\n      <td>fish water</td>\n      <td>fish water</td>\n      <td>False</td>\n      <td>aa-1.3mM</td>\n      <td>390.000423</td>\n      <td>cs-ii-34</td>\n      <td>204</td>\n      <td>7</td>\n      <td>left</td>\n    </tr>\n    <tr>\n      <th>159</th>\n      <td>aa-long-right</td>\n      <td>40.0</td>\n      <td>fish water</td>\n      <td>fish water</td>\n      <td>amino acid (1.3 mM)</td>\n      <td>False</td>\n      <td>aa-1.3mM</td>\n      <td>520.001906</td>\n      <td>cs-ii-34</td>\n      <td>204</td>\n      <td>9</td>\n      <td>right</td>\n    </tr>\n    <tr>\n      <th>161</th>\n      <td>aa-long-both</td>\n      <td>40.0</td>\n      <td>amino acid (1.3 mM)</td>\n      <td>fish water</td>\n      <td>amino acid (1.3 mM)</td>\n      <td>False</td>\n      <td>aa-1.3mM</td>\n      <td>650.001743</td>\n      <td>cs-ii-34</td>\n      <td>204</td>\n      <td>11</td>\n      <td>both</td>\n    </tr>\n    <tr>\n      <th>164</th>\n      <td>aa-short-right</td>\n      <td>10.0</td>\n      <td>fish water</td>\n      <td>fish water</td>\n      <td>amino acid (1.3 mM)</td>\n      <td>False</td>\n      <td>aa-1.3mM</td>\n      <td>180.000179</td>\n      <td>cs-ii-34</td>\n      <td>205</td>\n      <td>1</td>\n      <td>right</td>\n    </tr>\n    <tr>\n      <th>166</th>\n      <td>aa-long-left</td>\n      <td>40.0</td>\n      <td>amino acid (1.3 mM)</td>\n      <td>fish water</td>\n      <td>fish water</td>\n      <td>False</td>\n      <td>aa-1.3mM</td>\n      <td>250.001354</td>\n      <td>cs-ii-34</td>\n      <td>205</td>\n      <td>3</td>\n      <td>left</td>\n    </tr>\n    <tr>\n      <th>168</th>\n      <td>aa-long-both</td>\n      <td>40.0</td>\n      <td>amino acid (1.3 mM)</td>\n      <td>fish water</td>\n      <td>amino acid (1.3 mM)</td>\n      <td>False</td>\n      <td>aa-1.3mM</td>\n      <td>380.002856</td>\n      <td>cs-ii-34</td>\n      <td>205</td>\n      <td>5</td>\n      <td>both</td>\n    </tr>\n    <tr>\n      <th>170</th>\n      <td>aa-short-both</td>\n      <td>10.0</td>\n      <td>amino acid (1.3 mM)</td>\n      <td>fish water</td>\n      <td>amino acid (1.3 mM)</td>\n      <td>False</td>\n      <td>aa-1.3mM</td>\n      <td>510.002960</td>\n      <td>cs-ii-34</td>\n      <td>205</td>\n      <td>7</td>\n      <td>both</td>\n    </tr>\n    <tr>\n      <th>172</th>\n      <td>aa-short-left</td>\n      <td>10.0</td>\n      <td>amino acid (1.3 mM)</td>\n      <td>fish water</td>\n      <td>fish water</td>\n      <td>False</td>\n      <td>aa-1.3mM</td>\n      <td>580.002952</td>\n      <td>cs-ii-34</td>\n      <td>205</td>\n      <td>9</td>\n      <td>left</td>\n    </tr>\n    <tr>\n      <th>174</th>\n      <td>aa-long-right</td>\n      <td>40.0</td>\n      <td>fish water</td>\n      <td>fish water</td>\n      <td>amino acid (1.3 mM)</td>\n      <td>False</td>\n      <td>aa-1.3mM</td>\n      <td>650.002130</td>\n      <td>cs-ii-34</td>\n      <td>205</td>\n      <td>11</td>\n      <td>right</td>\n    </tr>\n    <tr>\n      <th>177</th>\n      <td>aa-short-left</td>\n      <td>10.0</td>\n      <td>amino acid (1.3 mM)</td>\n      <td>fish water</td>\n      <td>fish water</td>\n      <td>False</td>\n      <td>aa-1.3mM</td>\n      <td>179.999486</td>\n      <td>cs-ii-34</td>\n      <td>206</td>\n      <td>1</td>\n      <td>left</td>\n    </tr>\n    <tr>\n      <th>179</th>\n      <td>aa-short-right</td>\n      <td>10.0</td>\n      <td>fish water</td>\n      <td>fish water</td>\n      <td>amino acid (1.3 mM)</td>\n      <td>False</td>\n      <td>aa-1.3mM</td>\n      <td>250.002160</td>\n      <td>cs-ii-34</td>\n      <td>206</td>\n      <td>3</td>\n      <td>right</td>\n    </tr>\n    <tr>\n      <th>181</th>\n      <td>aa-short-both</td>\n      <td>10.0</td>\n      <td>amino acid (1.3 mM)</td>\n      <td>fish water</td>\n      <td>amino acid (1.3 mM)</td>\n      <td>False</td>\n      <td>aa-1.3mM</td>\n      <td>320.002211</td>\n      <td>cs-ii-34</td>\n      <td>206</td>\n      <td>5</td>\n      <td>both</td>\n    </tr>\n    <tr>\n      <th>183</th>\n      <td>aa-long-left</td>\n      <td>40.0</td>\n      <td>amino acid (1.3 mM)</td>\n      <td>fish water</td>\n      <td>fish water</td>\n      <td>False</td>\n      <td>aa-1.3mM</td>\n      <td>390.002521</td>\n      <td>cs-ii-34</td>\n      <td>206</td>\n      <td>7</td>\n      <td>left</td>\n    </tr>\n    <tr>\n      <th>185</th>\n      <td>aa-long-right</td>\n      <td>40.0</td>\n      <td>fish water</td>\n      <td>fish water</td>\n      <td>amino acid (1.3 mM)</td>\n      <td>False</td>\n      <td>aa-1.3mM</td>\n      <td>520.003452</td>\n      <td>cs-ii-34</td>\n      <td>206</td>\n      <td>9</td>\n      <td>right</td>\n    </tr>\n    <tr>\n      <th>187</th>\n      <td>aa-long-both</td>\n      <td>40.0</td>\n      <td>amino acid (1.3 mM)</td>\n      <td>fish water</td>\n      <td>amino acid (1.3 mM)</td>\n      <td>False</td>\n      <td>aa-1.3mM</td>\n      <td>650.004411</td>\n      <td>cs-ii-34</td>\n      <td>206</td>\n      <td>11</td>\n      <td>both</td>\n    </tr>\n    <tr>\n      <th>190</th>\n      <td>cad-short-left</td>\n      <td>10.0</td>\n      <td>cadaverine (2 mM)</td>\n      <td>fish water</td>\n      <td>fish water</td>\n      <td>False</td>\n      <td>cdv-2mM</td>\n      <td>179.999387</td>\n      <td>cs-ii-34</td>\n      <td>207</td>\n      <td>1</td>\n      <td>left</td>\n    </tr>\n    <tr>\n      <th>192</th>\n      <td>cad-short-right</td>\n      <td>10.0</td>\n      <td>fish water</td>\n      <td>fish water</td>\n      <td>cadaverine (2 mM)</td>\n      <td>False</td>\n      <td>cdv-2mM</td>\n      <td>249.999203</td>\n      <td>cs-ii-34</td>\n      <td>207</td>\n      <td>3</td>\n      <td>right</td>\n    </tr>\n    <tr>\n      <th>194</th>\n      <td>cad-short-both</td>\n      <td>10.0</td>\n      <td>cadaverine (2 mM)</td>\n      <td>fish water</td>\n      <td>cadaverine (2 mM)</td>\n      <td>False</td>\n      <td>cdv-2mM</td>\n      <td>319.999036</td>\n      <td>cs-ii-34</td>\n      <td>207</td>\n      <td>5</td>\n      <td>both</td>\n    </tr>\n    <tr>\n      <th>196</th>\n      <td>cad-long-left</td>\n      <td>40.0</td>\n      <td>cadaverine (2 mM)</td>\n      <td>fish water</td>\n      <td>fish water</td>\n      <td>False</td>\n      <td>cdv-2mM</td>\n      <td>389.999120</td>\n      <td>cs-ii-34</td>\n      <td>207</td>\n      <td>7</td>\n      <td>left</td>\n    </tr>\n    <tr>\n      <th>198</th>\n      <td>cad-long-right</td>\n      <td>40.0</td>\n      <td>fish water</td>\n      <td>fish water</td>\n      <td>cadaverine (2 mM)</td>\n      <td>False</td>\n      <td>cdv-2mM</td>\n      <td>520.000167</td>\n      <td>cs-ii-34</td>\n      <td>207</td>\n      <td>9</td>\n      <td>right</td>\n    </tr>\n    <tr>\n      <th>200</th>\n      <td>cad-long-both</td>\n      <td>40.0</td>\n      <td>cadaverine (2 mM)</td>\n      <td>fish water</td>\n      <td>cadaverine (2 mM)</td>\n      <td>False</td>\n      <td>cdv-2mM</td>\n      <td>650.001613</td>\n      <td>cs-ii-34</td>\n      <td>207</td>\n      <td>11</td>\n      <td>both</td>\n    </tr>\n  </tbody>\n</table>\n</div>"
     },
     "execution_count": 106,
     "metadata": {},
     "output_type": "execute_result"
    }
   ],
   "source": [
    "SPATIAL_LAYOUT_CN = 'stimulus-direction'\n",
    "stim_log_subset_df[SPATIAL_LAYOUT_CN] = (\n",
    "    (stim_log_subset_df[MANIFOLD_LEFT_CN] != 'fish water') * 1\n",
    "    + (stim_log_subset_df[MANIFOLD_RIGHT_CN] != 'fish water') * 2)\n",
    "stim_log_subset_df[SPATIAL_LAYOUT_CN] = (\n",
    "    stim_log_subset_df[SPATIAL_LAYOUT_CN]\n",
    "    .astype(CategoricalDtype(categories=[1, 2, 3]))\n",
    "    .cat.rename_categories(['left', 'right', 'both']))\n",
    "stim_log_subset_df"
   ],
   "metadata": {
    "collapsed": false,
    "ExecuteTime": {
     "end_time": "2024-01-16T07:30:59.941658Z",
     "start_time": "2024-01-16T07:30:59.864239400Z"
    }
   },
   "id": "f40c75d0eb16e5c1"
  },
  {
   "cell_type": "code",
   "execution_count": 107,
   "outputs": [
    {
     "name": "stdout",
     "output_type": "stream",
     "text": [
      "<class 'pandas.core.frame.DataFrame'>\n",
      "Int64Index: 18 entries, 125 to 194\n",
      "Data columns (total 12 columns):\n",
      " #   Column                   Non-Null Count  Dtype   \n",
      "---  ------                   --------------  -----   \n",
      " 0   description              18 non-null     object  \n",
      " 1   duration_s               18 non-null     float64 \n",
      " 2   left                     18 non-null     category\n",
      " 3   middle                   18 non-null     category\n",
      " 4   right                    18 non-null     category\n",
      " 5   flag                     18 non-null     bool    \n",
      " 6   stim-type                18 non-null     category\n",
      " 7   actual-rel-start-time_s  18 non-null     float64 \n",
      " 8   experiment-id            18 non-null     category\n",
      " 9   run-id                   18 non-null     category\n",
      " 10  stim-step-index          18 non-null     int64   \n",
      " 11  stimulus-direction       18 non-null     category\n",
      "dtypes: bool(1), category(7), float64(2), int64(1), object(1)\n",
      "memory usage: 2.7+ KB\n",
      "<class 'pandas.core.frame.DataFrame'>\n",
      "Int64Index: 18 entries, 131 to 200\n",
      "Data columns (total 12 columns):\n",
      " #   Column                   Non-Null Count  Dtype   \n",
      "---  ------                   --------------  -----   \n",
      " 0   description              18 non-null     object  \n",
      " 1   duration_s               18 non-null     float64 \n",
      " 2   left                     18 non-null     category\n",
      " 3   middle                   18 non-null     category\n",
      " 4   right                    18 non-null     category\n",
      " 5   flag                     18 non-null     bool    \n",
      " 6   stim-type                18 non-null     category\n",
      " 7   actual-rel-start-time_s  18 non-null     float64 \n",
      " 8   experiment-id            18 non-null     category\n",
      " 9   run-id                   18 non-null     category\n",
      " 10  stim-step-index          18 non-null     int64   \n",
      " 11  stimulus-direction       18 non-null     category\n",
      "dtypes: bool(1), category(7), float64(2), int64(1), object(1)\n",
      "memory usage: 2.7+ KB\n"
     ]
    }
   ],
   "source": [
    "stim_log_subset_short_df = stim_log_subset_df.loc[\n",
    "    stim_log_subset_df[DURATION_CN] <= 10, :]\n",
    "stim_log_subset_long_df = stim_log_subset_df.loc[\n",
    "    stim_log_subset_df[DURATION_CN] > 10, :]\n",
    "\n",
    "stim_log_subset_short_df.info()\n",
    "stim_log_subset_long_df.info()"
   ],
   "metadata": {
    "collapsed": false,
    "ExecuteTime": {
     "end_time": "2024-01-16T07:32:16.487268100Z",
     "start_time": "2024-01-16T07:32:16.378438200Z"
    }
   },
   "id": "8660d8b5efffcfb1"
  },
  {
   "cell_type": "code",
   "execution_count": null,
   "outputs": [],
   "source": [
    "%matplotlib qt\n",
    "stim_duration = 10\n",
    "time_pre_stim_start = 20\n",
    "time_post_stim = 50\n",
    "time_post_stim_start = stim_duration + time_post_stim\n",
    "\n",
    "sampling_period = 0.5\n",
    "ref_time_array = np.arange(-1 * time_pre_stim_start, time_post_stim_start, \n",
    "                           sampling_period)\n",
    "ref_time_index = pd.Index(ref_time_array, name=TIME_CN)\n",
    "log.info(f'{ref_time_array.shape = }')\n",
    "log.info(f'{ref_time_index = }')\n",
    "\n",
    "stim_seq_dfs = []\n",
    "for _, stim_loc_row in stim_log_subset_short_df.iterrows():\n",
    "    log.info(f'{stim_loc_row[EXPERIMENT_ID_CN] = }, {stim_loc_row[RUN_ID_CN] = }')\n",
    "    \n",
    "    activity_traces_subset_df: pd.DataFrame = activity_traces_df.loc[\n",
    "        (activity_traces_df[EXPERIMENT_ID_CN] == stim_loc_row[EXPERIMENT_ID_CN]) &\n",
    "        (activity_traces_df[RUN_ID_CN] == stim_loc_row[RUN_ID_CN]), :].copy()\n",
    "    \n",
    "    if activity_traces_subset_df.shape[0] == 0:\n",
    "        continue\n",
    "    \n",
    "    activity_traces_subset_df[TIME_CN] = activity_traces_subset_df[TIME_CN] - stim_loc_row[REL_START_TIME_CN]\n",
    "    activity_traces_subset_df = activity_traces_subset_df.loc[\n",
    "        (activity_traces_subset_df[TIME_CN] >= (-1 * (2 + time_pre_stim_start))) &\n",
    "        (activity_traces_subset_df[TIME_CN] <= (2 + time_post_stim_start)), :]\n",
    "    \n",
    "    log.info(f'{activity_traces_subset_df.shape = }')\n",
    "    \n",
    "    activity_traces_subset_data = activity_traces_subset_df.pivot(\n",
    "        index=TIME_CN,\n",
    "        columns=[REGION_CN, LAT_SIDE_CN, EXPERIMENT_ID_CN, RUN_ID_CN],\n",
    "        values=MEAN_CN)\n",
    "    log.info(f'{activity_traces_subset_data.shape = }')    \n",
    "    \n",
    "    baseline_mean = activity_traces_subset_data.loc[\n",
    "        (activity_traces_subset_data.index < -1), :].quantile(0.5, axis=0)\n",
    "    log.info(f'{baseline_mean.shape = }')\n",
    "    \n",
    "    activity_traces_subset_data = (activity_traces_subset_data - baseline_mean) / baseline_mean\n",
    "    interp_res = scipy.interpolate.interp1d(\n",
    "        activity_traces_subset_data.index,\n",
    "        activity_traces_subset_data,\n",
    "        axis=0,\n",
    "        kind='linear',\n",
    "        bounds_error=False)(ref_time_array)\n",
    "    interp_res = scipy.ndimage.gaussian_filter1d(\n",
    "        interp_res, 0.5 / sampling_period, axis=0, mode='nearest')\n",
    "    \n",
    "    log.info(f'{interp_res.shape = }')\n",
    "    \n",
    "    activity_traces_subset_data = pd.DataFrame(\n",
    "        interp_res,\n",
    "        index=ref_time_index,\n",
    "        columns=activity_traces_subset_data.columns)       \n",
    "    \n",
    "    # make filtered data back into dataframe\n",
    "    filt_activity_traces_subset_df = (\n",
    "        activity_traces_subset_data.melt(value_name=MEAN_CN, ignore_index=False)\n",
    "        .reset_index())\n",
    "    filt_activity_traces_subset_df[SPATIAL_LAYOUT_CN] = stim_loc_row[SPATIAL_LAYOUT_CN]\n",
    "    filt_activity_traces_subset_df[STIM_TYPE_CN] = stim_loc_row[STIM_TYPE_CN]\n",
    "    log.info(f'{filt_activity_traces_subset_df.shape = }')\n",
    "    \n",
    "    stim_seq_dfs.append(filt_activity_traces_subset_df)\n",
    "    \n",
    "stim_seq_df = pd.concat(stim_seq_dfs, axis=0, ignore_index=True)\n",
    "\n",
    "stim_seq_df.info()\n",
    "stim_seq_df"
   ],
   "metadata": {
    "collapsed": false
   },
   "id": "3a2683c47fdb4890"
  },
  {
   "cell_type": "code",
   "execution_count": null,
   "outputs": [],
   "source": [
    "%matplotlib qt\n",
    "\n",
    "for i, region_chunk in enumerate(chunks(all_regions, 1)):\n",
    "    # log.info(f'{region_chunk = }')\n",
    "    \n",
    "    save_path = os.path.join(multi_experiment_output_dir, \n",
    "                             'figures',\n",
    "                             f'stimulation-multi-stim-type',\n",
    "                             f'multi_stim_'\n",
    "                             f'{stim_duration:.0f}s-pulse_'\n",
    "                             f'{i:03d}-region_'\n",
    "                             f'aggregated-results.png')\n",
    "    \n",
    "    if os.path.exists(save_path):\n",
    "        continue\n",
    "                \n",
    "    try:\n",
    "        subset_df = stim_seq_df.loc[stim_seq_df[REGION_CN].isin(region_chunk), :]\n",
    "        \n",
    "        fig = sns.relplot(\n",
    "            data=subset_df,\n",
    "            x=TIME_CN,\n",
    "            y=MEAN_CN,\n",
    "            hue=LAT_SIDE_CN,\n",
    "            col=SPATIAL_LAYOUT_CN,\n",
    "            row=STIM_TYPE_CN,        \n",
    "            kind='line',\n",
    "            facet_kws={'sharey': True, 'sharex': True},\n",
    "            errorbar=('se', 2),\n",
    "            height=2.5,\n",
    "            aspect=1.5)\n",
    "    \n",
    "        (fig\n",
    "         .map(plt.axvline, x=0, color='k', dashes=(2, 1), linewidth=1, zorder=0)\n",
    "         .map(plt.axhline, y=0, color='k', dashes=(2, 1), linewidth=1, zorder=0)\n",
    "         .map(plt.fill_between, x=[0, stim_duration], y1=[-5, -5], y2=[5, 5], \n",
    "              color='k', alpha=0.1, linewidth=0, zorder=-1)\n",
    "         .set_axis_labels('Time (s)', 'Delta F / F (a.u.)')\n",
    "         .set(xlim=(-1 * time_pre_stim_start, time_post_stim_start),\n",
    "              ylim=(-0.3, 0.6))\n",
    "         .tight_layout(h_pad=0.75, w_pad=0.5, rect=(0, 0, 0.93, 0.93)))\n",
    "        \n",
    "        fig.fig.suptitle(f'{region_chunk[0]}'\n",
    "                         f'\\nAggregated Results for Stimulation with different Odors, '\n",
    "                         f'{stim_duration} s Pulse '\n",
    "                         f'(two standard errors shaded)', \n",
    "                         y=0.99)\n",
    "        \n",
    "        # sns.despine(offset=2, trim=True)\n",
    "    \n",
    "        save_path = os.path.join(multi_experiment_output_dir, \n",
    "                                 'figures',\n",
    "                                 f'stimulation-multi-stim-type',\n",
    "                                 f'multi_stim_'\n",
    "                                 f'{stim_duration:.0f}s-pulse_'\n",
    "                                 f'{i:03d}-region_'\n",
    "                                 f'aggregated-results.png')\n",
    "        csutils.touchdir(os.path.dirname(save_path))\n",
    "        log.info(f'Saving figure to disk...')\n",
    "        fig.savefig(save_path, dpi=300)\n",
    "        plt.close(fig.fig)\n",
    "    except Exception as e:\n",
    "        log.error(f'Error generating figure.', exc_info=e)\n",
    "    finally:\n",
    "        plt.close('all')\n",
    "        "
   ],
   "metadata": {
    "collapsed": false
   },
   "id": "e9e78c8821eee146"
  },
  {
   "cell_type": "code",
   "execution_count": null,
   "outputs": [],
   "source": [
    "%matplotlib qt\n",
    "stim_duration = 40\n",
    "time_pre_stim_start = 30\n",
    "time_post_stim = 90\n",
    "time_post_stim_start = stim_duration + time_post_stim\n",
    "\n",
    "sampling_period = 0.5\n",
    "ref_time_array = np.arange(-1 * time_pre_stim_start, time_post_stim_start, \n",
    "                           sampling_period)\n",
    "ref_time_index = pd.Index(ref_time_array, name=TIME_CN)\n",
    "log.info(f'{ref_time_array.shape = }')\n",
    "log.info(f'{ref_time_index = }')\n",
    "\n",
    "stim_seq_dfs = []\n",
    "for _, stim_loc_row in stim_log_subset_long_df.iterrows():\n",
    "    log.info(f'{stim_loc_row[EXPERIMENT_ID_CN] = }, {stim_loc_row[RUN_ID_CN] = }')\n",
    "    \n",
    "    activity_traces_subset_df: pd.DataFrame = activity_traces_df.loc[\n",
    "        (activity_traces_df[EXPERIMENT_ID_CN] == stim_loc_row[EXPERIMENT_ID_CN]) &\n",
    "        (activity_traces_df[RUN_ID_CN] == stim_loc_row[RUN_ID_CN]), :].copy()\n",
    "    \n",
    "    if activity_traces_subset_df.shape[0] == 0:\n",
    "        continue\n",
    "    \n",
    "    activity_traces_subset_df[TIME_CN] = activity_traces_subset_df[TIME_CN] - stim_loc_row[REL_START_TIME_CN]\n",
    "    activity_traces_subset_df = activity_traces_subset_df.loc[\n",
    "        (activity_traces_subset_df[TIME_CN] >= (-1 * (2 + time_pre_stim_start))) &\n",
    "        (activity_traces_subset_df[TIME_CN] <= (2 + time_post_stim_start)), :]\n",
    "    \n",
    "    log.info(f'{activity_traces_subset_df.shape = }')\n",
    "    \n",
    "    activity_traces_subset_data = activity_traces_subset_df.pivot(\n",
    "        index=TIME_CN,\n",
    "        columns=[REGION_CN, LAT_SIDE_CN, EXPERIMENT_ID_CN, RUN_ID_CN],\n",
    "        values=MEAN_CN)\n",
    "    log.info(f'{activity_traces_subset_data.shape = }')    \n",
    "    \n",
    "    baseline_mean = activity_traces_subset_data.loc[\n",
    "        (activity_traces_subset_data.index < -1), :].quantile(0.5, axis=0)\n",
    "    log.info(f'{baseline_mean.shape = }')\n",
    "    \n",
    "    activity_traces_subset_data = (activity_traces_subset_data - baseline_mean) / baseline_mean\n",
    "    interp_res = scipy.interpolate.interp1d(\n",
    "        activity_traces_subset_data.index,\n",
    "        activity_traces_subset_data,\n",
    "        axis=0,\n",
    "        kind='linear',\n",
    "        bounds_error=False)(ref_time_array)\n",
    "    interp_res = scipy.ndimage.gaussian_filter1d(\n",
    "        interp_res, 0.5 / sampling_period, axis=0, mode='nearest')\n",
    "    \n",
    "    log.info(f'{interp_res.shape = }')\n",
    "    \n",
    "    activity_traces_subset_data = pd.DataFrame(\n",
    "        interp_res,\n",
    "        index=ref_time_index,\n",
    "        columns=activity_traces_subset_data.columns)       \n",
    "    \n",
    "    # make filtered data back into dataframe\n",
    "    filt_activity_traces_subset_df = (\n",
    "        activity_traces_subset_data.melt(value_name=MEAN_CN, ignore_index=False)\n",
    "        .reset_index())\n",
    "    filt_activity_traces_subset_df[SPATIAL_LAYOUT_CN] = stim_loc_row[SPATIAL_LAYOUT_CN]\n",
    "    filt_activity_traces_subset_df[STIM_TYPE_CN] = stim_loc_row[STIM_TYPE_CN]\n",
    "    log.info(f'{filt_activity_traces_subset_df.shape = }')\n",
    "    \n",
    "    stim_seq_dfs.append(filt_activity_traces_subset_df)\n",
    "    \n",
    "stim_seq_df = pd.concat(stim_seq_dfs, axis=0, ignore_index=True)\n",
    "\n",
    "stim_seq_df.info()\n",
    "stim_seq_df"
   ],
   "metadata": {
    "collapsed": false
   },
   "id": "1514f6090e66b162"
  },
  {
   "cell_type": "code",
   "execution_count": null,
   "outputs": [],
   "source": [
    "%matplotlib qt\n",
    "\n",
    "for i, region_chunk in enumerate(chunks(all_regions, 1)):\n",
    "    # log.info(f'{region_chunk = }')\n",
    "    \n",
    "    save_path = os.path.join(multi_experiment_output_dir, \n",
    "                             'figures',\n",
    "                             f'stimulation-multi-stim-type',\n",
    "                             f'multi_stim_'\n",
    "                             f'{stim_duration:.0f}s-pulse_'\n",
    "                             f'{i:03d}-region_'\n",
    "                             f'aggregated-results.png')\n",
    "    \n",
    "    if os.path.exists(save_path):\n",
    "        continue\n",
    "                \n",
    "    try:\n",
    "        subset_df = stim_seq_df.loc[stim_seq_df[REGION_CN].isin(region_chunk), :]\n",
    "        \n",
    "        fig = sns.relplot(\n",
    "            data=subset_df,\n",
    "            x=TIME_CN,\n",
    "            y=MEAN_CN,\n",
    "            hue=LAT_SIDE_CN,\n",
    "            col=SPATIAL_LAYOUT_CN,\n",
    "            row=STIM_TYPE_CN,        \n",
    "            kind='line',\n",
    "            facet_kws={'sharey': True, 'sharex': True},\n",
    "            errorbar=('se', 2),\n",
    "            height=2.5,\n",
    "            aspect=1.5)\n",
    "    \n",
    "        (fig\n",
    "         .map(plt.axvline, x=0, color='k', dashes=(2, 1), linewidth=1, zorder=0)\n",
    "         .map(plt.axhline, y=0, color='k', dashes=(2, 1), linewidth=1, zorder=0)\n",
    "         .map(plt.fill_between, x=[0, stim_duration], y1=[-5, -5], y2=[5, 5], \n",
    "              color='k', alpha=0.1, linewidth=0, zorder=-1)\n",
    "         .set_axis_labels('Time (s)', 'Delta F / F (a.u.)')\n",
    "         .set(xlim=(-1 * time_pre_stim_start, time_post_stim_start),\n",
    "              ylim=(-0.3, 0.6))\n",
    "         .tight_layout(h_pad=0.75, w_pad=0.5, rect=(0, 0, 0.93, 0.93)))\n",
    "        \n",
    "        fig.fig.suptitle(f'{region_chunk[0]}'\n",
    "                         f'\\nAggregated Results for Stimulation with different Odors, '\n",
    "                         f'{stim_duration} s Pulse '\n",
    "                         f'(two standard errors shaded)', \n",
    "                         y=0.99)\n",
    "        \n",
    "        # sns.despine(offset=2, trim=True)\n",
    "    \n",
    "        csutils.touchdir(os.path.dirname(save_path))\n",
    "        log.info(f'Saving figure to disk...')\n",
    "        fig.savefig(save_path, dpi=300)\n",
    "        plt.close(fig.fig)\n",
    "    except Exception as e:\n",
    "        log.error(f'Error generating figure.', exc_info=e)\n",
    "    finally:\n",
    "        plt.close('all')"
   ],
   "metadata": {
    "collapsed": false
   },
   "id": "86d148c6fe6a0917"
  },
  {
   "cell_type": "code",
   "execution_count": 143,
   "outputs": [
    {
     "name": "stdout",
     "output_type": "stream",
     "text": [
      "<class 'pandas.core.frame.DataFrame'>\n",
      "Int64Index: 24 entries, 44 to 248\n",
      "Data columns (total 11 columns):\n",
      " #   Column                   Non-Null Count  Dtype   \n",
      "---  ------                   --------------  -----   \n",
      " 0   description              24 non-null     object  \n",
      " 1   duration_s               24 non-null     float64 \n",
      " 2   left                     24 non-null     category\n",
      " 3   middle                   24 non-null     category\n",
      " 4   right                    24 non-null     category\n",
      " 5   flag                     24 non-null     bool    \n",
      " 6   stim-type                24 non-null     category\n",
      " 7   actual-rel-start-time_s  24 non-null     float64 \n",
      " 8   experiment-id            24 non-null     category\n",
      " 9   run-id                   24 non-null     category\n",
      " 10  stim-step-index          24 non-null     int64   \n",
      "dtypes: bool(1), category(6), float64(2), int64(1), object(1)\n",
      "memory usage: 2.9+ KB\n"
     ]
    },
    {
     "data": {
      "text/plain": "            description  duration_s                 left      middle  \\\n44   cadaverine sustain        30.0    cadaverine (2 mM)  fish water   \n46           aa sustain        30.0  amino acid (1.3 mM)  fish water   \n48           aa sustain        30.0  amino acid (1.3 mM)  fish water   \n50   cadaverine sustain        30.0    cadaverine (2 mM)  fish water   \n68   cadaverine sustain        30.0    cadaverine (2 mM)  fish water   \n70           aa sustain        30.0  amino acid (1.3 mM)  fish water   \n72           aa sustain        30.0  amino acid (1.3 mM)  fish water   \n74   cadaverine sustain        30.0    cadaverine (2 mM)  fish water   \n92   cadaverine sustain        30.0    cadaverine (2 mM)  fish water   \n94           aa sustain        30.0  amino acid (1.3 mM)  fish water   \n96           aa sustain        30.0  amino acid (1.3 mM)  fish water   \n98   cadaverine sustain        30.0    cadaverine (2 mM)  fish water   \n116  cadaverine sustain        30.0    cadaverine (2 mM)  fish water   \n118          aa sustain        30.0  amino acid (1.3 mM)  fish water   \n120          aa sustain        30.0  amino acid (1.3 mM)  fish water   \n122  cadaverine sustain        30.0    cadaverine (2 mM)  fish water   \n218  cadaverine sustain        30.0    cadaverine (2 mM)  fish water   \n220          aa sustain        30.0  amino acid (1.3 mM)  fish water   \n222          aa sustain        30.0  amino acid (1.3 mM)  fish water   \n224  cadaverine sustain        30.0    cadaverine (2 mM)  fish water   \n242  cadaverine sustain        30.0    cadaverine (2 mM)  fish water   \n244          aa sustain        30.0  amino acid (1.3 mM)  fish water   \n246          aa sustain        30.0  amino acid (1.3 mM)  fish water   \n248  cadaverine sustain        30.0    cadaverine (2 mM)  fish water   \n\n                   right   flag stim-type  actual-rel-start-time_s  \\\n44     cadaverine (2 mM)  False   cdv-2mM               668.007909   \n46   amino acid (1.3 mM)  False  aa-1.3mM               818.009439   \n48   amino acid (1.3 mM)  False  aa-1.3mM               968.010798   \n50     cadaverine (2 mM)  False   cdv-2mM              1118.010576   \n68     cadaverine (2 mM)  False   cdv-2mM               668.003620   \n70   amino acid (1.3 mM)  False  aa-1.3mM               818.005731   \n72   amino acid (1.3 mM)  False  aa-1.3mM               968.005218   \n74     cadaverine (2 mM)  False   cdv-2mM              1118.005257   \n92     cadaverine (2 mM)  False   cdv-2mM               668.003338   \n94   amino acid (1.3 mM)  False  aa-1.3mM               818.003908   \n96   amino acid (1.3 mM)  False  aa-1.3mM               968.004430   \n98     cadaverine (2 mM)  False   cdv-2mM              1118.004822   \n116    cadaverine (2 mM)  False   cdv-2mM               668.002303   \n118  amino acid (1.3 mM)  False  aa-1.3mM               818.003635   \n120  amino acid (1.3 mM)  False  aa-1.3mM               968.004289   \n122    cadaverine (2 mM)  False   cdv-2mM              1118.004721   \n218    cadaverine (2 mM)  False   cdv-2mM               668.006671   \n220  amino acid (1.3 mM)  False  aa-1.3mM               818.007535   \n222  amino acid (1.3 mM)  False  aa-1.3mM               968.007557   \n224    cadaverine (2 mM)  False   cdv-2mM              1118.008516   \n242    cadaverine (2 mM)  False   cdv-2mM               668.004826   \n244  amino acid (1.3 mM)  False  aa-1.3mM               818.005670   \n246  amino acid (1.3 mM)  False  aa-1.3mM               968.005482   \n248    cadaverine (2 mM)  False   cdv-2mM              1118.006394   \n\n    experiment-id run-id  stim-step-index  \n44       cs-ii-33    188               16  \n46       cs-ii-33    188               18  \n48       cs-ii-33    188               20  \n50       cs-ii-33    188               22  \n68       cs-ii-33    189               16  \n70       cs-ii-33    189               18  \n72       cs-ii-33    189               20  \n74       cs-ii-33    189               22  \n92       cs-ii-33    190               16  \n94       cs-ii-33    190               18  \n96       cs-ii-33    190               20  \n98       cs-ii-33    190               22  \n116      cs-ii-33    195               16  \n118      cs-ii-33    195               18  \n120      cs-ii-33    195               20  \n122      cs-ii-33    195               22  \n218      cs-ii-34    208               16  \n220      cs-ii-34    208               18  \n222      cs-ii-34    208               20  \n224      cs-ii-34    208               22  \n242      cs-ii-34    209               16  \n244      cs-ii-34    209               18  \n246      cs-ii-34    209               20  \n248      cs-ii-34    209               22  ",
      "text/html": "<div>\n<style scoped>\n    .dataframe tbody tr th:only-of-type {\n        vertical-align: middle;\n    }\n\n    .dataframe tbody tr th {\n        vertical-align: top;\n    }\n\n    .dataframe thead th {\n        text-align: right;\n    }\n</style>\n<table border=\"1\" class=\"dataframe\">\n  <thead>\n    <tr style=\"text-align: right;\">\n      <th></th>\n      <th>description</th>\n      <th>duration_s</th>\n      <th>left</th>\n      <th>middle</th>\n      <th>right</th>\n      <th>flag</th>\n      <th>stim-type</th>\n      <th>actual-rel-start-time_s</th>\n      <th>experiment-id</th>\n      <th>run-id</th>\n      <th>stim-step-index</th>\n    </tr>\n  </thead>\n  <tbody>\n    <tr>\n      <th>44</th>\n      <td>cadaverine sustain</td>\n      <td>30.0</td>\n      <td>cadaverine (2 mM)</td>\n      <td>fish water</td>\n      <td>cadaverine (2 mM)</td>\n      <td>False</td>\n      <td>cdv-2mM</td>\n      <td>668.007909</td>\n      <td>cs-ii-33</td>\n      <td>188</td>\n      <td>16</td>\n    </tr>\n    <tr>\n      <th>46</th>\n      <td>aa sustain</td>\n      <td>30.0</td>\n      <td>amino acid (1.3 mM)</td>\n      <td>fish water</td>\n      <td>amino acid (1.3 mM)</td>\n      <td>False</td>\n      <td>aa-1.3mM</td>\n      <td>818.009439</td>\n      <td>cs-ii-33</td>\n      <td>188</td>\n      <td>18</td>\n    </tr>\n    <tr>\n      <th>48</th>\n      <td>aa sustain</td>\n      <td>30.0</td>\n      <td>amino acid (1.3 mM)</td>\n      <td>fish water</td>\n      <td>amino acid (1.3 mM)</td>\n      <td>False</td>\n      <td>aa-1.3mM</td>\n      <td>968.010798</td>\n      <td>cs-ii-33</td>\n      <td>188</td>\n      <td>20</td>\n    </tr>\n    <tr>\n      <th>50</th>\n      <td>cadaverine sustain</td>\n      <td>30.0</td>\n      <td>cadaverine (2 mM)</td>\n      <td>fish water</td>\n      <td>cadaverine (2 mM)</td>\n      <td>False</td>\n      <td>cdv-2mM</td>\n      <td>1118.010576</td>\n      <td>cs-ii-33</td>\n      <td>188</td>\n      <td>22</td>\n    </tr>\n    <tr>\n      <th>68</th>\n      <td>cadaverine sustain</td>\n      <td>30.0</td>\n      <td>cadaverine (2 mM)</td>\n      <td>fish water</td>\n      <td>cadaverine (2 mM)</td>\n      <td>False</td>\n      <td>cdv-2mM</td>\n      <td>668.003620</td>\n      <td>cs-ii-33</td>\n      <td>189</td>\n      <td>16</td>\n    </tr>\n    <tr>\n      <th>70</th>\n      <td>aa sustain</td>\n      <td>30.0</td>\n      <td>amino acid (1.3 mM)</td>\n      <td>fish water</td>\n      <td>amino acid (1.3 mM)</td>\n      <td>False</td>\n      <td>aa-1.3mM</td>\n      <td>818.005731</td>\n      <td>cs-ii-33</td>\n      <td>189</td>\n      <td>18</td>\n    </tr>\n    <tr>\n      <th>72</th>\n      <td>aa sustain</td>\n      <td>30.0</td>\n      <td>amino acid (1.3 mM)</td>\n      <td>fish water</td>\n      <td>amino acid (1.3 mM)</td>\n      <td>False</td>\n      <td>aa-1.3mM</td>\n      <td>968.005218</td>\n      <td>cs-ii-33</td>\n      <td>189</td>\n      <td>20</td>\n    </tr>\n    <tr>\n      <th>74</th>\n      <td>cadaverine sustain</td>\n      <td>30.0</td>\n      <td>cadaverine (2 mM)</td>\n      <td>fish water</td>\n      <td>cadaverine (2 mM)</td>\n      <td>False</td>\n      <td>cdv-2mM</td>\n      <td>1118.005257</td>\n      <td>cs-ii-33</td>\n      <td>189</td>\n      <td>22</td>\n    </tr>\n    <tr>\n      <th>92</th>\n      <td>cadaverine sustain</td>\n      <td>30.0</td>\n      <td>cadaverine (2 mM)</td>\n      <td>fish water</td>\n      <td>cadaverine (2 mM)</td>\n      <td>False</td>\n      <td>cdv-2mM</td>\n      <td>668.003338</td>\n      <td>cs-ii-33</td>\n      <td>190</td>\n      <td>16</td>\n    </tr>\n    <tr>\n      <th>94</th>\n      <td>aa sustain</td>\n      <td>30.0</td>\n      <td>amino acid (1.3 mM)</td>\n      <td>fish water</td>\n      <td>amino acid (1.3 mM)</td>\n      <td>False</td>\n      <td>aa-1.3mM</td>\n      <td>818.003908</td>\n      <td>cs-ii-33</td>\n      <td>190</td>\n      <td>18</td>\n    </tr>\n    <tr>\n      <th>96</th>\n      <td>aa sustain</td>\n      <td>30.0</td>\n      <td>amino acid (1.3 mM)</td>\n      <td>fish water</td>\n      <td>amino acid (1.3 mM)</td>\n      <td>False</td>\n      <td>aa-1.3mM</td>\n      <td>968.004430</td>\n      <td>cs-ii-33</td>\n      <td>190</td>\n      <td>20</td>\n    </tr>\n    <tr>\n      <th>98</th>\n      <td>cadaverine sustain</td>\n      <td>30.0</td>\n      <td>cadaverine (2 mM)</td>\n      <td>fish water</td>\n      <td>cadaverine (2 mM)</td>\n      <td>False</td>\n      <td>cdv-2mM</td>\n      <td>1118.004822</td>\n      <td>cs-ii-33</td>\n      <td>190</td>\n      <td>22</td>\n    </tr>\n    <tr>\n      <th>116</th>\n      <td>cadaverine sustain</td>\n      <td>30.0</td>\n      <td>cadaverine (2 mM)</td>\n      <td>fish water</td>\n      <td>cadaverine (2 mM)</td>\n      <td>False</td>\n      <td>cdv-2mM</td>\n      <td>668.002303</td>\n      <td>cs-ii-33</td>\n      <td>195</td>\n      <td>16</td>\n    </tr>\n    <tr>\n      <th>118</th>\n      <td>aa sustain</td>\n      <td>30.0</td>\n      <td>amino acid (1.3 mM)</td>\n      <td>fish water</td>\n      <td>amino acid (1.3 mM)</td>\n      <td>False</td>\n      <td>aa-1.3mM</td>\n      <td>818.003635</td>\n      <td>cs-ii-33</td>\n      <td>195</td>\n      <td>18</td>\n    </tr>\n    <tr>\n      <th>120</th>\n      <td>aa sustain</td>\n      <td>30.0</td>\n      <td>amino acid (1.3 mM)</td>\n      <td>fish water</td>\n      <td>amino acid (1.3 mM)</td>\n      <td>False</td>\n      <td>aa-1.3mM</td>\n      <td>968.004289</td>\n      <td>cs-ii-33</td>\n      <td>195</td>\n      <td>20</td>\n    </tr>\n    <tr>\n      <th>122</th>\n      <td>cadaverine sustain</td>\n      <td>30.0</td>\n      <td>cadaverine (2 mM)</td>\n      <td>fish water</td>\n      <td>cadaverine (2 mM)</td>\n      <td>False</td>\n      <td>cdv-2mM</td>\n      <td>1118.004721</td>\n      <td>cs-ii-33</td>\n      <td>195</td>\n      <td>22</td>\n    </tr>\n    <tr>\n      <th>218</th>\n      <td>cadaverine sustain</td>\n      <td>30.0</td>\n      <td>cadaverine (2 mM)</td>\n      <td>fish water</td>\n      <td>cadaverine (2 mM)</td>\n      <td>False</td>\n      <td>cdv-2mM</td>\n      <td>668.006671</td>\n      <td>cs-ii-34</td>\n      <td>208</td>\n      <td>16</td>\n    </tr>\n    <tr>\n      <th>220</th>\n      <td>aa sustain</td>\n      <td>30.0</td>\n      <td>amino acid (1.3 mM)</td>\n      <td>fish water</td>\n      <td>amino acid (1.3 mM)</td>\n      <td>False</td>\n      <td>aa-1.3mM</td>\n      <td>818.007535</td>\n      <td>cs-ii-34</td>\n      <td>208</td>\n      <td>18</td>\n    </tr>\n    <tr>\n      <th>222</th>\n      <td>aa sustain</td>\n      <td>30.0</td>\n      <td>amino acid (1.3 mM)</td>\n      <td>fish water</td>\n      <td>amino acid (1.3 mM)</td>\n      <td>False</td>\n      <td>aa-1.3mM</td>\n      <td>968.007557</td>\n      <td>cs-ii-34</td>\n      <td>208</td>\n      <td>20</td>\n    </tr>\n    <tr>\n      <th>224</th>\n      <td>cadaverine sustain</td>\n      <td>30.0</td>\n      <td>cadaverine (2 mM)</td>\n      <td>fish water</td>\n      <td>cadaverine (2 mM)</td>\n      <td>False</td>\n      <td>cdv-2mM</td>\n      <td>1118.008516</td>\n      <td>cs-ii-34</td>\n      <td>208</td>\n      <td>22</td>\n    </tr>\n    <tr>\n      <th>242</th>\n      <td>cadaverine sustain</td>\n      <td>30.0</td>\n      <td>cadaverine (2 mM)</td>\n      <td>fish water</td>\n      <td>cadaverine (2 mM)</td>\n      <td>False</td>\n      <td>cdv-2mM</td>\n      <td>668.004826</td>\n      <td>cs-ii-34</td>\n      <td>209</td>\n      <td>16</td>\n    </tr>\n    <tr>\n      <th>244</th>\n      <td>aa sustain</td>\n      <td>30.0</td>\n      <td>amino acid (1.3 mM)</td>\n      <td>fish water</td>\n      <td>amino acid (1.3 mM)</td>\n      <td>False</td>\n      <td>aa-1.3mM</td>\n      <td>818.005670</td>\n      <td>cs-ii-34</td>\n      <td>209</td>\n      <td>18</td>\n    </tr>\n    <tr>\n      <th>246</th>\n      <td>aa sustain</td>\n      <td>30.0</td>\n      <td>amino acid (1.3 mM)</td>\n      <td>fish water</td>\n      <td>amino acid (1.3 mM)</td>\n      <td>False</td>\n      <td>aa-1.3mM</td>\n      <td>968.005482</td>\n      <td>cs-ii-34</td>\n      <td>209</td>\n      <td>20</td>\n    </tr>\n    <tr>\n      <th>248</th>\n      <td>cadaverine sustain</td>\n      <td>30.0</td>\n      <td>cadaverine (2 mM)</td>\n      <td>fish water</td>\n      <td>cadaverine (2 mM)</td>\n      <td>False</td>\n      <td>cdv-2mM</td>\n      <td>1118.006394</td>\n      <td>cs-ii-34</td>\n      <td>209</td>\n      <td>22</td>\n    </tr>\n  </tbody>\n</table>\n</div>"
     },
     "execution_count": 143,
     "metadata": {},
     "output_type": "execute_result"
    }
   ],
   "source": [
    "selected_stim_types = ['cdv-2mM', 'aa-1.3mM', 'aa-1.3mM&cdv-2mM']\n",
    "stim_log_subset_df: pd.DataFrame = (\n",
    "    stimulation_log_df\n",
    "    .loc[stimulation_log_df[STIM_TYPE_CN].isin(selected_stim_types)\n",
    "         & stimulation_log_df[DURATION_CN].isin([30.]), :])\n",
    "stim_log_subset_df.info()\n",
    "stim_log_subset_df\n"
   ],
   "metadata": {
    "collapsed": false,
    "ExecuteTime": {
     "end_time": "2024-01-16T09:27:08.475844800Z",
     "start_time": "2024-01-16T09:27:08.388696100Z"
    }
   },
   "id": "c591aec7fc66c18c"
  },
  {
   "cell_type": "code",
   "execution_count": 146,
   "outputs": [
    {
     "name": "stdout",
     "output_type": "stream",
     "text": [
      "matplotlib.pyplot ( 339): DEBUG : Loaded backend Qt5Agg version 5.15.7.\n",
      "local-nb_cs-ii-[33,34]_activity_stimulus_overlays (  11): INFO : ref_time_array.shape = (240,)\n",
      "local-nb_cs-ii-[33,34]_activity_stimulus_overlays (  12): INFO : ref_time_index = Float64Index([-30.0, -29.5, -29.0, -28.5, -28.0, -27.5, -27.0, -26.5, -26.0,\n",
      "              -25.5,\n",
      "              ...\n",
      "               85.0,  85.5,  86.0,  86.5,  87.0,  87.5,  88.0,  88.5,  89.0,\n",
      "               89.5],\n",
      "             dtype='float64', name='time', length=240)\n",
      "local-nb_cs-ii-[33,34]_activity_stimulus_overlays (  16): INFO : stim_loc_row[EXPERIMENT_ID_CN] = 'cs-ii-33', stim_loc_row[RUN_ID_CN] = 188\n",
      "local-nb_cs-ii-[33,34]_activity_stimulus_overlays (  16): INFO : stim_loc_row[EXPERIMENT_ID_CN] = 'cs-ii-33', stim_loc_row[RUN_ID_CN] = 188\n",
      "local-nb_cs-ii-[33,34]_activity_stimulus_overlays (  16): INFO : stim_loc_row[EXPERIMENT_ID_CN] = 'cs-ii-33', stim_loc_row[RUN_ID_CN] = 188\n",
      "local-nb_cs-ii-[33,34]_activity_stimulus_overlays (  16): INFO : stim_loc_row[EXPERIMENT_ID_CN] = 'cs-ii-33', stim_loc_row[RUN_ID_CN] = 188\n",
      "local-nb_cs-ii-[33,34]_activity_stimulus_overlays (  16): INFO : stim_loc_row[EXPERIMENT_ID_CN] = 'cs-ii-33', stim_loc_row[RUN_ID_CN] = 189\n",
      "local-nb_cs-ii-[33,34]_activity_stimulus_overlays (  33): INFO : activity_traces_subset_df.shape = (86728, 16)\n",
      "local-nb_cs-ii-[33,34]_activity_stimulus_overlays (  39): INFO : activity_traces_subset_data.shape = (148, 586)\n",
      "local-nb_cs-ii-[33,34]_activity_stimulus_overlays (  43): INFO : baseline_mean.shape = (586,)\n",
      "local-nb_cs-ii-[33,34]_activity_stimulus_overlays (  55): INFO : interp_res.shape = (240, 586)\n",
      "local-nb_cs-ii-[33,34]_activity_stimulus_overlays (  67): INFO : filt_activity_traces_subset_df.shape = (140640, 7)\n",
      "local-nb_cs-ii-[33,34]_activity_stimulus_overlays (  16): INFO : stim_loc_row[EXPERIMENT_ID_CN] = 'cs-ii-33', stim_loc_row[RUN_ID_CN] = 189\n",
      "local-nb_cs-ii-[33,34]_activity_stimulus_overlays (  33): INFO : activity_traces_subset_df.shape = (86142, 16)\n",
      "local-nb_cs-ii-[33,34]_activity_stimulus_overlays (  39): INFO : activity_traces_subset_data.shape = (147, 586)\n",
      "local-nb_cs-ii-[33,34]_activity_stimulus_overlays (  43): INFO : baseline_mean.shape = (586,)\n",
      "local-nb_cs-ii-[33,34]_activity_stimulus_overlays (  55): INFO : interp_res.shape = (240, 586)\n",
      "local-nb_cs-ii-[33,34]_activity_stimulus_overlays (  67): INFO : filt_activity_traces_subset_df.shape = (140640, 7)\n",
      "local-nb_cs-ii-[33,34]_activity_stimulus_overlays (  16): INFO : stim_loc_row[EXPERIMENT_ID_CN] = 'cs-ii-33', stim_loc_row[RUN_ID_CN] = 189\n",
      "local-nb_cs-ii-[33,34]_activity_stimulus_overlays (  33): INFO : activity_traces_subset_df.shape = (86142, 16)\n",
      "local-nb_cs-ii-[33,34]_activity_stimulus_overlays (  39): INFO : activity_traces_subset_data.shape = (147, 586)\n",
      "local-nb_cs-ii-[33,34]_activity_stimulus_overlays (  43): INFO : baseline_mean.shape = (586,)\n",
      "local-nb_cs-ii-[33,34]_activity_stimulus_overlays (  55): INFO : interp_res.shape = (240, 586)\n",
      "local-nb_cs-ii-[33,34]_activity_stimulus_overlays (  67): INFO : filt_activity_traces_subset_df.shape = (140640, 7)\n",
      "local-nb_cs-ii-[33,34]_activity_stimulus_overlays (  16): INFO : stim_loc_row[EXPERIMENT_ID_CN] = 'cs-ii-33', stim_loc_row[RUN_ID_CN] = 189\n",
      "local-nb_cs-ii-[33,34]_activity_stimulus_overlays (  33): INFO : activity_traces_subset_df.shape = (86728, 16)\n",
      "local-nb_cs-ii-[33,34]_activity_stimulus_overlays (  39): INFO : activity_traces_subset_data.shape = (148, 586)\n",
      "local-nb_cs-ii-[33,34]_activity_stimulus_overlays (  43): INFO : baseline_mean.shape = (586,)\n",
      "local-nb_cs-ii-[33,34]_activity_stimulus_overlays (  55): INFO : interp_res.shape = (240, 586)\n",
      "local-nb_cs-ii-[33,34]_activity_stimulus_overlays (  67): INFO : filt_activity_traces_subset_df.shape = (140640, 7)\n",
      "local-nb_cs-ii-[33,34]_activity_stimulus_overlays (  16): INFO : stim_loc_row[EXPERIMENT_ID_CN] = 'cs-ii-33', stim_loc_row[RUN_ID_CN] = 190\n",
      "local-nb_cs-ii-[33,34]_activity_stimulus_overlays (  16): INFO : stim_loc_row[EXPERIMENT_ID_CN] = 'cs-ii-33', stim_loc_row[RUN_ID_CN] = 190\n",
      "local-nb_cs-ii-[33,34]_activity_stimulus_overlays (  16): INFO : stim_loc_row[EXPERIMENT_ID_CN] = 'cs-ii-33', stim_loc_row[RUN_ID_CN] = 190\n",
      "local-nb_cs-ii-[33,34]_activity_stimulus_overlays (  16): INFO : stim_loc_row[EXPERIMENT_ID_CN] = 'cs-ii-33', stim_loc_row[RUN_ID_CN] = 190\n",
      "local-nb_cs-ii-[33,34]_activity_stimulus_overlays (  16): INFO : stim_loc_row[EXPERIMENT_ID_CN] = 'cs-ii-33', stim_loc_row[RUN_ID_CN] = 195\n",
      "local-nb_cs-ii-[33,34]_activity_stimulus_overlays (  16): INFO : stim_loc_row[EXPERIMENT_ID_CN] = 'cs-ii-33', stim_loc_row[RUN_ID_CN] = 195\n",
      "local-nb_cs-ii-[33,34]_activity_stimulus_overlays (  16): INFO : stim_loc_row[EXPERIMENT_ID_CN] = 'cs-ii-33', stim_loc_row[RUN_ID_CN] = 195\n",
      "local-nb_cs-ii-[33,34]_activity_stimulus_overlays (  16): INFO : stim_loc_row[EXPERIMENT_ID_CN] = 'cs-ii-33', stim_loc_row[RUN_ID_CN] = 195\n",
      "local-nb_cs-ii-[33,34]_activity_stimulus_overlays (  16): INFO : stim_loc_row[EXPERIMENT_ID_CN] = 'cs-ii-34', stim_loc_row[RUN_ID_CN] = 208\n",
      "local-nb_cs-ii-[33,34]_activity_stimulus_overlays (  33): INFO : activity_traces_subset_df.shape = (60358, 16)\n",
      "local-nb_cs-ii-[33,34]_activity_stimulus_overlays (  39): INFO : activity_traces_subset_data.shape = (103, 586)\n",
      "local-nb_cs-ii-[33,34]_activity_stimulus_overlays (  43): INFO : baseline_mean.shape = (586,)\n",
      "local-nb_cs-ii-[33,34]_activity_stimulus_overlays (  55): INFO : interp_res.shape = (240, 586)\n",
      "local-nb_cs-ii-[33,34]_activity_stimulus_overlays (  67): INFO : filt_activity_traces_subset_df.shape = (140640, 7)\n",
      "local-nb_cs-ii-[33,34]_activity_stimulus_overlays (  16): INFO : stim_loc_row[EXPERIMENT_ID_CN] = 'cs-ii-34', stim_loc_row[RUN_ID_CN] = 208\n",
      "local-nb_cs-ii-[33,34]_activity_stimulus_overlays (  33): INFO : activity_traces_subset_df.shape = (59772, 16)\n",
      "local-nb_cs-ii-[33,34]_activity_stimulus_overlays (  39): INFO : activity_traces_subset_data.shape = (102, 586)\n",
      "local-nb_cs-ii-[33,34]_activity_stimulus_overlays (  43): INFO : baseline_mean.shape = (586,)\n",
      "local-nb_cs-ii-[33,34]_activity_stimulus_overlays (  55): INFO : interp_res.shape = (240, 586)\n",
      "local-nb_cs-ii-[33,34]_activity_stimulus_overlays (  67): INFO : filt_activity_traces_subset_df.shape = (140640, 7)\n",
      "local-nb_cs-ii-[33,34]_activity_stimulus_overlays (  16): INFO : stim_loc_row[EXPERIMENT_ID_CN] = 'cs-ii-34', stim_loc_row[RUN_ID_CN] = 208\n",
      "local-nb_cs-ii-[33,34]_activity_stimulus_overlays (  33): INFO : activity_traces_subset_df.shape = (60358, 16)\n",
      "local-nb_cs-ii-[33,34]_activity_stimulus_overlays (  39): INFO : activity_traces_subset_data.shape = (103, 586)\n",
      "local-nb_cs-ii-[33,34]_activity_stimulus_overlays (  43): INFO : baseline_mean.shape = (586,)\n",
      "local-nb_cs-ii-[33,34]_activity_stimulus_overlays (  55): INFO : interp_res.shape = (240, 586)\n",
      "local-nb_cs-ii-[33,34]_activity_stimulus_overlays (  67): INFO : filt_activity_traces_subset_df.shape = (140640, 7)\n",
      "local-nb_cs-ii-[33,34]_activity_stimulus_overlays (  16): INFO : stim_loc_row[EXPERIMENT_ID_CN] = 'cs-ii-34', stim_loc_row[RUN_ID_CN] = 208\n",
      "local-nb_cs-ii-[33,34]_activity_stimulus_overlays (  33): INFO : activity_traces_subset_df.shape = (60358, 16)\n",
      "local-nb_cs-ii-[33,34]_activity_stimulus_overlays (  39): INFO : activity_traces_subset_data.shape = (103, 586)\n",
      "local-nb_cs-ii-[33,34]_activity_stimulus_overlays (  43): INFO : baseline_mean.shape = (586,)\n",
      "local-nb_cs-ii-[33,34]_activity_stimulus_overlays (  55): INFO : interp_res.shape = (240, 586)\n",
      "local-nb_cs-ii-[33,34]_activity_stimulus_overlays (  67): INFO : filt_activity_traces_subset_df.shape = (140640, 7)\n",
      "local-nb_cs-ii-[33,34]_activity_stimulus_overlays (  16): INFO : stim_loc_row[EXPERIMENT_ID_CN] = 'cs-ii-34', stim_loc_row[RUN_ID_CN] = 209\n",
      "local-nb_cs-ii-[33,34]_activity_stimulus_overlays (  33): INFO : activity_traces_subset_df.shape = (64460, 16)\n",
      "local-nb_cs-ii-[33,34]_activity_stimulus_overlays (  39): INFO : activity_traces_subset_data.shape = (110, 586)\n",
      "local-nb_cs-ii-[33,34]_activity_stimulus_overlays (  43): INFO : baseline_mean.shape = (586,)\n",
      "local-nb_cs-ii-[33,34]_activity_stimulus_overlays (  55): INFO : interp_res.shape = (240, 586)\n",
      "local-nb_cs-ii-[33,34]_activity_stimulus_overlays (  67): INFO : filt_activity_traces_subset_df.shape = (140640, 7)\n",
      "local-nb_cs-ii-[33,34]_activity_stimulus_overlays (  16): INFO : stim_loc_row[EXPERIMENT_ID_CN] = 'cs-ii-34', stim_loc_row[RUN_ID_CN] = 209\n",
      "local-nb_cs-ii-[33,34]_activity_stimulus_overlays (  33): INFO : activity_traces_subset_df.shape = (64460, 16)\n",
      "local-nb_cs-ii-[33,34]_activity_stimulus_overlays (  39): INFO : activity_traces_subset_data.shape = (110, 586)\n",
      "local-nb_cs-ii-[33,34]_activity_stimulus_overlays (  43): INFO : baseline_mean.shape = (586,)\n",
      "local-nb_cs-ii-[33,34]_activity_stimulus_overlays (  55): INFO : interp_res.shape = (240, 586)\n",
      "local-nb_cs-ii-[33,34]_activity_stimulus_overlays (  67): INFO : filt_activity_traces_subset_df.shape = (140640, 7)\n",
      "local-nb_cs-ii-[33,34]_activity_stimulus_overlays (  16): INFO : stim_loc_row[EXPERIMENT_ID_CN] = 'cs-ii-34', stim_loc_row[RUN_ID_CN] = 209\n",
      "local-nb_cs-ii-[33,34]_activity_stimulus_overlays (  33): INFO : activity_traces_subset_df.shape = (64460, 16)\n",
      "local-nb_cs-ii-[33,34]_activity_stimulus_overlays (  39): INFO : activity_traces_subset_data.shape = (110, 586)\n",
      "local-nb_cs-ii-[33,34]_activity_stimulus_overlays (  43): INFO : baseline_mean.shape = (586,)\n",
      "local-nb_cs-ii-[33,34]_activity_stimulus_overlays (  55): INFO : interp_res.shape = (240, 586)\n",
      "local-nb_cs-ii-[33,34]_activity_stimulus_overlays (  67): INFO : filt_activity_traces_subset_df.shape = (140640, 7)\n",
      "local-nb_cs-ii-[33,34]_activity_stimulus_overlays (  16): INFO : stim_loc_row[EXPERIMENT_ID_CN] = 'cs-ii-34', stim_loc_row[RUN_ID_CN] = 209\n",
      "<class 'pandas.core.frame.DataFrame'>\n",
      "RangeIndex: 1547040 entries, 0 to 1547039\n",
      "Data columns (total 7 columns):\n",
      " #   Column             Non-Null Count    Dtype  \n",
      "---  ------             --------------    -----  \n",
      " 0   time               1547040 non-null  float64\n",
      " 1   region             1547040 non-null  object \n",
      " 2   lateral-side       1547040 non-null  object \n",
      " 3   experiment-id      1547040 non-null  object \n",
      " 4   run-id             1547040 non-null  int64  \n",
      " 5   fluorescence-mean  1421760 non-null  float64\n",
      " 6   stim-type          1547040 non-null  object \n",
      "dtypes: float64(2), int64(1), object(4)\n",
      "memory usage: 82.6+ MB\n"
     ]
    },
    {
     "data": {
      "text/plain": "         time                                   region lateral-side  \\\n0       -30.0  Mauthner Cell Axon Cap, Rhombencephalon         left   \n1       -29.5  Mauthner Cell Axon Cap, Rhombencephalon         left   \n2       -29.0  Mauthner Cell Axon Cap, Rhombencephalon         left   \n3       -28.5  Mauthner Cell Axon Cap, Rhombencephalon         left   \n4       -28.0  Mauthner Cell Axon Cap, Rhombencephalon         left   \n...       ...                                      ...          ...   \n1547035  87.5                          Rhombencephalon        right   \n1547036  88.0                          Rhombencephalon        right   \n1547037  88.5                          Rhombencephalon        right   \n1547038  89.0                          Rhombencephalon        right   \n1547039  89.5                          Rhombencephalon        right   \n\n        experiment-id  run-id  fluorescence-mean stim-type  \n0            cs-ii-33     189          -0.142768   cdv-2mM  \n1            cs-ii-33     189          -0.280842   cdv-2mM  \n2            cs-ii-33     189          -0.408969   cdv-2mM  \n3            cs-ii-33     189          -0.333266   cdv-2mM  \n4            cs-ii-33     189           0.014721   cdv-2mM  \n...               ...     ...                ...       ...  \n1547035      cs-ii-34     209          -0.090557  aa-1.3mM  \n1547036      cs-ii-34     209          -0.087677  aa-1.3mM  \n1547037      cs-ii-34     209          -0.086163  aa-1.3mM  \n1547038      cs-ii-34     209          -0.085158  aa-1.3mM  \n1547039      cs-ii-34     209          -0.084086  aa-1.3mM  \n\n[1547040 rows x 7 columns]",
      "text/html": "<div>\n<style scoped>\n    .dataframe tbody tr th:only-of-type {\n        vertical-align: middle;\n    }\n\n    .dataframe tbody tr th {\n        vertical-align: top;\n    }\n\n    .dataframe thead th {\n        text-align: right;\n    }\n</style>\n<table border=\"1\" class=\"dataframe\">\n  <thead>\n    <tr style=\"text-align: right;\">\n      <th></th>\n      <th>time</th>\n      <th>region</th>\n      <th>lateral-side</th>\n      <th>experiment-id</th>\n      <th>run-id</th>\n      <th>fluorescence-mean</th>\n      <th>stim-type</th>\n    </tr>\n  </thead>\n  <tbody>\n    <tr>\n      <th>0</th>\n      <td>-30.0</td>\n      <td>Mauthner Cell Axon Cap, Rhombencephalon</td>\n      <td>left</td>\n      <td>cs-ii-33</td>\n      <td>189</td>\n      <td>-0.142768</td>\n      <td>cdv-2mM</td>\n    </tr>\n    <tr>\n      <th>1</th>\n      <td>-29.5</td>\n      <td>Mauthner Cell Axon Cap, Rhombencephalon</td>\n      <td>left</td>\n      <td>cs-ii-33</td>\n      <td>189</td>\n      <td>-0.280842</td>\n      <td>cdv-2mM</td>\n    </tr>\n    <tr>\n      <th>2</th>\n      <td>-29.0</td>\n      <td>Mauthner Cell Axon Cap, Rhombencephalon</td>\n      <td>left</td>\n      <td>cs-ii-33</td>\n      <td>189</td>\n      <td>-0.408969</td>\n      <td>cdv-2mM</td>\n    </tr>\n    <tr>\n      <th>3</th>\n      <td>-28.5</td>\n      <td>Mauthner Cell Axon Cap, Rhombencephalon</td>\n      <td>left</td>\n      <td>cs-ii-33</td>\n      <td>189</td>\n      <td>-0.333266</td>\n      <td>cdv-2mM</td>\n    </tr>\n    <tr>\n      <th>4</th>\n      <td>-28.0</td>\n      <td>Mauthner Cell Axon Cap, Rhombencephalon</td>\n      <td>left</td>\n      <td>cs-ii-33</td>\n      <td>189</td>\n      <td>0.014721</td>\n      <td>cdv-2mM</td>\n    </tr>\n    <tr>\n      <th>...</th>\n      <td>...</td>\n      <td>...</td>\n      <td>...</td>\n      <td>...</td>\n      <td>...</td>\n      <td>...</td>\n      <td>...</td>\n    </tr>\n    <tr>\n      <th>1547035</th>\n      <td>87.5</td>\n      <td>Rhombencephalon</td>\n      <td>right</td>\n      <td>cs-ii-34</td>\n      <td>209</td>\n      <td>-0.090557</td>\n      <td>aa-1.3mM</td>\n    </tr>\n    <tr>\n      <th>1547036</th>\n      <td>88.0</td>\n      <td>Rhombencephalon</td>\n      <td>right</td>\n      <td>cs-ii-34</td>\n      <td>209</td>\n      <td>-0.087677</td>\n      <td>aa-1.3mM</td>\n    </tr>\n    <tr>\n      <th>1547037</th>\n      <td>88.5</td>\n      <td>Rhombencephalon</td>\n      <td>right</td>\n      <td>cs-ii-34</td>\n      <td>209</td>\n      <td>-0.086163</td>\n      <td>aa-1.3mM</td>\n    </tr>\n    <tr>\n      <th>1547038</th>\n      <td>89.0</td>\n      <td>Rhombencephalon</td>\n      <td>right</td>\n      <td>cs-ii-34</td>\n      <td>209</td>\n      <td>-0.085158</td>\n      <td>aa-1.3mM</td>\n    </tr>\n    <tr>\n      <th>1547039</th>\n      <td>89.5</td>\n      <td>Rhombencephalon</td>\n      <td>right</td>\n      <td>cs-ii-34</td>\n      <td>209</td>\n      <td>-0.084086</td>\n      <td>aa-1.3mM</td>\n    </tr>\n  </tbody>\n</table>\n<p>1547040 rows × 7 columns</p>\n</div>"
     },
     "execution_count": 146,
     "metadata": {},
     "output_type": "execute_result"
    }
   ],
   "source": [
    "%matplotlib qt\n",
    "stim_duration = 30\n",
    "time_pre_stim_start = 30\n",
    "time_post_stim = 60\n",
    "time_post_stim_start = stim_duration + time_post_stim\n",
    "\n",
    "sampling_period = 0.5\n",
    "ref_time_array = np.arange(-1 * time_pre_stim_start, time_post_stim_start, \n",
    "                           sampling_period)\n",
    "ref_time_index = pd.Index(ref_time_array, name=TIME_CN)\n",
    "log.info(f'{ref_time_array.shape = }')\n",
    "log.info(f'{ref_time_index = }')\n",
    "\n",
    "stim_seq_dfs = []\n",
    "for _, stim_loc_row in stim_log_subset_df.iterrows():\n",
    "    log.info(f'{stim_loc_row[EXPERIMENT_ID_CN] = }, {stim_loc_row[RUN_ID_CN] = }')\n",
    "    \n",
    "    activity_traces_subset_df: pd.DataFrame = activity_traces_df.loc[\n",
    "        (activity_traces_df[EXPERIMENT_ID_CN] == stim_loc_row[EXPERIMENT_ID_CN]) &\n",
    "        (activity_traces_df[RUN_ID_CN] == stim_loc_row[RUN_ID_CN]), :].copy()\n",
    "    \n",
    "    if activity_traces_subset_df.shape[0] == 0:\n",
    "        continue\n",
    "    \n",
    "    activity_traces_subset_df[TIME_CN] = activity_traces_subset_df[TIME_CN] - stim_loc_row[REL_START_TIME_CN]\n",
    "    activity_traces_subset_df = activity_traces_subset_df.loc[\n",
    "        (activity_traces_subset_df[TIME_CN] >= (-1 * (2 + time_pre_stim_start))) &\n",
    "        (activity_traces_subset_df[TIME_CN] <= (2 + time_post_stim_start)), :]\n",
    "    \n",
    "    if activity_traces_subset_df.shape[0] == 0:\n",
    "        continue\n",
    "    \n",
    "    log.info(f'{activity_traces_subset_df.shape = }')\n",
    "    \n",
    "    activity_traces_subset_data = activity_traces_subset_df.pivot(\n",
    "        index=TIME_CN,\n",
    "        columns=[REGION_CN, LAT_SIDE_CN, EXPERIMENT_ID_CN, RUN_ID_CN],\n",
    "        values=MEAN_CN)\n",
    "    log.info(f'{activity_traces_subset_data.shape = }')    \n",
    "    \n",
    "    baseline_mean = activity_traces_subset_data.loc[\n",
    "        (activity_traces_subset_data.index < -1), :].quantile(0.5, axis=0)\n",
    "    log.info(f'{baseline_mean.shape = }')\n",
    "    \n",
    "    activity_traces_subset_data = (activity_traces_subset_data - baseline_mean) / baseline_mean\n",
    "    interp_res = scipy.interpolate.interp1d(\n",
    "        activity_traces_subset_data.index,\n",
    "        activity_traces_subset_data,\n",
    "        axis=0,\n",
    "        kind='linear',\n",
    "        bounds_error=False)(ref_time_array)\n",
    "    interp_res = scipy.ndimage.gaussian_filter1d(\n",
    "        interp_res, 0.5 / sampling_period, axis=0, mode='nearest')\n",
    "    \n",
    "    log.info(f'{interp_res.shape = }')\n",
    "    \n",
    "    activity_traces_subset_data = pd.DataFrame(\n",
    "        interp_res,\n",
    "        index=ref_time_index,\n",
    "        columns=activity_traces_subset_data.columns)       \n",
    "    \n",
    "    # make filtered data back into dataframe\n",
    "    filt_activity_traces_subset_df = (\n",
    "        activity_traces_subset_data.melt(value_name=MEAN_CN, ignore_index=False)\n",
    "        .reset_index())\n",
    "    filt_activity_traces_subset_df[STIM_TYPE_CN] = stim_loc_row[STIM_TYPE_CN]\n",
    "    log.info(f'{filt_activity_traces_subset_df.shape = }')\n",
    "    \n",
    "    stim_seq_dfs.append(filt_activity_traces_subset_df)\n",
    "    \n",
    "stim_seq_df = pd.concat(stim_seq_dfs, axis=0, ignore_index=True)\n",
    "\n",
    "stim_seq_df.info()\n",
    "stim_seq_df"
   ],
   "metadata": {
    "collapsed": false,
    "ExecuteTime": {
     "end_time": "2024-01-16T09:30:34.311993600Z",
     "start_time": "2024-01-16T09:30:29.658449800Z"
    }
   },
   "id": "b5fd365da83b0631"
  },
  {
   "cell_type": "code",
   "execution_count": 151,
   "outputs": [
    {
     "name": "stdout",
     "output_type": "stream",
     "text": [
      "matplotlib.pyplot ( 339): DEBUG : Loaded backend Qt5Agg version 5.15.7.\n"
     ]
    },
    {
     "name": "stderr",
     "output_type": "stream",
     "text": [
      "I:\\CorbanSwain\\repos\\zmia\\envs\\zmia-env-3.9\\lib\\site-packages\\seaborn\\axisgrid.py:118: UserWarning:\n",
      "\n",
      "The figure layout has changed to tight\n",
      "\n",
      "I:\\CorbanSwain\\repos\\zmia\\envs\\zmia-env-3.9\\lib\\site-packages\\seaborn\\axisgrid.py:118: UserWarning:\n",
      "\n",
      "The figure layout has changed to tight\n",
      "\n",
      "I:\\CorbanSwain\\repos\\zmia\\envs\\zmia-env-3.9\\lib\\site-packages\\seaborn\\axisgrid.py:118: UserWarning:\n",
      "\n",
      "The figure layout has changed to tight\n",
      "\n",
      "I:\\CorbanSwain\\repos\\zmia\\envs\\zmia-env-3.9\\lib\\site-packages\\seaborn\\axisgrid.py:118: UserWarning:\n",
      "\n",
      "The figure layout has changed to tight\n",
      "\n"
     ]
    },
    {
     "name": "stdout",
     "output_type": "stream",
     "text": [
      "local-nb_cs-ii-[33,34]_activity_stimulus_overlays (  52): INFO : Saving figure to disk...\n"
     ]
    },
    {
     "name": "stderr",
     "output_type": "stream",
     "text": [
      "I:\\CorbanSwain\\repos\\zmia\\envs\\zmia-env-3.9\\lib\\site-packages\\seaborn\\axisgrid.py:118: UserWarning:\n",
      "\n",
      "The figure layout has changed to tight\n",
      "\n",
      "I:\\CorbanSwain\\repos\\zmia\\envs\\zmia-env-3.9\\lib\\site-packages\\seaborn\\axisgrid.py:118: UserWarning:\n",
      "\n",
      "The figure layout has changed to tight\n",
      "\n",
      "I:\\CorbanSwain\\repos\\zmia\\envs\\zmia-env-3.9\\lib\\site-packages\\seaborn\\axisgrid.py:118: UserWarning:\n",
      "\n",
      "The figure layout has changed to tight\n",
      "\n",
      "I:\\CorbanSwain\\repos\\zmia\\envs\\zmia-env-3.9\\lib\\site-packages\\seaborn\\axisgrid.py:118: UserWarning:\n",
      "\n",
      "The figure layout has changed to tight\n",
      "\n"
     ]
    },
    {
     "name": "stdout",
     "output_type": "stream",
     "text": [
      "local-nb_cs-ii-[33,34]_activity_stimulus_overlays (  52): INFO : Saving figure to disk...\n"
     ]
    },
    {
     "name": "stderr",
     "output_type": "stream",
     "text": [
      "I:\\CorbanSwain\\repos\\zmia\\envs\\zmia-env-3.9\\lib\\site-packages\\seaborn\\axisgrid.py:118: UserWarning:\n",
      "\n",
      "The figure layout has changed to tight\n",
      "\n",
      "I:\\CorbanSwain\\repos\\zmia\\envs\\zmia-env-3.9\\lib\\site-packages\\seaborn\\axisgrid.py:118: UserWarning:\n",
      "\n",
      "The figure layout has changed to tight\n",
      "\n",
      "I:\\CorbanSwain\\repos\\zmia\\envs\\zmia-env-3.9\\lib\\site-packages\\seaborn\\axisgrid.py:118: UserWarning:\n",
      "\n",
      "The figure layout has changed to tight\n",
      "\n",
      "I:\\CorbanSwain\\repos\\zmia\\envs\\zmia-env-3.9\\lib\\site-packages\\seaborn\\axisgrid.py:118: UserWarning:\n",
      "\n",
      "The figure layout has changed to tight\n",
      "\n"
     ]
    },
    {
     "name": "stdout",
     "output_type": "stream",
     "text": [
      "local-nb_cs-ii-[33,34]_activity_stimulus_overlays (  52): INFO : Saving figure to disk...\n"
     ]
    },
    {
     "name": "stderr",
     "output_type": "stream",
     "text": [
      "I:\\CorbanSwain\\repos\\zmia\\envs\\zmia-env-3.9\\lib\\site-packages\\seaborn\\axisgrid.py:118: UserWarning:\n",
      "\n",
      "The figure layout has changed to tight\n",
      "\n",
      "I:\\CorbanSwain\\repos\\zmia\\envs\\zmia-env-3.9\\lib\\site-packages\\seaborn\\axisgrid.py:118: UserWarning:\n",
      "\n",
      "The figure layout has changed to tight\n",
      "\n",
      "I:\\CorbanSwain\\repos\\zmia\\envs\\zmia-env-3.9\\lib\\site-packages\\seaborn\\axisgrid.py:118: UserWarning:\n",
      "\n",
      "The figure layout has changed to tight\n",
      "\n",
      "I:\\CorbanSwain\\repos\\zmia\\envs\\zmia-env-3.9\\lib\\site-packages\\seaborn\\axisgrid.py:118: UserWarning:\n",
      "\n",
      "The figure layout has changed to tight\n",
      "\n"
     ]
    },
    {
     "name": "stdout",
     "output_type": "stream",
     "text": [
      "local-nb_cs-ii-[33,34]_activity_stimulus_overlays (  52): INFO : Saving figure to disk...\n"
     ]
    },
    {
     "name": "stderr",
     "output_type": "stream",
     "text": [
      "I:\\CorbanSwain\\repos\\zmia\\envs\\zmia-env-3.9\\lib\\site-packages\\seaborn\\axisgrid.py:118: UserWarning:\n",
      "\n",
      "The figure layout has changed to tight\n",
      "\n",
      "I:\\CorbanSwain\\repos\\zmia\\envs\\zmia-env-3.9\\lib\\site-packages\\seaborn\\axisgrid.py:118: UserWarning:\n",
      "\n",
      "The figure layout has changed to tight\n",
      "\n",
      "I:\\CorbanSwain\\repos\\zmia\\envs\\zmia-env-3.9\\lib\\site-packages\\seaborn\\axisgrid.py:118: UserWarning:\n",
      "\n",
      "The figure layout has changed to tight\n",
      "\n",
      "I:\\CorbanSwain\\repos\\zmia\\envs\\zmia-env-3.9\\lib\\site-packages\\seaborn\\axisgrid.py:118: UserWarning:\n",
      "\n",
      "The figure layout has changed to tight\n",
      "\n"
     ]
    },
    {
     "name": "stdout",
     "output_type": "stream",
     "text": [
      "local-nb_cs-ii-[33,34]_activity_stimulus_overlays (  52): INFO : Saving figure to disk...\n"
     ]
    },
    {
     "name": "stderr",
     "output_type": "stream",
     "text": [
      "I:\\CorbanSwain\\repos\\zmia\\envs\\zmia-env-3.9\\lib\\site-packages\\seaborn\\axisgrid.py:118: UserWarning:\n",
      "\n",
      "The figure layout has changed to tight\n",
      "\n",
      "I:\\CorbanSwain\\repos\\zmia\\envs\\zmia-env-3.9\\lib\\site-packages\\seaborn\\axisgrid.py:118: UserWarning:\n",
      "\n",
      "The figure layout has changed to tight\n",
      "\n",
      "I:\\CorbanSwain\\repos\\zmia\\envs\\zmia-env-3.9\\lib\\site-packages\\seaborn\\axisgrid.py:118: UserWarning:\n",
      "\n",
      "The figure layout has changed to tight\n",
      "\n",
      "I:\\CorbanSwain\\repos\\zmia\\envs\\zmia-env-3.9\\lib\\site-packages\\seaborn\\axisgrid.py:118: UserWarning:\n",
      "\n",
      "The figure layout has changed to tight\n",
      "\n"
     ]
    },
    {
     "name": "stdout",
     "output_type": "stream",
     "text": [
      "local-nb_cs-ii-[33,34]_activity_stimulus_overlays (  52): INFO : Saving figure to disk...\n"
     ]
    },
    {
     "name": "stderr",
     "output_type": "stream",
     "text": [
      "I:\\CorbanSwain\\repos\\zmia\\envs\\zmia-env-3.9\\lib\\site-packages\\seaborn\\axisgrid.py:118: UserWarning:\n",
      "\n",
      "The figure layout has changed to tight\n",
      "\n",
      "I:\\CorbanSwain\\repos\\zmia\\envs\\zmia-env-3.9\\lib\\site-packages\\seaborn\\axisgrid.py:118: UserWarning:\n",
      "\n",
      "The figure layout has changed to tight\n",
      "\n",
      "I:\\CorbanSwain\\repos\\zmia\\envs\\zmia-env-3.9\\lib\\site-packages\\seaborn\\axisgrid.py:118: UserWarning:\n",
      "\n",
      "The figure layout has changed to tight\n",
      "\n",
      "I:\\CorbanSwain\\repos\\zmia\\envs\\zmia-env-3.9\\lib\\site-packages\\seaborn\\axisgrid.py:118: UserWarning:\n",
      "\n",
      "The figure layout has changed to tight\n",
      "\n"
     ]
    },
    {
     "name": "stdout",
     "output_type": "stream",
     "text": [
      "local-nb_cs-ii-[33,34]_activity_stimulus_overlays (  52): INFO : Saving figure to disk...\n"
     ]
    },
    {
     "name": "stderr",
     "output_type": "stream",
     "text": [
      "I:\\CorbanSwain\\repos\\zmia\\envs\\zmia-env-3.9\\lib\\site-packages\\seaborn\\axisgrid.py:118: UserWarning:\n",
      "\n",
      "The figure layout has changed to tight\n",
      "\n",
      "I:\\CorbanSwain\\repos\\zmia\\envs\\zmia-env-3.9\\lib\\site-packages\\seaborn\\axisgrid.py:118: UserWarning:\n",
      "\n",
      "The figure layout has changed to tight\n",
      "\n",
      "I:\\CorbanSwain\\repos\\zmia\\envs\\zmia-env-3.9\\lib\\site-packages\\seaborn\\axisgrid.py:118: UserWarning:\n",
      "\n",
      "The figure layout has changed to tight\n",
      "\n",
      "I:\\CorbanSwain\\repos\\zmia\\envs\\zmia-env-3.9\\lib\\site-packages\\seaborn\\axisgrid.py:118: UserWarning:\n",
      "\n",
      "The figure layout has changed to tight\n",
      "\n"
     ]
    },
    {
     "name": "stdout",
     "output_type": "stream",
     "text": [
      "local-nb_cs-ii-[33,34]_activity_stimulus_overlays (  52): INFO : Saving figure to disk...\n"
     ]
    },
    {
     "name": "stderr",
     "output_type": "stream",
     "text": [
      "I:\\CorbanSwain\\repos\\zmia\\envs\\zmia-env-3.9\\lib\\site-packages\\seaborn\\axisgrid.py:118: UserWarning:\n",
      "\n",
      "The figure layout has changed to tight\n",
      "\n",
      "I:\\CorbanSwain\\repos\\zmia\\envs\\zmia-env-3.9\\lib\\site-packages\\seaborn\\axisgrid.py:118: UserWarning:\n",
      "\n",
      "The figure layout has changed to tight\n",
      "\n",
      "I:\\CorbanSwain\\repos\\zmia\\envs\\zmia-env-3.9\\lib\\site-packages\\seaborn\\axisgrid.py:118: UserWarning:\n",
      "\n",
      "The figure layout has changed to tight\n",
      "\n",
      "I:\\CorbanSwain\\repos\\zmia\\envs\\zmia-env-3.9\\lib\\site-packages\\seaborn\\axisgrid.py:118: UserWarning:\n",
      "\n",
      "The figure layout has changed to tight\n",
      "\n"
     ]
    },
    {
     "name": "stdout",
     "output_type": "stream",
     "text": [
      "local-nb_cs-ii-[33,34]_activity_stimulus_overlays (  52): INFO : Saving figure to disk...\n"
     ]
    },
    {
     "name": "stderr",
     "output_type": "stream",
     "text": [
      "I:\\CorbanSwain\\repos\\zmia\\envs\\zmia-env-3.9\\lib\\site-packages\\seaborn\\axisgrid.py:118: UserWarning:\n",
      "\n",
      "The figure layout has changed to tight\n",
      "\n",
      "I:\\CorbanSwain\\repos\\zmia\\envs\\zmia-env-3.9\\lib\\site-packages\\seaborn\\axisgrid.py:118: UserWarning:\n",
      "\n",
      "The figure layout has changed to tight\n",
      "\n",
      "I:\\CorbanSwain\\repos\\zmia\\envs\\zmia-env-3.9\\lib\\site-packages\\seaborn\\axisgrid.py:118: UserWarning:\n",
      "\n",
      "The figure layout has changed to tight\n",
      "\n",
      "I:\\CorbanSwain\\repos\\zmia\\envs\\zmia-env-3.9\\lib\\site-packages\\seaborn\\axisgrid.py:118: UserWarning:\n",
      "\n",
      "The figure layout has changed to tight\n",
      "\n"
     ]
    },
    {
     "name": "stdout",
     "output_type": "stream",
     "text": [
      "local-nb_cs-ii-[33,34]_activity_stimulus_overlays (  52): INFO : Saving figure to disk...\n"
     ]
    },
    {
     "name": "stderr",
     "output_type": "stream",
     "text": [
      "I:\\CorbanSwain\\repos\\zmia\\envs\\zmia-env-3.9\\lib\\site-packages\\seaborn\\axisgrid.py:118: UserWarning:\n",
      "\n",
      "The figure layout has changed to tight\n",
      "\n",
      "I:\\CorbanSwain\\repos\\zmia\\envs\\zmia-env-3.9\\lib\\site-packages\\seaborn\\axisgrid.py:118: UserWarning:\n",
      "\n",
      "The figure layout has changed to tight\n",
      "\n",
      "I:\\CorbanSwain\\repos\\zmia\\envs\\zmia-env-3.9\\lib\\site-packages\\seaborn\\axisgrid.py:118: UserWarning:\n",
      "\n",
      "The figure layout has changed to tight\n",
      "\n",
      "I:\\CorbanSwain\\repos\\zmia\\envs\\zmia-env-3.9\\lib\\site-packages\\seaborn\\axisgrid.py:118: UserWarning:\n",
      "\n",
      "The figure layout has changed to tight\n",
      "\n"
     ]
    },
    {
     "name": "stdout",
     "output_type": "stream",
     "text": [
      "local-nb_cs-ii-[33,34]_activity_stimulus_overlays (  52): INFO : Saving figure to disk...\n"
     ]
    },
    {
     "name": "stderr",
     "output_type": "stream",
     "text": [
      "I:\\CorbanSwain\\repos\\zmia\\envs\\zmia-env-3.9\\lib\\site-packages\\seaborn\\axisgrid.py:118: UserWarning:\n",
      "\n",
      "The figure layout has changed to tight\n",
      "\n",
      "I:\\CorbanSwain\\repos\\zmia\\envs\\zmia-env-3.9\\lib\\site-packages\\seaborn\\axisgrid.py:118: UserWarning:\n",
      "\n",
      "The figure layout has changed to tight\n",
      "\n",
      "I:\\CorbanSwain\\repos\\zmia\\envs\\zmia-env-3.9\\lib\\site-packages\\seaborn\\axisgrid.py:118: UserWarning:\n",
      "\n",
      "The figure layout has changed to tight\n",
      "\n",
      "I:\\CorbanSwain\\repos\\zmia\\envs\\zmia-env-3.9\\lib\\site-packages\\seaborn\\axisgrid.py:118: UserWarning:\n",
      "\n",
      "The figure layout has changed to tight\n",
      "\n"
     ]
    },
    {
     "name": "stdout",
     "output_type": "stream",
     "text": [
      "local-nb_cs-ii-[33,34]_activity_stimulus_overlays (  52): INFO : Saving figure to disk...\n"
     ]
    },
    {
     "name": "stderr",
     "output_type": "stream",
     "text": [
      "I:\\CorbanSwain\\repos\\zmia\\envs\\zmia-env-3.9\\lib\\site-packages\\seaborn\\axisgrid.py:118: UserWarning:\n",
      "\n",
      "The figure layout has changed to tight\n",
      "\n",
      "I:\\CorbanSwain\\repos\\zmia\\envs\\zmia-env-3.9\\lib\\site-packages\\seaborn\\axisgrid.py:118: UserWarning:\n",
      "\n",
      "The figure layout has changed to tight\n",
      "\n",
      "I:\\CorbanSwain\\repos\\zmia\\envs\\zmia-env-3.9\\lib\\site-packages\\seaborn\\axisgrid.py:118: UserWarning:\n",
      "\n",
      "The figure layout has changed to tight\n",
      "\n",
      "I:\\CorbanSwain\\repos\\zmia\\envs\\zmia-env-3.9\\lib\\site-packages\\seaborn\\axisgrid.py:118: UserWarning:\n",
      "\n",
      "The figure layout has changed to tight\n",
      "\n"
     ]
    },
    {
     "name": "stdout",
     "output_type": "stream",
     "text": [
      "local-nb_cs-ii-[33,34]_activity_stimulus_overlays (  52): INFO : Saving figure to disk...\n"
     ]
    },
    {
     "name": "stderr",
     "output_type": "stream",
     "text": [
      "I:\\CorbanSwain\\repos\\zmia\\envs\\zmia-env-3.9\\lib\\site-packages\\seaborn\\axisgrid.py:118: UserWarning:\n",
      "\n",
      "The figure layout has changed to tight\n",
      "\n",
      "I:\\CorbanSwain\\repos\\zmia\\envs\\zmia-env-3.9\\lib\\site-packages\\seaborn\\axisgrid.py:118: UserWarning:\n",
      "\n",
      "The figure layout has changed to tight\n",
      "\n",
      "I:\\CorbanSwain\\repos\\zmia\\envs\\zmia-env-3.9\\lib\\site-packages\\seaborn\\axisgrid.py:118: UserWarning:\n",
      "\n",
      "The figure layout has changed to tight\n",
      "\n",
      "I:\\CorbanSwain\\repos\\zmia\\envs\\zmia-env-3.9\\lib\\site-packages\\seaborn\\axisgrid.py:118: UserWarning:\n",
      "\n",
      "The figure layout has changed to tight\n",
      "\n"
     ]
    },
    {
     "name": "stdout",
     "output_type": "stream",
     "text": [
      "local-nb_cs-ii-[33,34]_activity_stimulus_overlays (  52): INFO : Saving figure to disk...\n"
     ]
    },
    {
     "name": "stderr",
     "output_type": "stream",
     "text": [
      "I:\\CorbanSwain\\repos\\zmia\\envs\\zmia-env-3.9\\lib\\site-packages\\seaborn\\axisgrid.py:118: UserWarning:\n",
      "\n",
      "The figure layout has changed to tight\n",
      "\n",
      "I:\\CorbanSwain\\repos\\zmia\\envs\\zmia-env-3.9\\lib\\site-packages\\seaborn\\axisgrid.py:118: UserWarning:\n",
      "\n",
      "The figure layout has changed to tight\n",
      "\n",
      "I:\\CorbanSwain\\repos\\zmia\\envs\\zmia-env-3.9\\lib\\site-packages\\seaborn\\axisgrid.py:118: UserWarning:\n",
      "\n",
      "The figure layout has changed to tight\n",
      "\n",
      "I:\\CorbanSwain\\repos\\zmia\\envs\\zmia-env-3.9\\lib\\site-packages\\seaborn\\axisgrid.py:118: UserWarning:\n",
      "\n",
      "The figure layout has changed to tight\n",
      "\n"
     ]
    },
    {
     "name": "stdout",
     "output_type": "stream",
     "text": [
      "local-nb_cs-ii-[33,34]_activity_stimulus_overlays (  52): INFO : Saving figure to disk...\n"
     ]
    },
    {
     "name": "stderr",
     "output_type": "stream",
     "text": [
      "I:\\CorbanSwain\\repos\\zmia\\envs\\zmia-env-3.9\\lib\\site-packages\\seaborn\\axisgrid.py:118: UserWarning:\n",
      "\n",
      "The figure layout has changed to tight\n",
      "\n",
      "I:\\CorbanSwain\\repos\\zmia\\envs\\zmia-env-3.9\\lib\\site-packages\\seaborn\\axisgrid.py:118: UserWarning:\n",
      "\n",
      "The figure layout has changed to tight\n",
      "\n",
      "I:\\CorbanSwain\\repos\\zmia\\envs\\zmia-env-3.9\\lib\\site-packages\\seaborn\\axisgrid.py:118: UserWarning:\n",
      "\n",
      "The figure layout has changed to tight\n",
      "\n",
      "I:\\CorbanSwain\\repos\\zmia\\envs\\zmia-env-3.9\\lib\\site-packages\\seaborn\\axisgrid.py:118: UserWarning:\n",
      "\n",
      "The figure layout has changed to tight\n",
      "\n"
     ]
    },
    {
     "name": "stdout",
     "output_type": "stream",
     "text": [
      "local-nb_cs-ii-[33,34]_activity_stimulus_overlays (  52): INFO : Saving figure to disk...\n"
     ]
    },
    {
     "name": "stderr",
     "output_type": "stream",
     "text": [
      "I:\\CorbanSwain\\repos\\zmia\\envs\\zmia-env-3.9\\lib\\site-packages\\seaborn\\axisgrid.py:118: UserWarning:\n",
      "\n",
      "The figure layout has changed to tight\n",
      "\n",
      "I:\\CorbanSwain\\repos\\zmia\\envs\\zmia-env-3.9\\lib\\site-packages\\seaborn\\axisgrid.py:118: UserWarning:\n",
      "\n",
      "The figure layout has changed to tight\n",
      "\n",
      "I:\\CorbanSwain\\repos\\zmia\\envs\\zmia-env-3.9\\lib\\site-packages\\seaborn\\axisgrid.py:118: UserWarning:\n",
      "\n",
      "The figure layout has changed to tight\n",
      "\n",
      "I:\\CorbanSwain\\repos\\zmia\\envs\\zmia-env-3.9\\lib\\site-packages\\seaborn\\axisgrid.py:118: UserWarning:\n",
      "\n",
      "The figure layout has changed to tight\n",
      "\n"
     ]
    },
    {
     "name": "stdout",
     "output_type": "stream",
     "text": [
      "local-nb_cs-ii-[33,34]_activity_stimulus_overlays (  52): INFO : Saving figure to disk...\n"
     ]
    },
    {
     "name": "stderr",
     "output_type": "stream",
     "text": [
      "I:\\CorbanSwain\\repos\\zmia\\envs\\zmia-env-3.9\\lib\\site-packages\\seaborn\\axisgrid.py:118: UserWarning:\n",
      "\n",
      "The figure layout has changed to tight\n",
      "\n",
      "I:\\CorbanSwain\\repos\\zmia\\envs\\zmia-env-3.9\\lib\\site-packages\\seaborn\\axisgrid.py:118: UserWarning:\n",
      "\n",
      "The figure layout has changed to tight\n",
      "\n",
      "I:\\CorbanSwain\\repos\\zmia\\envs\\zmia-env-3.9\\lib\\site-packages\\seaborn\\axisgrid.py:118: UserWarning:\n",
      "\n",
      "The figure layout has changed to tight\n",
      "\n",
      "I:\\CorbanSwain\\repos\\zmia\\envs\\zmia-env-3.9\\lib\\site-packages\\seaborn\\axisgrid.py:118: UserWarning:\n",
      "\n",
      "The figure layout has changed to tight\n",
      "\n"
     ]
    },
    {
     "name": "stdout",
     "output_type": "stream",
     "text": [
      "local-nb_cs-ii-[33,34]_activity_stimulus_overlays (  52): INFO : Saving figure to disk...\n"
     ]
    },
    {
     "name": "stderr",
     "output_type": "stream",
     "text": [
      "I:\\CorbanSwain\\repos\\zmia\\envs\\zmia-env-3.9\\lib\\site-packages\\seaborn\\axisgrid.py:118: UserWarning:\n",
      "\n",
      "The figure layout has changed to tight\n",
      "\n",
      "I:\\CorbanSwain\\repos\\zmia\\envs\\zmia-env-3.9\\lib\\site-packages\\seaborn\\axisgrid.py:118: UserWarning:\n",
      "\n",
      "The figure layout has changed to tight\n",
      "\n",
      "I:\\CorbanSwain\\repos\\zmia\\envs\\zmia-env-3.9\\lib\\site-packages\\seaborn\\axisgrid.py:118: UserWarning:\n",
      "\n",
      "The figure layout has changed to tight\n",
      "\n",
      "I:\\CorbanSwain\\repos\\zmia\\envs\\zmia-env-3.9\\lib\\site-packages\\seaborn\\axisgrid.py:118: UserWarning:\n",
      "\n",
      "The figure layout has changed to tight\n",
      "\n"
     ]
    },
    {
     "name": "stdout",
     "output_type": "stream",
     "text": [
      "local-nb_cs-ii-[33,34]_activity_stimulus_overlays (  52): INFO : Saving figure to disk...\n"
     ]
    },
    {
     "name": "stderr",
     "output_type": "stream",
     "text": [
      "I:\\CorbanSwain\\repos\\zmia\\envs\\zmia-env-3.9\\lib\\site-packages\\seaborn\\axisgrid.py:118: UserWarning:\n",
      "\n",
      "The figure layout has changed to tight\n",
      "\n",
      "I:\\CorbanSwain\\repos\\zmia\\envs\\zmia-env-3.9\\lib\\site-packages\\seaborn\\axisgrid.py:118: UserWarning:\n",
      "\n",
      "The figure layout has changed to tight\n",
      "\n",
      "I:\\CorbanSwain\\repos\\zmia\\envs\\zmia-env-3.9\\lib\\site-packages\\seaborn\\axisgrid.py:118: UserWarning:\n",
      "\n",
      "The figure layout has changed to tight\n",
      "\n",
      "I:\\CorbanSwain\\repos\\zmia\\envs\\zmia-env-3.9\\lib\\site-packages\\seaborn\\axisgrid.py:118: UserWarning:\n",
      "\n",
      "The figure layout has changed to tight\n",
      "\n"
     ]
    },
    {
     "name": "stdout",
     "output_type": "stream",
     "text": [
      "local-nb_cs-ii-[33,34]_activity_stimulus_overlays (  52): INFO : Saving figure to disk...\n"
     ]
    },
    {
     "name": "stderr",
     "output_type": "stream",
     "text": [
      "I:\\CorbanSwain\\repos\\zmia\\envs\\zmia-env-3.9\\lib\\site-packages\\seaborn\\axisgrid.py:118: UserWarning:\n",
      "\n",
      "The figure layout has changed to tight\n",
      "\n",
      "I:\\CorbanSwain\\repos\\zmia\\envs\\zmia-env-3.9\\lib\\site-packages\\seaborn\\axisgrid.py:118: UserWarning:\n",
      "\n",
      "The figure layout has changed to tight\n",
      "\n",
      "I:\\CorbanSwain\\repos\\zmia\\envs\\zmia-env-3.9\\lib\\site-packages\\seaborn\\axisgrid.py:118: UserWarning:\n",
      "\n",
      "The figure layout has changed to tight\n",
      "\n",
      "I:\\CorbanSwain\\repos\\zmia\\envs\\zmia-env-3.9\\lib\\site-packages\\seaborn\\axisgrid.py:118: UserWarning:\n",
      "\n",
      "The figure layout has changed to tight\n",
      "\n"
     ]
    },
    {
     "name": "stdout",
     "output_type": "stream",
     "text": [
      "local-nb_cs-ii-[33,34]_activity_stimulus_overlays (  52): INFO : Saving figure to disk...\n"
     ]
    },
    {
     "name": "stderr",
     "output_type": "stream",
     "text": [
      "I:\\CorbanSwain\\repos\\zmia\\envs\\zmia-env-3.9\\lib\\site-packages\\seaborn\\axisgrid.py:118: UserWarning:\n",
      "\n",
      "The figure layout has changed to tight\n",
      "\n",
      "I:\\CorbanSwain\\repos\\zmia\\envs\\zmia-env-3.9\\lib\\site-packages\\seaborn\\axisgrid.py:118: UserWarning:\n",
      "\n",
      "The figure layout has changed to tight\n",
      "\n",
      "I:\\CorbanSwain\\repos\\zmia\\envs\\zmia-env-3.9\\lib\\site-packages\\seaborn\\axisgrid.py:118: UserWarning:\n",
      "\n",
      "The figure layout has changed to tight\n",
      "\n",
      "I:\\CorbanSwain\\repos\\zmia\\envs\\zmia-env-3.9\\lib\\site-packages\\seaborn\\axisgrid.py:118: UserWarning:\n",
      "\n",
      "The figure layout has changed to tight\n",
      "\n"
     ]
    },
    {
     "name": "stdout",
     "output_type": "stream",
     "text": [
      "local-nb_cs-ii-[33,34]_activity_stimulus_overlays (  52): INFO : Saving figure to disk...\n"
     ]
    },
    {
     "name": "stderr",
     "output_type": "stream",
     "text": [
      "I:\\CorbanSwain\\repos\\zmia\\envs\\zmia-env-3.9\\lib\\site-packages\\seaborn\\axisgrid.py:118: UserWarning:\n",
      "\n",
      "The figure layout has changed to tight\n",
      "\n",
      "I:\\CorbanSwain\\repos\\zmia\\envs\\zmia-env-3.9\\lib\\site-packages\\seaborn\\axisgrid.py:118: UserWarning:\n",
      "\n",
      "The figure layout has changed to tight\n",
      "\n",
      "I:\\CorbanSwain\\repos\\zmia\\envs\\zmia-env-3.9\\lib\\site-packages\\seaborn\\axisgrid.py:118: UserWarning:\n",
      "\n",
      "The figure layout has changed to tight\n",
      "\n",
      "I:\\CorbanSwain\\repos\\zmia\\envs\\zmia-env-3.9\\lib\\site-packages\\seaborn\\axisgrid.py:118: UserWarning:\n",
      "\n",
      "The figure layout has changed to tight\n",
      "\n"
     ]
    },
    {
     "name": "stdout",
     "output_type": "stream",
     "text": [
      "local-nb_cs-ii-[33,34]_activity_stimulus_overlays (  52): INFO : Saving figure to disk...\n"
     ]
    },
    {
     "name": "stderr",
     "output_type": "stream",
     "text": [
      "I:\\CorbanSwain\\repos\\zmia\\envs\\zmia-env-3.9\\lib\\site-packages\\seaborn\\axisgrid.py:118: UserWarning:\n",
      "\n",
      "The figure layout has changed to tight\n",
      "\n",
      "I:\\CorbanSwain\\repos\\zmia\\envs\\zmia-env-3.9\\lib\\site-packages\\seaborn\\axisgrid.py:118: UserWarning:\n",
      "\n",
      "The figure layout has changed to tight\n",
      "\n",
      "I:\\CorbanSwain\\repos\\zmia\\envs\\zmia-env-3.9\\lib\\site-packages\\seaborn\\axisgrid.py:118: UserWarning:\n",
      "\n",
      "The figure layout has changed to tight\n",
      "\n",
      "I:\\CorbanSwain\\repos\\zmia\\envs\\zmia-env-3.9\\lib\\site-packages\\seaborn\\axisgrid.py:118: UserWarning:\n",
      "\n",
      "The figure layout has changed to tight\n",
      "\n"
     ]
    },
    {
     "name": "stdout",
     "output_type": "stream",
     "text": [
      "local-nb_cs-ii-[33,34]_activity_stimulus_overlays (  52): INFO : Saving figure to disk...\n"
     ]
    },
    {
     "name": "stderr",
     "output_type": "stream",
     "text": [
      "I:\\CorbanSwain\\repos\\zmia\\envs\\zmia-env-3.9\\lib\\site-packages\\seaborn\\axisgrid.py:118: UserWarning:\n",
      "\n",
      "The figure layout has changed to tight\n",
      "\n",
      "I:\\CorbanSwain\\repos\\zmia\\envs\\zmia-env-3.9\\lib\\site-packages\\seaborn\\axisgrid.py:118: UserWarning:\n",
      "\n",
      "The figure layout has changed to tight\n",
      "\n",
      "I:\\CorbanSwain\\repos\\zmia\\envs\\zmia-env-3.9\\lib\\site-packages\\seaborn\\axisgrid.py:118: UserWarning:\n",
      "\n",
      "The figure layout has changed to tight\n",
      "\n",
      "I:\\CorbanSwain\\repos\\zmia\\envs\\zmia-env-3.9\\lib\\site-packages\\seaborn\\axisgrid.py:118: UserWarning:\n",
      "\n",
      "The figure layout has changed to tight\n",
      "\n"
     ]
    },
    {
     "name": "stdout",
     "output_type": "stream",
     "text": [
      "local-nb_cs-ii-[33,34]_activity_stimulus_overlays (  52): INFO : Saving figure to disk...\n"
     ]
    },
    {
     "name": "stderr",
     "output_type": "stream",
     "text": [
      "I:\\CorbanSwain\\repos\\zmia\\envs\\zmia-env-3.9\\lib\\site-packages\\seaborn\\axisgrid.py:118: UserWarning:\n",
      "\n",
      "The figure layout has changed to tight\n",
      "\n",
      "I:\\CorbanSwain\\repos\\zmia\\envs\\zmia-env-3.9\\lib\\site-packages\\seaborn\\axisgrid.py:118: UserWarning:\n",
      "\n",
      "The figure layout has changed to tight\n",
      "\n",
      "I:\\CorbanSwain\\repos\\zmia\\envs\\zmia-env-3.9\\lib\\site-packages\\seaborn\\axisgrid.py:118: UserWarning:\n",
      "\n",
      "The figure layout has changed to tight\n",
      "\n",
      "I:\\CorbanSwain\\repos\\zmia\\envs\\zmia-env-3.9\\lib\\site-packages\\seaborn\\axisgrid.py:118: UserWarning:\n",
      "\n",
      "The figure layout has changed to tight\n",
      "\n"
     ]
    },
    {
     "name": "stdout",
     "output_type": "stream",
     "text": [
      "local-nb_cs-ii-[33,34]_activity_stimulus_overlays (  52): INFO : Saving figure to disk...\n"
     ]
    },
    {
     "name": "stderr",
     "output_type": "stream",
     "text": [
      "I:\\CorbanSwain\\repos\\zmia\\envs\\zmia-env-3.9\\lib\\site-packages\\seaborn\\axisgrid.py:118: UserWarning:\n",
      "\n",
      "The figure layout has changed to tight\n",
      "\n",
      "I:\\CorbanSwain\\repos\\zmia\\envs\\zmia-env-3.9\\lib\\site-packages\\seaborn\\axisgrid.py:118: UserWarning:\n",
      "\n",
      "The figure layout has changed to tight\n",
      "\n",
      "I:\\CorbanSwain\\repos\\zmia\\envs\\zmia-env-3.9\\lib\\site-packages\\seaborn\\axisgrid.py:118: UserWarning:\n",
      "\n",
      "The figure layout has changed to tight\n",
      "\n",
      "I:\\CorbanSwain\\repos\\zmia\\envs\\zmia-env-3.9\\lib\\site-packages\\seaborn\\axisgrid.py:118: UserWarning:\n",
      "\n",
      "The figure layout has changed to tight\n",
      "\n"
     ]
    },
    {
     "name": "stdout",
     "output_type": "stream",
     "text": [
      "local-nb_cs-ii-[33,34]_activity_stimulus_overlays (  52): INFO : Saving figure to disk...\n"
     ]
    },
    {
     "name": "stderr",
     "output_type": "stream",
     "text": [
      "I:\\CorbanSwain\\repos\\zmia\\envs\\zmia-env-3.9\\lib\\site-packages\\seaborn\\axisgrid.py:118: UserWarning:\n",
      "\n",
      "The figure layout has changed to tight\n",
      "\n",
      "I:\\CorbanSwain\\repos\\zmia\\envs\\zmia-env-3.9\\lib\\site-packages\\seaborn\\axisgrid.py:118: UserWarning:\n",
      "\n",
      "The figure layout has changed to tight\n",
      "\n",
      "I:\\CorbanSwain\\repos\\zmia\\envs\\zmia-env-3.9\\lib\\site-packages\\seaborn\\axisgrid.py:118: UserWarning:\n",
      "\n",
      "The figure layout has changed to tight\n",
      "\n",
      "I:\\CorbanSwain\\repos\\zmia\\envs\\zmia-env-3.9\\lib\\site-packages\\seaborn\\axisgrid.py:118: UserWarning:\n",
      "\n",
      "The figure layout has changed to tight\n",
      "\n"
     ]
    },
    {
     "name": "stdout",
     "output_type": "stream",
     "text": [
      "local-nb_cs-ii-[33,34]_activity_stimulus_overlays (  52): INFO : Saving figure to disk...\n"
     ]
    },
    {
     "name": "stderr",
     "output_type": "stream",
     "text": [
      "I:\\CorbanSwain\\repos\\zmia\\envs\\zmia-env-3.9\\lib\\site-packages\\seaborn\\axisgrid.py:118: UserWarning:\n",
      "\n",
      "The figure layout has changed to tight\n",
      "\n",
      "I:\\CorbanSwain\\repos\\zmia\\envs\\zmia-env-3.9\\lib\\site-packages\\seaborn\\axisgrid.py:118: UserWarning:\n",
      "\n",
      "The figure layout has changed to tight\n",
      "\n",
      "I:\\CorbanSwain\\repos\\zmia\\envs\\zmia-env-3.9\\lib\\site-packages\\seaborn\\axisgrid.py:118: UserWarning:\n",
      "\n",
      "The figure layout has changed to tight\n",
      "\n",
      "I:\\CorbanSwain\\repos\\zmia\\envs\\zmia-env-3.9\\lib\\site-packages\\seaborn\\axisgrid.py:118: UserWarning:\n",
      "\n",
      "The figure layout has changed to tight\n",
      "\n"
     ]
    },
    {
     "name": "stdout",
     "output_type": "stream",
     "text": [
      "local-nb_cs-ii-[33,34]_activity_stimulus_overlays (  52): INFO : Saving figure to disk...\n"
     ]
    },
    {
     "name": "stderr",
     "output_type": "stream",
     "text": [
      "I:\\CorbanSwain\\repos\\zmia\\envs\\zmia-env-3.9\\lib\\site-packages\\seaborn\\axisgrid.py:118: UserWarning:\n",
      "\n",
      "The figure layout has changed to tight\n",
      "\n",
      "I:\\CorbanSwain\\repos\\zmia\\envs\\zmia-env-3.9\\lib\\site-packages\\seaborn\\axisgrid.py:118: UserWarning:\n",
      "\n",
      "The figure layout has changed to tight\n",
      "\n",
      "I:\\CorbanSwain\\repos\\zmia\\envs\\zmia-env-3.9\\lib\\site-packages\\seaborn\\axisgrid.py:118: UserWarning:\n",
      "\n",
      "The figure layout has changed to tight\n",
      "\n",
      "I:\\CorbanSwain\\repos\\zmia\\envs\\zmia-env-3.9\\lib\\site-packages\\seaborn\\axisgrid.py:118: UserWarning:\n",
      "\n",
      "The figure layout has changed to tight\n",
      "\n"
     ]
    },
    {
     "name": "stdout",
     "output_type": "stream",
     "text": [
      "local-nb_cs-ii-[33,34]_activity_stimulus_overlays (  52): INFO : Saving figure to disk...\n"
     ]
    },
    {
     "name": "stderr",
     "output_type": "stream",
     "text": [
      "I:\\CorbanSwain\\repos\\zmia\\envs\\zmia-env-3.9\\lib\\site-packages\\seaborn\\axisgrid.py:118: UserWarning:\n",
      "\n",
      "The figure layout has changed to tight\n",
      "\n",
      "I:\\CorbanSwain\\repos\\zmia\\envs\\zmia-env-3.9\\lib\\site-packages\\seaborn\\axisgrid.py:118: UserWarning:\n",
      "\n",
      "The figure layout has changed to tight\n",
      "\n",
      "I:\\CorbanSwain\\repos\\zmia\\envs\\zmia-env-3.9\\lib\\site-packages\\seaborn\\axisgrid.py:118: UserWarning:\n",
      "\n",
      "The figure layout has changed to tight\n",
      "\n",
      "I:\\CorbanSwain\\repos\\zmia\\envs\\zmia-env-3.9\\lib\\site-packages\\seaborn\\axisgrid.py:118: UserWarning:\n",
      "\n",
      "The figure layout has changed to tight\n",
      "\n"
     ]
    },
    {
     "name": "stdout",
     "output_type": "stream",
     "text": [
      "local-nb_cs-ii-[33,34]_activity_stimulus_overlays (  52): INFO : Saving figure to disk...\n"
     ]
    },
    {
     "name": "stderr",
     "output_type": "stream",
     "text": [
      "I:\\CorbanSwain\\repos\\zmia\\envs\\zmia-env-3.9\\lib\\site-packages\\seaborn\\axisgrid.py:118: UserWarning:\n",
      "\n",
      "The figure layout has changed to tight\n",
      "\n",
      "I:\\CorbanSwain\\repos\\zmia\\envs\\zmia-env-3.9\\lib\\site-packages\\seaborn\\axisgrid.py:118: UserWarning:\n",
      "\n",
      "The figure layout has changed to tight\n",
      "\n",
      "I:\\CorbanSwain\\repos\\zmia\\envs\\zmia-env-3.9\\lib\\site-packages\\seaborn\\axisgrid.py:118: UserWarning:\n",
      "\n",
      "The figure layout has changed to tight\n",
      "\n",
      "I:\\CorbanSwain\\repos\\zmia\\envs\\zmia-env-3.9\\lib\\site-packages\\seaborn\\axisgrid.py:118: UserWarning:\n",
      "\n",
      "The figure layout has changed to tight\n",
      "\n"
     ]
    },
    {
     "name": "stdout",
     "output_type": "stream",
     "text": [
      "local-nb_cs-ii-[33,34]_activity_stimulus_overlays (  52): INFO : Saving figure to disk...\n"
     ]
    },
    {
     "name": "stderr",
     "output_type": "stream",
     "text": [
      "I:\\CorbanSwain\\repos\\zmia\\envs\\zmia-env-3.9\\lib\\site-packages\\seaborn\\axisgrid.py:118: UserWarning:\n",
      "\n",
      "The figure layout has changed to tight\n",
      "\n",
      "I:\\CorbanSwain\\repos\\zmia\\envs\\zmia-env-3.9\\lib\\site-packages\\seaborn\\axisgrid.py:118: UserWarning:\n",
      "\n",
      "The figure layout has changed to tight\n",
      "\n",
      "I:\\CorbanSwain\\repos\\zmia\\envs\\zmia-env-3.9\\lib\\site-packages\\seaborn\\axisgrid.py:118: UserWarning:\n",
      "\n",
      "The figure layout has changed to tight\n",
      "\n",
      "I:\\CorbanSwain\\repos\\zmia\\envs\\zmia-env-3.9\\lib\\site-packages\\seaborn\\axisgrid.py:118: UserWarning:\n",
      "\n",
      "The figure layout has changed to tight\n",
      "\n"
     ]
    },
    {
     "name": "stdout",
     "output_type": "stream",
     "text": [
      "local-nb_cs-ii-[33,34]_activity_stimulus_overlays (  52): INFO : Saving figure to disk...\n"
     ]
    },
    {
     "name": "stderr",
     "output_type": "stream",
     "text": [
      "I:\\CorbanSwain\\repos\\zmia\\envs\\zmia-env-3.9\\lib\\site-packages\\seaborn\\axisgrid.py:118: UserWarning:\n",
      "\n",
      "The figure layout has changed to tight\n",
      "\n",
      "I:\\CorbanSwain\\repos\\zmia\\envs\\zmia-env-3.9\\lib\\site-packages\\seaborn\\axisgrid.py:118: UserWarning:\n",
      "\n",
      "The figure layout has changed to tight\n",
      "\n",
      "I:\\CorbanSwain\\repos\\zmia\\envs\\zmia-env-3.9\\lib\\site-packages\\seaborn\\axisgrid.py:118: UserWarning:\n",
      "\n",
      "The figure layout has changed to tight\n",
      "\n",
      "I:\\CorbanSwain\\repos\\zmia\\envs\\zmia-env-3.9\\lib\\site-packages\\seaborn\\axisgrid.py:118: UserWarning:\n",
      "\n",
      "The figure layout has changed to tight\n",
      "\n"
     ]
    },
    {
     "name": "stdout",
     "output_type": "stream",
     "text": [
      "local-nb_cs-ii-[33,34]_activity_stimulus_overlays (  52): INFO : Saving figure to disk...\n"
     ]
    },
    {
     "name": "stderr",
     "output_type": "stream",
     "text": [
      "I:\\CorbanSwain\\repos\\zmia\\envs\\zmia-env-3.9\\lib\\site-packages\\seaborn\\axisgrid.py:118: UserWarning:\n",
      "\n",
      "The figure layout has changed to tight\n",
      "\n",
      "I:\\CorbanSwain\\repos\\zmia\\envs\\zmia-env-3.9\\lib\\site-packages\\seaborn\\axisgrid.py:118: UserWarning:\n",
      "\n",
      "The figure layout has changed to tight\n",
      "\n",
      "I:\\CorbanSwain\\repos\\zmia\\envs\\zmia-env-3.9\\lib\\site-packages\\seaborn\\axisgrid.py:118: UserWarning:\n",
      "\n",
      "The figure layout has changed to tight\n",
      "\n",
      "I:\\CorbanSwain\\repos\\zmia\\envs\\zmia-env-3.9\\lib\\site-packages\\seaborn\\axisgrid.py:118: UserWarning:\n",
      "\n",
      "The figure layout has changed to tight\n",
      "\n"
     ]
    },
    {
     "name": "stdout",
     "output_type": "stream",
     "text": [
      "local-nb_cs-ii-[33,34]_activity_stimulus_overlays (  52): INFO : Saving figure to disk...\n"
     ]
    },
    {
     "name": "stderr",
     "output_type": "stream",
     "text": [
      "I:\\CorbanSwain\\repos\\zmia\\envs\\zmia-env-3.9\\lib\\site-packages\\seaborn\\axisgrid.py:118: UserWarning:\n",
      "\n",
      "The figure layout has changed to tight\n",
      "\n",
      "I:\\CorbanSwain\\repos\\zmia\\envs\\zmia-env-3.9\\lib\\site-packages\\seaborn\\axisgrid.py:118: UserWarning:\n",
      "\n",
      "The figure layout has changed to tight\n",
      "\n",
      "I:\\CorbanSwain\\repos\\zmia\\envs\\zmia-env-3.9\\lib\\site-packages\\seaborn\\axisgrid.py:118: UserWarning:\n",
      "\n",
      "The figure layout has changed to tight\n",
      "\n",
      "I:\\CorbanSwain\\repos\\zmia\\envs\\zmia-env-3.9\\lib\\site-packages\\seaborn\\axisgrid.py:118: UserWarning:\n",
      "\n",
      "The figure layout has changed to tight\n",
      "\n"
     ]
    },
    {
     "name": "stdout",
     "output_type": "stream",
     "text": [
      "local-nb_cs-ii-[33,34]_activity_stimulus_overlays (  52): INFO : Saving figure to disk...\n"
     ]
    },
    {
     "name": "stderr",
     "output_type": "stream",
     "text": [
      "I:\\CorbanSwain\\repos\\zmia\\envs\\zmia-env-3.9\\lib\\site-packages\\seaborn\\axisgrid.py:118: UserWarning:\n",
      "\n",
      "The figure layout has changed to tight\n",
      "\n",
      "I:\\CorbanSwain\\repos\\zmia\\envs\\zmia-env-3.9\\lib\\site-packages\\seaborn\\axisgrid.py:118: UserWarning:\n",
      "\n",
      "The figure layout has changed to tight\n",
      "\n",
      "I:\\CorbanSwain\\repos\\zmia\\envs\\zmia-env-3.9\\lib\\site-packages\\seaborn\\axisgrid.py:118: UserWarning:\n",
      "\n",
      "The figure layout has changed to tight\n",
      "\n",
      "I:\\CorbanSwain\\repos\\zmia\\envs\\zmia-env-3.9\\lib\\site-packages\\seaborn\\axisgrid.py:118: UserWarning:\n",
      "\n",
      "The figure layout has changed to tight\n",
      "\n"
     ]
    },
    {
     "name": "stdout",
     "output_type": "stream",
     "text": [
      "local-nb_cs-ii-[33,34]_activity_stimulus_overlays (  52): INFO : Saving figure to disk...\n"
     ]
    },
    {
     "name": "stderr",
     "output_type": "stream",
     "text": [
      "I:\\CorbanSwain\\repos\\zmia\\envs\\zmia-env-3.9\\lib\\site-packages\\seaborn\\axisgrid.py:118: UserWarning:\n",
      "\n",
      "The figure layout has changed to tight\n",
      "\n",
      "I:\\CorbanSwain\\repos\\zmia\\envs\\zmia-env-3.9\\lib\\site-packages\\seaborn\\axisgrid.py:118: UserWarning:\n",
      "\n",
      "The figure layout has changed to tight\n",
      "\n",
      "I:\\CorbanSwain\\repos\\zmia\\envs\\zmia-env-3.9\\lib\\site-packages\\seaborn\\axisgrid.py:118: UserWarning:\n",
      "\n",
      "The figure layout has changed to tight\n",
      "\n",
      "I:\\CorbanSwain\\repos\\zmia\\envs\\zmia-env-3.9\\lib\\site-packages\\seaborn\\axisgrid.py:118: UserWarning:\n",
      "\n",
      "The figure layout has changed to tight\n",
      "\n"
     ]
    },
    {
     "name": "stdout",
     "output_type": "stream",
     "text": [
      "local-nb_cs-ii-[33,34]_activity_stimulus_overlays (  52): INFO : Saving figure to disk...\n"
     ]
    },
    {
     "name": "stderr",
     "output_type": "stream",
     "text": [
      "I:\\CorbanSwain\\repos\\zmia\\envs\\zmia-env-3.9\\lib\\site-packages\\seaborn\\axisgrid.py:118: UserWarning:\n",
      "\n",
      "The figure layout has changed to tight\n",
      "\n",
      "I:\\CorbanSwain\\repos\\zmia\\envs\\zmia-env-3.9\\lib\\site-packages\\seaborn\\axisgrid.py:118: UserWarning:\n",
      "\n",
      "The figure layout has changed to tight\n",
      "\n",
      "I:\\CorbanSwain\\repos\\zmia\\envs\\zmia-env-3.9\\lib\\site-packages\\seaborn\\axisgrid.py:118: UserWarning:\n",
      "\n",
      "The figure layout has changed to tight\n",
      "\n",
      "I:\\CorbanSwain\\repos\\zmia\\envs\\zmia-env-3.9\\lib\\site-packages\\seaborn\\axisgrid.py:118: UserWarning:\n",
      "\n",
      "The figure layout has changed to tight\n",
      "\n"
     ]
    },
    {
     "name": "stdout",
     "output_type": "stream",
     "text": [
      "local-nb_cs-ii-[33,34]_activity_stimulus_overlays (  52): INFO : Saving figure to disk...\n"
     ]
    },
    {
     "name": "stderr",
     "output_type": "stream",
     "text": [
      "I:\\CorbanSwain\\repos\\zmia\\envs\\zmia-env-3.9\\lib\\site-packages\\seaborn\\axisgrid.py:118: UserWarning:\n",
      "\n",
      "The figure layout has changed to tight\n",
      "\n",
      "I:\\CorbanSwain\\repos\\zmia\\envs\\zmia-env-3.9\\lib\\site-packages\\seaborn\\axisgrid.py:118: UserWarning:\n",
      "\n",
      "The figure layout has changed to tight\n",
      "\n",
      "I:\\CorbanSwain\\repos\\zmia\\envs\\zmia-env-3.9\\lib\\site-packages\\seaborn\\axisgrid.py:118: UserWarning:\n",
      "\n",
      "The figure layout has changed to tight\n",
      "\n",
      "I:\\CorbanSwain\\repos\\zmia\\envs\\zmia-env-3.9\\lib\\site-packages\\seaborn\\axisgrid.py:118: UserWarning:\n",
      "\n",
      "The figure layout has changed to tight\n",
      "\n"
     ]
    },
    {
     "name": "stdout",
     "output_type": "stream",
     "text": [
      "local-nb_cs-ii-[33,34]_activity_stimulus_overlays (  52): INFO : Saving figure to disk...\n"
     ]
    },
    {
     "name": "stderr",
     "output_type": "stream",
     "text": [
      "I:\\CorbanSwain\\repos\\zmia\\envs\\zmia-env-3.9\\lib\\site-packages\\seaborn\\axisgrid.py:118: UserWarning:\n",
      "\n",
      "The figure layout has changed to tight\n",
      "\n",
      "I:\\CorbanSwain\\repos\\zmia\\envs\\zmia-env-3.9\\lib\\site-packages\\seaborn\\axisgrid.py:118: UserWarning:\n",
      "\n",
      "The figure layout has changed to tight\n",
      "\n",
      "I:\\CorbanSwain\\repos\\zmia\\envs\\zmia-env-3.9\\lib\\site-packages\\seaborn\\axisgrid.py:118: UserWarning:\n",
      "\n",
      "The figure layout has changed to tight\n",
      "\n",
      "I:\\CorbanSwain\\repos\\zmia\\envs\\zmia-env-3.9\\lib\\site-packages\\seaborn\\axisgrid.py:118: UserWarning:\n",
      "\n",
      "The figure layout has changed to tight\n",
      "\n"
     ]
    },
    {
     "name": "stdout",
     "output_type": "stream",
     "text": [
      "local-nb_cs-ii-[33,34]_activity_stimulus_overlays (  52): INFO : Saving figure to disk...\n"
     ]
    },
    {
     "name": "stderr",
     "output_type": "stream",
     "text": [
      "I:\\CorbanSwain\\repos\\zmia\\envs\\zmia-env-3.9\\lib\\site-packages\\seaborn\\axisgrid.py:118: UserWarning:\n",
      "\n",
      "The figure layout has changed to tight\n",
      "\n",
      "I:\\CorbanSwain\\repos\\zmia\\envs\\zmia-env-3.9\\lib\\site-packages\\seaborn\\axisgrid.py:118: UserWarning:\n",
      "\n",
      "The figure layout has changed to tight\n",
      "\n",
      "I:\\CorbanSwain\\repos\\zmia\\envs\\zmia-env-3.9\\lib\\site-packages\\seaborn\\axisgrid.py:118: UserWarning:\n",
      "\n",
      "The figure layout has changed to tight\n",
      "\n",
      "I:\\CorbanSwain\\repos\\zmia\\envs\\zmia-env-3.9\\lib\\site-packages\\seaborn\\axisgrid.py:118: UserWarning:\n",
      "\n",
      "The figure layout has changed to tight\n",
      "\n"
     ]
    },
    {
     "name": "stdout",
     "output_type": "stream",
     "text": [
      "local-nb_cs-ii-[33,34]_activity_stimulus_overlays (  52): INFO : Saving figure to disk...\n"
     ]
    },
    {
     "name": "stderr",
     "output_type": "stream",
     "text": [
      "I:\\CorbanSwain\\repos\\zmia\\envs\\zmia-env-3.9\\lib\\site-packages\\seaborn\\axisgrid.py:118: UserWarning:\n",
      "\n",
      "The figure layout has changed to tight\n",
      "\n",
      "I:\\CorbanSwain\\repos\\zmia\\envs\\zmia-env-3.9\\lib\\site-packages\\seaborn\\axisgrid.py:118: UserWarning:\n",
      "\n",
      "The figure layout has changed to tight\n",
      "\n",
      "I:\\CorbanSwain\\repos\\zmia\\envs\\zmia-env-3.9\\lib\\site-packages\\seaborn\\axisgrid.py:118: UserWarning:\n",
      "\n",
      "The figure layout has changed to tight\n",
      "\n",
      "I:\\CorbanSwain\\repos\\zmia\\envs\\zmia-env-3.9\\lib\\site-packages\\seaborn\\axisgrid.py:118: UserWarning:\n",
      "\n",
      "The figure layout has changed to tight\n",
      "\n"
     ]
    },
    {
     "name": "stdout",
     "output_type": "stream",
     "text": [
      "local-nb_cs-ii-[33,34]_activity_stimulus_overlays (  52): INFO : Saving figure to disk...\n"
     ]
    },
    {
     "name": "stderr",
     "output_type": "stream",
     "text": [
      "I:\\CorbanSwain\\repos\\zmia\\envs\\zmia-env-3.9\\lib\\site-packages\\seaborn\\axisgrid.py:118: UserWarning:\n",
      "\n",
      "The figure layout has changed to tight\n",
      "\n",
      "I:\\CorbanSwain\\repos\\zmia\\envs\\zmia-env-3.9\\lib\\site-packages\\seaborn\\axisgrid.py:118: UserWarning:\n",
      "\n",
      "The figure layout has changed to tight\n",
      "\n",
      "I:\\CorbanSwain\\repos\\zmia\\envs\\zmia-env-3.9\\lib\\site-packages\\seaborn\\axisgrid.py:118: UserWarning:\n",
      "\n",
      "The figure layout has changed to tight\n",
      "\n",
      "I:\\CorbanSwain\\repos\\zmia\\envs\\zmia-env-3.9\\lib\\site-packages\\seaborn\\axisgrid.py:118: UserWarning:\n",
      "\n",
      "The figure layout has changed to tight\n",
      "\n"
     ]
    },
    {
     "name": "stdout",
     "output_type": "stream",
     "text": [
      "local-nb_cs-ii-[33,34]_activity_stimulus_overlays (  52): INFO : Saving figure to disk...\n"
     ]
    },
    {
     "name": "stderr",
     "output_type": "stream",
     "text": [
      "I:\\CorbanSwain\\repos\\zmia\\envs\\zmia-env-3.9\\lib\\site-packages\\seaborn\\axisgrid.py:118: UserWarning:\n",
      "\n",
      "The figure layout has changed to tight\n",
      "\n",
      "I:\\CorbanSwain\\repos\\zmia\\envs\\zmia-env-3.9\\lib\\site-packages\\seaborn\\axisgrid.py:118: UserWarning:\n",
      "\n",
      "The figure layout has changed to tight\n",
      "\n",
      "I:\\CorbanSwain\\repos\\zmia\\envs\\zmia-env-3.9\\lib\\site-packages\\seaborn\\axisgrid.py:118: UserWarning:\n",
      "\n",
      "The figure layout has changed to tight\n",
      "\n",
      "I:\\CorbanSwain\\repos\\zmia\\envs\\zmia-env-3.9\\lib\\site-packages\\seaborn\\axisgrid.py:118: UserWarning:\n",
      "\n",
      "The figure layout has changed to tight\n",
      "\n"
     ]
    },
    {
     "name": "stdout",
     "output_type": "stream",
     "text": [
      "local-nb_cs-ii-[33,34]_activity_stimulus_overlays (  52): INFO : Saving figure to disk...\n"
     ]
    },
    {
     "name": "stderr",
     "output_type": "stream",
     "text": [
      "I:\\CorbanSwain\\repos\\zmia\\envs\\zmia-env-3.9\\lib\\site-packages\\seaborn\\axisgrid.py:118: UserWarning:\n",
      "\n",
      "The figure layout has changed to tight\n",
      "\n",
      "I:\\CorbanSwain\\repos\\zmia\\envs\\zmia-env-3.9\\lib\\site-packages\\seaborn\\axisgrid.py:118: UserWarning:\n",
      "\n",
      "The figure layout has changed to tight\n",
      "\n",
      "I:\\CorbanSwain\\repos\\zmia\\envs\\zmia-env-3.9\\lib\\site-packages\\seaborn\\axisgrid.py:118: UserWarning:\n",
      "\n",
      "The figure layout has changed to tight\n",
      "\n",
      "I:\\CorbanSwain\\repos\\zmia\\envs\\zmia-env-3.9\\lib\\site-packages\\seaborn\\axisgrid.py:118: UserWarning:\n",
      "\n",
      "The figure layout has changed to tight\n",
      "\n"
     ]
    },
    {
     "name": "stdout",
     "output_type": "stream",
     "text": [
      "local-nb_cs-ii-[33,34]_activity_stimulus_overlays (  52): INFO : Saving figure to disk...\n"
     ]
    },
    {
     "name": "stderr",
     "output_type": "stream",
     "text": [
      "I:\\CorbanSwain\\repos\\zmia\\envs\\zmia-env-3.9\\lib\\site-packages\\seaborn\\axisgrid.py:118: UserWarning:\n",
      "\n",
      "The figure layout has changed to tight\n",
      "\n",
      "I:\\CorbanSwain\\repos\\zmia\\envs\\zmia-env-3.9\\lib\\site-packages\\seaborn\\axisgrid.py:118: UserWarning:\n",
      "\n",
      "The figure layout has changed to tight\n",
      "\n",
      "I:\\CorbanSwain\\repos\\zmia\\envs\\zmia-env-3.9\\lib\\site-packages\\seaborn\\axisgrid.py:118: UserWarning:\n",
      "\n",
      "The figure layout has changed to tight\n",
      "\n",
      "I:\\CorbanSwain\\repos\\zmia\\envs\\zmia-env-3.9\\lib\\site-packages\\seaborn\\axisgrid.py:118: UserWarning:\n",
      "\n",
      "The figure layout has changed to tight\n",
      "\n"
     ]
    },
    {
     "name": "stdout",
     "output_type": "stream",
     "text": [
      "local-nb_cs-ii-[33,34]_activity_stimulus_overlays (  52): INFO : Saving figure to disk...\n"
     ]
    },
    {
     "name": "stderr",
     "output_type": "stream",
     "text": [
      "I:\\CorbanSwain\\repos\\zmia\\envs\\zmia-env-3.9\\lib\\site-packages\\seaborn\\axisgrid.py:118: UserWarning:\n",
      "\n",
      "The figure layout has changed to tight\n",
      "\n",
      "I:\\CorbanSwain\\repos\\zmia\\envs\\zmia-env-3.9\\lib\\site-packages\\seaborn\\axisgrid.py:118: UserWarning:\n",
      "\n",
      "The figure layout has changed to tight\n",
      "\n",
      "I:\\CorbanSwain\\repos\\zmia\\envs\\zmia-env-3.9\\lib\\site-packages\\seaborn\\axisgrid.py:118: UserWarning:\n",
      "\n",
      "The figure layout has changed to tight\n",
      "\n",
      "I:\\CorbanSwain\\repos\\zmia\\envs\\zmia-env-3.9\\lib\\site-packages\\seaborn\\axisgrid.py:118: UserWarning:\n",
      "\n",
      "The figure layout has changed to tight\n",
      "\n"
     ]
    },
    {
     "name": "stdout",
     "output_type": "stream",
     "text": [
      "local-nb_cs-ii-[33,34]_activity_stimulus_overlays (  52): INFO : Saving figure to disk...\n"
     ]
    },
    {
     "name": "stderr",
     "output_type": "stream",
     "text": [
      "I:\\CorbanSwain\\repos\\zmia\\envs\\zmia-env-3.9\\lib\\site-packages\\seaborn\\axisgrid.py:118: UserWarning:\n",
      "\n",
      "The figure layout has changed to tight\n",
      "\n",
      "I:\\CorbanSwain\\repos\\zmia\\envs\\zmia-env-3.9\\lib\\site-packages\\seaborn\\axisgrid.py:118: UserWarning:\n",
      "\n",
      "The figure layout has changed to tight\n",
      "\n",
      "I:\\CorbanSwain\\repos\\zmia\\envs\\zmia-env-3.9\\lib\\site-packages\\seaborn\\axisgrid.py:118: UserWarning:\n",
      "\n",
      "The figure layout has changed to tight\n",
      "\n",
      "I:\\CorbanSwain\\repos\\zmia\\envs\\zmia-env-3.9\\lib\\site-packages\\seaborn\\axisgrid.py:118: UserWarning:\n",
      "\n",
      "The figure layout has changed to tight\n",
      "\n"
     ]
    },
    {
     "name": "stdout",
     "output_type": "stream",
     "text": [
      "local-nb_cs-ii-[33,34]_activity_stimulus_overlays (  52): INFO : Saving figure to disk...\n"
     ]
    },
    {
     "name": "stderr",
     "output_type": "stream",
     "text": [
      "I:\\CorbanSwain\\repos\\zmia\\envs\\zmia-env-3.9\\lib\\site-packages\\seaborn\\axisgrid.py:118: UserWarning:\n",
      "\n",
      "The figure layout has changed to tight\n",
      "\n",
      "I:\\CorbanSwain\\repos\\zmia\\envs\\zmia-env-3.9\\lib\\site-packages\\seaborn\\axisgrid.py:118: UserWarning:\n",
      "\n",
      "The figure layout has changed to tight\n",
      "\n",
      "I:\\CorbanSwain\\repos\\zmia\\envs\\zmia-env-3.9\\lib\\site-packages\\seaborn\\axisgrid.py:118: UserWarning:\n",
      "\n",
      "The figure layout has changed to tight\n",
      "\n",
      "I:\\CorbanSwain\\repos\\zmia\\envs\\zmia-env-3.9\\lib\\site-packages\\seaborn\\axisgrid.py:118: UserWarning:\n",
      "\n",
      "The figure layout has changed to tight\n",
      "\n"
     ]
    },
    {
     "name": "stdout",
     "output_type": "stream",
     "text": [
      "local-nb_cs-ii-[33,34]_activity_stimulus_overlays (  52): INFO : Saving figure to disk...\n"
     ]
    },
    {
     "name": "stderr",
     "output_type": "stream",
     "text": [
      "I:\\CorbanSwain\\repos\\zmia\\envs\\zmia-env-3.9\\lib\\site-packages\\seaborn\\axisgrid.py:118: UserWarning:\n",
      "\n",
      "The figure layout has changed to tight\n",
      "\n",
      "I:\\CorbanSwain\\repos\\zmia\\envs\\zmia-env-3.9\\lib\\site-packages\\seaborn\\axisgrid.py:118: UserWarning:\n",
      "\n",
      "The figure layout has changed to tight\n",
      "\n",
      "I:\\CorbanSwain\\repos\\zmia\\envs\\zmia-env-3.9\\lib\\site-packages\\seaborn\\axisgrid.py:118: UserWarning:\n",
      "\n",
      "The figure layout has changed to tight\n",
      "\n",
      "I:\\CorbanSwain\\repos\\zmia\\envs\\zmia-env-3.9\\lib\\site-packages\\seaborn\\axisgrid.py:118: UserWarning:\n",
      "\n",
      "The figure layout has changed to tight\n",
      "\n"
     ]
    },
    {
     "name": "stdout",
     "output_type": "stream",
     "text": [
      "local-nb_cs-ii-[33,34]_activity_stimulus_overlays (  52): INFO : Saving figure to disk...\n"
     ]
    },
    {
     "name": "stderr",
     "output_type": "stream",
     "text": [
      "I:\\CorbanSwain\\repos\\zmia\\envs\\zmia-env-3.9\\lib\\site-packages\\seaborn\\axisgrid.py:118: UserWarning:\n",
      "\n",
      "The figure layout has changed to tight\n",
      "\n",
      "I:\\CorbanSwain\\repos\\zmia\\envs\\zmia-env-3.9\\lib\\site-packages\\seaborn\\axisgrid.py:118: UserWarning:\n",
      "\n",
      "The figure layout has changed to tight\n",
      "\n",
      "I:\\CorbanSwain\\repos\\zmia\\envs\\zmia-env-3.9\\lib\\site-packages\\seaborn\\axisgrid.py:118: UserWarning:\n",
      "\n",
      "The figure layout has changed to tight\n",
      "\n",
      "I:\\CorbanSwain\\repos\\zmia\\envs\\zmia-env-3.9\\lib\\site-packages\\seaborn\\axisgrid.py:118: UserWarning:\n",
      "\n",
      "The figure layout has changed to tight\n",
      "\n"
     ]
    },
    {
     "name": "stdout",
     "output_type": "stream",
     "text": [
      "local-nb_cs-ii-[33,34]_activity_stimulus_overlays (  52): INFO : Saving figure to disk...\n"
     ]
    },
    {
     "name": "stderr",
     "output_type": "stream",
     "text": [
      "I:\\CorbanSwain\\repos\\zmia\\envs\\zmia-env-3.9\\lib\\site-packages\\seaborn\\axisgrid.py:118: UserWarning:\n",
      "\n",
      "The figure layout has changed to tight\n",
      "\n",
      "I:\\CorbanSwain\\repos\\zmia\\envs\\zmia-env-3.9\\lib\\site-packages\\seaborn\\axisgrid.py:118: UserWarning:\n",
      "\n",
      "The figure layout has changed to tight\n",
      "\n",
      "I:\\CorbanSwain\\repos\\zmia\\envs\\zmia-env-3.9\\lib\\site-packages\\seaborn\\axisgrid.py:118: UserWarning:\n",
      "\n",
      "The figure layout has changed to tight\n",
      "\n",
      "I:\\CorbanSwain\\repos\\zmia\\envs\\zmia-env-3.9\\lib\\site-packages\\seaborn\\axisgrid.py:118: UserWarning:\n",
      "\n",
      "The figure layout has changed to tight\n",
      "\n"
     ]
    },
    {
     "name": "stdout",
     "output_type": "stream",
     "text": [
      "local-nb_cs-ii-[33,34]_activity_stimulus_overlays (  52): INFO : Saving figure to disk...\n"
     ]
    },
    {
     "name": "stderr",
     "output_type": "stream",
     "text": [
      "I:\\CorbanSwain\\repos\\zmia\\envs\\zmia-env-3.9\\lib\\site-packages\\seaborn\\axisgrid.py:118: UserWarning:\n",
      "\n",
      "The figure layout has changed to tight\n",
      "\n",
      "I:\\CorbanSwain\\repos\\zmia\\envs\\zmia-env-3.9\\lib\\site-packages\\seaborn\\axisgrid.py:118: UserWarning:\n",
      "\n",
      "The figure layout has changed to tight\n",
      "\n",
      "I:\\CorbanSwain\\repos\\zmia\\envs\\zmia-env-3.9\\lib\\site-packages\\seaborn\\axisgrid.py:118: UserWarning:\n",
      "\n",
      "The figure layout has changed to tight\n",
      "\n",
      "I:\\CorbanSwain\\repos\\zmia\\envs\\zmia-env-3.9\\lib\\site-packages\\seaborn\\axisgrid.py:118: UserWarning:\n",
      "\n",
      "The figure layout has changed to tight\n",
      "\n"
     ]
    },
    {
     "name": "stdout",
     "output_type": "stream",
     "text": [
      "local-nb_cs-ii-[33,34]_activity_stimulus_overlays (  52): INFO : Saving figure to disk...\n"
     ]
    },
    {
     "name": "stderr",
     "output_type": "stream",
     "text": [
      "I:\\CorbanSwain\\repos\\zmia\\envs\\zmia-env-3.9\\lib\\site-packages\\seaborn\\axisgrid.py:118: UserWarning:\n",
      "\n",
      "The figure layout has changed to tight\n",
      "\n",
      "I:\\CorbanSwain\\repos\\zmia\\envs\\zmia-env-3.9\\lib\\site-packages\\seaborn\\axisgrid.py:118: UserWarning:\n",
      "\n",
      "The figure layout has changed to tight\n",
      "\n",
      "I:\\CorbanSwain\\repos\\zmia\\envs\\zmia-env-3.9\\lib\\site-packages\\seaborn\\axisgrid.py:118: UserWarning:\n",
      "\n",
      "The figure layout has changed to tight\n",
      "\n",
      "I:\\CorbanSwain\\repos\\zmia\\envs\\zmia-env-3.9\\lib\\site-packages\\seaborn\\axisgrid.py:118: UserWarning:\n",
      "\n",
      "The figure layout has changed to tight\n",
      "\n"
     ]
    },
    {
     "name": "stdout",
     "output_type": "stream",
     "text": [
      "local-nb_cs-ii-[33,34]_activity_stimulus_overlays (  52): INFO : Saving figure to disk...\n"
     ]
    },
    {
     "name": "stderr",
     "output_type": "stream",
     "text": [
      "I:\\CorbanSwain\\repos\\zmia\\envs\\zmia-env-3.9\\lib\\site-packages\\seaborn\\axisgrid.py:118: UserWarning:\n",
      "\n",
      "The figure layout has changed to tight\n",
      "\n",
      "I:\\CorbanSwain\\repos\\zmia\\envs\\zmia-env-3.9\\lib\\site-packages\\seaborn\\axisgrid.py:118: UserWarning:\n",
      "\n",
      "The figure layout has changed to tight\n",
      "\n",
      "I:\\CorbanSwain\\repos\\zmia\\envs\\zmia-env-3.9\\lib\\site-packages\\seaborn\\axisgrid.py:118: UserWarning:\n",
      "\n",
      "The figure layout has changed to tight\n",
      "\n",
      "I:\\CorbanSwain\\repos\\zmia\\envs\\zmia-env-3.9\\lib\\site-packages\\seaborn\\axisgrid.py:118: UserWarning:\n",
      "\n",
      "The figure layout has changed to tight\n",
      "\n"
     ]
    },
    {
     "name": "stdout",
     "output_type": "stream",
     "text": [
      "local-nb_cs-ii-[33,34]_activity_stimulus_overlays (  52): INFO : Saving figure to disk...\n"
     ]
    },
    {
     "name": "stderr",
     "output_type": "stream",
     "text": [
      "local-nb_cs-ii-[33,34]_activity_stimulus_overlays (  57): ERROR : Error generating figure.\n",
      "Traceback (most recent call last):\n",
      "  File \"I:\\CorbanSwain\\repos\\zmia\\envs\\zmia-env-3.9\\lib\\site-packages\\pandas\\core\\indexes\\base.py\", line 3802, in get_loc\n",
      "    return self._engine.get_loc(casted_key)\n",
      "  File \"pandas\\_libs\\index.pyx\", line 138, in pandas._libs.index.IndexEngine.get_loc\n",
      "  File \"pandas\\_libs\\index.pyx\", line 165, in pandas._libs.index.IndexEngine.get_loc\n",
      "  File \"pandas\\_libs\\hashtable_class_helper.pxi\", line 5745, in pandas._libs.hashtable.PyObjectHashTable.get_item\n",
      "  File \"pandas\\_libs\\hashtable_class_helper.pxi\", line 5753, in pandas._libs.hashtable.PyObjectHashTable.get_item\n",
      "KeyError: 'y'\n",
      "\n",
      "The above exception was the direct cause of the following exception:\n",
      "\n",
      "Traceback (most recent call last):\n",
      "  File \"C:\\Users\\CorbanSwain\\AppData\\Local\\Temp\\ipykernel_21896\\2326515018.py\", line 21, in <module>\n",
      "    fig = sns.relplot(\n",
      "  File \"I:\\CorbanSwain\\repos\\zmia\\envs\\zmia-env-3.9\\lib\\site-packages\\seaborn\\relational.py\", line 955, in relplot\n",
      "    g.map_dataframe(func, **plot_kws)\n",
      "  File \"I:\\CorbanSwain\\repos\\zmia\\envs\\zmia-env-3.9\\lib\\site-packages\\seaborn\\axisgrid.py\", line 819, in map_dataframe\n",
      "    self._facet_plot(func, ax, args, kwargs)\n",
      "  File \"I:\\CorbanSwain\\repos\\zmia\\envs\\zmia-env-3.9\\lib\\site-packages\\seaborn\\axisgrid.py\", line 848, in _facet_plot\n",
      "    func(*plot_args, **plot_kwargs)\n",
      "  File \"I:\\CorbanSwain\\repos\\zmia\\envs\\zmia-env-3.9\\lib\\site-packages\\seaborn\\relational.py\", line 645, in lineplot\n",
      "    p.plot(ax, kwargs)\n",
      "  File \"I:\\CorbanSwain\\repos\\zmia\\envs\\zmia-env-3.9\\lib\\site-packages\\seaborn\\relational.py\", line 441, in plot\n",
      "    sub_data = grouped.apply(agg, other).reset_index()\n",
      "  File \"I:\\CorbanSwain\\repos\\zmia\\envs\\zmia-env-3.9\\lib\\site-packages\\pandas\\core\\groupby\\groupby.py\", line 1567, in apply\n",
      "    result = self._python_apply_general(f, self._selected_obj)\n",
      "  File \"I:\\CorbanSwain\\repos\\zmia\\envs\\zmia-env-3.9\\lib\\site-packages\\pandas\\core\\groupby\\groupby.py\", line 1629, in _python_apply_general\n",
      "    values, mutated = self.grouper.apply(f, data, self.axis)\n",
      "  File \"I:\\CorbanSwain\\repos\\zmia\\envs\\zmia-env-3.9\\lib\\site-packages\\pandas\\core\\groupby\\ops.py\", line 839, in apply\n",
      "    res = f(group)\n",
      "  File \"I:\\CorbanSwain\\repos\\zmia\\envs\\zmia-env-3.9\\lib\\site-packages\\pandas\\core\\groupby\\groupby.py\", line 1540, in f\n",
      "    return func(g, *args, **kwargs)\n",
      "  File \"I:\\CorbanSwain\\repos\\zmia\\envs\\zmia-env-3.9\\lib\\site-packages\\seaborn\\_statistics.py\", line 482, in __call__\n",
      "    vals = data[var]\n",
      "  File \"I:\\CorbanSwain\\repos\\zmia\\envs\\zmia-env-3.9\\lib\\site-packages\\pandas\\core\\frame.py\", line 3807, in __getitem__\n",
      "    indexer = self.columns.get_loc(key)\n",
      "  File \"I:\\CorbanSwain\\repos\\zmia\\envs\\zmia-env-3.9\\lib\\site-packages\\pandas\\core\\indexes\\base.py\", line 3804, in get_loc\n",
      "    raise KeyError(key) from err\n",
      "KeyError: 'y'\n",
      "I:\\CorbanSwain\\repos\\zmia\\envs\\zmia-env-3.9\\lib\\site-packages\\seaborn\\axisgrid.py:118: UserWarning:\n",
      "\n",
      "The figure layout has changed to tight\n",
      "\n",
      "I:\\CorbanSwain\\repos\\zmia\\envs\\zmia-env-3.9\\lib\\site-packages\\seaborn\\axisgrid.py:118: UserWarning:\n",
      "\n",
      "The figure layout has changed to tight\n",
      "\n",
      "I:\\CorbanSwain\\repos\\zmia\\envs\\zmia-env-3.9\\lib\\site-packages\\seaborn\\axisgrid.py:118: UserWarning:\n",
      "\n",
      "The figure layout has changed to tight\n",
      "\n",
      "I:\\CorbanSwain\\repos\\zmia\\envs\\zmia-env-3.9\\lib\\site-packages\\seaborn\\axisgrid.py:118: UserWarning:\n",
      "\n",
      "The figure layout has changed to tight\n",
      "\n"
     ]
    },
    {
     "name": "stdout",
     "output_type": "stream",
     "text": [
      "local-nb_cs-ii-[33,34]_activity_stimulus_overlays (  52): INFO : Saving figure to disk...\n"
     ]
    },
    {
     "ename": "RuntimeError",
     "evalue": "generator raised StopIteration",
     "output_type": "error",
     "traceback": [
      "\u001B[1;31m---------------------------------------------------------------------------\u001B[0m",
      "\u001B[1;31mStopIteration\u001B[0m                             Traceback (most recent call last)",
      "Cell \u001B[1;32mIn[76], line 4\u001B[0m, in \u001B[0;36m<genexpr>\u001B[1;34m(.0)\u001B[0m\n\u001B[0;32m      3\u001B[0m \u001B[38;5;28;01mwhile\u001B[39;00m \u001B[38;5;28;01mTrue\u001B[39;00m:\n\u001B[1;32m----> 4\u001B[0m     ret \u001B[38;5;241m=\u001B[39m \u001B[38;5;28mtuple\u001B[39m(\u001B[38;5;28;43mnext\u001B[39;49m\u001B[43m(\u001B[49m\u001B[43m_it\u001B[49m\u001B[43m)\u001B[49m \u001B[38;5;28;01mfor\u001B[39;00m _ \u001B[38;5;129;01min\u001B[39;00m \u001B[38;5;28mrange\u001B[39m(size))\n\u001B[0;32m      5\u001B[0m     \u001B[38;5;28;01mif\u001B[39;00m \u001B[38;5;28mlen\u001B[39m(ret) \u001B[38;5;241m==\u001B[39m size:\n",
      "\u001B[1;31mStopIteration\u001B[0m: ",
      "\nThe above exception was the direct cause of the following exception:\n",
      "\u001B[1;31mRuntimeError\u001B[0m                              Traceback (most recent call last)",
      "Cell \u001B[1;32mIn[151], line 3\u001B[0m\n\u001B[0;32m      1\u001B[0m get_ipython()\u001B[38;5;241m.\u001B[39mrun_line_magic(\u001B[38;5;124m'\u001B[39m\u001B[38;5;124mmatplotlib\u001B[39m\u001B[38;5;124m'\u001B[39m, \u001B[38;5;124m'\u001B[39m\u001B[38;5;124mqt\u001B[39m\u001B[38;5;124m'\u001B[39m)\n\u001B[1;32m----> 3\u001B[0m \u001B[38;5;28;01mfor\u001B[39;00m i, region_chunk \u001B[38;5;129;01min\u001B[39;00m \u001B[38;5;28menumerate\u001B[39m(chunks(all_regions, \u001B[38;5;241m5\u001B[39m)):\n\u001B[0;32m      4\u001B[0m     \u001B[38;5;66;03m# log.info(f'{region_chunk = }')\u001B[39;00m\n\u001B[0;32m      6\u001B[0m     save_path \u001B[38;5;241m=\u001B[39m os\u001B[38;5;241m.\u001B[39mpath\u001B[38;5;241m.\u001B[39mjoin(multi_experiment_output_dir, \n\u001B[0;32m      7\u001B[0m                              \u001B[38;5;124m'\u001B[39m\u001B[38;5;124mfigures\u001B[39m\u001B[38;5;124m'\u001B[39m,\n\u001B[0;32m      8\u001B[0m                              \u001B[38;5;124mf\u001B[39m\u001B[38;5;124m'\u001B[39m\u001B[38;5;124mstimulation-aa-cad\u001B[39m\u001B[38;5;124m'\u001B[39m,\n\u001B[1;32m   (...)\u001B[0m\n\u001B[0;32m     11\u001B[0m                              \u001B[38;5;124mf\u001B[39m\u001B[38;5;124m'\u001B[39m\u001B[38;5;132;01m{\u001B[39;00mi\u001B[38;5;132;01m:\u001B[39;00m\u001B[38;5;124m03d\u001B[39m\u001B[38;5;132;01m}\u001B[39;00m\u001B[38;5;124m-5-region-set_\u001B[39m\u001B[38;5;124m'\u001B[39m\n\u001B[0;32m     12\u001B[0m                              \u001B[38;5;124mf\u001B[39m\u001B[38;5;124m'\u001B[39m\u001B[38;5;124maggregated-results.png\u001B[39m\u001B[38;5;124m'\u001B[39m)\n\u001B[0;32m     13\u001B[0m     csutils\u001B[38;5;241m.\u001B[39mtouchdir(os\u001B[38;5;241m.\u001B[39mpath\u001B[38;5;241m.\u001B[39mdirname(save_path))\n",
      "Cell \u001B[1;32mIn[76], line 4\u001B[0m, in \u001B[0;36mchunks\u001B[1;34m(seq, size)\u001B[0m\n\u001B[0;32m      2\u001B[0m _it \u001B[38;5;241m=\u001B[39m \u001B[38;5;28miter\u001B[39m(seq)\n\u001B[0;32m      3\u001B[0m \u001B[38;5;28;01mwhile\u001B[39;00m \u001B[38;5;28;01mTrue\u001B[39;00m:\n\u001B[1;32m----> 4\u001B[0m     ret \u001B[38;5;241m=\u001B[39m \u001B[38;5;28;43mtuple\u001B[39;49m\u001B[43m(\u001B[49m\u001B[38;5;28;43mnext\u001B[39;49m\u001B[43m(\u001B[49m\u001B[43m_it\u001B[49m\u001B[43m)\u001B[49m\u001B[43m \u001B[49m\u001B[38;5;28;43;01mfor\u001B[39;49;00m\u001B[43m \u001B[49m\u001B[43m_\u001B[49m\u001B[43m \u001B[49m\u001B[38;5;129;43;01min\u001B[39;49;00m\u001B[43m \u001B[49m\u001B[38;5;28;43mrange\u001B[39;49m\u001B[43m(\u001B[49m\u001B[43msize\u001B[49m\u001B[43m)\u001B[49m\u001B[43m)\u001B[49m\n\u001B[0;32m      5\u001B[0m     \u001B[38;5;28;01mif\u001B[39;00m \u001B[38;5;28mlen\u001B[39m(ret) \u001B[38;5;241m==\u001B[39m size:\n\u001B[0;32m      6\u001B[0m         \u001B[38;5;28;01myield\u001B[39;00m ret\n",
      "\u001B[1;31mRuntimeError\u001B[0m: generator raised StopIteration"
     ]
    }
   ],
   "source": [
    "%matplotlib qt\n",
    "\n",
    "for i, region_chunk in enumerate(chunks(all_regions, 5)):\n",
    "    # log.info(f'{region_chunk = }')\n",
    "    \n",
    "    save_path = os.path.join(multi_experiment_output_dir, \n",
    "                             'figures',\n",
    "                             f'stimulation-aa-cad',\n",
    "                             f'multi_stim_'\n",
    "                             f'{stim_duration:.0f}s-pulse_'\n",
    "                             f'{i:03d}-5-region-set_'\n",
    "                             f'aggregated-results.png')\n",
    "    csutils.touchdir(os.path.dirname(save_path))\n",
    "    \n",
    "    if os.path.exists(save_path):\n",
    "        continue\n",
    "                \n",
    "    try:\n",
    "        subset_df = stim_seq_df.loc[stim_seq_df[REGION_CN].isin(region_chunk), :]\n",
    "        \n",
    "        fig = sns.relplot(\n",
    "            data=subset_df,\n",
    "            x=TIME_CN,\n",
    "            y=MEAN_CN,\n",
    "            hue=LAT_SIDE_CN,\n",
    "            col=REGION_CN,\n",
    "            row=STIM_TYPE_CN,        \n",
    "            kind='line',\n",
    "            facet_kws={'sharey': True, 'sharex': True},\n",
    "            errorbar=('se', 2),\n",
    "            height=2.5,\n",
    "            aspect=1.5)\n",
    "    \n",
    "        (fig\n",
    "         .map(plt.axvline, x=0, color='k', dashes=(2, 1), linewidth=1, zorder=0)\n",
    "         .map(plt.axhline, y=0, color='k', dashes=(2, 1), linewidth=1, zorder=0)\n",
    "         .map(plt.fill_between, x=[0, stim_duration], y1=[-5, -5], y2=[5, 5], \n",
    "              color='k', alpha=0.1, linewidth=0, zorder=-1)\n",
    "         .set_titles('region = {col_name}\\nstimulation = {row_name}')\n",
    "         .set_axis_labels('Time (s)', 'Delta F / F (a.u.)')\n",
    "         .set(xlim=(-1 * time_pre_stim_start, time_post_stim_start),\n",
    "              ylim=(-0.3, 0.6))\n",
    "         .tight_layout(h_pad=0.75, w_pad=0.5, rect=(0, 0, 0.93, 0.93)))\n",
    "        \n",
    "        fig.fig.suptitle(f'\\nAggregated Results for Stimulation with different Odors, '\n",
    "                         f'{stim_duration} s Pulse '\n",
    "                         f'(two standard errors shaded)', \n",
    "                         y=0.99)\n",
    "        \n",
    "        # sns.despine(offset=2, trim=True)\n",
    "        \n",
    "        log.info(f'Saving figure to disk...')\n",
    "        fig.savefig(save_path, dpi=300)\n",
    "        \n",
    "        plt.close(fig.fig)\n",
    "    except Exception as e:\n",
    "        log.error(f'Error generating figure.', exc_info=e)\n",
    "    finally:\n",
    "        plt.close('all')"
   ],
   "metadata": {
    "collapsed": false,
    "ExecuteTime": {
     "end_time": "2024-01-16T09:46:19.068424600Z",
     "start_time": "2024-01-16T09:37:21.941386500Z"
    }
   },
   "id": "9836c5a4e72f38e6"
  },
  {
   "cell_type": "code",
   "execution_count": null,
   "outputs": [],
   "source": [],
   "metadata": {
    "collapsed": false
   },
   "id": "e1f0f0aa09c97b07"
  }
 ],
 "metadata": {
  "kernelspec": {
   "display_name": "Python 3",
   "language": "python",
   "name": "python3"
  },
  "language_info": {
   "codemirror_mode": {
    "name": "ipython",
    "version": 2
   },
   "file_extension": ".py",
   "mimetype": "text/x-python",
   "name": "python",
   "nbconvert_exporter": "python",
   "pygments_lexer": "ipython2",
   "version": "2.7.6"
  }
 },
 "nbformat": 4,
 "nbformat_minor": 5
}
