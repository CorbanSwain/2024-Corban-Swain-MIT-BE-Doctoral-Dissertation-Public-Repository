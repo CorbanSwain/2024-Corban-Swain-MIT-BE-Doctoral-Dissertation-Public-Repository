{
 "cells": [
  {
   "cell_type": "code",
   "id": "dfeedc9a272460b2",
   "metadata": {
    "collapsed": true,
    "ExecuteTime": {
     "end_time": "2024-04-08T16:18:33.508090Z",
     "start_time": "2024-04-08T16:18:30.608398Z"
    }
   },
   "source": [
    "# standard imports\n",
    "from __future__ import annotations\n",
    "import os\n",
    "from typing import Any\n",
    "\n",
    "import dask_image.ndfilters\n",
    "import numpy as np\n",
    "import napari\n",
    "import ipynbname\n",
    "import matplotlib as mpl\n",
    "import matplotlib.dates\n",
    "import matplotlib.ticker\n",
    "import matplotlib.pyplot as plt\n",
    "import ants\n",
    "import pandas as pd\n",
    "import seaborn as sns\n",
    "import skimage as ski\n",
    "import h5py\n",
    "import scipy\n",
    "import binascii\n",
    "import glob\n",
    "import itertools as it\n",
    "\n",
    "# local imports\n",
    "import prairie_view_imports as pvi\n",
    "import c_swain_python_utils as csutils\n",
    "from utilities import *\n",
    "import tiff_utils as tifu\n",
    "import imaging_dataset as imd\n",
    "\n",
    "sns.set_style('ticks')\n",
    "\n",
    "_file = ipynbname.path()\n",
    "_name = csutils.no_ext_basename(_file)\n",
    "jobs_dir = os.path.split(_file)[0]\n",
    "sources_dir = os.path.abspath(os.path.join(jobs_dir, '..'))\n",
    "repo_dir = os.path.abspath(os.path.join(sources_dir, '..'))\n",
    "config_dir = os.path.abspath(os.path.join(repo_dir, 'configs'))"
   ],
   "outputs": [],
   "execution_count": 1
  },
  {
   "cell_type": "code",
   "execution_count": 2,
   "outputs": [],
   "source": [
    "# LOGGER\n",
    "log = csutils.get_logger(_name)\n",
    "\n",
    "# - logging setup\n",
    "debug_mode = False\n",
    "default_window_level = 'info'\n",
    "\n",
    "# setup logging\n",
    "log_path = os.path.join(sources_dir, '..', 'logs', f'{_file}.log')\n",
    "csutils.apply_standard_logging_config(\n",
    "    file_path=None,\n",
    "    window_level='debug' if debug_mode else default_window_level,\n",
    "    window_format='debug' if debug_mode else 'default')"
   ],
   "metadata": {
    "collapsed": false,
    "ExecuteTime": {
     "end_time": "2023-10-18T19:33:16.749025Z",
     "start_time": "2023-10-18T19:33:16.725051200Z"
    }
   },
   "id": "initial_id"
  },
  {
   "cell_type": "code",
   "execution_count": 3,
   "outputs": [
    {
     "name": "stdout",
     "output_type": "stream",
     "text": [
      "local-nb_cs-ii-29_import-tests (   1): INFO : Loading Config...\n",
      "local-nb_cs-ii-29_import-tests (   8): INFO : Loading dataset information objects for run 399\n"
     ]
    }
   ],
   "source": [
    "log.info('Loading Config...')\n",
    "config_name = 'cs-ii-29_config'\n",
    "config_path = os.path.join(config_dir, f'{config_name}.yml')\n",
    "config = ZMIAConfig(config_path)\n",
    "\n",
    "desired_run = 399\n",
    "\n",
    "log.info('Loading dataset information objects for run {}',\n",
    "         desired_run)\n",
    "\n",
    "live_2p_dsi = config.get_dataset_info(\n",
    "    run=desired_run,\n",
    "    type='two-photon')\n",
    "stitch_cf_dsi = config.get_dataset_info(name='fish-29B_stitched-gcamp-stain')\n",
    "control_dsi = config.get_dataset_info(\n",
    "    run=desired_run,\n",
    "    type='stimulation-control-log')\n",
    "sensor_dsi = config.get_dataset_info(\n",
    "    run=desired_run,\n",
    "    type='stimulation-sensor-log')\n",
    "zz_output_dsi = config.get_dataset_info(\n",
    "    run=desired_run,\n",
    "    type='zebrazoom-output')\n",
    "behav_cam_dsi = config.get_dataset_info(\n",
    "    run=desired_run,\n",
    "    type='behavioral-cam')"
   ],
   "metadata": {
    "collapsed": false,
    "ExecuteTime": {
     "end_time": "2023-10-18T19:33:16.814907100Z",
     "start_time": "2023-10-18T19:33:16.743027100Z"
    }
   },
   "id": "9f91c33ff5713865"
  },
  {
   "cell_type": "markdown",
   "source": [
    "# Stiched Confocal Data"
   ],
   "metadata": {
    "collapsed": false
   },
   "id": "ffb6050318a99828"
  },
  {
   "cell_type": "code",
   "execution_count": 4,
   "outputs": [
    {
     "name": "stdout",
     "output_type": "stream",
     "text": [
      "local-nb_cs-ii-29_import-tests (   1): INFO : Importing tiff and converting to ImagingDataset ...\n",
      "tiff_utils ( 109): INFO : Loading all image data from tiff file at \"G:\\c_swain\\zf_correlative_microscopy\\raw_data\\cs-ii-29_confocal_20230825\\fish-B\\STITCH_fish-B_high-res-stack_6-pos_460-z_1-chan_021_v3.tif\".\n"
     ]
    },
    {
     "name": "stderr",
     "output_type": "stream",
     "text": [
      "imaging_dataset ( 901): WARNING : Assuming dimension order for tiff with 3 dimensions is (Dim('z'), Dim('y'), Dim('x')). \n"
     ]
    },
    {
     "name": "stdout",
     "output_type": "stream",
     "text": [
      "imaging_dataset ( 687): INFO : Attempting to load imaging dataset from cache.\n"
     ]
    }
   ],
   "source": [
    "log.info('Importing tiff and converting to ImagingDataset ...')\n",
    "cf_imds = imd.ImagingDataset.from_dataset_info(stitch_cf_dsi)"
   ],
   "metadata": {
    "collapsed": false,
    "ExecuteTime": {
     "end_time": "2023-10-18T19:34:15.582840Z",
     "start_time": "2023-10-18T19:33:16.787950700Z"
    }
   },
   "id": "ec03973ec04b3f33"
  },
  {
   "cell_type": "code",
   "execution_count": null,
   "outputs": [],
   "source": [
    "log.info('Pulling image data ndarray...')\n",
    "cf_im_ndarray = cf_imds.get_image_data() "
   ],
   "metadata": {
    "collapsed": false
   },
   "id": "bfd7fc904782d54d"
  },
  {
   "cell_type": "code",
   "execution_count": null,
   "outputs": [],
   "source": [
    "log.info('Misc ndarray and dataset information: ')\n",
    "log.info(f'{cf_imds.coordinates = }')\n",
    "log.info(f'{cf_im_ndarray.shape = }')\n",
    "log.info(f'{cf_im_ndarray.dtype = }')\n",
    "log.info(f'{(np.min(cf_im_ndarray), np.max(cf_im_ndarray)) = }')"
   ],
   "metadata": {
    "collapsed": false
   },
   "id": "6ca38521069bba85"
  },
  {
   "cell_type": "code",
   "execution_count": null,
   "outputs": [],
   "source": [
    "viewer = napari.Viewer()\n",
    "cf_imds.add_to_napari(napari_viewer=viewer)\n",
    "imd.ImagingDataset.apply_standard_napari_config(viewer)\n",
    "napari.run()"
   ],
   "metadata": {
    "collapsed": false
   },
   "id": "e6b6b1506bf0fbd0"
  },
  {
   "cell_type": "markdown",
   "source": [
    "# Live 2P Data"
   ],
   "metadata": {
    "collapsed": false
   },
   "id": "c96e4eab5ed63536"
  },
  {
   "cell_type": "code",
   "execution_count": 5,
   "outputs": [
    {
     "name": "stdout",
     "output_type": "stream",
     "text": [
      "prairie_view_imports (2745): INFO : Loading dataset (two-photon-fish-29B_run-399_2p-tz) from config cs-ii-29_2p-recordings.\n",
      "prairie_view_imports (1534): INFO : Attempting to load dataset from cache.\n",
      "prairie_view_imports (1551): INFO : Loading of dataset from cache was successful.\n",
      "prairie_view_imports (1564): INFO : Loading in cached images.\n",
      "prairie_view_imports (1572): INFO : Loading in of cached images is sucessful.\n",
      "imaging_dataset (1039): INFO : Categorized PVDataset as PVDatasetCategory.Z_STACK_IMAGE|TZ_SERIES_IMAGE|MULTI_SEQUENCE\n",
      "imaging_dataset (1046): INFO : Initializing ImagingDataset(s) from prairie view dataset PVDataset(name='two-photon-fish-29B_run-399_2p-tz', num_sequences=1710)\n",
      "imaging_dataset ( 687): INFO : Attempting to load imaging dataset from cache.\n"
     ]
    }
   ],
   "source": [
    "live_imds = imd.ImagingDataset.from_dataset_info(live_2p_dsi)"
   ],
   "metadata": {
    "collapsed": false,
    "ExecuteTime": {
     "end_time": "2023-10-18T19:35:46.054500300Z",
     "start_time": "2023-10-18T19:34:46.532597600Z"
    }
   },
   "id": "3c65ba88f3a67b8e"
  },
  {
   "cell_type": "code",
   "execution_count": 6,
   "outputs": [
    {
     "name": "stdout",
     "output_type": "stream",
     "text": [
      "local-nb_cs-ii-29_import-tests (   1): INFO : live_imds.source_data.metadata[pvi.pvmk.OBJECTIVE_LENS] = '16x Nikon'\n"
     ]
    }
   ],
   "source": [
    "log.info(f'{live_imds.source_data.metadata[pvi.pvmk.OBJECTIVE_LENS] = }')"
   ],
   "metadata": {
    "collapsed": false,
    "ExecuteTime": {
     "end_time": "2023-10-18T19:35:58.404262100Z",
     "start_time": "2023-10-18T19:35:46.055498600Z"
    }
   },
   "id": "3bb0f62970485e90"
  },
  {
   "cell_type": "code",
   "execution_count": 6,
   "outputs": [],
   "source": [
    "viewer = napari.Viewer()\n",
    "imd.ImagingDataset.apply_standard_napari_config(viewer)\n",
    "live_imds.add_to_napari(napari_viewer=viewer)\n",
    "napari.run()"
   ],
   "metadata": {
    "collapsed": false,
    "ExecuteTime": {
     "end_time": "2023-10-07T14:35:00.299905100Z",
     "start_time": "2023-10-07T14:34:52.414215700Z"
    }
   },
   "id": "84ac4acf6289ecf7"
  },
  {
   "cell_type": "markdown",
   "source": [
    "Drop problematic z frames"
   ],
   "metadata": {
    "collapsed": false
   },
   "id": "a85c9a35b7f97eda"
  },
  {
   "cell_type": "code",
   "execution_count": 7,
   "outputs": [
    {
     "name": "stdout",
     "output_type": "stream",
     "text": [
      "imaging_dataset ( 401): INFO : Performing the following operation on ImagingDataset(name='two-photon-fish-29B_run-399_2p-tz', shape=(1710, 20, 362, 512)) and returning a new ImagingDataset:\n",
      "imaging_dataset ( 405): INFO : > __getitem__(*[(slice(None, None, None), [2, 3, 4, 5, 6, 7, 8, 9, 10, 11, 12, 13, 14, 15, 16, 17, 18, 19], slice(None, None, None), slice(None, None, None))], **{})\n"
     ]
    }
   ],
   "source": [
    "if 'z-index-to-ignore' in live_2p_dsi:\n",
    "    live_imds_drop = live_imds.drop_slices(\n",
    "        slice_indexes=live_2p_dsi['z-index-to-ignore'],                                       \n",
    "        axis=Dim.Z)\n",
    "else:\n",
    "    live_imds_drop = live_imds"
   ],
   "metadata": {
    "collapsed": false,
    "ExecuteTime": {
     "end_time": "2023-10-18T19:36:01.380497300Z",
     "start_time": "2023-10-18T19:35:58.395276Z"
    }
   },
   "id": "6b1b85bf54afc706"
  },
  {
   "cell_type": "code",
   "execution_count": 8,
   "outputs": [
    {
     "name": "stdout",
     "output_type": "stream",
     "text": [
      "local-nb_cs-ii-29_import-tests (   1): INFO : live_imds.shape = (1710, 20, 362, 512)\n",
      "local-nb_cs-ii-29_import-tests (   2): INFO : live_imds_drop.shape = (1710, 18, 362, 512)\n",
      "local-nb_cs-ii-29_import-tests (   4): INFO : live_imds.coordinates[Dim.Z] = Coord([128.6, ...], len=20, unit='micrometer')\n",
      "local-nb_cs-ii-29_import-tests (   5): INFO : live_imds_drop.coordinates[Dim.Z] = Coord([155.96842105263198, ...], len=18, unit='micrometer')\n"
     ]
    }
   ],
   "source": [
    "log.info(f'{live_imds.shape = }')\n",
    "log.info(f'{live_imds_drop.shape = }')\n",
    "\n",
    "log.info(f'{live_imds.coordinates[Dim.Z] = }')\n",
    "log.info(f'{live_imds_drop.coordinates[Dim.Z] = }')"
   ],
   "metadata": {
    "collapsed": false,
    "ExecuteTime": {
     "end_time": "2023-10-18T19:36:01.435409500Z",
     "start_time": "2023-10-18T19:36:01.383491900Z"
    }
   },
   "id": "60a1798ec7689496"
  },
  {
   "cell_type": "markdown",
   "source": [
    "## Max Projection through Time"
   ],
   "metadata": {
    "collapsed": false
   },
   "id": "638b545cfdcbdf8f"
  },
  {
   "cell_type": "code",
   "execution_count": 9,
   "outputs": [],
   "source": [
    "live_im_ndarray = live_imds_drop.get_image_data()"
   ],
   "metadata": {
    "collapsed": false,
    "ExecuteTime": {
     "end_time": "2023-10-18T19:36:01.487430500Z",
     "start_time": "2023-10-18T19:36:01.395472Z"
    }
   },
   "id": "63107d1774ecb7b1"
  },
  {
   "cell_type": "code",
   "execution_count": 10,
   "outputs": [
    {
     "name": "stdout",
     "output_type": "stream",
     "text": [
      "local-nb_cs-ii-29_import-tests (   1): INFO : live_imds_drop.axis_dict = {Dim('time'): 0, Dim('z'): 1, Dim('y'): 2, Dim('x'): 3}\n",
      "local-nb_cs-ii-29_import-tests (   2): INFO : live_imds_drop.shape_dict = {Dim('time'): 1710, Dim('z'): 18, Dim('y'): 362, Dim('x'): 512}\n"
     ]
    }
   ],
   "source": [
    "log.info(f'{live_imds_drop.axis_dict = }')\n",
    "log.info(f'{live_imds_drop.shape_dict = }')"
   ],
   "metadata": {
    "collapsed": false,
    "ExecuteTime": {
     "end_time": "2023-10-18T19:36:01.488324500Z",
     "start_time": "2023-10-18T19:36:01.411446300Z"
    }
   },
   "id": "3f204f8b8d90bd96"
  },
  {
   "cell_type": "code",
   "execution_count": 11,
   "outputs": [
    {
     "name": "stdout",
     "output_type": "stream",
     "text": [
      "local-nb_cs-ii-29_import-tests (   1): INFO : Taking max projection of dataset through time.\n",
      "imaging_dataset ( 401): INFO : Performing the following operation on ImagingDataset(name='__GETITEM__(5273869fd1a8268)-two-photon-fish-29B_run-399_2p-tz', shape=(1710, 18, 362, 512)) and returning a new ImagingDataset:\n",
      "imaging_dataset ( 405): INFO : > numpy.max(*(), **{'axis': 0})\n"
     ]
    }
   ],
   "source": [
    "log.info('Taking max projection of dataset through time.')\n",
    "live_max_proj_ds = live_imds_drop.apply(np.max, axis=Dim.TIME)"
   ],
   "metadata": {
    "collapsed": false,
    "ExecuteTime": {
     "end_time": "2023-10-18T19:36:02.907204400Z",
     "start_time": "2023-10-18T19:36:01.427421100Z"
    }
   },
   "id": "3edc211871d24f9e"
  },
  {
   "cell_type": "code",
   "execution_count": 12,
   "outputs": [
    {
     "name": "stdout",
     "output_type": "stream",
     "text": [
      "local-nb_cs-ii-29_import-tests (   1): INFO : live_max_proj_ds.op_history = ['__getitem__(*[(slice(None, None, None), [2, 3, 4, 5, 6, 7, 8, 9, 10, 11, 12, 13, 14, 15, 16, 17, 18, 19], slice(None, None, None), slice(None, None, None))], **{})', \"numpy.max(*(), **{'axis': 0})\"]\n",
      "local-nb_cs-ii-29_import-tests (   2): INFO : live_max_proj_ds.name = 'MAX(65bc65eebcaf0c34)-__GETITEM__(5273869fd1a8268)-two-photon-fish-29B_run-399_2p-tz'\n",
      "local-nb_cs-ii-29_import-tests (   3): INFO : live_max_proj_ds.coordinates = {Dim('x'): Coord([-411.2052837414497, ...], len=512, unit='micrometer'), Dim('y'): Coord([-285.4456309797717, ...], len=362, unit='micrometer'), Dim('z'): Coord([155.96842105263198, ...], len=18, unit='micrometer')}\n",
      "local-nb_cs-ii-29_import-tests (   4): INFO : live_max_proj_ds.shape_dict = {Dim('z'): 18, Dim('y'): 362, Dim('x'): 512}\n",
      "local-nb_cs-ii-29_import-tests (   5): INFO : live_max_proj_ds.coordinates = {Dim('x'): Coord([-411.2052837414497, ...], len=512, unit='micrometer'), Dim('y'): Coord([-285.4456309797717, ...], len=362, unit='micrometer'), Dim('z'): Coord([155.96842105263198, ...], len=18, unit='micrometer')}\n",
      "local-nb_cs-ii-29_import-tests (   6): INFO : live_max_proj_ds.scale_dict = {Dim('z'): 13.684210526316008, Dim('y'): 1.6069287034890465, Dim('x'): 1.6069287034890465}\n"
     ]
    }
   ],
   "source": [
    "log.info(f'{live_max_proj_ds.op_history = }')\n",
    "log.info(f'{live_max_proj_ds.name = }')\n",
    "log.info(f'{live_max_proj_ds.coordinates = }')\n",
    "log.info(f'{live_max_proj_ds.shape_dict = }')\n",
    "log.info(f'{live_max_proj_ds.coordinates = }')\n",
    "log.info(f'{live_max_proj_ds.scale_dict = }')"
   ],
   "metadata": {
    "collapsed": false,
    "ExecuteTime": {
     "end_time": "2023-10-18T19:36:02.965112200Z",
     "start_time": "2023-10-18T19:36:02.908204100Z"
    }
   },
   "id": "90b509c915913d33"
  },
  {
   "cell_type": "code",
   "execution_count": 72,
   "outputs": [],
   "source": [
    "viewer = napari.Viewer()\n",
    "live_max_proj_ds.add_to_napari(viewer)\n",
    "imd.ImagingDataset.apply_standard_napari_config(viewer)\n",
    "napari.run()"
   ],
   "metadata": {
    "collapsed": false,
    "ExecuteTime": {
     "end_time": "2023-09-12T22:20:50.424511600Z",
     "start_time": "2023-09-12T22:20:49.061181400Z"
    }
   },
   "id": "d1f7d177d62b1040"
  },
  {
   "cell_type": "markdown",
   "source": [
    "# Z-Brain Atlas"
   ],
   "metadata": {
    "collapsed": false
   },
   "id": "7e2bf60532614a3e"
  },
  {
   "cell_type": "code",
   "execution_count": 13,
   "outputs": [
    {
     "name": "stdout",
     "output_type": "stream",
     "text": [
      "local-nb_cs-ii-29_import-tests (   1): INFO : Loading Atlas Config...\n"
     ]
    }
   ],
   "source": [
    "log.info('Loading Atlas Config...')\n",
    "ref_config = ZMIAConfig(os.path.join(config_dir, 'no-nb-ref_config_z-brain-atlas.yml'))"
   ],
   "metadata": {
    "collapsed": false,
    "ExecuteTime": {
     "end_time": "2023-10-18T19:36:03.014034600Z",
     "start_time": "2023-10-18T19:36:02.922181100Z"
    }
   },
   "id": "4265dd3dc5e3204e"
  },
  {
   "cell_type": "code",
   "execution_count": 14,
   "outputs": [
    {
     "name": "stdout",
     "output_type": "stream",
     "text": [
      "local-nb_cs-ii-29_import-tests (   2): INFO : Loading Atlas Dataset...\n",
      "tiff_utils ( 109): INFO : Loading all image data from tiff file at \"G:\\c_swain\\zf_correlative_microscopy\\ref_data\\z-brain-atlas\\Elavl3-H2BRFP.tif\".\n"
     ]
    },
    {
     "name": "stderr",
     "output_type": "stream",
     "text": [
      "imaging_dataset ( 901): WARNING : Assuming dimension order for tiff with 3 dimensions is (Dim('z'), Dim('y'), Dim('x')). \n"
     ]
    },
    {
     "name": "stdout",
     "output_type": "stream",
     "text": [
      "imaging_dataset ( 687): INFO : Attempting to load imaging dataset from cache.\n"
     ]
    }
   ],
   "source": [
    "# TODO - look for atlas data on NESE\n",
    "log.info('Loading Atlas Dataset...')\n",
    "ref_ds = imd.ImagingDataset.from_dataset_info(ref_config.get_dataset_info(name='h2b-rfp-brain'))"
   ],
   "metadata": {
    "collapsed": false,
    "ExecuteTime": {
     "end_time": "2023-10-18T19:36:04.133530700Z",
     "start_time": "2023-10-18T19:36:02.940152300Z"
    }
   },
   "id": "48568ad731f930be"
  },
  {
   "cell_type": "code",
   "execution_count": 15,
   "outputs": [
    {
     "name": "stdout",
     "output_type": "stream",
     "text": [
      "local-nb_cs-ii-29_import-tests (   1): INFO : Applying transforms to reference dataset\n",
      "imaging_dataset ( 401): INFO : Performing the following operation on ImagingDataset(name='confocal-h2b-rfp-brain', shape=(138, 621, 1406)) and returning a new ImagingDataset:\n",
      "imaging_dataset ( 405): INFO : > numpy.flip(*(), **{'axis': 0})\n",
      "imaging_dataset ( 401): INFO : Performing the following operation on ImagingDataset(name='FLIP(4660035f8c866ad6)-confocal-h2b-rfp-brain', shape=(138, 621, 1406)) and returning a new ImagingDataset:\n",
      "imaging_dataset ( 405): INFO : > numpy.rot90(*(), **{'k': 0, 'axes': (1, 2)})\n"
     ]
    },
    {
     "name": "stderr",
     "output_type": "stream",
     "text": [
      "imaging_dataset ( 320): WARNING : position data attribute may be out of date after rotation (proper handling not yet implemented).\n"
     ]
    }
   ],
   "source": [
    "log.info('Applying transforms to reference dataset')\n",
    "ref_ds_prime = ref_ds.flip(axis=Dim.Z)\n",
    "ref_ds_prime = ref_ds_prime.rot90(axis=Dim.Z, k=0)"
   ],
   "metadata": {
    "collapsed": false,
    "ExecuteTime": {
     "end_time": "2023-10-18T19:37:52.010009200Z",
     "start_time": "2023-10-18T19:37:51.924147Z"
    }
   },
   "id": "ce74e811733e92e6"
  },
  {
   "cell_type": "code",
   "execution_count": 16,
   "outputs": [
    {
     "name": "stdout",
     "output_type": "stream",
     "text": [
      "local-nb_cs-ii-29_import-tests (   1): INFO : ref_ds_prime.name = 'ROT90(2be9946befbfe430)-FLIP(4660035f8c866ad6)-confocal-h2b-rfp-brain'\n",
      "local-nb_cs-ii-29_import-tests (   2): INFO : ref_ds_prime.coordinates = {Dim('z'): Coord([0.0, ...], len=138, unit='micrometer'), Dim('y'): Coord([0.0, ...], len=621, unit='micrometer'), Dim('x'): Coord([0.0, ...], len=1406, unit='micrometer')}\n",
      "local-nb_cs-ii-29_import-tests (   3): INFO : ref_ds_prime.op_history = [\"numpy.flip(*(), **{'axis': 0})\", \"numpy.rot90(*(), **{'k': 0, 'axes': (1, 2)})\"]\n"
     ]
    }
   ],
   "source": [
    "log.info(f'{ref_ds_prime.name = }')\n",
    "log.info(f'{ref_ds_prime.coordinates = }')\n",
    "log.info(f'{ref_ds_prime.op_history = }')"
   ],
   "metadata": {
    "collapsed": false,
    "ExecuteTime": {
     "end_time": "2023-10-18T19:37:56.485139100Z",
     "start_time": "2023-10-18T19:37:56.440144700Z"
    }
   },
   "id": "348f9ebbbf12b85b"
  },
  {
   "cell_type": "code",
   "execution_count": 21,
   "outputs": [
    {
     "name": "stdout",
     "output_type": "stream",
     "text": [
      "in_n_out ( 768): DEBUG : Executing @injected ViewerToggleAction.__init__.<locals>.get_current(viewer: napari.viewer.Viewer) with args: (), kwargs: {}\n",
      "in_n_out ( 787): DEBUG :   injecting viewer: <class 'napari.viewer.Viewer'> = Viewer(camera=Camera(center=(0.0, 0.0, 0.0), zoom=1.0, angles=(0.0, 0.0, 90.0), perspective=0.0, mouse_pan=True, mouse_zoom=True), cursor=Cursor(position=(1.0, 1.0), scaled=True, size=1, style=<CursorStyle.STANDARD: 'standard'>), dims=Dims(ndim=2, ndisplay=2, last_used=0, range=((0, 2, 1), (0, 2, 1)), current_step=(0, 0), order=(0, 1), axis_labels=('0', '1')), grid=GridCanvas(stride=1, shape=(-1, -1), enabled=False), layers=[], help='', status='Ready', tooltip=Tooltip(visible=False, text=''), theme='dark', title='napari', mouse_over_canvas=False, mouse_move_callbacks=[], mouse_drag_callbacks=[], mouse_double_click_callbacks=[], mouse_wheel_callbacks=[<function dims_scroll at 0x00000266245D5C10>], _persisted_mouse_event={}, _mouse_drag_gen={}, _mouse_wheel_gen={}, keymap={})\n",
      "in_n_out ( 797): DEBUG :   Calling ViewerToggleAction.__init__.<locals>.get_current with {'viewer': Viewer(camera=Camera(center=(0.0, 0.0, 0.0), zoom=1.0, angles=(0.0, 0.0, 90.0), perspective=0.0, mouse_pan=True, mouse_zoom=True), cursor=Cursor(position=(1.0, 1.0), scaled=True, size=1, style=<CursorStyle.STANDARD: 'standard'>), dims=Dims(ndim=2, ndisplay=2, last_used=0, range=((0, 2, 1), (0, 2, 1)), current_step=(0, 0), order=(0, 1), axis_labels=('0', '1')), grid=GridCanvas(stride=1, shape=(-1, -1), enabled=False), layers=[], help='', status='Ready', tooltip=Tooltip(visible=False, text=''), theme='dark', title='napari', mouse_over_canvas=False, mouse_move_callbacks=[], mouse_drag_callbacks=[], mouse_double_click_callbacks=[], mouse_wheel_callbacks=[<function dims_scroll at 0x00000266245D5C10>], _persisted_mouse_event={}, _mouse_drag_gen={}, _mouse_wheel_gen={}, keymap={})} (injected {'viewer'})\n",
      "in_n_out ( 768): DEBUG : Executing @injected ViewerToggleAction.__init__.<locals>.get_current(viewer: napari.viewer.Viewer) with args: (), kwargs: {}\n",
      "in_n_out ( 787): DEBUG :   injecting viewer: <class 'napari.viewer.Viewer'> = Viewer(camera=Camera(center=(0.0, 0.0, 0.0), zoom=1.0, angles=(0.0, 0.0, 90.0), perspective=0.0, mouse_pan=True, mouse_zoom=True), cursor=Cursor(position=(1.0, 1.0), scaled=True, size=1, style=<CursorStyle.STANDARD: 'standard'>), dims=Dims(ndim=2, ndisplay=2, last_used=0, range=((0, 2, 1), (0, 2, 1)), current_step=(0, 0), order=(0, 1), axis_labels=('0', '1')), grid=GridCanvas(stride=1, shape=(-1, -1), enabled=False), layers=[], help='', status='Ready', tooltip=Tooltip(visible=False, text=''), theme='dark', title='napari', mouse_over_canvas=False, mouse_move_callbacks=[], mouse_drag_callbacks=[], mouse_double_click_callbacks=[], mouse_wheel_callbacks=[<function dims_scroll at 0x00000266245D5C10>], _persisted_mouse_event={}, _mouse_drag_gen={}, _mouse_wheel_gen={}, keymap={})\n",
      "in_n_out ( 797): DEBUG :   Calling ViewerToggleAction.__init__.<locals>.get_current with {'viewer': Viewer(camera=Camera(center=(0.0, 0.0, 0.0), zoom=1.0, angles=(0.0, 0.0, 90.0), perspective=0.0, mouse_pan=True, mouse_zoom=True), cursor=Cursor(position=(1.0, 1.0), scaled=True, size=1, style=<CursorStyle.STANDARD: 'standard'>), dims=Dims(ndim=2, ndisplay=2, last_used=0, range=((0, 2, 1), (0, 2, 1)), current_step=(0, 0), order=(0, 1), axis_labels=('0', '1')), grid=GridCanvas(stride=1, shape=(-1, -1), enabled=False), layers=[], help='', status='Ready', tooltip=Tooltip(visible=False, text=''), theme='dark', title='napari', mouse_over_canvas=False, mouse_move_callbacks=[], mouse_drag_callbacks=[], mouse_double_click_callbacks=[], mouse_wheel_callbacks=[<function dims_scroll at 0x00000266245D5C10>], _persisted_mouse_event={}, _mouse_drag_gen={}, _mouse_wheel_gen={}, keymap={})} (injected {'viewer'})\n",
      "in_n_out ( 768): DEBUG : Executing @injected ViewerToggleAction.__init__.<locals>.get_current(viewer: napari.viewer.Viewer) with args: (), kwargs: {}\n",
      "in_n_out ( 787): DEBUG :   injecting viewer: <class 'napari.viewer.Viewer'> = Viewer(camera=Camera(center=(0.0, 0.0, 0.0), zoom=1.0, angles=(0.0, 0.0, 90.0), perspective=0.0, mouse_pan=True, mouse_zoom=True), cursor=Cursor(position=(1.0, 1.0), scaled=True, size=1, style=<CursorStyle.STANDARD: 'standard'>), dims=Dims(ndim=2, ndisplay=2, last_used=0, range=((0, 2, 1), (0, 2, 1)), current_step=(0, 0), order=(0, 1), axis_labels=('0', '1')), grid=GridCanvas(stride=1, shape=(-1, -1), enabled=False), layers=[], help='', status='Ready', tooltip=Tooltip(visible=False, text=''), theme='dark', title='napari', mouse_over_canvas=False, mouse_move_callbacks=[], mouse_drag_callbacks=[], mouse_double_click_callbacks=[], mouse_wheel_callbacks=[<function dims_scroll at 0x00000266245D5C10>], _persisted_mouse_event={}, _mouse_drag_gen={}, _mouse_wheel_gen={}, keymap={})\n",
      "in_n_out ( 797): DEBUG :   Calling ViewerToggleAction.__init__.<locals>.get_current with {'viewer': Viewer(camera=Camera(center=(0.0, 0.0, 0.0), zoom=1.0, angles=(0.0, 0.0, 90.0), perspective=0.0, mouse_pan=True, mouse_zoom=True), cursor=Cursor(position=(1.0, 1.0), scaled=True, size=1, style=<CursorStyle.STANDARD: 'standard'>), dims=Dims(ndim=2, ndisplay=2, last_used=0, range=((0, 2, 1), (0, 2, 1)), current_step=(0, 0), order=(0, 1), axis_labels=('0', '1')), grid=GridCanvas(stride=1, shape=(-1, -1), enabled=False), layers=[], help='', status='Ready', tooltip=Tooltip(visible=False, text=''), theme='dark', title='napari', mouse_over_canvas=False, mouse_move_callbacks=[], mouse_drag_callbacks=[], mouse_double_click_callbacks=[], mouse_wheel_callbacks=[<function dims_scroll at 0x00000266245D5C10>], _persisted_mouse_event={}, _mouse_drag_gen={}, _mouse_wheel_gen={}, keymap={})} (injected {'viewer'})\n",
      "in_n_out ( 768): DEBUG : Executing @injected ViewerToggleAction.__init__.<locals>.get_current(viewer: napari.viewer.Viewer) with args: (), kwargs: {}\n",
      "in_n_out ( 787): DEBUG :   injecting viewer: <class 'napari.viewer.Viewer'> = Viewer(camera=Camera(center=(0.0, 0.0, 0.0), zoom=1.0, angles=(0.0, 0.0, 90.0), perspective=0.0, mouse_pan=True, mouse_zoom=True), cursor=Cursor(position=(1.0, 1.0), scaled=True, size=1, style=<CursorStyle.STANDARD: 'standard'>), dims=Dims(ndim=2, ndisplay=2, last_used=0, range=((0, 2, 1), (0, 2, 1)), current_step=(0, 0), order=(0, 1), axis_labels=('0', '1')), grid=GridCanvas(stride=1, shape=(-1, -1), enabled=False), layers=[], help='', status='Ready', tooltip=Tooltip(visible=False, text=''), theme='dark', title='napari', mouse_over_canvas=False, mouse_move_callbacks=[], mouse_drag_callbacks=[], mouse_double_click_callbacks=[], mouse_wheel_callbacks=[<function dims_scroll at 0x00000266245D5C10>], _persisted_mouse_event={}, _mouse_drag_gen={}, _mouse_wheel_gen={}, keymap={})\n",
      "in_n_out ( 797): DEBUG :   Calling ViewerToggleAction.__init__.<locals>.get_current with {'viewer': Viewer(camera=Camera(center=(0.0, 0.0, 0.0), zoom=1.0, angles=(0.0, 0.0, 90.0), perspective=0.0, mouse_pan=True, mouse_zoom=True), cursor=Cursor(position=(1.0, 1.0), scaled=True, size=1, style=<CursorStyle.STANDARD: 'standard'>), dims=Dims(ndim=2, ndisplay=2, last_used=0, range=((0, 2, 1), (0, 2, 1)), current_step=(0, 0), order=(0, 1), axis_labels=('0', '1')), grid=GridCanvas(stride=1, shape=(-1, -1), enabled=False), layers=[], help='', status='Ready', tooltip=Tooltip(visible=False, text=''), theme='dark', title='napari', mouse_over_canvas=False, mouse_move_callbacks=[], mouse_drag_callbacks=[], mouse_double_click_callbacks=[], mouse_wheel_callbacks=[<function dims_scroll at 0x00000266245D5C10>], _persisted_mouse_event={}, _mouse_drag_gen={}, _mouse_wheel_gen={}, keymap={})} (injected {'viewer'})\n",
      "in_n_out ( 768): DEBUG : Executing @injected ViewerToggleAction.__init__.<locals>.get_current(viewer: napari.viewer.Viewer) with args: (), kwargs: {}\n",
      "in_n_out ( 787): DEBUG :   injecting viewer: <class 'napari.viewer.Viewer'> = Viewer(camera=Camera(center=(0.0, 0.0, 0.0), zoom=1.0, angles=(0.0, 0.0, 90.0), perspective=0.0, mouse_pan=True, mouse_zoom=True), cursor=Cursor(position=(1.0, 1.0), scaled=True, size=1, style=<CursorStyle.STANDARD: 'standard'>), dims=Dims(ndim=2, ndisplay=2, last_used=0, range=((0, 2, 1), (0, 2, 1)), current_step=(0, 0), order=(0, 1), axis_labels=('0', '1')), grid=GridCanvas(stride=1, shape=(-1, -1), enabled=False), layers=[], help='', status='Ready', tooltip=Tooltip(visible=False, text=''), theme='dark', title='napari', mouse_over_canvas=False, mouse_move_callbacks=[], mouse_drag_callbacks=[], mouse_double_click_callbacks=[], mouse_wheel_callbacks=[<function dims_scroll at 0x00000266245D5C10>], _persisted_mouse_event={}, _mouse_drag_gen={}, _mouse_wheel_gen={}, keymap={})\n",
      "in_n_out ( 797): DEBUG :   Calling ViewerToggleAction.__init__.<locals>.get_current with {'viewer': Viewer(camera=Camera(center=(0.0, 0.0, 0.0), zoom=1.0, angles=(0.0, 0.0, 90.0), perspective=0.0, mouse_pan=True, mouse_zoom=True), cursor=Cursor(position=(1.0, 1.0), scaled=True, size=1, style=<CursorStyle.STANDARD: 'standard'>), dims=Dims(ndim=2, ndisplay=2, last_used=0, range=((0, 2, 1), (0, 2, 1)), current_step=(0, 0), order=(0, 1), axis_labels=('0', '1')), grid=GridCanvas(stride=1, shape=(-1, -1), enabled=False), layers=[], help='', status='Ready', tooltip=Tooltip(visible=False, text=''), theme='dark', title='napari', mouse_over_canvas=False, mouse_move_callbacks=[], mouse_drag_callbacks=[], mouse_double_click_callbacks=[], mouse_wheel_callbacks=[<function dims_scroll at 0x00000266245D5C10>], _persisted_mouse_event={}, _mouse_drag_gen={}, _mouse_wheel_gen={}, keymap={})} (injected {'viewer'})\n",
      "in_n_out ( 768): DEBUG : Executing @injected ViewerToggleAction.__init__.<locals>.get_current(viewer: napari.viewer.Viewer) with args: (), kwargs: {}\n",
      "in_n_out ( 787): DEBUG :   injecting viewer: <class 'napari.viewer.Viewer'> = Viewer(camera=Camera(center=(0.0, 0.0, 0.0), zoom=1.0, angles=(0.0, 0.0, 90.0), perspective=0.0, mouse_pan=True, mouse_zoom=True), cursor=Cursor(position=(1.0, 1.0), scaled=True, size=1, style=<CursorStyle.STANDARD: 'standard'>), dims=Dims(ndim=2, ndisplay=2, last_used=0, range=((0, 2, 1), (0, 2, 1)), current_step=(0, 0), order=(0, 1), axis_labels=('0', '1')), grid=GridCanvas(stride=1, shape=(-1, -1), enabled=False), layers=[], help='', status='Ready', tooltip=Tooltip(visible=False, text=''), theme='dark', title='napari', mouse_over_canvas=False, mouse_move_callbacks=[], mouse_drag_callbacks=[], mouse_double_click_callbacks=[], mouse_wheel_callbacks=[<function dims_scroll at 0x00000266245D5C10>], _persisted_mouse_event={}, _mouse_drag_gen={}, _mouse_wheel_gen={}, keymap={})\n",
      "in_n_out ( 797): DEBUG :   Calling ViewerToggleAction.__init__.<locals>.get_current with {'viewer': Viewer(camera=Camera(center=(0.0, 0.0, 0.0), zoom=1.0, angles=(0.0, 0.0, 90.0), perspective=0.0, mouse_pan=True, mouse_zoom=True), cursor=Cursor(position=(1.0, 1.0), scaled=True, size=1, style=<CursorStyle.STANDARD: 'standard'>), dims=Dims(ndim=2, ndisplay=2, last_used=0, range=((0, 2, 1), (0, 2, 1)), current_step=(0, 0), order=(0, 1), axis_labels=('0', '1')), grid=GridCanvas(stride=1, shape=(-1, -1), enabled=False), layers=[], help='', status='Ready', tooltip=Tooltip(visible=False, text=''), theme='dark', title='napari', mouse_over_canvas=False, mouse_move_callbacks=[], mouse_drag_callbacks=[], mouse_double_click_callbacks=[], mouse_wheel_callbacks=[<function dims_scroll at 0x00000266245D5C10>], _persisted_mouse_event={}, _mouse_drag_gen={}, _mouse_wheel_gen={}, keymap={})} (injected {'viewer'})\n",
      "in_n_out ( 768): DEBUG : Executing @injected ViewerToggleAction.__init__.<locals>.get_current(viewer: napari.viewer.Viewer) with args: (), kwargs: {}\n",
      "in_n_out ( 787): DEBUG :   injecting viewer: <class 'napari.viewer.Viewer'> = Viewer(camera=Camera(center=(0.0, 0.0, 0.0), zoom=1.0, angles=(0.0, 0.0, 90.0), perspective=0.0, mouse_pan=True, mouse_zoom=True), cursor=Cursor(position=(1.0, 1.0), scaled=True, size=1, style=<CursorStyle.STANDARD: 'standard'>), dims=Dims(ndim=2, ndisplay=2, last_used=0, range=((0, 2, 1), (0, 2, 1)), current_step=(0, 0), order=(0, 1), axis_labels=('0', '1')), grid=GridCanvas(stride=1, shape=(-1, -1), enabled=False), layers=[], help='', status='Ready', tooltip=Tooltip(visible=False, text=''), theme='dark', title='napari', mouse_over_canvas=False, mouse_move_callbacks=[], mouse_drag_callbacks=[], mouse_double_click_callbacks=[], mouse_wheel_callbacks=[<function dims_scroll at 0x00000266245D5C10>], _persisted_mouse_event={}, _mouse_drag_gen={}, _mouse_wheel_gen={}, keymap={})\n",
      "in_n_out ( 797): DEBUG :   Calling ViewerToggleAction.__init__.<locals>.get_current with {'viewer': Viewer(camera=Camera(center=(0.0, 0.0, 0.0), zoom=1.0, angles=(0.0, 0.0, 90.0), perspective=0.0, mouse_pan=True, mouse_zoom=True), cursor=Cursor(position=(1.0, 1.0), scaled=True, size=1, style=<CursorStyle.STANDARD: 'standard'>), dims=Dims(ndim=2, ndisplay=2, last_used=0, range=((0, 2, 1), (0, 2, 1)), current_step=(0, 0), order=(0, 1), axis_labels=('0', '1')), grid=GridCanvas(stride=1, shape=(-1, -1), enabled=False), layers=[], help='', status='Ready', tooltip=Tooltip(visible=False, text=''), theme='dark', title='napari', mouse_over_canvas=False, mouse_move_callbacks=[], mouse_drag_callbacks=[], mouse_double_click_callbacks=[], mouse_wheel_callbacks=[<function dims_scroll at 0x00000266245D5C10>], _persisted_mouse_event={}, _mouse_drag_gen={}, _mouse_wheel_gen={}, keymap={})} (injected {'viewer'})\n",
      "in_n_out ( 768): DEBUG : Executing @injected ViewerToggleAction.__init__.<locals>.get_current(viewer: napari.viewer.Viewer) with args: (), kwargs: {}\n",
      "in_n_out ( 787): DEBUG :   injecting viewer: <class 'napari.viewer.Viewer'> = Viewer(camera=Camera(center=(0.0, 0.0, 0.0), zoom=1.0, angles=(0.0, 0.0, 90.0), perspective=0.0, mouse_pan=True, mouse_zoom=True), cursor=Cursor(position=(1.0, 1.0), scaled=True, size=1, style=<CursorStyle.STANDARD: 'standard'>), dims=Dims(ndim=2, ndisplay=2, last_used=0, range=((0, 2, 1), (0, 2, 1)), current_step=(0, 0), order=(0, 1), axis_labels=('0', '1')), grid=GridCanvas(stride=1, shape=(-1, -1), enabled=False), layers=[], help='', status='Ready', tooltip=Tooltip(visible=False, text=''), theme='dark', title='napari', mouse_over_canvas=False, mouse_move_callbacks=[], mouse_drag_callbacks=[], mouse_double_click_callbacks=[], mouse_wheel_callbacks=[<function dims_scroll at 0x00000266245D5C10>], _persisted_mouse_event={}, _mouse_drag_gen={}, _mouse_wheel_gen={}, keymap={})\n",
      "in_n_out ( 797): DEBUG :   Calling ViewerToggleAction.__init__.<locals>.get_current with {'viewer': Viewer(camera=Camera(center=(0.0, 0.0, 0.0), zoom=1.0, angles=(0.0, 0.0, 90.0), perspective=0.0, mouse_pan=True, mouse_zoom=True), cursor=Cursor(position=(1.0, 1.0), scaled=True, size=1, style=<CursorStyle.STANDARD: 'standard'>), dims=Dims(ndim=2, ndisplay=2, last_used=0, range=((0, 2, 1), (0, 2, 1)), current_step=(0, 0), order=(0, 1), axis_labels=('0', '1')), grid=GridCanvas(stride=1, shape=(-1, -1), enabled=False), layers=[], help='', status='Ready', tooltip=Tooltip(visible=False, text=''), theme='dark', title='napari', mouse_over_canvas=False, mouse_move_callbacks=[], mouse_drag_callbacks=[], mouse_double_click_callbacks=[], mouse_wheel_callbacks=[<function dims_scroll at 0x00000266245D5C10>], _persisted_mouse_event={}, _mouse_drag_gen={}, _mouse_wheel_gen={}, keymap={})} (injected {'viewer'})\n",
      "in_n_out ( 768): DEBUG : Executing @injected _get_current_activity_dock(window: napari._qt.qt_main_window.Window) with args: (), kwargs: {}\n",
      "in_n_out ( 787): DEBUG :   injecting window: <class 'napari._qt.qt_main_window.Window'> = <napari._qt.qt_main_window.Window object at 0x00000266305C2F40>\n",
      "in_n_out ( 797): DEBUG :   Calling _get_current_activity_dock with {'window': <napari._qt.qt_main_window.Window object at 0x00000266305C2F40>} (injected {'window'})\n",
      "imaging_dataset ( 598): DEBUG : ImagingDataset(name='ROT90(459d8b5990aa2e04)-FLIP(37737dbf9298e3dc)-confocal-h2b-rfp-brain', shape=(138, 621, 1406)) | translate = None\n",
      "imaging_dataset ( 614): DEBUG : ImagingDataset(name='ROT90(459d8b5990aa2e04)-FLIP(37737dbf9298e3dc)-confocal-h2b-rfp-brain', shape=(138, 621, 1406)) | translate = None\n",
      "imaging_dataset ( 630): DEBUG : ImagingDataset(name='ROT90(459d8b5990aa2e04)-FLIP(37737dbf9298e3dc)-confocal-h2b-rfp-brain', shape=(138, 621, 1406)) | translate = None\n",
      "imaging_dataset ( 648): DEBUG : ImagingDataset(name='ROT90(459d8b5990aa2e04)-FLIP(37737dbf9298e3dc)-confocal-h2b-rfp-brain', shape=(138, 621, 1406)) | non_channel_translate = None\n",
      "napari.loader (  69): DEBUG : ImageSlice.__init__\n",
      "napari.loader (  69): DEBUG : ImageSlice.__init__\n",
      "napari.loader (  69): DEBUG : ImageSlice.__init__\n",
      "imaging_dataset ( 598): DEBUG : ImagingDataset(name='MAX(2673dbc211decdec)-__GETITEM__(4cc68a3ced60f9a5)-two-photon-fish-29B_run-395_2p-tz', shape=(38, 362, 512)) | translate = None\n",
      "imaging_dataset ( 614): DEBUG : ImagingDataset(name='MAX(2673dbc211decdec)-__GETITEM__(4cc68a3ced60f9a5)-two-photon-fish-29B_run-395_2p-tz', shape=(38, 362, 512)) | translate = None\n",
      "imaging_dataset ( 630): DEBUG : ImagingDataset(name='MAX(2673dbc211decdec)-__GETITEM__(4cc68a3ced60f9a5)-two-photon-fish-29B_run-395_2p-tz', shape=(38, 362, 512)) | translate = None\n",
      "imaging_dataset ( 648): DEBUG : ImagingDataset(name='MAX(2673dbc211decdec)-__GETITEM__(4cc68a3ced60f9a5)-two-photon-fish-29B_run-395_2p-tz', shape=(38, 362, 512)) | non_channel_translate = None\n",
      "napari.loader (  69): DEBUG : ImageSlice.__init__\n",
      "napari.loader (  69): DEBUG : ImageSlice.__init__\n",
      "napari.loader (  69): DEBUG : ImageSlice.__init__\n"
     ]
    }
   ],
   "source": [
    "viewer = napari.Viewer()\n",
    "ref_ds_prime.add_to_napari(viewer)\n",
    "live_max_proj_ds.add_to_napari(viewer)\n",
    "imd.ImagingDataset.apply_standard_napari_config(viewer)\n",
    "napari.run()"
   ],
   "metadata": {
    "collapsed": false,
    "ExecuteTime": {
     "end_time": "2023-09-12T21:07:47.455484200Z",
     "start_time": "2023-09-12T21:07:46.214298400Z"
    }
   },
   "id": "ae2b03dd68f4eac2"
  },
  {
   "cell_type": "markdown",
   "source": [
    "# Registration Implementation\n",
    "\n",
    "First choose images for registration"
   ],
   "metadata": {
    "collapsed": false
   },
   "id": "25e9e6d78b634cc9"
  },
  {
   "cell_type": "code",
   "execution_count": 17,
   "outputs": [],
   "source": [
    "moving_imds = live_max_proj_ds\n",
    "fixed_imds = ref_ds_prime"
   ],
   "metadata": {
    "collapsed": false,
    "ExecuteTime": {
     "end_time": "2023-10-18T19:38:01.709281600Z",
     "start_time": "2023-10-18T19:38:01.636397700Z"
    }
   },
   "id": "dc7e789f0473c35b"
  },
  {
   "cell_type": "code",
   "execution_count": 18,
   "outputs": [
    {
     "name": "stdout",
     "output_type": "stream",
     "text": [
      "local-nb_cs-ii-29_import-tests (   2): INFO : moving_scale = array([13.68421053,  1.6069287 ,  1.6069287 ])\n",
      "local-nb_cs-ii-29_import-tests (   6): INFO : fixed_scale = array([2.       , 0.7980005, 0.7980005])\n",
      "local-nb_cs-ii-29_import-tests (  10): INFO : min_scale = array([2.       , 0.7980005, 0.7980005])\n",
      "local-nb_cs-ii-29_import-tests (  14): INFO : moving_rescale_factor = array([6.84210526, 2.01369386, 2.01369386])\n",
      "local-nb_cs-ii-29_import-tests (  15): INFO : fixed_rescale_factor = array([1., 1., 1.])\n",
      "local-nb_cs-ii-29_import-tests (  19): INFO : moving_imds.shape = (18, 362, 512)\n",
      "local-nb_cs-ii-29_import-tests (  20): INFO : moving_new_shape = array([ 123.,  729., 1031.])\n",
      "local-nb_cs-ii-29_import-tests (  21): INFO : fixed_imds.shape = (138, 621, 1406)\n",
      "local-nb_cs-ii-29_import-tests (  22): INFO : fixed_new_shape = array([ 138.,  621., 1406.])\n"
     ]
    }
   ],
   "source": [
    "moving_scale = np.abs(moving_imds.scale)\n",
    "log.info(f'{moving_scale = }')\n",
    "moving_im_raw = live_max_proj_ds.get_image_data()\n",
    "\n",
    "fixed_scale = np.abs(fixed_imds.scale)\n",
    "log.info(f'{fixed_scale = }')\n",
    "fixed_im_raw = ref_ds_prime.get_image_data()\n",
    "\n",
    "min_scale = np.min([moving_scale, fixed_scale], axis=0)\n",
    "log.info(f'{min_scale = }')\n",
    "\n",
    "moving_rescale_factor = moving_scale / min_scale\n",
    "fixed_rescale_factor = fixed_scale / min_scale\n",
    "log.info(f'{moving_rescale_factor = }')\n",
    "log.info(f'{fixed_rescale_factor = }')\n",
    "\n",
    "moving_new_shape = np.round(np.array(moving_imds.shape) * moving_rescale_factor)\n",
    "fixed_new_shape = np.round(np.array(fixed_imds.shape) * fixed_rescale_factor)\n",
    "log.info(f'{moving_imds.shape = }')\n",
    "log.info(f'{moving_new_shape = }')\n",
    "log.info(f'{fixed_imds.shape = }')\n",
    "log.info(f'{fixed_new_shape = }')"
   ],
   "metadata": {
    "collapsed": false,
    "ExecuteTime": {
     "end_time": "2023-10-18T19:38:02.432783600Z",
     "start_time": "2023-10-18T19:38:02.361896900Z"
    }
   },
   "id": "5afeb376d0f69a1e"
  },
  {
   "cell_type": "code",
   "execution_count": 19,
   "outputs": [
    {
     "data": {
      "text/plain": "<Figure size 640x480 with 1 Axes>",
      "image/png": "[encoded data removed]"
     },
     "metadata": {},
     "output_type": "display_data"
    },
    {
     "data": {
      "text/plain": "<Figure size 640x480 with 1 Axes>",
      "image/png": "[encoded data removed]"
     },
     "metadata": {},
     "output_type": "display_data"
    }
   ],
   "source": [
    "%matplotlib inline\n",
    "\n",
    "moving_data_1d = moving_im_raw.reshape(-1)\n",
    "fixed_data_1d = fixed_im_raw.reshape(-1)\n",
    "\n",
    "# TODO - how should this be done more heurestically?\n",
    "#        Histogram normalization...\n",
    "# TODO - look into `use_histogram_matching` parameter in antspy\n",
    "moving_clip = (1200, 3000)\n",
    "fixed_clip = (2000, 20000)\n",
    "\n",
    "moving_im_clip = np.clip(moving_im_raw, *moving_clip)\n",
    "fixed_im_clip = np.clip(fixed_im_raw, *fixed_clip)\n",
    "\n",
    "moving_im_clip_1d = moving_im_clip.reshape(-1)\n",
    "fixed_im_clip_1d = fixed_im_clip.reshape(-1)\n",
    "\n",
    "plt.hist(moving_data_1d, bins=100, histtype='step')\n",
    "plt.hist(moving_im_clip_1d, bins=100, histtype='step')\n",
    "plt.title(f'Histogram - MOVING - {moving_imds.name}')\n",
    "plt.yscale('log')\n",
    "plt.grid(True)\n",
    "plt.show()\n",
    "\n",
    "plt.hist(fixed_data_1d, bins=100, histtype='step')\n",
    "plt.hist(fixed_im_clip_1d, bins=100, histtype='step')\n",
    "plt.title(f'Histogram - FIXED - {fixed_imds.name}')\n",
    "plt.yscale('log')\n",
    "plt.grid(True)\n",
    "plt.show()"
   ],
   "metadata": {
    "collapsed": false,
    "ExecuteTime": {
     "end_time": "2023-10-18T19:38:09.981696800Z",
     "start_time": "2023-10-18T19:38:04.121080700Z"
    }
   },
   "id": "3a2bbca134a566b6"
  },
  {
   "cell_type": "code",
   "execution_count": 20,
   "outputs": [
    {
     "data": {
      "text/plain": "<Figure size 640x480 with 1 Axes>",
      "image/png": "[encoded data removed]"
     },
     "metadata": {},
     "output_type": "display_data"
    },
    {
     "data": {
      "text/plain": "<Figure size 640x480 with 1 Axes>",
      "image/png": "[encoded data removed]"
     },
     "metadata": {},
     "output_type": "display_data"
    }
   ],
   "source": [
    "moving_im_float = moving_im_clip.astype(float)\n",
    "moving_im_float = moving_im_float - moving_im_float.min()\n",
    "moving_im_float = moving_im_float / moving_im_float.max()\n",
    "\n",
    "fixed_im_float = fixed_im_clip.astype(float)\n",
    "fixed_im_float = fixed_im_float - fixed_im_float.min()\n",
    "fixed_im_float = fixed_im_float / fixed_im_float.max()\n",
    "\n",
    "plt.hist(moving_im_float.reshape(-1), \n",
    "         bins=100, histtype='step')\n",
    "plt.title(f'Histogram - MOVING - {moving_imds.name}')\n",
    "plt.yscale('log')\n",
    "plt.grid(True)\n",
    "plt.show()\n",
    "\n",
    "plt.hist(fixed_im_float.reshape(-1), \n",
    "         bins=100, histtype='step')\n",
    "plt.title(f'Histogram - FIXED - {fixed_imds.name}')\n",
    "plt.yscale('log')\n",
    "plt.grid(True)\n",
    "plt.show()"
   ],
   "metadata": {
    "collapsed": false,
    "ExecuteTime": {
     "end_time": "2023-10-18T19:38:14.708128200Z",
     "start_time": "2023-10-18T19:38:09.981696800Z"
    }
   },
   "id": "150fc330cdc15850"
  },
  {
   "cell_type": "code",
   "execution_count": 21,
   "outputs": [],
   "source": [
    "def resize(image: np.ndarray, \n",
    "           new_shape: tuple[int, ...] | np.ndarray,\n",
    "           **kwargs) -> np.ndarray:\n",
    "    current_shape = np.array(image.shape)\n",
    "    shape_delta = np.round(new_shape) - current_shape\n",
    "    if np.all(np.abs(shape_delta) < 0.5):\n",
    "        return image\n",
    "    downsize: bool = np.any(shape_delta < 0)\n",
    "    anti_alias = kwargs.pop('anti_aliasing', downsize)\n",
    "    return ski.transform.resize(image,\n",
    "                                output_shape=np.round(new_shape),\n",
    "                                anti_aliasing=anti_alias,\n",
    "                                **kwargs)"
   ],
   "metadata": {
    "collapsed": false,
    "ExecuteTime": {
     "end_time": "2023-10-18T19:38:14.708128200Z",
     "start_time": "2023-10-18T19:38:14.690157400Z"
    }
   },
   "id": "8a55d974bc0afb45"
  },
  {
   "cell_type": "code",
   "execution_count": 22,
   "outputs": [
    {
     "name": "stdout",
     "output_type": "stream",
     "text": [
      "local-nb_cs-ii-29_import-tests (   1): INFO : Resizing Images\n"
     ]
    }
   ],
   "source": [
    "log.info('Resizing Images')\n",
    "moving_im_resize = resize(moving_im_float, \n",
    "                          new_shape=moving_new_shape)\n",
    "fixed_im_resize = resize(fixed_im_float, \n",
    "                         new_shape=fixed_new_shape)"
   ],
   "metadata": {
    "collapsed": false,
    "ExecuteTime": {
     "end_time": "2023-10-18T19:38:20.419033Z",
     "start_time": "2023-10-18T19:38:14.703136200Z"
    }
   },
   "id": "49bba0c8145a1acc"
  },
  {
   "cell_type": "code",
   "execution_count": 86,
   "outputs": [],
   "source": [
    "viewer = napari.Viewer()\n",
    "viewer.add_image(moving_im_resize)\n",
    "viewer.add_image(fixed_im_resize)\n",
    "viewer.show()"
   ],
   "metadata": {
    "collapsed": false,
    "ExecuteTime": {
     "end_time": "2023-09-12T22:24:00.924580800Z",
     "start_time": "2023-09-12T22:23:59.596228500Z"
    }
   },
   "id": "3f4cdfb67c7a404b"
  },
  {
   "cell_type": "code",
   "execution_count": 23,
   "outputs": [
    {
     "name": "stdout",
     "output_type": "stream",
     "text": [
      "local-nb_cs-ii-29_import-tests (   1): INFO : Apply Gaussian Filter\n"
     ]
    }
   ],
   "source": [
    "log.info('Apply Gaussian Filter')\n",
    "\n",
    "sigma_kernel_um = np.array([2, 1, 1], dtype=float)\n",
    "sigma_kernel = np.ceil(sigma_kernel_um / min_scale) \n",
    "\n",
    "moving_im_filt = ski.filters.gaussian(moving_im_resize, \n",
    "                                      sigma=sigma_kernel)\n",
    "fixed_im_filt = ski.filters.gaussian(fixed_im_float, \n",
    "                                     sigma=sigma_kernel)"
   ],
   "metadata": {
    "collapsed": false,
    "ExecuteTime": {
     "end_time": "2023-10-18T19:38:26.314944300Z",
     "start_time": "2023-10-18T19:38:20.420031600Z"
    }
   },
   "id": "c6a0681d67e8f8d1"
  },
  {
   "cell_type": "code",
   "execution_count": 88,
   "outputs": [],
   "source": [
    "viewer = napari.Viewer()\n",
    "viewer.add_image(moving_im_filt)\n",
    "viewer.add_image(fixed_im_filt)\n",
    "viewer.show()"
   ],
   "metadata": {
    "collapsed": false,
    "ExecuteTime": {
     "end_time": "2023-09-12T22:24:18.671784600Z",
     "start_time": "2023-09-12T22:24:13.355160500Z"
    }
   },
   "id": "ca85ee5e4a057a7c"
  },
  {
   "cell_type": "markdown",
   "source": [
    "# Performing Registration"
   ],
   "metadata": {
    "collapsed": false
   },
   "id": "137ee449f41065c8"
  },
  {
   "cell_type": "code",
   "execution_count": 24,
   "outputs": [],
   "source": [
    "@csutils.timed(log)\n",
    "def register(fixed: np.ndarray, \n",
    "             moving: np.ndarray,\n",
    "             ) -> tuple[np.ndarray, dict]:\n",
    "    fixed_ants = ants.from_numpy(fixed)\n",
    "    # TODO - look into setting `spacing` parameter in the conversion\n",
    "    moving_ants = ants.from_numpy(moving)\n",
    "    \n",
    "    # TODO - for a few datasets run a jobs many different compinations of parameters\n",
    "    #        try type_of_transform=`SyNAggro`\n",
    "    \n",
    "    transform = ants.registration(\n",
    "        fixed=fixed_ants,\n",
    "        moving=moving_ants,\n",
    "        type_of_transform='SyN',\n",
    "        syn_metric='demons',\n",
    "        # syn_sampling=16,\n",
    "        verbose=True)\n",
    "    \n",
    "    moving_warped = ants.apply_transforms(\n",
    "        fixed=fixed_ants,\n",
    "        moving=moving_ants,\n",
    "        transformlist=transform['fwdtransforms'])\n",
    "    \n",
    "    return moving_warped.numpy(), transform\n",
    "        "
   ],
   "metadata": {
    "collapsed": false,
    "ExecuteTime": {
     "end_time": "2023-10-18T19:38:30.345750700Z",
     "start_time": "2023-10-18T19:38:30.239788Z"
    }
   },
   "id": "9f0367949121df45"
  },
  {
   "cell_type": "code",
   "execution_count": 25,
   "outputs": [
    {
     "name": "stdout",
     "output_type": "stream",
     "text": [
      "local-nb_cs-ii-29_import-tests (   1): INFO : Computing Registration and Performing transform\n",
      "antsRegistration -d 3 -r [00000216C26D34D0,00000216C26D3480,1] -m mattes[00000216C26D34D0,00000216C26D3480,1,32,regular,0.2] -t Affine[0.25] -c 2100x1200x1200x0 -s 3x2x1x0 -f 4x2x2x1 -x [NA,NA] -m demons[00000216C26D34D0,00000216C26D3480,1,32] -t SyN[0.200000,3.000000,0.000000] -c [40x20x0,1e-7,8] -s 2x1x0 -f 4x2x1 -u 1 -z 1 -o [C:\\Users\\CORBAN~1\\AppData\\Local\\Temp\\tmp32eh3m06,00000216C26D31A0,00000216C26D3230] -x [NA,NA] --float 1 --write-composite-transform 0 -v 1\n",
      "local-nb_cs-ii-29_import-tests (  36): INFO : register        took 0:07:11.403950 h:m:s.\n"
     ]
    }
   ],
   "source": [
    "log.info('Computing Registration and Performing transform')\n",
    "\n",
    "moving_im_pre_reg = moving_im_filt\n",
    "fixed_im_reg = fixed_im_filt\n",
    "\n",
    "moving_im_reg, reg_transform = register(fixed=fixed_im_reg,\n",
    "                                        moving=moving_im_pre_reg)"
   ],
   "metadata": {
    "collapsed": false,
    "ExecuteTime": {
     "end_time": "2023-10-18T19:46:48.334156600Z",
     "start_time": "2023-10-18T19:38:31.088756600Z"
    }
   },
   "id": "e442e1b8360971ae"
  },
  {
   "cell_type": "code",
   "execution_count": 26,
   "outputs": [
    {
     "name": "stdout",
     "output_type": "stream",
     "text": [
      "local-nb_cs-ii-29_import-tests (   1): INFO : reg_transform[\"fwdtransforms\"] = ['C:\\\\Users\\\\CORBAN~1\\\\AppData\\\\Local\\\\Temp\\\\tmp32eh3m061Warp.nii.gz', 'C:\\\\Users\\\\CORBAN~1\\\\AppData\\\\Local\\\\Temp\\\\tmp32eh3m060GenericAffine.mat']\n",
      "local-nb_cs-ii-29_import-tests (   2): INFO : reg_transform[\"invtransforms\"] = ['C:\\\\Users\\\\CORBAN~1\\\\AppData\\\\Local\\\\Temp\\\\tmp32eh3m060GenericAffine.mat', 'C:\\\\Users\\\\CORBAN~1\\\\AppData\\\\Local\\\\Temp\\\\tmp32eh3m061InverseWarp.nii.gz']\n",
      "local-nb_cs-ii-29_import-tests (   3): INFO : (Fwd == Inv)? : False\n",
      "local-nb_cs-ii-29_import-tests (   4): INFO : (Fwd[-1] == Inv[0])? : True\n"
     ]
    }
   ],
   "source": [
    "log.info(f'{reg_transform[\"fwdtransforms\"] = }')\n",
    "log.info(f'{reg_transform[\"invtransforms\"] = }')\n",
    "log.info(f'(Fwd == Inv)? : {reg_transform[\"fwdtransforms\"] == reg_transform[\"invtransforms\"]}')\n",
    "log.info(f'(Fwd[-1] == Inv[0])? : {reg_transform[\"fwdtransforms\"][-1] == reg_transform[\"invtransforms\"][0]}')"
   ],
   "metadata": {
    "collapsed": false,
    "ExecuteTime": {
     "end_time": "2023-10-18T19:46:48.399054400Z",
     "start_time": "2023-10-18T19:45:42.507682600Z"
    }
   },
   "id": "9856ca5576a9ce33"
  },
  {
   "cell_type": "code",
   "execution_count": 27,
   "outputs": [
    {
     "name": "stdout",
     "output_type": "stream",
     "text": [
      "local-nb_cs-ii-29_import-tests (   1): INFO : fixed_im_reg.shape = (138, 621, 1406)\n",
      "local-nb_cs-ii-29_import-tests (   2): INFO : moving_im_pre_reg.shape = (123, 729, 1031)\n",
      "local-nb_cs-ii-29_import-tests (   3): INFO : moving_im_reg.shape = (138, 621, 1406)\n"
     ]
    }
   ],
   "source": [
    "log.info(f'{fixed_im_reg.shape = }')\n",
    "log.info(f'{moving_im_pre_reg.shape = }')\n",
    "log.info(f'{moving_im_reg.shape = }')\n",
    "\n",
    "# TODO - check habenula locations"
   ],
   "metadata": {
    "collapsed": false,
    "ExecuteTime": {
     "end_time": "2023-10-18T19:46:48.399054400Z",
     "start_time": "2023-10-18T19:45:42.521661400Z"
    }
   },
   "id": "a5da32ad7e4ae021"
  },
  {
   "cell_type": "code",
   "execution_count": 93,
   "outputs": [],
   "source": [
    "viewer = napari.Viewer()\n",
    "viewer.add_image(fixed_im_reg,\n",
    "                 scale=min_scale)\n",
    "viewer.add_image(moving_im_pre_reg,\n",
    "                 scale=min_scale)\n",
    "viewer.add_image(moving_im_reg,\n",
    "                 scale=min_scale)\n",
    "viewer.show()"
   ],
   "metadata": {
    "collapsed": false,
    "ExecuteTime": {
     "end_time": "2023-09-12T22:33:07.170576600Z",
     "start_time": "2023-09-12T22:33:05.563769400Z"
    }
   },
   "id": "8f28f084438a183e"
  },
  {
   "cell_type": "markdown",
   "source": [
    "# Import Region Masks"
   ],
   "metadata": {
    "collapsed": false
   },
   "id": "c51e5123d25da497"
  },
  {
   "cell_type": "code",
   "execution_count": 28,
   "outputs": [
    {
     "name": "stdout",
     "output_type": "stream",
     "text": [
      "local-nb_cs-ii-29_import-tests (   1): INFO : Loading Mask Database from matfile\n",
      "local-nb_cs-ii-29_import-tests (   4): INFO : list(mask_db_matfile.keys()) = ['#refs#', 'DateCreated', 'MaskDatabase', 'MaskDatabaseNames', 'MaskDatabaseOutlines', 'Zs', 'height', 'width']\n",
      "local-nb_cs-ii-29_import-tests (  49): INFO : Closing matfile\n"
     ]
    }
   ],
   "source": [
    "log.info('Loading Mask Database from matfile')\n",
    "db_ds_info = ref_config.get_dataset_info(name='mask-database')\n",
    "with h5py.File(db_ds_info.full_path, 'r') as mask_db_matfile:\n",
    "    log.info(f'{list(mask_db_matfile.keys()) = }') \n",
    "    \n",
    "    sparse_matrix_h5_data = mask_db_matfile['MaskDatabase']\n",
    "    sparse_data = sparse_matrix_h5_data['data']\n",
    "    sparse_indices = sparse_matrix_h5_data['ir']\n",
    "    sparse_ind_pointer = sparse_matrix_h5_data['jc']\n",
    "    data_shape = np.array(tuple(\n",
    "        mask_db_matfile[p] for p in ['Zs', 'width', 'height']),\n",
    "        dtype=int).squeeze()\n",
    "    data_size = np.cumprod(data_shape)[-1]\n",
    "    \n",
    "    mask_names_data = mask_db_matfile['MaskDatabaseNames']\n",
    "    num_masks = mask_names_data.size\n",
    "    \n",
    "    mask_names: list[str] = []\n",
    "    for data_ref in mask_names_data:\n",
    "        str_data = mask_db_matfile[data_ref[0]]\n",
    "        chars = map(chr, (s[0] for s in str_data[:]))\n",
    "        mask_names.append(''.join(chars))\n",
    "    sparse_matrix = scipy.sparse.csc_matrix(\n",
    "        (sparse_data, sparse_indices, sparse_ind_pointer),\n",
    "        shape=(data_size, num_masks),\n",
    "        dtype=bool)\n",
    "    \n",
    "    masks_ndarray = sparse_matrix.toarray()\n",
    "    masks_ndarray = masks_ndarray.reshape(\n",
    "        data_shape.tolist() + [num_masks, ])\n",
    "    # starting dim order \n",
    "    # Z, X, Y, MASK\n",
    "    # ending dim order\n",
    "    # MASK, Z, Y, X\n",
    "    # new position mapping: (-3, -1, -2, 0)    \n",
    "    masks_ndarray = np.moveaxis(\n",
    "        masks_ndarray,\n",
    "        [0, 1, 2, 3],\n",
    "        [-3, -1, -2, 0])\n",
    "    # masks_ndarray = np.flip(masks_ndarray, axis=1) # flip about Z axis\n",
    "    masks_ndarray = np.rot90(masks_ndarray, axes=(2, 3)) # rotate about Z axis 90 deg\n",
    "    masks_ndarray = np.rot90(masks_ndarray, k=2, axes=(1, 2)) # rotate about X axis 180 deg\n",
    "    masks_dims = (Dim.CHANNEL,\n",
    "                  Dim.Z,\n",
    "                  Dim.Y,\n",
    "                  Dim.X)\n",
    "    masks_dim_dict = {d: i for i, d in enumerate(masks_dims)}\n",
    "    \n",
    "    log.info('Closing matfile')\n",
    "    "
   ],
   "metadata": {
    "collapsed": false,
    "ExecuteTime": {
     "end_time": "2023-10-18T19:47:18.582827400Z",
     "start_time": "2023-10-18T19:47:13.862385600Z"
    }
   },
   "id": "bc4935dce144bcf0"
  },
  {
   "cell_type": "code",
   "execution_count": 128,
   "outputs": [
    {
     "data": {
      "text/plain": "['Diencephalon -',\n 'Diencephalon - Anterior group of the posterior tubercular vmat2 neurons',\n 'Diencephalon - Anterior preoptic dopaminergic cluster',\n 'Diencephalon - Anterior pretectum cluster of vmat2 Neurons',\n 'Diencephalon - Caudal Hypothalamus',\n 'Diencephalon - Diffuse Nucleus of the Intermediate Hypothalamus',\n 'Diencephalon - Dopaminergic Cluster 1 - ventral thalamic and periventricular posterior tubercular DA neurons',\n 'Diencephalon - Dopaminergic Cluster 2 - posterior tuberculum',\n 'Diencephalon - Dopaminergic Cluster 3 - hypothalamus',\n 'Diencephalon - Dopaminergic Cluster 4/5 - posterior tuberculum and hypothalamus',\n 'Diencephalon - Dopaminergic Cluster 6 - hypothalamus',\n 'Diencephalon - Dopaminergic Cluster 7 - Caudal Hypothalamus',\n 'Diencephalon - Dorsal Thalamus',\n 'Diencephalon - Eminentia Thalami',\n 'Diencephalon - Habenula',\n 'Diencephalon - Hypothalamus - Caudal Hypothalamus Neural Cluster',\n 'Diencephalon - Hypothalamus - Intermediate Hypothalamus Neural Cluster',\n 'Diencephalon - Hypothalamus 6.7FRhcrtR-Gal4 cluster 1',\n 'Diencephalon - Hypothalamus 6.7FRhcrtR-Gal4 cluster 2',\n 'Diencephalon - Hypothalamus Gad1b Cluster 1',\n 'Diencephalon - Hypothalamus Gad1b Cluster 2',\n 'Diencephalon - Hypothalamus Gad1b Cluster 3 Sparse',\n 'Diencephalon - Hypothalamus Hcrt Neurons',\n 'Diencephalon - Hypothalamus Olig2 cluster',\n 'Diencephalon - Hypothalamus Olig2 cluster 2',\n 'Diencephalon - Hypothalamus Qrfp neuron cluster',\n 'Diencephalon - Hypothalamus Vglut2 Cluster 1',\n 'Diencephalon - Hypothalamus Vglut2 Cluster 2',\n 'Diencephalon - Hypothalamus Vglut2 Cluster 3',\n 'Diencephalon - Hypothalamus Vglut2 Cluster 4',\n 'Diencephalon - Hypothalamus Vglut2 Cluster 5',\n 'Diencephalon - Hypothalamus Vglut2 Cluster 6',\n 'Diencephalon - Hypothalamus s1181t Cluster',\n 'Diencephalon - Hypothamic VentroLateral VMAT cluster',\n 'Diencephalon - Intermediate Hypothalamus',\n 'Diencephalon - Isl1 cluster 1',\n 'Diencephalon - Isl1 cluster 2',\n 'Diencephalon - Isl1 cluster 3',\n 'Diencephalon - Left Habenula Vglut2 Cluster',\n 'Diencephalon - Medial vglut2 cluster',\n 'Diencephalon - Migrated Area of the Pretectum (M1)',\n 'Diencephalon - Migrated Posterior Tubercular Area (M2)',\n 'Diencephalon - Olig2 Band',\n 'Diencephalon - Olig2 Band 2',\n 'Diencephalon - Optic Chiasm',\n 'Diencephalon - Otpb Cluster 1',\n 'Diencephalon - Otpb Cluster 2 ',\n 'Diencephalon - Otpb Cluster 3',\n 'Diencephalon - Otpb Cluster 4',\n 'Diencephalon - Oxtl Cluster 1 in Preoptic Area',\n 'Diencephalon - Oxtl Cluster 2',\n 'Diencephalon - Oxtl Cluster 3',\n 'Diencephalon - Oxtl Cluster 4 - sparse in hypothalamus',\n 'Diencephalon - Oxtl Cluster 5',\n 'Diencephalon - Pineal',\n 'Diencephalon - Pineal Vmat2 cluster ',\n 'Diencephalon - Pituitary',\n 'Diencephalon - Posterior Tuberculum',\n 'Diencephalon - Postoptic Commissure',\n 'Diencephalon - Preoptic Area',\n 'Diencephalon - Preoptic Otpb Cluster',\n 'Diencephalon - Preoptic area Vglut2 cluster',\n 'Diencephalon - Preoptic area posterior dopaminergic cluster',\n 'Diencephalon - Pretectal Gad1b Cluster',\n 'Diencephalon - Pretectal dopaminergic cluster',\n 'Diencephalon - Pretectum',\n 'Diencephalon - Retinal Arborization Field 1 (AF1, Approximate Location)',\n 'Diencephalon - Retinal Arborization Field 2 (AF2, Approximate Location)',\n 'Diencephalon - Retinal Arborization Field 3 (AF3)',\n 'Diencephalon - Retinal Arborization Field 4 (AF4)',\n 'Diencephalon - Retinal Arborization Field 5 (AF5)',\n 'Diencephalon - Retinal Arborization Field 6 (AF6)',\n 'Diencephalon - Right Habenula Vglut2 Cluster',\n 'Diencephalon - Rostral Hypothalamus',\n 'Diencephalon - Torus Lateralis',\n 'Diencephalon - Ventral Thalamus',\n 'Ganglia - Anterior Lateral Line Ganglion',\n 'Ganglia - Eyes',\n 'Ganglia - Facial Sensory Ganglion',\n 'Ganglia - Facial glossopharyngeal ganglion',\n 'Ganglia - Lateral Line Neuromast D1',\n 'Ganglia - Lateral Line Neuromast D2',\n 'Ganglia - Lateral Line Neuromast N',\n 'Ganglia - Lateral Line Neuromast O1',\n 'Ganglia - Lateral Line Neuromast OC1',\n 'Ganglia - Lateral Line Neuromast SO1',\n 'Ganglia - Lateral Line Neuromast SO2',\n 'Ganglia - Lateral Line Neuromast SO3',\n 'Ganglia - Olfactory Epithelium',\n 'Ganglia - Posterior Lateral Line Ganglia',\n 'Ganglia - Statoacoustic Ganglion',\n 'Ganglia - Trigeminal Ganglion',\n 'Ganglia - Vagal Ganglia',\n 'Mesencephalon -',\n 'Mesencephalon - Isl1 cluster of the mesencephalic region',\n 'Mesencephalon - Medial Tectal Band',\n 'Mesencephalon - NucMLF (nucleus of the medial longitudinal fascicle)',\n 'Mesencephalon - Oculomotor Nucleus nIII',\n 'Mesencephalon - Otpb Cluster',\n 'Mesencephalon - Oxtl Cluster Sparse',\n 'Mesencephalon - Ptf1a Cluster',\n 'Mesencephalon - Retinal Arborization Field 7 (AF7)',\n 'Mesencephalon - Retinal Arborization Field 8 (AF8)',\n 'Mesencephalon - Retinal Arborization Field 9 (AF9)',\n 'Mesencephalon - Sparse 6.7FRhcrtR cluster',\n 'Mesencephalon - Tectum Stratum Periventriculare',\n 'Mesencephalon - Tecum Neuropil',\n 'Mesencephalon - Tegmentum',\n 'Mesencephalon - Torus Longitudinalis',\n 'Mesencephalon - Torus Semicircularis',\n 'Mesencephalon - Vglut2 cluster 1',\n 'Mesencephalon - Vmat2 cluster of paraventricular organ',\n 'Mesencephalon - Vmat2 cluster2',\n 'Rhombencephalon -',\n 'Rhombencephalon - 6.7FDhcrtR-Gal4 Cluster 1',\n 'Rhombencephalon - 6.7FDhcrtR-Gal4 Cluster 2 Sparse',\n 'Rhombencephalon - 6.7FDhcrtR-Gal4 Cluster 3',\n 'Rhombencephalon - 6.7FDhcrtR-Gal4 Cluster 4',\n 'Rhombencephalon - 6.7FDhcrtR-Gal4 Cluster 5',\n 'Rhombencephalon - 6.7FDhcrtR-Gal4 Stripe 1',\n 'Rhombencephalon - 6.7FDhcrtR-Gal4 Stripe 2',\n 'Rhombencephalon - 6.7FDhcrtR-Gal4 Stripe 3',\n 'Rhombencephalon - 6.7FDhcrtR-Gal4 Stripe 4',\n 'Rhombencephalon - Anterior Cluster of nV Trigeminal Motorneurons',\n 'Rhombencephalon - Area Postrema',\n 'Rhombencephalon - CaD',\n 'Rhombencephalon - CaV',\n 'Rhombencephalon - Caudal Ventral Cluster Labelled by Spinal Backfills',\n 'Rhombencephalon - Cerebellar Neuropil 1',\n 'Rhombencephalon - Cerebelluar-Vglut2 enriched areas',\n 'Rhombencephalon - Cerebellum',\n 'Rhombencephalon - Cerebellum Gad1b Enriched Areas',\n 'Rhombencephalon - Corpus Cerebelli',\n 'Rhombencephalon - Eminentia Granularis',\n 'Rhombencephalon - Gad1b Cluster 1',\n 'Rhombencephalon - Gad1b Cluster 10',\n 'Rhombencephalon - Gad1b Cluster 11',\n 'Rhombencephalon - Gad1b Cluster 12',\n 'Rhombencephalon - Gad1b Cluster 13',\n 'Rhombencephalon - Gad1b Cluster 14',\n 'Rhombencephalon - Gad1b Cluster 15',\n 'Rhombencephalon - Gad1b Cluster 16',\n 'Rhombencephalon - Gad1b Cluster 17',\n 'Rhombencephalon - Gad1b Cluster 18',\n 'Rhombencephalon - Gad1b Cluster 19',\n 'Rhombencephalon - Gad1b Cluster 2',\n 'Rhombencephalon - Gad1b Cluster 20',\n 'Rhombencephalon - Gad1b Cluster 3',\n 'Rhombencephalon - Gad1b Cluster 4',\n 'Rhombencephalon - Gad1b Cluster 5',\n 'Rhombencephalon - Gad1b Cluster 6',\n 'Rhombencephalon - Gad1b Cluster 7',\n 'Rhombencephalon - Gad1b Cluster 8',\n 'Rhombencephalon - Gad1b Cluster 9',\n 'Rhombencephalon - Gad1b Stripe 1',\n 'Rhombencephalon - Gad1b Stripe 2',\n 'Rhombencephalon - Gad1b Stripe 3',\n 'Rhombencephalon - Glyt2 Cluster 1',\n 'Rhombencephalon - Glyt2 Cluster 10',\n 'Rhombencephalon - Glyt2 Cluster 11',\n 'Rhombencephalon - Glyt2 Cluster 12',\n 'Rhombencephalon - Glyt2 Cluster 13',\n 'Rhombencephalon - Glyt2 Cluster 14',\n 'Rhombencephalon - Glyt2 Cluster 2',\n 'Rhombencephalon - Glyt2 Cluster 3',\n 'Rhombencephalon - Glyt2 Cluster 4',\n 'Rhombencephalon - Glyt2 Cluster 5',\n 'Rhombencephalon - Glyt2 Cluster 6',\n 'Rhombencephalon - Glyt2 Cluster 7',\n 'Rhombencephalon - Glyt2 Cluster 8',\n 'Rhombencephalon - Glyt2 Cluster 9',\n 'Rhombencephalon - Glyt2 Stripe 1',\n 'Rhombencephalon - Glyt2 Stripe 2',\n 'Rhombencephalon - Glyt2 Stripe 3',\n 'Rhombencephalon - Inferior Olive',\n 'Rhombencephalon - Interpeduncular Nucleus',\n 'Rhombencephalon - Isl1 Cluster 1',\n 'Rhombencephalon - Isl1 Cluster 2',\n 'Rhombencephalon - Isl1 Cluster 3',\n 'Rhombencephalon - Isl1 Stripe 1',\n 'Rhombencephalon - Lateral Reticular Nucleus',\n 'Rhombencephalon - Lobus caudalis cerebelli',\n 'Rhombencephalon - Locus Coreuleus',\n 'Rhombencephalon - Mauthner',\n 'Rhombencephalon - Mauthner Cell Axon Cap',\n 'Rhombencephalon - Medial Vestibular Nucleus',\n 'Rhombencephalon - MiD2',\n 'Rhombencephalon - MiD3',\n 'Rhombencephalon - MiM1',\n 'Rhombencephalon - MiR1',\n 'Rhombencephalon - MiR2',\n 'Rhombencephalon - MiT',\n 'Rhombencephalon - MiV1',\n 'Rhombencephalon - MiV2',\n 'Rhombencephalon - Neuropil Region 2',\n 'Rhombencephalon - Neuropil Region 3',\n 'Rhombencephalon - Neuropil Region 4',\n 'Rhombencephalon - Neuropil Region 5',\n 'Rhombencephalon - Neuropil Region 6',\n 'Rhombencephalon - Noradrendergic neurons of the Interfascicular and Vagal areas',\n 'Rhombencephalon - Oculomotor Nucleus nIV',\n 'Rhombencephalon - Olig2 Cluster',\n 'Rhombencephalon - Olig2 Stripe',\n 'Rhombencephalon - Olig2 enriched areas in cerebellum',\n 'Rhombencephalon - Otpb Cluster 1',\n 'Rhombencephalon - Otpb Cluster 2 - locus coeruleus',\n 'Rhombencephalon - Otpb Cluster 3',\n 'Rhombencephalon - Otpb Cluster 4',\n 'Rhombencephalon - Otpb Cluster 5',\n 'Rhombencephalon - Otpb Cluster 6',\n 'Rhombencephalon - Oxtl Cluster 1 Sparse',\n 'Rhombencephalon - Oxtl Cluster 2 Near MC axon cap',\n 'Rhombencephalon - Posterior Cluster of nV Trigeminal Motorneurons',\n 'Rhombencephalon - Ptf1a Cluster 1',\n 'Rhombencephalon - Ptf1a Stripe',\n 'Rhombencephalon - Qrfp neuron cluster sparse',\n 'Rhombencephalon - Raphe - Inferior',\n 'Rhombencephalon - Raphe - Superior',\n 'Rhombencephalon - Rhombomere 1',\n 'Rhombencephalon - Rhombomere 2',\n 'Rhombencephalon - Rhombomere 3',\n 'Rhombencephalon - Rhombomere 4',\n 'Rhombencephalon - Rhombomere 5',\n 'Rhombencephalon - Rhombomere 6',\n 'Rhombencephalon - Rhombomere 7',\n 'Rhombencephalon - RoL-R1',\n 'Rhombencephalon - RoL2',\n 'Rhombencephalon - RoL3',\n 'Rhombencephalon - RoM1',\n 'Rhombencephalon - RoM2',\n 'Rhombencephalon - RoM3',\n 'Rhombencephalon - RoV3',\n 'Rhombencephalon - S1181t Cluster',\n 'Rhombencephalon - Small cluster of TH stained neurons',\n 'Rhombencephalon - Spinal Backfill Vestibular Population',\n 'Rhombencephalon - Spiral Fiber Neuron Anterior cluster',\n 'Rhombencephalon - Spiral Fiber Neuron Posterior cluster',\n 'Rhombencephalon - Tangential Vestibular Nucleus',\n 'Rhombencephalon - VII Facial Motor and octavolateralis efferent neurons',\n \"Rhombencephalon - VII' Facial Motor and octavolateralis efferent neurons\",\n 'Rhombencephalon - Valvula Cerebelli',\n 'Rhombencephalon - Ventrolateral population of serotonergic neurons',\n 'Rhombencephalon - Vglut2 Stripe 1',\n 'Rhombencephalon - Vglut2 Stripe 2',\n 'Rhombencephalon - Vglut2 Stripe 3',\n 'Rhombencephalon - Vglut2 Stripe 4',\n 'Rhombencephalon - Vglut2 cluster 1',\n 'Rhombencephalon - Vglut2 cluster 2',\n 'Rhombencephalon - Vglut2 cluster 3',\n 'Rhombencephalon - Vglut2 cluster 4',\n 'Rhombencephalon - Vmat2 Cluster 1',\n 'Rhombencephalon - Vmat2 Cluster 2',\n 'Rhombencephalon - Vmat2 Cluster 3',\n 'Rhombencephalon - Vmat2 Cluster 4',\n 'Rhombencephalon - Vmat2 Cluster 5',\n 'Rhombencephalon - Vmat2 Stripe1',\n 'Rhombencephalon - Vmat2 Stripe2',\n 'Rhombencephalon - Vmat2 Stripe3',\n 'Rhombencephalon - X Vagus motorneuron cluster',\n 'Spinal Cord',\n 'Spinal Cord - 6.7FDhcrtR-Gal4 Stripe',\n 'Spinal Cord - Dorsal Sparse Isl1 cluster',\n 'Spinal Cord - Gad1b Stripe 1',\n 'Spinal Cord - Gad1b Stripe 2',\n 'Spinal Cord - Glyt2 Stripe',\n 'Spinal Cord - Isl1 stripe - motorneurons',\n 'Spinal Cord - Neurons with descending projections labelled by spinal backfills',\n 'Spinal Cord - Neuropil Region',\n 'Spinal Cord - Olig2 Stripe',\n 'Spinal Cord - Vglut2 Stripe 1',\n 'Spinal Cord - Vglut2 Stripe 2',\n 'Spinal Cord - Vglut2 Stripe 3',\n 'Spinal Cord - Vmat2 Stripe1',\n 'Spinal Cord - Vmat2 Stripe2',\n 'Telencephalon -',\n 'Telencephalon - Anterior Commisure',\n 'Telencephalon - Isl1 cluster 1',\n 'Telencephalon - Isl1 cluster 2',\n 'Telencephalon - Olfactory Bulb',\n 'Telencephalon - Olfactory bulb dopaminergic neuron areas',\n 'Telencephalon - Olig2 Cluster',\n 'Telencephalon - Optic Commissure',\n 'Telencephalon - Pallium',\n 'Telencephalon - Postoptic Commissure',\n 'Telencephalon - S1181t Cluster',\n 'Telencephalon - Subpallial Gad1b cluster',\n 'Telencephalon - Subpallial Otpb Cluster 2',\n 'Telencephalon - Subpallial Otpb strip',\n 'Telencephalon - Subpallial Vglut2 Cluster',\n 'Telencephalon - Subpallial dopaminergic cluster',\n 'Telencephalon - Subpallium',\n 'Telencephalon - Telencephalic Migrated Area 4 (M4)',\n 'Telencephalon - Vglut2 rind',\n 'Telencephalon - Vmat2 cluster']"
     },
     "execution_count": 128,
     "metadata": {},
     "output_type": "execute_result"
    }
   ],
   "source": [],
   "metadata": {
    "collapsed": false,
    "ExecuteTime": {
     "end_time": "2023-10-19T21:41:07.770716100Z",
     "start_time": "2023-10-19T21:41:07.550235Z"
    }
   },
   "id": "6ebf6b35a8cc967b"
  },
  {
   "cell_type": "code",
   "execution_count": 29,
   "outputs": [
    {
     "name": "stdout",
     "output_type": "stream",
     "text": [
      "local-nb_cs-ii-29_import-tests (   1): INFO : masks_ndarray.shape = (294, 138, 621, 1406)\n",
      "local-nb_cs-ii-29_import-tests (   2): INFO : ref_ds_prime.shape = (138, 621, 1406)\n",
      "local-nb_cs-ii-29_import-tests (   3): INFO : masks_ndarray.dtype = dtype('bool')\n"
     ]
    }
   ],
   "source": [
    "log.info(f'{masks_ndarray.shape = }')\n",
    "log.info(f'{ref_ds_prime.shape = }')\n",
    "log.info(f'{masks_ndarray.dtype = }')"
   ],
   "metadata": {
    "collapsed": false,
    "ExecuteTime": {
     "end_time": "2023-10-18T19:48:09.449398900Z",
     "start_time": "2023-10-18T19:48:09.341549100Z"
    }
   },
   "id": "5d956a79fd3da3c5"
  },
  {
   "cell_type": "code",
   "execution_count": 33,
   "outputs": [
    {
     "name": "stdout",
     "output_type": "stream",
     "text": [
      "local-nb_cs-ii-29_import-tests (   1): INFO : Computing the size of each mask...\n"
     ]
    }
   ],
   "source": [
    "log.info('Computing the size of each mask...')\n",
    "mask_sizes = np.count_nonzero(\n",
    "    masks_ndarray, \n",
    "    axis=(masks_dim_dict[Dim.X],\n",
    "          masks_dim_dict[Dim.Y],\n",
    "          masks_dim_dict[Dim.Z]))\n",
    "mask_sizes_small_first_asort = np.argsort(mask_sizes)\n",
    "mask_sizes_large_first_asort = np.flip(mask_sizes_small_first_asort)"
   ],
   "metadata": {
    "collapsed": false,
    "ExecuteTime": {
     "end_time": "2023-10-18T20:07:29.298921900Z",
     "start_time": "2023-10-18T20:06:49.608511800Z"
    }
   },
   "id": "fd0c47fa277b2d40"
  },
  {
   "cell_type": "code",
   "execution_count": 34,
   "outputs": [],
   "source": [
    "@csutils.timed(logger=log)\n",
    "def gen_non_overlapping_labels(mask_data,\n",
    "                               names,\n",
    "                               asort=None,\n",
    "                               ignore_list=None,\n",
    "                               sizes=None,\n",
    "                               allowed_overlap_fraction=0.01):\n",
    "    labels_ndarray = np.zeros(\n",
    "        shape=mask_data.shape[1:],\n",
    "        dtype=int)    \n",
    "    label_names = []\n",
    "    \n",
    "    ignore_list = ignore_list or []   \n",
    "    \n",
    "    if asort is None:\n",
    "        asort = range(mask_data)\n",
    "        \n",
    "    _count = 0\n",
    "    for i_mask in asort:\n",
    "        name = names[i_mask]\n",
    "        if name in ignore_list:\n",
    "            continue    \n",
    "        \n",
    "        moi = mask_data[i_mask]\n",
    "        \n",
    "        if sizes is not None:\n",
    "            region_size = sizes[i_mask]\n",
    "        else:\n",
    "            region_size = np.count_nonzero(moi)    \n",
    "        allowed_overlap_size = np.round(region_size \n",
    "                                        * allowed_overlap_fraction)\n",
    "        allowed_overlap_size = allowed_overlap_size.astype(int)\n",
    "        \n",
    "        overlap_count = np.count_nonzero(labels_ndarray[moi]) \n",
    "        use_mask = (overlap_count <= allowed_overlap_size)\n",
    "        log.debug(f'{i_mask = :3d}, {use_mask = !r:5}, '\n",
    "                  f'{overlap_count = :8d}, {allowed_overlap_size = :8d}, '\n",
    "                  f'{name = :s}')\n",
    "        \n",
    "        if not use_mask:\n",
    "            continue\n",
    "            \n",
    "        _count += 1\n",
    "        new_moi = np.logical_and(moi, \n",
    "                                 np.logical_not(labels_ndarray))\n",
    "        labels_ndarray[new_moi] = _count\n",
    "        label_names.append(name)\n",
    "    \n",
    "    return labels_ndarray, label_names\n",
    "\n"
   ],
   "metadata": {
    "collapsed": false,
    "ExecuteTime": {
     "end_time": "2023-10-18T20:07:29.338858Z",
     "start_time": "2023-10-18T20:07:29.304911700Z"
    }
   },
   "id": "30ea5c93f38d76f4"
  },
  {
   "cell_type": "code",
   "execution_count": 118,
   "outputs": [
    {
     "name": "stdout",
     "output_type": "stream",
     "text": [
      "local-nb_cs-ii-29_import-tests (  12): INFO : Performing iter 0. Captured 0 of 294 labels (294 remaining).\n",
      "local-nb_cs-ii-29_import-tests (  36): INFO : i_mask = 184, use_mask = True , overlap_count =        0, allowed_overlap_size =        5, name = Rhombencephalon - Mauthner Cell Axon Cap\n",
      "local-nb_cs-ii-29_import-tests (  36): INFO : i_mask = 190, use_mask = True , overlap_count =        0, allowed_overlap_size =        5, name = Rhombencephalon - MiR2\n",
      "local-nb_cs-ii-29_import-tests (  36): INFO : i_mask = 158, use_mask = True , overlap_count =        0, allowed_overlap_size =        6, name = Rhombencephalon - Glyt2 Cluster 10\n",
      "local-nb_cs-ii-29_import-tests (  36): INFO : i_mask = 160, use_mask = True , overlap_count =        0, allowed_overlap_size =        7, name = Rhombencephalon - Glyt2 Cluster 12\n",
      "local-nb_cs-ii-29_import-tests (  36): INFO : i_mask = 226, use_mask = True , overlap_count =        0, allowed_overlap_size =        8, name = Rhombencephalon - RoL2\n",
      "local-nb_cs-ii-29_import-tests (  36): INFO : i_mask = 137, use_mask = True , overlap_count =        0, allowed_overlap_size =        8, name = Rhombencephalon - Gad1b Cluster 12\n",
      "local-nb_cs-ii-29_import-tests (  36): INFO : i_mask = 168, use_mask = True , overlap_count =        0, allowed_overlap_size =        8, name = Rhombencephalon - Glyt2 Cluster 7\n",
      "local-nb_cs-ii-29_import-tests (  36): INFO : i_mask = 189, use_mask = True , overlap_count =        0, allowed_overlap_size =        9, name = Rhombencephalon - MiR1\n",
      "local-nb_cs-ii-29_import-tests (  36): INFO : i_mask =  53, use_mask = True , overlap_count =        0, allowed_overlap_size =       11, name = Diencephalon - Oxtl Cluster 5\n",
      "local-nb_cs-ii-29_import-tests (  36): INFO : i_mask = 227, use_mask = True , overlap_count =        0, allowed_overlap_size =       11, name = Rhombencephalon - RoL3\n",
      "local-nb_cs-ii-29_import-tests (  36): INFO : i_mask = 188, use_mask = True , overlap_count =       11, allowed_overlap_size =       12, name = Rhombencephalon - MiM1\n",
      "local-nb_cs-ii-29_import-tests (  36): INFO : i_mask = 169, use_mask = False, overlap_count =       34, allowed_overlap_size =       13, name = Rhombencephalon - Glyt2 Cluster 8\n",
      "local-nb_cs-ii-29_import-tests (  36): INFO : i_mask = 136, use_mask = True , overlap_count =        0, allowed_overlap_size =       14, name = Rhombencephalon - Gad1b Cluster 11\n",
      "local-nb_cs-ii-29_import-tests (  36): INFO : i_mask = 166, use_mask = True , overlap_count =        0, allowed_overlap_size =       15, name = Rhombencephalon - Glyt2 Cluster 5\n",
      "local-nb_cs-ii-29_import-tests (  36): INFO : i_mask = 210, use_mask = True , overlap_count =        0, allowed_overlap_size =       15, name = Rhombencephalon - Oxtl Cluster 1 Sparse\n",
      "local-nb_cs-ii-29_import-tests (  36): INFO : i_mask =  50, use_mask = True , overlap_count =        0, allowed_overlap_size =       16, name = Diencephalon - Oxtl Cluster 2\n",
      "local-nb_cs-ii-29_import-tests (  36): INFO : i_mask = 191, use_mask = False, overlap_count =      227, allowed_overlap_size =       16, name = Rhombencephalon - MiT\n",
      "local-nb_cs-ii-29_import-tests (  36): INFO : i_mask = 165, use_mask = True , overlap_count =        0, allowed_overlap_size =       17, name = Rhombencephalon - Glyt2 Cluster 4\n",
      "local-nb_cs-ii-29_import-tests (  36): INFO : i_mask = 135, use_mask = True , overlap_count =        0, allowed_overlap_size =       17, name = Rhombencephalon - Gad1b Cluster 10\n",
      "local-nb_cs-ii-29_import-tests (  36): INFO : i_mask = 153, use_mask = True , overlap_count =        8, allowed_overlap_size =       18, name = Rhombencephalon - Gad1b Cluster 9\n",
      "local-nb_cs-ii-29_import-tests (  36): INFO : i_mask = 164, use_mask = True , overlap_count =        0, allowed_overlap_size =       18, name = Rhombencephalon - Glyt2 Cluster 3\n",
      "local-nb_cs-ii-29_import-tests (  36): INFO : i_mask = 170, use_mask = True , overlap_count =        0, allowed_overlap_size =       19, name = Rhombencephalon - Glyt2 Cluster 9\n",
      "local-nb_cs-ii-29_import-tests (  36): INFO : i_mask = 236, use_mask = True , overlap_count =        0, allowed_overlap_size =       19, name = Rhombencephalon - Spiral Fiber Neuron Posterior cluster\n",
      "local-nb_cs-ii-29_import-tests (  36): INFO : i_mask = 159, use_mask = True , overlap_count =        0, allowed_overlap_size =       19, name = Rhombencephalon - Glyt2 Cluster 11\n",
      "local-nb_cs-ii-29_import-tests (  36): INFO : i_mask = 208, use_mask = True , overlap_count =        0, allowed_overlap_size =       21, name = Rhombencephalon - Otpb Cluster 5\n",
      "local-nb_cs-ii-29_import-tests (  36): INFO : i_mask = 206, use_mask = True , overlap_count =        0, allowed_overlap_size =       22, name = Rhombencephalon - Otpb Cluster 3\n",
      "local-nb_cs-ii-29_import-tests (  36): INFO : i_mask = 150, use_mask = False, overlap_count =       69, allowed_overlap_size =       25, name = Rhombencephalon - Gad1b Cluster 6\n",
      "local-nb_cs-ii-29_import-tests (  36): INFO : i_mask = 204, use_mask = True , overlap_count =        0, allowed_overlap_size =       26, name = Rhombencephalon - Otpb Cluster 1\n",
      "local-nb_cs-ii-29_import-tests (  36): INFO : i_mask = 149, use_mask = True , overlap_count =        0, allowed_overlap_size =       26, name = Rhombencephalon - Gad1b Cluster 5\n",
      "local-nb_cs-ii-29_import-tests (  36): INFO : i_mask = 152, use_mask = True , overlap_count =        0, allowed_overlap_size =       28, name = Rhombencephalon - Gad1b Cluster 8\n",
      "local-nb_cs-ii-29_import-tests (  36): INFO : i_mask = 253, use_mask = True , overlap_count =       22, allowed_overlap_size =       29, name = Rhombencephalon - Vmat2 Cluster 4\n",
      "local-nb_cs-ii-29_import-tests (  36): INFO : i_mask = 125, use_mask = False, overlap_count =       99, allowed_overlap_size =       32, name = Rhombencephalon - CaD\n",
      "local-nb_cs-ii-29_import-tests (  36): INFO : i_mask = 102, use_mask = True , overlap_count =        0, allowed_overlap_size =       32, name = Mesencephalon - Retinal Arborization Field 8 (AF8)\n",
      "local-nb_cs-ii-29_import-tests (  36): INFO : i_mask = 239, use_mask = True , overlap_count =        0, allowed_overlap_size =       34, name = Rhombencephalon - VII' Facial Motor and octavolateralis efferent neurons\n",
      "local-nb_cs-ii-29_import-tests (  36): INFO : i_mask = 252, use_mask = True , overlap_count =        0, allowed_overlap_size =       35, name = Rhombencephalon - Vmat2 Cluster 3\n",
      "local-nb_cs-ii-29_import-tests (  36): INFO : i_mask = 233, use_mask = True , overlap_count =        0, allowed_overlap_size =       36, name = Rhombencephalon - Small cluster of TH stained neurons\n",
      "local-nb_cs-ii-29_import-tests (  36): INFO : i_mask = 235, use_mask = True , overlap_count =        0, allowed_overlap_size =       36, name = Rhombencephalon - Spiral Fiber Neuron Anterior cluster\n",
      "local-nb_cs-ii-29_import-tests (  36): INFO : i_mask = 104, use_mask = True , overlap_count =        0, allowed_overlap_size =       37, name = Mesencephalon - Sparse 6.7FRhcrtR cluster\n",
      "local-nb_cs-ii-29_import-tests (  36): INFO : i_mask = 163, use_mask = True , overlap_count =        0, allowed_overlap_size =       37, name = Rhombencephalon - Glyt2 Cluster 2\n",
      "local-nb_cs-ii-29_import-tests (  36): INFO : i_mask = 248, use_mask = True , overlap_count =        0, allowed_overlap_size =       38, name = Rhombencephalon - Vglut2 cluster 3\n",
      "local-nb_cs-ii-29_import-tests (  36): INFO : i_mask = 117, use_mask = True , overlap_count =        0, allowed_overlap_size =       38, name = Rhombencephalon - 6.7FDhcrtR-Gal4 Cluster 4\n",
      "local-nb_cs-ii-29_import-tests (  36): INFO : i_mask =  66, use_mask = True , overlap_count =        0, allowed_overlap_size =       38, name = Diencephalon - Retinal Arborization Field 1 (AF1, Approximate Location)\n",
      "local-nb_cs-ii-29_import-tests (  36): INFO : i_mask =  87, use_mask = True , overlap_count =        0, allowed_overlap_size =       38, name = Ganglia - Lateral Line Neuromast SO3\n",
      "local-nb_cs-ii-29_import-tests (  36): INFO : i_mask = 228, use_mask = True , overlap_count =        0, allowed_overlap_size =       40, name = Rhombencephalon - RoM1\n",
      "local-nb_cs-ii-29_import-tests (  36): INFO : i_mask = 177, use_mask = True , overlap_count =        0, allowed_overlap_size =       41, name = Rhombencephalon - Isl1 Cluster 2\n",
      "local-nb_cs-ii-29_import-tests (  36): INFO : i_mask =  84, use_mask = True , overlap_count =        0, allowed_overlap_size =       42, name = Ganglia - Lateral Line Neuromast OC1\n",
      "local-nb_cs-ii-29_import-tests (  36): INFO : i_mask = 126, use_mask = False, overlap_count =      328, allowed_overlap_size =       42, name = Rhombencephalon - CaV\n",
      "local-nb_cs-ii-29_import-tests (  36): INFO : i_mask = 193, use_mask = False, overlap_count =      180, allowed_overlap_size =       43, name = Rhombencephalon - MiV2\n",
      "local-nb_cs-ii-29_import-tests (  36): INFO : i_mask =  80, use_mask = True , overlap_count =        0, allowed_overlap_size =       48, name = Ganglia - Lateral Line Neuromast D1\n",
      "local-nb_cs-ii-29_import-tests (  36): INFO : i_mask = 231, use_mask = True , overlap_count =        0, allowed_overlap_size =       54, name = Rhombencephalon - RoV3\n",
      "local-nb_cs-ii-29_import-tests (  36): INFO : i_mask =  29, use_mask = True , overlap_count =        0, allowed_overlap_size =       55, name = Diencephalon - Hypothalamus Vglut2 Cluster 4\n",
      "local-nb_cs-ii-29_import-tests (  36): INFO : i_mask = 251, use_mask = True , overlap_count =        0, allowed_overlap_size =       56, name = Rhombencephalon - Vmat2 Cluster 2\n",
      "local-nb_cs-ii-29_import-tests (  36): INFO : i_mask = 183, use_mask = True , overlap_count =        0, allowed_overlap_size =       56, name = Rhombencephalon - Mauthner\n",
      "local-nb_cs-ii-29_import-tests (  36): INFO : i_mask =  37, use_mask = True , overlap_count =        0, allowed_overlap_size =       57, name = Diencephalon - Isl1 cluster 3\n",
      "local-nb_cs-ii-29_import-tests (  36): INFO : i_mask = 144, use_mask = True , overlap_count =        0, allowed_overlap_size =       59, name = Rhombencephalon - Gad1b Cluster 19\n",
      "local-nb_cs-ii-29_import-tests (  36): INFO : i_mask =   1, use_mask = True , overlap_count =        0, allowed_overlap_size =       59, name = Diencephalon - Anterior group of the posterior tubercular vmat2 neurons\n",
      "local-nb_cs-ii-29_import-tests (  36): INFO : i_mask = 192, use_mask = True , overlap_count =        0, allowed_overlap_size =       60, name = Rhombencephalon - MiV1\n",
      "local-nb_cs-ii-29_import-tests (  36): INFO : i_mask =  35, use_mask = True , overlap_count =        0, allowed_overlap_size =       60, name = Diencephalon - Isl1 cluster 1\n",
      "local-nb_cs-ii-29_import-tests (  36): INFO : i_mask =  70, use_mask = True , overlap_count =        0, allowed_overlap_size =       61, name = Diencephalon - Retinal Arborization Field 5 (AF5)\n",
      "local-nb_cs-ii-29_import-tests (  36): INFO : i_mask =  61, use_mask = True , overlap_count =        0, allowed_overlap_size =       62, name = Diencephalon - Preoptic area Vglut2 cluster\n",
      "local-nb_cs-ii-29_import-tests (  36): INFO : i_mask = 186, use_mask = True , overlap_count =        0, allowed_overlap_size =       62, name = Rhombencephalon - MiD2\n",
      "local-nb_cs-ii-29_import-tests (  36): INFO : i_mask = 211, use_mask = False, overlap_count =      642, allowed_overlap_size =       64, name = Rhombencephalon - Oxtl Cluster 2 Near MC axon cap\n",
      "local-nb_cs-ii-29_import-tests (  36): INFO : i_mask =  32, use_mask = True , overlap_count =        5, allowed_overlap_size =       70, name = Diencephalon - Hypothalamus s1181t Cluster\n",
      "local-nb_cs-ii-29_import-tests (  36): INFO : i_mask = 116, use_mask = True , overlap_count =        0, allowed_overlap_size =       71, name = Rhombencephalon - 6.7FDhcrtR-Gal4 Cluster 3\n",
      "local-nb_cs-ii-29_import-tests (  36): INFO : i_mask =  24, use_mask = True , overlap_count =        0, allowed_overlap_size =       72, name = Diencephalon - Hypothalamus Olig2 cluster 2\n",
      "local-nb_cs-ii-29_import-tests (  36): INFO : i_mask = 187, use_mask = False, overlap_count =      251, allowed_overlap_size =       74, name = Rhombencephalon - MiD3\n",
      "local-nb_cs-ii-29_import-tests (  36): INFO : i_mask = 229, use_mask = True , overlap_count =        0, allowed_overlap_size =       74, name = Rhombencephalon - RoM2\n",
      "local-nb_cs-ii-29_import-tests (  36): INFO : i_mask = 115, use_mask = False, overlap_count =     1257, allowed_overlap_size =       76, name = Rhombencephalon - 6.7FDhcrtR-Gal4 Cluster 2 Sparse\n",
      "local-nb_cs-ii-29_import-tests (  36): INFO : i_mask = 178, use_mask = True , overlap_count =        0, allowed_overlap_size =       76, name = Rhombencephalon - Isl1 Cluster 3\n",
      "local-nb_cs-ii-29_import-tests (  36): INFO : i_mask =  83, use_mask = True , overlap_count =        0, allowed_overlap_size =       76, name = Ganglia - Lateral Line Neuromast O1\n",
      "local-nb_cs-ii-29_import-tests (  36): INFO : i_mask =  81, use_mask = True , overlap_count =        0, allowed_overlap_size =       77, name = Ganglia - Lateral Line Neuromast D2\n",
      "local-nb_cs-ii-29_import-tests (  36): INFO : i_mask = 249, use_mask = True , overlap_count =        0, allowed_overlap_size =       77, name = Rhombencephalon - Vglut2 cluster 4\n",
      "local-nb_cs-ii-29_import-tests (  36): INFO : i_mask =  20, use_mask = True , overlap_count =        0, allowed_overlap_size =       82, name = Diencephalon - Hypothalamus Gad1b Cluster 2\n",
      "local-nb_cs-ii-29_import-tests (  36): INFO : i_mask = 121, use_mask = True , overlap_count =        0, allowed_overlap_size =       84, name = Rhombencephalon - 6.7FDhcrtR-Gal4 Stripe 3\n",
      "local-nb_cs-ii-29_import-tests (  36): INFO : i_mask =   2, use_mask = True , overlap_count =        0, allowed_overlap_size =       85, name = Diencephalon - Anterior preoptic dopaminergic cluster\n",
      "local-nb_cs-ii-29_import-tests (  36): INFO : i_mask = 225, use_mask = True , overlap_count =        0, allowed_overlap_size =       86, name = Rhombencephalon - RoL-R1\n",
      "local-nb_cs-ii-29_import-tests (  36): INFO : i_mask =  71, use_mask = True , overlap_count =        0, allowed_overlap_size =       87, name = Diencephalon - Retinal Arborization Field 6 (AF6)\n",
      "local-nb_cs-ii-29_import-tests (  36): INFO : i_mask =  52, use_mask = True , overlap_count =        0, allowed_overlap_size =       88, name = Diencephalon - Oxtl Cluster 4 - sparse in hypothalamus\n",
      "local-nb_cs-ii-29_import-tests (  36): INFO : i_mask = 140, use_mask = False, overlap_count =     3438, allowed_overlap_size =       90, name = Rhombencephalon - Gad1b Cluster 15\n",
      "local-nb_cs-ii-29_import-tests (  36): INFO : i_mask = 180, use_mask = True , overlap_count =        0, allowed_overlap_size =       91, name = Rhombencephalon - Lateral Reticular Nucleus\n",
      "local-nb_cs-ii-29_import-tests (  36): INFO : i_mask = 263, use_mask = True , overlap_count =        0, allowed_overlap_size =       91, name = Spinal Cord - Gad1b Stripe 2\n",
      "local-nb_cs-ii-29_import-tests (  36): INFO : i_mask = 143, use_mask = True , overlap_count =        0, allowed_overlap_size =       91, name = Rhombencephalon - Gad1b Cluster 18\n",
      "local-nb_cs-ii-29_import-tests (  36): INFO : i_mask =  74, use_mask = True , overlap_count =        0, allowed_overlap_size =       91, name = Diencephalon - Torus Lateralis\n",
      "local-nb_cs-ii-29_import-tests (  36): INFO : i_mask =  67, use_mask = True , overlap_count =       22, allowed_overlap_size =       93, name = Diencephalon - Retinal Arborization Field 2 (AF2, Approximate Location)\n",
      "local-nb_cs-ii-29_import-tests (  36): INFO : i_mask = 234, use_mask = False, overlap_count =     1565, allowed_overlap_size =       96, name = Rhombencephalon - Spinal Backfill Vestibular Population\n",
      "local-nb_cs-ii-29_import-tests (  36): INFO : i_mask = 124, use_mask = True , overlap_count =        0, allowed_overlap_size =       97, name = Rhombencephalon - Area Postrema\n",
      "local-nb_cs-ii-29_import-tests (  36): INFO : i_mask = 207, use_mask = False, overlap_count =      169, allowed_overlap_size =      100, name = Rhombencephalon - Otpb Cluster 4\n",
      "local-nb_cs-ii-29_import-tests (  36): INFO : i_mask = 230, use_mask = False, overlap_count =      747, allowed_overlap_size =      102, name = Rhombencephalon - RoM3\n",
      "local-nb_cs-ii-29_import-tests (  36): INFO : i_mask = 205, use_mask = False, overlap_count =      176, allowed_overlap_size =      102, name = Rhombencephalon - Otpb Cluster 2 - locus coeruleus\n",
      "local-nb_cs-ii-29_import-tests (  36): INFO : i_mask = 146, use_mask = True , overlap_count =        0, allowed_overlap_size =      102, name = Rhombencephalon - Gad1b Cluster 20\n",
      "local-nb_cs-ii-29_import-tests (  36): INFO : i_mask = 250, use_mask = True , overlap_count =        0, allowed_overlap_size =      102, name = Rhombencephalon - Vmat2 Cluster 1\n",
      "local-nb_cs-ii-29_import-tests (  36): INFO : i_mask =  18, use_mask = False, overlap_count =      274, allowed_overlap_size =      104, name = Diencephalon - Hypothalamus 6.7FRhcrtR-Gal4 cluster 2\n",
      "local-nb_cs-ii-29_import-tests (  36): INFO : i_mask =   8, use_mask = False, overlap_count =     1027, allowed_overlap_size =      106, name = Diencephalon - Dopaminergic Cluster 3 - hypothalamus\n",
      "local-nb_cs-ii-29_import-tests (  36): INFO : i_mask =  85, use_mask = True , overlap_count =        0, allowed_overlap_size =      108, name = Ganglia - Lateral Line Neuromast SO1\n",
      "local-nb_cs-ii-29_import-tests (  36): INFO : i_mask =  23, use_mask = True , overlap_count =        0, allowed_overlap_size =      120, name = Diencephalon - Hypothalamus Olig2 cluster\n",
      "local-nb_cs-ii-29_import-tests (  36): INFO : i_mask = 201, use_mask = True , overlap_count =      121, allowed_overlap_size =      121, name = Rhombencephalon - Olig2 Cluster\n",
      "local-nb_cs-ii-29_import-tests (  36): INFO : i_mask =  99, use_mask = True , overlap_count =        0, allowed_overlap_size =      123, name = Mesencephalon - Oxtl Cluster Sparse\n",
      "local-nb_cs-ii-29_import-tests (  36): INFO : i_mask =  68, use_mask = True , overlap_count =        0, allowed_overlap_size =      126, name = Diencephalon - Retinal Arborization Field 3 (AF3)\n",
      "local-nb_cs-ii-29_import-tests (  36): INFO : i_mask = 101, use_mask = True , overlap_count =        0, allowed_overlap_size =      129, name = Mesencephalon - Retinal Arborization Field 7 (AF7)\n",
      "local-nb_cs-ii-29_import-tests (  36): INFO : i_mask = 287, use_mask = True , overlap_count =        0, allowed_overlap_size =      129, name = Telencephalon - Subpallial Otpb strip\n",
      "local-nb_cs-ii-29_import-tests (  36): INFO : i_mask = 257, use_mask = True , overlap_count =        1, allowed_overlap_size =      140, name = Rhombencephalon - Vmat2 Stripe3\n",
      "local-nb_cs-ii-29_import-tests (  36): INFO : i_mask = 100, use_mask = True , overlap_count =        0, allowed_overlap_size =      142, name = Mesencephalon - Ptf1a Cluster\n",
      "local-nb_cs-ii-29_import-tests (  36): INFO : i_mask = 212, use_mask = False, overlap_count =      830, allowed_overlap_size =      144, name = Rhombencephalon - Posterior Cluster of nV Trigeminal Motorneurons\n",
      "local-nb_cs-ii-29_import-tests (  36): INFO : i_mask =  10, use_mask = True , overlap_count =        0, allowed_overlap_size =      145, name = Diencephalon - Dopaminergic Cluster 6 - hypothalamus\n",
      "local-nb_cs-ii-29_import-tests (  36): INFO : i_mask = 273, use_mask = True , overlap_count =        0, allowed_overlap_size =      155, name = Spinal Cord - Vmat2 Stripe2\n",
      "local-nb_cs-ii-29_import-tests (  36): INFO : i_mask =  78, use_mask = False, overlap_count =     3433, allowed_overlap_size =      155, name = Ganglia - Facial Sensory Ganglion\n",
      "local-nb_cs-ii-29_import-tests (  36): INFO : i_mask = 162, use_mask = False, overlap_count =     3212, allowed_overlap_size =      157, name = Rhombencephalon - Glyt2 Cluster 14\n",
      "local-nb_cs-ii-29_import-tests (  36): INFO : i_mask =  62, use_mask = True , overlap_count =        0, allowed_overlap_size =      158, name = Diencephalon - Preoptic area posterior dopaminergic cluster\n",
      "local-nb_cs-ii-29_import-tests (  36): INFO : i_mask =  55, use_mask = True , overlap_count =        0, allowed_overlap_size =      161, name = Diencephalon - Pineal Vmat2 cluster \n",
      "local-nb_cs-ii-29_import-tests (  36): INFO : i_mask = 179, use_mask = False, overlap_count =      536, allowed_overlap_size =      169, name = Rhombencephalon - Isl1 Stripe 1\n",
      "local-nb_cs-ii-29_import-tests (  36): INFO : i_mask =  82, use_mask = True , overlap_count =        0, allowed_overlap_size =      170, name = Ganglia - Lateral Line Neuromast N\n",
      "local-nb_cs-ii-29_import-tests (  36): INFO : i_mask = 112, use_mask = False, overlap_count =      951, allowed_overlap_size =      171, name = Mesencephalon - Vmat2 cluster2\n",
      "local-nb_cs-ii-29_import-tests (  36): INFO : i_mask =  51, use_mask = False, overlap_count =     3425, allowed_overlap_size =      174, name = Diencephalon - Oxtl Cluster 3\n",
      "local-nb_cs-ii-29_import-tests (  36): INFO : i_mask = 142, use_mask = True , overlap_count =        0, allowed_overlap_size =      175, name = Rhombencephalon - Gad1b Cluster 17\n",
      "local-nb_cs-ii-29_import-tests (  36): INFO : i_mask =  98, use_mask = True , overlap_count =      178, allowed_overlap_size =      180, name = Mesencephalon - Otpb Cluster\n",
      "local-nb_cs-ii-29_import-tests (  36): INFO : i_mask =  54, use_mask = False, overlap_count =     7513, allowed_overlap_size =      181, name = Diencephalon - Pineal\n",
      "local-nb_cs-ii-29_import-tests (  36): INFO : i_mask = 151, use_mask = True , overlap_count =        0, allowed_overlap_size =      182, name = Rhombencephalon - Gad1b Cluster 7\n",
      "local-nb_cs-ii-29_import-tests (  36): INFO : i_mask = 167, use_mask = False, overlap_count =      637, allowed_overlap_size =      184, name = Rhombencephalon - Glyt2 Cluster 6\n",
      "local-nb_cs-ii-29_import-tests (  36): INFO : i_mask = 122, use_mask = False, overlap_count =      577, allowed_overlap_size =      184, name = Rhombencephalon - 6.7FDhcrtR-Gal4 Stripe 4\n",
      "local-nb_cs-ii-29_import-tests (  36): INFO : i_mask =  36, use_mask = True , overlap_count =        0, allowed_overlap_size =      187, name = Diencephalon - Isl1 cluster 2\n",
      "local-nb_cs-ii-29_import-tests (  36): INFO : i_mask =   7, use_mask = False, overlap_count =     1042, allowed_overlap_size =      190, name = Diencephalon - Dopaminergic Cluster 2 - posterior tuberculum\n",
      "local-nb_cs-ii-29_import-tests (  36): INFO : i_mask = 216, use_mask = False, overlap_count =      789, allowed_overlap_size =      197, name = Rhombencephalon - Raphe - Inferior\n",
      "local-nb_cs-ii-29_import-tests (  36): INFO : i_mask = 288, use_mask = True , overlap_count =        0, allowed_overlap_size =      200, name = Telencephalon - Subpallial Vglut2 Cluster\n",
      "local-nb_cs-ii-29_import-tests (  36): INFO : i_mask =  48, use_mask = False, overlap_count =     1921, allowed_overlap_size =      202, name = Diencephalon - Otpb Cluster 4\n",
      "local-nb_cs-ii-29_import-tests (  36): INFO : i_mask =  22, use_mask = False, overlap_count =     6841, allowed_overlap_size =      213, name = Diencephalon - Hypothalamus Hcrt Neurons\n",
      "local-nb_cs-ii-29_import-tests (  36): INFO : i_mask = 289, use_mask = True , overlap_count =        0, allowed_overlap_size =      214, name = Telencephalon - Subpallial dopaminergic cluster\n",
      "local-nb_cs-ii-29_import-tests (  36): INFO : i_mask = 139, use_mask = True , overlap_count =        0, allowed_overlap_size =      221, name = Rhombencephalon - Gad1b Cluster 14\n",
      "local-nb_cs-ii-29_import-tests (  36): INFO : i_mask = 118, use_mask = True , overlap_count =        0, allowed_overlap_size =      222, name = Rhombencephalon - 6.7FDhcrtR-Gal4 Cluster 5\n",
      "local-nb_cs-ii-29_import-tests (  36): INFO : i_mask =  13, use_mask = False, overlap_count =     3131, allowed_overlap_size =      230, name = Diencephalon - Eminentia Thalami\n",
      "local-nb_cs-ii-29_import-tests (  36): INFO : i_mask =  86, use_mask = True , overlap_count =        0, allowed_overlap_size =      234, name = Ganglia - Lateral Line Neuromast SO2\n",
      "local-nb_cs-ii-29_import-tests (  36): INFO : i_mask =  96, use_mask = True , overlap_count =        1, allowed_overlap_size =      235, name = Mesencephalon - NucMLF (nucleus of the medial longitudinal fascicle)\n",
      "local-nb_cs-ii-29_import-tests (  36): INFO : i_mask =  40, use_mask = False, overlap_count =     3103, allowed_overlap_size =      237, name = Diencephalon - Migrated Area of the Pretectum (M1)\n",
      "local-nb_cs-ii-29_import-tests (  36): INFO : i_mask = 200, use_mask = True , overlap_count =        0, allowed_overlap_size =      239, name = Rhombencephalon - Oculomotor Nucleus nIV\n",
      "local-nb_cs-ii-29_import-tests (  36): INFO : i_mask =  45, use_mask = True , overlap_count =        6, allowed_overlap_size =      242, name = Diencephalon - Otpb Cluster 1\n",
      "local-nb_cs-ii-29_import-tests (  36): INFO : i_mask = 141, use_mask = True , overlap_count =        0, allowed_overlap_size =      247, name = Rhombencephalon - Gad1b Cluster 16\n",
      "local-nb_cs-ii-29_import-tests (  36): INFO : i_mask = 241, use_mask = True , overlap_count =        0, allowed_overlap_size =      259, name = Rhombencephalon - Ventrolateral population of serotonergic neurons\n",
      "local-nb_cs-ii-29_import-tests (  36): INFO : i_mask = 103, use_mask = True , overlap_count =        0, allowed_overlap_size =      259, name = Mesencephalon - Retinal Arborization Field 9 (AF9)\n",
      "local-nb_cs-ii-29_import-tests (  36): INFO : i_mask = 256, use_mask = False, overlap_count =     1399, allowed_overlap_size =      278, name = Rhombencephalon - Vmat2 Stripe2\n",
      "local-nb_cs-ii-29_import-tests (  36): INFO : i_mask =  17, use_mask = False, overlap_count =     1282, allowed_overlap_size =      290, name = Diencephalon - Hypothalamus 6.7FRhcrtR-Gal4 cluster 1\n",
      "local-nb_cs-ii-29_import-tests (  36): INFO : i_mask = 114, use_mask = False, overlap_count =     2221, allowed_overlap_size =      297, name = Rhombencephalon - 6.7FDhcrtR-Gal4 Cluster 1\n",
      "local-nb_cs-ii-29_import-tests (  36): INFO : i_mask =  16, use_mask = True , overlap_count =        0, allowed_overlap_size =      298, name = Diencephalon - Hypothalamus - Intermediate Hypothalamus Neural Cluster\n",
      "local-nb_cs-ii-29_import-tests (  36): INFO : i_mask = 281, use_mask = True , overlap_count =        0, allowed_overlap_size =      301, name = Telencephalon - Optic Commissure\n",
      "local-nb_cs-ii-29_import-tests (  36): INFO : i_mask = 261, use_mask = True , overlap_count =        0, allowed_overlap_size =      304, name = Spinal Cord - Dorsal Sparse Isl1 cluster\n",
      "local-nb_cs-ii-29_import-tests (  36): INFO : i_mask = 171, use_mask = True , overlap_count =        0, allowed_overlap_size =      305, name = Rhombencephalon - Glyt2 Stripe 1\n",
      "local-nb_cs-ii-29_import-tests (  36): INFO : i_mask = 237, use_mask = False, overlap_count =     1081, allowed_overlap_size =      309, name = Rhombencephalon - Tangential Vestibular Nucleus\n",
      "local-nb_cs-ii-29_import-tests (  36): INFO : i_mask = 128, use_mask = True , overlap_count =        0, allowed_overlap_size =      311, name = Rhombencephalon - Cerebellar Neuropil 1\n",
      "local-nb_cs-ii-29_import-tests (  36): INFO : i_mask = 291, use_mask = True , overlap_count =        0, allowed_overlap_size =      312, name = Telencephalon - Telencephalic Migrated Area 4 (M4)\n",
      "local-nb_cs-ii-29_import-tests (  36): INFO : i_mask = 127, use_mask = False, overlap_count =     4392, allowed_overlap_size =      316, name = Rhombencephalon - Caudal Ventral Cluster Labelled by Spinal Backfills\n",
      "local-nb_cs-ii-29_import-tests (  36): INFO : i_mask =  27, use_mask = True , overlap_count =        0, allowed_overlap_size =      317, name = Diencephalon - Hypothalamus Vglut2 Cluster 2\n",
      "local-nb_cs-ii-29_import-tests (  36): INFO : i_mask =   9, use_mask = False, overlap_count =    13671, allowed_overlap_size =      323, name = Diencephalon - Dopaminergic Cluster 4/5 - posterior tuberculum and hypothalamus\n",
      "local-nb_cs-ii-29_import-tests (  36): INFO : i_mask = 182, use_mask = False, overlap_count =     2771, allowed_overlap_size =      324, name = Rhombencephalon - Locus Coreuleus\n",
      "local-nb_cs-ii-29_import-tests (  36): INFO : i_mask =  47, use_mask = True , overlap_count =       80, allowed_overlap_size =      333, name = Diencephalon - Otpb Cluster 3\n",
      "local-nb_cs-ii-29_import-tests (  36): INFO : i_mask = 268, use_mask = False, overlap_count =     5256, allowed_overlap_size =      343, name = Spinal Cord - Olig2 Stripe\n",
      "local-nb_cs-ii-29_import-tests (  36): INFO : i_mask = 279, use_mask = True , overlap_count =        0, allowed_overlap_size =      346, name = Telencephalon - Olfactory bulb dopaminergic neuron areas\n",
      "local-nb_cs-ii-29_import-tests (  36): INFO : i_mask =  69, use_mask = True , overlap_count =      334, allowed_overlap_size =      346, name = Diencephalon - Retinal Arborization Field 4 (AF4)\n",
      "local-nb_cs-ii-29_import-tests (  36): INFO : i_mask = 148, use_mask = True , overlap_count =      127, allowed_overlap_size =      348, name = Rhombencephalon - Gad1b Cluster 4\n",
      "local-nb_cs-ii-29_import-tests (  36): INFO : i_mask =  25, use_mask = False, overlap_count =     6552, allowed_overlap_size =      349, name = Diencephalon - Hypothalamus Qrfp neuron cluster\n",
      "local-nb_cs-ii-29_import-tests (  36): INFO : i_mask = 271, use_mask = False, overlap_count =     7231, allowed_overlap_size =      349, name = Spinal Cord - Vglut2 Stripe 3\n",
      "local-nb_cs-ii-29_import-tests (  36): INFO : i_mask =  44, use_mask = False, overlap_count =    20434, allowed_overlap_size =      352, name = Diencephalon - Optic Chiasm\n",
      "local-nb_cs-ii-29_import-tests (  36): INFO : i_mask =  58, use_mask = True , overlap_count =        0, allowed_overlap_size =      362, name = Diencephalon - Postoptic Commissure\n",
      "local-nb_cs-ii-29_import-tests (  36): INFO : i_mask = 181, use_mask = True , overlap_count =        0, allowed_overlap_size =      371, name = Rhombencephalon - Lobus caudalis cerebelli\n",
      "local-nb_cs-ii-29_import-tests (  36): INFO : i_mask = 119, use_mask = True , overlap_count =       25, allowed_overlap_size =      376, name = Rhombencephalon - 6.7FDhcrtR-Gal4 Stripe 1\n",
      "local-nb_cs-ii-29_import-tests (  36): INFO : i_mask = 243, use_mask = False, overlap_count =     1146, allowed_overlap_size =      380, name = Rhombencephalon - Vglut2 Stripe 2\n",
      "local-nb_cs-ii-29_import-tests (  36): INFO : i_mask = 280, use_mask = True , overlap_count =        0, allowed_overlap_size =      386, name = Telencephalon - Olig2 Cluster\n",
      "local-nb_cs-ii-29_import-tests (  36): INFO : i_mask = 185, use_mask = False, overlap_count =     3488, allowed_overlap_size =      401, name = Rhombencephalon - Medial Vestibular Nucleus\n",
      "local-nb_cs-ii-29_import-tests (  36): INFO : i_mask = 111, use_mask = False, overlap_count =     2946, allowed_overlap_size =      419, name = Mesencephalon - Vmat2 cluster of paraventricular organ\n",
      "local-nb_cs-ii-29_import-tests (  36): INFO : i_mask =  11, use_mask = False, overlap_count =     4985, allowed_overlap_size =      422, name = Diencephalon - Dopaminergic Cluster 7 - Caudal Hypothalamus\n",
      "local-nb_cs-ii-29_import-tests (  36): INFO : i_mask =  94, use_mask = True , overlap_count =        0, allowed_overlap_size =      423, name = Mesencephalon - Isl1 cluster of the mesencephalic region\n",
      "local-nb_cs-ii-29_import-tests (  36): INFO : i_mask = 147, use_mask = True , overlap_count =      326, allowed_overlap_size =      424, name = Rhombencephalon - Gad1b Cluster 3\n",
      "local-nb_cs-ii-29_import-tests (  36): INFO : i_mask =  63, use_mask = True , overlap_count =        0, allowed_overlap_size =      426, name = Diencephalon - Pretectal Gad1b Cluster\n",
      "local-nb_cs-ii-29_import-tests (  36): INFO : i_mask = 176, use_mask = False, overlap_count =     2308, allowed_overlap_size =      437, name = Rhombencephalon - Isl1 Cluster 1\n",
      "local-nb_cs-ii-29_import-tests (  36): INFO : i_mask = 174, use_mask = True , overlap_count =        0, allowed_overlap_size =      442, name = Rhombencephalon - Inferior Olive\n",
      "local-nb_cs-ii-29_import-tests (  36): INFO : i_mask = 272, use_mask = False, overlap_count =     8994, allowed_overlap_size =      450, name = Spinal Cord - Vmat2 Stripe1\n",
      "local-nb_cs-ii-29_import-tests (  36): INFO : i_mask =  60, use_mask = False, overlap_count =    10170, allowed_overlap_size =      461, name = Diencephalon - Preoptic Otpb Cluster\n",
      "local-nb_cs-ii-29_import-tests (  36): INFO : i_mask = 238, use_mask = False, overlap_count =     1999, allowed_overlap_size =      467, name = Rhombencephalon - VII Facial Motor and octavolateralis efferent neurons\n",
      "local-nb_cs-ii-29_import-tests (  36): INFO : i_mask = 246, use_mask = False, overlap_count =     1143, allowed_overlap_size =      469, name = Rhombencephalon - Vglut2 cluster 1\n",
      "local-nb_cs-ii-29_import-tests (  36): INFO : i_mask = 120, use_mask = False, overlap_count =    10181, allowed_overlap_size =      472, name = Rhombencephalon - 6.7FDhcrtR-Gal4 Stripe 2\n",
      "local-nb_cs-ii-29_import-tests (  36): INFO : i_mask = 215, use_mask = True , overlap_count =      330, allowed_overlap_size =      483, name = Rhombencephalon - Qrfp neuron cluster sparse\n",
      "local-nb_cs-ii-29_import-tests (  36): INFO : i_mask =  26, use_mask = True , overlap_count =        0, allowed_overlap_size =      494, name = Diencephalon - Hypothalamus Vglut2 Cluster 1\n",
      "local-nb_cs-ii-29_import-tests (  36): INFO : i_mask = 108, use_mask = True , overlap_count =       67, allowed_overlap_size =      502, name = Mesencephalon - Torus Longitudinalis\n",
      "local-nb_cs-ii-29_import-tests (  36): INFO : i_mask =  46, use_mask = False, overlap_count =     4242, allowed_overlap_size =      505, name = Diencephalon - Otpb Cluster 2 \n",
      "local-nb_cs-ii-29_import-tests (  36): INFO : i_mask = 134, use_mask = True , overlap_count =      494, allowed_overlap_size =      524, name = Rhombencephalon - Gad1b Cluster 1\n",
      "local-nb_cs-ii-29_import-tests (  36): INFO : i_mask = 277, use_mask = True , overlap_count =      138, allowed_overlap_size =      554, name = Telencephalon - Isl1 cluster 2\n",
      "local-nb_cs-ii-29_import-tests (  36): INFO : i_mask = 123, use_mask = False, overlap_count =    17678, allowed_overlap_size =      555, name = Rhombencephalon - Anterior Cluster of nV Trigeminal Motorneurons\n",
      "local-nb_cs-ii-29_import-tests (  36): INFO : i_mask = 172, use_mask = False, overlap_count =     1690, allowed_overlap_size =      559, name = Rhombencephalon - Glyt2 Stripe 2\n",
      "local-nb_cs-ii-29_import-tests (  36): INFO : i_mask =  19, use_mask = True , overlap_count =        0, allowed_overlap_size =      566, name = Diencephalon - Hypothalamus Gad1b Cluster 1\n",
      "local-nb_cs-ii-29_import-tests (  36): INFO : i_mask =  38, use_mask = True , overlap_count =        0, allowed_overlap_size =      570, name = Diencephalon - Left Habenula Vglut2 Cluster\n",
      "local-nb_cs-ii-29_import-tests (  36): INFO : i_mask =  76, use_mask = True , overlap_count =        0, allowed_overlap_size =      583, name = Ganglia - Anterior Lateral Line Ganglion\n",
      "local-nb_cs-ii-29_import-tests (  36): INFO : i_mask =  33, use_mask = False, overlap_count =    23559, allowed_overlap_size =      597, name = Diencephalon - Hypothamic VentroLateral VMAT cluster\n",
      "local-nb_cs-ii-29_import-tests (  36): INFO : i_mask = 284, use_mask = False, overlap_count =    10509, allowed_overlap_size =      597, name = Telencephalon - S1181t Cluster\n",
      "local-nb_cs-ii-29_import-tests (  36): INFO : i_mask = 138, use_mask = False, overlap_count =     9783, allowed_overlap_size =      600, name = Rhombencephalon - Gad1b Cluster 13\n",
      "local-nb_cs-ii-29_import-tests (  36): INFO : i_mask = 265, use_mask = True , overlap_count =       33, allowed_overlap_size =      601, name = Spinal Cord - Isl1 stripe - motorneurons\n",
      "local-nb_cs-ii-29_import-tests (  36): INFO : i_mask =   6, use_mask = False, overlap_count =     8260, allowed_overlap_size =      610, name = Diencephalon - Dopaminergic Cluster 1 - ventral thalamic and periventricular posterior tubercular DA neurons\n",
      "local-nb_cs-ii-29_import-tests (  36): INFO : i_mask = 293, use_mask = False, overlap_count =    15889, allowed_overlap_size =      613, name = Telencephalon - Vmat2 cluster\n",
      "local-nb_cs-ii-29_import-tests (  36): INFO : i_mask =  30, use_mask = True , overlap_count =      537, allowed_overlap_size =      629, name = Diencephalon - Hypothalamus Vglut2 Cluster 5\n",
      "local-nb_cs-ii-29_import-tests (  36): INFO : i_mask = 213, use_mask = False, overlap_count =    20279, allowed_overlap_size =      639, name = Rhombencephalon - Ptf1a Cluster 1\n",
      "local-nb_cs-ii-29_import-tests (  36): INFO : i_mask =  97, use_mask = False, overlap_count =    22379, allowed_overlap_size =      642, name = Mesencephalon - Oculomotor Nucleus nIII\n",
      "local-nb_cs-ii-29_import-tests (  36): INFO : i_mask = 217, use_mask = False, overlap_count =    20008, allowed_overlap_size =      648, name = Rhombencephalon - Raphe - Superior\n",
      "local-nb_cs-ii-29_import-tests (  36): INFO : i_mask =  72, use_mask = True , overlap_count =        0, allowed_overlap_size =      650, name = Diencephalon - Right Habenula Vglut2 Cluster\n",
      "local-nb_cs-ii-29_import-tests (  36): INFO : i_mask =  39, use_mask = False, overlap_count =     2013, allowed_overlap_size =      659, name = Diencephalon - Medial vglut2 cluster\n",
      "local-nb_cs-ii-29_import-tests (  36): INFO : i_mask =  31, use_mask = False, overlap_count =     3341, allowed_overlap_size =      665, name = Diencephalon - Hypothalamus Vglut2 Cluster 6\n",
      "local-nb_cs-ii-29_import-tests (  36): INFO : i_mask = 254, use_mask = False, overlap_count =     1548, allowed_overlap_size =      689, name = Rhombencephalon - Vmat2 Cluster 5\n",
      "local-nb_cs-ii-29_import-tests (  36): INFO : i_mask = 202, use_mask = False, overlap_count =     3752, allowed_overlap_size =      695, name = Rhombencephalon - Olig2 Stripe\n",
      "local-nb_cs-ii-29_import-tests (  36): INFO : i_mask = 209, use_mask = True , overlap_count =        0, allowed_overlap_size =      696, name = Rhombencephalon - Otpb Cluster 6\n",
      "local-nb_cs-ii-29_import-tests (  36): INFO : i_mask =  41, use_mask = False, overlap_count =    29169, allowed_overlap_size =      712, name = Diencephalon - Migrated Posterior Tubercular Area (M2)\n",
      "local-nb_cs-ii-29_import-tests (  36): INFO : i_mask = 110, use_mask = False, overlap_count =     2961, allowed_overlap_size =      718, name = Mesencephalon - Vglut2 cluster 1\n",
      "local-nb_cs-ii-29_import-tests (  36): INFO : i_mask = 275, use_mask = True , overlap_count =      283, allowed_overlap_size =      721, name = Telencephalon - Anterior Commisure\n",
      "local-nb_cs-ii-29_import-tests (  36): INFO : i_mask = 175, use_mask = False, overlap_count =    29811, allowed_overlap_size =      728, name = Rhombencephalon - Interpeduncular Nucleus\n",
      "local-nb_cs-ii-29_import-tests (  36): INFO : i_mask =  89, use_mask = True , overlap_count =        0, allowed_overlap_size =      739, name = Ganglia - Posterior Lateral Line Ganglia\n",
      "local-nb_cs-ii-29_import-tests (  36): INFO : i_mask = 198, use_mask = False, overlap_count =     5912, allowed_overlap_size =      745, name = Rhombencephalon - Neuropil Region 6\n",
      "local-nb_cs-ii-29_import-tests (  36): INFO : i_mask = 199, use_mask = False, overlap_count =    12415, allowed_overlap_size =      745, name = Rhombencephalon - Noradrendergic neurons of the Interfascicular and Vagal areas\n",
      "local-nb_cs-ii-29_import-tests (  36): INFO : i_mask = 270, use_mask = False, overlap_count =     2891, allowed_overlap_size =      761, name = Spinal Cord - Vglut2 Stripe 2\n",
      "local-nb_cs-ii-29_import-tests (  36): INFO : i_mask = 286, use_mask = False, overlap_count =     9038, allowed_overlap_size =      790, name = Telencephalon - Subpallial Otpb Cluster 2\n",
      "local-nb_cs-ii-29_import-tests (  36): INFO : i_mask = 161, use_mask = False, overlap_count =    10407, allowed_overlap_size =      853, name = Rhombencephalon - Glyt2 Cluster 13\n",
      "local-nb_cs-ii-29_import-tests (  36): INFO : i_mask =  91, use_mask = True , overlap_count =      583, allowed_overlap_size =      889, name = Ganglia - Trigeminal Ganglion\n",
      "local-nb_cs-ii-29_import-tests (  36): INFO : i_mask = 145, use_mask = False, overlap_count =     1346, allowed_overlap_size =      906, name = Rhombencephalon - Gad1b Cluster 2\n",
      "local-nb_cs-ii-29_import-tests (  36): INFO : i_mask =  49, use_mask = False, overlap_count =     7466, allowed_overlap_size =      925, name = Diencephalon - Oxtl Cluster 1 in Preoptic Area\n",
      "local-nb_cs-ii-29_import-tests (  36): INFO : i_mask =  21, use_mask = True , overlap_count =      404, allowed_overlap_size =      932, name = Diencephalon - Hypothalamus Gad1b Cluster 3 Sparse\n",
      "local-nb_cs-ii-29_import-tests (  36): INFO : i_mask = 244, use_mask = False, overlap_count =    18172, allowed_overlap_size =      950, name = Rhombencephalon - Vglut2 Stripe 3\n",
      "local-nb_cs-ii-29_import-tests (  36): INFO : i_mask =  28, use_mask = False, overlap_count =     5367, allowed_overlap_size =      961, name = Diencephalon - Hypothalamus Vglut2 Cluster 3\n",
      "local-nb_cs-ii-29_import-tests (  36): INFO : i_mask = 276, use_mask = False, overlap_count =     2232, allowed_overlap_size =      969, name = Telencephalon - Isl1 cluster 1\n",
      "local-nb_cs-ii-29_import-tests (  36): INFO : i_mask = 157, use_mask = False, overlap_count =    13927, allowed_overlap_size =     1058, name = Rhombencephalon - Glyt2 Cluster 1\n",
      "local-nb_cs-ii-29_import-tests (  36): INFO : i_mask =  92, use_mask = False, overlap_count =    13956, allowed_overlap_size =     1061, name = Ganglia - Vagal Ganglia\n",
      "local-nb_cs-ii-29_import-tests (  36): INFO : i_mask =  64, use_mask = False, overlap_count =    26549, allowed_overlap_size =     1072, name = Diencephalon - Pretectal dopaminergic cluster\n",
      "local-nb_cs-ii-29_import-tests (  36): INFO : i_mask = 266, use_mask = False, overlap_count =    23907, allowed_overlap_size =     1176, name = Spinal Cord - Neurons with descending projections labelled by spinal backfills\n",
      "local-nb_cs-ii-29_import-tests (  36): INFO : i_mask =  56, use_mask = False, overlap_count =     6901, allowed_overlap_size =     1176, name = Diencephalon - Pituitary\n",
      "local-nb_cs-ii-29_import-tests (  36): INFO : i_mask = 155, use_mask = False, overlap_count =    30443, allowed_overlap_size =     1183, name = Rhombencephalon - Gad1b Stripe 2\n",
      "local-nb_cs-ii-29_import-tests (  36): INFO : i_mask = 283, use_mask = False, overlap_count =    39894, allowed_overlap_size =     1208, name = Telencephalon - Postoptic Commissure\n",
      "local-nb_cs-ii-29_import-tests (  36): INFO : i_mask =  42, use_mask = True , overlap_count =       33, allowed_overlap_size =     1243, name = Diencephalon - Olig2 Band\n",
      "local-nb_cs-ii-29_import-tests (  36): INFO : i_mask = 269, use_mask = False, overlap_count =    21048, allowed_overlap_size =     1301, name = Spinal Cord - Vglut2 Stripe 1\n",
      "local-nb_cs-ii-29_import-tests (  36): INFO : i_mask = 173, use_mask = False, overlap_count =     7874, allowed_overlap_size =     1303, name = Rhombencephalon - Glyt2 Stripe 3\n",
      "local-nb_cs-ii-29_import-tests (  36): INFO : i_mask = 133, use_mask = False, overlap_count =    18167, allowed_overlap_size =     1331, name = Rhombencephalon - Eminentia Granularis\n",
      "local-nb_cs-ii-29_import-tests (  36): INFO : i_mask =  79, use_mask = True , overlap_count =        0, allowed_overlap_size =     1367, name = Ganglia - Facial glossopharyngeal ganglion\n",
      "local-nb_cs-ii-29_import-tests (  36): INFO : i_mask = 240, use_mask = True , overlap_count =      113, allowed_overlap_size =     1372, name = Rhombencephalon - Valvula Cerebelli\n",
      "local-nb_cs-ii-29_import-tests (  36): INFO : i_mask = 232, use_mask = False, overlap_count =    18837, allowed_overlap_size =     1392, name = Rhombencephalon - S1181t Cluster\n",
      "local-nb_cs-ii-29_import-tests (  36): INFO : i_mask = 258, use_mask = False, overlap_count =    30243, allowed_overlap_size =     1393, name = Rhombencephalon - X Vagus motorneuron cluster\n",
      "local-nb_cs-ii-29_import-tests (  36): INFO : i_mask = 262, use_mask = True , overlap_count =      781, allowed_overlap_size =     1434, name = Spinal Cord - Gad1b Stripe 1\n",
      "local-nb_cs-ii-29_import-tests (  36): INFO : i_mask = 203, use_mask = False, overlap_count =    25615, allowed_overlap_size =     1484, name = Rhombencephalon - Olig2 enriched areas in cerebellum\n",
      "local-nb_cs-ii-29_import-tests (  36): INFO : i_mask =  75, use_mask = False, overlap_count =    26085, allowed_overlap_size =     1496, name = Diencephalon - Ventral Thalamus\n",
      "local-nb_cs-ii-29_import-tests (  36): INFO : i_mask =  43, use_mask = False, overlap_count =     8109, allowed_overlap_size =     1589, name = Diencephalon - Olig2 Band 2\n",
      "local-nb_cs-ii-29_import-tests (  36): INFO : i_mask =  12, use_mask = False, overlap_count =    49081, allowed_overlap_size =     1611, name = Diencephalon - Dorsal Thalamus\n",
      "local-nb_cs-ii-29_import-tests (  36): INFO : i_mask = 247, use_mask = False, overlap_count =    12513, allowed_overlap_size =     1625, name = Rhombencephalon - Vglut2 cluster 2\n",
      "local-nb_cs-ii-29_import-tests (  36): INFO : i_mask =  90, use_mask = True , overlap_count =      939, allowed_overlap_size =     1626, name = Ganglia - Statoacoustic Ganglion\n",
      "local-nb_cs-ii-29_import-tests (  36): INFO : i_mask = 260, use_mask = False, overlap_count =    58350, allowed_overlap_size =     1735, name = Spinal Cord - 6.7FDhcrtR-Gal4 Stripe\n",
      "local-nb_cs-ii-29_import-tests (  36): INFO : i_mask = 264, use_mask = False, overlap_count =    63002, allowed_overlap_size =     1735, name = Spinal Cord - Glyt2 Stripe\n",
      "local-nb_cs-ii-29_import-tests (  36): INFO : i_mask =   3, use_mask = False, overlap_count =    52014, allowed_overlap_size =     1780, name = Diencephalon - Anterior pretectum cluster of vmat2 Neurons\n",
      "local-nb_cs-ii-29_import-tests (  36): INFO : i_mask =   5, use_mask = False, overlap_count =    17475, allowed_overlap_size =     1894, name = Diencephalon - Diffuse Nucleus of the Intermediate Hypothalamus\n",
      "local-nb_cs-ii-29_import-tests (  36): INFO : i_mask = 245, use_mask = False, overlap_count =    14871, allowed_overlap_size =     1956, name = Rhombencephalon - Vglut2 Stripe 4\n",
      "local-nb_cs-ii-29_import-tests (  36): INFO : i_mask =  14, use_mask = False, overlap_count =   113693, allowed_overlap_size =     2011, name = Diencephalon - Habenula\n",
      "local-nb_cs-ii-29_import-tests (  36): INFO : i_mask =  65, use_mask = False, overlap_count =    61567, allowed_overlap_size =     2189, name = Diencephalon - Pretectum\n",
      "local-nb_cs-ii-29_import-tests (  36): INFO : i_mask = 194, use_mask = False, overlap_count =     5584, allowed_overlap_size =     2281, name = Rhombencephalon - Neuropil Region 2\n",
      "local-nb_cs-ii-29_import-tests (  36): INFO : i_mask = 214, use_mask = False, overlap_count =    45896, allowed_overlap_size =     2284, name = Rhombencephalon - Ptf1a Stripe\n",
      "local-nb_cs-ii-29_import-tests (  36): INFO : i_mask = 278, use_mask = False, overlap_count =     4558, allowed_overlap_size =     2308, name = Telencephalon - Olfactory Bulb\n",
      "local-nb_cs-ii-29_import-tests (  36): INFO : i_mask = 255, use_mask = False, overlap_count =    23163, allowed_overlap_size =     2499, name = Rhombencephalon - Vmat2 Stripe1\n",
      "local-nb_cs-ii-29_import-tests (  36): INFO : i_mask =  15, use_mask = False, overlap_count =    11218, allowed_overlap_size =     2505, name = Diencephalon - Hypothalamus - Caudal Hypothalamus Neural Cluster\n",
      "local-nb_cs-ii-29_import-tests (  36): INFO : i_mask = 156, use_mask = False, overlap_count =    13238, allowed_overlap_size =     2598, name = Rhombencephalon - Gad1b Stripe 3\n",
      "local-nb_cs-ii-29_import-tests (  36): INFO : i_mask =  95, use_mask = True , overlap_count =      304, allowed_overlap_size =     2782, name = Mesencephalon - Medial Tectal Band\n",
      "local-nb_cs-ii-29_import-tests (  36): INFO : i_mask = 154, use_mask = False, overlap_count =    54655, allowed_overlap_size =     2893, name = Rhombencephalon - Gad1b Stripe 1\n",
      "local-nb_cs-ii-29_import-tests (  36): INFO : i_mask =  73, use_mask = False, overlap_count =    18934, allowed_overlap_size =     3025, name = Diencephalon - Rostral Hypothalamus\n",
      "local-nb_cs-ii-29_import-tests (  36): INFO : i_mask = 292, use_mask = False, overlap_count =     6878, allowed_overlap_size =     3140, name = Telencephalon - Vglut2 rind\n",
      "local-nb_cs-ii-29_import-tests (  36): INFO : i_mask = 285, use_mask = False, overlap_count =    80531, allowed_overlap_size =     3277, name = Telencephalon - Subpallial Gad1b cluster\n",
      "local-nb_cs-ii-29_import-tests (  36): INFO : i_mask = 242, use_mask = False, overlap_count =    64344, allowed_overlap_size =     3291, name = Rhombencephalon - Vglut2 Stripe 1\n",
      "local-nb_cs-ii-29_import-tests (  36): INFO : i_mask = 196, use_mask = False, overlap_count =    10745, allowed_overlap_size =     3312, name = Rhombencephalon - Neuropil Region 4\n",
      "local-nb_cs-ii-29_import-tests (  36): INFO : i_mask = 267, use_mask = False, overlap_count =    16690, allowed_overlap_size =     3624, name = Spinal Cord - Neuropil Region\n",
      "local-nb_cs-ii-29_import-tests (  36): INFO : i_mask =  57, use_mask = False, overlap_count =    32168, allowed_overlap_size =     3762, name = Diencephalon - Posterior Tuberculum\n",
      "local-nb_cs-ii-29_import-tests (  36): INFO : i_mask = 129, use_mask = False, overlap_count =    89259, allowed_overlap_size =     4236, name = Rhombencephalon - Cerebelluar-Vglut2 enriched areas\n",
      "local-nb_cs-ii-29_import-tests (  36): INFO : i_mask = 131, use_mask = False, overlap_count =    70539, allowed_overlap_size =     4256, name = Rhombencephalon - Cerebellum Gad1b Enriched Areas\n",
      "local-nb_cs-ii-29_import-tests (  36): INFO : i_mask = 195, use_mask = False, overlap_count =     7178, allowed_overlap_size =     4359, name = Rhombencephalon - Neuropil Region 3\n",
      "local-nb_cs-ii-29_import-tests (  36): INFO : i_mask =   4, use_mask = False, overlap_count =    27500, allowed_overlap_size =     4583, name = Diencephalon - Caudal Hypothalamus\n",
      "local-nb_cs-ii-29_import-tests (  36): INFO : i_mask =  88, use_mask = True , overlap_count =        0, allowed_overlap_size =     4881, name = Ganglia - Olfactory Epithelium\n",
      "local-nb_cs-ii-29_import-tests (  36): INFO : i_mask =  59, use_mask = False, overlap_count =   111146, allowed_overlap_size =     5001, name = Diencephalon - Preoptic Area\n",
      "local-nb_cs-ii-29_import-tests (  36): INFO : i_mask = 222, use_mask = False, overlap_count =    33614, allowed_overlap_size =     5137, name = Rhombencephalon - Rhombomere 5\n",
      "local-nb_cs-ii-29_import-tests (  36): INFO : i_mask = 221, use_mask = False, overlap_count =    40942, allowed_overlap_size =     5343, name = Rhombencephalon - Rhombomere 4\n",
      "local-nb_cs-ii-29_import-tests (  36): INFO : i_mask = 290, use_mask = False, overlap_count =   138036, allowed_overlap_size =     5973, name = Telencephalon - Subpallium\n",
      "local-nb_cs-ii-29_import-tests (  36): INFO : i_mask = 220, use_mask = False, overlap_count =    49925, allowed_overlap_size =     6221, name = Rhombencephalon - Rhombomere 3\n",
      "local-nb_cs-ii-29_import-tests (  36): INFO : i_mask = 132, use_mask = False, overlap_count =    37760, allowed_overlap_size =     6845, name = Rhombencephalon - Corpus Cerebelli\n",
      "local-nb_cs-ii-29_import-tests (  36): INFO : i_mask = 107, use_mask = False, overlap_count =   108877, allowed_overlap_size =     7640, name = Mesencephalon - Tegmentum\n",
      "local-nb_cs-ii-29_import-tests (  36): INFO : i_mask = 282, use_mask = False, overlap_count =    13885, allowed_overlap_size =     8132, name = Telencephalon - Pallium\n",
      "local-nb_cs-ii-29_import-tests (  36): INFO : i_mask = 109, use_mask = False, overlap_count =    17329, allowed_overlap_size =     8332, name = Mesencephalon - Torus Semicircularis\n",
      "local-nb_cs-ii-29_import-tests (  36): INFO : i_mask = 223, use_mask = False, overlap_count =   109532, allowed_overlap_size =     8510, name = Rhombencephalon - Rhombomere 6\n",
      "local-nb_cs-ii-29_import-tests (  36): INFO : i_mask = 259, use_mask = False, overlap_count =   210171, allowed_overlap_size =     8618, name = Spinal Cord\n",
      "local-nb_cs-ii-29_import-tests (  36): INFO : i_mask = 219, use_mask = False, overlap_count =   144599, allowed_overlap_size =    11256, name = Rhombencephalon - Rhombomere 2\n",
      "local-nb_cs-ii-29_import-tests (  36): INFO : i_mask = 130, use_mask = False, overlap_count =   219427, allowed_overlap_size =    11614, name = Rhombencephalon - Cerebellum\n",
      "local-nb_cs-ii-29_import-tests (  36): INFO : i_mask =  34, use_mask = False, overlap_count =   329611, allowed_overlap_size =    13835, name = Diencephalon - Intermediate Hypothalamus\n",
      "local-nb_cs-ii-29_import-tests (  36): INFO : i_mask = 106, use_mask = True , overlap_count =        0, allowed_overlap_size =    14352, name = Mesencephalon - Tecum Neuropil\n",
      "local-nb_cs-ii-29_import-tests (  36): INFO : i_mask = 197, use_mask = False, overlap_count =   145387, allowed_overlap_size =    15052, name = Rhombencephalon - Neuropil Region 5\n",
      "local-nb_cs-ii-29_import-tests (  36): INFO : i_mask = 274, use_mask = False, overlap_count =   235526, allowed_overlap_size =    20353, name = Telencephalon -\n",
      "local-nb_cs-ii-29_import-tests (  36): INFO : i_mask = 218, use_mask = False, overlap_count =   377499, allowed_overlap_size =    24324, name = Rhombencephalon - Rhombomere 1\n",
      "local-nb_cs-ii-29_import-tests (  36): INFO : i_mask = 224, use_mask = False, overlap_count =   294768, allowed_overlap_size =    25896, name = Rhombencephalon - Rhombomere 7\n",
      "local-nb_cs-ii-29_import-tests (  36): INFO : i_mask = 105, use_mask = False, overlap_count =   236663, allowed_overlap_size =    26611, name = Mesencephalon - Tectum Stratum Periventriculare\n",
      "local-nb_cs-ii-29_import-tests (  36): INFO : i_mask =   0, use_mask = False, overlap_count =   968826, allowed_overlap_size =    53148, name = Diencephalon -\n",
      "local-nb_cs-ii-29_import-tests (  36): INFO : i_mask =  93, use_mask = False, overlap_count =  1895530, allowed_overlap_size =    66387, name = Mesencephalon -\n",
      "local-nb_cs-ii-29_import-tests (  36): INFO : i_mask = 113, use_mask = False, overlap_count =  1104412, allowed_overlap_size =    96244, name = Rhombencephalon -\n",
      "local-nb_cs-ii-29_import-tests (  36): INFO : i_mask =  77, use_mask = True , overlap_count =       60, allowed_overlap_size =   103822, name = Ganglia - Eyes\n",
      "local-nb_cs-ii-29_import-tests (  36): INFO : gen_non_overlapping_labels took 0:00:50.949016 h:m:s.\n",
      "local-nb_cs-ii-29_import-tests (  22): INFO : ... len(label_names)           = 150\n",
      "local-nb_cs-ii-29_import-tests (  23): INFO : ... np.unique(label_array).size = 151\n",
      "local-nb_cs-ii-29_import-tests (  12): INFO : Performing iter 1. Captured 150 of 294 labels (144 remaining).\n",
      "local-nb_cs-ii-29_import-tests (  36): INFO : i_mask = 169, use_mask = True , overlap_count =        0, allowed_overlap_size =       13, name = Rhombencephalon - Glyt2 Cluster 8\n",
      "local-nb_cs-ii-29_import-tests (  36): INFO : i_mask = 191, use_mask = True , overlap_count =        0, allowed_overlap_size =       16, name = Rhombencephalon - MiT\n",
      "local-nb_cs-ii-29_import-tests (  36): INFO : i_mask = 150, use_mask = True , overlap_count =        0, allowed_overlap_size =       25, name = Rhombencephalon - Gad1b Cluster 6\n",
      "local-nb_cs-ii-29_import-tests (  36): INFO : i_mask = 125, use_mask = True , overlap_count =        0, allowed_overlap_size =       32, name = Rhombencephalon - CaD\n",
      "local-nb_cs-ii-29_import-tests (  36): INFO : i_mask = 126, use_mask = False, overlap_count =      274, allowed_overlap_size =       42, name = Rhombencephalon - CaV\n",
      "local-nb_cs-ii-29_import-tests (  36): INFO : i_mask = 193, use_mask = True , overlap_count =        0, allowed_overlap_size =       43, name = Rhombencephalon - MiV2\n",
      "local-nb_cs-ii-29_import-tests (  36): INFO : i_mask = 211, use_mask = True , overlap_count =        1, allowed_overlap_size =       64, name = Rhombencephalon - Oxtl Cluster 2 Near MC axon cap\n",
      "local-nb_cs-ii-29_import-tests (  36): INFO : i_mask = 187, use_mask = True , overlap_count =        0, allowed_overlap_size =       74, name = Rhombencephalon - MiD3\n",
      "local-nb_cs-ii-29_import-tests (  36): INFO : i_mask = 115, use_mask = True , overlap_count =        0, allowed_overlap_size =       76, name = Rhombencephalon - 6.7FDhcrtR-Gal4 Cluster 2 Sparse\n",
      "local-nb_cs-ii-29_import-tests (  36): INFO : i_mask = 140, use_mask = True , overlap_count =        0, allowed_overlap_size =       90, name = Rhombencephalon - Gad1b Cluster 15\n",
      "local-nb_cs-ii-29_import-tests (  36): INFO : i_mask = 234, use_mask = True , overlap_count =        0, allowed_overlap_size =       96, name = Rhombencephalon - Spinal Backfill Vestibular Population\n",
      "local-nb_cs-ii-29_import-tests (  36): INFO : i_mask = 207, use_mask = True , overlap_count =        0, allowed_overlap_size =      100, name = Rhombencephalon - Otpb Cluster 4\n",
      "local-nb_cs-ii-29_import-tests (  36): INFO : i_mask = 230, use_mask = True , overlap_count =        0, allowed_overlap_size =      102, name = Rhombencephalon - RoM3\n",
      "local-nb_cs-ii-29_import-tests (  36): INFO : i_mask = 205, use_mask = True , overlap_count =        0, allowed_overlap_size =      102, name = Rhombencephalon - Otpb Cluster 2 - locus coeruleus\n",
      "local-nb_cs-ii-29_import-tests (  36): INFO : i_mask =  18, use_mask = True , overlap_count =        0, allowed_overlap_size =      104, name = Diencephalon - Hypothalamus 6.7FRhcrtR-Gal4 cluster 2\n",
      "local-nb_cs-ii-29_import-tests (  36): INFO : i_mask =   8, use_mask = True , overlap_count =        0, allowed_overlap_size =      106, name = Diencephalon - Dopaminergic Cluster 3 - hypothalamus\n",
      "local-nb_cs-ii-29_import-tests (  36): INFO : i_mask = 212, use_mask = False, overlap_count =      184, allowed_overlap_size =      144, name = Rhombencephalon - Posterior Cluster of nV Trigeminal Motorneurons\n",
      "local-nb_cs-ii-29_import-tests (  36): INFO : i_mask =  78, use_mask = True , overlap_count =        0, allowed_overlap_size =      155, name = Ganglia - Facial Sensory Ganglion\n",
      "local-nb_cs-ii-29_import-tests (  36): INFO : i_mask = 162, use_mask = False, overlap_count =     3125, allowed_overlap_size =      157, name = Rhombencephalon - Glyt2 Cluster 14\n",
      "local-nb_cs-ii-29_import-tests (  36): INFO : i_mask = 179, use_mask = True , overlap_count =        0, allowed_overlap_size =      169, name = Rhombencephalon - Isl1 Stripe 1\n",
      "local-nb_cs-ii-29_import-tests (  36): INFO : i_mask = 112, use_mask = True , overlap_count =        0, allowed_overlap_size =      171, name = Mesencephalon - Vmat2 cluster2\n",
      "local-nb_cs-ii-29_import-tests (  36): INFO : i_mask =  51, use_mask = False, overlap_count =     1999, allowed_overlap_size =      174, name = Diencephalon - Oxtl Cluster 3\n",
      "local-nb_cs-ii-29_import-tests (  36): INFO : i_mask =  54, use_mask = True , overlap_count =        0, allowed_overlap_size =      181, name = Diencephalon - Pineal\n",
      "local-nb_cs-ii-29_import-tests (  36): INFO : i_mask = 167, use_mask = False, overlap_count =     3079, allowed_overlap_size =      184, name = Rhombencephalon - Glyt2 Cluster 6\n",
      "local-nb_cs-ii-29_import-tests (  36): INFO : i_mask = 122, use_mask = True , overlap_count =       84, allowed_overlap_size =      184, name = Rhombencephalon - 6.7FDhcrtR-Gal4 Stripe 4\n",
      "local-nb_cs-ii-29_import-tests (  36): INFO : i_mask =   7, use_mask = False, overlap_count =     1007, allowed_overlap_size =      190, name = Diencephalon - Dopaminergic Cluster 2 - posterior tuberculum\n",
      "local-nb_cs-ii-29_import-tests (  36): INFO : i_mask = 216, use_mask = True , overlap_count =        0, allowed_overlap_size =      197, name = Rhombencephalon - Raphe - Inferior\n",
      "local-nb_cs-ii-29_import-tests (  36): INFO : i_mask =  48, use_mask = True , overlap_count =        0, allowed_overlap_size =      202, name = Diencephalon - Otpb Cluster 4\n",
      "local-nb_cs-ii-29_import-tests (  36): INFO : i_mask =  22, use_mask = False, overlap_count =     4856, allowed_overlap_size =      213, name = Diencephalon - Hypothalamus Hcrt Neurons\n",
      "local-nb_cs-ii-29_import-tests (  36): INFO : i_mask =  13, use_mask = True , overlap_count =        0, allowed_overlap_size =      230, name = Diencephalon - Eminentia Thalami\n",
      "local-nb_cs-ii-29_import-tests (  36): INFO : i_mask =  40, use_mask = True , overlap_count =        0, allowed_overlap_size =      237, name = Diencephalon - Migrated Area of the Pretectum (M1)\n",
      "local-nb_cs-ii-29_import-tests (  36): INFO : i_mask = 256, use_mask = True , overlap_count =        0, allowed_overlap_size =      278, name = Rhombencephalon - Vmat2 Stripe2\n",
      "local-nb_cs-ii-29_import-tests (  36): INFO : i_mask =  17, use_mask = False, overlap_count =      864, allowed_overlap_size =      290, name = Diencephalon - Hypothalamus 6.7FRhcrtR-Gal4 cluster 1\n",
      "local-nb_cs-ii-29_import-tests (  36): INFO : i_mask = 114, use_mask = True , overlap_count =        0, allowed_overlap_size =      297, name = Rhombencephalon - 6.7FDhcrtR-Gal4 Cluster 1\n",
      "local-nb_cs-ii-29_import-tests (  36): INFO : i_mask = 237, use_mask = True , overlap_count =      167, allowed_overlap_size =      309, name = Rhombencephalon - Tangential Vestibular Nucleus\n",
      "local-nb_cs-ii-29_import-tests (  36): INFO : i_mask = 127, use_mask = True , overlap_count =        1, allowed_overlap_size =      316, name = Rhombencephalon - Caudal Ventral Cluster Labelled by Spinal Backfills\n",
      "local-nb_cs-ii-29_import-tests (  36): INFO : i_mask =   9, use_mask = True , overlap_count =        0, allowed_overlap_size =      323, name = Diencephalon - Dopaminergic Cluster 4/5 - posterior tuberculum and hypothalamus\n",
      "local-nb_cs-ii-29_import-tests (  36): INFO : i_mask = 182, use_mask = False, overlap_count =     9902, allowed_overlap_size =      324, name = Rhombencephalon - Locus Coreuleus\n",
      "local-nb_cs-ii-29_import-tests (  36): INFO : i_mask = 268, use_mask = True , overlap_count =        0, allowed_overlap_size =      343, name = Spinal Cord - Olig2 Stripe\n",
      "local-nb_cs-ii-29_import-tests (  36): INFO : i_mask =  25, use_mask = False, overlap_count =     1812, allowed_overlap_size =      349, name = Diencephalon - Hypothalamus Qrfp neuron cluster\n",
      "local-nb_cs-ii-29_import-tests (  36): INFO : i_mask = 271, use_mask = False, overlap_count =      390, allowed_overlap_size =      349, name = Spinal Cord - Vglut2 Stripe 3\n",
      "local-nb_cs-ii-29_import-tests (  36): INFO : i_mask =  44, use_mask = True , overlap_count =        0, allowed_overlap_size =      352, name = Diencephalon - Optic Chiasm\n",
      "local-nb_cs-ii-29_import-tests (  36): INFO : i_mask = 243, use_mask = False, overlap_count =    11402, allowed_overlap_size =      380, name = Rhombencephalon - Vglut2 Stripe 2\n",
      "local-nb_cs-ii-29_import-tests (  36): INFO : i_mask = 185, use_mask = True , overlap_count =      299, allowed_overlap_size =      401, name = Rhombencephalon - Medial Vestibular Nucleus\n",
      "local-nb_cs-ii-29_import-tests (  36): INFO : i_mask = 111, use_mask = False, overlap_count =     5565, allowed_overlap_size =      419, name = Mesencephalon - Vmat2 cluster of paraventricular organ\n",
      "local-nb_cs-ii-29_import-tests (  36): INFO : i_mask =  11, use_mask = True , overlap_count =        0, allowed_overlap_size =      422, name = Diencephalon - Dopaminergic Cluster 7 - Caudal Hypothalamus\n",
      "local-nb_cs-ii-29_import-tests (  36): INFO : i_mask = 176, use_mask = False, overlap_count =     4071, allowed_overlap_size =      437, name = Rhombencephalon - Isl1 Cluster 1\n",
      "local-nb_cs-ii-29_import-tests (  36): INFO : i_mask = 272, use_mask = True , overlap_count =        0, allowed_overlap_size =      450, name = Spinal Cord - Vmat2 Stripe1\n",
      "local-nb_cs-ii-29_import-tests (  36): INFO : i_mask =  60, use_mask = True , overlap_count =        0, allowed_overlap_size =      461, name = Diencephalon - Preoptic Otpb Cluster\n",
      "local-nb_cs-ii-29_import-tests (  36): INFO : i_mask = 238, use_mask = False, overlap_count =     1572, allowed_overlap_size =      467, name = Rhombencephalon - VII Facial Motor and octavolateralis efferent neurons\n",
      "local-nb_cs-ii-29_import-tests (  36): INFO : i_mask = 246, use_mask = True , overlap_count =      110, allowed_overlap_size =      469, name = Rhombencephalon - Vglut2 cluster 1\n",
      "local-nb_cs-ii-29_import-tests (  36): INFO : i_mask = 120, use_mask = True , overlap_count =        0, allowed_overlap_size =      472, name = Rhombencephalon - 6.7FDhcrtR-Gal4 Stripe 2\n",
      "local-nb_cs-ii-29_import-tests (  36): INFO : i_mask =  46, use_mask = False, overlap_count =     1757, allowed_overlap_size =      505, name = Diencephalon - Otpb Cluster 2 \n",
      "local-nb_cs-ii-29_import-tests (  36): INFO : i_mask = 123, use_mask = True , overlap_count =        3, allowed_overlap_size =      555, name = Rhombencephalon - Anterior Cluster of nV Trigeminal Motorneurons\n",
      "local-nb_cs-ii-29_import-tests (  36): INFO : i_mask = 172, use_mask = False, overlap_count =     8668, allowed_overlap_size =      559, name = Rhombencephalon - Glyt2 Stripe 2\n",
      "local-nb_cs-ii-29_import-tests (  36): INFO : i_mask =  33, use_mask = False, overlap_count =     8955, allowed_overlap_size =      597, name = Diencephalon - Hypothamic VentroLateral VMAT cluster\n",
      "local-nb_cs-ii-29_import-tests (  36): INFO : i_mask = 284, use_mask = True , overlap_count =        0, allowed_overlap_size =      597, name = Telencephalon - S1181t Cluster\n",
      "local-nb_cs-ii-29_import-tests (  36): INFO : i_mask = 138, use_mask = False, overlap_count =     5311, allowed_overlap_size =      600, name = Rhombencephalon - Gad1b Cluster 13\n",
      "local-nb_cs-ii-29_import-tests (  36): INFO : i_mask =   6, use_mask = False, overlap_count =    15831, allowed_overlap_size =      610, name = Diencephalon - Dopaminergic Cluster 1 - ventral thalamic and periventricular posterior tubercular DA neurons\n",
      "local-nb_cs-ii-29_import-tests (  36): INFO : i_mask = 293, use_mask = False, overlap_count =     2348, allowed_overlap_size =      613, name = Telencephalon - Vmat2 cluster\n",
      "local-nb_cs-ii-29_import-tests (  36): INFO : i_mask = 213, use_mask = False, overlap_count =     1780, allowed_overlap_size =      639, name = Rhombencephalon - Ptf1a Cluster 1\n",
      "local-nb_cs-ii-29_import-tests (  36): INFO : i_mask =  97, use_mask = True , overlap_count =        0, allowed_overlap_size =      642, name = Mesencephalon - Oculomotor Nucleus nIII\n",
      "local-nb_cs-ii-29_import-tests (  36): INFO : i_mask = 217, use_mask = False, overlap_count =     2350, allowed_overlap_size =      648, name = Rhombencephalon - Raphe - Superior\n",
      "local-nb_cs-ii-29_import-tests (  36): INFO : i_mask =  39, use_mask = False, overlap_count =     2125, allowed_overlap_size =      659, name = Diencephalon - Medial vglut2 cluster\n",
      "local-nb_cs-ii-29_import-tests (  36): INFO : i_mask =  31, use_mask = True , overlap_count =      640, allowed_overlap_size =      665, name = Diencephalon - Hypothalamus Vglut2 Cluster 6\n",
      "local-nb_cs-ii-29_import-tests (  36): INFO : i_mask = 254, use_mask = True , overlap_count =        0, allowed_overlap_size =      689, name = Rhombencephalon - Vmat2 Cluster 5\n",
      "local-nb_cs-ii-29_import-tests (  36): INFO : i_mask = 202, use_mask = False, overlap_count =    20119, allowed_overlap_size =      695, name = Rhombencephalon - Olig2 Stripe\n",
      "local-nb_cs-ii-29_import-tests (  36): INFO : i_mask =  41, use_mask = False, overlap_count =     1992, allowed_overlap_size =      712, name = Diencephalon - Migrated Posterior Tubercular Area (M2)\n",
      "local-nb_cs-ii-29_import-tests (  36): INFO : i_mask = 110, use_mask = False, overlap_count =     5225, allowed_overlap_size =      718, name = Mesencephalon - Vglut2 cluster 1\n",
      "local-nb_cs-ii-29_import-tests (  36): INFO : i_mask = 175, use_mask = True , overlap_count =        0, allowed_overlap_size =      728, name = Rhombencephalon - Interpeduncular Nucleus\n",
      "local-nb_cs-ii-29_import-tests (  36): INFO : i_mask = 198, use_mask = False, overlap_count =     2332, allowed_overlap_size =      745, name = Rhombencephalon - Neuropil Region 6\n",
      "local-nb_cs-ii-29_import-tests (  36): INFO : i_mask = 199, use_mask = True , overlap_count =       92, allowed_overlap_size =      745, name = Rhombencephalon - Noradrendergic neurons of the Interfascicular and Vagal areas\n",
      "local-nb_cs-ii-29_import-tests (  36): INFO : i_mask = 270, use_mask = True , overlap_count =      592, allowed_overlap_size =      761, name = Spinal Cord - Vglut2 Stripe 2\n",
      "local-nb_cs-ii-29_import-tests (  36): INFO : i_mask = 286, use_mask = False, overlap_count =    46179, allowed_overlap_size =      790, name = Telencephalon - Subpallial Otpb Cluster 2\n",
      "local-nb_cs-ii-29_import-tests (  36): INFO : i_mask = 161, use_mask = False, overlap_count =     1577, allowed_overlap_size =      853, name = Rhombencephalon - Glyt2 Cluster 13\n",
      "local-nb_cs-ii-29_import-tests (  36): INFO : i_mask = 145, use_mask = True , overlap_count =      205, allowed_overlap_size =      906, name = Rhombencephalon - Gad1b Cluster 2\n",
      "local-nb_cs-ii-29_import-tests (  36): INFO : i_mask =  49, use_mask = False, overlap_count =    12087, allowed_overlap_size =      925, name = Diencephalon - Oxtl Cluster 1 in Preoptic Area\n",
      "local-nb_cs-ii-29_import-tests (  36): INFO : i_mask = 244, use_mask = False, overlap_count =     2234, allowed_overlap_size =      950, name = Rhombencephalon - Vglut2 Stripe 3\n",
      "local-nb_cs-ii-29_import-tests (  36): INFO : i_mask =  28, use_mask = True , overlap_count =      266, allowed_overlap_size =      961, name = Diencephalon - Hypothalamus Vglut2 Cluster 3\n",
      "local-nb_cs-ii-29_import-tests (  36): INFO : i_mask = 276, use_mask = False, overlap_count =    13839, allowed_overlap_size =      969, name = Telencephalon - Isl1 cluster 1\n",
      "local-nb_cs-ii-29_import-tests (  36): INFO : i_mask = 157, use_mask = False, overlap_count =    27963, allowed_overlap_size =     1058, name = Rhombencephalon - Glyt2 Cluster 1\n",
      "local-nb_cs-ii-29_import-tests (  36): INFO : i_mask =  92, use_mask = True , overlap_count =        0, allowed_overlap_size =     1061, name = Ganglia - Vagal Ganglia\n",
      "local-nb_cs-ii-29_import-tests (  36): INFO : i_mask =  64, use_mask = True , overlap_count =        0, allowed_overlap_size =     1072, name = Diencephalon - Pretectal dopaminergic cluster\n",
      "local-nb_cs-ii-29_import-tests (  36): INFO : i_mask = 266, use_mask = False, overlap_count =    26875, allowed_overlap_size =     1176, name = Spinal Cord - Neurons with descending projections labelled by spinal backfills\n",
      "local-nb_cs-ii-29_import-tests (  36): INFO : i_mask =  56, use_mask = True , overlap_count =        0, allowed_overlap_size =     1176, name = Diencephalon - Pituitary\n",
      "local-nb_cs-ii-29_import-tests (  36): INFO : i_mask = 155, use_mask = False, overlap_count =     6979, allowed_overlap_size =     1183, name = Rhombencephalon - Gad1b Stripe 2\n",
      "local-nb_cs-ii-29_import-tests (  36): INFO : i_mask = 283, use_mask = True , overlap_count =        0, allowed_overlap_size =     1208, name = Telencephalon - Postoptic Commissure\n",
      "local-nb_cs-ii-29_import-tests (  36): INFO : i_mask = 269, use_mask = False, overlap_count =    18071, allowed_overlap_size =     1301, name = Spinal Cord - Vglut2 Stripe 1\n",
      "local-nb_cs-ii-29_import-tests (  36): INFO : i_mask = 173, use_mask = False, overlap_count =    15846, allowed_overlap_size =     1303, name = Rhombencephalon - Glyt2 Stripe 3\n",
      "local-nb_cs-ii-29_import-tests (  36): INFO : i_mask = 133, use_mask = True , overlap_count =        0, allowed_overlap_size =     1331, name = Rhombencephalon - Eminentia Granularis\n",
      "local-nb_cs-ii-29_import-tests (  36): INFO : i_mask = 232, use_mask = False, overlap_count =    12158, allowed_overlap_size =     1392, name = Rhombencephalon - S1181t Cluster\n",
      "local-nb_cs-ii-29_import-tests (  36): INFO : i_mask = 258, use_mask = False, overlap_count =     8847, allowed_overlap_size =     1393, name = Rhombencephalon - X Vagus motorneuron cluster\n",
      "local-nb_cs-ii-29_import-tests (  36): INFO : i_mask = 203, use_mask = False, overlap_count =    11241, allowed_overlap_size =     1484, name = Rhombencephalon - Olig2 enriched areas in cerebellum\n",
      "local-nb_cs-ii-29_import-tests (  36): INFO : i_mask =  75, use_mask = True , overlap_count =     1334, allowed_overlap_size =     1496, name = Diencephalon - Ventral Thalamus\n",
      "local-nb_cs-ii-29_import-tests (  36): INFO : i_mask =  43, use_mask = False, overlap_count =    18336, allowed_overlap_size =     1589, name = Diencephalon - Olig2 Band 2\n",
      "local-nb_cs-ii-29_import-tests (  36): INFO : i_mask =  12, use_mask = False, overlap_count =    10735, allowed_overlap_size =     1611, name = Diencephalon - Dorsal Thalamus\n",
      "local-nb_cs-ii-29_import-tests (  36): INFO : i_mask = 247, use_mask = False, overlap_count =     5606, allowed_overlap_size =     1625, name = Rhombencephalon - Vglut2 cluster 2\n",
      "local-nb_cs-ii-29_import-tests (  36): INFO : i_mask = 260, use_mask = False, overlap_count =    32868, allowed_overlap_size =     1735, name = Spinal Cord - 6.7FDhcrtR-Gal4 Stripe\n",
      "local-nb_cs-ii-29_import-tests (  36): INFO : i_mask = 264, use_mask = False, overlap_count =    40089, allowed_overlap_size =     1735, name = Spinal Cord - Glyt2 Stripe\n",
      "local-nb_cs-ii-29_import-tests (  36): INFO : i_mask =   3, use_mask = False, overlap_count =    90492, allowed_overlap_size =     1780, name = Diencephalon - Anterior pretectum cluster of vmat2 Neurons\n",
      "local-nb_cs-ii-29_import-tests (  36): INFO : i_mask =   5, use_mask = False, overlap_count =    73434, allowed_overlap_size =     1894, name = Diencephalon - Diffuse Nucleus of the Intermediate Hypothalamus\n",
      "local-nb_cs-ii-29_import-tests (  36): INFO : i_mask = 245, use_mask = False, overlap_count =    28398, allowed_overlap_size =     1956, name = Rhombencephalon - Vglut2 Stripe 4\n",
      "local-nb_cs-ii-29_import-tests (  36): INFO : i_mask =  14, use_mask = True , overlap_count =       61, allowed_overlap_size =     2011, name = Diencephalon - Habenula\n",
      "local-nb_cs-ii-29_import-tests (  36): INFO : i_mask =  65, use_mask = False, overlap_count =    71837, allowed_overlap_size =     2189, name = Diencephalon - Pretectum\n",
      "local-nb_cs-ii-29_import-tests (  36): INFO : i_mask = 194, use_mask = False, overlap_count =     6998, allowed_overlap_size =     2281, name = Rhombencephalon - Neuropil Region 2\n",
      "local-nb_cs-ii-29_import-tests (  36): INFO : i_mask = 214, use_mask = False, overlap_count =     6507, allowed_overlap_size =     2284, name = Rhombencephalon - Ptf1a Stripe\n",
      "local-nb_cs-ii-29_import-tests (  36): INFO : i_mask = 278, use_mask = True , overlap_count =        0, allowed_overlap_size =     2308, name = Telencephalon - Olfactory Bulb\n",
      "local-nb_cs-ii-29_import-tests (  36): INFO : i_mask = 255, use_mask = False, overlap_count =    20585, allowed_overlap_size =     2499, name = Rhombencephalon - Vmat2 Stripe1\n",
      "local-nb_cs-ii-29_import-tests (  36): INFO : i_mask =  15, use_mask = False, overlap_count =    11303, allowed_overlap_size =     2505, name = Diencephalon - Hypothalamus - Caudal Hypothalamus Neural Cluster\n",
      "local-nb_cs-ii-29_import-tests (  36): INFO : i_mask = 156, use_mask = False, overlap_count =    56315, allowed_overlap_size =     2598, name = Rhombencephalon - Gad1b Stripe 3\n",
      "local-nb_cs-ii-29_import-tests (  36): INFO : i_mask = 154, use_mask = False, overlap_count =     9880, allowed_overlap_size =     2893, name = Rhombencephalon - Gad1b Stripe 1\n",
      "local-nb_cs-ii-29_import-tests (  36): INFO : i_mask =  73, use_mask = False, overlap_count =    14740, allowed_overlap_size =     3025, name = Diencephalon - Rostral Hypothalamus\n",
      "local-nb_cs-ii-29_import-tests (  36): INFO : i_mask = 292, use_mask = False, overlap_count =    19304, allowed_overlap_size =     3140, name = Telencephalon - Vglut2 rind\n",
      "local-nb_cs-ii-29_import-tests (  36): INFO : i_mask = 285, use_mask = False, overlap_count =    52609, allowed_overlap_size =     3277, name = Telencephalon - Subpallial Gad1b cluster\n",
      "local-nb_cs-ii-29_import-tests (  36): INFO : i_mask = 242, use_mask = False, overlap_count =    23319, allowed_overlap_size =     3291, name = Rhombencephalon - Vglut2 Stripe 1\n",
      "local-nb_cs-ii-29_import-tests (  36): INFO : i_mask = 196, use_mask = False, overlap_count =    18820, allowed_overlap_size =     3312, name = Rhombencephalon - Neuropil Region 4\n",
      "local-nb_cs-ii-29_import-tests (  36): INFO : i_mask = 267, use_mask = True , overlap_count =      194, allowed_overlap_size =     3624, name = Spinal Cord - Neuropil Region\n",
      "local-nb_cs-ii-29_import-tests (  36): INFO : i_mask =  57, use_mask = False, overlap_count =    37778, allowed_overlap_size =     3762, name = Diencephalon - Posterior Tuberculum\n",
      "local-nb_cs-ii-29_import-tests (  36): INFO : i_mask = 129, use_mask = False, overlap_count =    11227, allowed_overlap_size =     4236, name = Rhombencephalon - Cerebelluar-Vglut2 enriched areas\n",
      "local-nb_cs-ii-29_import-tests (  36): INFO : i_mask = 131, use_mask = False, overlap_count =    12721, allowed_overlap_size =     4256, name = Rhombencephalon - Cerebellum Gad1b Enriched Areas\n",
      "local-nb_cs-ii-29_import-tests (  36): INFO : i_mask = 195, use_mask = False, overlap_count =     9212, allowed_overlap_size =     4359, name = Rhombencephalon - Neuropil Region 3\n",
      "local-nb_cs-ii-29_import-tests (  36): INFO : i_mask =   4, use_mask = False, overlap_count =    44934, allowed_overlap_size =     4583, name = Diencephalon - Caudal Hypothalamus\n",
      "local-nb_cs-ii-29_import-tests (  36): INFO : i_mask =  59, use_mask = False, overlap_count =    70101, allowed_overlap_size =     5001, name = Diencephalon - Preoptic Area\n",
      "local-nb_cs-ii-29_import-tests (  36): INFO : i_mask = 222, use_mask = False, overlap_count =   118414, allowed_overlap_size =     5137, name = Rhombencephalon - Rhombomere 5\n",
      "local-nb_cs-ii-29_import-tests (  36): INFO : i_mask = 221, use_mask = False, overlap_count =    48175, allowed_overlap_size =     5343, name = Rhombencephalon - Rhombomere 4\n",
      "local-nb_cs-ii-29_import-tests (  36): INFO : i_mask = 290, use_mask = False, overlap_count =    61838, allowed_overlap_size =     5973, name = Telencephalon - Subpallium\n",
      "local-nb_cs-ii-29_import-tests (  36): INFO : i_mask = 220, use_mask = False, overlap_count =    30052, allowed_overlap_size =     6221, name = Rhombencephalon - Rhombomere 3\n",
      "local-nb_cs-ii-29_import-tests (  36): INFO : i_mask = 132, use_mask = True , overlap_count =     4290, allowed_overlap_size =     6845, name = Rhombencephalon - Corpus Cerebelli\n",
      "local-nb_cs-ii-29_import-tests (  36): INFO : i_mask = 107, use_mask = False, overlap_count =    66010, allowed_overlap_size =     7640, name = Mesencephalon - Tegmentum\n",
      "local-nb_cs-ii-29_import-tests (  36): INFO : i_mask = 282, use_mask = False, overlap_count =    22796, allowed_overlap_size =     8132, name = Telencephalon - Pallium\n",
      "local-nb_cs-ii-29_import-tests (  36): INFO : i_mask = 109, use_mask = False, overlap_count =    15306, allowed_overlap_size =     8332, name = Mesencephalon - Torus Semicircularis\n",
      "local-nb_cs-ii-29_import-tests (  36): INFO : i_mask = 223, use_mask = False, overlap_count =    71929, allowed_overlap_size =     8510, name = Rhombencephalon - Rhombomere 6\n",
      "local-nb_cs-ii-29_import-tests (  36): INFO : i_mask = 259, use_mask = False, overlap_count =   387355, allowed_overlap_size =     8618, name = Spinal Cord\n",
      "local-nb_cs-ii-29_import-tests (  36): INFO : i_mask = 219, use_mask = False, overlap_count =   153802, allowed_overlap_size =    11256, name = Rhombencephalon - Rhombomere 2\n",
      "local-nb_cs-ii-29_import-tests (  36): INFO : i_mask = 130, use_mask = False, overlap_count =   801015, allowed_overlap_size =    11614, name = Rhombencephalon - Cerebellum\n",
      "local-nb_cs-ii-29_import-tests (  36): INFO : i_mask =  34, use_mask = False, overlap_count =   221677, allowed_overlap_size =    13835, name = Diencephalon - Intermediate Hypothalamus\n",
      "local-nb_cs-ii-29_import-tests (  36): INFO : i_mask = 197, use_mask = False, overlap_count =    49272, allowed_overlap_size =    15052, name = Rhombencephalon - Neuropil Region 5\n",
      "local-nb_cs-ii-29_import-tests (  36): INFO : i_mask = 274, use_mask = False, overlap_count =   292733, allowed_overlap_size =    20353, name = Telencephalon -\n",
      "local-nb_cs-ii-29_import-tests (  36): INFO : i_mask = 218, use_mask = False, overlap_count =   906421, allowed_overlap_size =    24324, name = Rhombencephalon - Rhombomere 1\n",
      "local-nb_cs-ii-29_import-tests (  36): INFO : i_mask = 224, use_mask = False, overlap_count =   244252, allowed_overlap_size =    25896, name = Rhombencephalon - Rhombomere 7\n",
      "local-nb_cs-ii-29_import-tests (  36): INFO : i_mask = 105, use_mask = True , overlap_count =     2843, allowed_overlap_size =    26611, name = Mesencephalon - Tectum Stratum Periventriculare\n",
      "local-nb_cs-ii-29_import-tests (  36): INFO : i_mask =   0, use_mask = False, overlap_count =  1016656, allowed_overlap_size =    53148, name = Diencephalon -\n",
      "local-nb_cs-ii-29_import-tests (  36): INFO : i_mask =  93, use_mask = False, overlap_count =  2723767, allowed_overlap_size =    66387, name = Mesencephalon -\n",
      "local-nb_cs-ii-29_import-tests (  36): INFO : i_mask = 113, use_mask = False, overlap_count =  1676912, allowed_overlap_size =    96244, name = Rhombencephalon -\n",
      "local-nb_cs-ii-29_import-tests (  36): INFO : gen_non_overlapping_labels took 0:00:20.341614 h:m:s.\n",
      "local-nb_cs-ii-29_import-tests (  22): INFO : ... len(label_names)           = 58\n",
      "local-nb_cs-ii-29_import-tests (  23): INFO : ... np.unique(label_array).size = 59\n",
      "local-nb_cs-ii-29_import-tests (  12): INFO : Performing iter 2. Captured 208 of 294 labels (86 remaining).\n",
      "local-nb_cs-ii-29_import-tests (  36): INFO : i_mask = 126, use_mask = True , overlap_count =        0, allowed_overlap_size =       42, name = Rhombencephalon - CaV\n",
      "local-nb_cs-ii-29_import-tests (  36): INFO : i_mask = 212, use_mask = True , overlap_count =        0, allowed_overlap_size =      144, name = Rhombencephalon - Posterior Cluster of nV Trigeminal Motorneurons\n",
      "local-nb_cs-ii-29_import-tests (  36): INFO : i_mask = 162, use_mask = True , overlap_count =        0, allowed_overlap_size =      157, name = Rhombencephalon - Glyt2 Cluster 14\n",
      "local-nb_cs-ii-29_import-tests (  36): INFO : i_mask =  51, use_mask = True , overlap_count =        0, allowed_overlap_size =      174, name = Diencephalon - Oxtl Cluster 3\n",
      "local-nb_cs-ii-29_import-tests (  36): INFO : i_mask = 167, use_mask = True , overlap_count =        0, allowed_overlap_size =      184, name = Rhombencephalon - Glyt2 Cluster 6\n",
      "local-nb_cs-ii-29_import-tests (  36): INFO : i_mask =   7, use_mask = False, overlap_count =     4204, allowed_overlap_size =      190, name = Diencephalon - Dopaminergic Cluster 2 - posterior tuberculum\n",
      "local-nb_cs-ii-29_import-tests (  36): INFO : i_mask =  22, use_mask = False, overlap_count =      654, allowed_overlap_size =      213, name = Diencephalon - Hypothalamus Hcrt Neurons\n",
      "local-nb_cs-ii-29_import-tests (  36): INFO : i_mask =  17, use_mask = False, overlap_count =     1027, allowed_overlap_size =      290, name = Diencephalon - Hypothalamus 6.7FRhcrtR-Gal4 cluster 1\n",
      "local-nb_cs-ii-29_import-tests (  36): INFO : i_mask = 182, use_mask = True , overlap_count =        0, allowed_overlap_size =      324, name = Rhombencephalon - Locus Coreuleus\n",
      "local-nb_cs-ii-29_import-tests (  36): INFO : i_mask =  25, use_mask = True , overlap_count =        0, allowed_overlap_size =      349, name = Diencephalon - Hypothalamus Qrfp neuron cluster\n",
      "local-nb_cs-ii-29_import-tests (  36): INFO : i_mask = 271, use_mask = True , overlap_count =        0, allowed_overlap_size =      349, name = Spinal Cord - Vglut2 Stripe 3\n",
      "local-nb_cs-ii-29_import-tests (  36): INFO : i_mask = 243, use_mask = True , overlap_count =        0, allowed_overlap_size =      380, name = Rhombencephalon - Vglut2 Stripe 2\n",
      "local-nb_cs-ii-29_import-tests (  36): INFO : i_mask = 111, use_mask = True , overlap_count =        0, allowed_overlap_size =      419, name = Mesencephalon - Vmat2 cluster of paraventricular organ\n",
      "local-nb_cs-ii-29_import-tests (  36): INFO : i_mask = 176, use_mask = True , overlap_count =        0, allowed_overlap_size =      437, name = Rhombencephalon - Isl1 Cluster 1\n",
      "local-nb_cs-ii-29_import-tests (  36): INFO : i_mask = 238, use_mask = True , overlap_count =       49, allowed_overlap_size =      467, name = Rhombencephalon - VII Facial Motor and octavolateralis efferent neurons\n",
      "local-nb_cs-ii-29_import-tests (  36): INFO : i_mask =  46, use_mask = True , overlap_count =        0, allowed_overlap_size =      505, name = Diencephalon - Otpb Cluster 2 \n",
      "local-nb_cs-ii-29_import-tests (  36): INFO : i_mask = 172, use_mask = False, overlap_count =    12588, allowed_overlap_size =      559, name = Rhombencephalon - Glyt2 Stripe 2\n",
      "local-nb_cs-ii-29_import-tests (  36): INFO : i_mask =  33, use_mask = True , overlap_count =        0, allowed_overlap_size =      597, name = Diencephalon - Hypothamic VentroLateral VMAT cluster\n",
      "local-nb_cs-ii-29_import-tests (  36): INFO : i_mask = 138, use_mask = True , overlap_count =        0, allowed_overlap_size =      600, name = Rhombencephalon - Gad1b Cluster 13\n",
      "local-nb_cs-ii-29_import-tests (  36): INFO : i_mask =   6, use_mask = False, overlap_count =    12848, allowed_overlap_size =      610, name = Diencephalon - Dopaminergic Cluster 1 - ventral thalamic and periventricular posterior tubercular DA neurons\n",
      "local-nb_cs-ii-29_import-tests (  36): INFO : i_mask = 293, use_mask = True , overlap_count =        0, allowed_overlap_size =      613, name = Telencephalon - Vmat2 cluster\n",
      "local-nb_cs-ii-29_import-tests (  36): INFO : i_mask = 213, use_mask = True , overlap_count =        0, allowed_overlap_size =      639, name = Rhombencephalon - Ptf1a Cluster 1\n",
      "local-nb_cs-ii-29_import-tests (  36): INFO : i_mask = 217, use_mask = True , overlap_count =        0, allowed_overlap_size =      648, name = Rhombencephalon - Raphe - Superior\n",
      "local-nb_cs-ii-29_import-tests (  36): INFO : i_mask =  39, use_mask = False, overlap_count =     5254, allowed_overlap_size =      659, name = Diencephalon - Medial vglut2 cluster\n",
      "local-nb_cs-ii-29_import-tests (  36): INFO : i_mask = 202, use_mask = True , overlap_count =      198, allowed_overlap_size =      695, name = Rhombencephalon - Olig2 Stripe\n",
      "local-nb_cs-ii-29_import-tests (  36): INFO : i_mask =  41, use_mask = True , overlap_count =        0, allowed_overlap_size =      712, name = Diencephalon - Migrated Posterior Tubercular Area (M2)\n",
      "local-nb_cs-ii-29_import-tests (  36): INFO : i_mask = 110, use_mask = True , overlap_count =       30, allowed_overlap_size =      718, name = Mesencephalon - Vglut2 cluster 1\n",
      "local-nb_cs-ii-29_import-tests (  36): INFO : i_mask = 198, use_mask = False, overlap_count =     3256, allowed_overlap_size =      745, name = Rhombencephalon - Neuropil Region 6\n",
      "local-nb_cs-ii-29_import-tests (  36): INFO : i_mask = 286, use_mask = False, overlap_count =     6368, allowed_overlap_size =      790, name = Telencephalon - Subpallial Otpb Cluster 2\n",
      "local-nb_cs-ii-29_import-tests (  36): INFO : i_mask = 161, use_mask = True , overlap_count =        0, allowed_overlap_size =      853, name = Rhombencephalon - Glyt2 Cluster 13\n",
      "local-nb_cs-ii-29_import-tests (  36): INFO : i_mask =  49, use_mask = False, overlap_count =    39889, allowed_overlap_size =      925, name = Diencephalon - Oxtl Cluster 1 in Preoptic Area\n",
      "local-nb_cs-ii-29_import-tests (  36): INFO : i_mask = 244, use_mask = False, overlap_count =     6219, allowed_overlap_size =      950, name = Rhombencephalon - Vglut2 Stripe 3\n",
      "local-nb_cs-ii-29_import-tests (  36): INFO : i_mask = 276, use_mask = True , overlap_count =      725, allowed_overlap_size =      969, name = Telencephalon - Isl1 cluster 1\n",
      "local-nb_cs-ii-29_import-tests (  36): INFO : i_mask = 157, use_mask = False, overlap_count =    13581, allowed_overlap_size =     1058, name = Rhombencephalon - Glyt2 Cluster 1\n",
      "local-nb_cs-ii-29_import-tests (  36): INFO : i_mask = 266, use_mask = True , overlap_count =        0, allowed_overlap_size =     1176, name = Spinal Cord - Neurons with descending projections labelled by spinal backfills\n",
      "local-nb_cs-ii-29_import-tests (  36): INFO : i_mask = 155, use_mask = True , overlap_count =      535, allowed_overlap_size =     1183, name = Rhombencephalon - Gad1b Stripe 2\n",
      "local-nb_cs-ii-29_import-tests (  36): INFO : i_mask = 269, use_mask = False, overlap_count =    18240, allowed_overlap_size =     1301, name = Spinal Cord - Vglut2 Stripe 1\n",
      "local-nb_cs-ii-29_import-tests (  36): INFO : i_mask = 173, use_mask = False, overlap_count =     6116, allowed_overlap_size =     1303, name = Rhombencephalon - Glyt2 Stripe 3\n",
      "local-nb_cs-ii-29_import-tests (  36): INFO : i_mask = 232, use_mask = False, overlap_count =    11253, allowed_overlap_size =     1392, name = Rhombencephalon - S1181t Cluster\n",
      "local-nb_cs-ii-29_import-tests (  36): INFO : i_mask = 258, use_mask = False, overlap_count =    19840, allowed_overlap_size =     1393, name = Rhombencephalon - X Vagus motorneuron cluster\n",
      "local-nb_cs-ii-29_import-tests (  36): INFO : i_mask = 203, use_mask = True , overlap_count =        0, allowed_overlap_size =     1484, name = Rhombencephalon - Olig2 enriched areas in cerebellum\n",
      "local-nb_cs-ii-29_import-tests (  36): INFO : i_mask =  43, use_mask = False, overlap_count =     8964, allowed_overlap_size =     1589, name = Diencephalon - Olig2 Band 2\n",
      "local-nb_cs-ii-29_import-tests (  36): INFO : i_mask =  12, use_mask = True , overlap_count =        0, allowed_overlap_size =     1611, name = Diencephalon - Dorsal Thalamus\n",
      "local-nb_cs-ii-29_import-tests (  36): INFO : i_mask = 247, use_mask = False, overlap_count =     3405, allowed_overlap_size =     1625, name = Rhombencephalon - Vglut2 cluster 2\n",
      "local-nb_cs-ii-29_import-tests (  36): INFO : i_mask = 260, use_mask = False, overlap_count =    80324, allowed_overlap_size =     1735, name = Spinal Cord - 6.7FDhcrtR-Gal4 Stripe\n",
      "local-nb_cs-ii-29_import-tests (  36): INFO : i_mask = 264, use_mask = False, overlap_count =    62688, allowed_overlap_size =     1735, name = Spinal Cord - Glyt2 Stripe\n",
      "local-nb_cs-ii-29_import-tests (  36): INFO : i_mask =   3, use_mask = False, overlap_count =    40000, allowed_overlap_size =     1780, name = Diencephalon - Anterior pretectum cluster of vmat2 Neurons\n",
      "local-nb_cs-ii-29_import-tests (  36): INFO : i_mask =   5, use_mask = True , overlap_count =        6, allowed_overlap_size =     1894, name = Diencephalon - Diffuse Nucleus of the Intermediate Hypothalamus\n",
      "local-nb_cs-ii-29_import-tests (  36): INFO : i_mask = 245, use_mask = False, overlap_count =    14452, allowed_overlap_size =     1956, name = Rhombencephalon - Vglut2 Stripe 4\n",
      "local-nb_cs-ii-29_import-tests (  36): INFO : i_mask =  65, use_mask = False, overlap_count =     4249, allowed_overlap_size =     2189, name = Diencephalon - Pretectum\n",
      "local-nb_cs-ii-29_import-tests (  36): INFO : i_mask = 194, use_mask = True , overlap_count =      495, allowed_overlap_size =     2281, name = Rhombencephalon - Neuropil Region 2\n",
      "local-nb_cs-ii-29_import-tests (  36): INFO : i_mask = 214, use_mask = False, overlap_count =     5105, allowed_overlap_size =     2284, name = Rhombencephalon - Ptf1a Stripe\n",
      "local-nb_cs-ii-29_import-tests (  36): INFO : i_mask = 255, use_mask = False, overlap_count =    35250, allowed_overlap_size =     2499, name = Rhombencephalon - Vmat2 Stripe1\n",
      "local-nb_cs-ii-29_import-tests (  36): INFO : i_mask =  15, use_mask = True , overlap_count =        0, allowed_overlap_size =     2505, name = Diencephalon - Hypothalamus - Caudal Hypothalamus Neural Cluster\n",
      "local-nb_cs-ii-29_import-tests (  36): INFO : i_mask = 156, use_mask = False, overlap_count =    30885, allowed_overlap_size =     2598, name = Rhombencephalon - Gad1b Stripe 3\n",
      "local-nb_cs-ii-29_import-tests (  36): INFO : i_mask = 154, use_mask = False, overlap_count =    18545, allowed_overlap_size =     2893, name = Rhombencephalon - Gad1b Stripe 1\n",
      "local-nb_cs-ii-29_import-tests (  36): INFO : i_mask =  73, use_mask = False, overlap_count =    35531, allowed_overlap_size =     3025, name = Diencephalon - Rostral Hypothalamus\n",
      "local-nb_cs-ii-29_import-tests (  36): INFO : i_mask = 292, use_mask = True , overlap_count =     1806, allowed_overlap_size =     3140, name = Telencephalon - Vglut2 rind\n",
      "local-nb_cs-ii-29_import-tests (  36): INFO : i_mask = 285, use_mask = False, overlap_count =    91179, allowed_overlap_size =     3277, name = Telencephalon - Subpallial Gad1b cluster\n",
      "local-nb_cs-ii-29_import-tests (  36): INFO : i_mask = 242, use_mask = False, overlap_count =    11990, allowed_overlap_size =     3291, name = Rhombencephalon - Vglut2 Stripe 1\n",
      "local-nb_cs-ii-29_import-tests (  36): INFO : i_mask = 196, use_mask = False, overlap_count =    92171, allowed_overlap_size =     3312, name = Rhombencephalon - Neuropil Region 4\n",
      "local-nb_cs-ii-29_import-tests (  36): INFO : i_mask =  57, use_mask = False, overlap_count =    54588, allowed_overlap_size =     3762, name = Diencephalon - Posterior Tuberculum\n",
      "local-nb_cs-ii-29_import-tests (  36): INFO : i_mask = 129, use_mask = False, overlap_count =    33571, allowed_overlap_size =     4236, name = Rhombencephalon - Cerebelluar-Vglut2 enriched areas\n",
      "local-nb_cs-ii-29_import-tests (  36): INFO : i_mask = 131, use_mask = False, overlap_count =   110350, allowed_overlap_size =     4256, name = Rhombencephalon - Cerebellum Gad1b Enriched Areas\n",
      "local-nb_cs-ii-29_import-tests (  36): INFO : i_mask = 195, use_mask = False, overlap_count =    11344, allowed_overlap_size =     4359, name = Rhombencephalon - Neuropil Region 3\n",
      "local-nb_cs-ii-29_import-tests (  36): INFO : i_mask =   4, use_mask = False, overlap_count =   234991, allowed_overlap_size =     4583, name = Diencephalon - Caudal Hypothalamus\n",
      "local-nb_cs-ii-29_import-tests (  36): INFO : i_mask =  59, use_mask = False, overlap_count =    51090, allowed_overlap_size =     5001, name = Diencephalon - Preoptic Area\n",
      "local-nb_cs-ii-29_import-tests (  36): INFO : i_mask = 222, use_mask = False, overlap_count =    51350, allowed_overlap_size =     5137, name = Rhombencephalon - Rhombomere 5\n",
      "local-nb_cs-ii-29_import-tests (  36): INFO : i_mask = 221, use_mask = False, overlap_count =    30713, allowed_overlap_size =     5343, name = Rhombencephalon - Rhombomere 4\n",
      "local-nb_cs-ii-29_import-tests (  36): INFO : i_mask = 290, use_mask = False, overlap_count =   139478, allowed_overlap_size =     5973, name = Telencephalon - Subpallium\n",
      "local-nb_cs-ii-29_import-tests (  36): INFO : i_mask = 220, use_mask = False, overlap_count =    35899, allowed_overlap_size =     6221, name = Rhombencephalon - Rhombomere 3\n",
      "local-nb_cs-ii-29_import-tests (  36): INFO : i_mask = 107, use_mask = False, overlap_count =    50608, allowed_overlap_size =     7640, name = Mesencephalon - Tegmentum\n",
      "local-nb_cs-ii-29_import-tests (  36): INFO : i_mask = 282, use_mask = False, overlap_count =   297595, allowed_overlap_size =     8132, name = Telencephalon - Pallium\n",
      "local-nb_cs-ii-29_import-tests (  36): INFO : i_mask = 109, use_mask = True , overlap_count =     1973, allowed_overlap_size =     8332, name = Mesencephalon - Torus Semicircularis\n",
      "local-nb_cs-ii-29_import-tests (  36): INFO : i_mask = 223, use_mask = False, overlap_count =   152664, allowed_overlap_size =     8510, name = Rhombencephalon - Rhombomere 6\n",
      "local-nb_cs-ii-29_import-tests (  36): INFO : i_mask = 259, use_mask = False, overlap_count =   117440, allowed_overlap_size =     8618, name = Spinal Cord\n",
      "local-nb_cs-ii-29_import-tests (  36): INFO : i_mask = 219, use_mask = False, overlap_count =   106415, allowed_overlap_size =    11256, name = Rhombencephalon - Rhombomere 2\n",
      "local-nb_cs-ii-29_import-tests (  36): INFO : i_mask = 130, use_mask = False, overlap_count =   140461, allowed_overlap_size =    11614, name = Rhombencephalon - Cerebellum\n",
      "local-nb_cs-ii-29_import-tests (  36): INFO : i_mask =  34, use_mask = False, overlap_count =   263020, allowed_overlap_size =    13835, name = Diencephalon - Intermediate Hypothalamus\n",
      "local-nb_cs-ii-29_import-tests (  36): INFO : i_mask = 197, use_mask = False, overlap_count =    62071, allowed_overlap_size =    15052, name = Rhombencephalon - Neuropil Region 5\n",
      "local-nb_cs-ii-29_import-tests (  36): INFO : i_mask = 274, use_mask = False, overlap_count =   417126, allowed_overlap_size =    20353, name = Telencephalon -\n",
      "local-nb_cs-ii-29_import-tests (  36): INFO : i_mask = 218, use_mask = False, overlap_count =   265739, allowed_overlap_size =    24324, name = Rhombencephalon - Rhombomere 1\n",
      "local-nb_cs-ii-29_import-tests (  36): INFO : i_mask = 224, use_mask = False, overlap_count =   453362, allowed_overlap_size =    25896, name = Rhombencephalon - Rhombomere 7\n",
      "local-nb_cs-ii-29_import-tests (  36): INFO : i_mask =   0, use_mask = False, overlap_count =   865725, allowed_overlap_size =    53148, name = Diencephalon -\n",
      "local-nb_cs-ii-29_import-tests (  36): INFO : i_mask =  93, use_mask = False, overlap_count =   867766, allowed_overlap_size =    66387, name = Mesencephalon -\n",
      "local-nb_cs-ii-29_import-tests (  36): INFO : i_mask = 113, use_mask = False, overlap_count =  1086479, allowed_overlap_size =    96244, name = Rhombencephalon -\n",
      "local-nb_cs-ii-29_import-tests (  36): INFO : gen_non_overlapping_labels took 0:00:11.721309 h:m:s.\n",
      "local-nb_cs-ii-29_import-tests (  22): INFO : ... len(label_names)           = 32\n",
      "local-nb_cs-ii-29_import-tests (  23): INFO : ... np.unique(label_array).size = 33\n",
      "local-nb_cs-ii-29_import-tests (  12): INFO : Performing iter 3. Captured 240 of 294 labels (54 remaining).\n",
      "local-nb_cs-ii-29_import-tests (  36): INFO : i_mask =   7, use_mask = True , overlap_count =        0, allowed_overlap_size =      190, name = Diencephalon - Dopaminergic Cluster 2 - posterior tuberculum\n",
      "local-nb_cs-ii-29_import-tests (  36): INFO : i_mask =  22, use_mask = False, overlap_count =     2050, allowed_overlap_size =      213, name = Diencephalon - Hypothalamus Hcrt Neurons\n",
      "local-nb_cs-ii-29_import-tests (  36): INFO : i_mask =  17, use_mask = False, overlap_count =      739, allowed_overlap_size =      290, name = Diencephalon - Hypothalamus 6.7FRhcrtR-Gal4 cluster 1\n",
      "local-nb_cs-ii-29_import-tests (  36): INFO : i_mask = 172, use_mask = True , overlap_count =        0, allowed_overlap_size =      559, name = Rhombencephalon - Glyt2 Stripe 2\n",
      "local-nb_cs-ii-29_import-tests (  36): INFO : i_mask =   6, use_mask = True , overlap_count =        1, allowed_overlap_size =      610, name = Diencephalon - Dopaminergic Cluster 1 - ventral thalamic and periventricular posterior tubercular DA neurons\n",
      "local-nb_cs-ii-29_import-tests (  36): INFO : i_mask =  39, use_mask = True , overlap_count =      357, allowed_overlap_size =      659, name = Diencephalon - Medial vglut2 cluster\n",
      "local-nb_cs-ii-29_import-tests (  36): INFO : i_mask = 198, use_mask = True , overlap_count =        0, allowed_overlap_size =      745, name = Rhombencephalon - Neuropil Region 6\n",
      "local-nb_cs-ii-29_import-tests (  36): INFO : i_mask = 286, use_mask = True , overlap_count =        0, allowed_overlap_size =      790, name = Telencephalon - Subpallial Otpb Cluster 2\n",
      "local-nb_cs-ii-29_import-tests (  36): INFO : i_mask =  49, use_mask = False, overlap_count =    25452, allowed_overlap_size =      925, name = Diencephalon - Oxtl Cluster 1 in Preoptic Area\n",
      "local-nb_cs-ii-29_import-tests (  36): INFO : i_mask = 244, use_mask = True , overlap_count =        0, allowed_overlap_size =      950, name = Rhombencephalon - Vglut2 Stripe 3\n",
      "local-nb_cs-ii-29_import-tests (  36): INFO : i_mask = 157, use_mask = True , overlap_count =      158, allowed_overlap_size =     1058, name = Rhombencephalon - Glyt2 Cluster 1\n",
      "local-nb_cs-ii-29_import-tests (  36): INFO : i_mask = 269, use_mask = True , overlap_count =        0, allowed_overlap_size =     1301, name = Spinal Cord - Vglut2 Stripe 1\n",
      "local-nb_cs-ii-29_import-tests (  36): INFO : i_mask = 173, use_mask = False, overlap_count =    20912, allowed_overlap_size =     1303, name = Rhombencephalon - Glyt2 Stripe 3\n",
      "local-nb_cs-ii-29_import-tests (  36): INFO : i_mask = 232, use_mask = False, overlap_count =    39449, allowed_overlap_size =     1392, name = Rhombencephalon - S1181t Cluster\n",
      "local-nb_cs-ii-29_import-tests (  36): INFO : i_mask = 258, use_mask = False, overlap_count =    13746, allowed_overlap_size =     1393, name = Rhombencephalon - X Vagus motorneuron cluster\n",
      "local-nb_cs-ii-29_import-tests (  36): INFO : i_mask =  43, use_mask = False, overlap_count =    14740, allowed_overlap_size =     1589, name = Diencephalon - Olig2 Band 2\n",
      "local-nb_cs-ii-29_import-tests (  36): INFO : i_mask = 247, use_mask = False, overlap_count =     2120, allowed_overlap_size =     1625, name = Rhombencephalon - Vglut2 cluster 2\n",
      "local-nb_cs-ii-29_import-tests (  36): INFO : i_mask = 260, use_mask = False, overlap_count =    35522, allowed_overlap_size =     1735, name = Spinal Cord - 6.7FDhcrtR-Gal4 Stripe\n",
      "local-nb_cs-ii-29_import-tests (  36): INFO : i_mask = 264, use_mask = False, overlap_count =    65269, allowed_overlap_size =     1735, name = Spinal Cord - Glyt2 Stripe\n",
      "local-nb_cs-ii-29_import-tests (  36): INFO : i_mask =   3, use_mask = True , overlap_count =        0, allowed_overlap_size =     1780, name = Diencephalon - Anterior pretectum cluster of vmat2 Neurons\n",
      "local-nb_cs-ii-29_import-tests (  36): INFO : i_mask = 245, use_mask = True , overlap_count =        0, allowed_overlap_size =     1956, name = Rhombencephalon - Vglut2 Stripe 4\n",
      "local-nb_cs-ii-29_import-tests (  36): INFO : i_mask =  65, use_mask = False, overlap_count =   101905, allowed_overlap_size =     2189, name = Diencephalon - Pretectum\n",
      "local-nb_cs-ii-29_import-tests (  36): INFO : i_mask = 214, use_mask = True , overlap_count =        0, allowed_overlap_size =     2284, name = Rhombencephalon - Ptf1a Stripe\n",
      "local-nb_cs-ii-29_import-tests (  36): INFO : i_mask = 255, use_mask = False, overlap_count =    55845, allowed_overlap_size =     2499, name = Rhombencephalon - Vmat2 Stripe1\n",
      "local-nb_cs-ii-29_import-tests (  36): INFO : i_mask = 156, use_mask = False, overlap_count =   125603, allowed_overlap_size =     2598, name = Rhombencephalon - Gad1b Stripe 3\n",
      "local-nb_cs-ii-29_import-tests (  36): INFO : i_mask = 154, use_mask = False, overlap_count =   167186, allowed_overlap_size =     2893, name = Rhombencephalon - Gad1b Stripe 1\n",
      "local-nb_cs-ii-29_import-tests (  36): INFO : i_mask =  73, use_mask = False, overlap_count =     4865, allowed_overlap_size =     3025, name = Diencephalon - Rostral Hypothalamus\n",
      "local-nb_cs-ii-29_import-tests (  36): INFO : i_mask = 285, use_mask = False, overlap_count =    66858, allowed_overlap_size =     3277, name = Telencephalon - Subpallial Gad1b cluster\n",
      "local-nb_cs-ii-29_import-tests (  36): INFO : i_mask = 242, use_mask = False, overlap_count =     5767, allowed_overlap_size =     3291, name = Rhombencephalon - Vglut2 Stripe 1\n",
      "local-nb_cs-ii-29_import-tests (  36): INFO : i_mask = 196, use_mask = True , overlap_count =        0, allowed_overlap_size =     3312, name = Rhombencephalon - Neuropil Region 4\n",
      "local-nb_cs-ii-29_import-tests (  36): INFO : i_mask =  57, use_mask = False, overlap_count =   108907, allowed_overlap_size =     3762, name = Diencephalon - Posterior Tuberculum\n",
      "local-nb_cs-ii-29_import-tests (  36): INFO : i_mask = 129, use_mask = True , overlap_count =        0, allowed_overlap_size =     4236, name = Rhombencephalon - Cerebelluar-Vglut2 enriched areas\n",
      "local-nb_cs-ii-29_import-tests (  36): INFO : i_mask = 131, use_mask = False, overlap_count =    39372, allowed_overlap_size =     4256, name = Rhombencephalon - Cerebellum Gad1b Enriched Areas\n",
      "local-nb_cs-ii-29_import-tests (  36): INFO : i_mask = 195, use_mask = True , overlap_count =        0, allowed_overlap_size =     4359, name = Rhombencephalon - Neuropil Region 3\n",
      "local-nb_cs-ii-29_import-tests (  36): INFO : i_mask =   4, use_mask = True , overlap_count =        0, allowed_overlap_size =     4583, name = Diencephalon - Caudal Hypothalamus\n",
      "local-nb_cs-ii-29_import-tests (  36): INFO : i_mask =  59, use_mask = False, overlap_count =    39640, allowed_overlap_size =     5001, name = Diencephalon - Preoptic Area\n",
      "local-nb_cs-ii-29_import-tests (  36): INFO : i_mask = 222, use_mask = False, overlap_count =    82923, allowed_overlap_size =     5137, name = Rhombencephalon - Rhombomere 5\n",
      "local-nb_cs-ii-29_import-tests (  36): INFO : i_mask = 221, use_mask = False, overlap_count =    64591, allowed_overlap_size =     5343, name = Rhombencephalon - Rhombomere 4\n",
      "local-nb_cs-ii-29_import-tests (  36): INFO : i_mask = 290, use_mask = False, overlap_count =    78963, allowed_overlap_size =     5973, name = Telencephalon - Subpallium\n",
      "local-nb_cs-ii-29_import-tests (  36): INFO : i_mask = 220, use_mask = False, overlap_count =    78658, allowed_overlap_size =     6221, name = Rhombencephalon - Rhombomere 3\n",
      "local-nb_cs-ii-29_import-tests (  36): INFO : i_mask = 107, use_mask = True , overlap_count =     4332, allowed_overlap_size =     7640, name = Mesencephalon - Tegmentum\n",
      "local-nb_cs-ii-29_import-tests (  36): INFO : i_mask = 282, use_mask = True , overlap_count =        0, allowed_overlap_size =     8132, name = Telencephalon - Pallium\n",
      "local-nb_cs-ii-29_import-tests (  36): INFO : i_mask = 223, use_mask = False, overlap_count =   186988, allowed_overlap_size =     8510, name = Rhombencephalon - Rhombomere 6\n",
      "local-nb_cs-ii-29_import-tests (  36): INFO : i_mask = 259, use_mask = False, overlap_count =   114445, allowed_overlap_size =     8618, name = Spinal Cord\n",
      "local-nb_cs-ii-29_import-tests (  36): INFO : i_mask = 219, use_mask = False, overlap_count =   130479, allowed_overlap_size =    11256, name = Rhombencephalon - Rhombomere 2\n",
      "local-nb_cs-ii-29_import-tests (  36): INFO : i_mask = 130, use_mask = False, overlap_count =   250125, allowed_overlap_size =    11614, name = Rhombencephalon - Cerebellum\n",
      "local-nb_cs-ii-29_import-tests (  36): INFO : i_mask =  34, use_mask = False, overlap_count =    22817, allowed_overlap_size =    13835, name = Diencephalon - Intermediate Hypothalamus\n",
      "local-nb_cs-ii-29_import-tests (  36): INFO : i_mask = 197, use_mask = False, overlap_count =   145845, allowed_overlap_size =    15052, name = Rhombencephalon - Neuropil Region 5\n",
      "local-nb_cs-ii-29_import-tests (  36): INFO : i_mask = 274, use_mask = False, overlap_count =   831617, allowed_overlap_size =    20353, name = Telencephalon -\n",
      "local-nb_cs-ii-29_import-tests (  36): INFO : i_mask = 218, use_mask = False, overlap_count =   627495, allowed_overlap_size =    24324, name = Rhombencephalon - Rhombomere 1\n",
      "local-nb_cs-ii-29_import-tests (  36): INFO : i_mask = 224, use_mask = False, overlap_count =   846990, allowed_overlap_size =    25896, name = Rhombencephalon - Rhombomere 7\n",
      "local-nb_cs-ii-29_import-tests (  36): INFO : i_mask =   0, use_mask = False, overlap_count =   763533, allowed_overlap_size =    53148, name = Diencephalon -\n",
      "local-nb_cs-ii-29_import-tests (  36): INFO : i_mask =  93, use_mask = False, overlap_count =   682405, allowed_overlap_size =    66387, name = Mesencephalon -\n",
      "local-nb_cs-ii-29_import-tests (  36): INFO : i_mask = 113, use_mask = False, overlap_count =  2053265, allowed_overlap_size =    96244, name = Rhombencephalon -\n",
      "local-nb_cs-ii-29_import-tests (  36): INFO : gen_non_overlapping_labels took 0:00:06.978488 h:m:s.\n",
      "local-nb_cs-ii-29_import-tests (  22): INFO : ... len(label_names)           = 18\n",
      "local-nb_cs-ii-29_import-tests (  23): INFO : ... np.unique(label_array).size = 19\n",
      "local-nb_cs-ii-29_import-tests (  12): INFO : Performing iter 4. Captured 258 of 294 labels (36 remaining).\n",
      "local-nb_cs-ii-29_import-tests (  36): INFO : i_mask =  22, use_mask = True , overlap_count =        0, allowed_overlap_size =      213, name = Diencephalon - Hypothalamus Hcrt Neurons\n",
      "local-nb_cs-ii-29_import-tests (  36): INFO : i_mask =  17, use_mask = True , overlap_count =        0, allowed_overlap_size =      290, name = Diencephalon - Hypothalamus 6.7FRhcrtR-Gal4 cluster 1\n",
      "local-nb_cs-ii-29_import-tests (  36): INFO : i_mask =  49, use_mask = False, overlap_count =     2822, allowed_overlap_size =      925, name = Diencephalon - Oxtl Cluster 1 in Preoptic Area\n",
      "local-nb_cs-ii-29_import-tests (  36): INFO : i_mask = 173, use_mask = True , overlap_count =        0, allowed_overlap_size =     1303, name = Rhombencephalon - Glyt2 Stripe 3\n",
      "local-nb_cs-ii-29_import-tests (  36): INFO : i_mask = 232, use_mask = True , overlap_count =        0, allowed_overlap_size =     1392, name = Rhombencephalon - S1181t Cluster\n",
      "local-nb_cs-ii-29_import-tests (  36): INFO : i_mask = 258, use_mask = True , overlap_count =        0, allowed_overlap_size =     1393, name = Rhombencephalon - X Vagus motorneuron cluster\n",
      "local-nb_cs-ii-29_import-tests (  36): INFO : i_mask =  43, use_mask = True , overlap_count =        0, allowed_overlap_size =     1589, name = Diencephalon - Olig2 Band 2\n",
      "local-nb_cs-ii-29_import-tests (  36): INFO : i_mask = 247, use_mask = False, overlap_count =    65491, allowed_overlap_size =     1625, name = Rhombencephalon - Vglut2 cluster 2\n",
      "local-nb_cs-ii-29_import-tests (  36): INFO : i_mask = 260, use_mask = False, overlap_count =    11695, allowed_overlap_size =     1735, name = Spinal Cord - 6.7FDhcrtR-Gal4 Stripe\n",
      "local-nb_cs-ii-29_import-tests (  36): INFO : i_mask = 264, use_mask = True , overlap_count =     1631, allowed_overlap_size =     1735, name = Spinal Cord - Glyt2 Stripe\n",
      "local-nb_cs-ii-29_import-tests (  36): INFO : i_mask =  65, use_mask = True , overlap_count =        0, allowed_overlap_size =     2189, name = Diencephalon - Pretectum\n",
      "local-nb_cs-ii-29_import-tests (  36): INFO : i_mask = 255, use_mask = True , overlap_count =      673, allowed_overlap_size =     2499, name = Rhombencephalon - Vmat2 Stripe1\n",
      "local-nb_cs-ii-29_import-tests (  36): INFO : i_mask = 156, use_mask = False, overlap_count =    45589, allowed_overlap_size =     2598, name = Rhombencephalon - Gad1b Stripe 3\n",
      "local-nb_cs-ii-29_import-tests (  36): INFO : i_mask = 154, use_mask = False, overlap_count =    83275, allowed_overlap_size =     2893, name = Rhombencephalon - Gad1b Stripe 1\n",
      "local-nb_cs-ii-29_import-tests (  36): INFO : i_mask =  73, use_mask = False, overlap_count =    28013, allowed_overlap_size =     3025, name = Diencephalon - Rostral Hypothalamus\n",
      "local-nb_cs-ii-29_import-tests (  36): INFO : i_mask = 285, use_mask = True , overlap_count =        0, allowed_overlap_size =     3277, name = Telencephalon - Subpallial Gad1b cluster\n",
      "local-nb_cs-ii-29_import-tests (  36): INFO : i_mask = 242, use_mask = False, overlap_count =    43156, allowed_overlap_size =     3291, name = Rhombencephalon - Vglut2 Stripe 1\n",
      "local-nb_cs-ii-29_import-tests (  36): INFO : i_mask =  57, use_mask = False, overlap_count =    92856, allowed_overlap_size =     3762, name = Diencephalon - Posterior Tuberculum\n",
      "local-nb_cs-ii-29_import-tests (  36): INFO : i_mask = 131, use_mask = True , overlap_count =        0, allowed_overlap_size =     4256, name = Rhombencephalon - Cerebellum Gad1b Enriched Areas\n",
      "local-nb_cs-ii-29_import-tests (  36): INFO : i_mask =  59, use_mask = False, overlap_count =    74579, allowed_overlap_size =     5001, name = Diencephalon - Preoptic Area\n",
      "local-nb_cs-ii-29_import-tests (  36): INFO : i_mask = 222, use_mask = False, overlap_count =     6852, allowed_overlap_size =     5137, name = Rhombencephalon - Rhombomere 5\n",
      "local-nb_cs-ii-29_import-tests (  36): INFO : i_mask = 221, use_mask = False, overlap_count =    29040, allowed_overlap_size =     5343, name = Rhombencephalon - Rhombomere 4\n",
      "local-nb_cs-ii-29_import-tests (  36): INFO : i_mask = 290, use_mask = False, overlap_count =   322418, allowed_overlap_size =     5973, name = Telencephalon - Subpallium\n",
      "local-nb_cs-ii-29_import-tests (  36): INFO : i_mask = 220, use_mask = False, overlap_count =    46291, allowed_overlap_size =     6221, name = Rhombencephalon - Rhombomere 3\n",
      "local-nb_cs-ii-29_import-tests (  36): INFO : i_mask = 223, use_mask = False, overlap_count =    29624, allowed_overlap_size =     8510, name = Rhombencephalon - Rhombomere 6\n",
      "local-nb_cs-ii-29_import-tests (  36): INFO : i_mask = 259, use_mask = False, overlap_count =   137598, allowed_overlap_size =     8618, name = Spinal Cord\n",
      "local-nb_cs-ii-29_import-tests (  36): INFO : i_mask = 219, use_mask = False, overlap_count =    84362, allowed_overlap_size =    11256, name = Rhombencephalon - Rhombomere 2\n",
      "local-nb_cs-ii-29_import-tests (  36): INFO : i_mask = 130, use_mask = False, overlap_count =   390716, allowed_overlap_size =    11614, name = Rhombencephalon - Cerebellum\n",
      "local-nb_cs-ii-29_import-tests (  36): INFO : i_mask =  34, use_mask = True , overlap_count =     5164, allowed_overlap_size =    13835, name = Diencephalon - Intermediate Hypothalamus\n",
      "local-nb_cs-ii-29_import-tests (  36): INFO : i_mask = 197, use_mask = True , overlap_count =      520, allowed_overlap_size =    15052, name = Rhombencephalon - Neuropil Region 5\n",
      "local-nb_cs-ii-29_import-tests (  36): INFO : i_mask = 274, use_mask = False, overlap_count =   332533, allowed_overlap_size =    20353, name = Telencephalon -\n",
      "local-nb_cs-ii-29_import-tests (  36): INFO : i_mask = 218, use_mask = False, overlap_count =   819577, allowed_overlap_size =    24324, name = Rhombencephalon - Rhombomere 1\n",
      "local-nb_cs-ii-29_import-tests (  36): INFO : i_mask = 224, use_mask = False, overlap_count =   659224, allowed_overlap_size =    25896, name = Rhombencephalon - Rhombomere 7\n",
      "local-nb_cs-ii-29_import-tests (  36): INFO : i_mask =   0, use_mask = False, overlap_count =  1768858, allowed_overlap_size =    53148, name = Diencephalon -\n",
      "local-nb_cs-ii-29_import-tests (  36): INFO : i_mask =  93, use_mask = False, overlap_count =    83735, allowed_overlap_size =    66387, name = Mesencephalon -\n",
      "local-nb_cs-ii-29_import-tests (  36): INFO : i_mask = 113, use_mask = False, overlap_count =  2504923, allowed_overlap_size =    96244, name = Rhombencephalon -\n",
      "local-nb_cs-ii-29_import-tests (  36): INFO : gen_non_overlapping_labels took 0:00:04.957981 h:m:s.\n",
      "local-nb_cs-ii-29_import-tests (  22): INFO : ... len(label_names)           = 13\n",
      "local-nb_cs-ii-29_import-tests (  23): INFO : ... np.unique(label_array).size = 14\n",
      "local-nb_cs-ii-29_import-tests (  12): INFO : Performing iter 5. Captured 271 of 294 labels (23 remaining).\n",
      "local-nb_cs-ii-29_import-tests (  36): INFO : i_mask =  49, use_mask = True , overlap_count =        0, allowed_overlap_size =      925, name = Diencephalon - Oxtl Cluster 1 in Preoptic Area\n",
      "local-nb_cs-ii-29_import-tests (  36): INFO : i_mask = 247, use_mask = True , overlap_count =        0, allowed_overlap_size =     1625, name = Rhombencephalon - Vglut2 cluster 2\n",
      "local-nb_cs-ii-29_import-tests (  36): INFO : i_mask = 260, use_mask = True , overlap_count =        0, allowed_overlap_size =     1735, name = Spinal Cord - 6.7FDhcrtR-Gal4 Stripe\n",
      "local-nb_cs-ii-29_import-tests (  36): INFO : i_mask = 156, use_mask = True , overlap_count =     1931, allowed_overlap_size =     2598, name = Rhombencephalon - Gad1b Stripe 3\n",
      "local-nb_cs-ii-29_import-tests (  36): INFO : i_mask = 154, use_mask = True , overlap_count =        0, allowed_overlap_size =     2893, name = Rhombencephalon - Gad1b Stripe 1\n",
      "local-nb_cs-ii-29_import-tests (  36): INFO : i_mask =  73, use_mask = True , overlap_count =        0, allowed_overlap_size =     3025, name = Diencephalon - Rostral Hypothalamus\n",
      "local-nb_cs-ii-29_import-tests (  36): INFO : i_mask = 242, use_mask = True , overlap_count =      640, allowed_overlap_size =     3291, name = Rhombencephalon - Vglut2 Stripe 1\n",
      "local-nb_cs-ii-29_import-tests (  36): INFO : i_mask =  57, use_mask = False, overlap_count =    84660, allowed_overlap_size =     3762, name = Diencephalon - Posterior Tuberculum\n",
      "local-nb_cs-ii-29_import-tests (  36): INFO : i_mask =  59, use_mask = False, overlap_count =    68099, allowed_overlap_size =     5001, name = Diencephalon - Preoptic Area\n",
      "local-nb_cs-ii-29_import-tests (  36): INFO : i_mask = 222, use_mask = False, overlap_count =    26898, allowed_overlap_size =     5137, name = Rhombencephalon - Rhombomere 5\n",
      "local-nb_cs-ii-29_import-tests (  36): INFO : i_mask = 221, use_mask = False, overlap_count =    38169, allowed_overlap_size =     5343, name = Rhombencephalon - Rhombomere 4\n",
      "local-nb_cs-ii-29_import-tests (  36): INFO : i_mask = 290, use_mask = True , overlap_count =       38, allowed_overlap_size =     5973, name = Telencephalon - Subpallium\n",
      "local-nb_cs-ii-29_import-tests (  36): INFO : i_mask = 220, use_mask = False, overlap_count =    79097, allowed_overlap_size =     6221, name = Rhombencephalon - Rhombomere 3\n",
      "local-nb_cs-ii-29_import-tests (  36): INFO : i_mask = 223, use_mask = False, overlap_count =   245059, allowed_overlap_size =     8510, name = Rhombencephalon - Rhombomere 6\n",
      "local-nb_cs-ii-29_import-tests (  36): INFO : i_mask = 259, use_mask = False, overlap_count =    51605, allowed_overlap_size =     8618, name = Spinal Cord\n",
      "local-nb_cs-ii-29_import-tests (  36): INFO : i_mask = 219, use_mask = False, overlap_count =   152171, allowed_overlap_size =    11256, name = Rhombencephalon - Rhombomere 2\n",
      "local-nb_cs-ii-29_import-tests (  36): INFO : i_mask = 130, use_mask = True , overlap_count =      197, allowed_overlap_size =    11614, name = Rhombencephalon - Cerebellum\n",
      "local-nb_cs-ii-29_import-tests (  36): INFO : i_mask = 274, use_mask = False, overlap_count =   589398, allowed_overlap_size =    20353, name = Telencephalon -\n",
      "local-nb_cs-ii-29_import-tests (  36): INFO : i_mask = 218, use_mask = False, overlap_count =  1048119, allowed_overlap_size =    24324, name = Rhombencephalon - Rhombomere 1\n",
      "local-nb_cs-ii-29_import-tests (  36): INFO : i_mask = 224, use_mask = False, overlap_count =   541116, allowed_overlap_size =    25896, name = Rhombencephalon - Rhombomere 7\n",
      "local-nb_cs-ii-29_import-tests (  36): INFO : i_mask =   0, use_mask = False, overlap_count =   402441, allowed_overlap_size =    53148, name = Diencephalon -\n",
      "local-nb_cs-ii-29_import-tests (  36): INFO : i_mask =  93, use_mask = True , overlap_count =       80, allowed_overlap_size =    66387, name = Mesencephalon -\n",
      "local-nb_cs-ii-29_import-tests (  36): INFO : i_mask = 113, use_mask = False, overlap_count =  2313879, allowed_overlap_size =    96244, name = Rhombencephalon -\n",
      "local-nb_cs-ii-29_import-tests (  36): INFO : gen_non_overlapping_labels took 0:00:03.573597 h:m:s.\n",
      "local-nb_cs-ii-29_import-tests (  22): INFO : ... len(label_names)           = 10\n",
      "local-nb_cs-ii-29_import-tests (  23): INFO : ... np.unique(label_array).size = 11\n",
      "local-nb_cs-ii-29_import-tests (  12): INFO : Performing iter 6. Captured 281 of 294 labels (13 remaining).\n",
      "local-nb_cs-ii-29_import-tests (  36): INFO : i_mask =  57, use_mask = True , overlap_count =        0, allowed_overlap_size =     3762, name = Diencephalon - Posterior Tuberculum\n",
      "local-nb_cs-ii-29_import-tests (  36): INFO : i_mask =  59, use_mask = False, overlap_count =    22632, allowed_overlap_size =     5001, name = Diencephalon - Preoptic Area\n",
      "local-nb_cs-ii-29_import-tests (  36): INFO : i_mask = 222, use_mask = True , overlap_count =        0, allowed_overlap_size =     5137, name = Rhombencephalon - Rhombomere 5\n",
      "local-nb_cs-ii-29_import-tests (  36): INFO : i_mask = 221, use_mask = True , overlap_count =     1407, allowed_overlap_size =     5343, name = Rhombencephalon - Rhombomere 4\n",
      "local-nb_cs-ii-29_import-tests (  36): INFO : i_mask = 220, use_mask = True , overlap_count =     1895, allowed_overlap_size =     6221, name = Rhombencephalon - Rhombomere 3\n",
      "local-nb_cs-ii-29_import-tests (  36): INFO : i_mask = 223, use_mask = False, overlap_count =    18671, allowed_overlap_size =     8510, name = Rhombencephalon - Rhombomere 6\n",
      "local-nb_cs-ii-29_import-tests (  36): INFO : i_mask = 259, use_mask = True , overlap_count =        0, allowed_overlap_size =     8618, name = Spinal Cord\n",
      "local-nb_cs-ii-29_import-tests (  36): INFO : i_mask = 219, use_mask = False, overlap_count =    15219, allowed_overlap_size =    11256, name = Rhombencephalon - Rhombomere 2\n",
      "local-nb_cs-ii-29_import-tests (  36): INFO : i_mask = 274, use_mask = True , overlap_count =        0, allowed_overlap_size =    20353, name = Telencephalon -\n",
      "local-nb_cs-ii-29_import-tests (  36): INFO : i_mask = 218, use_mask = True , overlap_count =        0, allowed_overlap_size =    24324, name = Rhombencephalon - Rhombomere 1\n",
      "local-nb_cs-ii-29_import-tests (  36): INFO : i_mask = 224, use_mask = True , overlap_count =        9, allowed_overlap_size =    25896, name = Rhombencephalon - Rhombomere 7\n",
      "local-nb_cs-ii-29_import-tests (  36): INFO : i_mask =   0, use_mask = False, overlap_count =   548421, allowed_overlap_size =    53148, name = Diencephalon -\n",
      "local-nb_cs-ii-29_import-tests (  36): INFO : i_mask = 113, use_mask = False, overlap_count =  6338688, allowed_overlap_size =    96244, name = Rhombencephalon -\n",
      "local-nb_cs-ii-29_import-tests (  36): INFO : gen_non_overlapping_labels took 0:00:02.643406 h:m:s.\n",
      "local-nb_cs-ii-29_import-tests (  22): INFO : ... len(label_names)           = 8\n",
      "local-nb_cs-ii-29_import-tests (  23): INFO : ... np.unique(label_array).size = 9\n",
      "local-nb_cs-ii-29_import-tests (  12): INFO : Performing iter 7. Captured 289 of 294 labels (5 remaining).\n",
      "local-nb_cs-ii-29_import-tests (  36): INFO : i_mask =  59, use_mask = True , overlap_count =        0, allowed_overlap_size =     5001, name = Diencephalon - Preoptic Area\n",
      "local-nb_cs-ii-29_import-tests (  36): INFO : i_mask = 223, use_mask = True , overlap_count =        0, allowed_overlap_size =     8510, name = Rhombencephalon - Rhombomere 6\n",
      "local-nb_cs-ii-29_import-tests (  36): INFO : i_mask = 219, use_mask = True , overlap_count =     3142, allowed_overlap_size =    11256, name = Rhombencephalon - Rhombomere 2\n",
      "local-nb_cs-ii-29_import-tests (  36): INFO : i_mask =   0, use_mask = False, overlap_count =   485228, allowed_overlap_size =    53148, name = Diencephalon -\n",
      "local-nb_cs-ii-29_import-tests (  36): INFO : i_mask = 113, use_mask = False, overlap_count =  1896162, allowed_overlap_size =    96244, name = Rhombencephalon -\n",
      "local-nb_cs-ii-29_import-tests (  36): INFO : gen_non_overlapping_labels took 0:00:01.068196 h:m:s.\n",
      "local-nb_cs-ii-29_import-tests (  22): INFO : ... len(label_names)           = 3\n",
      "local-nb_cs-ii-29_import-tests (  23): INFO : ... np.unique(label_array).size = 4\n",
      "local-nb_cs-ii-29_import-tests (  12): INFO : Performing iter 8. Captured 292 of 294 labels (2 remaining).\n",
      "local-nb_cs-ii-29_import-tests (  36): INFO : i_mask =   0, use_mask = True , overlap_count =        0, allowed_overlap_size =    53148, name = Diencephalon -\n",
      "local-nb_cs-ii-29_import-tests (  36): INFO : i_mask = 113, use_mask = True , overlap_count =      172, allowed_overlap_size =    96244, name = Rhombencephalon -\n",
      "local-nb_cs-ii-29_import-tests (  36): INFO : gen_non_overlapping_labels took 0:00:00.675702 h:m:s.\n",
      "local-nb_cs-ii-29_import-tests (  22): INFO : ... len(label_names)           = 2\n",
      "local-nb_cs-ii-29_import-tests (  23): INFO : ... np.unique(label_array).size = 3\n",
      "local-nb_cs-ii-29_import-tests (  32): INFO : All labels captured in 9 arrays (0.01 allowed overlap).\n"
     ]
    }
   ],
   "source": [
    "# ALL LABEL MOD\n",
    "\n",
    "labels_arrays: list[np.ndarray] = []\n",
    "labels_names_lists: list[list[str]] = []\n",
    "remaining_labels: set[str] = set(mask_names)\n",
    "captured_labels: list[str] = []\n",
    "\n",
    "allowed_overlap = 0.01\n",
    "\n",
    "i = 0\n",
    "while remaining_labels:\n",
    "    log.info('Performing iter {}. Captured {} of {} labels ({} remaining).',\n",
    "             i, len(captured_labels), len(mask_names), len(remaining_labels))\n",
    "    \n",
    "    label_array, label_names = gen_non_overlapping_labels(\n",
    "        mask_data=masks_ndarray,\n",
    "        names=mask_names,\n",
    "        asort=mask_sizes_small_first_asort,\n",
    "        ignore_list=captured_labels,\n",
    "        allowed_overlap_fraction=allowed_overlap)\n",
    "    \n",
    "    log.info(f'... {len(label_names)                = }')\n",
    "    log.info(f'... {np.unique(label_array).size - 1 = }')\n",
    "    \n",
    "    labels_arrays.append(label_array)\n",
    "    labels_names_lists.append(label_names)\n",
    "    captured_labels += label_names\n",
    "    [remaining_labels.remove(n) for n in label_names]\n",
    "    \n",
    "    i += 1\n",
    "\n",
    "log.info('All labels captured in {} arrays ({} allowed overlap).', \n",
    "         len(labels_arrays), allowed_overlap)"
   ],
   "metadata": {
    "collapsed": false,
    "ExecuteTime": {
     "end_time": "2023-10-19T21:19:27.401341800Z",
     "start_time": "2023-10-19T21:17:24.400944500Z"
    }
   },
   "id": "93e6da812ec44056"
  },
  {
   "cell_type": "code",
   "execution_count": null,
   "outputs": [],
   "source": [
    "mask_ignore_list = [\n",
    "    'Ganglia - Eyes',\n",
    "    'Rhombencephalon -',\n",
    "    'Mesencephalon -',\n",
    "    'Diencephalon -',\n",
    "    'Telencephalon -'    \n",
    "]\n",
    "\n",
    "small_labels_ndarray, small_label_names = gen_non_overlapping_labels(\n",
    "    mask_data=masks_ndarray,\n",
    "    names=mask_names,\n",
    "    asort=mask_sizes_small_first_asort,\n",
    "    ignore_list=mask_ignore_list,\n",
    "    sizes=mask_sizes,\n",
    "    allowed_overlap_fraction=0.15)\n",
    "log.info('Found {:d} minimally-intersecting small masks.',\n",
    "         len(small_label_names))\n",
    "   \n",
    "large_labels_ndarray, large_label_names = gen_non_overlapping_labels(\n",
    "    mask_data=masks_ndarray,\n",
    "    names=mask_names,\n",
    "    asort=mask_sizes_large_first_asort,\n",
    "    ignore_list=mask_ignore_list,\n",
    "    sizes=mask_sizes,\n",
    "    allowed_overlap_fraction=0.15) \n",
    "log.info('Found {:d} minimally-intersecting large masks.',\n",
    "         len(large_label_names))"
   ],
   "metadata": {
    "collapsed": false,
    "ExecuteTime": {
     "start_time": "2023-10-07T15:18:41.552053200Z"
    }
   },
   "id": "84b886736e2af115"
  },
  {
   "cell_type": "code",
   "execution_count": 32,
   "outputs": [
    {
     "name": "stdout",
     "output_type": "stream",
     "text": [
      "large_label_names = \n",
      "['Mesencephalon - Tectum Stratum Periventriculare', 'Rhombencephalon - Rhombomere 7', 'Rhombencephalon - Rhombomere 1', 'Mesencephalon - Tecum Neuropil', 'Diencephalon - Intermediate Hypothalamus', 'Rhombencephalon - Rhombomere 2', 'Spinal Cord', 'Rhombencephalon - Rhombomere 6', 'Mesencephalon - Torus Semicircularis', 'Telencephalon - Pallium', 'Mesencephalon - Tegmentum', 'Rhombencephalon - Rhombomere 3', 'Telencephalon - Subpallium', 'Rhombencephalon - Rhombomere 4', 'Rhombencephalon - Rhombomere 5', 'Diencephalon - Preoptic Area', 'Ganglia - Olfactory Epithelium', 'Diencephalon - Rostral Hypothalamus', 'Telencephalon - Olfactory Bulb', 'Diencephalon - Pretectum', 'Diencephalon - Habenula', 'Diencephalon - Dorsal Thalamus', 'Diencephalon - Ventral Thalamus', 'Ganglia - Facial glossopharyngeal ganglion', 'Telencephalon - Postoptic Commissure', 'Ganglia - Vagal Ganglia', 'Ganglia - Trigeminal Ganglion', 'Telencephalon - Anterior Commisure', 'Diencephalon - Medial vglut2 cluster', 'Ganglia - Anterior Lateral Line Ganglion', 'Mesencephalon - Torus Longitudinalis', 'Diencephalon - Optic Chiasm', 'Diencephalon - Retinal Arborization Field 4 (AF4)', 'Telencephalon - Telencephalic Migrated Area 4 (M4)', 'Diencephalon - Hypothalamus 6.7FRhcrtR-Gal4 cluster 1', 'Mesencephalon - Retinal Arborization Field 9 (AF9)', 'Diencephalon - Migrated Area of the Pretectum (M1)', 'Ganglia - Lateral Line Neuromast SO2', 'Diencephalon - Pineal', 'Ganglia - Lateral Line Neuromast N', 'Diencephalon - Dopaminergic Cluster 6 - hypothalamus', 'Mesencephalon - Retinal Arborization Field 7 (AF7)', 'Diencephalon - Retinal Arborization Field 3 (AF3)', 'Ganglia - Lateral Line Neuromast SO1', 'Diencephalon - Retinal Arborization Field 2 (AF2, Approximate Location)', 'Ganglia - Lateral Line Neuromast D2', 'Ganglia - Lateral Line Neuromast O1', 'Diencephalon - Hypothalamus Olig2 cluster 2', 'Diencephalon - Retinal Arborization Field 5 (AF5)', 'Diencephalon - Isl1 cluster 1', 'Ganglia - Lateral Line Neuromast D1', 'Ganglia - Lateral Line Neuromast OC1', 'Ganglia - Lateral Line Neuromast SO3', 'Mesencephalon - Retinal Arborization Field 8 (AF8)', 'Diencephalon - Oxtl Cluster 2']\n",
      "small_label_names = \n",
      "['Rhombencephalon - Mauthner Cell Axon Cap', 'Rhombencephalon - MiR2', 'Rhombencephalon - Glyt2 Cluster 10', 'Rhombencephalon - Glyt2 Cluster 12', 'Rhombencephalon - RoL2', 'Rhombencephalon - Gad1b Cluster 12', 'Rhombencephalon - Glyt2 Cluster 7', 'Rhombencephalon - MiR1', 'Diencephalon - Oxtl Cluster 5', 'Rhombencephalon - RoL3', 'Rhombencephalon - MiM1', 'Rhombencephalon - Glyt2 Cluster 8', 'Rhombencephalon - Gad1b Cluster 11', 'Rhombencephalon - Glyt2 Cluster 5', 'Rhombencephalon - Oxtl Cluster 1 Sparse', 'Diencephalon - Oxtl Cluster 2', 'Rhombencephalon - MiT', 'Rhombencephalon - Glyt2 Cluster 4', 'Rhombencephalon - Gad1b Cluster 10', 'Rhombencephalon - Glyt2 Cluster 3', 'Rhombencephalon - Glyt2 Cluster 9', 'Rhombencephalon - Spiral Fiber Neuron Posterior cluster', 'Rhombencephalon - Glyt2 Cluster 11', 'Rhombencephalon - Otpb Cluster 5', 'Rhombencephalon - Otpb Cluster 3', 'Rhombencephalon - Gad1b Cluster 6', 'Rhombencephalon - Otpb Cluster 1', 'Rhombencephalon - Gad1b Cluster 5', 'Rhombencephalon - Gad1b Cluster 8', 'Rhombencephalon - Vmat2 Cluster 4', 'Rhombencephalon - CaD', 'Mesencephalon - Retinal Arborization Field 8 (AF8)', \"Rhombencephalon - VII' Facial Motor and octavolateralis efferent neurons\", 'Rhombencephalon - Vmat2 Cluster 3', 'Rhombencephalon - Small cluster of TH stained neurons', 'Rhombencephalon - Spiral Fiber Neuron Anterior cluster', 'Mesencephalon - Sparse 6.7FRhcrtR cluster', 'Rhombencephalon - Glyt2 Cluster 2', 'Rhombencephalon - Vglut2 cluster 3', 'Rhombencephalon - 6.7FDhcrtR-Gal4 Cluster 4', 'Diencephalon - Retinal Arborization Field 1 (AF1, Approximate Location)', 'Ganglia - Lateral Line Neuromast SO3', 'Rhombencephalon - RoM1', 'Rhombencephalon - Isl1 Cluster 2', 'Ganglia - Lateral Line Neuromast OC1', 'Rhombencephalon - CaV', 'Rhombencephalon - MiV2', 'Ganglia - Lateral Line Neuromast D1', 'Rhombencephalon - RoV3', 'Diencephalon - Hypothalamus Vglut2 Cluster 4', 'Rhombencephalon - Vmat2 Cluster 2', 'Rhombencephalon - Mauthner', 'Diencephalon - Isl1 cluster 3', 'Rhombencephalon - Gad1b Cluster 19', 'Diencephalon - Anterior group of the posterior tubercular vmat2 neurons', 'Rhombencephalon - MiV1', 'Diencephalon - Isl1 cluster 1', 'Diencephalon - Retinal Arborization Field 5 (AF5)', 'Diencephalon - Preoptic area Vglut2 cluster', 'Rhombencephalon - MiD2', 'Rhombencephalon - Oxtl Cluster 2 Near MC axon cap', 'Diencephalon - Hypothalamus s1181t Cluster', 'Rhombencephalon - 6.7FDhcrtR-Gal4 Cluster 3', 'Diencephalon - Hypothalamus Olig2 cluster 2', 'Rhombencephalon - MiD3', 'Rhombencephalon - RoM2', 'Rhombencephalon - Isl1 Cluster 3', 'Ganglia - Lateral Line Neuromast O1', 'Ganglia - Lateral Line Neuromast D2', 'Rhombencephalon - Vglut2 cluster 4', 'Diencephalon - Hypothalamus Gad1b Cluster 2', 'Rhombencephalon - 6.7FDhcrtR-Gal4 Stripe 3', 'Diencephalon - Anterior preoptic dopaminergic cluster', 'Rhombencephalon - RoL-R1', 'Diencephalon - Retinal Arborization Field 6 (AF6)', 'Diencephalon - Oxtl Cluster 4 - sparse in hypothalamus', 'Rhombencephalon - Lateral Reticular Nucleus', 'Spinal Cord - Gad1b Stripe 2', 'Rhombencephalon - Gad1b Cluster 18', 'Diencephalon - Torus Lateralis', 'Diencephalon - Retinal Arborization Field 2 (AF2, Approximate Location)', 'Rhombencephalon - Area Postrema', 'Rhombencephalon - Otpb Cluster 4', 'Rhombencephalon - RoM3', 'Rhombencephalon - Otpb Cluster 2 - locus coeruleus', 'Rhombencephalon - Gad1b Cluster 20', 'Rhombencephalon - Vmat2 Cluster 1', 'Diencephalon - Hypothalamus 6.7FRhcrtR-Gal4 cluster 2', 'Diencephalon - Dopaminergic Cluster 3 - hypothalamus', 'Ganglia - Lateral Line Neuromast SO1', 'Diencephalon - Hypothalamus Olig2 cluster', 'Rhombencephalon - Olig2 Cluster', 'Mesencephalon - Oxtl Cluster Sparse', 'Diencephalon - Retinal Arborization Field 3 (AF3)', 'Mesencephalon - Retinal Arborization Field 7 (AF7)', 'Telencephalon - Subpallial Otpb strip', 'Rhombencephalon - Vmat2 Stripe3', 'Mesencephalon - Ptf1a Cluster', 'Rhombencephalon - Posterior Cluster of nV Trigeminal Motorneurons', 'Diencephalon - Dopaminergic Cluster 6 - hypothalamus', 'Spinal Cord - Vmat2 Stripe2', 'Diencephalon - Preoptic area posterior dopaminergic cluster', 'Diencephalon - Pineal Vmat2 cluster ', 'Rhombencephalon - Isl1 Stripe 1', 'Ganglia - Lateral Line Neuromast N', 'Mesencephalon - Vmat2 cluster2', 'Rhombencephalon - Gad1b Cluster 17', 'Mesencephalon - Otpb Cluster', 'Rhombencephalon - Gad1b Cluster 7', 'Rhombencephalon - 6.7FDhcrtR-Gal4 Stripe 4', 'Diencephalon - Isl1 cluster 2', 'Diencephalon - Dopaminergic Cluster 2 - posterior tuberculum', 'Rhombencephalon - Raphe - Inferior', 'Telencephalon - Subpallial Vglut2 Cluster', 'Diencephalon - Otpb Cluster 4', 'Telencephalon - Subpallial dopaminergic cluster', 'Rhombencephalon - Gad1b Cluster 14', 'Rhombencephalon - 6.7FDhcrtR-Gal4 Cluster 5', 'Diencephalon - Eminentia Thalami', 'Ganglia - Lateral Line Neuromast SO2', 'Mesencephalon - NucMLF (nucleus of the medial longitudinal fascicle)', 'Diencephalon - Migrated Area of the Pretectum (M1)', 'Rhombencephalon - Oculomotor Nucleus nIV', 'Diencephalon - Otpb Cluster 1', 'Rhombencephalon - Gad1b Cluster 16', 'Rhombencephalon - Ventrolateral population of serotonergic neurons', 'Mesencephalon - Retinal Arborization Field 9 (AF9)', 'Rhombencephalon - Vmat2 Stripe2', 'Diencephalon - Hypothalamus 6.7FRhcrtR-Gal4 cluster 1', 'Rhombencephalon - 6.7FDhcrtR-Gal4 Cluster 1', 'Diencephalon - Hypothalamus - Intermediate Hypothalamus Neural Cluster', 'Telencephalon - Optic Commissure', 'Spinal Cord - Dorsal Sparse Isl1 cluster', 'Rhombencephalon - Glyt2 Stripe 1', 'Rhombencephalon - Tangential Vestibular Nucleus', 'Rhombencephalon - Cerebellar Neuropil 1', 'Telencephalon - Telencephalic Migrated Area 4 (M4)', 'Rhombencephalon - Caudal Ventral Cluster Labelled by Spinal Backfills', 'Diencephalon - Hypothalamus Vglut2 Cluster 2', 'Diencephalon - Otpb Cluster 3', 'Telencephalon - Olfactory bulb dopaminergic neuron areas', 'Diencephalon - Retinal Arborization Field 4 (AF4)', 'Rhombencephalon - Gad1b Cluster 4', 'Diencephalon - Postoptic Commissure', 'Rhombencephalon - Lobus caudalis cerebelli', 'Rhombencephalon - 6.7FDhcrtR-Gal4 Stripe 1', 'Telencephalon - Olig2 Cluster', 'Rhombencephalon - Medial Vestibular Nucleus', 'Mesencephalon - Vmat2 cluster of paraventricular organ', 'Diencephalon - Dopaminergic Cluster 7 - Caudal Hypothalamus', 'Mesencephalon - Isl1 cluster of the mesencephalic region', 'Rhombencephalon - Gad1b Cluster 3', 'Diencephalon - Pretectal Gad1b Cluster', 'Rhombencephalon - Isl1 Cluster 1', 'Rhombencephalon - Inferior Olive', 'Rhombencephalon - VII Facial Motor and octavolateralis efferent neurons', 'Rhombencephalon - Vglut2 cluster 1', 'Rhombencephalon - Qrfp neuron cluster sparse', 'Diencephalon - Hypothalamus Vglut2 Cluster 1', 'Mesencephalon - Torus Longitudinalis', 'Diencephalon - Otpb Cluster 2 ', 'Rhombencephalon - Gad1b Cluster 1', 'Telencephalon - Isl1 cluster 2', 'Diencephalon - Hypothalamus Gad1b Cluster 1', 'Diencephalon - Left Habenula Vglut2 Cluster', 'Ganglia - Anterior Lateral Line Ganglion', 'Spinal Cord - Isl1 stripe - motorneurons', 'Diencephalon - Hypothalamus Vglut2 Cluster 5', 'Diencephalon - Right Habenula Vglut2 Cluster', 'Diencephalon - Medial vglut2 cluster', 'Diencephalon - Hypothalamus Vglut2 Cluster 6', 'Mesencephalon - Vglut2 cluster 1', 'Telencephalon - Anterior Commisure', 'Ganglia - Posterior Lateral Line Ganglia', 'Rhombencephalon - Neuropil Region 6', 'Spinal Cord - Vglut2 Stripe 2', 'Telencephalon - Subpallial Otpb Cluster 2', 'Rhombencephalon - Glyt2 Cluster 13', 'Ganglia - Trigeminal Ganglion', 'Rhombencephalon - Gad1b Cluster 2', 'Diencephalon - Hypothalamus Vglut2 Cluster 3', 'Ganglia - Vagal Ganglia', 'Diencephalon - Pituitary', 'Rhombencephalon - Gad1b Stripe 2', 'Diencephalon - Olig2 Band', 'Rhombencephalon - Glyt2 Stripe 3', 'Rhombencephalon - Eminentia Granularis', 'Ganglia - Facial glossopharyngeal ganglion', 'Rhombencephalon - Valvula Cerebelli', 'Rhombencephalon - Vglut2 cluster 2', 'Ganglia - Statoacoustic Ganglion', 'Rhombencephalon - Neuropil Region 2', 'Telencephalon - Olfactory Bulb', 'Diencephalon - Hypothalamus - Caudal Hypothalamus Neural Cluster', 'Mesencephalon - Medial Tectal Band', 'Diencephalon - Rostral Hypothalamus', 'Telencephalon - Vglut2 rind', 'Spinal Cord - Neuropil Region', 'Rhombencephalon - Neuropil Region 3', 'Ganglia - Olfactory Epithelium', 'Rhombencephalon - Corpus Cerebelli', 'Mesencephalon - Torus Semicircularis', 'Mesencephalon - Tecum Neuropil', 'Rhombencephalon - Neuropil Region 5', 'Mesencephalon - Tectum Stratum Periventriculare']\n"
     ]
    }
   ],
   "source": [
    "print('large_label_names' + ' = ')\n",
    "print(large_label_names)\n",
    "print('small_label_names' + ' = ')\n",
    "print(small_label_names)"
   ],
   "metadata": {
    "collapsed": false,
    "ExecuteTime": {
     "end_time": "2023-10-07T15:18:08.474369200Z",
     "start_time": "2023-10-07T15:18:08.436430100Z"
    }
   },
   "id": "b0e89cdf86d34cb9"
  },
  {
   "cell_type": "code",
   "execution_count": 33,
   "outputs": [],
   "source": [
    "# large_labels_flip = np.flip(large_labels_ndarray, axis=1)\n",
    "# small_labels_flip = np.flip(small_labels_ndarray, axis=1)"
   ],
   "metadata": {
    "collapsed": false,
    "ExecuteTime": {
     "end_time": "2023-10-07T15:18:08.574209900Z",
     "start_time": "2023-10-07T15:18:08.453403100Z"
    }
   },
   "id": "e015eb737cbec823"
  },
  {
   "cell_type": "code",
   "execution_count": 137,
   "outputs": [],
   "source": [
    "viewer = napari.Viewer()\n",
    "viewer.add_labels(large_labels_ndarray, scale=min_scale)\n",
    "viewer.add_labels(small_labels_ndarray, scale=min_scale)\n",
    "viewer.add_image(masks_ndarray[0], scale=min_scale)\n",
    "viewer.add_image(fixed_im_reg, scale=min_scale)\n",
    "viewer.add_image(moving_im_reg, scale=min_scale)\n",
    "viewer.show()"
   ],
   "metadata": {
    "collapsed": false,
    "ExecuteTime": {
     "end_time": "2023-10-05T12:31:16.340247900Z",
     "start_time": "2023-10-05T12:31:13.146361800Z"
    }
   },
   "id": "c71b35e6fa828c19"
  },
  {
   "cell_type": "markdown",
   "source": [
    "## Split Labels Left-Right"
   ],
   "metadata": {
    "collapsed": false
   },
   "id": "d4aa0b711ef1e97a"
  },
  {
   "cell_type": "code",
   "execution_count": 38,
   "outputs": [
    {
     "data": {
      "text/plain": "       axis-0      axis-1       axis-2\nindex                                 \n0.0      11.0  312.085673   471.406416\n1.0      11.0  312.085673   595.713066\n2.0      32.0  313.754219  1205.566493\n3.0      32.0  311.251401   397.156136\n4.0      52.0  314.588492   287.032124\n5.0      52.0  318.759856   191.090751\n6.0      52.0  315.422765  1262.297044\n7.0      78.0  313.754219   803.446996\n8.0      78.0  317.091310   137.697291\n9.0     109.0  313.754219   472.240689\n10.0    127.0  313.754219   634.923888\n11.0     37.0  312.919946  1100.448118\n12.0      4.0  312.919946   402.996046\n13.0      4.0  314.588492   547.325242",
      "text/html": "<div>\n<style scoped>\n    .dataframe tbody tr th:only-of-type {\n        vertical-align: middle;\n    }\n\n    .dataframe tbody tr th {\n        vertical-align: top;\n    }\n\n    .dataframe thead th {\n        text-align: right;\n    }\n</style>\n<table border=\"1\" class=\"dataframe\">\n  <thead>\n    <tr style=\"text-align: right;\">\n      <th></th>\n      <th>axis-0</th>\n      <th>axis-1</th>\n      <th>axis-2</th>\n    </tr>\n    <tr>\n      <th>index</th>\n      <th></th>\n      <th></th>\n      <th></th>\n    </tr>\n  </thead>\n  <tbody>\n    <tr>\n      <th>0.0</th>\n      <td>11.0</td>\n      <td>312.085673</td>\n      <td>471.406416</td>\n    </tr>\n    <tr>\n      <th>1.0</th>\n      <td>11.0</td>\n      <td>312.085673</td>\n      <td>595.713066</td>\n    </tr>\n    <tr>\n      <th>2.0</th>\n      <td>32.0</td>\n      <td>313.754219</td>\n      <td>1205.566493</td>\n    </tr>\n    <tr>\n      <th>3.0</th>\n      <td>32.0</td>\n      <td>311.251401</td>\n      <td>397.156136</td>\n    </tr>\n    <tr>\n      <th>4.0</th>\n      <td>52.0</td>\n      <td>314.588492</td>\n      <td>287.032124</td>\n    </tr>\n    <tr>\n      <th>5.0</th>\n      <td>52.0</td>\n      <td>318.759856</td>\n      <td>191.090751</td>\n    </tr>\n    <tr>\n      <th>6.0</th>\n      <td>52.0</td>\n      <td>315.422765</td>\n      <td>1262.297044</td>\n    </tr>\n    <tr>\n      <th>7.0</th>\n      <td>78.0</td>\n      <td>313.754219</td>\n      <td>803.446996</td>\n    </tr>\n    <tr>\n      <th>8.0</th>\n      <td>78.0</td>\n      <td>317.091310</td>\n      <td>137.697291</td>\n    </tr>\n    <tr>\n      <th>9.0</th>\n      <td>109.0</td>\n      <td>313.754219</td>\n      <td>472.240689</td>\n    </tr>\n    <tr>\n      <th>10.0</th>\n      <td>127.0</td>\n      <td>313.754219</td>\n      <td>634.923888</td>\n    </tr>\n    <tr>\n      <th>11.0</th>\n      <td>37.0</td>\n      <td>312.919946</td>\n      <td>1100.448118</td>\n    </tr>\n    <tr>\n      <th>12.0</th>\n      <td>4.0</td>\n      <td>312.919946</td>\n      <td>402.996046</td>\n    </tr>\n    <tr>\n      <th>13.0</th>\n      <td>4.0</td>\n      <td>314.588492</td>\n      <td>547.325242</td>\n    </tr>\n  </tbody>\n</table>\n</div>"
     },
     "execution_count": 38,
     "metadata": {},
     "output_type": "execute_result"
    }
   ],
   "source": [
    "points_layer_locs = pd.read_csv(\n",
    "    os.path.join(repo_dir, 'data', 'points_layer.csv'),\n",
    "    index_col=0)\n",
    "points_layer_locs"
   ],
   "metadata": {
    "collapsed": false,
    "ExecuteTime": {
     "end_time": "2023-10-18T20:22:33.751652500Z",
     "start_time": "2023-10-18T20:22:33.504049Z"
    }
   },
   "id": "dc0a00d40ef9461c"
  },
  {
   "cell_type": "code",
   "execution_count": 39,
   "outputs": [
    {
     "data": {
      "text/plain": "array([-0.01519623,  0.99988368,  0.00130423])"
     },
     "execution_count": 39,
     "metadata": {},
     "output_type": "execute_result"
    }
   ],
   "source": [
    "points_layer_locs_arr = points_layer_locs.to_numpy()\n",
    "centroid = np.mean(points_layer_locs_arr.T, axis=1, keepdims=True)\n",
    "svd = np.linalg.svd(points_layer_locs_arr.T\n",
    "                    - centroid)\n",
    "left = svd[0]\n",
    "left[:, -1]"
   ],
   "metadata": {
    "collapsed": false,
    "ExecuteTime": {
     "end_time": "2023-10-18T20:22:35.693543200Z",
     "start_time": "2023-10-18T20:22:35.564748800Z"
    }
   },
   "id": "9aaf737f105d7299"
  },
  {
   "cell_type": "code",
   "execution_count": 41,
   "outputs": [
    {
     "data": {
      "text/plain": "array([[   0,    0,    0],\n       [   0,    0,    1],\n       [   0,    0,    2],\n       ...,\n       [ 137,  620, 1403],\n       [ 137,  620, 1404],\n       [ 137,  620, 1405]])"
     },
     "execution_count": 41,
     "metadata": {},
     "output_type": "execute_result"
    }
   ],
   "source": [
    "meshgrid = np.meshgrid(*(np.arange(sh_i) for sh_i in masks_ndarray.shape[1:]),\n",
    "                       indexing='ij')\n",
    "meshmatrix = np.stack([grd.reshape((-1, )) for grd in meshgrid], axis=1)\n",
    "meshmatrix"
   ],
   "metadata": {
    "collapsed": false,
    "ExecuteTime": {
     "end_time": "2023-10-18T20:23:21.478955800Z",
     "start_time": "2023-10-18T20:23:20.379716600Z"
    }
   },
   "id": "f68b5182dd54d728"
  },
  {
   "cell_type": "code",
   "execution_count": null,
   "outputs": [],
   "source": [],
   "metadata": {
    "collapsed": false
   },
   "id": "1183948e72babb36"
  },
  {
   "cell_type": "code",
   "execution_count": 124,
   "outputs": [
    {
     "data": {
      "text/plain": "array([ True,  True,  True, ..., False, False, False])"
     },
     "execution_count": 124,
     "metadata": {},
     "output_type": "execute_result"
    }
   ],
   "source": [
    "is_brain_left_flat = np.matmul(meshmatrix - centroid.T, left[:, -1]) < 0\n",
    "is_brain_left_flat"
   ],
   "metadata": {
    "collapsed": false,
    "ExecuteTime": {
     "end_time": "2023-10-19T21:38:07.428830Z",
     "start_time": "2023-10-19T21:38:03.529346900Z"
    }
   },
   "id": "e77fc6ac466d10e6"
  },
  {
   "cell_type": "code",
   "execution_count": 125,
   "outputs": [
    {
     "name": "stdout",
     "output_type": "stream",
     "text": [
      "np.count_nonzero(is_brain_left_flat) / is_brain_left_flat.size = 0.51\n",
      "is_brain_left.shape = (138, 621, 1406)\n",
      "masks_ndarray.shape = (294, 138, 621, 1406)\n"
     ]
    }
   ],
   "source": [
    "print(f'{np.count_nonzero(is_brain_left_flat) / is_brain_left_flat.size = :.2f}')\n",
    "is_brain_left = is_brain_left_flat.reshape(masks_ndarray.shape[1:])\n",
    "print(f'{is_brain_left.shape = }')\n",
    "print(f'{masks_ndarray.shape = }')"
   ],
   "metadata": {
    "collapsed": false,
    "ExecuteTime": {
     "end_time": "2023-10-19T21:38:25.991139100Z",
     "start_time": "2023-10-19T21:38:25.865404100Z"
    }
   },
   "id": "cb0f935acb63854d"
  },
  {
   "cell_type": "code",
   "execution_count": 112,
   "outputs": [],
   "source": [
    "viewer = napari.Viewer()\n",
    "viewer.add_labels(large_labels_ndarray, scale=min_scale)\n",
    "viewer.add_labels(small_labels_ndarray, scale=min_scale)\n",
    "viewer.add_image(is_brain_left, scale=min_scale)\n",
    "viewer.add_image(masks_ndarray[0], scale=min_scale)\n",
    "viewer.add_image(fixed_im_reg, scale=min_scale)\n",
    "viewer.add_image(moving_im_reg, scale=min_scale)\n",
    "viewer.add_points(points_layer_locs_arr, scale=min_scale)\n",
    "viewer.show()"
   ],
   "metadata": {
    "collapsed": false,
    "ExecuteTime": {
     "end_time": "2023-10-09T14:38:58.868329600Z",
     "start_time": "2023-10-09T14:38:56.243601900Z"
    }
   },
   "id": "9a48c7b03499355e"
  },
  {
   "cell_type": "code",
   "execution_count": 40,
   "outputs": [],
   "source": [
    "large_labels_left = large_labels_ndarray * is_brain_left.astype(int)\n",
    "large_labels_right = large_labels_ndarray * np.logical_not(is_brain_left).astype(int)\n",
    "\n",
    "large_labels_lr = large_labels_right * 2\n",
    "_temp = (large_labels_left * 2) - 1\n",
    "_temp[_temp == -1] = 0\n",
    "large_labels_lr += _temp\n",
    "\n",
    "large_label_names_lr = []\n",
    "for l in large_label_names:\n",
    "    large_label_names_lr.append(f'LEFT - {l}')\n",
    "    large_label_names_lr.append(f'RIGHT - {l}')"
   ],
   "metadata": {
    "collapsed": false,
    "ExecuteTime": {
     "end_time": "2023-10-07T15:19:15.511463500Z",
     "start_time": "2023-10-07T15:19:13.358908700Z"
    }
   },
   "id": "ac8bdcb2cc14ff9e"
  },
  {
   "cell_type": "code",
   "execution_count": 129,
   "outputs": [
    {
     "name": "stdout",
     "output_type": "stream",
     "text": [
      "local-nb_cs-ii-29_import-tests (   8): INFO : Splitting left from right for label set 0\n",
      "local-nb_cs-ii-29_import-tests (  10): INFO : ... (np.unique(labels_array).size - 1)       = 150\n",
      "local-nb_cs-ii-29_import-tests (  20): INFO : ref_set.symmetric_difference(left_set)   = {136}\n",
      "local-nb_cs-ii-29_import-tests (  21): INFO : ref_set.symmetric_difference(right_set)  = {132}\n",
      "local-nb_cs-ii-29_import-tests (  22): INFO : left_set.symmetric_difference(right_set) = {132, 136}\n",
      "local-nb_cs-ii-29_import-tests (  26): INFO : val - 1 = 135 | labels_names_list[val - 1] = 'Diencephalon - Right Habenula Vglut2 Cluster'\n",
      "local-nb_cs-ii-29_import-tests (  26): INFO : val - 1 = 131 | labels_names_list[val - 1] = 'Diencephalon - Left Habenula Vglut2 Cluster'\n",
      "local-nb_cs-ii-29_import-tests (  28): INFO : ... len(labels_names_list)                   = 150\n",
      "local-nb_cs-ii-29_import-tests (  29): INFO : ... (np.unique(large_labels_left).size - 1)  = 149\n",
      "local-nb_cs-ii-29_import-tests (  30): INFO : ... (np.unique(large_labels_right).size - 1) = 149\n",
      "local-nb_cs-ii-29_import-tests (  37): INFO : ... (np.unique(_labels_lr).size - 1)         = 298\n",
      "local-nb_cs-ii-29_import-tests (  44): INFO : ... len(_label_names_lr)                     = 300\n",
      "local-nb_cs-ii-29_import-tests (   8): INFO : Splitting left from right for label set 1\n",
      "local-nb_cs-ii-29_import-tests (  10): INFO : ... (np.unique(labels_array).size - 1)       = 58\n",
      "local-nb_cs-ii-29_import-tests (  20): INFO : ref_set.symmetric_difference(left_set)   = set()\n",
      "local-nb_cs-ii-29_import-tests (  21): INFO : ref_set.symmetric_difference(right_set)  = set()\n",
      "local-nb_cs-ii-29_import-tests (  22): INFO : left_set.symmetric_difference(right_set) = set()\n",
      "local-nb_cs-ii-29_import-tests (  28): INFO : ... len(labels_names_list)                   = 58\n",
      "local-nb_cs-ii-29_import-tests (  29): INFO : ... (np.unique(large_labels_left).size - 1)  = 58\n",
      "local-nb_cs-ii-29_import-tests (  30): INFO : ... (np.unique(large_labels_right).size - 1) = 58\n",
      "local-nb_cs-ii-29_import-tests (  37): INFO : ... (np.unique(_labels_lr).size - 1)         = 116\n",
      "local-nb_cs-ii-29_import-tests (  44): INFO : ... len(_label_names_lr)                     = 116\n",
      "local-nb_cs-ii-29_import-tests (   8): INFO : Splitting left from right for label set 2\n",
      "local-nb_cs-ii-29_import-tests (  10): INFO : ... (np.unique(labels_array).size - 1)       = 32\n",
      "local-nb_cs-ii-29_import-tests (  20): INFO : ref_set.symmetric_difference(left_set)   = set()\n",
      "local-nb_cs-ii-29_import-tests (  21): INFO : ref_set.symmetric_difference(right_set)  = set()\n",
      "local-nb_cs-ii-29_import-tests (  22): INFO : left_set.symmetric_difference(right_set) = set()\n",
      "local-nb_cs-ii-29_import-tests (  28): INFO : ... len(labels_names_list)                   = 32\n",
      "local-nb_cs-ii-29_import-tests (  29): INFO : ... (np.unique(large_labels_left).size - 1)  = 32\n",
      "local-nb_cs-ii-29_import-tests (  30): INFO : ... (np.unique(large_labels_right).size - 1) = 32\n",
      "local-nb_cs-ii-29_import-tests (  37): INFO : ... (np.unique(_labels_lr).size - 1)         = 64\n",
      "local-nb_cs-ii-29_import-tests (  44): INFO : ... len(_label_names_lr)                     = 64\n",
      "local-nb_cs-ii-29_import-tests (   8): INFO : Splitting left from right for label set 3\n",
      "local-nb_cs-ii-29_import-tests (  10): INFO : ... (np.unique(labels_array).size - 1)       = 18\n",
      "local-nb_cs-ii-29_import-tests (  20): INFO : ref_set.symmetric_difference(left_set)   = set()\n",
      "local-nb_cs-ii-29_import-tests (  21): INFO : ref_set.symmetric_difference(right_set)  = set()\n",
      "local-nb_cs-ii-29_import-tests (  22): INFO : left_set.symmetric_difference(right_set) = set()\n",
      "local-nb_cs-ii-29_import-tests (  28): INFO : ... len(labels_names_list)                   = 18\n",
      "local-nb_cs-ii-29_import-tests (  29): INFO : ... (np.unique(large_labels_left).size - 1)  = 18\n",
      "local-nb_cs-ii-29_import-tests (  30): INFO : ... (np.unique(large_labels_right).size - 1) = 18\n",
      "local-nb_cs-ii-29_import-tests (  37): INFO : ... (np.unique(_labels_lr).size - 1)         = 36\n",
      "local-nb_cs-ii-29_import-tests (  44): INFO : ... len(_label_names_lr)                     = 36\n",
      "local-nb_cs-ii-29_import-tests (   8): INFO : Splitting left from right for label set 4\n",
      "local-nb_cs-ii-29_import-tests (  10): INFO : ... (np.unique(labels_array).size - 1)       = 13\n",
      "local-nb_cs-ii-29_import-tests (  20): INFO : ref_set.symmetric_difference(left_set)   = set()\n",
      "local-nb_cs-ii-29_import-tests (  21): INFO : ref_set.symmetric_difference(right_set)  = set()\n",
      "local-nb_cs-ii-29_import-tests (  22): INFO : left_set.symmetric_difference(right_set) = set()\n",
      "local-nb_cs-ii-29_import-tests (  28): INFO : ... len(labels_names_list)                   = 13\n",
      "local-nb_cs-ii-29_import-tests (  29): INFO : ... (np.unique(large_labels_left).size - 1)  = 13\n",
      "local-nb_cs-ii-29_import-tests (  30): INFO : ... (np.unique(large_labels_right).size - 1) = 13\n",
      "local-nb_cs-ii-29_import-tests (  37): INFO : ... (np.unique(_labels_lr).size - 1)         = 26\n",
      "local-nb_cs-ii-29_import-tests (  44): INFO : ... len(_label_names_lr)                     = 26\n",
      "local-nb_cs-ii-29_import-tests (   8): INFO : Splitting left from right for label set 5\n",
      "local-nb_cs-ii-29_import-tests (  10): INFO : ... (np.unique(labels_array).size - 1)       = 10\n",
      "local-nb_cs-ii-29_import-tests (  20): INFO : ref_set.symmetric_difference(left_set)   = set()\n",
      "local-nb_cs-ii-29_import-tests (  21): INFO : ref_set.symmetric_difference(right_set)  = set()\n",
      "local-nb_cs-ii-29_import-tests (  22): INFO : left_set.symmetric_difference(right_set) = set()\n",
      "local-nb_cs-ii-29_import-tests (  28): INFO : ... len(labels_names_list)                   = 10\n",
      "local-nb_cs-ii-29_import-tests (  29): INFO : ... (np.unique(large_labels_left).size - 1)  = 10\n",
      "local-nb_cs-ii-29_import-tests (  30): INFO : ... (np.unique(large_labels_right).size - 1) = 10\n",
      "local-nb_cs-ii-29_import-tests (  37): INFO : ... (np.unique(_labels_lr).size - 1)         = 20\n",
      "local-nb_cs-ii-29_import-tests (  44): INFO : ... len(_label_names_lr)                     = 20\n",
      "local-nb_cs-ii-29_import-tests (   8): INFO : Splitting left from right for label set 6\n",
      "local-nb_cs-ii-29_import-tests (  10): INFO : ... (np.unique(labels_array).size - 1)       = 8\n",
      "local-nb_cs-ii-29_import-tests (  20): INFO : ref_set.symmetric_difference(left_set)   = set()\n",
      "local-nb_cs-ii-29_import-tests (  21): INFO : ref_set.symmetric_difference(right_set)  = set()\n",
      "local-nb_cs-ii-29_import-tests (  22): INFO : left_set.symmetric_difference(right_set) = set()\n",
      "local-nb_cs-ii-29_import-tests (  28): INFO : ... len(labels_names_list)                   = 8\n",
      "local-nb_cs-ii-29_import-tests (  29): INFO : ... (np.unique(large_labels_left).size - 1)  = 8\n",
      "local-nb_cs-ii-29_import-tests (  30): INFO : ... (np.unique(large_labels_right).size - 1) = 8\n",
      "local-nb_cs-ii-29_import-tests (  37): INFO : ... (np.unique(_labels_lr).size - 1)         = 16\n",
      "local-nb_cs-ii-29_import-tests (  44): INFO : ... len(_label_names_lr)                     = 16\n",
      "local-nb_cs-ii-29_import-tests (   8): INFO : Splitting left from right for label set 7\n",
      "local-nb_cs-ii-29_import-tests (  10): INFO : ... (np.unique(labels_array).size - 1)       = 3\n",
      "local-nb_cs-ii-29_import-tests (  20): INFO : ref_set.symmetric_difference(left_set)   = set()\n",
      "local-nb_cs-ii-29_import-tests (  21): INFO : ref_set.symmetric_difference(right_set)  = set()\n",
      "local-nb_cs-ii-29_import-tests (  22): INFO : left_set.symmetric_difference(right_set) = set()\n",
      "local-nb_cs-ii-29_import-tests (  28): INFO : ... len(labels_names_list)                   = 3\n",
      "local-nb_cs-ii-29_import-tests (  29): INFO : ... (np.unique(large_labels_left).size - 1)  = 3\n",
      "local-nb_cs-ii-29_import-tests (  30): INFO : ... (np.unique(large_labels_right).size - 1) = 3\n",
      "local-nb_cs-ii-29_import-tests (  37): INFO : ... (np.unique(_labels_lr).size - 1)         = 6\n",
      "local-nb_cs-ii-29_import-tests (  44): INFO : ... len(_label_names_lr)                     = 6\n",
      "local-nb_cs-ii-29_import-tests (   8): INFO : Splitting left from right for label set 8\n",
      "local-nb_cs-ii-29_import-tests (  10): INFO : ... (np.unique(labels_array).size - 1)       = 2\n",
      "local-nb_cs-ii-29_import-tests (  20): INFO : ref_set.symmetric_difference(left_set)   = set()\n",
      "local-nb_cs-ii-29_import-tests (  21): INFO : ref_set.symmetric_difference(right_set)  = set()\n",
      "local-nb_cs-ii-29_import-tests (  22): INFO : left_set.symmetric_difference(right_set) = set()\n",
      "local-nb_cs-ii-29_import-tests (  28): INFO : ... len(labels_names_list)                   = 2\n",
      "local-nb_cs-ii-29_import-tests (  29): INFO : ... (np.unique(large_labels_left).size - 1)  = 2\n",
      "local-nb_cs-ii-29_import-tests (  30): INFO : ... (np.unique(large_labels_right).size - 1) = 2\n",
      "local-nb_cs-ii-29_import-tests (  37): INFO : ... (np.unique(_labels_lr).size - 1)         = 4\n",
      "local-nb_cs-ii-29_import-tests (  44): INFO : ... len(_label_names_lr)                     = 4\n"
     ]
    }
   ],
   "source": [
    "# ALL LABELS MOD\n",
    "lr_labels_arrays: list[np.ndarray] = []\n",
    "lr_labels_names_lists: list[list[str]] = []\n",
    "\n",
    "# NOTE - there is handedness in one region 'Diencephalon - Right/Left Habenula Vglut2 Cluster' already\n",
    "\n",
    "for i, (labels_array, labels_names_list) in enumerate(zip(labels_arrays, labels_names_lists)):\n",
    "    log.info('Splitting left from right for label set {}', i)\n",
    "    \n",
    "    log.info(f'... {(np.unique(labels_array).size - 1)       = }')\n",
    "    \n",
    "    ref_set = set(np.unique(labels_array).tolist())\n",
    "    \n",
    "    large_labels_left = labels_array * is_brain_left.astype(int)\n",
    "    large_labels_right = labels_array * np.logical_not(is_brain_left).astype(int)\n",
    "    \n",
    "    left_set = set(np.unique(large_labels_left).tolist())\n",
    "    right_set = set(np.unique(large_labels_right).tolist())        \n",
    "    \n",
    "    log.info(f'{ref_set.symmetric_difference(left_set)   = }')\n",
    "    log.info(f'{ref_set.symmetric_difference(right_set)  = }')\n",
    "    log.info(f'{left_set.symmetric_difference(right_set) = }')\n",
    "    \n",
    "    for val in (ref_set.symmetric_difference(left_set)\n",
    "            .union(ref_set.symmetric_difference(right_set))):\n",
    "        log.info(f'{val - 1 = } | {labels_names_list[val - 1] = }')\n",
    "    \n",
    "    log.info(f'... {len(labels_names_list)                   = }')\n",
    "    log.info(f'... {(np.unique(large_labels_left).size - 1)  = }')\n",
    "    log.info(f'... {(np.unique(large_labels_right).size - 1) = }')\n",
    "    \n",
    "    _labels_lr = large_labels_right * 2\n",
    "    _temp = (large_labels_left * 2) - 1\n",
    "    _temp[_temp == -1] = 0\n",
    "    _labels_lr += _temp\n",
    "    \n",
    "    log.info(f'... {(np.unique(_labels_lr).size - 1)         = }')\n",
    "    \n",
    "    _label_names_lr = []\n",
    "    for l in labels_names_list:\n",
    "        _label_names_lr.append(f'LEFT - {l}')\n",
    "        _label_names_lr.append(f'RIGHT - {l}')\n",
    "        \n",
    "    log.info(f'... {len(_label_names_lr)                     = }')\n",
    "        \n",
    "    lr_labels_arrays.append(_labels_lr)\n",
    "    lr_labels_names_lists.append(_label_names_lr)"
   ],
   "metadata": {
    "collapsed": false,
    "ExecuteTime": {
     "end_time": "2023-10-19T21:47:09.494596600Z",
     "start_time": "2023-10-19T21:44:29.455576700Z"
    }
   },
   "id": "a245fc06b49e36b0"
  },
  {
   "cell_type": "markdown",
   "source": [
    "## Determine The Centroid Location of Each Region "
   ],
   "metadata": {
    "collapsed": false
   },
   "id": "a4bc8199294385d1"
  },
  {
   "cell_type": "code",
   "execution_count": 141,
   "outputs": [
    {
     "name": "stdout",
     "output_type": "stream",
     "text": [
      "local-nb_cs-ii-29_import-tests (  15): INFO : Getting Region Locations for label set 0\n",
      "local-nb_cs-ii-29_import-tests (  15): INFO : Getting Region Locations for label set 1\n",
      "local-nb_cs-ii-29_import-tests (  15): INFO : Getting Region Locations for label set 2\n",
      "local-nb_cs-ii-29_import-tests (  15): INFO : Getting Region Locations for label set 3\n",
      "local-nb_cs-ii-29_import-tests (  15): INFO : Getting Region Locations for label set 4\n",
      "local-nb_cs-ii-29_import-tests (  15): INFO : Getting Region Locations for label set 5\n",
      "local-nb_cs-ii-29_import-tests (  15): INFO : Getting Region Locations for label set 6\n",
      "local-nb_cs-ii-29_import-tests (  15): INFO : Getting Region Locations for label set 7\n",
      "local-nb_cs-ii-29_import-tests (  15): INFO : Getting Region Locations for label set 8\n"
     ]
    }
   ],
   "source": [
    "# ALL LABELS MOD\n",
    "\n",
    "lr_labels_locs: list[np.ndarray] = []\n",
    "\n",
    "atlas_shape = np.array(meshgrid[0].shape, dtype=int)\n",
    "\n",
    "center_ref = [0,\n",
    "              ((atlas_shape[1] - 1) / 2),\n",
    "              0]\n",
    "center_ref = np.array(center_ref)\n",
    "\n",
    "multi_meshgrid = np.stack(meshgrid, axis=0).astype(float)\n",
    "\n",
    "for i, (lr_labels_array, labels_names_list) in enumerate(zip(lr_labels_arrays, lr_labels_names_lists)):\n",
    "    log.info('Getting Region Locations for label set {}', i)\n",
    "    \n",
    "    num_labels = len(labels_names_list)\n",
    "    # log.info(f'... {num_labels                            = }')\n",
    "    # log.info(f'... {(np.unique(lr_labels_array).size - 1) = }')\n",
    "    \n",
    "    loc_arr = np.zeros((num_labels, 3), dtype=float)\n",
    "    \n",
    "    for i_label in range(num_labels):\n",
    "        i_label_one_index = i_label + 1\n",
    "        moi = lr_labels_array == i_label_one_index\n",
    "        # nonzero_count = np.count_nonzero(moi)\n",
    "        # log.info('... labels set label #{}, nonzero = {}',\n",
    "        #          i_label, nonzero_count)\n",
    "        if np.logical_not(np.any(moi)):\n",
    "            loc_arr[i_label, :] = np.NAN\n",
    "            continue\n",
    "            \n",
    "        mesh_locs = multi_meshgrid[:, moi]        \n",
    "        loc_arr[i_label, :] = (np.mean(mesh_locs, axis=1) - center_ref) / (atlas_shape - 1)\n",
    "    \n",
    "    lr_labels_locs.append(loc_arr)\n",
    "        "
   ],
   "metadata": {
    "collapsed": false,
    "ExecuteTime": {
     "end_time": "2023-10-20T16:05:38.505004200Z",
     "start_time": "2023-10-20T16:02:40.150686Z"
    }
   },
   "id": "d2bb86ee6aa3f0a1"
  },
  {
   "cell_type": "markdown",
   "source": [
    "# Transformation of Labels to Match Activity Data"
   ],
   "metadata": {
    "collapsed": false
   },
   "id": "24cacc2df1297b6d"
  },
  {
   "cell_type": "code",
   "execution_count": 234,
   "outputs": [
    {
     "name": "stdout",
     "output_type": "stream",
     "text": [
      "local-nb_cs-ii-29_import-tests (   1): INFO : list(reg_transform.keys()) = ['warpedmovout', 'warpedfixout', 'fwdtransforms', 'invtransforms']\n",
      "local-nb_cs-ii-29_import-tests (   3): INFO : Converting label data to ants.\n",
      "local-nb_cs-ii-29_import-tests (   6): INFO : large_labels_lr.shape = (138, 621, 1406)\n",
      "local-nb_cs-ii-29_import-tests (   7): INFO : np.unique(large_labels_lr).size = 5\n",
      "local-nb_cs-ii-29_import-tests (  16): INFO : whichtoinvert = [True, False]\n",
      "local-nb_cs-ii-29_import-tests (  18): INFO : Projecting label data into live image space.\n",
      "local-nb_cs-ii-29_import-tests (  26): INFO : Resizing data into live image shape.\n",
      "local-nb_cs-ii-29_import-tests (  28): INFO : np.unique(large_labels_live_space_ndarray).size = 5\n",
      "local-nb_cs-ii-29_import-tests (  29): INFO : moving_new_shape = array([ 123.,  729., 1031.])\n",
      "local-nb_cs-ii-29_import-tests (  30): INFO : live_imds_drop.shape = (1710, 18, 362, 512)\n",
      "local-nb_cs-ii-29_import-tests (  31): INFO : large_labels_live_space_ndarray.shape = (123, 729, 1031)\n",
      "local-nb_cs-ii-29_import-tests (  37): INFO : np.unique(large_labels_live_space_ndarray).size = 5\n",
      "local-nb_cs-ii-29_import-tests (  38): INFO : large_labels_live_space_ndarray.shape = (18, 362, 512)\n"
     ]
    }
   ],
   "source": [
    "log.info(f'{list(reg_transform.keys()) = }')\n",
    "\n",
    "log.info('Converting label data to ants.')\n",
    "moving_ants = ants.from_numpy(moving_im_pre_reg)\n",
    "large_labels_ants = ants.from_numpy(large_labels_lr.astype(float))\n",
    "log.info(f'{large_labels_lr.shape = }')\n",
    "log.info(f'{np.unique(large_labels_lr).size = }')\n",
    "\n",
    "whichtoinvert = []\n",
    "reversed_fwd = [reg_transform['fwdtransforms'][-1 - i] \n",
    "                for i in range(len(reg_transform['fwdtransforms']))]\n",
    "for itx, ftx  in zip(reg_transform['invtransforms'], \n",
    "                     reversed_fwd):\n",
    "    whichtoinvert.append(itx == ftx)\n",
    "\n",
    "log.info(f'{whichtoinvert = }')\n",
    "\n",
    "log.info('Projecting label data into live image space.')\n",
    "large_labels_live_space_ants = ants.apply_transforms(\n",
    "    fixed=moving_ants,\n",
    "    moving=large_labels_ants,\n",
    "    transformlist=reg_transform['invtransforms'],\n",
    "    whichtoinvert=whichtoinvert,\n",
    "    interpolator='genericLabel')\n",
    "\n",
    "log.info('Resizing data into live image shape.')\n",
    "large_labels_live_space_ndarray = large_labels_live_space_ants.numpy()\n",
    "log.info(f'{np.unique(large_labels_live_space_ndarray).size = }')\n",
    "log.info(f'{moving_new_shape = }')\n",
    "log.info(f'{live_imds_drop.shape = }')\n",
    "log.info(f'{large_labels_live_space_ndarray.shape = }')\n",
    "large_labels_live_space_ndarray = resize(large_labels_live_space_ndarray,\n",
    "                                         new_shape=live_imds_drop.shape[1:],\n",
    "                                         anti_aliasing=False,\n",
    "                                         order=0,\n",
    "                                         preserve_range=True)\n",
    "log.info(f'{np.unique(large_labels_live_space_ndarray).size = }')\n",
    "log.info(f'{large_labels_live_space_ndarray.shape = }')"
   ],
   "metadata": {
    "collapsed": false,
    "ExecuteTime": {
     "end_time": "2023-10-24T19:01:05.179153Z",
     "start_time": "2023-10-24T19:00:39.051590500Z"
    }
   },
   "id": "c4ae5e921eefed83"
  },
  {
   "cell_type": "code",
   "execution_count": 131,
   "outputs": [
    {
     "name": "stdout",
     "output_type": "stream",
     "text": [
      "local-nb_cs-ii-29_import-tests (   3): INFO : list(reg_transform.keys()) = ['warpedmovout', 'warpedfixout', 'fwdtransforms', 'invtransforms']\n",
      "local-nb_cs-ii-29_import-tests (   5): INFO : Converting label data to ants.\n",
      "local-nb_cs-ii-29_import-tests (  10): INFO : >>> Transforming label data for set 0 <<<\n",
      "local-nb_cs-ii-29_import-tests (  14): INFO : labels_array.shape = (138, 621, 1406)\n",
      "local-nb_cs-ii-29_import-tests (  15): INFO : np.unique(labels_array).size = 299\n",
      "local-nb_cs-ii-29_import-tests (  24): INFO : whichtoinvert = [True, False]\n",
      "local-nb_cs-ii-29_import-tests (  26): INFO : Projecting label data into live image space.\n",
      "local-nb_cs-ii-29_import-tests (  34): INFO : Resizing data into live image shape.\n",
      "local-nb_cs-ii-29_import-tests (  36): INFO : np.unique(labels_live_space_ndarray).size = 279\n",
      "local-nb_cs-ii-29_import-tests (  37): INFO : moving_new_shape = array([ 123.,  729., 1031.])\n",
      "local-nb_cs-ii-29_import-tests (  38): INFO : live_imds_drop.shape = (1710, 18, 362, 512)\n",
      "local-nb_cs-ii-29_import-tests (  39): INFO : labels_live_space_ndarray.shape = (123, 729, 1031)\n",
      "local-nb_cs-ii-29_import-tests (  45): INFO : np.unique(labels_live_space_ndarray).size = 274\n",
      "local-nb_cs-ii-29_import-tests (  46): INFO : labels_live_space_ndarray.shape = (18, 362, 512)\n",
      "local-nb_cs-ii-29_import-tests (  10): INFO : >>> Transforming label data for set 1 <<<\n",
      "local-nb_cs-ii-29_import-tests (  14): INFO : labels_array.shape = (138, 621, 1406)\n",
      "local-nb_cs-ii-29_import-tests (  15): INFO : np.unique(labels_array).size = 117\n",
      "local-nb_cs-ii-29_import-tests (  24): INFO : whichtoinvert = [True, False]\n",
      "local-nb_cs-ii-29_import-tests (  26): INFO : Projecting label data into live image space.\n",
      "local-nb_cs-ii-29_import-tests (  34): INFO : Resizing data into live image shape.\n",
      "local-nb_cs-ii-29_import-tests (  36): INFO : np.unique(labels_live_space_ndarray).size = 110\n",
      "local-nb_cs-ii-29_import-tests (  37): INFO : moving_new_shape = array([ 123.,  729., 1031.])\n",
      "local-nb_cs-ii-29_import-tests (  38): INFO : live_imds_drop.shape = (1710, 18, 362, 512)\n",
      "local-nb_cs-ii-29_import-tests (  39): INFO : labels_live_space_ndarray.shape = (123, 729, 1031)\n",
      "local-nb_cs-ii-29_import-tests (  45): INFO : np.unique(labels_live_space_ndarray).size = 106\n",
      "local-nb_cs-ii-29_import-tests (  46): INFO : labels_live_space_ndarray.shape = (18, 362, 512)\n",
      "local-nb_cs-ii-29_import-tests (  10): INFO : >>> Transforming label data for set 2 <<<\n",
      "local-nb_cs-ii-29_import-tests (  14): INFO : labels_array.shape = (138, 621, 1406)\n",
      "local-nb_cs-ii-29_import-tests (  15): INFO : np.unique(labels_array).size = 65\n",
      "local-nb_cs-ii-29_import-tests (  24): INFO : whichtoinvert = [True, False]\n",
      "local-nb_cs-ii-29_import-tests (  26): INFO : Projecting label data into live image space.\n",
      "local-nb_cs-ii-29_import-tests (  34): INFO : Resizing data into live image shape.\n",
      "local-nb_cs-ii-29_import-tests (  36): INFO : np.unique(labels_live_space_ndarray).size = 61\n",
      "local-nb_cs-ii-29_import-tests (  37): INFO : moving_new_shape = array([ 123.,  729., 1031.])\n",
      "local-nb_cs-ii-29_import-tests (  38): INFO : live_imds_drop.shape = (1710, 18, 362, 512)\n",
      "local-nb_cs-ii-29_import-tests (  39): INFO : labels_live_space_ndarray.shape = (123, 729, 1031)\n",
      "local-nb_cs-ii-29_import-tests (  45): INFO : np.unique(labels_live_space_ndarray).size = 61\n",
      "local-nb_cs-ii-29_import-tests (  46): INFO : labels_live_space_ndarray.shape = (18, 362, 512)\n",
      "local-nb_cs-ii-29_import-tests (  10): INFO : >>> Transforming label data for set 3 <<<\n",
      "local-nb_cs-ii-29_import-tests (  14): INFO : labels_array.shape = (138, 621, 1406)\n",
      "local-nb_cs-ii-29_import-tests (  15): INFO : np.unique(labels_array).size = 37\n",
      "local-nb_cs-ii-29_import-tests (  24): INFO : whichtoinvert = [True, False]\n",
      "local-nb_cs-ii-29_import-tests (  26): INFO : Projecting label data into live image space.\n",
      "local-nb_cs-ii-29_import-tests (  34): INFO : Resizing data into live image shape.\n",
      "local-nb_cs-ii-29_import-tests (  36): INFO : np.unique(labels_live_space_ndarray).size = 35\n",
      "local-nb_cs-ii-29_import-tests (  37): INFO : moving_new_shape = array([ 123.,  729., 1031.])\n",
      "local-nb_cs-ii-29_import-tests (  38): INFO : live_imds_drop.shape = (1710, 18, 362, 512)\n",
      "local-nb_cs-ii-29_import-tests (  39): INFO : labels_live_space_ndarray.shape = (123, 729, 1031)\n",
      "local-nb_cs-ii-29_import-tests (  45): INFO : np.unique(labels_live_space_ndarray).size = 35\n",
      "local-nb_cs-ii-29_import-tests (  46): INFO : labels_live_space_ndarray.shape = (18, 362, 512)\n",
      "local-nb_cs-ii-29_import-tests (  10): INFO : >>> Transforming label data for set 4 <<<\n",
      "local-nb_cs-ii-29_import-tests (  14): INFO : labels_array.shape = (138, 621, 1406)\n",
      "local-nb_cs-ii-29_import-tests (  15): INFO : np.unique(labels_array).size = 27\n",
      "local-nb_cs-ii-29_import-tests (  24): INFO : whichtoinvert = [True, False]\n",
      "local-nb_cs-ii-29_import-tests (  26): INFO : Projecting label data into live image space.\n",
      "local-nb_cs-ii-29_import-tests (  34): INFO : Resizing data into live image shape.\n",
      "local-nb_cs-ii-29_import-tests (  36): INFO : np.unique(labels_live_space_ndarray).size = 26\n",
      "local-nb_cs-ii-29_import-tests (  37): INFO : moving_new_shape = array([ 123.,  729., 1031.])\n",
      "local-nb_cs-ii-29_import-tests (  38): INFO : live_imds_drop.shape = (1710, 18, 362, 512)\n",
      "local-nb_cs-ii-29_import-tests (  39): INFO : labels_live_space_ndarray.shape = (123, 729, 1031)\n",
      "local-nb_cs-ii-29_import-tests (  45): INFO : np.unique(labels_live_space_ndarray).size = 26\n",
      "local-nb_cs-ii-29_import-tests (  46): INFO : labels_live_space_ndarray.shape = (18, 362, 512)\n",
      "local-nb_cs-ii-29_import-tests (  10): INFO : >>> Transforming label data for set 5 <<<\n",
      "local-nb_cs-ii-29_import-tests (  14): INFO : labels_array.shape = (138, 621, 1406)\n",
      "local-nb_cs-ii-29_import-tests (  15): INFO : np.unique(labels_array).size = 21\n",
      "local-nb_cs-ii-29_import-tests (  24): INFO : whichtoinvert = [True, False]\n",
      "local-nb_cs-ii-29_import-tests (  26): INFO : Projecting label data into live image space.\n",
      "local-nb_cs-ii-29_import-tests (  34): INFO : Resizing data into live image shape.\n",
      "local-nb_cs-ii-29_import-tests (  36): INFO : np.unique(labels_live_space_ndarray).size = 21\n",
      "local-nb_cs-ii-29_import-tests (  37): INFO : moving_new_shape = array([ 123.,  729., 1031.])\n",
      "local-nb_cs-ii-29_import-tests (  38): INFO : live_imds_drop.shape = (1710, 18, 362, 512)\n",
      "local-nb_cs-ii-29_import-tests (  39): INFO : labels_live_space_ndarray.shape = (123, 729, 1031)\n",
      "local-nb_cs-ii-29_import-tests (  45): INFO : np.unique(labels_live_space_ndarray).size = 21\n",
      "local-nb_cs-ii-29_import-tests (  46): INFO : labels_live_space_ndarray.shape = (18, 362, 512)\n",
      "local-nb_cs-ii-29_import-tests (  10): INFO : >>> Transforming label data for set 6 <<<\n",
      "local-nb_cs-ii-29_import-tests (  14): INFO : labels_array.shape = (138, 621, 1406)\n",
      "local-nb_cs-ii-29_import-tests (  15): INFO : np.unique(labels_array).size = 17\n",
      "local-nb_cs-ii-29_import-tests (  24): INFO : whichtoinvert = [True, False]\n",
      "local-nb_cs-ii-29_import-tests (  26): INFO : Projecting label data into live image space.\n",
      "local-nb_cs-ii-29_import-tests (  34): INFO : Resizing data into live image shape.\n",
      "local-nb_cs-ii-29_import-tests (  36): INFO : np.unique(labels_live_space_ndarray).size = 15\n",
      "local-nb_cs-ii-29_import-tests (  37): INFO : moving_new_shape = array([ 123.,  729., 1031.])\n",
      "local-nb_cs-ii-29_import-tests (  38): INFO : live_imds_drop.shape = (1710, 18, 362, 512)\n",
      "local-nb_cs-ii-29_import-tests (  39): INFO : labels_live_space_ndarray.shape = (123, 729, 1031)\n",
      "local-nb_cs-ii-29_import-tests (  45): INFO : np.unique(labels_live_space_ndarray).size = 15\n",
      "local-nb_cs-ii-29_import-tests (  46): INFO : labels_live_space_ndarray.shape = (18, 362, 512)\n",
      "local-nb_cs-ii-29_import-tests (  10): INFO : >>> Transforming label data for set 7 <<<\n",
      "local-nb_cs-ii-29_import-tests (  14): INFO : labels_array.shape = (138, 621, 1406)\n",
      "local-nb_cs-ii-29_import-tests (  15): INFO : np.unique(labels_array).size = 7\n",
      "local-nb_cs-ii-29_import-tests (  24): INFO : whichtoinvert = [True, False]\n",
      "local-nb_cs-ii-29_import-tests (  26): INFO : Projecting label data into live image space.\n",
      "local-nb_cs-ii-29_import-tests (  34): INFO : Resizing data into live image shape.\n",
      "local-nb_cs-ii-29_import-tests (  36): INFO : np.unique(labels_live_space_ndarray).size = 7\n",
      "local-nb_cs-ii-29_import-tests (  37): INFO : moving_new_shape = array([ 123.,  729., 1031.])\n",
      "local-nb_cs-ii-29_import-tests (  38): INFO : live_imds_drop.shape = (1710, 18, 362, 512)\n",
      "local-nb_cs-ii-29_import-tests (  39): INFO : labels_live_space_ndarray.shape = (123, 729, 1031)\n",
      "local-nb_cs-ii-29_import-tests (  45): INFO : np.unique(labels_live_space_ndarray).size = 7\n",
      "local-nb_cs-ii-29_import-tests (  46): INFO : labels_live_space_ndarray.shape = (18, 362, 512)\n",
      "local-nb_cs-ii-29_import-tests (  10): INFO : >>> Transforming label data for set 8 <<<\n",
      "local-nb_cs-ii-29_import-tests (  14): INFO : labels_array.shape = (138, 621, 1406)\n",
      "local-nb_cs-ii-29_import-tests (  15): INFO : np.unique(labels_array).size = 5\n",
      "local-nb_cs-ii-29_import-tests (  24): INFO : whichtoinvert = [True, False]\n",
      "local-nb_cs-ii-29_import-tests (  26): INFO : Projecting label data into live image space.\n",
      "local-nb_cs-ii-29_import-tests (  34): INFO : Resizing data into live image shape.\n",
      "local-nb_cs-ii-29_import-tests (  36): INFO : np.unique(labels_live_space_ndarray).size = 5\n",
      "local-nb_cs-ii-29_import-tests (  37): INFO : moving_new_shape = array([ 123.,  729., 1031.])\n",
      "local-nb_cs-ii-29_import-tests (  38): INFO : live_imds_drop.shape = (1710, 18, 362, 512)\n",
      "local-nb_cs-ii-29_import-tests (  39): INFO : labels_live_space_ndarray.shape = (123, 729, 1031)\n",
      "local-nb_cs-ii-29_import-tests (  45): INFO : np.unique(labels_live_space_ndarray).size = 5\n",
      "local-nb_cs-ii-29_import-tests (  46): INFO : labels_live_space_ndarray.shape = (18, 362, 512)\n"
     ]
    }
   ],
   "source": [
    "# ALL LABEL MOD\n",
    "\n",
    "log.info(f'{list(reg_transform.keys()) = }')\n",
    "\n",
    "log.info('Converting label data to ants.')\n",
    "\n",
    "labels_arrays_live_space: list[np.ndarray] = []\n",
    "\n",
    "for i, labels_array in enumerate(lr_labels_arrays): \n",
    "    log.info('>>> Transforming label data for set {} <<<', i)\n",
    "    \n",
    "    moving_ants = ants.from_numpy(moving_im_pre_reg)\n",
    "    labels_ants = ants.from_numpy(labels_array.astype(float))\n",
    "    log.info(f'{labels_array.shape = }')\n",
    "    log.info(f'{np.unique(labels_array).size = }')\n",
    "    \n",
    "    whichtoinvert = []\n",
    "    reversed_fwd = [reg_transform['fwdtransforms'][-1 - i] \n",
    "                    for i in range(len(reg_transform['fwdtransforms']))]\n",
    "    for itx, ftx  in zip(reg_transform['invtransforms'], \n",
    "                         reversed_fwd):\n",
    "        whichtoinvert.append(itx == ftx)\n",
    "    \n",
    "    log.info(f'{whichtoinvert = }')\n",
    "    \n",
    "    log.info('Projecting label data into live image space.')\n",
    "    labels_live_space_ants = ants.apply_transforms(\n",
    "        fixed=moving_ants,\n",
    "        moving=labels_ants,\n",
    "        transformlist=reg_transform['invtransforms'],\n",
    "        whichtoinvert=whichtoinvert,\n",
    "        interpolator='genericLabel')\n",
    "    \n",
    "    log.info('Resizing data into live image shape.')\n",
    "    labels_live_space_ndarray = labels_live_space_ants.numpy()\n",
    "    log.info(f'{np.unique(labels_live_space_ndarray).size = }')\n",
    "    log.info(f'{moving_new_shape = }')\n",
    "    log.info(f'{live_imds_drop.shape = }')\n",
    "    log.info(f'{labels_live_space_ndarray.shape = }')\n",
    "    labels_live_space_ndarray = resize(labels_live_space_ndarray,\n",
    "                                       new_shape=live_imds_drop.shape[1:],\n",
    "                                       anti_aliasing=False,\n",
    "                                       order=0,\n",
    "                                       preserve_range=True)\n",
    "    log.info(f'{np.unique(labels_live_space_ndarray).size = }')\n",
    "    log.info(f'{labels_live_space_ndarray.shape = }')\n",
    "    \n",
    "    labels_arrays_live_space.append(labels_live_space_ndarray)"
   ],
   "metadata": {
    "collapsed": false,
    "ExecuteTime": {
     "end_time": "2023-10-19T21:59:19.825371700Z",
     "start_time": "2023-10-19T21:53:17.364225800Z"
    }
   },
   "id": "40b4ed64d4628fd7"
  },
  {
   "cell_type": "code",
   "execution_count": 235,
   "outputs": [
    {
     "data": {
      "text/plain": "<Figure size 640x480 with 1 Axes>",
      "image/png": "[encoded data removed]"
     },
     "metadata": {},
     "output_type": "display_data"
    }
   ],
   "source": [
    "%matplotlib inline\n",
    "large_labels_live_space_ndarray = large_labels_live_space_ndarray.astype(int)\n",
    "plt.hist(large_labels_lr.reshape(-1), \n",
    "         bins=len(large_label_names_lr) + 1, \n",
    "         histtype='step',\n",
    "         density=True)\n",
    "plt.hist(large_labels_live_space_ndarray.reshape(-1), \n",
    "         bins=len(large_label_names_lr) + 1, \n",
    "         histtype='step',\n",
    "         density=True)\n",
    "plt.title(f'Histogram for Label Images')\n",
    "plt.yscale('log')\n",
    "plt.grid(True)\n",
    "plt.show()"
   ],
   "metadata": {
    "collapsed": false,
    "ExecuteTime": {
     "end_time": "2023-10-24T19:02:27.483021600Z",
     "start_time": "2023-10-24T19:02:24.215596100Z"
    }
   },
   "id": "d2ebe01ec25117b6"
  },
  {
   "cell_type": "code",
   "execution_count": 280,
   "outputs": [],
   "source": [
    "viewer = napari.Viewer()\n",
    "viewer.add_labels(large_labels_live_space_ndarray,\n",
    "                  scale=live_max_proj_ds.scale)\n",
    "viewer.add_image(live_max_proj_ds.get_image_data(),\n",
    "                 scale=live_max_proj_ds.scale)\n",
    "live_imds_drop.add_to_napari(viewer)\n",
    "live_imds_drop.apply_standard_napari_config(viewer)\n",
    "viewer.show()"
   ],
   "metadata": {
    "collapsed": false,
    "ExecuteTime": {
     "end_time": "2023-10-07T14:32:11.198219900Z",
     "start_time": "2023-10-07T14:32:03.593397100Z"
    }
   },
   "id": "739dc9daf7a82f9b"
  },
  {
   "cell_type": "markdown",
   "source": [
    "# Extract Activity"
   ],
   "metadata": {
    "collapsed": false
   },
   "id": "f2573659e71d1498"
  },
  {
   "cell_type": "code",
   "execution_count": 236,
   "outputs": [
    {
     "name": "stdout",
     "output_type": "stream",
     "text": [
      "local-nb_cs-ii-29_import-tests (   1): INFO : Determining Remaining Labels\n",
      "local-nb_cs-ii-29_import-tests (  23): INFO : 4 labels present out of 4 total in set.\n"
     ]
    }
   ],
   "source": [
    "log.info('Determining Remaining Labels')\n",
    "\n",
    "labels_ndarray = large_labels_live_space_ndarray\n",
    "label_names_raw = large_label_names_lr\n",
    "\n",
    "label_names = []\n",
    "num_labels = len(label_names_raw)\n",
    "is_label_present = np.zeros((len(large_label_names_lr), ),\n",
    "                            dtype=bool)\n",
    "\n",
    "VOXEL_COUNT_MINIMUM = 800/2\n",
    "\n",
    "for i_label in range(num_labels):\n",
    "    label_voxel_count = np.count_nonzero(labels_ndarray == (i_label + 1))\n",
    "    is_label_present[i_label] = label_voxel_count > VOXEL_COUNT_MINIMUM\n",
    "    label_names.append(f'#{i_label + 1:03d} | '\n",
    "                       f'{label_voxel_count / 1E3:.2f}k vxl | '\n",
    "                       f'{label_names_raw[i_label]}')\n",
    "    \n",
    "    \n",
    "num_labels_present = np.count_nonzero(is_label_present)\n",
    "arg_labels_present = np.nonzero(is_label_present)[0]\n",
    "log.info('{:d} labels present out of {:d} total in set.',\n",
    "         num_labels_present,\n",
    "         num_labels)"
   ],
   "metadata": {
    "collapsed": false,
    "ExecuteTime": {
     "end_time": "2023-10-24T19:02:48.354930300Z",
     "start_time": "2023-10-24T19:02:48.074926800Z"
    }
   },
   "id": "6776c63efef1c5aa"
  },
  {
   "cell_type": "markdown",
   "source": [
    "## Compute Sizes of Each Region"
   ],
   "metadata": {
    "collapsed": false
   },
   "id": "5c0c5c9023e1fbbd"
  },
  {
   "cell_type": "code",
   "execution_count": 132,
   "outputs": [
    {
     "name": "stdout",
     "output_type": "stream",
     "text": [
      "(unique_vals.size - 1) = 273\n",
      "len(label_names_list) = 300\n",
      "local-nb_cs-ii-29_import-tests (  16): INFO : Counts for labels set 0: [4.00000e+00 1.40000e+01 1.00000e+01 5.00000e+00 2.00000e+00 4.90000e+01\n",
      " 5.40000e+01 3.60000e+01 1.70000e+01 6.20000e+01 4.10000e+01 1.60000e+01\n",
      " 1.40000e+01 3.30000e+01 7.00000e+00 5.10000e+01 1.50000e+01 2.00000e+00\n",
      " 1.09000e+02 8.50000e+01 1.70000e+01 2.50000e+01 7.90000e+01 2.90000e+01\n",
      " 3.70000e+01 4.00000e+01 7.40000e+01 3.30000e+01 3.90000e+01 3.10000e+01\n",
      " 3.00000e+01 2.10000e+01 3.30000e+01 4.90000e+01 5.00000e+01 4.70000e+01\n",
      " 3.20000e+01 3.40000e+01 1.84000e+02 5.60000e+01 3.30000e+01 4.70000e+01\n",
      " 9.30000e+01 6.50000e+01 4.90000e+01 2.10000e+01 6.20000e+01 2.20000e+01\n",
      " 1.27000e+02 2.70000e+01 6.40000e+01 4.00000e+01 7.40000e+01 4.50000e+01\n",
      " 6.80000e+01 6.30000e+01 8.10000e+01 1.26000e+02 9.40000e+01 9.60000e+01\n",
      " 7.90000e+01 7.70000e+01 0.00000e+00 0.00000e+00 9.80000e+01 9.80000e+01\n",
      " 4.80000e+01 9.40000e+01 8.20000e+01 5.70000e+01 1.54000e+02 6.40000e+01\n",
      " 1.35000e+02 1.49000e+02 0.00000e+00 1.40000e+01 4.78000e+02 1.83000e+02\n",
      " 6.90000e+01 5.40000e+01 8.80000e+01 5.00000e+01 1.03000e+02 0.00000e+00\n",
      " 0.00000e+00 0.00000e+00 2.51000e+02 2.20000e+02 0.00000e+00 6.50000e+01\n",
      " 1.11000e+02 5.30000e+01 1.51000e+02 1.39000e+02 3.76000e+02 2.16000e+02\n",
      " 2.76000e+02 2.10000e+02 2.30000e+02 2.50000e+02 2.33000e+02 1.75000e+02\n",
      " 2.17000e+02 2.38000e+02 3.55000e+02 2.55000e+02 9.00000e+01 1.31000e+02\n",
      " 1.47000e+02 1.26000e+02 1.49000e+02 9.40000e+01 2.95000e+02 1.66000e+02\n",
      " 2.45000e+02 3.14000e+02 2.06000e+02 1.48000e+02 1.99000e+02 8.60000e+01\n",
      " 2.22000e+02 2.46000e+02 0.00000e+00 0.00000e+00 2.11000e+02 2.04000e+02\n",
      " 4.71000e+02 2.38000e+02 1.19000e+02 7.80000e+01 0.00000e+00 5.60000e+01\n",
      " 2.77000e+02 3.06000e+02 4.14000e+02 2.28000e+02 2.78000e+02 1.36000e+02\n",
      " 6.90000e+01 1.53000e+02 0.00000e+00 0.00000e+00 1.05000e+02 1.68000e+02\n",
      " 3.11000e+02 2.54000e+02 1.76000e+02 2.83000e+02 0.00000e+00 0.00000e+00\n",
      " 0.00000e+00 0.00000e+00 2.26000e+02 1.90000e+02 4.79000e+02 3.95000e+02\n",
      " 7.40000e+01 1.57000e+02 4.03000e+02 3.26000e+02 3.20000e+02 3.41000e+02\n",
      " 5.50000e+02 4.82000e+02 2.38000e+02 2.61000e+02 2.61000e+02 1.86000e+02\n",
      " 1.21000e+02 2.97000e+02 2.00000e+02 3.74000e+02 3.52000e+02 5.69000e+02\n",
      " 0.00000e+00 0.00000e+00 2.73000e+02 2.61000e+02 6.04000e+02 6.12000e+02\n",
      " 1.03400e+03 7.54000e+02 4.42000e+02 8.28000e+02 3.48000e+02 3.46000e+02\n",
      " 4.11000e+02 1.41000e+02 7.43000e+02 5.72000e+02 4.09000e+02 3.54000e+02\n",
      " 4.75000e+02 5.67000e+02 4.18000e+02 3.84000e+02 1.30300e+03 1.04700e+03\n",
      " 1.03200e+03 8.83000e+02 9.41000e+02 6.96000e+02 6.29000e+02 8.01000e+02\n",
      " 8.79000e+02 5.23000e+02 4.41000e+02 5.33000e+02 6.88000e+02 1.16300e+03\n",
      " 1.24500e+03 8.92000e+02 6.69000e+02 5.74000e+02 6.90000e+01 2.51000e+02\n",
      " 0.00000e+00 0.00000e+00 1.67000e+02 1.76000e+02 1.05200e+03 5.95000e+02\n",
      " 1.64500e+03 1.52600e+03 2.43400e+03 2.03400e+03 1.15300e+03 1.15400e+03\n",
      " 9.58000e+02 9.05000e+02 1.63700e+03 1.42000e+03 8.05000e+02 6.64000e+02\n",
      " 1.44000e+02 1.37000e+02 2.20000e+02 0.00000e+00 6.46000e+02 3.19000e+02\n",
      " 7.36000e+02 1.29400e+03 1.03500e+03 1.10600e+03 1.45100e+03 1.29800e+03\n",
      " 1.08100e+03 1.05600e+03 1.59300e+03 1.35400e+03 3.13000e+02 2.62000e+02\n",
      " 1.47500e+03 9.34000e+02 4.53000e+02 5.37000e+02 1.41200e+03 1.41300e+03\n",
      " 1.88800e+03 1.96300e+03 1.59200e+03 1.73000e+03 1.82400e+03 0.00000e+00\n",
      " 1.48200e+03 1.88700e+03 0.00000e+00 0.00000e+00 7.08000e+02 6.65000e+02\n",
      " 0.00000e+00 2.68900e+03 2.00800e+03 2.13500e+03 1.89100e+03 2.40400e+03\n",
      " 1.81000e+03 1.97400e+03 1.07400e+03 1.98800e+03 2.10700e+03 2.94300e+03\n",
      " 2.60500e+03 2.75800e+03 2.18300e+03 4.32900e+03 2.51700e+03 1.58600e+03\n",
      " 0.00000e+00 0.00000e+00 4.47700e+03 4.91300e+03 6.04200e+03 6.03000e+03\n",
      " 7.69700e+03 1.08890e+04 3.86730e+04 3.50480e+04 1.20475e+05 1.69313e+05]\n",
      "(unique_vals.size - 1) = 105\n",
      "len(label_names_list) = 116\n",
      "local-nb_cs-ii-29_import-tests (  16): INFO : Counts for labels set 1: [3.1000e+01 0.0000e+00 7.1000e+01 7.5000e+01 4.4000e+01 4.9000e+01\n",
      " 1.3000e+02 7.5000e+01 1.1300e+02 9.8000e+01 2.0200e+02 1.0600e+02\n",
      " 1.2600e+02 1.7600e+02 1.9000e+02 8.5000e+01 1.8200e+02 1.2400e+02\n",
      " 5.4100e+02 2.7500e+02 3.8100e+02 1.7000e+02 2.1900e+02 2.3700e+02\n",
      " 2.5900e+02 2.5100e+02 4.0900e+02 2.0600e+02 2.5900e+02 2.3300e+02\n",
      " 2.6300e+02 4.5600e+02 2.1000e+02 1.4200e+02 8.8200e+02 6.0900e+02\n",
      " 5.2800e+02 8.0100e+02 3.1100e+02 1.4000e+02 6.2700e+02 5.9900e+02\n",
      " 7.4100e+02 4.0600e+02 6.5300e+02 5.3300e+02 8.9800e+02 1.0760e+03\n",
      " 1.8300e+02 8.8000e+01 6.6100e+02 5.4000e+02 1.2350e+03 8.6600e+02\n",
      " 1.2490e+03 1.1790e+03 1.1880e+03 9.2400e+02 0.0000e+00 0.0000e+00\n",
      " 0.0000e+00 0.0000e+00 1.0090e+03 1.4150e+03 7.2700e+02 8.0800e+02\n",
      " 3.3000e+02 2.2500e+02 1.1730e+03 1.1660e+03 1.1160e+03 1.1220e+03\n",
      " 1.0140e+03 6.0000e+02 1.1290e+03 9.6300e+02 2.0400e+03 2.6030e+03\n",
      " 2.1470e+03 1.7660e+03 1.0030e+03 2.1380e+03 1.8970e+03 1.9730e+03\n",
      " 3.0060e+03 2.5950e+03 2.3900e+02 1.1400e+02 0.0000e+00 0.0000e+00\n",
      " 3.0220e+03 2.9400e+03 2.6050e+03 3.3990e+03 3.4160e+03 3.8540e+03\n",
      " 2.5500e+03 2.5970e+03 0.0000e+00 0.0000e+00 3.0100e+02 3.6500e+02\n",
      " 3.2240e+03 1.8860e+03 4.1550e+03 4.1750e+03 4.5740e+03 3.7170e+03\n",
      " 8.9620e+03 1.0036e+04 0.0000e+00 0.0000e+00 1.3520e+04 1.1880e+04\n",
      " 7.3781e+04 6.9999e+04]\n",
      "(unique_vals.size - 1) = 60\n",
      "len(label_names_list) = 64\n",
      "local-nb_cs-ii-29_import-tests (  16): INFO : Counts for labels set 2: [  236.   233.   287.   398.   743.   595.   925.   701.   575.   440.\n",
      "   931.   929.   555.   779.     0.     0.   350.   181.   704.   658.\n",
      "  1334.   934.  1235.  1061.  2486.  2294.  1331.  1189.  2159.  2073.\n",
      "  2072.  1718.  1284.  1747.  2617.  2310.  1733.  1803.  3167.  3692.\n",
      "  2013.  1496.  1367.  1499.  3573.  3821.     0.     0.  1908.  2110.\n",
      "  4316.  3845.  3539.  3569.  7007.  9952.  2974.  1405.  2927.  3213.\n",
      "  8803.  9633. 19291. 22423.]\n",
      "(unique_vals.size - 1) = 34\n",
      "len(label_names_list) = 36\n",
      "local-nb_cs-ii-29_import-tests (  16): INFO : Counts for labels set 3: [ 1061.   855.   577.   273.  2746.  3118.  1379.  1200.  2945.  2713.\n",
      "  3495.  3239.  1881.  1658.  2044.  1812.     0.     0.  4962.  4914.\n",
      "  4941.  4715.   943.   627.  7706.  6970. 11240. 10576.  8523.  9828.\n",
      "  7113.  7280. 20461. 19934. 24531. 21991.]\n",
      "(unique_vals.size - 1) = 25\n",
      "len(label_names_list) = 26\n",
      "local-nb_cs-ii-29_import-tests (  16): INFO : Counts for labels set 4: [5.1000e+02 3.7400e+02 9.9400e+02 1.0300e+03 2.1740e+03 2.2250e+03\n",
      " 2.3940e+03 1.9170e+03 1.4760e+03 8.3000e+02 1.7290e+03 2.2650e+03\n",
      " 9.0000e+00 0.0000e+00 5.6140e+03 5.0260e+03 3.0550e+03 2.1530e+03\n",
      " 9.5870e+03 1.1488e+04 9.7890e+03 8.1500e+03 2.9745e+04 3.4108e+04\n",
      " 5.7689e+04 5.6268e+04]\n",
      "(unique_vals.size - 1) = 20\n",
      "len(label_names_list) = 20\n",
      "local-nb_cs-ii-29_import-tests (  16): INFO : Counts for labels set 5: [  5008.   4697.   2635.   2161.   3107.   3035.   5597.   5637.   4137.\n",
      "   3983.   3824.   4685.   3608.   1970.  16780.  18965.  22415.  17273.\n",
      " 180002. 175280.]\n",
      "(unique_vals.size - 1) = 14\n",
      "len(label_names_list) = 16\n",
      "local-nb_cs-ii-29_import-tests (  16): INFO : Counts for labels set 6: [10456. 10237. 16131. 15325. 19045. 16658. 19297. 19176.     0.     0.\n",
      " 64080. 68044. 57380. 57095. 45890. 38789.]\n",
      "(unique_vals.size - 1) = 6\n",
      "len(label_names_list) = 6\n",
      "local-nb_cs-ii-29_import-tests (  16): INFO : Counts for labels set 7: [10323. 12650. 19941. 17569. 32254. 29347.]\n",
      "(unique_vals.size - 1) = 4\n",
      "len(label_names_list) = 4\n",
      "local-nb_cs-ii-29_import-tests (  16): INFO : Counts for labels set 8: [116200. 121726. 227518. 211703.]\n"
     ]
    }
   ],
   "source": [
    "# ALL LABELS MOD\n",
    "\n",
    "# extract the size of each region\n",
    "\n",
    "labels_arrays_sizes: list[np.ndarray] = []\n",
    "\n",
    "for i, (labels_array, label_names_list) in enumerate(zip(labels_arrays_live_space, lr_labels_names_lists)):    \n",
    "    unique_vals = np.unique(labels_array)\n",
    "    print(f'{(unique_vals.size - 1) = }')\n",
    "    print(f'{len(label_names_list) = }')\n",
    "    count_arr = np.zeros((len(label_names_list), ))\n",
    "    for j in range(count_arr.size):     \n",
    "        count_arr[j] = np.count_nonzero(labels_array == (j + 1))\n",
    "    \n",
    "    labels_arrays_sizes.append(count_arr)\n",
    "    log.info('Counts for labels set {}: {}', i, count_arr)"
   ],
   "metadata": {
    "collapsed": false,
    "ExecuteTime": {
     "end_time": "2023-10-20T15:39:24.220057800Z",
     "start_time": "2023-10-20T15:39:22.116673Z"
    }
   },
   "id": "c2fafc9f98b34aef"
  },
  {
   "cell_type": "code",
   "execution_count": 151,
   "outputs": [
    {
     "name": "stdout",
     "output_type": "stream",
     "text": [
      "local-nb_cs-ii-29_import-tests (   5): INFO : Performing merge of label set 0 to create and all region mask.\n",
      "local-nb_cs-ii-29_import-tests (   5): INFO : Performing merge of label set 1 to create and all region mask.\n",
      "local-nb_cs-ii-29_import-tests (   5): INFO : Performing merge of label set 2 to create and all region mask.\n",
      "local-nb_cs-ii-29_import-tests (   5): INFO : Performing merge of label set 3 to create and all region mask.\n",
      "local-nb_cs-ii-29_import-tests (   5): INFO : Performing merge of label set 4 to create and all region mask.\n",
      "local-nb_cs-ii-29_import-tests (   5): INFO : Performing merge of label set 5 to create and all region mask.\n",
      "local-nb_cs-ii-29_import-tests (   5): INFO : Performing merge of label set 6 to create and all region mask.\n",
      "local-nb_cs-ii-29_import-tests (   5): INFO : Performing merge of label set 7 to create and all region mask.\n",
      "local-nb_cs-ii-29_import-tests (   5): INFO : Performing merge of label set 8 to create and all region mask.\n",
      "local-nb_cs-ii-29_import-tests (  10): INFO : total_voxel_count = 1524646\n",
      "local-nb_cs-ii-29_import-tests (  11): INFO : total_voxel_count / all_mask_merge.size = 0.4570018751918355\n"
     ]
    }
   ],
   "source": [
    "# ALL MASK MOD\n",
    "\n",
    "# Get total Counts\n",
    "all_mask_merge = np.zeros(labels_arrays_live_space[0].shape, dtype=bool)\n",
    "\n",
    "for i, labels_array in enumerate(labels_arrays_live_space):\n",
    "    log.info('Performing merge of label set {} to create and all region mask.',\n",
    "             i)\n",
    "    all_mask_merge = np.logical_or(all_mask_merge, labels_array > 0)\n",
    "    \n",
    "total_voxel_count = np.count_nonzero(all_mask_merge)\n",
    "log.info(f'{total_voxel_count = }')\n",
    "log.info(f'{total_voxel_count / all_mask_merge.size = }')"
   ],
   "metadata": {
    "collapsed": false,
    "ExecuteTime": {
     "end_time": "2023-10-20T16:34:39.004125800Z",
     "start_time": "2023-10-20T16:34:38.778427100Z"
    }
   },
   "id": "8f3caa3de96980cc"
  },
  {
   "cell_type": "code",
   "execution_count": 237,
   "outputs": [
    {
     "name": "stdout",
     "output_type": "stream",
     "text": [
      "local-nb_cs-ii-29_import-tests (   1): INFO : Extrtacting Aggregate Traces:\n",
      "local-nb_cs-ii-29_import-tests (   3): INFO : Bit-depth for live data is: 13\n",
      "local-nb_cs-ii-29_import-tests (  12): INFO : Processing Region \"#001 | 121.73k vxl | LEFT - Diencephalon -\"\n",
      "local-nb_cs-ii-29_import-tests (  12): INFO : Processing Region \"#002 | 116.20k vxl | RIGHT - Diencephalon -\"\n",
      "local-nb_cs-ii-29_import-tests (  12): INFO : Processing Region \"#003 | 211.70k vxl | LEFT - Rhombencephalon -\"\n",
      "local-nb_cs-ii-29_import-tests (  12): INFO : Processing Region \"#004 | 227.52k vxl | RIGHT - Rhombencephalon -\"\n"
     ]
    }
   ],
   "source": [
    "log.info('Extrtacting Aggregate Traces:')\n",
    "bit_depth = live_imds.source_data.metadata[pvi.pvmk.BIT_DEPTH]\n",
    "log.info('Bit-depth for live data is: {}', bit_depth)\n",
    "BIT_MAX = float((2 ** bit_depth) - 1)\n",
    "\n",
    "live_image_data = live_imds_drop.get_image_data()\n",
    "\n",
    "output_traces = np.zeros((num_labels_present, live_imds_drop.shape_dict[Dim.TIME]),\n",
    "                         dtype=float)\n",
    "\n",
    "for i, i_label in enumerate(arg_labels_present):\n",
    "    log.info('Processing Region \"{}\"',\n",
    "             label_names[i_label])\n",
    "    moi = labels_ndarray == (i_label + 1)\n",
    "    log.debug(f'{np.count_nonzero(moi) = }')\n",
    "    selected_data = live_image_data[:, moi]\n",
    "    log.debug(f'{selected_data.shape = }')\n",
    "    selected_data = np.mean(selected_data, axis=1)\n",
    "    selected_data = selected_data / BIT_MAX\n",
    "    log.debug(f'{selected_data.shape = }')\n",
    "    output_traces[i, :] = selected_data"
   ],
   "metadata": {
    "collapsed": false,
    "ExecuteTime": {
     "end_time": "2023-10-24T19:03:10.660412500Z",
     "start_time": "2023-10-24T19:02:56.723606Z"
    }
   },
   "id": "93dfacd57343808d"
  },
  {
   "cell_type": "code",
   "execution_count": 133,
   "outputs": [
    {
     "name": "stdout",
     "output_type": "stream",
     "text": [
      "local-nb_cs-ii-29_import-tests (   2): INFO : Extrtacting Aggregate Traces:\n",
      "local-nb_cs-ii-29_import-tests (   4): INFO : Bit-depth for live data is: 13\n",
      "local-nb_cs-ii-29_import-tests (  11): INFO : total_num_regions = 588\n"
     ]
    }
   ],
   "source": [
    "# ALL LABELS MOD\n",
    "log.info('Extrtacting Aggregate Traces:')\n",
    "bit_depth = live_imds.source_data.metadata[pvi.pvmk.BIT_DEPTH]\n",
    "log.info('Bit-depth for live data is: {}', bit_depth)\n",
    "BIT_MAX = float((2 ** bit_depth) - 1)\n",
    "\n",
    "live_image_data = live_imds_drop.get_image_data()\n",
    "\n",
    "total_num_regions = np.sum([lsz.size for lsz in labels_arrays_sizes])\n",
    "\n",
    "log.info(f'{total_num_regions = }')\n",
    "\n",
    "output_traces = np.zeros((7, total_num_regions, live_imds_drop.shape_dict[Dim.TIME]),\n",
    "                         dtype=float)"
   ],
   "metadata": {
    "collapsed": false,
    "ExecuteTime": {
     "end_time": "2023-10-20T15:39:56.686201800Z",
     "start_time": "2023-10-20T15:39:56.587910900Z"
    }
   },
   "id": "54e1185bfe32959f"
  },
  {
   "cell_type": "code",
   "execution_count": 238,
   "outputs": [
    {
     "name": "stdout",
     "output_type": "stream",
     "text": [
      "local-nb_cs-ii-29_import-tests (   1): INFO : output_traces.shape = (4, 1710)\n"
     ]
    }
   ],
   "source": [
    "log.info(f'{output_traces.shape = }')"
   ],
   "metadata": {
    "collapsed": false,
    "ExecuteTime": {
     "end_time": "2023-10-24T19:03:15.193927700Z",
     "start_time": "2023-10-24T19:03:15.037180400Z"
    }
   },
   "id": "d1c9b704d7f5d4f4"
  },
  {
   "cell_type": "code",
   "execution_count": 135,
   "outputs": [
    {
     "name": "stdout",
     "output_type": "stream",
     "text": [
      "local-nb_cs-ii-29_import-tests (  13): INFO : Processing Region 000 - \"LEFT - Rhombencephalon - Mauthner Cell Axon Cap\"\n",
      "local-nb_cs-ii-29_import-tests (  13): INFO : Processing Region 001 - \"RIGHT - Rhombencephalon - Mauthner Cell Axon Cap\"\n",
      "local-nb_cs-ii-29_import-tests (  13): INFO : Processing Region 002 - \"LEFT - Rhombencephalon - MiR2\"\n",
      "local-nb_cs-ii-29_import-tests (  13): INFO : Processing Region 003 - \"RIGHT - Rhombencephalon - MiR2\"\n",
      "local-nb_cs-ii-29_import-tests (  13): INFO : Processing Region 004 - \"LEFT - Rhombencephalon - Glyt2 Cluster 10\"\n",
      "local-nb_cs-ii-29_import-tests (  13): INFO : Processing Region 005 - \"RIGHT - Rhombencephalon - Glyt2 Cluster 10\"\n",
      "local-nb_cs-ii-29_import-tests (  13): INFO : Processing Region 006 - \"LEFT - Rhombencephalon - Glyt2 Cluster 12\"\n",
      "local-nb_cs-ii-29_import-tests (  13): INFO : Processing Region 007 - \"RIGHT - Rhombencephalon - Glyt2 Cluster 12\"\n",
      "local-nb_cs-ii-29_import-tests (  13): INFO : Processing Region 008 - \"LEFT - Rhombencephalon - RoL2\"\n",
      "local-nb_cs-ii-29_import-tests (  13): INFO : Processing Region 009 - \"RIGHT - Rhombencephalon - RoL2\"\n",
      "local-nb_cs-ii-29_import-tests (  13): INFO : Processing Region 010 - \"LEFT - Rhombencephalon - Gad1b Cluster 12\"\n",
      "local-nb_cs-ii-29_import-tests (  13): INFO : Processing Region 011 - \"RIGHT - Rhombencephalon - Gad1b Cluster 12\"\n",
      "local-nb_cs-ii-29_import-tests (  13): INFO : Processing Region 012 - \"LEFT - Rhombencephalon - Glyt2 Cluster 7\"\n",
      "local-nb_cs-ii-29_import-tests (  13): INFO : Processing Region 013 - \"RIGHT - Rhombencephalon - Glyt2 Cluster 7\"\n",
      "local-nb_cs-ii-29_import-tests (  13): INFO : Processing Region 014 - \"LEFT - Rhombencephalon - MiR1\"\n",
      "local-nb_cs-ii-29_import-tests (  13): INFO : Processing Region 015 - \"RIGHT - Rhombencephalon - MiR1\"\n",
      "local-nb_cs-ii-29_import-tests (  13): INFO : Processing Region 016 - \"LEFT - Diencephalon - Oxtl Cluster 5\"\n",
      "local-nb_cs-ii-29_import-tests (  13): INFO : Processing Region 017 - \"RIGHT - Diencephalon - Oxtl Cluster 5\"\n",
      "local-nb_cs-ii-29_import-tests (  13): INFO : Processing Region 018 - \"LEFT - Rhombencephalon - RoL3\"\n",
      "local-nb_cs-ii-29_import-tests (  13): INFO : Processing Region 019 - \"RIGHT - Rhombencephalon - RoL3\"\n",
      "local-nb_cs-ii-29_import-tests (  13): INFO : Processing Region 020 - \"LEFT - Rhombencephalon - MiM1\"\n",
      "local-nb_cs-ii-29_import-tests (  13): INFO : Processing Region 021 - \"RIGHT - Rhombencephalon - MiM1\"\n",
      "local-nb_cs-ii-29_import-tests (  13): INFO : Processing Region 022 - \"LEFT - Rhombencephalon - Gad1b Cluster 11\"\n",
      "local-nb_cs-ii-29_import-tests (  13): INFO : Processing Region 023 - \"RIGHT - Rhombencephalon - Gad1b Cluster 11\"\n",
      "local-nb_cs-ii-29_import-tests (  13): INFO : Processing Region 024 - \"LEFT - Rhombencephalon - Glyt2 Cluster 5\"\n",
      "local-nb_cs-ii-29_import-tests (  13): INFO : Processing Region 025 - \"RIGHT - Rhombencephalon - Glyt2 Cluster 5\"\n",
      "local-nb_cs-ii-29_import-tests (  13): INFO : Processing Region 026 - \"LEFT - Rhombencephalon - Oxtl Cluster 1 Sparse\"\n",
      "local-nb_cs-ii-29_import-tests (  13): INFO : Processing Region 027 - \"RIGHT - Rhombencephalon - Oxtl Cluster 1 Sparse\"\n",
      "local-nb_cs-ii-29_import-tests (  13): INFO : Processing Region 028 - \"LEFT - Diencephalon - Oxtl Cluster 2\"\n",
      "local-nb_cs-ii-29_import-tests (  13): INFO : Processing Region 029 - \"RIGHT - Diencephalon - Oxtl Cluster 2\"\n",
      "local-nb_cs-ii-29_import-tests (  13): INFO : Processing Region 030 - \"LEFT - Rhombencephalon - Glyt2 Cluster 4\"\n",
      "local-nb_cs-ii-29_import-tests (  13): INFO : Processing Region 031 - \"RIGHT - Rhombencephalon - Glyt2 Cluster 4\"\n",
      "local-nb_cs-ii-29_import-tests (  13): INFO : Processing Region 032 - \"LEFT - Rhombencephalon - Gad1b Cluster 10\"\n",
      "local-nb_cs-ii-29_import-tests (  13): INFO : Processing Region 033 - \"RIGHT - Rhombencephalon - Gad1b Cluster 10\"\n",
      "local-nb_cs-ii-29_import-tests (  13): INFO : Processing Region 034 - \"LEFT - Rhombencephalon - Gad1b Cluster 9\"\n",
      "local-nb_cs-ii-29_import-tests (  13): INFO : Processing Region 035 - \"RIGHT - Rhombencephalon - Gad1b Cluster 9\"\n",
      "local-nb_cs-ii-29_import-tests (  13): INFO : Processing Region 036 - \"LEFT - Rhombencephalon - Glyt2 Cluster 3\"\n",
      "local-nb_cs-ii-29_import-tests (  13): INFO : Processing Region 037 - \"RIGHT - Rhombencephalon - Glyt2 Cluster 3\"\n",
      "local-nb_cs-ii-29_import-tests (  13): INFO : Processing Region 038 - \"LEFT - Rhombencephalon - Glyt2 Cluster 9\"\n",
      "local-nb_cs-ii-29_import-tests (  13): INFO : Processing Region 039 - \"RIGHT - Rhombencephalon - Glyt2 Cluster 9\"\n",
      "local-nb_cs-ii-29_import-tests (  13): INFO : Processing Region 040 - \"LEFT - Rhombencephalon - Spiral Fiber Neuron Posterior cluster\"\n",
      "local-nb_cs-ii-29_import-tests (  13): INFO : Processing Region 041 - \"RIGHT - Rhombencephalon - Spiral Fiber Neuron Posterior cluster\"\n",
      "local-nb_cs-ii-29_import-tests (  13): INFO : Processing Region 042 - \"LEFT - Rhombencephalon - Glyt2 Cluster 11\"\n",
      "local-nb_cs-ii-29_import-tests (  13): INFO : Processing Region 043 - \"RIGHT - Rhombencephalon - Glyt2 Cluster 11\"\n",
      "local-nb_cs-ii-29_import-tests (  13): INFO : Processing Region 044 - \"LEFT - Rhombencephalon - Otpb Cluster 5\"\n",
      "local-nb_cs-ii-29_import-tests (  13): INFO : Processing Region 045 - \"RIGHT - Rhombencephalon - Otpb Cluster 5\"\n",
      "local-nb_cs-ii-29_import-tests (  13): INFO : Processing Region 046 - \"LEFT - Rhombencephalon - Otpb Cluster 3\"\n",
      "local-nb_cs-ii-29_import-tests (  13): INFO : Processing Region 047 - \"RIGHT - Rhombencephalon - Otpb Cluster 3\"\n",
      "local-nb_cs-ii-29_import-tests (  13): INFO : Processing Region 048 - \"LEFT - Rhombencephalon - Otpb Cluster 1\"\n",
      "local-nb_cs-ii-29_import-tests (  13): INFO : Processing Region 049 - \"RIGHT - Rhombencephalon - Otpb Cluster 1\"\n",
      "local-nb_cs-ii-29_import-tests (  13): INFO : Processing Region 050 - \"LEFT - Rhombencephalon - Gad1b Cluster 5\"\n",
      "local-nb_cs-ii-29_import-tests (  13): INFO : Processing Region 051 - \"RIGHT - Rhombencephalon - Gad1b Cluster 5\"\n",
      "local-nb_cs-ii-29_import-tests (  13): INFO : Processing Region 052 - \"LEFT - Rhombencephalon - Gad1b Cluster 8\"\n",
      "local-nb_cs-ii-29_import-tests (  13): INFO : Processing Region 053 - \"RIGHT - Rhombencephalon - Gad1b Cluster 8\"\n",
      "local-nb_cs-ii-29_import-tests (  13): INFO : Processing Region 054 - \"LEFT - Rhombencephalon - Vmat2 Cluster 4\"\n",
      "local-nb_cs-ii-29_import-tests (  13): INFO : Processing Region 055 - \"RIGHT - Rhombencephalon - Vmat2 Cluster 4\"\n",
      "local-nb_cs-ii-29_import-tests (  13): INFO : Processing Region 056 - \"LEFT - Mesencephalon - Retinal Arborization Field 8 (AF8)\"\n",
      "local-nb_cs-ii-29_import-tests (  13): INFO : Processing Region 057 - \"RIGHT - Mesencephalon - Retinal Arborization Field 8 (AF8)\"\n",
      "local-nb_cs-ii-29_import-tests (  13): INFO : Processing Region 058 - \"LEFT - Rhombencephalon - VII' Facial Motor and octavolateralis efferent neurons\"\n",
      "local-nb_cs-ii-29_import-tests (  13): INFO : Processing Region 059 - \"RIGHT - Rhombencephalon - VII' Facial Motor and octavolateralis efferent neurons\"\n",
      "local-nb_cs-ii-29_import-tests (  13): INFO : Processing Region 060 - \"LEFT - Rhombencephalon - Vmat2 Cluster 3\"\n",
      "local-nb_cs-ii-29_import-tests (  13): INFO : Processing Region 061 - \"RIGHT - Rhombencephalon - Vmat2 Cluster 3\"\n",
      "local-nb_cs-ii-29_import-tests (  13): INFO : Processing Region 062 - \"LEFT - Rhombencephalon - Small cluster of TH stained neurons\"\n",
      "local-nb_cs-ii-29_import-tests (  18): INFO : ...region is empty.\n",
      "local-nb_cs-ii-29_import-tests (  13): INFO : Processing Region 063 - \"RIGHT - Rhombencephalon - Small cluster of TH stained neurons\"\n",
      "local-nb_cs-ii-29_import-tests (  18): INFO : ...region is empty.\n",
      "local-nb_cs-ii-29_import-tests (  13): INFO : Processing Region 064 - \"LEFT - Rhombencephalon - Spiral Fiber Neuron Anterior cluster\"\n",
      "local-nb_cs-ii-29_import-tests (  13): INFO : Processing Region 065 - \"RIGHT - Rhombencephalon - Spiral Fiber Neuron Anterior cluster\"\n",
      "local-nb_cs-ii-29_import-tests (  13): INFO : Processing Region 066 - \"LEFT - Mesencephalon - Sparse 6.7FRhcrtR cluster\"\n",
      "local-nb_cs-ii-29_import-tests (  13): INFO : Processing Region 067 - \"RIGHT - Mesencephalon - Sparse 6.7FRhcrtR cluster\"\n",
      "local-nb_cs-ii-29_import-tests (  13): INFO : Processing Region 068 - \"LEFT - Rhombencephalon - Glyt2 Cluster 2\"\n",
      "local-nb_cs-ii-29_import-tests (  13): INFO : Processing Region 069 - \"RIGHT - Rhombencephalon - Glyt2 Cluster 2\"\n",
      "local-nb_cs-ii-29_import-tests (  13): INFO : Processing Region 070 - \"LEFT - Rhombencephalon - Vglut2 cluster 3\"\n",
      "local-nb_cs-ii-29_import-tests (  13): INFO : Processing Region 071 - \"RIGHT - Rhombencephalon - Vglut2 cluster 3\"\n",
      "local-nb_cs-ii-29_import-tests (  13): INFO : Processing Region 072 - \"LEFT - Rhombencephalon - 6.7FDhcrtR-Gal4 Cluster 4\"\n",
      "local-nb_cs-ii-29_import-tests (  13): INFO : Processing Region 073 - \"RIGHT - Rhombencephalon - 6.7FDhcrtR-Gal4 Cluster 4\"\n",
      "local-nb_cs-ii-29_import-tests (  13): INFO : Processing Region 074 - \"LEFT - Diencephalon - Retinal Arborization Field 1 (AF1, Approximate Location)\"\n",
      "local-nb_cs-ii-29_import-tests (  18): INFO : ...region is empty.\n",
      "local-nb_cs-ii-29_import-tests (  13): INFO : Processing Region 075 - \"RIGHT - Diencephalon - Retinal Arborization Field 1 (AF1, Approximate Location)\"\n",
      "local-nb_cs-ii-29_import-tests (  13): INFO : Processing Region 076 - \"LEFT - Ganglia - Lateral Line Neuromast SO3\"\n",
      "local-nb_cs-ii-29_import-tests (  13): INFO : Processing Region 077 - \"RIGHT - Ganglia - Lateral Line Neuromast SO3\"\n",
      "local-nb_cs-ii-29_import-tests (  13): INFO : Processing Region 078 - \"LEFT - Rhombencephalon - RoM1\"\n",
      "local-nb_cs-ii-29_import-tests (  13): INFO : Processing Region 079 - \"RIGHT - Rhombencephalon - RoM1\"\n",
      "local-nb_cs-ii-29_import-tests (  13): INFO : Processing Region 080 - \"LEFT - Rhombencephalon - Isl1 Cluster 2\"\n",
      "local-nb_cs-ii-29_import-tests (  13): INFO : Processing Region 081 - \"RIGHT - Rhombencephalon - Isl1 Cluster 2\"\n",
      "local-nb_cs-ii-29_import-tests (  13): INFO : Processing Region 082 - \"LEFT - Ganglia - Lateral Line Neuromast OC1\"\n",
      "local-nb_cs-ii-29_import-tests (  13): INFO : Processing Region 083 - \"RIGHT - Ganglia - Lateral Line Neuromast OC1\"\n",
      "local-nb_cs-ii-29_import-tests (  18): INFO : ...region is empty.\n",
      "local-nb_cs-ii-29_import-tests (  13): INFO : Processing Region 084 - \"LEFT - Ganglia - Lateral Line Neuromast D1\"\n",
      "local-nb_cs-ii-29_import-tests (  18): INFO : ...region is empty.\n",
      "local-nb_cs-ii-29_import-tests (  13): INFO : Processing Region 085 - \"RIGHT - Ganglia - Lateral Line Neuromast D1\"\n",
      "local-nb_cs-ii-29_import-tests (  18): INFO : ...region is empty.\n",
      "local-nb_cs-ii-29_import-tests (  13): INFO : Processing Region 086 - \"LEFT - Rhombencephalon - RoV3\"\n",
      "local-nb_cs-ii-29_import-tests (  13): INFO : Processing Region 087 - \"RIGHT - Rhombencephalon - RoV3\"\n",
      "local-nb_cs-ii-29_import-tests (  13): INFO : Processing Region 088 - \"LEFT - Diencephalon - Hypothalamus Vglut2 Cluster 4\"\n",
      "local-nb_cs-ii-29_import-tests (  18): INFO : ...region is empty.\n",
      "local-nb_cs-ii-29_import-tests (  13): INFO : Processing Region 089 - \"RIGHT - Diencephalon - Hypothalamus Vglut2 Cluster 4\"\n",
      "local-nb_cs-ii-29_import-tests (  13): INFO : Processing Region 090 - \"LEFT - Rhombencephalon - Vmat2 Cluster 2\"\n",
      "local-nb_cs-ii-29_import-tests (  13): INFO : Processing Region 091 - \"RIGHT - Rhombencephalon - Vmat2 Cluster 2\"\n",
      "local-nb_cs-ii-29_import-tests (  13): INFO : Processing Region 092 - \"LEFT - Rhombencephalon - Mauthner\"\n",
      "local-nb_cs-ii-29_import-tests (  13): INFO : Processing Region 093 - \"RIGHT - Rhombencephalon - Mauthner\"\n",
      "local-nb_cs-ii-29_import-tests (  13): INFO : Processing Region 094 - \"LEFT - Diencephalon - Isl1 cluster 3\"\n",
      "local-nb_cs-ii-29_import-tests (  13): INFO : Processing Region 095 - \"RIGHT - Diencephalon - Isl1 cluster 3\"\n",
      "local-nb_cs-ii-29_import-tests (  13): INFO : Processing Region 096 - \"LEFT - Rhombencephalon - Gad1b Cluster 19\"\n",
      "local-nb_cs-ii-29_import-tests (  13): INFO : Processing Region 097 - \"RIGHT - Rhombencephalon - Gad1b Cluster 19\"\n",
      "local-nb_cs-ii-29_import-tests (  13): INFO : Processing Region 098 - \"LEFT - Diencephalon - Anterior group of the posterior tubercular vmat2 neurons\"\n",
      "local-nb_cs-ii-29_import-tests (  13): INFO : Processing Region 099 - \"RIGHT - Diencephalon - Anterior group of the posterior tubercular vmat2 neurons\"\n",
      "local-nb_cs-ii-29_import-tests (  13): INFO : Processing Region 100 - \"LEFT - Rhombencephalon - MiV1\"\n",
      "local-nb_cs-ii-29_import-tests (  13): INFO : Processing Region 101 - \"RIGHT - Rhombencephalon - MiV1\"\n",
      "local-nb_cs-ii-29_import-tests (  13): INFO : Processing Region 102 - \"LEFT - Diencephalon - Isl1 cluster 1\"\n",
      "local-nb_cs-ii-29_import-tests (  13): INFO : Processing Region 103 - \"RIGHT - Diencephalon - Isl1 cluster 1\"\n",
      "local-nb_cs-ii-29_import-tests (  13): INFO : Processing Region 104 - \"LEFT - Diencephalon - Retinal Arborization Field 5 (AF5)\"\n",
      "local-nb_cs-ii-29_import-tests (  13): INFO : Processing Region 105 - \"RIGHT - Diencephalon - Retinal Arborization Field 5 (AF5)\"\n",
      "local-nb_cs-ii-29_import-tests (  13): INFO : Processing Region 106 - \"LEFT - Diencephalon - Preoptic area Vglut2 cluster\"\n",
      "local-nb_cs-ii-29_import-tests (  13): INFO : Processing Region 107 - \"RIGHT - Diencephalon - Preoptic area Vglut2 cluster\"\n",
      "local-nb_cs-ii-29_import-tests (  13): INFO : Processing Region 108 - \"LEFT - Rhombencephalon - MiD2\"\n",
      "local-nb_cs-ii-29_import-tests (  13): INFO : Processing Region 109 - \"RIGHT - Rhombencephalon - MiD2\"\n",
      "local-nb_cs-ii-29_import-tests (  13): INFO : Processing Region 110 - \"LEFT - Diencephalon - Hypothalamus s1181t Cluster\"\n",
      "local-nb_cs-ii-29_import-tests (  13): INFO : Processing Region 111 - \"RIGHT - Diencephalon - Hypothalamus s1181t Cluster\"\n",
      "local-nb_cs-ii-29_import-tests (  13): INFO : Processing Region 112 - \"LEFT - Rhombencephalon - 6.7FDhcrtR-Gal4 Cluster 3\"\n",
      "local-nb_cs-ii-29_import-tests (  13): INFO : Processing Region 113 - \"RIGHT - Rhombencephalon - 6.7FDhcrtR-Gal4 Cluster 3\"\n",
      "local-nb_cs-ii-29_import-tests (  13): INFO : Processing Region 114 - \"LEFT - Diencephalon - Hypothalamus Olig2 cluster 2\"\n",
      "local-nb_cs-ii-29_import-tests (  13): INFO : Processing Region 115 - \"RIGHT - Diencephalon - Hypothalamus Olig2 cluster 2\"\n",
      "local-nb_cs-ii-29_import-tests (  13): INFO : Processing Region 116 - \"LEFT - Rhombencephalon - RoM2\"\n",
      "local-nb_cs-ii-29_import-tests (  13): INFO : Processing Region 117 - \"RIGHT - Rhombencephalon - RoM2\"\n",
      "local-nb_cs-ii-29_import-tests (  13): INFO : Processing Region 118 - \"LEFT - Rhombencephalon - Isl1 Cluster 3\"\n",
      "local-nb_cs-ii-29_import-tests (  13): INFO : Processing Region 119 - \"RIGHT - Rhombencephalon - Isl1 Cluster 3\"\n",
      "local-nb_cs-ii-29_import-tests (  13): INFO : Processing Region 120 - \"LEFT - Ganglia - Lateral Line Neuromast O1\"\n",
      "local-nb_cs-ii-29_import-tests (  13): INFO : Processing Region 121 - \"RIGHT - Ganglia - Lateral Line Neuromast O1\"\n",
      "local-nb_cs-ii-29_import-tests (  13): INFO : Processing Region 122 - \"LEFT - Ganglia - Lateral Line Neuromast D2\"\n",
      "local-nb_cs-ii-29_import-tests (  18): INFO : ...region is empty.\n",
      "local-nb_cs-ii-29_import-tests (  13): INFO : Processing Region 123 - \"RIGHT - Ganglia - Lateral Line Neuromast D2\"\n",
      "local-nb_cs-ii-29_import-tests (  18): INFO : ...region is empty.\n",
      "local-nb_cs-ii-29_import-tests (  13): INFO : Processing Region 124 - \"LEFT - Rhombencephalon - Vglut2 cluster 4\"\n",
      "local-nb_cs-ii-29_import-tests (  13): INFO : Processing Region 125 - \"RIGHT - Rhombencephalon - Vglut2 cluster 4\"\n",
      "local-nb_cs-ii-29_import-tests (  13): INFO : Processing Region 126 - \"LEFT - Diencephalon - Hypothalamus Gad1b Cluster 2\"\n",
      "local-nb_cs-ii-29_import-tests (  13): INFO : Processing Region 127 - \"RIGHT - Diencephalon - Hypothalamus Gad1b Cluster 2\"\n",
      "local-nb_cs-ii-29_import-tests (  13): INFO : Processing Region 128 - \"LEFT - Rhombencephalon - 6.7FDhcrtR-Gal4 Stripe 3\"\n",
      "local-nb_cs-ii-29_import-tests (  13): INFO : Processing Region 129 - \"RIGHT - Rhombencephalon - 6.7FDhcrtR-Gal4 Stripe 3\"\n",
      "local-nb_cs-ii-29_import-tests (  13): INFO : Processing Region 130 - \"LEFT - Diencephalon - Anterior preoptic dopaminergic cluster\"\n",
      "local-nb_cs-ii-29_import-tests (  18): INFO : ...region is empty.\n",
      "local-nb_cs-ii-29_import-tests (  13): INFO : Processing Region 131 - \"RIGHT - Diencephalon - Anterior preoptic dopaminergic cluster\"\n",
      "local-nb_cs-ii-29_import-tests (  13): INFO : Processing Region 132 - \"LEFT - Rhombencephalon - RoL-R1\"\n",
      "local-nb_cs-ii-29_import-tests (  13): INFO : Processing Region 133 - \"RIGHT - Rhombencephalon - RoL-R1\"\n",
      "local-nb_cs-ii-29_import-tests (  13): INFO : Processing Region 134 - \"LEFT - Diencephalon - Retinal Arborization Field 6 (AF6)\"\n",
      "local-nb_cs-ii-29_import-tests (  13): INFO : Processing Region 135 - \"RIGHT - Diencephalon - Retinal Arborization Field 6 (AF6)\"\n",
      "local-nb_cs-ii-29_import-tests (  13): INFO : Processing Region 136 - \"LEFT - Diencephalon - Oxtl Cluster 4 - sparse in hypothalamus\"\n",
      "local-nb_cs-ii-29_import-tests (  13): INFO : Processing Region 137 - \"RIGHT - Diencephalon - Oxtl Cluster 4 - sparse in hypothalamus\"\n",
      "local-nb_cs-ii-29_import-tests (  13): INFO : Processing Region 138 - \"LEFT - Rhombencephalon - Lateral Reticular Nucleus\"\n",
      "local-nb_cs-ii-29_import-tests (  13): INFO : Processing Region 139 - \"RIGHT - Rhombencephalon - Lateral Reticular Nucleus\"\n",
      "local-nb_cs-ii-29_import-tests (  13): INFO : Processing Region 140 - \"LEFT - Spinal Cord - Gad1b Stripe 2\"\n",
      "local-nb_cs-ii-29_import-tests (  18): INFO : ...region is empty.\n",
      "local-nb_cs-ii-29_import-tests (  13): INFO : Processing Region 141 - \"RIGHT - Spinal Cord - Gad1b Stripe 2\"\n",
      "local-nb_cs-ii-29_import-tests (  18): INFO : ...region is empty.\n",
      "local-nb_cs-ii-29_import-tests (  13): INFO : Processing Region 142 - \"LEFT - Rhombencephalon - Gad1b Cluster 18\"\n",
      "local-nb_cs-ii-29_import-tests (  13): INFO : Processing Region 143 - \"RIGHT - Rhombencephalon - Gad1b Cluster 18\"\n",
      "local-nb_cs-ii-29_import-tests (  13): INFO : Processing Region 144 - \"LEFT - Diencephalon - Torus Lateralis\"\n",
      "local-nb_cs-ii-29_import-tests (  13): INFO : Processing Region 145 - \"RIGHT - Diencephalon - Torus Lateralis\"\n",
      "local-nb_cs-ii-29_import-tests (  13): INFO : Processing Region 146 - \"LEFT - Diencephalon - Retinal Arborization Field 2 (AF2, Approximate Location)\"\n",
      "local-nb_cs-ii-29_import-tests (  13): INFO : Processing Region 147 - \"RIGHT - Diencephalon - Retinal Arborization Field 2 (AF2, Approximate Location)\"\n",
      "local-nb_cs-ii-29_import-tests (  13): INFO : Processing Region 148 - \"LEFT - Rhombencephalon - Area Postrema\"\n",
      "local-nb_cs-ii-29_import-tests (  18): INFO : ...region is empty.\n",
      "local-nb_cs-ii-29_import-tests (  13): INFO : Processing Region 149 - \"RIGHT - Rhombencephalon - Area Postrema\"\n",
      "local-nb_cs-ii-29_import-tests (  18): INFO : ...region is empty.\n",
      "local-nb_cs-ii-29_import-tests (  13): INFO : Processing Region 150 - \"LEFT - Rhombencephalon - Gad1b Cluster 20\"\n",
      "local-nb_cs-ii-29_import-tests (  18): INFO : ...region is empty.\n",
      "local-nb_cs-ii-29_import-tests (  13): INFO : Processing Region 151 - \"RIGHT - Rhombencephalon - Gad1b Cluster 20\"\n",
      "local-nb_cs-ii-29_import-tests (  18): INFO : ...region is empty.\n",
      "local-nb_cs-ii-29_import-tests (  13): INFO : Processing Region 152 - \"LEFT - Rhombencephalon - Vmat2 Cluster 1\"\n",
      "local-nb_cs-ii-29_import-tests (  13): INFO : Processing Region 153 - \"RIGHT - Rhombencephalon - Vmat2 Cluster 1\"\n",
      "local-nb_cs-ii-29_import-tests (  13): INFO : Processing Region 154 - \"LEFT - Ganglia - Lateral Line Neuromast SO1\"\n",
      "local-nb_cs-ii-29_import-tests (  13): INFO : Processing Region 155 - \"RIGHT - Ganglia - Lateral Line Neuromast SO1\"\n",
      "local-nb_cs-ii-29_import-tests (  13): INFO : Processing Region 156 - \"LEFT - Diencephalon - Hypothalamus Olig2 cluster\"\n",
      "local-nb_cs-ii-29_import-tests (  13): INFO : Processing Region 157 - \"RIGHT - Diencephalon - Hypothalamus Olig2 cluster\"\n",
      "local-nb_cs-ii-29_import-tests (  13): INFO : Processing Region 158 - \"LEFT - Rhombencephalon - Olig2 Cluster\"\n",
      "local-nb_cs-ii-29_import-tests (  13): INFO : Processing Region 159 - \"RIGHT - Rhombencephalon - Olig2 Cluster\"\n",
      "local-nb_cs-ii-29_import-tests (  13): INFO : Processing Region 160 - \"LEFT - Mesencephalon - Oxtl Cluster Sparse\"\n",
      "local-nb_cs-ii-29_import-tests (  13): INFO : Processing Region 161 - \"RIGHT - Mesencephalon - Oxtl Cluster Sparse\"\n",
      "local-nb_cs-ii-29_import-tests (  13): INFO : Processing Region 162 - \"LEFT - Diencephalon - Retinal Arborization Field 3 (AF3)\"\n",
      "local-nb_cs-ii-29_import-tests (  13): INFO : Processing Region 163 - \"RIGHT - Diencephalon - Retinal Arborization Field 3 (AF3)\"\n",
      "local-nb_cs-ii-29_import-tests (  13): INFO : Processing Region 164 - \"LEFT - Mesencephalon - Retinal Arborization Field 7 (AF7)\"\n",
      "local-nb_cs-ii-29_import-tests (  13): INFO : Processing Region 165 - \"RIGHT - Mesencephalon - Retinal Arborization Field 7 (AF7)\"\n",
      "local-nb_cs-ii-29_import-tests (  13): INFO : Processing Region 166 - \"LEFT - Telencephalon - Subpallial Otpb strip\"\n",
      "local-nb_cs-ii-29_import-tests (  13): INFO : Processing Region 167 - \"RIGHT - Telencephalon - Subpallial Otpb strip\"\n",
      "local-nb_cs-ii-29_import-tests (  13): INFO : Processing Region 168 - \"LEFT - Rhombencephalon - Vmat2 Stripe3\"\n",
      "local-nb_cs-ii-29_import-tests (  13): INFO : Processing Region 169 - \"RIGHT - Rhombencephalon - Vmat2 Stripe3\"\n",
      "local-nb_cs-ii-29_import-tests (  13): INFO : Processing Region 170 - \"LEFT - Mesencephalon - Ptf1a Cluster\"\n",
      "local-nb_cs-ii-29_import-tests (  13): INFO : Processing Region 171 - \"RIGHT - Mesencephalon - Ptf1a Cluster\"\n",
      "local-nb_cs-ii-29_import-tests (  13): INFO : Processing Region 172 - \"LEFT - Diencephalon - Dopaminergic Cluster 6 - hypothalamus\"\n",
      "local-nb_cs-ii-29_import-tests (  13): INFO : Processing Region 173 - \"RIGHT - Diencephalon - Dopaminergic Cluster 6 - hypothalamus\"\n",
      "local-nb_cs-ii-29_import-tests (  13): INFO : Processing Region 174 - \"LEFT - Spinal Cord - Vmat2 Stripe2\"\n",
      "local-nb_cs-ii-29_import-tests (  18): INFO : ...region is empty.\n",
      "local-nb_cs-ii-29_import-tests (  13): INFO : Processing Region 175 - \"RIGHT - Spinal Cord - Vmat2 Stripe2\"\n",
      "local-nb_cs-ii-29_import-tests (  18): INFO : ...region is empty.\n",
      "local-nb_cs-ii-29_import-tests (  13): INFO : Processing Region 176 - \"LEFT - Diencephalon - Preoptic area posterior dopaminergic cluster\"\n",
      "local-nb_cs-ii-29_import-tests (  13): INFO : Processing Region 177 - \"RIGHT - Diencephalon - Preoptic area posterior dopaminergic cluster\"\n",
      "local-nb_cs-ii-29_import-tests (  13): INFO : Processing Region 178 - \"LEFT - Diencephalon - Pineal Vmat2 cluster \"\n",
      "local-nb_cs-ii-29_import-tests (  13): INFO : Processing Region 179 - \"RIGHT - Diencephalon - Pineal Vmat2 cluster \"\n",
      "local-nb_cs-ii-29_import-tests (  13): INFO : Processing Region 180 - \"LEFT - Ganglia - Lateral Line Neuromast N\"\n",
      "local-nb_cs-ii-29_import-tests (  13): INFO : Processing Region 181 - \"RIGHT - Ganglia - Lateral Line Neuromast N\"\n",
      "local-nb_cs-ii-29_import-tests (  13): INFO : Processing Region 182 - \"LEFT - Rhombencephalon - Gad1b Cluster 17\"\n",
      "local-nb_cs-ii-29_import-tests (  13): INFO : Processing Region 183 - \"RIGHT - Rhombencephalon - Gad1b Cluster 17\"\n",
      "local-nb_cs-ii-29_import-tests (  13): INFO : Processing Region 184 - \"LEFT - Mesencephalon - Otpb Cluster\"\n",
      "local-nb_cs-ii-29_import-tests (  13): INFO : Processing Region 185 - \"RIGHT - Mesencephalon - Otpb Cluster\"\n",
      "local-nb_cs-ii-29_import-tests (  13): INFO : Processing Region 186 - \"LEFT - Rhombencephalon - Gad1b Cluster 7\"\n",
      "local-nb_cs-ii-29_import-tests (  13): INFO : Processing Region 187 - \"RIGHT - Rhombencephalon - Gad1b Cluster 7\"\n",
      "local-nb_cs-ii-29_import-tests (  13): INFO : Processing Region 188 - \"LEFT - Diencephalon - Isl1 cluster 2\"\n",
      "local-nb_cs-ii-29_import-tests (  13): INFO : Processing Region 189 - \"RIGHT - Diencephalon - Isl1 cluster 2\"\n",
      "local-nb_cs-ii-29_import-tests (  13): INFO : Processing Region 190 - \"LEFT - Telencephalon - Subpallial Vglut2 Cluster\"\n",
      "local-nb_cs-ii-29_import-tests (  13): INFO : Processing Region 191 - \"RIGHT - Telencephalon - Subpallial Vglut2 Cluster\"\n",
      "local-nb_cs-ii-29_import-tests (  13): INFO : Processing Region 192 - \"LEFT - Telencephalon - Subpallial dopaminergic cluster\"\n",
      "local-nb_cs-ii-29_import-tests (  13): INFO : Processing Region 193 - \"RIGHT - Telencephalon - Subpallial dopaminergic cluster\"\n",
      "local-nb_cs-ii-29_import-tests (  13): INFO : Processing Region 194 - \"LEFT - Rhombencephalon - Gad1b Cluster 14\"\n",
      "local-nb_cs-ii-29_import-tests (  13): INFO : Processing Region 195 - \"RIGHT - Rhombencephalon - Gad1b Cluster 14\"\n",
      "local-nb_cs-ii-29_import-tests (  13): INFO : Processing Region 196 - \"LEFT - Rhombencephalon - 6.7FDhcrtR-Gal4 Cluster 5\"\n",
      "local-nb_cs-ii-29_import-tests (  13): INFO : Processing Region 197 - \"RIGHT - Rhombencephalon - 6.7FDhcrtR-Gal4 Cluster 5\"\n",
      "local-nb_cs-ii-29_import-tests (  13): INFO : Processing Region 198 - \"LEFT - Ganglia - Lateral Line Neuromast SO2\"\n",
      "local-nb_cs-ii-29_import-tests (  13): INFO : Processing Region 199 - \"RIGHT - Ganglia - Lateral Line Neuromast SO2\"\n",
      "local-nb_cs-ii-29_import-tests (  13): INFO : Processing Region 200 - \"LEFT - Mesencephalon - NucMLF (nucleus of the medial longitudinal fascicle)\"\n",
      "local-nb_cs-ii-29_import-tests (  13): INFO : Processing Region 201 - \"RIGHT - Mesencephalon - NucMLF (nucleus of the medial longitudinal fascicle)\"\n",
      "local-nb_cs-ii-29_import-tests (  13): INFO : Processing Region 202 - \"LEFT - Rhombencephalon - Oculomotor Nucleus nIV\"\n",
      "local-nb_cs-ii-29_import-tests (  13): INFO : Processing Region 203 - \"RIGHT - Rhombencephalon - Oculomotor Nucleus nIV\"\n",
      "local-nb_cs-ii-29_import-tests (  13): INFO : Processing Region 204 - \"LEFT - Diencephalon - Otpb Cluster 1\"\n",
      "local-nb_cs-ii-29_import-tests (  13): INFO : Processing Region 205 - \"RIGHT - Diencephalon - Otpb Cluster 1\"\n",
      "local-nb_cs-ii-29_import-tests (  13): INFO : Processing Region 206 - \"LEFT - Rhombencephalon - Gad1b Cluster 16\"\n",
      "local-nb_cs-ii-29_import-tests (  13): INFO : Processing Region 207 - \"RIGHT - Rhombencephalon - Gad1b Cluster 16\"\n",
      "local-nb_cs-ii-29_import-tests (  13): INFO : Processing Region 208 - \"LEFT - Rhombencephalon - Ventrolateral population of serotonergic neurons\"\n",
      "local-nb_cs-ii-29_import-tests (  13): INFO : Processing Region 209 - \"RIGHT - Rhombencephalon - Ventrolateral population of serotonergic neurons\"\n",
      "local-nb_cs-ii-29_import-tests (  13): INFO : Processing Region 210 - \"LEFT - Mesencephalon - Retinal Arborization Field 9 (AF9)\"\n",
      "local-nb_cs-ii-29_import-tests (  13): INFO : Processing Region 211 - \"RIGHT - Mesencephalon - Retinal Arborization Field 9 (AF9)\"\n",
      "local-nb_cs-ii-29_import-tests (  13): INFO : Processing Region 212 - \"LEFT - Diencephalon - Hypothalamus - Intermediate Hypothalamus Neural Cluster\"\n",
      "local-nb_cs-ii-29_import-tests (  13): INFO : Processing Region 213 - \"RIGHT - Diencephalon - Hypothalamus - Intermediate Hypothalamus Neural Cluster\"\n",
      "local-nb_cs-ii-29_import-tests (  13): INFO : Processing Region 214 - \"LEFT - Telencephalon - Optic Commissure\"\n",
      "local-nb_cs-ii-29_import-tests (  13): INFO : Processing Region 215 - \"RIGHT - Telencephalon - Optic Commissure\"\n",
      "local-nb_cs-ii-29_import-tests (  13): INFO : Processing Region 216 - \"LEFT - Spinal Cord - Dorsal Sparse Isl1 cluster\"\n",
      "local-nb_cs-ii-29_import-tests (  18): INFO : ...region is empty.\n",
      "local-nb_cs-ii-29_import-tests (  13): INFO : Processing Region 217 - \"RIGHT - Spinal Cord - Dorsal Sparse Isl1 cluster\"\n",
      "local-nb_cs-ii-29_import-tests (  18): INFO : ...region is empty.\n",
      "local-nb_cs-ii-29_import-tests (  13): INFO : Processing Region 218 - \"LEFT - Rhombencephalon - Glyt2 Stripe 1\"\n",
      "local-nb_cs-ii-29_import-tests (  13): INFO : Processing Region 219 - \"RIGHT - Rhombencephalon - Glyt2 Stripe 1\"\n",
      "local-nb_cs-ii-29_import-tests (  13): INFO : Processing Region 220 - \"LEFT - Rhombencephalon - Cerebellar Neuropil 1\"\n",
      "local-nb_cs-ii-29_import-tests (  13): INFO : Processing Region 221 - \"RIGHT - Rhombencephalon - Cerebellar Neuropil 1\"\n",
      "local-nb_cs-ii-29_import-tests (  13): INFO : Processing Region 222 - \"LEFT - Telencephalon - Telencephalic Migrated Area 4 (M4)\"\n",
      "local-nb_cs-ii-29_import-tests (  13): INFO : Processing Region 223 - \"RIGHT - Telencephalon - Telencephalic Migrated Area 4 (M4)\"\n",
      "local-nb_cs-ii-29_import-tests (  13): INFO : Processing Region 224 - \"LEFT - Diencephalon - Hypothalamus Vglut2 Cluster 2\"\n",
      "local-nb_cs-ii-29_import-tests (  13): INFO : Processing Region 225 - \"RIGHT - Diencephalon - Hypothalamus Vglut2 Cluster 2\"\n",
      "local-nb_cs-ii-29_import-tests (  13): INFO : Processing Region 226 - \"LEFT - Diencephalon - Otpb Cluster 3\"\n",
      "local-nb_cs-ii-29_import-tests (  13): INFO : Processing Region 227 - \"RIGHT - Diencephalon - Otpb Cluster 3\"\n",
      "local-nb_cs-ii-29_import-tests (  13): INFO : Processing Region 228 - \"LEFT - Telencephalon - Olfactory bulb dopaminergic neuron areas\"\n",
      "local-nb_cs-ii-29_import-tests (  13): INFO : Processing Region 229 - \"RIGHT - Telencephalon - Olfactory bulb dopaminergic neuron areas\"\n",
      "local-nb_cs-ii-29_import-tests (  13): INFO : Processing Region 230 - \"LEFT - Diencephalon - Retinal Arborization Field 4 (AF4)\"\n",
      "local-nb_cs-ii-29_import-tests (  13): INFO : Processing Region 231 - \"RIGHT - Diencephalon - Retinal Arborization Field 4 (AF4)\"\n",
      "local-nb_cs-ii-29_import-tests (  13): INFO : Processing Region 232 - \"LEFT - Rhombencephalon - Gad1b Cluster 4\"\n",
      "local-nb_cs-ii-29_import-tests (  13): INFO : Processing Region 233 - \"RIGHT - Rhombencephalon - Gad1b Cluster 4\"\n",
      "local-nb_cs-ii-29_import-tests (  13): INFO : Processing Region 234 - \"LEFT - Diencephalon - Postoptic Commissure\"\n",
      "local-nb_cs-ii-29_import-tests (  13): INFO : Processing Region 235 - \"RIGHT - Diencephalon - Postoptic Commissure\"\n",
      "local-nb_cs-ii-29_import-tests (  13): INFO : Processing Region 236 - \"LEFT - Rhombencephalon - Lobus caudalis cerebelli\"\n",
      "local-nb_cs-ii-29_import-tests (  13): INFO : Processing Region 237 - \"RIGHT - Rhombencephalon - Lobus caudalis cerebelli\"\n",
      "local-nb_cs-ii-29_import-tests (  18): INFO : ...region is empty.\n",
      "local-nb_cs-ii-29_import-tests (  13): INFO : Processing Region 238 - \"LEFT - Rhombencephalon - 6.7FDhcrtR-Gal4 Stripe 1\"\n",
      "local-nb_cs-ii-29_import-tests (  13): INFO : Processing Region 239 - \"RIGHT - Rhombencephalon - 6.7FDhcrtR-Gal4 Stripe 1\"\n",
      "local-nb_cs-ii-29_import-tests (  13): INFO : Processing Region 240 - \"LEFT - Telencephalon - Olig2 Cluster\"\n",
      "local-nb_cs-ii-29_import-tests (  13): INFO : Processing Region 241 - \"RIGHT - Telencephalon - Olig2 Cluster\"\n",
      "local-nb_cs-ii-29_import-tests (  13): INFO : Processing Region 242 - \"LEFT - Mesencephalon - Isl1 cluster of the mesencephalic region\"\n",
      "local-nb_cs-ii-29_import-tests (  13): INFO : Processing Region 243 - \"RIGHT - Mesencephalon - Isl1 cluster of the mesencephalic region\"\n",
      "local-nb_cs-ii-29_import-tests (  13): INFO : Processing Region 244 - \"LEFT - Rhombencephalon - Gad1b Cluster 3\"\n",
      "local-nb_cs-ii-29_import-tests (  13): INFO : Processing Region 245 - \"RIGHT - Rhombencephalon - Gad1b Cluster 3\"\n",
      "local-nb_cs-ii-29_import-tests (  13): INFO : Processing Region 246 - \"LEFT - Diencephalon - Pretectal Gad1b Cluster\"\n",
      "local-nb_cs-ii-29_import-tests (  13): INFO : Processing Region 247 - \"RIGHT - Diencephalon - Pretectal Gad1b Cluster\"\n",
      "local-nb_cs-ii-29_import-tests (  13): INFO : Processing Region 248 - \"LEFT - Rhombencephalon - Inferior Olive\"\n",
      "local-nb_cs-ii-29_import-tests (  13): INFO : Processing Region 249 - \"RIGHT - Rhombencephalon - Inferior Olive\"\n",
      "local-nb_cs-ii-29_import-tests (  13): INFO : Processing Region 250 - \"LEFT - Rhombencephalon - Qrfp neuron cluster sparse\"\n",
      "local-nb_cs-ii-29_import-tests (  13): INFO : Processing Region 251 - \"RIGHT - Rhombencephalon - Qrfp neuron cluster sparse\"\n",
      "local-nb_cs-ii-29_import-tests (  13): INFO : Processing Region 252 - \"LEFT - Diencephalon - Hypothalamus Vglut2 Cluster 1\"\n",
      "local-nb_cs-ii-29_import-tests (  13): INFO : Processing Region 253 - \"RIGHT - Diencephalon - Hypothalamus Vglut2 Cluster 1\"\n",
      "local-nb_cs-ii-29_import-tests (  13): INFO : Processing Region 254 - \"LEFT - Mesencephalon - Torus Longitudinalis\"\n",
      "local-nb_cs-ii-29_import-tests (  13): INFO : Processing Region 255 - \"RIGHT - Mesencephalon - Torus Longitudinalis\"\n",
      "local-nb_cs-ii-29_import-tests (  13): INFO : Processing Region 256 - \"LEFT - Rhombencephalon - Gad1b Cluster 1\"\n",
      "local-nb_cs-ii-29_import-tests (  13): INFO : Processing Region 257 - \"RIGHT - Rhombencephalon - Gad1b Cluster 1\"\n",
      "local-nb_cs-ii-29_import-tests (  13): INFO : Processing Region 258 - \"LEFT - Telencephalon - Isl1 cluster 2\"\n",
      "local-nb_cs-ii-29_import-tests (  13): INFO : Processing Region 259 - \"RIGHT - Telencephalon - Isl1 cluster 2\"\n",
      "local-nb_cs-ii-29_import-tests (  13): INFO : Processing Region 260 - \"LEFT - Diencephalon - Hypothalamus Gad1b Cluster 1\"\n",
      "local-nb_cs-ii-29_import-tests (  13): INFO : Processing Region 261 - \"RIGHT - Diencephalon - Hypothalamus Gad1b Cluster 1\"\n",
      "local-nb_cs-ii-29_import-tests (  13): INFO : Processing Region 262 - \"LEFT - Diencephalon - Left Habenula Vglut2 Cluster\"\n",
      "local-nb_cs-ii-29_import-tests (  13): INFO : Processing Region 263 - \"RIGHT - Diencephalon - Left Habenula Vglut2 Cluster\"\n",
      "local-nb_cs-ii-29_import-tests (  18): INFO : ...region is empty.\n",
      "local-nb_cs-ii-29_import-tests (  13): INFO : Processing Region 264 - \"LEFT - Ganglia - Anterior Lateral Line Ganglion\"\n",
      "local-nb_cs-ii-29_import-tests (  13): INFO : Processing Region 265 - \"RIGHT - Ganglia - Anterior Lateral Line Ganglion\"\n",
      "local-nb_cs-ii-29_import-tests (  13): INFO : Processing Region 266 - \"LEFT - Spinal Cord - Isl1 stripe - motorneurons\"\n",
      "local-nb_cs-ii-29_import-tests (  18): INFO : ...region is empty.\n",
      "local-nb_cs-ii-29_import-tests (  13): INFO : Processing Region 267 - \"RIGHT - Spinal Cord - Isl1 stripe - motorneurons\"\n",
      "local-nb_cs-ii-29_import-tests (  18): INFO : ...region is empty.\n",
      "local-nb_cs-ii-29_import-tests (  13): INFO : Processing Region 268 - \"LEFT - Diencephalon - Hypothalamus Vglut2 Cluster 5\"\n",
      "local-nb_cs-ii-29_import-tests (  13): INFO : Processing Region 269 - \"RIGHT - Diencephalon - Hypothalamus Vglut2 Cluster 5\"\n",
      "local-nb_cs-ii-29_import-tests (  13): INFO : Processing Region 270 - \"LEFT - Diencephalon - Right Habenula Vglut2 Cluster\"\n",
      "local-nb_cs-ii-29_import-tests (  18): INFO : ...region is empty.\n",
      "local-nb_cs-ii-29_import-tests (  13): INFO : Processing Region 271 - \"RIGHT - Diencephalon - Right Habenula Vglut2 Cluster\"\n",
      "local-nb_cs-ii-29_import-tests (  13): INFO : Processing Region 272 - \"LEFT - Rhombencephalon - Otpb Cluster 6\"\n",
      "local-nb_cs-ii-29_import-tests (  13): INFO : Processing Region 273 - \"RIGHT - Rhombencephalon - Otpb Cluster 6\"\n",
      "local-nb_cs-ii-29_import-tests (  13): INFO : Processing Region 274 - \"LEFT - Telencephalon - Anterior Commisure\"\n",
      "local-nb_cs-ii-29_import-tests (  13): INFO : Processing Region 275 - \"RIGHT - Telencephalon - Anterior Commisure\"\n",
      "local-nb_cs-ii-29_import-tests (  13): INFO : Processing Region 276 - \"LEFT - Ganglia - Posterior Lateral Line Ganglia\"\n",
      "local-nb_cs-ii-29_import-tests (  13): INFO : Processing Region 277 - \"RIGHT - Ganglia - Posterior Lateral Line Ganglia\"\n",
      "local-nb_cs-ii-29_import-tests (  13): INFO : Processing Region 278 - \"LEFT - Ganglia - Trigeminal Ganglion\"\n",
      "local-nb_cs-ii-29_import-tests (  13): INFO : Processing Region 279 - \"RIGHT - Ganglia - Trigeminal Ganglion\"\n",
      "local-nb_cs-ii-29_import-tests (  13): INFO : Processing Region 280 - \"LEFT - Diencephalon - Hypothalamus Gad1b Cluster 3 Sparse\"\n",
      "local-nb_cs-ii-29_import-tests (  13): INFO : Processing Region 281 - \"RIGHT - Diencephalon - Hypothalamus Gad1b Cluster 3 Sparse\"\n",
      "local-nb_cs-ii-29_import-tests (  13): INFO : Processing Region 282 - \"LEFT - Diencephalon - Olig2 Band\"\n",
      "local-nb_cs-ii-29_import-tests (  13): INFO : Processing Region 283 - \"RIGHT - Diencephalon - Olig2 Band\"\n",
      "local-nb_cs-ii-29_import-tests (  13): INFO : Processing Region 284 - \"LEFT - Ganglia - Facial glossopharyngeal ganglion\"\n",
      "local-nb_cs-ii-29_import-tests (  13): INFO : Processing Region 285 - \"RIGHT - Ganglia - Facial glossopharyngeal ganglion\"\n",
      "local-nb_cs-ii-29_import-tests (  13): INFO : Processing Region 286 - \"LEFT - Rhombencephalon - Valvula Cerebelli\"\n",
      "local-nb_cs-ii-29_import-tests (  13): INFO : Processing Region 287 - \"RIGHT - Rhombencephalon - Valvula Cerebelli\"\n",
      "local-nb_cs-ii-29_import-tests (  13): INFO : Processing Region 288 - \"LEFT - Spinal Cord - Gad1b Stripe 1\"\n",
      "local-nb_cs-ii-29_import-tests (  18): INFO : ...region is empty.\n",
      "local-nb_cs-ii-29_import-tests (  13): INFO : Processing Region 289 - \"RIGHT - Spinal Cord - Gad1b Stripe 1\"\n",
      "local-nb_cs-ii-29_import-tests (  18): INFO : ...region is empty.\n",
      "local-nb_cs-ii-29_import-tests (  13): INFO : Processing Region 290 - \"LEFT - Ganglia - Statoacoustic Ganglion\"\n",
      "local-nb_cs-ii-29_import-tests (  13): INFO : Processing Region 291 - \"RIGHT - Ganglia - Statoacoustic Ganglion\"\n",
      "local-nb_cs-ii-29_import-tests (  13): INFO : Processing Region 292 - \"LEFT - Mesencephalon - Medial Tectal Band\"\n",
      "local-nb_cs-ii-29_import-tests (  13): INFO : Processing Region 293 - \"RIGHT - Mesencephalon - Medial Tectal Band\"\n",
      "local-nb_cs-ii-29_import-tests (  13): INFO : Processing Region 294 - \"LEFT - Ganglia - Olfactory Epithelium\"\n",
      "local-nb_cs-ii-29_import-tests (  13): INFO : Processing Region 295 - \"RIGHT - Ganglia - Olfactory Epithelium\"\n",
      "local-nb_cs-ii-29_import-tests (  13): INFO : Processing Region 296 - \"LEFT - Mesencephalon - Tecum Neuropil\"\n",
      "local-nb_cs-ii-29_import-tests (  13): INFO : Processing Region 297 - \"RIGHT - Mesencephalon - Tecum Neuropil\"\n",
      "local-nb_cs-ii-29_import-tests (  13): INFO : Processing Region 298 - \"LEFT - Ganglia - Eyes\"\n",
      "local-nb_cs-ii-29_import-tests (  13): INFO : Processing Region 299 - \"RIGHT - Ganglia - Eyes\"\n",
      "local-nb_cs-ii-29_import-tests (  13): INFO : Processing Region 300 - \"LEFT - Rhombencephalon - Glyt2 Cluster 8\"\n",
      "local-nb_cs-ii-29_import-tests (  13): INFO : Processing Region 301 - \"RIGHT - Rhombencephalon - Glyt2 Cluster 8\"\n",
      "local-nb_cs-ii-29_import-tests (  18): INFO : ...region is empty.\n",
      "local-nb_cs-ii-29_import-tests (  13): INFO : Processing Region 302 - \"LEFT - Rhombencephalon - MiT\"\n",
      "local-nb_cs-ii-29_import-tests (  13): INFO : Processing Region 303 - \"RIGHT - Rhombencephalon - MiT\"\n",
      "local-nb_cs-ii-29_import-tests (  13): INFO : Processing Region 304 - \"LEFT - Rhombencephalon - Gad1b Cluster 6\"\n",
      "local-nb_cs-ii-29_import-tests (  13): INFO : Processing Region 305 - \"RIGHT - Rhombencephalon - Gad1b Cluster 6\"\n",
      "local-nb_cs-ii-29_import-tests (  13): INFO : Processing Region 306 - \"LEFT - Rhombencephalon - CaD\"\n",
      "local-nb_cs-ii-29_import-tests (  13): INFO : Processing Region 307 - \"RIGHT - Rhombencephalon - CaD\"\n",
      "local-nb_cs-ii-29_import-tests (  13): INFO : Processing Region 308 - \"LEFT - Rhombencephalon - MiV2\"\n",
      "local-nb_cs-ii-29_import-tests (  13): INFO : Processing Region 309 - \"RIGHT - Rhombencephalon - MiV2\"\n",
      "local-nb_cs-ii-29_import-tests (  13): INFO : Processing Region 310 - \"LEFT - Rhombencephalon - Oxtl Cluster 2 Near MC axon cap\"\n",
      "local-nb_cs-ii-29_import-tests (  13): INFO : Processing Region 311 - \"RIGHT - Rhombencephalon - Oxtl Cluster 2 Near MC axon cap\"\n",
      "local-nb_cs-ii-29_import-tests (  13): INFO : Processing Region 312 - \"LEFT - Rhombencephalon - MiD3\"\n",
      "local-nb_cs-ii-29_import-tests (  13): INFO : Processing Region 313 - \"RIGHT - Rhombencephalon - MiD3\"\n",
      "local-nb_cs-ii-29_import-tests (  13): INFO : Processing Region 314 - \"LEFT - Rhombencephalon - 6.7FDhcrtR-Gal4 Cluster 2 Sparse\"\n",
      "local-nb_cs-ii-29_import-tests (  13): INFO : Processing Region 315 - \"RIGHT - Rhombencephalon - 6.7FDhcrtR-Gal4 Cluster 2 Sparse\"\n",
      "local-nb_cs-ii-29_import-tests (  13): INFO : Processing Region 316 - \"LEFT - Rhombencephalon - Gad1b Cluster 15\"\n",
      "local-nb_cs-ii-29_import-tests (  13): INFO : Processing Region 317 - \"RIGHT - Rhombencephalon - Gad1b Cluster 15\"\n",
      "local-nb_cs-ii-29_import-tests (  13): INFO : Processing Region 318 - \"LEFT - Rhombencephalon - Spinal Backfill Vestibular Population\"\n",
      "local-nb_cs-ii-29_import-tests (  13): INFO : Processing Region 319 - \"RIGHT - Rhombencephalon - Spinal Backfill Vestibular Population\"\n",
      "local-nb_cs-ii-29_import-tests (  13): INFO : Processing Region 320 - \"LEFT - Rhombencephalon - Otpb Cluster 4\"\n",
      "local-nb_cs-ii-29_import-tests (  13): INFO : Processing Region 321 - \"RIGHT - Rhombencephalon - Otpb Cluster 4\"\n",
      "local-nb_cs-ii-29_import-tests (  13): INFO : Processing Region 322 - \"LEFT - Rhombencephalon - RoM3\"\n",
      "local-nb_cs-ii-29_import-tests (  13): INFO : Processing Region 323 - \"RIGHT - Rhombencephalon - RoM3\"\n",
      "local-nb_cs-ii-29_import-tests (  13): INFO : Processing Region 324 - \"LEFT - Rhombencephalon - Otpb Cluster 2 - locus coeruleus\"\n",
      "local-nb_cs-ii-29_import-tests (  13): INFO : Processing Region 325 - \"RIGHT - Rhombencephalon - Otpb Cluster 2 - locus coeruleus\"\n",
      "local-nb_cs-ii-29_import-tests (  13): INFO : Processing Region 326 - \"LEFT - Diencephalon - Hypothalamus 6.7FRhcrtR-Gal4 cluster 2\"\n",
      "local-nb_cs-ii-29_import-tests (  13): INFO : Processing Region 327 - \"RIGHT - Diencephalon - Hypothalamus 6.7FRhcrtR-Gal4 cluster 2\"\n",
      "local-nb_cs-ii-29_import-tests (  13): INFO : Processing Region 328 - \"LEFT - Diencephalon - Dopaminergic Cluster 3 - hypothalamus\"\n",
      "local-nb_cs-ii-29_import-tests (  13): INFO : Processing Region 329 - \"RIGHT - Diencephalon - Dopaminergic Cluster 3 - hypothalamus\"\n",
      "local-nb_cs-ii-29_import-tests (  13): INFO : Processing Region 330 - \"LEFT - Ganglia - Facial Sensory Ganglion\"\n",
      "local-nb_cs-ii-29_import-tests (  13): INFO : Processing Region 331 - \"RIGHT - Ganglia - Facial Sensory Ganglion\"\n",
      "local-nb_cs-ii-29_import-tests (  13): INFO : Processing Region 332 - \"LEFT - Rhombencephalon - Isl1 Stripe 1\"\n",
      "local-nb_cs-ii-29_import-tests (  13): INFO : Processing Region 333 - \"RIGHT - Rhombencephalon - Isl1 Stripe 1\"\n",
      "local-nb_cs-ii-29_import-tests (  13): INFO : Processing Region 334 - \"LEFT - Mesencephalon - Vmat2 cluster2\"\n",
      "local-nb_cs-ii-29_import-tests (  13): INFO : Processing Region 335 - \"RIGHT - Mesencephalon - Vmat2 cluster2\"\n",
      "local-nb_cs-ii-29_import-tests (  13): INFO : Processing Region 336 - \"LEFT - Diencephalon - Pineal\"\n",
      "local-nb_cs-ii-29_import-tests (  13): INFO : Processing Region 337 - \"RIGHT - Diencephalon - Pineal\"\n",
      "local-nb_cs-ii-29_import-tests (  13): INFO : Processing Region 338 - \"LEFT - Rhombencephalon - 6.7FDhcrtR-Gal4 Stripe 4\"\n",
      "local-nb_cs-ii-29_import-tests (  13): INFO : Processing Region 339 - \"RIGHT - Rhombencephalon - 6.7FDhcrtR-Gal4 Stripe 4\"\n",
      "local-nb_cs-ii-29_import-tests (  13): INFO : Processing Region 340 - \"LEFT - Rhombencephalon - Raphe - Inferior\"\n",
      "local-nb_cs-ii-29_import-tests (  13): INFO : Processing Region 341 - \"RIGHT - Rhombencephalon - Raphe - Inferior\"\n",
      "local-nb_cs-ii-29_import-tests (  13): INFO : Processing Region 342 - \"LEFT - Diencephalon - Otpb Cluster 4\"\n",
      "local-nb_cs-ii-29_import-tests (  13): INFO : Processing Region 343 - \"RIGHT - Diencephalon - Otpb Cluster 4\"\n",
      "local-nb_cs-ii-29_import-tests (  13): INFO : Processing Region 344 - \"LEFT - Diencephalon - Eminentia Thalami\"\n",
      "local-nb_cs-ii-29_import-tests (  13): INFO : Processing Region 345 - \"RIGHT - Diencephalon - Eminentia Thalami\"\n",
      "local-nb_cs-ii-29_import-tests (  13): INFO : Processing Region 346 - \"LEFT - Diencephalon - Migrated Area of the Pretectum (M1)\"\n",
      "local-nb_cs-ii-29_import-tests (  13): INFO : Processing Region 347 - \"RIGHT - Diencephalon - Migrated Area of the Pretectum (M1)\"\n",
      "local-nb_cs-ii-29_import-tests (  13): INFO : Processing Region 348 - \"LEFT - Rhombencephalon - Vmat2 Stripe2\"\n",
      "local-nb_cs-ii-29_import-tests (  13): INFO : Processing Region 349 - \"RIGHT - Rhombencephalon - Vmat2 Stripe2\"\n",
      "local-nb_cs-ii-29_import-tests (  13): INFO : Processing Region 350 - \"LEFT - Rhombencephalon - 6.7FDhcrtR-Gal4 Cluster 1\"\n",
      "local-nb_cs-ii-29_import-tests (  13): INFO : Processing Region 351 - \"RIGHT - Rhombencephalon - 6.7FDhcrtR-Gal4 Cluster 1\"\n",
      "local-nb_cs-ii-29_import-tests (  13): INFO : Processing Region 352 - \"LEFT - Rhombencephalon - Tangential Vestibular Nucleus\"\n",
      "local-nb_cs-ii-29_import-tests (  13): INFO : Processing Region 353 - \"RIGHT - Rhombencephalon - Tangential Vestibular Nucleus\"\n",
      "local-nb_cs-ii-29_import-tests (  13): INFO : Processing Region 354 - \"LEFT - Rhombencephalon - Caudal Ventral Cluster Labelled by Spinal Backfills\"\n",
      "local-nb_cs-ii-29_import-tests (  13): INFO : Processing Region 355 - \"RIGHT - Rhombencephalon - Caudal Ventral Cluster Labelled by Spinal Backfills\"\n",
      "local-nb_cs-ii-29_import-tests (  13): INFO : Processing Region 356 - \"LEFT - Diencephalon - Dopaminergic Cluster 4/5 - posterior tuberculum and hypothalamus\"\n",
      "local-nb_cs-ii-29_import-tests (  13): INFO : Processing Region 357 - \"RIGHT - Diencephalon - Dopaminergic Cluster 4/5 - posterior tuberculum and hypothalamus\"\n",
      "local-nb_cs-ii-29_import-tests (  13): INFO : Processing Region 358 - \"LEFT - Spinal Cord - Olig2 Stripe\"\n",
      "local-nb_cs-ii-29_import-tests (  18): INFO : ...region is empty.\n",
      "local-nb_cs-ii-29_import-tests (  13): INFO : Processing Region 359 - \"RIGHT - Spinal Cord - Olig2 Stripe\"\n",
      "local-nb_cs-ii-29_import-tests (  18): INFO : ...region is empty.\n",
      "local-nb_cs-ii-29_import-tests (  13): INFO : Processing Region 360 - \"LEFT - Diencephalon - Optic Chiasm\"\n",
      "local-nb_cs-ii-29_import-tests (  18): INFO : ...region is empty.\n",
      "local-nb_cs-ii-29_import-tests (  13): INFO : Processing Region 361 - \"RIGHT - Diencephalon - Optic Chiasm\"\n",
      "local-nb_cs-ii-29_import-tests (  18): INFO : ...region is empty.\n",
      "local-nb_cs-ii-29_import-tests (  13): INFO : Processing Region 362 - \"LEFT - Rhombencephalon - Medial Vestibular Nucleus\"\n",
      "local-nb_cs-ii-29_import-tests (  13): INFO : Processing Region 363 - \"RIGHT - Rhombencephalon - Medial Vestibular Nucleus\"\n",
      "local-nb_cs-ii-29_import-tests (  13): INFO : Processing Region 364 - \"LEFT - Diencephalon - Dopaminergic Cluster 7 - Caudal Hypothalamus\"\n",
      "local-nb_cs-ii-29_import-tests (  13): INFO : Processing Region 365 - \"RIGHT - Diencephalon - Dopaminergic Cluster 7 - Caudal Hypothalamus\"\n",
      "local-nb_cs-ii-29_import-tests (  13): INFO : Processing Region 366 - \"LEFT - Spinal Cord - Vmat2 Stripe1\"\n",
      "local-nb_cs-ii-29_import-tests (  13): INFO : Processing Region 367 - \"RIGHT - Spinal Cord - Vmat2 Stripe1\"\n",
      "local-nb_cs-ii-29_import-tests (  13): INFO : Processing Region 368 - \"LEFT - Diencephalon - Preoptic Otpb Cluster\"\n",
      "local-nb_cs-ii-29_import-tests (  13): INFO : Processing Region 369 - \"RIGHT - Diencephalon - Preoptic Otpb Cluster\"\n",
      "local-nb_cs-ii-29_import-tests (  13): INFO : Processing Region 370 - \"LEFT - Rhombencephalon - Vglut2 cluster 1\"\n",
      "local-nb_cs-ii-29_import-tests (  13): INFO : Processing Region 371 - \"RIGHT - Rhombencephalon - Vglut2 cluster 1\"\n",
      "local-nb_cs-ii-29_import-tests (  13): INFO : Processing Region 372 - \"LEFT - Rhombencephalon - 6.7FDhcrtR-Gal4 Stripe 2\"\n",
      "local-nb_cs-ii-29_import-tests (  13): INFO : Processing Region 373 - \"RIGHT - Rhombencephalon - 6.7FDhcrtR-Gal4 Stripe 2\"\n",
      "local-nb_cs-ii-29_import-tests (  13): INFO : Processing Region 374 - \"LEFT - Rhombencephalon - Anterior Cluster of nV Trigeminal Motorneurons\"\n",
      "local-nb_cs-ii-29_import-tests (  13): INFO : Processing Region 375 - \"RIGHT - Rhombencephalon - Anterior Cluster of nV Trigeminal Motorneurons\"\n",
      "local-nb_cs-ii-29_import-tests (  13): INFO : Processing Region 376 - \"LEFT - Telencephalon - S1181t Cluster\"\n",
      "local-nb_cs-ii-29_import-tests (  13): INFO : Processing Region 377 - \"RIGHT - Telencephalon - S1181t Cluster\"\n",
      "local-nb_cs-ii-29_import-tests (  13): INFO : Processing Region 378 - \"LEFT - Mesencephalon - Oculomotor Nucleus nIII\"\n",
      "local-nb_cs-ii-29_import-tests (  13): INFO : Processing Region 379 - \"RIGHT - Mesencephalon - Oculomotor Nucleus nIII\"\n",
      "local-nb_cs-ii-29_import-tests (  13): INFO : Processing Region 380 - \"LEFT - Diencephalon - Hypothalamus Vglut2 Cluster 6\"\n",
      "local-nb_cs-ii-29_import-tests (  13): INFO : Processing Region 381 - \"RIGHT - Diencephalon - Hypothalamus Vglut2 Cluster 6\"\n",
      "local-nb_cs-ii-29_import-tests (  13): INFO : Processing Region 382 - \"LEFT - Rhombencephalon - Vmat2 Cluster 5\"\n",
      "local-nb_cs-ii-29_import-tests (  13): INFO : Processing Region 383 - \"RIGHT - Rhombencephalon - Vmat2 Cluster 5\"\n",
      "local-nb_cs-ii-29_import-tests (  13): INFO : Processing Region 384 - \"LEFT - Rhombencephalon - Interpeduncular Nucleus\"\n",
      "local-nb_cs-ii-29_import-tests (  13): INFO : Processing Region 385 - \"RIGHT - Rhombencephalon - Interpeduncular Nucleus\"\n",
      "local-nb_cs-ii-29_import-tests (  13): INFO : Processing Region 386 - \"LEFT - Rhombencephalon - Noradrendergic neurons of the Interfascicular and Vagal areas\"\n",
      "local-nb_cs-ii-29_import-tests (  13): INFO : Processing Region 387 - \"RIGHT - Rhombencephalon - Noradrendergic neurons of the Interfascicular and Vagal areas\"\n",
      "local-nb_cs-ii-29_import-tests (  13): INFO : Processing Region 388 - \"LEFT - Spinal Cord - Vglut2 Stripe 2\"\n",
      "local-nb_cs-ii-29_import-tests (  18): INFO : ...region is empty.\n",
      "local-nb_cs-ii-29_import-tests (  13): INFO : Processing Region 389 - \"RIGHT - Spinal Cord - Vglut2 Stripe 2\"\n",
      "local-nb_cs-ii-29_import-tests (  18): INFO : ...region is empty.\n",
      "local-nb_cs-ii-29_import-tests (  13): INFO : Processing Region 390 - \"LEFT - Rhombencephalon - Gad1b Cluster 2\"\n",
      "local-nb_cs-ii-29_import-tests (  13): INFO : Processing Region 391 - \"RIGHT - Rhombencephalon - Gad1b Cluster 2\"\n",
      "local-nb_cs-ii-29_import-tests (  13): INFO : Processing Region 392 - \"LEFT - Diencephalon - Hypothalamus Vglut2 Cluster 3\"\n",
      "local-nb_cs-ii-29_import-tests (  13): INFO : Processing Region 393 - \"RIGHT - Diencephalon - Hypothalamus Vglut2 Cluster 3\"\n",
      "local-nb_cs-ii-29_import-tests (  13): INFO : Processing Region 394 - \"LEFT - Ganglia - Vagal Ganglia\"\n",
      "local-nb_cs-ii-29_import-tests (  13): INFO : Processing Region 395 - \"RIGHT - Ganglia - Vagal Ganglia\"\n",
      "local-nb_cs-ii-29_import-tests (  13): INFO : Processing Region 396 - \"LEFT - Diencephalon - Pretectal dopaminergic cluster\"\n",
      "local-nb_cs-ii-29_import-tests (  13): INFO : Processing Region 397 - \"RIGHT - Diencephalon - Pretectal dopaminergic cluster\"\n",
      "local-nb_cs-ii-29_import-tests (  13): INFO : Processing Region 398 - \"LEFT - Diencephalon - Pituitary\"\n",
      "local-nb_cs-ii-29_import-tests (  18): INFO : ...region is empty.\n",
      "local-nb_cs-ii-29_import-tests (  13): INFO : Processing Region 399 - \"RIGHT - Diencephalon - Pituitary\"\n",
      "local-nb_cs-ii-29_import-tests (  18): INFO : ...region is empty.\n",
      "local-nb_cs-ii-29_import-tests (  13): INFO : Processing Region 400 - \"LEFT - Telencephalon - Postoptic Commissure\"\n",
      "local-nb_cs-ii-29_import-tests (  13): INFO : Processing Region 401 - \"RIGHT - Telencephalon - Postoptic Commissure\"\n",
      "local-nb_cs-ii-29_import-tests (  13): INFO : Processing Region 402 - \"LEFT - Rhombencephalon - Eminentia Granularis\"\n",
      "local-nb_cs-ii-29_import-tests (  13): INFO : Processing Region 403 - \"RIGHT - Rhombencephalon - Eminentia Granularis\"\n",
      "local-nb_cs-ii-29_import-tests (  13): INFO : Processing Region 404 - \"LEFT - Diencephalon - Ventral Thalamus\"\n",
      "local-nb_cs-ii-29_import-tests (  13): INFO : Processing Region 405 - \"RIGHT - Diencephalon - Ventral Thalamus\"\n",
      "local-nb_cs-ii-29_import-tests (  13): INFO : Processing Region 406 - \"LEFT - Diencephalon - Habenula\"\n",
      "local-nb_cs-ii-29_import-tests (  13): INFO : Processing Region 407 - \"RIGHT - Diencephalon - Habenula\"\n",
      "local-nb_cs-ii-29_import-tests (  13): INFO : Processing Region 408 - \"LEFT - Telencephalon - Olfactory Bulb\"\n",
      "local-nb_cs-ii-29_import-tests (  13): INFO : Processing Region 409 - \"RIGHT - Telencephalon - Olfactory Bulb\"\n",
      "local-nb_cs-ii-29_import-tests (  13): INFO : Processing Region 410 - \"LEFT - Spinal Cord - Neuropil Region\"\n",
      "local-nb_cs-ii-29_import-tests (  18): INFO : ...region is empty.\n",
      "local-nb_cs-ii-29_import-tests (  13): INFO : Processing Region 411 - \"RIGHT - Spinal Cord - Neuropil Region\"\n",
      "local-nb_cs-ii-29_import-tests (  18): INFO : ...region is empty.\n",
      "local-nb_cs-ii-29_import-tests (  13): INFO : Processing Region 412 - \"LEFT - Rhombencephalon - Corpus Cerebelli\"\n",
      "local-nb_cs-ii-29_import-tests (  13): INFO : Processing Region 413 - \"RIGHT - Rhombencephalon - Corpus Cerebelli\"\n",
      "local-nb_cs-ii-29_import-tests (  13): INFO : Processing Region 414 - \"LEFT - Mesencephalon - Tectum Stratum Periventriculare\"\n",
      "local-nb_cs-ii-29_import-tests (  13): INFO : Processing Region 415 - \"RIGHT - Mesencephalon - Tectum Stratum Periventriculare\"\n",
      "local-nb_cs-ii-29_import-tests (  13): INFO : Processing Region 416 - \"LEFT - Rhombencephalon - CaV\"\n",
      "local-nb_cs-ii-29_import-tests (  13): INFO : Processing Region 417 - \"RIGHT - Rhombencephalon - CaV\"\n",
      "local-nb_cs-ii-29_import-tests (  13): INFO : Processing Region 418 - \"LEFT - Rhombencephalon - Posterior Cluster of nV Trigeminal Motorneurons\"\n",
      "local-nb_cs-ii-29_import-tests (  13): INFO : Processing Region 419 - \"RIGHT - Rhombencephalon - Posterior Cluster of nV Trigeminal Motorneurons\"\n",
      "local-nb_cs-ii-29_import-tests (  13): INFO : Processing Region 420 - \"LEFT - Rhombencephalon - Glyt2 Cluster 14\"\n",
      "local-nb_cs-ii-29_import-tests (  13): INFO : Processing Region 421 - \"RIGHT - Rhombencephalon - Glyt2 Cluster 14\"\n",
      "local-nb_cs-ii-29_import-tests (  13): INFO : Processing Region 422 - \"LEFT - Diencephalon - Oxtl Cluster 3\"\n",
      "local-nb_cs-ii-29_import-tests (  13): INFO : Processing Region 423 - \"RIGHT - Diencephalon - Oxtl Cluster 3\"\n",
      "local-nb_cs-ii-29_import-tests (  13): INFO : Processing Region 424 - \"LEFT - Rhombencephalon - Glyt2 Cluster 6\"\n",
      "local-nb_cs-ii-29_import-tests (  13): INFO : Processing Region 425 - \"RIGHT - Rhombencephalon - Glyt2 Cluster 6\"\n",
      "local-nb_cs-ii-29_import-tests (  13): INFO : Processing Region 426 - \"LEFT - Rhombencephalon - Locus Coreuleus\"\n",
      "local-nb_cs-ii-29_import-tests (  13): INFO : Processing Region 427 - \"RIGHT - Rhombencephalon - Locus Coreuleus\"\n",
      "local-nb_cs-ii-29_import-tests (  13): INFO : Processing Region 428 - \"LEFT - Diencephalon - Hypothalamus Qrfp neuron cluster\"\n",
      "local-nb_cs-ii-29_import-tests (  13): INFO : Processing Region 429 - \"RIGHT - Diencephalon - Hypothalamus Qrfp neuron cluster\"\n",
      "local-nb_cs-ii-29_import-tests (  13): INFO : Processing Region 430 - \"LEFT - Spinal Cord - Vglut2 Stripe 3\"\n",
      "local-nb_cs-ii-29_import-tests (  18): INFO : ...region is empty.\n",
      "local-nb_cs-ii-29_import-tests (  13): INFO : Processing Region 431 - \"RIGHT - Spinal Cord - Vglut2 Stripe 3\"\n",
      "local-nb_cs-ii-29_import-tests (  18): INFO : ...region is empty.\n",
      "local-nb_cs-ii-29_import-tests (  13): INFO : Processing Region 432 - \"LEFT - Rhombencephalon - Vglut2 Stripe 2\"\n",
      "local-nb_cs-ii-29_import-tests (  13): INFO : Processing Region 433 - \"RIGHT - Rhombencephalon - Vglut2 Stripe 2\"\n",
      "local-nb_cs-ii-29_import-tests (  13): INFO : Processing Region 434 - \"LEFT - Mesencephalon - Vmat2 cluster of paraventricular organ\"\n",
      "local-nb_cs-ii-29_import-tests (  13): INFO : Processing Region 435 - \"RIGHT - Mesencephalon - Vmat2 cluster of paraventricular organ\"\n",
      "local-nb_cs-ii-29_import-tests (  13): INFO : Processing Region 436 - \"LEFT - Rhombencephalon - Isl1 Cluster 1\"\n",
      "local-nb_cs-ii-29_import-tests (  13): INFO : Processing Region 437 - \"RIGHT - Rhombencephalon - Isl1 Cluster 1\"\n",
      "local-nb_cs-ii-29_import-tests (  13): INFO : Processing Region 438 - \"LEFT - Rhombencephalon - VII Facial Motor and octavolateralis efferent neurons\"\n",
      "local-nb_cs-ii-29_import-tests (  13): INFO : Processing Region 439 - \"RIGHT - Rhombencephalon - VII Facial Motor and octavolateralis efferent neurons\"\n",
      "local-nb_cs-ii-29_import-tests (  13): INFO : Processing Region 440 - \"LEFT - Diencephalon - Otpb Cluster 2 \"\n",
      "local-nb_cs-ii-29_import-tests (  13): INFO : Processing Region 441 - \"RIGHT - Diencephalon - Otpb Cluster 2 \"\n",
      "local-nb_cs-ii-29_import-tests (  13): INFO : Processing Region 442 - \"LEFT - Diencephalon - Hypothamic VentroLateral VMAT cluster\"\n",
      "local-nb_cs-ii-29_import-tests (  13): INFO : Processing Region 443 - \"RIGHT - Diencephalon - Hypothamic VentroLateral VMAT cluster\"\n",
      "local-nb_cs-ii-29_import-tests (  13): INFO : Processing Region 444 - \"LEFT - Rhombencephalon - Gad1b Cluster 13\"\n",
      "local-nb_cs-ii-29_import-tests (  13): INFO : Processing Region 445 - \"RIGHT - Rhombencephalon - Gad1b Cluster 13\"\n",
      "local-nb_cs-ii-29_import-tests (  13): INFO : Processing Region 446 - \"LEFT - Telencephalon - Vmat2 cluster\"\n",
      "local-nb_cs-ii-29_import-tests (  13): INFO : Processing Region 447 - \"RIGHT - Telencephalon - Vmat2 cluster\"\n",
      "local-nb_cs-ii-29_import-tests (  13): INFO : Processing Region 448 - \"LEFT - Rhombencephalon - Ptf1a Cluster 1\"\n",
      "local-nb_cs-ii-29_import-tests (  13): INFO : Processing Region 449 - \"RIGHT - Rhombencephalon - Ptf1a Cluster 1\"\n",
      "local-nb_cs-ii-29_import-tests (  13): INFO : Processing Region 450 - \"LEFT - Rhombencephalon - Raphe - Superior\"\n",
      "local-nb_cs-ii-29_import-tests (  13): INFO : Processing Region 451 - \"RIGHT - Rhombencephalon - Raphe - Superior\"\n",
      "local-nb_cs-ii-29_import-tests (  13): INFO : Processing Region 452 - \"LEFT - Rhombencephalon - Olig2 Stripe\"\n",
      "local-nb_cs-ii-29_import-tests (  13): INFO : Processing Region 453 - \"RIGHT - Rhombencephalon - Olig2 Stripe\"\n",
      "local-nb_cs-ii-29_import-tests (  13): INFO : Processing Region 454 - \"LEFT - Diencephalon - Migrated Posterior Tubercular Area (M2)\"\n",
      "local-nb_cs-ii-29_import-tests (  13): INFO : Processing Region 455 - \"RIGHT - Diencephalon - Migrated Posterior Tubercular Area (M2)\"\n",
      "local-nb_cs-ii-29_import-tests (  13): INFO : Processing Region 456 - \"LEFT - Mesencephalon - Vglut2 cluster 1\"\n",
      "local-nb_cs-ii-29_import-tests (  13): INFO : Processing Region 457 - \"RIGHT - Mesencephalon - Vglut2 cluster 1\"\n",
      "local-nb_cs-ii-29_import-tests (  13): INFO : Processing Region 458 - \"LEFT - Rhombencephalon - Glyt2 Cluster 13\"\n",
      "local-nb_cs-ii-29_import-tests (  13): INFO : Processing Region 459 - \"RIGHT - Rhombencephalon - Glyt2 Cluster 13\"\n",
      "local-nb_cs-ii-29_import-tests (  13): INFO : Processing Region 460 - \"LEFT - Telencephalon - Isl1 cluster 1\"\n",
      "local-nb_cs-ii-29_import-tests (  13): INFO : Processing Region 461 - \"RIGHT - Telencephalon - Isl1 cluster 1\"\n",
      "local-nb_cs-ii-29_import-tests (  13): INFO : Processing Region 462 - \"LEFT - Spinal Cord - Neurons with descending projections labelled by spinal backfills\"\n",
      "local-nb_cs-ii-29_import-tests (  18): INFO : ...region is empty.\n",
      "local-nb_cs-ii-29_import-tests (  13): INFO : Processing Region 463 - \"RIGHT - Spinal Cord - Neurons with descending projections labelled by spinal backfills\"\n",
      "local-nb_cs-ii-29_import-tests (  18): INFO : ...region is empty.\n",
      "local-nb_cs-ii-29_import-tests (  13): INFO : Processing Region 464 - \"LEFT - Rhombencephalon - Gad1b Stripe 2\"\n",
      "local-nb_cs-ii-29_import-tests (  13): INFO : Processing Region 465 - \"RIGHT - Rhombencephalon - Gad1b Stripe 2\"\n",
      "local-nb_cs-ii-29_import-tests (  13): INFO : Processing Region 466 - \"LEFT - Rhombencephalon - Olig2 enriched areas in cerebellum\"\n",
      "local-nb_cs-ii-29_import-tests (  13): INFO : Processing Region 467 - \"RIGHT - Rhombencephalon - Olig2 enriched areas in cerebellum\"\n",
      "local-nb_cs-ii-29_import-tests (  13): INFO : Processing Region 468 - \"LEFT - Diencephalon - Dorsal Thalamus\"\n",
      "local-nb_cs-ii-29_import-tests (  13): INFO : Processing Region 469 - \"RIGHT - Diencephalon - Dorsal Thalamus\"\n",
      "local-nb_cs-ii-29_import-tests (  13): INFO : Processing Region 470 - \"LEFT - Diencephalon - Diffuse Nucleus of the Intermediate Hypothalamus\"\n",
      "local-nb_cs-ii-29_import-tests (  13): INFO : Processing Region 471 - \"RIGHT - Diencephalon - Diffuse Nucleus of the Intermediate Hypothalamus\"\n",
      "local-nb_cs-ii-29_import-tests (  13): INFO : Processing Region 472 - \"LEFT - Rhombencephalon - Neuropil Region 2\"\n",
      "local-nb_cs-ii-29_import-tests (  13): INFO : Processing Region 473 - \"RIGHT - Rhombencephalon - Neuropil Region 2\"\n",
      "local-nb_cs-ii-29_import-tests (  13): INFO : Processing Region 474 - \"LEFT - Diencephalon - Hypothalamus - Caudal Hypothalamus Neural Cluster\"\n",
      "local-nb_cs-ii-29_import-tests (  13): INFO : Processing Region 475 - \"RIGHT - Diencephalon - Hypothalamus - Caudal Hypothalamus Neural Cluster\"\n",
      "local-nb_cs-ii-29_import-tests (  13): INFO : Processing Region 476 - \"LEFT - Telencephalon - Vglut2 rind\"\n",
      "local-nb_cs-ii-29_import-tests (  13): INFO : Processing Region 477 - \"RIGHT - Telencephalon - Vglut2 rind\"\n",
      "local-nb_cs-ii-29_import-tests (  13): INFO : Processing Region 478 - \"LEFT - Mesencephalon - Torus Semicircularis\"\n",
      "local-nb_cs-ii-29_import-tests (  13): INFO : Processing Region 479 - \"RIGHT - Mesencephalon - Torus Semicircularis\"\n",
      "local-nb_cs-ii-29_import-tests (  13): INFO : Processing Region 480 - \"LEFT - Diencephalon - Dopaminergic Cluster 2 - posterior tuberculum\"\n",
      "local-nb_cs-ii-29_import-tests (  13): INFO : Processing Region 481 - \"RIGHT - Diencephalon - Dopaminergic Cluster 2 - posterior tuberculum\"\n",
      "local-nb_cs-ii-29_import-tests (  13): INFO : Processing Region 482 - \"LEFT - Rhombencephalon - Glyt2 Stripe 2\"\n",
      "local-nb_cs-ii-29_import-tests (  13): INFO : Processing Region 483 - \"RIGHT - Rhombencephalon - Glyt2 Stripe 2\"\n",
      "local-nb_cs-ii-29_import-tests (  13): INFO : Processing Region 484 - \"LEFT - Diencephalon - Dopaminergic Cluster 1 - ventral thalamic and periventricular posterior tubercular DA neurons\"\n",
      "local-nb_cs-ii-29_import-tests (  13): INFO : Processing Region 485 - \"RIGHT - Diencephalon - Dopaminergic Cluster 1 - ventral thalamic and periventricular posterior tubercular DA neurons\"\n",
      "local-nb_cs-ii-29_import-tests (  13): INFO : Processing Region 486 - \"LEFT - Diencephalon - Medial vglut2 cluster\"\n",
      "local-nb_cs-ii-29_import-tests (  13): INFO : Processing Region 487 - \"RIGHT - Diencephalon - Medial vglut2 cluster\"\n",
      "local-nb_cs-ii-29_import-tests (  13): INFO : Processing Region 488 - \"LEFT - Rhombencephalon - Neuropil Region 6\"\n",
      "local-nb_cs-ii-29_import-tests (  13): INFO : Processing Region 489 - \"RIGHT - Rhombencephalon - Neuropil Region 6\"\n",
      "local-nb_cs-ii-29_import-tests (  13): INFO : Processing Region 490 - \"LEFT - Telencephalon - Subpallial Otpb Cluster 2\"\n",
      "local-nb_cs-ii-29_import-tests (  13): INFO : Processing Region 491 - \"RIGHT - Telencephalon - Subpallial Otpb Cluster 2\"\n",
      "local-nb_cs-ii-29_import-tests (  13): INFO : Processing Region 492 - \"LEFT - Rhombencephalon - Vglut2 Stripe 3\"\n",
      "local-nb_cs-ii-29_import-tests (  13): INFO : Processing Region 493 - \"RIGHT - Rhombencephalon - Vglut2 Stripe 3\"\n",
      "local-nb_cs-ii-29_import-tests (  13): INFO : Processing Region 494 - \"LEFT - Rhombencephalon - Glyt2 Cluster 1\"\n",
      "local-nb_cs-ii-29_import-tests (  13): INFO : Processing Region 495 - \"RIGHT - Rhombencephalon - Glyt2 Cluster 1\"\n",
      "local-nb_cs-ii-29_import-tests (  13): INFO : Processing Region 496 - \"LEFT - Spinal Cord - Vglut2 Stripe 1\"\n",
      "local-nb_cs-ii-29_import-tests (  18): INFO : ...region is empty.\n",
      "local-nb_cs-ii-29_import-tests (  13): INFO : Processing Region 497 - \"RIGHT - Spinal Cord - Vglut2 Stripe 1\"\n",
      "local-nb_cs-ii-29_import-tests (  18): INFO : ...region is empty.\n",
      "local-nb_cs-ii-29_import-tests (  13): INFO : Processing Region 498 - \"LEFT - Diencephalon - Anterior pretectum cluster of vmat2 Neurons\"\n",
      "local-nb_cs-ii-29_import-tests (  13): INFO : Processing Region 499 - \"RIGHT - Diencephalon - Anterior pretectum cluster of vmat2 Neurons\"\n",
      "local-nb_cs-ii-29_import-tests (  13): INFO : Processing Region 500 - \"LEFT - Rhombencephalon - Vglut2 Stripe 4\"\n",
      "local-nb_cs-ii-29_import-tests (  13): INFO : Processing Region 501 - \"RIGHT - Rhombencephalon - Vglut2 Stripe 4\"\n",
      "local-nb_cs-ii-29_import-tests (  13): INFO : Processing Region 502 - \"LEFT - Rhombencephalon - Ptf1a Stripe\"\n",
      "local-nb_cs-ii-29_import-tests (  13): INFO : Processing Region 503 - \"RIGHT - Rhombencephalon - Ptf1a Stripe\"\n",
      "local-nb_cs-ii-29_import-tests (  13): INFO : Processing Region 504 - \"LEFT - Rhombencephalon - Neuropil Region 4\"\n",
      "local-nb_cs-ii-29_import-tests (  13): INFO : Processing Region 505 - \"RIGHT - Rhombencephalon - Neuropil Region 4\"\n",
      "local-nb_cs-ii-29_import-tests (  13): INFO : Processing Region 506 - \"LEFT - Rhombencephalon - Cerebelluar-Vglut2 enriched areas\"\n",
      "local-nb_cs-ii-29_import-tests (  13): INFO : Processing Region 507 - \"RIGHT - Rhombencephalon - Cerebelluar-Vglut2 enriched areas\"\n",
      "local-nb_cs-ii-29_import-tests (  13): INFO : Processing Region 508 - \"LEFT - Rhombencephalon - Neuropil Region 3\"\n",
      "local-nb_cs-ii-29_import-tests (  13): INFO : Processing Region 509 - \"RIGHT - Rhombencephalon - Neuropil Region 3\"\n",
      "local-nb_cs-ii-29_import-tests (  13): INFO : Processing Region 510 - \"LEFT - Diencephalon - Caudal Hypothalamus\"\n",
      "local-nb_cs-ii-29_import-tests (  13): INFO : Processing Region 511 - \"RIGHT - Diencephalon - Caudal Hypothalamus\"\n",
      "local-nb_cs-ii-29_import-tests (  13): INFO : Processing Region 512 - \"LEFT - Mesencephalon - Tegmentum\"\n",
      "local-nb_cs-ii-29_import-tests (  13): INFO : Processing Region 513 - \"RIGHT - Mesencephalon - Tegmentum\"\n",
      "local-nb_cs-ii-29_import-tests (  13): INFO : Processing Region 514 - \"LEFT - Telencephalon - Pallium\"\n",
      "local-nb_cs-ii-29_import-tests (  13): INFO : Processing Region 515 - \"RIGHT - Telencephalon - Pallium\"\n",
      "local-nb_cs-ii-29_import-tests (  13): INFO : Processing Region 516 - \"LEFT - Diencephalon - Hypothalamus Hcrt Neurons\"\n",
      "local-nb_cs-ii-29_import-tests (  13): INFO : Processing Region 517 - \"RIGHT - Diencephalon - Hypothalamus Hcrt Neurons\"\n",
      "local-nb_cs-ii-29_import-tests (  13): INFO : Processing Region 518 - \"LEFT - Diencephalon - Hypothalamus 6.7FRhcrtR-Gal4 cluster 1\"\n",
      "local-nb_cs-ii-29_import-tests (  13): INFO : Processing Region 519 - \"RIGHT - Diencephalon - Hypothalamus 6.7FRhcrtR-Gal4 cluster 1\"\n",
      "local-nb_cs-ii-29_import-tests (  13): INFO : Processing Region 520 - \"LEFT - Rhombencephalon - Glyt2 Stripe 3\"\n",
      "local-nb_cs-ii-29_import-tests (  13): INFO : Processing Region 521 - \"RIGHT - Rhombencephalon - Glyt2 Stripe 3\"\n",
      "local-nb_cs-ii-29_import-tests (  13): INFO : Processing Region 522 - \"LEFT - Rhombencephalon - S1181t Cluster\"\n",
      "local-nb_cs-ii-29_import-tests (  13): INFO : Processing Region 523 - \"RIGHT - Rhombencephalon - S1181t Cluster\"\n",
      "local-nb_cs-ii-29_import-tests (  13): INFO : Processing Region 524 - \"LEFT - Rhombencephalon - X Vagus motorneuron cluster\"\n",
      "local-nb_cs-ii-29_import-tests (  13): INFO : Processing Region 525 - \"RIGHT - Rhombencephalon - X Vagus motorneuron cluster\"\n",
      "local-nb_cs-ii-29_import-tests (  13): INFO : Processing Region 526 - \"LEFT - Diencephalon - Olig2 Band 2\"\n",
      "local-nb_cs-ii-29_import-tests (  13): INFO : Processing Region 527 - \"RIGHT - Diencephalon - Olig2 Band 2\"\n",
      "local-nb_cs-ii-29_import-tests (  13): INFO : Processing Region 528 - \"LEFT - Spinal Cord - Glyt2 Stripe\"\n",
      "local-nb_cs-ii-29_import-tests (  13): INFO : Processing Region 529 - \"RIGHT - Spinal Cord - Glyt2 Stripe\"\n",
      "local-nb_cs-ii-29_import-tests (  18): INFO : ...region is empty.\n",
      "local-nb_cs-ii-29_import-tests (  13): INFO : Processing Region 530 - \"LEFT - Diencephalon - Pretectum\"\n",
      "local-nb_cs-ii-29_import-tests (  13): INFO : Processing Region 531 - \"RIGHT - Diencephalon - Pretectum\"\n",
      "local-nb_cs-ii-29_import-tests (  13): INFO : Processing Region 532 - \"LEFT - Rhombencephalon - Vmat2 Stripe1\"\n",
      "local-nb_cs-ii-29_import-tests (  13): INFO : Processing Region 533 - \"RIGHT - Rhombencephalon - Vmat2 Stripe1\"\n",
      "local-nb_cs-ii-29_import-tests (  13): INFO : Processing Region 534 - \"LEFT - Telencephalon - Subpallial Gad1b cluster\"\n",
      "local-nb_cs-ii-29_import-tests (  13): INFO : Processing Region 535 - \"RIGHT - Telencephalon - Subpallial Gad1b cluster\"\n",
      "local-nb_cs-ii-29_import-tests (  13): INFO : Processing Region 536 - \"LEFT - Rhombencephalon - Cerebellum Gad1b Enriched Areas\"\n",
      "local-nb_cs-ii-29_import-tests (  13): INFO : Processing Region 537 - \"RIGHT - Rhombencephalon - Cerebellum Gad1b Enriched Areas\"\n",
      "local-nb_cs-ii-29_import-tests (  13): INFO : Processing Region 538 - \"LEFT - Diencephalon - Intermediate Hypothalamus\"\n",
      "local-nb_cs-ii-29_import-tests (  13): INFO : Processing Region 539 - \"RIGHT - Diencephalon - Intermediate Hypothalamus\"\n",
      "local-nb_cs-ii-29_import-tests (  13): INFO : Processing Region 540 - \"LEFT - Rhombencephalon - Neuropil Region 5\"\n",
      "local-nb_cs-ii-29_import-tests (  13): INFO : Processing Region 541 - \"RIGHT - Rhombencephalon - Neuropil Region 5\"\n",
      "local-nb_cs-ii-29_import-tests (  13): INFO : Processing Region 542 - \"LEFT - Diencephalon - Oxtl Cluster 1 in Preoptic Area\"\n",
      "local-nb_cs-ii-29_import-tests (  13): INFO : Processing Region 543 - \"RIGHT - Diencephalon - Oxtl Cluster 1 in Preoptic Area\"\n",
      "local-nb_cs-ii-29_import-tests (  13): INFO : Processing Region 544 - \"LEFT - Rhombencephalon - Vglut2 cluster 2\"\n",
      "local-nb_cs-ii-29_import-tests (  13): INFO : Processing Region 545 - \"RIGHT - Rhombencephalon - Vglut2 cluster 2\"\n",
      "local-nb_cs-ii-29_import-tests (  13): INFO : Processing Region 546 - \"LEFT - Spinal Cord - 6.7FDhcrtR-Gal4 Stripe\"\n",
      "local-nb_cs-ii-29_import-tests (  13): INFO : Processing Region 547 - \"RIGHT - Spinal Cord - 6.7FDhcrtR-Gal4 Stripe\"\n",
      "local-nb_cs-ii-29_import-tests (  13): INFO : Processing Region 548 - \"LEFT - Rhombencephalon - Gad1b Stripe 3\"\n",
      "local-nb_cs-ii-29_import-tests (  13): INFO : Processing Region 549 - \"RIGHT - Rhombencephalon - Gad1b Stripe 3\"\n",
      "local-nb_cs-ii-29_import-tests (  13): INFO : Processing Region 550 - \"LEFT - Rhombencephalon - Gad1b Stripe 1\"\n",
      "local-nb_cs-ii-29_import-tests (  13): INFO : Processing Region 551 - \"RIGHT - Rhombencephalon - Gad1b Stripe 1\"\n",
      "local-nb_cs-ii-29_import-tests (  13): INFO : Processing Region 552 - \"LEFT - Diencephalon - Rostral Hypothalamus\"\n",
      "local-nb_cs-ii-29_import-tests (  13): INFO : Processing Region 553 - \"RIGHT - Diencephalon - Rostral Hypothalamus\"\n",
      "local-nb_cs-ii-29_import-tests (  13): INFO : Processing Region 554 - \"LEFT - Rhombencephalon - Vglut2 Stripe 1\"\n",
      "local-nb_cs-ii-29_import-tests (  13): INFO : Processing Region 555 - \"RIGHT - Rhombencephalon - Vglut2 Stripe 1\"\n",
      "local-nb_cs-ii-29_import-tests (  13): INFO : Processing Region 556 - \"LEFT - Telencephalon - Subpallium\"\n",
      "local-nb_cs-ii-29_import-tests (  13): INFO : Processing Region 557 - \"RIGHT - Telencephalon - Subpallium\"\n",
      "local-nb_cs-ii-29_import-tests (  13): INFO : Processing Region 558 - \"LEFT - Rhombencephalon - Cerebellum\"\n",
      "local-nb_cs-ii-29_import-tests (  13): INFO : Processing Region 559 - \"RIGHT - Rhombencephalon - Cerebellum\"\n",
      "local-nb_cs-ii-29_import-tests (  13): INFO : Processing Region 560 - \"LEFT - Mesencephalon -\"\n",
      "local-nb_cs-ii-29_import-tests (  13): INFO : Processing Region 561 - \"RIGHT - Mesencephalon -\"\n",
      "local-nb_cs-ii-29_import-tests (  13): INFO : Processing Region 562 - \"LEFT - Diencephalon - Posterior Tuberculum\"\n",
      "local-nb_cs-ii-29_import-tests (  13): INFO : Processing Region 563 - \"RIGHT - Diencephalon - Posterior Tuberculum\"\n",
      "local-nb_cs-ii-29_import-tests (  13): INFO : Processing Region 564 - \"LEFT - Rhombencephalon - Rhombomere 5\"\n",
      "local-nb_cs-ii-29_import-tests (  13): INFO : Processing Region 565 - \"RIGHT - Rhombencephalon - Rhombomere 5\"\n",
      "local-nb_cs-ii-29_import-tests (  13): INFO : Processing Region 566 - \"LEFT - Rhombencephalon - Rhombomere 4\"\n",
      "local-nb_cs-ii-29_import-tests (  13): INFO : Processing Region 567 - \"RIGHT - Rhombencephalon - Rhombomere 4\"\n",
      "local-nb_cs-ii-29_import-tests (  13): INFO : Processing Region 568 - \"LEFT - Rhombencephalon - Rhombomere 3\"\n",
      "local-nb_cs-ii-29_import-tests (  13): INFO : Processing Region 569 - \"RIGHT - Rhombencephalon - Rhombomere 3\"\n",
      "local-nb_cs-ii-29_import-tests (  13): INFO : Processing Region 570 - \"LEFT - Spinal Cord\"\n",
      "local-nb_cs-ii-29_import-tests (  18): INFO : ...region is empty.\n",
      "local-nb_cs-ii-29_import-tests (  13): INFO : Processing Region 571 - \"RIGHT - Spinal Cord\"\n",
      "local-nb_cs-ii-29_import-tests (  18): INFO : ...region is empty.\n",
      "local-nb_cs-ii-29_import-tests (  13): INFO : Processing Region 572 - \"LEFT - Telencephalon -\"\n",
      "local-nb_cs-ii-29_import-tests (  13): INFO : Processing Region 573 - \"RIGHT - Telencephalon -\"\n",
      "local-nb_cs-ii-29_import-tests (  13): INFO : Processing Region 574 - \"LEFT - Rhombencephalon - Rhombomere 1\"\n",
      "local-nb_cs-ii-29_import-tests (  13): INFO : Processing Region 575 - \"RIGHT - Rhombencephalon - Rhombomere 1\"\n",
      "local-nb_cs-ii-29_import-tests (  13): INFO : Processing Region 576 - \"LEFT - Rhombencephalon - Rhombomere 7\"\n",
      "local-nb_cs-ii-29_import-tests (  13): INFO : Processing Region 577 - \"RIGHT - Rhombencephalon - Rhombomere 7\"\n",
      "local-nb_cs-ii-29_import-tests (  13): INFO : Processing Region 578 - \"LEFT - Diencephalon - Preoptic Area\"\n",
      "local-nb_cs-ii-29_import-tests (  13): INFO : Processing Region 579 - \"RIGHT - Diencephalon - Preoptic Area\"\n",
      "local-nb_cs-ii-29_import-tests (  13): INFO : Processing Region 580 - \"LEFT - Rhombencephalon - Rhombomere 6\"\n",
      "local-nb_cs-ii-29_import-tests (  13): INFO : Processing Region 581 - \"RIGHT - Rhombencephalon - Rhombomere 6\"\n",
      "local-nb_cs-ii-29_import-tests (  13): INFO : Processing Region 582 - \"LEFT - Rhombencephalon - Rhombomere 2\"\n",
      "local-nb_cs-ii-29_import-tests (  13): INFO : Processing Region 583 - \"RIGHT - Rhombencephalon - Rhombomere 2\"\n",
      "local-nb_cs-ii-29_import-tests (  13): INFO : Processing Region 584 - \"LEFT - Diencephalon -\"\n",
      "local-nb_cs-ii-29_import-tests (  13): INFO : Processing Region 585 - \"RIGHT - Diencephalon -\"\n",
      "local-nb_cs-ii-29_import-tests (  13): INFO : Processing Region 586 - \"LEFT - Rhombencephalon -\"\n",
      "local-nb_cs-ii-29_import-tests (  13): INFO : Processing Region 587 - \"RIGHT - Rhombencephalon -\"\n"
     ]
    }
   ],
   "source": [
    "# ALL LABELS MOD\n",
    "\n",
    "master_index = -1\n",
    "\n",
    "for i_label_set, (labels_array, labels_sizes, labels_names_list) in \\\n",
    "        enumerate(zip(labels_arrays_live_space, labels_arrays_sizes, lr_labels_names_lists)):\n",
    "\n",
    "\n",
    "    for label_index, label_size in enumerate(labels_sizes): \n",
    "        master_index += 1\n",
    "        label_one_index = label_index + 1\n",
    "        \n",
    "        log.info('Processing Region {:03d} - \"{}\"',\n",
    "                 master_index,\n",
    "                 labels_names_list[label_index])\n",
    "        \n",
    "        if label_size == 0:\n",
    "            log.info('...region is empty.')\n",
    "            output_traces[:, master_index, :] = np.NAN\n",
    "            continue\n",
    "            \n",
    "        moi = labels_array == label_one_index\n",
    " \n",
    "        selected_data = live_image_data[:, moi]\n",
    "        selected_data = selected_data / BIT_MAX\n",
    "        \n",
    "        selected_data_qtiles = np.quantile(\n",
    "            selected_data, \n",
    "            [0.95, 0.75, 0.5, 0.25, 0.05], \n",
    "            axis=1)        \n",
    "        selected_data_mean = np.mean(selected_data, axis=1)        \n",
    "        selected_data_var = np.var(selected_data, axis=1)  \n",
    "        \n",
    "        log.debug(f'...{selected_data_qtiles.shape = }')\n",
    "        log.debug(f'...{selected_data_mean.shape = }')\n",
    "        log.debug(f'...{selected_data_var.shape = }')\n",
    "        \n",
    "        output_traces[0:5, master_index, :] = selected_data_qtiles\n",
    "        output_traces[5, master_index, :] = selected_data_mean\n",
    "        output_traces[6, master_index, :] = selected_data_var\n",
    "        \n",
    "        \n",
    "        "
   ],
   "metadata": {
    "collapsed": false,
    "ExecuteTime": {
     "end_time": "2023-10-20T15:44:56.429710Z",
     "start_time": "2023-10-20T15:40:07.860261400Z"
    }
   },
   "id": "47b88a5dcd41cee8"
  },
  {
   "cell_type": "code",
   "execution_count": 143,
   "outputs": [
    {
     "name": "stdout",
     "output_type": "stream",
     "text": [
      "local-nb_cs-ii-29_import-tests (  32): INFO : Region 000 - ('Rhombencephalon', 'Mauthner Cell Axon Cap', 'left')\n",
      "local-nb_cs-ii-29_import-tests (  32): INFO : Region 001 - ('Rhombencephalon', 'Mauthner Cell Axon Cap', 'right')\n",
      "local-nb_cs-ii-29_import-tests (  32): INFO : Region 002 - ('Rhombencephalon', 'MiR2', 'left')\n",
      "local-nb_cs-ii-29_import-tests (  32): INFO : Region 003 - ('Rhombencephalon', 'MiR2', 'right')\n",
      "local-nb_cs-ii-29_import-tests (  32): INFO : Region 004 - ('Rhombencephalon', 'Glyt2 Cluster 10', 'left')\n",
      "local-nb_cs-ii-29_import-tests (  32): INFO : Region 005 - ('Rhombencephalon', 'Glyt2 Cluster 10', 'right')\n",
      "local-nb_cs-ii-29_import-tests (  32): INFO : Region 006 - ('Rhombencephalon', 'Glyt2 Cluster 12', 'left')\n",
      "local-nb_cs-ii-29_import-tests (  32): INFO : Region 007 - ('Rhombencephalon', 'Glyt2 Cluster 12', 'right')\n",
      "local-nb_cs-ii-29_import-tests (  32): INFO : Region 008 - ('Rhombencephalon', 'RoL2', 'left')\n",
      "local-nb_cs-ii-29_import-tests (  32): INFO : Region 009 - ('Rhombencephalon', 'RoL2', 'right')\n",
      "local-nb_cs-ii-29_import-tests (  32): INFO : Region 010 - ('Rhombencephalon', 'Gad1b Cluster 12', 'left')\n",
      "local-nb_cs-ii-29_import-tests (  32): INFO : Region 011 - ('Rhombencephalon', 'Gad1b Cluster 12', 'right')\n",
      "local-nb_cs-ii-29_import-tests (  32): INFO : Region 012 - ('Rhombencephalon', 'Glyt2 Cluster 7', 'left')\n",
      "local-nb_cs-ii-29_import-tests (  32): INFO : Region 013 - ('Rhombencephalon', 'Glyt2 Cluster 7', 'right')\n",
      "local-nb_cs-ii-29_import-tests (  32): INFO : Region 014 - ('Rhombencephalon', 'MiR1', 'left')\n",
      "local-nb_cs-ii-29_import-tests (  32): INFO : Region 015 - ('Rhombencephalon', 'MiR1', 'right')\n",
      "local-nb_cs-ii-29_import-tests (  32): INFO : Region 016 - ('Diencephalon', 'Oxtl Cluster 5', 'left')\n",
      "local-nb_cs-ii-29_import-tests (  32): INFO : Region 017 - ('Diencephalon', 'Oxtl Cluster 5', 'right')\n",
      "local-nb_cs-ii-29_import-tests (  32): INFO : Region 018 - ('Rhombencephalon', 'RoL3', 'left')\n",
      "local-nb_cs-ii-29_import-tests (  32): INFO : Region 019 - ('Rhombencephalon', 'RoL3', 'right')\n",
      "local-nb_cs-ii-29_import-tests (  32): INFO : Region 020 - ('Rhombencephalon', 'MiM1', 'left')\n",
      "local-nb_cs-ii-29_import-tests (  32): INFO : Region 021 - ('Rhombencephalon', 'MiM1', 'right')\n",
      "local-nb_cs-ii-29_import-tests (  32): INFO : Region 022 - ('Rhombencephalon', 'Gad1b Cluster 11', 'left')\n",
      "local-nb_cs-ii-29_import-tests (  32): INFO : Region 023 - ('Rhombencephalon', 'Gad1b Cluster 11', 'right')\n",
      "local-nb_cs-ii-29_import-tests (  32): INFO : Region 024 - ('Rhombencephalon', 'Glyt2 Cluster 5', 'left')\n",
      "local-nb_cs-ii-29_import-tests (  32): INFO : Region 025 - ('Rhombencephalon', 'Glyt2 Cluster 5', 'right')\n",
      "local-nb_cs-ii-29_import-tests (  32): INFO : Region 026 - ('Rhombencephalon', 'Oxtl Cluster 1 Sparse', 'left')\n",
      "local-nb_cs-ii-29_import-tests (  32): INFO : Region 027 - ('Rhombencephalon', 'Oxtl Cluster 1 Sparse', 'right')\n",
      "local-nb_cs-ii-29_import-tests (  32): INFO : Region 028 - ('Diencephalon', 'Oxtl Cluster 2', 'left')\n",
      "local-nb_cs-ii-29_import-tests (  32): INFO : Region 029 - ('Diencephalon', 'Oxtl Cluster 2', 'right')\n",
      "local-nb_cs-ii-29_import-tests (  32): INFO : Region 030 - ('Rhombencephalon', 'Glyt2 Cluster 4', 'left')\n",
      "local-nb_cs-ii-29_import-tests (  32): INFO : Region 031 - ('Rhombencephalon', 'Glyt2 Cluster 4', 'right')\n",
      "local-nb_cs-ii-29_import-tests (  32): INFO : Region 032 - ('Rhombencephalon', 'Gad1b Cluster 10', 'left')\n",
      "local-nb_cs-ii-29_import-tests (  32): INFO : Region 033 - ('Rhombencephalon', 'Gad1b Cluster 10', 'right')\n",
      "local-nb_cs-ii-29_import-tests (  32): INFO : Region 034 - ('Rhombencephalon', 'Gad1b Cluster 9', 'left')\n",
      "local-nb_cs-ii-29_import-tests (  32): INFO : Region 035 - ('Rhombencephalon', 'Gad1b Cluster 9', 'right')\n",
      "local-nb_cs-ii-29_import-tests (  32): INFO : Region 036 - ('Rhombencephalon', 'Glyt2 Cluster 3', 'left')\n",
      "local-nb_cs-ii-29_import-tests (  32): INFO : Region 037 - ('Rhombencephalon', 'Glyt2 Cluster 3', 'right')\n",
      "local-nb_cs-ii-29_import-tests (  32): INFO : Region 038 - ('Rhombencephalon', 'Glyt2 Cluster 9', 'left')\n",
      "local-nb_cs-ii-29_import-tests (  32): INFO : Region 039 - ('Rhombencephalon', 'Glyt2 Cluster 9', 'right')\n",
      "local-nb_cs-ii-29_import-tests (  32): INFO : Region 040 - ('Rhombencephalon', 'Spiral Fiber Neuron Posterior cluster', 'left')\n",
      "local-nb_cs-ii-29_import-tests (  32): INFO : Region 041 - ('Rhombencephalon', 'Spiral Fiber Neuron Posterior cluster', 'right')\n",
      "local-nb_cs-ii-29_import-tests (  32): INFO : Region 042 - ('Rhombencephalon', 'Glyt2 Cluster 11', 'left')\n",
      "local-nb_cs-ii-29_import-tests (  32): INFO : Region 043 - ('Rhombencephalon', 'Glyt2 Cluster 11', 'right')\n",
      "local-nb_cs-ii-29_import-tests (  32): INFO : Region 044 - ('Rhombencephalon', 'Otpb Cluster 5', 'left')\n",
      "local-nb_cs-ii-29_import-tests (  32): INFO : Region 045 - ('Rhombencephalon', 'Otpb Cluster 5', 'right')\n",
      "local-nb_cs-ii-29_import-tests (  32): INFO : Region 046 - ('Rhombencephalon', 'Otpb Cluster 3', 'left')\n",
      "local-nb_cs-ii-29_import-tests (  32): INFO : Region 047 - ('Rhombencephalon', 'Otpb Cluster 3', 'right')\n",
      "local-nb_cs-ii-29_import-tests (  32): INFO : Region 048 - ('Rhombencephalon', 'Otpb Cluster 1', 'left')\n",
      "local-nb_cs-ii-29_import-tests (  32): INFO : Region 049 - ('Rhombencephalon', 'Otpb Cluster 1', 'right')\n",
      "local-nb_cs-ii-29_import-tests (  32): INFO : Region 050 - ('Rhombencephalon', 'Gad1b Cluster 5', 'left')\n",
      "local-nb_cs-ii-29_import-tests (  32): INFO : Region 051 - ('Rhombencephalon', 'Gad1b Cluster 5', 'right')\n",
      "local-nb_cs-ii-29_import-tests (  32): INFO : Region 052 - ('Rhombencephalon', 'Gad1b Cluster 8', 'left')\n",
      "local-nb_cs-ii-29_import-tests (  32): INFO : Region 053 - ('Rhombencephalon', 'Gad1b Cluster 8', 'right')\n",
      "local-nb_cs-ii-29_import-tests (  32): INFO : Region 054 - ('Rhombencephalon', 'Vmat2 Cluster 4', 'left')\n",
      "local-nb_cs-ii-29_import-tests (  32): INFO : Region 055 - ('Rhombencephalon', 'Vmat2 Cluster 4', 'right')\n",
      "local-nb_cs-ii-29_import-tests (  32): INFO : Region 056 - ('Mesencephalon', 'Retinal Arborization Field 8 (AF8)', 'left')\n",
      "local-nb_cs-ii-29_import-tests (  32): INFO : Region 057 - ('Mesencephalon', 'Retinal Arborization Field 8 (AF8)', 'right')\n",
      "local-nb_cs-ii-29_import-tests (  32): INFO : Region 058 - ('Rhombencephalon', \"VII' Facial Motor and octavolateralis efferent neurons\", 'left')\n",
      "local-nb_cs-ii-29_import-tests (  32): INFO : Region 059 - ('Rhombencephalon', \"VII' Facial Motor and octavolateralis efferent neurons\", 'right')\n",
      "local-nb_cs-ii-29_import-tests (  32): INFO : Region 060 - ('Rhombencephalon', 'Vmat2 Cluster 3', 'left')\n",
      "local-nb_cs-ii-29_import-tests (  32): INFO : Region 061 - ('Rhombencephalon', 'Vmat2 Cluster 3', 'right')\n",
      "local-nb_cs-ii-29_import-tests (  32): INFO : Region 062 - ('Rhombencephalon', 'Small cluster of TH stained neurons', 'left')\n",
      "local-nb_cs-ii-29_import-tests (  32): INFO : Region 063 - ('Rhombencephalon', 'Small cluster of TH stained neurons', 'right')\n",
      "local-nb_cs-ii-29_import-tests (  32): INFO : Region 064 - ('Rhombencephalon', 'Spiral Fiber Neuron Anterior cluster', 'left')\n",
      "local-nb_cs-ii-29_import-tests (  32): INFO : Region 065 - ('Rhombencephalon', 'Spiral Fiber Neuron Anterior cluster', 'right')\n",
      "local-nb_cs-ii-29_import-tests (  32): INFO : Region 066 - ('Mesencephalon', 'Sparse 6.7FRhcrtR cluster', 'left')\n",
      "local-nb_cs-ii-29_import-tests (  32): INFO : Region 067 - ('Mesencephalon', 'Sparse 6.7FRhcrtR cluster', 'right')\n",
      "local-nb_cs-ii-29_import-tests (  32): INFO : Region 068 - ('Rhombencephalon', 'Glyt2 Cluster 2', 'left')\n",
      "local-nb_cs-ii-29_import-tests (  32): INFO : Region 069 - ('Rhombencephalon', 'Glyt2 Cluster 2', 'right')\n",
      "local-nb_cs-ii-29_import-tests (  32): INFO : Region 070 - ('Rhombencephalon', 'Vglut2 cluster 3', 'left')\n",
      "local-nb_cs-ii-29_import-tests (  32): INFO : Region 071 - ('Rhombencephalon', 'Vglut2 cluster 3', 'right')\n",
      "local-nb_cs-ii-29_import-tests (  32): INFO : Region 072 - ('Rhombencephalon', '6.7FDhcrtR-Gal4 Cluster 4', 'left')\n",
      "local-nb_cs-ii-29_import-tests (  32): INFO : Region 073 - ('Rhombencephalon', '6.7FDhcrtR-Gal4 Cluster 4', 'right')\n",
      "local-nb_cs-ii-29_import-tests (  32): INFO : Region 074 - ('Diencephalon', 'Retinal Arborization Field 1 (AF1, Approximate Location)', 'left')\n",
      "local-nb_cs-ii-29_import-tests (  32): INFO : Region 075 - ('Diencephalon', 'Retinal Arborization Field 1 (AF1, Approximate Location)', 'right')\n",
      "local-nb_cs-ii-29_import-tests (  32): INFO : Region 076 - ('Ganglia', 'Lateral Line Neuromast SO3', 'left')\n",
      "local-nb_cs-ii-29_import-tests (  32): INFO : Region 077 - ('Ganglia', 'Lateral Line Neuromast SO3', 'right')\n",
      "local-nb_cs-ii-29_import-tests (  32): INFO : Region 078 - ('Rhombencephalon', 'RoM1', 'left')\n",
      "local-nb_cs-ii-29_import-tests (  32): INFO : Region 079 - ('Rhombencephalon', 'RoM1', 'right')\n",
      "local-nb_cs-ii-29_import-tests (  32): INFO : Region 080 - ('Rhombencephalon', 'Isl1 Cluster 2', 'left')\n",
      "local-nb_cs-ii-29_import-tests (  32): INFO : Region 081 - ('Rhombencephalon', 'Isl1 Cluster 2', 'right')\n",
      "local-nb_cs-ii-29_import-tests (  32): INFO : Region 082 - ('Ganglia', 'Lateral Line Neuromast OC1', 'left')\n",
      "local-nb_cs-ii-29_import-tests (  32): INFO : Region 083 - ('Ganglia', 'Lateral Line Neuromast OC1', 'right')\n",
      "local-nb_cs-ii-29_import-tests (  32): INFO : Region 084 - ('Ganglia', 'Lateral Line Neuromast D1', 'left')\n",
      "local-nb_cs-ii-29_import-tests (  32): INFO : Region 085 - ('Ganglia', 'Lateral Line Neuromast D1', 'right')\n",
      "local-nb_cs-ii-29_import-tests (  32): INFO : Region 086 - ('Rhombencephalon', 'RoV3', 'left')\n",
      "local-nb_cs-ii-29_import-tests (  32): INFO : Region 087 - ('Rhombencephalon', 'RoV3', 'right')\n",
      "local-nb_cs-ii-29_import-tests (  32): INFO : Region 088 - ('Diencephalon', 'Hypothalamus Vglut2 Cluster 4', 'left')\n",
      "local-nb_cs-ii-29_import-tests (  32): INFO : Region 089 - ('Diencephalon', 'Hypothalamus Vglut2 Cluster 4', 'right')\n",
      "local-nb_cs-ii-29_import-tests (  32): INFO : Region 090 - ('Rhombencephalon', 'Vmat2 Cluster 2', 'left')\n",
      "local-nb_cs-ii-29_import-tests (  32): INFO : Region 091 - ('Rhombencephalon', 'Vmat2 Cluster 2', 'right')\n",
      "local-nb_cs-ii-29_import-tests (  32): INFO : Region 092 - ('Rhombencephalon', 'Mauthner', 'left')\n",
      "local-nb_cs-ii-29_import-tests (  32): INFO : Region 093 - ('Rhombencephalon', 'Mauthner', 'right')\n",
      "local-nb_cs-ii-29_import-tests (  32): INFO : Region 094 - ('Diencephalon', 'Isl1 cluster 3', 'left')\n",
      "local-nb_cs-ii-29_import-tests (  32): INFO : Region 095 - ('Diencephalon', 'Isl1 cluster 3', 'right')\n",
      "local-nb_cs-ii-29_import-tests (  32): INFO : Region 096 - ('Rhombencephalon', 'Gad1b Cluster 19', 'left')\n",
      "local-nb_cs-ii-29_import-tests (  32): INFO : Region 097 - ('Rhombencephalon', 'Gad1b Cluster 19', 'right')\n",
      "local-nb_cs-ii-29_import-tests (  32): INFO : Region 098 - ('Diencephalon', 'Anterior group of the posterior tubercular vmat2 neurons', 'left')\n",
      "local-nb_cs-ii-29_import-tests (  32): INFO : Region 099 - ('Diencephalon', 'Anterior group of the posterior tubercular vmat2 neurons', 'right')\n",
      "local-nb_cs-ii-29_import-tests (  32): INFO : Region 100 - ('Rhombencephalon', 'MiV1', 'left')\n",
      "local-nb_cs-ii-29_import-tests (  32): INFO : Region 101 - ('Rhombencephalon', 'MiV1', 'right')\n",
      "local-nb_cs-ii-29_import-tests (  32): INFO : Region 102 - ('Diencephalon', 'Isl1 cluster 1', 'left')\n",
      "local-nb_cs-ii-29_import-tests (  32): INFO : Region 103 - ('Diencephalon', 'Isl1 cluster 1', 'right')\n",
      "local-nb_cs-ii-29_import-tests (  32): INFO : Region 104 - ('Diencephalon', 'Retinal Arborization Field 5 (AF5)', 'left')\n",
      "local-nb_cs-ii-29_import-tests (  32): INFO : Region 105 - ('Diencephalon', 'Retinal Arborization Field 5 (AF5)', 'right')\n",
      "local-nb_cs-ii-29_import-tests (  32): INFO : Region 106 - ('Diencephalon', 'Preoptic area Vglut2 cluster', 'left')\n",
      "local-nb_cs-ii-29_import-tests (  32): INFO : Region 107 - ('Diencephalon', 'Preoptic area Vglut2 cluster', 'right')\n",
      "local-nb_cs-ii-29_import-tests (  32): INFO : Region 108 - ('Rhombencephalon', 'MiD2', 'left')\n",
      "local-nb_cs-ii-29_import-tests (  32): INFO : Region 109 - ('Rhombencephalon', 'MiD2', 'right')\n",
      "local-nb_cs-ii-29_import-tests (  32): INFO : Region 110 - ('Diencephalon', 'Hypothalamus s1181t Cluster', 'left')\n",
      "local-nb_cs-ii-29_import-tests (  32): INFO : Region 111 - ('Diencephalon', 'Hypothalamus s1181t Cluster', 'right')\n",
      "local-nb_cs-ii-29_import-tests (  32): INFO : Region 112 - ('Rhombencephalon', '6.7FDhcrtR-Gal4 Cluster 3', 'left')\n",
      "local-nb_cs-ii-29_import-tests (  32): INFO : Region 113 - ('Rhombencephalon', '6.7FDhcrtR-Gal4 Cluster 3', 'right')\n",
      "local-nb_cs-ii-29_import-tests (  32): INFO : Region 114 - ('Diencephalon', 'Hypothalamus Olig2 cluster 2', 'left')\n",
      "local-nb_cs-ii-29_import-tests (  32): INFO : Region 115 - ('Diencephalon', 'Hypothalamus Olig2 cluster 2', 'right')\n",
      "local-nb_cs-ii-29_import-tests (  32): INFO : Region 116 - ('Rhombencephalon', 'RoM2', 'left')\n",
      "local-nb_cs-ii-29_import-tests (  32): INFO : Region 117 - ('Rhombencephalon', 'RoM2', 'right')\n",
      "local-nb_cs-ii-29_import-tests (  32): INFO : Region 118 - ('Rhombencephalon', 'Isl1 Cluster 3', 'left')\n",
      "local-nb_cs-ii-29_import-tests (  32): INFO : Region 119 - ('Rhombencephalon', 'Isl1 Cluster 3', 'right')\n",
      "local-nb_cs-ii-29_import-tests (  32): INFO : Region 120 - ('Ganglia', 'Lateral Line Neuromast O1', 'left')\n",
      "local-nb_cs-ii-29_import-tests (  32): INFO : Region 121 - ('Ganglia', 'Lateral Line Neuromast O1', 'right')\n",
      "local-nb_cs-ii-29_import-tests (  32): INFO : Region 122 - ('Ganglia', 'Lateral Line Neuromast D2', 'left')\n",
      "local-nb_cs-ii-29_import-tests (  32): INFO : Region 123 - ('Ganglia', 'Lateral Line Neuromast D2', 'right')\n",
      "local-nb_cs-ii-29_import-tests (  32): INFO : Region 124 - ('Rhombencephalon', 'Vglut2 cluster 4', 'left')\n",
      "local-nb_cs-ii-29_import-tests (  32): INFO : Region 125 - ('Rhombencephalon', 'Vglut2 cluster 4', 'right')\n",
      "local-nb_cs-ii-29_import-tests (  32): INFO : Region 126 - ('Diencephalon', 'Hypothalamus Gad1b Cluster 2', 'left')\n",
      "local-nb_cs-ii-29_import-tests (  32): INFO : Region 127 - ('Diencephalon', 'Hypothalamus Gad1b Cluster 2', 'right')\n",
      "local-nb_cs-ii-29_import-tests (  32): INFO : Region 128 - ('Rhombencephalon', '6.7FDhcrtR-Gal4 Stripe 3', 'left')\n",
      "local-nb_cs-ii-29_import-tests (  32): INFO : Region 129 - ('Rhombencephalon', '6.7FDhcrtR-Gal4 Stripe 3', 'right')\n",
      "local-nb_cs-ii-29_import-tests (  32): INFO : Region 130 - ('Diencephalon', 'Anterior preoptic dopaminergic cluster', 'left')\n",
      "local-nb_cs-ii-29_import-tests (  32): INFO : Region 131 - ('Diencephalon', 'Anterior preoptic dopaminergic cluster', 'right')\n",
      "local-nb_cs-ii-29_import-tests (  32): INFO : Region 132 - ('Rhombencephalon', 'RoL-R1', 'left')\n",
      "local-nb_cs-ii-29_import-tests (  32): INFO : Region 133 - ('Rhombencephalon', 'RoL-R1', 'right')\n",
      "local-nb_cs-ii-29_import-tests (  32): INFO : Region 134 - ('Diencephalon', 'Retinal Arborization Field 6 (AF6)', 'left')\n",
      "local-nb_cs-ii-29_import-tests (  32): INFO : Region 135 - ('Diencephalon', 'Retinal Arborization Field 6 (AF6)', 'right')\n",
      "local-nb_cs-ii-29_import-tests (  32): INFO : Region 136 - ('Diencephalon', 'Oxtl Cluster 4 - sparse in hypothalamus', 'left')\n",
      "local-nb_cs-ii-29_import-tests (  32): INFO : Region 137 - ('Diencephalon', 'Oxtl Cluster 4 - sparse in hypothalamus', 'right')\n",
      "local-nb_cs-ii-29_import-tests (  32): INFO : Region 138 - ('Rhombencephalon', 'Lateral Reticular Nucleus', 'left')\n",
      "local-nb_cs-ii-29_import-tests (  32): INFO : Region 139 - ('Rhombencephalon', 'Lateral Reticular Nucleus', 'right')\n",
      "local-nb_cs-ii-29_import-tests (  32): INFO : Region 140 - ('Spinal Cord', 'Gad1b Stripe 2', 'left')\n",
      "local-nb_cs-ii-29_import-tests (  32): INFO : Region 141 - ('Spinal Cord', 'Gad1b Stripe 2', 'right')\n",
      "local-nb_cs-ii-29_import-tests (  32): INFO : Region 142 - ('Rhombencephalon', 'Gad1b Cluster 18', 'left')\n",
      "local-nb_cs-ii-29_import-tests (  32): INFO : Region 143 - ('Rhombencephalon', 'Gad1b Cluster 18', 'right')\n",
      "local-nb_cs-ii-29_import-tests (  32): INFO : Region 144 - ('Diencephalon', 'Torus Lateralis', 'left')\n",
      "local-nb_cs-ii-29_import-tests (  32): INFO : Region 145 - ('Diencephalon', 'Torus Lateralis', 'right')\n",
      "local-nb_cs-ii-29_import-tests (  32): INFO : Region 146 - ('Diencephalon', 'Retinal Arborization Field 2 (AF2, Approximate Location)', 'left')\n",
      "local-nb_cs-ii-29_import-tests (  32): INFO : Region 147 - ('Diencephalon', 'Retinal Arborization Field 2 (AF2, Approximate Location)', 'right')\n",
      "local-nb_cs-ii-29_import-tests (  32): INFO : Region 148 - ('Rhombencephalon', 'Area Postrema', 'left')\n",
      "local-nb_cs-ii-29_import-tests (  32): INFO : Region 149 - ('Rhombencephalon', 'Area Postrema', 'right')\n",
      "local-nb_cs-ii-29_import-tests (  32): INFO : Region 150 - ('Rhombencephalon', 'Gad1b Cluster 20', 'left')\n",
      "local-nb_cs-ii-29_import-tests (  32): INFO : Region 151 - ('Rhombencephalon', 'Gad1b Cluster 20', 'right')\n",
      "local-nb_cs-ii-29_import-tests (  32): INFO : Region 152 - ('Rhombencephalon', 'Vmat2 Cluster 1', 'left')\n",
      "local-nb_cs-ii-29_import-tests (  32): INFO : Region 153 - ('Rhombencephalon', 'Vmat2 Cluster 1', 'right')\n",
      "local-nb_cs-ii-29_import-tests (  32): INFO : Region 154 - ('Ganglia', 'Lateral Line Neuromast SO1', 'left')\n",
      "local-nb_cs-ii-29_import-tests (  32): INFO : Region 155 - ('Ganglia', 'Lateral Line Neuromast SO1', 'right')\n",
      "local-nb_cs-ii-29_import-tests (  32): INFO : Region 156 - ('Diencephalon', 'Hypothalamus Olig2 cluster', 'left')\n",
      "local-nb_cs-ii-29_import-tests (  32): INFO : Region 157 - ('Diencephalon', 'Hypothalamus Olig2 cluster', 'right')\n",
      "local-nb_cs-ii-29_import-tests (  32): INFO : Region 158 - ('Rhombencephalon', 'Olig2 Cluster', 'left')\n",
      "local-nb_cs-ii-29_import-tests (  32): INFO : Region 159 - ('Rhombencephalon', 'Olig2 Cluster', 'right')\n",
      "local-nb_cs-ii-29_import-tests (  32): INFO : Region 160 - ('Mesencephalon', 'Oxtl Cluster Sparse', 'left')\n",
      "local-nb_cs-ii-29_import-tests (  32): INFO : Region 161 - ('Mesencephalon', 'Oxtl Cluster Sparse', 'right')\n",
      "local-nb_cs-ii-29_import-tests (  32): INFO : Region 162 - ('Diencephalon', 'Retinal Arborization Field 3 (AF3)', 'left')\n",
      "local-nb_cs-ii-29_import-tests (  32): INFO : Region 163 - ('Diencephalon', 'Retinal Arborization Field 3 (AF3)', 'right')\n",
      "local-nb_cs-ii-29_import-tests (  32): INFO : Region 164 - ('Mesencephalon', 'Retinal Arborization Field 7 (AF7)', 'left')\n",
      "local-nb_cs-ii-29_import-tests (  32): INFO : Region 165 - ('Mesencephalon', 'Retinal Arborization Field 7 (AF7)', 'right')\n",
      "local-nb_cs-ii-29_import-tests (  32): INFO : Region 166 - ('Telencephalon', 'Subpallial Otpb strip', 'left')\n",
      "local-nb_cs-ii-29_import-tests (  32): INFO : Region 167 - ('Telencephalon', 'Subpallial Otpb strip', 'right')\n",
      "local-nb_cs-ii-29_import-tests (  32): INFO : Region 168 - ('Rhombencephalon', 'Vmat2 Stripe3', 'left')\n",
      "local-nb_cs-ii-29_import-tests (  32): INFO : Region 169 - ('Rhombencephalon', 'Vmat2 Stripe3', 'right')\n",
      "local-nb_cs-ii-29_import-tests (  32): INFO : Region 170 - ('Mesencephalon', 'Ptf1a Cluster', 'left')\n",
      "local-nb_cs-ii-29_import-tests (  32): INFO : Region 171 - ('Mesencephalon', 'Ptf1a Cluster', 'right')\n",
      "local-nb_cs-ii-29_import-tests (  32): INFO : Region 172 - ('Diencephalon', 'Dopaminergic Cluster 6 - hypothalamus', 'left')\n",
      "local-nb_cs-ii-29_import-tests (  32): INFO : Region 173 - ('Diencephalon', 'Dopaminergic Cluster 6 - hypothalamus', 'right')\n",
      "local-nb_cs-ii-29_import-tests (  32): INFO : Region 174 - ('Spinal Cord', 'Vmat2 Stripe2', 'left')\n",
      "local-nb_cs-ii-29_import-tests (  32): INFO : Region 175 - ('Spinal Cord', 'Vmat2 Stripe2', 'right')\n",
      "local-nb_cs-ii-29_import-tests (  32): INFO : Region 176 - ('Diencephalon', 'Preoptic area posterior dopaminergic cluster', 'left')\n",
      "local-nb_cs-ii-29_import-tests (  32): INFO : Region 177 - ('Diencephalon', 'Preoptic area posterior dopaminergic cluster', 'right')\n",
      "local-nb_cs-ii-29_import-tests (  32): INFO : Region 178 - ('Diencephalon', 'Pineal Vmat2 cluster', 'left')\n",
      "local-nb_cs-ii-29_import-tests (  32): INFO : Region 179 - ('Diencephalon', 'Pineal Vmat2 cluster', 'right')\n",
      "local-nb_cs-ii-29_import-tests (  32): INFO : Region 180 - ('Ganglia', 'Lateral Line Neuromast N', 'left')\n",
      "local-nb_cs-ii-29_import-tests (  32): INFO : Region 181 - ('Ganglia', 'Lateral Line Neuromast N', 'right')\n",
      "local-nb_cs-ii-29_import-tests (  32): INFO : Region 182 - ('Rhombencephalon', 'Gad1b Cluster 17', 'left')\n",
      "local-nb_cs-ii-29_import-tests (  32): INFO : Region 183 - ('Rhombencephalon', 'Gad1b Cluster 17', 'right')\n",
      "local-nb_cs-ii-29_import-tests (  32): INFO : Region 184 - ('Mesencephalon', 'Otpb Cluster', 'left')\n",
      "local-nb_cs-ii-29_import-tests (  32): INFO : Region 185 - ('Mesencephalon', 'Otpb Cluster', 'right')\n",
      "local-nb_cs-ii-29_import-tests (  32): INFO : Region 186 - ('Rhombencephalon', 'Gad1b Cluster 7', 'left')\n",
      "local-nb_cs-ii-29_import-tests (  32): INFO : Region 187 - ('Rhombencephalon', 'Gad1b Cluster 7', 'right')\n",
      "local-nb_cs-ii-29_import-tests (  32): INFO : Region 188 - ('Diencephalon', 'Isl1 cluster 2', 'left')\n",
      "local-nb_cs-ii-29_import-tests (  32): INFO : Region 189 - ('Diencephalon', 'Isl1 cluster 2', 'right')\n",
      "local-nb_cs-ii-29_import-tests (  32): INFO : Region 190 - ('Telencephalon', 'Subpallial Vglut2 Cluster', 'left')\n",
      "local-nb_cs-ii-29_import-tests (  32): INFO : Region 191 - ('Telencephalon', 'Subpallial Vglut2 Cluster', 'right')\n",
      "local-nb_cs-ii-29_import-tests (  32): INFO : Region 192 - ('Telencephalon', 'Subpallial dopaminergic cluster', 'left')\n",
      "local-nb_cs-ii-29_import-tests (  32): INFO : Region 193 - ('Telencephalon', 'Subpallial dopaminergic cluster', 'right')\n",
      "local-nb_cs-ii-29_import-tests (  32): INFO : Region 194 - ('Rhombencephalon', 'Gad1b Cluster 14', 'left')\n",
      "local-nb_cs-ii-29_import-tests (  32): INFO : Region 195 - ('Rhombencephalon', 'Gad1b Cluster 14', 'right')\n",
      "local-nb_cs-ii-29_import-tests (  32): INFO : Region 196 - ('Rhombencephalon', '6.7FDhcrtR-Gal4 Cluster 5', 'left')\n",
      "local-nb_cs-ii-29_import-tests (  32): INFO : Region 197 - ('Rhombencephalon', '6.7FDhcrtR-Gal4 Cluster 5', 'right')\n",
      "local-nb_cs-ii-29_import-tests (  32): INFO : Region 198 - ('Ganglia', 'Lateral Line Neuromast SO2', 'left')\n",
      "local-nb_cs-ii-29_import-tests (  32): INFO : Region 199 - ('Ganglia', 'Lateral Line Neuromast SO2', 'right')\n",
      "local-nb_cs-ii-29_import-tests (  32): INFO : Region 200 - ('Mesencephalon', 'NucMLF (nucleus of the medial longitudinal fascicle)', 'left')\n",
      "local-nb_cs-ii-29_import-tests (  32): INFO : Region 201 - ('Mesencephalon', 'NucMLF (nucleus of the medial longitudinal fascicle)', 'right')\n",
      "local-nb_cs-ii-29_import-tests (  32): INFO : Region 202 - ('Rhombencephalon', 'Oculomotor Nucleus nIV', 'left')\n",
      "local-nb_cs-ii-29_import-tests (  32): INFO : Region 203 - ('Rhombencephalon', 'Oculomotor Nucleus nIV', 'right')\n",
      "local-nb_cs-ii-29_import-tests (  32): INFO : Region 204 - ('Diencephalon', 'Otpb Cluster 1', 'left')\n",
      "local-nb_cs-ii-29_import-tests (  32): INFO : Region 205 - ('Diencephalon', 'Otpb Cluster 1', 'right')\n",
      "local-nb_cs-ii-29_import-tests (  32): INFO : Region 206 - ('Rhombencephalon', 'Gad1b Cluster 16', 'left')\n",
      "local-nb_cs-ii-29_import-tests (  32): INFO : Region 207 - ('Rhombencephalon', 'Gad1b Cluster 16', 'right')\n",
      "local-nb_cs-ii-29_import-tests (  32): INFO : Region 208 - ('Rhombencephalon', 'Ventrolateral population of serotonergic neurons', 'left')\n",
      "local-nb_cs-ii-29_import-tests (  32): INFO : Region 209 - ('Rhombencephalon', 'Ventrolateral population of serotonergic neurons', 'right')\n",
      "local-nb_cs-ii-29_import-tests (  32): INFO : Region 210 - ('Mesencephalon', 'Retinal Arborization Field 9 (AF9)', 'left')\n",
      "local-nb_cs-ii-29_import-tests (  32): INFO : Region 211 - ('Mesencephalon', 'Retinal Arborization Field 9 (AF9)', 'right')\n",
      "local-nb_cs-ii-29_import-tests (  32): INFO : Region 212 - ('Diencephalon', 'Hypothalamus - Intermediate Hypothalamus Neural Cluster', 'left')\n",
      "local-nb_cs-ii-29_import-tests (  32): INFO : Region 213 - ('Diencephalon', 'Hypothalamus - Intermediate Hypothalamus Neural Cluster', 'right')\n",
      "local-nb_cs-ii-29_import-tests (  32): INFO : Region 214 - ('Telencephalon', 'Optic Commissure', 'left')\n",
      "local-nb_cs-ii-29_import-tests (  32): INFO : Region 215 - ('Telencephalon', 'Optic Commissure', 'right')\n",
      "local-nb_cs-ii-29_import-tests (  32): INFO : Region 216 - ('Spinal Cord', 'Dorsal Sparse Isl1 cluster', 'left')\n",
      "local-nb_cs-ii-29_import-tests (  32): INFO : Region 217 - ('Spinal Cord', 'Dorsal Sparse Isl1 cluster', 'right')\n",
      "local-nb_cs-ii-29_import-tests (  32): INFO : Region 218 - ('Rhombencephalon', 'Glyt2 Stripe 1', 'left')\n",
      "local-nb_cs-ii-29_import-tests (  32): INFO : Region 219 - ('Rhombencephalon', 'Glyt2 Stripe 1', 'right')\n",
      "local-nb_cs-ii-29_import-tests (  32): INFO : Region 220 - ('Rhombencephalon', 'Cerebellar Neuropil 1', 'left')\n",
      "local-nb_cs-ii-29_import-tests (  32): INFO : Region 221 - ('Rhombencephalon', 'Cerebellar Neuropil 1', 'right')\n",
      "local-nb_cs-ii-29_import-tests (  32): INFO : Region 222 - ('Telencephalon', 'Telencephalic Migrated Area 4 (M4)', 'left')\n",
      "local-nb_cs-ii-29_import-tests (  32): INFO : Region 223 - ('Telencephalon', 'Telencephalic Migrated Area 4 (M4)', 'right')\n",
      "local-nb_cs-ii-29_import-tests (  32): INFO : Region 224 - ('Diencephalon', 'Hypothalamus Vglut2 Cluster 2', 'left')\n",
      "local-nb_cs-ii-29_import-tests (  32): INFO : Region 225 - ('Diencephalon', 'Hypothalamus Vglut2 Cluster 2', 'right')\n",
      "local-nb_cs-ii-29_import-tests (  32): INFO : Region 226 - ('Diencephalon', 'Otpb Cluster 3', 'left')\n",
      "local-nb_cs-ii-29_import-tests (  32): INFO : Region 227 - ('Diencephalon', 'Otpb Cluster 3', 'right')\n",
      "local-nb_cs-ii-29_import-tests (  32): INFO : Region 228 - ('Telencephalon', 'Olfactory bulb dopaminergic neuron areas', 'left')\n",
      "local-nb_cs-ii-29_import-tests (  32): INFO : Region 229 - ('Telencephalon', 'Olfactory bulb dopaminergic neuron areas', 'right')\n",
      "local-nb_cs-ii-29_import-tests (  32): INFO : Region 230 - ('Diencephalon', 'Retinal Arborization Field 4 (AF4)', 'left')\n",
      "local-nb_cs-ii-29_import-tests (  32): INFO : Region 231 - ('Diencephalon', 'Retinal Arborization Field 4 (AF4)', 'right')\n",
      "local-nb_cs-ii-29_import-tests (  32): INFO : Region 232 - ('Rhombencephalon', 'Gad1b Cluster 4', 'left')\n",
      "local-nb_cs-ii-29_import-tests (  32): INFO : Region 233 - ('Rhombencephalon', 'Gad1b Cluster 4', 'right')\n",
      "local-nb_cs-ii-29_import-tests (  32): INFO : Region 234 - ('Diencephalon', 'Postoptic Commissure', 'left')\n",
      "local-nb_cs-ii-29_import-tests (  32): INFO : Region 235 - ('Diencephalon', 'Postoptic Commissure', 'right')\n",
      "local-nb_cs-ii-29_import-tests (  32): INFO : Region 236 - ('Rhombencephalon', 'Lobus caudalis cerebelli', 'left')\n",
      "local-nb_cs-ii-29_import-tests (  32): INFO : Region 237 - ('Rhombencephalon', 'Lobus caudalis cerebelli', 'right')\n",
      "local-nb_cs-ii-29_import-tests (  32): INFO : Region 238 - ('Rhombencephalon', '6.7FDhcrtR-Gal4 Stripe 1', 'left')\n",
      "local-nb_cs-ii-29_import-tests (  32): INFO : Region 239 - ('Rhombencephalon', '6.7FDhcrtR-Gal4 Stripe 1', 'right')\n",
      "local-nb_cs-ii-29_import-tests (  32): INFO : Region 240 - ('Telencephalon', 'Olig2 Cluster', 'left')\n",
      "local-nb_cs-ii-29_import-tests (  32): INFO : Region 241 - ('Telencephalon', 'Olig2 Cluster', 'right')\n",
      "local-nb_cs-ii-29_import-tests (  32): INFO : Region 242 - ('Mesencephalon', 'Isl1 cluster of the mesencephalic region', 'left')\n",
      "local-nb_cs-ii-29_import-tests (  32): INFO : Region 243 - ('Mesencephalon', 'Isl1 cluster of the mesencephalic region', 'right')\n",
      "local-nb_cs-ii-29_import-tests (  32): INFO : Region 244 - ('Rhombencephalon', 'Gad1b Cluster 3', 'left')\n",
      "local-nb_cs-ii-29_import-tests (  32): INFO : Region 245 - ('Rhombencephalon', 'Gad1b Cluster 3', 'right')\n",
      "local-nb_cs-ii-29_import-tests (  32): INFO : Region 246 - ('Diencephalon', 'Pretectal Gad1b Cluster', 'left')\n",
      "local-nb_cs-ii-29_import-tests (  32): INFO : Region 247 - ('Diencephalon', 'Pretectal Gad1b Cluster', 'right')\n",
      "local-nb_cs-ii-29_import-tests (  32): INFO : Region 248 - ('Rhombencephalon', 'Inferior Olive', 'left')\n",
      "local-nb_cs-ii-29_import-tests (  32): INFO : Region 249 - ('Rhombencephalon', 'Inferior Olive', 'right')\n",
      "local-nb_cs-ii-29_import-tests (  32): INFO : Region 250 - ('Rhombencephalon', 'Qrfp neuron cluster sparse', 'left')\n",
      "local-nb_cs-ii-29_import-tests (  32): INFO : Region 251 - ('Rhombencephalon', 'Qrfp neuron cluster sparse', 'right')\n",
      "local-nb_cs-ii-29_import-tests (  32): INFO : Region 252 - ('Diencephalon', 'Hypothalamus Vglut2 Cluster 1', 'left')\n",
      "local-nb_cs-ii-29_import-tests (  32): INFO : Region 253 - ('Diencephalon', 'Hypothalamus Vglut2 Cluster 1', 'right')\n",
      "local-nb_cs-ii-29_import-tests (  32): INFO : Region 254 - ('Mesencephalon', 'Torus Longitudinalis', 'left')\n",
      "local-nb_cs-ii-29_import-tests (  32): INFO : Region 255 - ('Mesencephalon', 'Torus Longitudinalis', 'right')\n",
      "local-nb_cs-ii-29_import-tests (  32): INFO : Region 256 - ('Rhombencephalon', 'Gad1b Cluster 1', 'left')\n",
      "local-nb_cs-ii-29_import-tests (  32): INFO : Region 257 - ('Rhombencephalon', 'Gad1b Cluster 1', 'right')\n",
      "local-nb_cs-ii-29_import-tests (  32): INFO : Region 258 - ('Telencephalon', 'Isl1 cluster 2', 'left')\n",
      "local-nb_cs-ii-29_import-tests (  32): INFO : Region 259 - ('Telencephalon', 'Isl1 cluster 2', 'right')\n",
      "local-nb_cs-ii-29_import-tests (  32): INFO : Region 260 - ('Diencephalon', 'Hypothalamus Gad1b Cluster 1', 'left')\n",
      "local-nb_cs-ii-29_import-tests (  32): INFO : Region 261 - ('Diencephalon', 'Hypothalamus Gad1b Cluster 1', 'right')\n",
      "local-nb_cs-ii-29_import-tests (  32): INFO : Region 262 - ('Diencephalon', 'Left Habenula Vglut2 Cluster', 'left')\n",
      "local-nb_cs-ii-29_import-tests (  32): INFO : Region 263 - ('Diencephalon', 'Left Habenula Vglut2 Cluster', 'right')\n",
      "local-nb_cs-ii-29_import-tests (  32): INFO : Region 264 - ('Ganglia', 'Anterior Lateral Line Ganglion', 'left')\n",
      "local-nb_cs-ii-29_import-tests (  32): INFO : Region 265 - ('Ganglia', 'Anterior Lateral Line Ganglion', 'right')\n",
      "local-nb_cs-ii-29_import-tests (  32): INFO : Region 266 - ('Spinal Cord', 'Isl1 stripe - motorneurons', 'left')\n",
      "local-nb_cs-ii-29_import-tests (  32): INFO : Region 267 - ('Spinal Cord', 'Isl1 stripe - motorneurons', 'right')\n",
      "local-nb_cs-ii-29_import-tests (  32): INFO : Region 268 - ('Diencephalon', 'Hypothalamus Vglut2 Cluster 5', 'left')\n",
      "local-nb_cs-ii-29_import-tests (  32): INFO : Region 269 - ('Diencephalon', 'Hypothalamus Vglut2 Cluster 5', 'right')\n",
      "local-nb_cs-ii-29_import-tests (  32): INFO : Region 270 - ('Diencephalon', 'Right Habenula Vglut2 Cluster', 'left')\n",
      "local-nb_cs-ii-29_import-tests (  32): INFO : Region 271 - ('Diencephalon', 'Right Habenula Vglut2 Cluster', 'right')\n",
      "local-nb_cs-ii-29_import-tests (  32): INFO : Region 272 - ('Rhombencephalon', 'Otpb Cluster 6', 'left')\n",
      "local-nb_cs-ii-29_import-tests (  32): INFO : Region 273 - ('Rhombencephalon', 'Otpb Cluster 6', 'right')\n",
      "local-nb_cs-ii-29_import-tests (  32): INFO : Region 274 - ('Telencephalon', 'Anterior Commisure', 'left')\n",
      "local-nb_cs-ii-29_import-tests (  32): INFO : Region 275 - ('Telencephalon', 'Anterior Commisure', 'right')\n",
      "local-nb_cs-ii-29_import-tests (  32): INFO : Region 276 - ('Ganglia', 'Posterior Lateral Line Ganglia', 'left')\n",
      "local-nb_cs-ii-29_import-tests (  32): INFO : Region 277 - ('Ganglia', 'Posterior Lateral Line Ganglia', 'right')\n",
      "local-nb_cs-ii-29_import-tests (  32): INFO : Region 278 - ('Ganglia', 'Trigeminal Ganglion', 'left')\n",
      "local-nb_cs-ii-29_import-tests (  32): INFO : Region 279 - ('Ganglia', 'Trigeminal Ganglion', 'right')\n",
      "local-nb_cs-ii-29_import-tests (  32): INFO : Region 280 - ('Diencephalon', 'Hypothalamus Gad1b Cluster 3 Sparse', 'left')\n",
      "local-nb_cs-ii-29_import-tests (  32): INFO : Region 281 - ('Diencephalon', 'Hypothalamus Gad1b Cluster 3 Sparse', 'right')\n",
      "local-nb_cs-ii-29_import-tests (  32): INFO : Region 282 - ('Diencephalon', 'Olig2 Band', 'left')\n",
      "local-nb_cs-ii-29_import-tests (  32): INFO : Region 283 - ('Diencephalon', 'Olig2 Band', 'right')\n",
      "local-nb_cs-ii-29_import-tests (  32): INFO : Region 284 - ('Ganglia', 'Facial glossopharyngeal ganglion', 'left')\n",
      "local-nb_cs-ii-29_import-tests (  32): INFO : Region 285 - ('Ganglia', 'Facial glossopharyngeal ganglion', 'right')\n",
      "local-nb_cs-ii-29_import-tests (  32): INFO : Region 286 - ('Rhombencephalon', 'Valvula Cerebelli', 'left')\n",
      "local-nb_cs-ii-29_import-tests (  32): INFO : Region 287 - ('Rhombencephalon', 'Valvula Cerebelli', 'right')\n",
      "local-nb_cs-ii-29_import-tests (  32): INFO : Region 288 - ('Spinal Cord', 'Gad1b Stripe 1', 'left')\n",
      "local-nb_cs-ii-29_import-tests (  32): INFO : Region 289 - ('Spinal Cord', 'Gad1b Stripe 1', 'right')\n",
      "local-nb_cs-ii-29_import-tests (  32): INFO : Region 290 - ('Ganglia', 'Statoacoustic Ganglion', 'left')\n",
      "local-nb_cs-ii-29_import-tests (  32): INFO : Region 291 - ('Ganglia', 'Statoacoustic Ganglion', 'right')\n",
      "local-nb_cs-ii-29_import-tests (  32): INFO : Region 292 - ('Mesencephalon', 'Medial Tectal Band', 'left')\n",
      "local-nb_cs-ii-29_import-tests (  32): INFO : Region 293 - ('Mesencephalon', 'Medial Tectal Band', 'right')\n",
      "local-nb_cs-ii-29_import-tests (  32): INFO : Region 294 - ('Ganglia', 'Olfactory Epithelium', 'left')\n",
      "local-nb_cs-ii-29_import-tests (  32): INFO : Region 295 - ('Ganglia', 'Olfactory Epithelium', 'right')\n",
      "local-nb_cs-ii-29_import-tests (  32): INFO : Region 296 - ('Mesencephalon', 'Tecum Neuropil', 'left')\n",
      "local-nb_cs-ii-29_import-tests (  32): INFO : Region 297 - ('Mesencephalon', 'Tecum Neuropil', 'right')\n",
      "local-nb_cs-ii-29_import-tests (  32): INFO : Region 298 - ('Ganglia', 'Eyes', 'left')\n",
      "local-nb_cs-ii-29_import-tests (  32): INFO : Region 299 - ('Ganglia', 'Eyes', 'right')\n",
      "local-nb_cs-ii-29_import-tests (  32): INFO : Region 300 - ('Rhombencephalon', 'Glyt2 Cluster 8', 'left')\n",
      "local-nb_cs-ii-29_import-tests (  32): INFO : Region 301 - ('Rhombencephalon', 'Glyt2 Cluster 8', 'right')\n",
      "local-nb_cs-ii-29_import-tests (  32): INFO : Region 302 - ('Rhombencephalon', 'MiT', 'left')\n",
      "local-nb_cs-ii-29_import-tests (  32): INFO : Region 303 - ('Rhombencephalon', 'MiT', 'right')\n",
      "local-nb_cs-ii-29_import-tests (  32): INFO : Region 304 - ('Rhombencephalon', 'Gad1b Cluster 6', 'left')\n",
      "local-nb_cs-ii-29_import-tests (  32): INFO : Region 305 - ('Rhombencephalon', 'Gad1b Cluster 6', 'right')\n",
      "local-nb_cs-ii-29_import-tests (  32): INFO : Region 306 - ('Rhombencephalon', 'CaD', 'left')\n",
      "local-nb_cs-ii-29_import-tests (  32): INFO : Region 307 - ('Rhombencephalon', 'CaD', 'right')\n",
      "local-nb_cs-ii-29_import-tests (  32): INFO : Region 308 - ('Rhombencephalon', 'MiV2', 'left')\n",
      "local-nb_cs-ii-29_import-tests (  32): INFO : Region 309 - ('Rhombencephalon', 'MiV2', 'right')\n",
      "local-nb_cs-ii-29_import-tests (  32): INFO : Region 310 - ('Rhombencephalon', 'Oxtl Cluster 2 Near MC axon cap', 'left')\n",
      "local-nb_cs-ii-29_import-tests (  32): INFO : Region 311 - ('Rhombencephalon', 'Oxtl Cluster 2 Near MC axon cap', 'right')\n",
      "local-nb_cs-ii-29_import-tests (  32): INFO : Region 312 - ('Rhombencephalon', 'MiD3', 'left')\n",
      "local-nb_cs-ii-29_import-tests (  32): INFO : Region 313 - ('Rhombencephalon', 'MiD3', 'right')\n",
      "local-nb_cs-ii-29_import-tests (  32): INFO : Region 314 - ('Rhombencephalon', '6.7FDhcrtR-Gal4 Cluster 2 Sparse', 'left')\n",
      "local-nb_cs-ii-29_import-tests (  32): INFO : Region 315 - ('Rhombencephalon', '6.7FDhcrtR-Gal4 Cluster 2 Sparse', 'right')\n",
      "local-nb_cs-ii-29_import-tests (  32): INFO : Region 316 - ('Rhombencephalon', 'Gad1b Cluster 15', 'left')\n",
      "local-nb_cs-ii-29_import-tests (  32): INFO : Region 317 - ('Rhombencephalon', 'Gad1b Cluster 15', 'right')\n",
      "local-nb_cs-ii-29_import-tests (  32): INFO : Region 318 - ('Rhombencephalon', 'Spinal Backfill Vestibular Population', 'left')\n",
      "local-nb_cs-ii-29_import-tests (  32): INFO : Region 319 - ('Rhombencephalon', 'Spinal Backfill Vestibular Population', 'right')\n",
      "local-nb_cs-ii-29_import-tests (  32): INFO : Region 320 - ('Rhombencephalon', 'Otpb Cluster 4', 'left')\n",
      "local-nb_cs-ii-29_import-tests (  32): INFO : Region 321 - ('Rhombencephalon', 'Otpb Cluster 4', 'right')\n",
      "local-nb_cs-ii-29_import-tests (  32): INFO : Region 322 - ('Rhombencephalon', 'RoM3', 'left')\n",
      "local-nb_cs-ii-29_import-tests (  32): INFO : Region 323 - ('Rhombencephalon', 'RoM3', 'right')\n",
      "local-nb_cs-ii-29_import-tests (  32): INFO : Region 324 - ('Rhombencephalon', 'Otpb Cluster 2 - locus coeruleus', 'left')\n",
      "local-nb_cs-ii-29_import-tests (  32): INFO : Region 325 - ('Rhombencephalon', 'Otpb Cluster 2 - locus coeruleus', 'right')\n",
      "local-nb_cs-ii-29_import-tests (  32): INFO : Region 326 - ('Diencephalon', 'Hypothalamus 6.7FRhcrtR-Gal4 cluster 2', 'left')\n",
      "local-nb_cs-ii-29_import-tests (  32): INFO : Region 327 - ('Diencephalon', 'Hypothalamus 6.7FRhcrtR-Gal4 cluster 2', 'right')\n",
      "local-nb_cs-ii-29_import-tests (  32): INFO : Region 328 - ('Diencephalon', 'Dopaminergic Cluster 3 - hypothalamus', 'left')\n",
      "local-nb_cs-ii-29_import-tests (  32): INFO : Region 329 - ('Diencephalon', 'Dopaminergic Cluster 3 - hypothalamus', 'right')\n",
      "local-nb_cs-ii-29_import-tests (  32): INFO : Region 330 - ('Ganglia', 'Facial Sensory Ganglion', 'left')\n",
      "local-nb_cs-ii-29_import-tests (  32): INFO : Region 331 - ('Ganglia', 'Facial Sensory Ganglion', 'right')\n",
      "local-nb_cs-ii-29_import-tests (  32): INFO : Region 332 - ('Rhombencephalon', 'Isl1 Stripe 1', 'left')\n",
      "local-nb_cs-ii-29_import-tests (  32): INFO : Region 333 - ('Rhombencephalon', 'Isl1 Stripe 1', 'right')\n",
      "local-nb_cs-ii-29_import-tests (  32): INFO : Region 334 - ('Mesencephalon', 'Vmat2 cluster2', 'left')\n",
      "local-nb_cs-ii-29_import-tests (  32): INFO : Region 335 - ('Mesencephalon', 'Vmat2 cluster2', 'right')\n",
      "local-nb_cs-ii-29_import-tests (  32): INFO : Region 336 - ('Diencephalon', 'Pineal', 'left')\n",
      "local-nb_cs-ii-29_import-tests (  32): INFO : Region 337 - ('Diencephalon', 'Pineal', 'right')\n",
      "local-nb_cs-ii-29_import-tests (  32): INFO : Region 338 - ('Rhombencephalon', '6.7FDhcrtR-Gal4 Stripe 4', 'left')\n",
      "local-nb_cs-ii-29_import-tests (  32): INFO : Region 339 - ('Rhombencephalon', '6.7FDhcrtR-Gal4 Stripe 4', 'right')\n",
      "local-nb_cs-ii-29_import-tests (  32): INFO : Region 340 - ('Rhombencephalon', 'Raphe - Inferior', 'left')\n",
      "local-nb_cs-ii-29_import-tests (  32): INFO : Region 341 - ('Rhombencephalon', 'Raphe - Inferior', 'right')\n",
      "local-nb_cs-ii-29_import-tests (  32): INFO : Region 342 - ('Diencephalon', 'Otpb Cluster 4', 'left')\n",
      "local-nb_cs-ii-29_import-tests (  32): INFO : Region 343 - ('Diencephalon', 'Otpb Cluster 4', 'right')\n",
      "local-nb_cs-ii-29_import-tests (  32): INFO : Region 344 - ('Diencephalon', 'Eminentia Thalami', 'left')\n",
      "local-nb_cs-ii-29_import-tests (  32): INFO : Region 345 - ('Diencephalon', 'Eminentia Thalami', 'right')\n",
      "local-nb_cs-ii-29_import-tests (  32): INFO : Region 346 - ('Diencephalon', 'Migrated Area of the Pretectum (M1)', 'left')\n",
      "local-nb_cs-ii-29_import-tests (  32): INFO : Region 347 - ('Diencephalon', 'Migrated Area of the Pretectum (M1)', 'right')\n",
      "local-nb_cs-ii-29_import-tests (  32): INFO : Region 348 - ('Rhombencephalon', 'Vmat2 Stripe2', 'left')\n",
      "local-nb_cs-ii-29_import-tests (  32): INFO : Region 349 - ('Rhombencephalon', 'Vmat2 Stripe2', 'right')\n",
      "local-nb_cs-ii-29_import-tests (  32): INFO : Region 350 - ('Rhombencephalon', '6.7FDhcrtR-Gal4 Cluster 1', 'left')\n",
      "local-nb_cs-ii-29_import-tests (  32): INFO : Region 351 - ('Rhombencephalon', '6.7FDhcrtR-Gal4 Cluster 1', 'right')\n",
      "local-nb_cs-ii-29_import-tests (  32): INFO : Region 352 - ('Rhombencephalon', 'Tangential Vestibular Nucleus', 'left')\n",
      "local-nb_cs-ii-29_import-tests (  32): INFO : Region 353 - ('Rhombencephalon', 'Tangential Vestibular Nucleus', 'right')\n",
      "local-nb_cs-ii-29_import-tests (  32): INFO : Region 354 - ('Rhombencephalon', 'Caudal Ventral Cluster Labelled by Spinal Backfills', 'left')\n",
      "local-nb_cs-ii-29_import-tests (  32): INFO : Region 355 - ('Rhombencephalon', 'Caudal Ventral Cluster Labelled by Spinal Backfills', 'right')\n",
      "local-nb_cs-ii-29_import-tests (  32): INFO : Region 356 - ('Diencephalon', 'Dopaminergic Cluster 4/5 - posterior tuberculum and hypothalamus', 'left')\n",
      "local-nb_cs-ii-29_import-tests (  32): INFO : Region 357 - ('Diencephalon', 'Dopaminergic Cluster 4/5 - posterior tuberculum and hypothalamus', 'right')\n",
      "local-nb_cs-ii-29_import-tests (  32): INFO : Region 358 - ('Spinal Cord', 'Olig2 Stripe', 'left')\n",
      "local-nb_cs-ii-29_import-tests (  32): INFO : Region 359 - ('Spinal Cord', 'Olig2 Stripe', 'right')\n",
      "local-nb_cs-ii-29_import-tests (  32): INFO : Region 360 - ('Diencephalon', 'Optic Chiasm', 'left')\n",
      "local-nb_cs-ii-29_import-tests (  32): INFO : Region 361 - ('Diencephalon', 'Optic Chiasm', 'right')\n",
      "local-nb_cs-ii-29_import-tests (  32): INFO : Region 362 - ('Rhombencephalon', 'Medial Vestibular Nucleus', 'left')\n",
      "local-nb_cs-ii-29_import-tests (  32): INFO : Region 363 - ('Rhombencephalon', 'Medial Vestibular Nucleus', 'right')\n",
      "local-nb_cs-ii-29_import-tests (  32): INFO : Region 364 - ('Diencephalon', 'Dopaminergic Cluster 7 - Caudal Hypothalamus', 'left')\n",
      "local-nb_cs-ii-29_import-tests (  32): INFO : Region 365 - ('Diencephalon', 'Dopaminergic Cluster 7 - Caudal Hypothalamus', 'right')\n",
      "local-nb_cs-ii-29_import-tests (  32): INFO : Region 366 - ('Spinal Cord', 'Vmat2 Stripe1', 'left')\n",
      "local-nb_cs-ii-29_import-tests (  32): INFO : Region 367 - ('Spinal Cord', 'Vmat2 Stripe1', 'right')\n",
      "local-nb_cs-ii-29_import-tests (  32): INFO : Region 368 - ('Diencephalon', 'Preoptic Otpb Cluster', 'left')\n",
      "local-nb_cs-ii-29_import-tests (  32): INFO : Region 369 - ('Diencephalon', 'Preoptic Otpb Cluster', 'right')\n",
      "local-nb_cs-ii-29_import-tests (  32): INFO : Region 370 - ('Rhombencephalon', 'Vglut2 cluster 1', 'left')\n",
      "local-nb_cs-ii-29_import-tests (  32): INFO : Region 371 - ('Rhombencephalon', 'Vglut2 cluster 1', 'right')\n",
      "local-nb_cs-ii-29_import-tests (  32): INFO : Region 372 - ('Rhombencephalon', '6.7FDhcrtR-Gal4 Stripe 2', 'left')\n",
      "local-nb_cs-ii-29_import-tests (  32): INFO : Region 373 - ('Rhombencephalon', '6.7FDhcrtR-Gal4 Stripe 2', 'right')\n",
      "local-nb_cs-ii-29_import-tests (  32): INFO : Region 374 - ('Rhombencephalon', 'Anterior Cluster of nV Trigeminal Motorneurons', 'left')\n",
      "local-nb_cs-ii-29_import-tests (  32): INFO : Region 375 - ('Rhombencephalon', 'Anterior Cluster of nV Trigeminal Motorneurons', 'right')\n",
      "local-nb_cs-ii-29_import-tests (  32): INFO : Region 376 - ('Telencephalon', 'S1181t Cluster', 'left')\n",
      "local-nb_cs-ii-29_import-tests (  32): INFO : Region 377 - ('Telencephalon', 'S1181t Cluster', 'right')\n",
      "local-nb_cs-ii-29_import-tests (  32): INFO : Region 378 - ('Mesencephalon', 'Oculomotor Nucleus nIII', 'left')\n",
      "local-nb_cs-ii-29_import-tests (  32): INFO : Region 379 - ('Mesencephalon', 'Oculomotor Nucleus nIII', 'right')\n",
      "local-nb_cs-ii-29_import-tests (  32): INFO : Region 380 - ('Diencephalon', 'Hypothalamus Vglut2 Cluster 6', 'left')\n",
      "local-nb_cs-ii-29_import-tests (  32): INFO : Region 381 - ('Diencephalon', 'Hypothalamus Vglut2 Cluster 6', 'right')\n",
      "local-nb_cs-ii-29_import-tests (  32): INFO : Region 382 - ('Rhombencephalon', 'Vmat2 Cluster 5', 'left')\n",
      "local-nb_cs-ii-29_import-tests (  32): INFO : Region 383 - ('Rhombencephalon', 'Vmat2 Cluster 5', 'right')\n",
      "local-nb_cs-ii-29_import-tests (  32): INFO : Region 384 - ('Rhombencephalon', 'Interpeduncular Nucleus', 'left')\n",
      "local-nb_cs-ii-29_import-tests (  32): INFO : Region 385 - ('Rhombencephalon', 'Interpeduncular Nucleus', 'right')\n",
      "local-nb_cs-ii-29_import-tests (  32): INFO : Region 386 - ('Rhombencephalon', 'Noradrendergic neurons of the Interfascicular and Vagal areas', 'left')\n",
      "local-nb_cs-ii-29_import-tests (  32): INFO : Region 387 - ('Rhombencephalon', 'Noradrendergic neurons of the Interfascicular and Vagal areas', 'right')\n",
      "local-nb_cs-ii-29_import-tests (  32): INFO : Region 388 - ('Spinal Cord', 'Vglut2 Stripe 2', 'left')\n",
      "local-nb_cs-ii-29_import-tests (  32): INFO : Region 389 - ('Spinal Cord', 'Vglut2 Stripe 2', 'right')\n",
      "local-nb_cs-ii-29_import-tests (  32): INFO : Region 390 - ('Rhombencephalon', 'Gad1b Cluster 2', 'left')\n",
      "local-nb_cs-ii-29_import-tests (  32): INFO : Region 391 - ('Rhombencephalon', 'Gad1b Cluster 2', 'right')\n",
      "local-nb_cs-ii-29_import-tests (  32): INFO : Region 392 - ('Diencephalon', 'Hypothalamus Vglut2 Cluster 3', 'left')\n",
      "local-nb_cs-ii-29_import-tests (  32): INFO : Region 393 - ('Diencephalon', 'Hypothalamus Vglut2 Cluster 3', 'right')\n",
      "local-nb_cs-ii-29_import-tests (  32): INFO : Region 394 - ('Ganglia', 'Vagal Ganglia', 'left')\n",
      "local-nb_cs-ii-29_import-tests (  32): INFO : Region 395 - ('Ganglia', 'Vagal Ganglia', 'right')\n",
      "local-nb_cs-ii-29_import-tests (  32): INFO : Region 396 - ('Diencephalon', 'Pretectal dopaminergic cluster', 'left')\n",
      "local-nb_cs-ii-29_import-tests (  32): INFO : Region 397 - ('Diencephalon', 'Pretectal dopaminergic cluster', 'right')\n",
      "local-nb_cs-ii-29_import-tests (  32): INFO : Region 398 - ('Diencephalon', 'Pituitary', 'left')\n",
      "local-nb_cs-ii-29_import-tests (  32): INFO : Region 399 - ('Diencephalon', 'Pituitary', 'right')\n",
      "local-nb_cs-ii-29_import-tests (  32): INFO : Region 400 - ('Telencephalon', 'Postoptic Commissure', 'left')\n",
      "local-nb_cs-ii-29_import-tests (  32): INFO : Region 401 - ('Telencephalon', 'Postoptic Commissure', 'right')\n",
      "local-nb_cs-ii-29_import-tests (  32): INFO : Region 402 - ('Rhombencephalon', 'Eminentia Granularis', 'left')\n",
      "local-nb_cs-ii-29_import-tests (  32): INFO : Region 403 - ('Rhombencephalon', 'Eminentia Granularis', 'right')\n",
      "local-nb_cs-ii-29_import-tests (  32): INFO : Region 404 - ('Diencephalon', 'Ventral Thalamus', 'left')\n",
      "local-nb_cs-ii-29_import-tests (  32): INFO : Region 405 - ('Diencephalon', 'Ventral Thalamus', 'right')\n",
      "local-nb_cs-ii-29_import-tests (  32): INFO : Region 406 - ('Diencephalon', 'Habenula', 'left')\n",
      "local-nb_cs-ii-29_import-tests (  32): INFO : Region 407 - ('Diencephalon', 'Habenula', 'right')\n",
      "local-nb_cs-ii-29_import-tests (  32): INFO : Region 408 - ('Telencephalon', 'Olfactory Bulb', 'left')\n",
      "local-nb_cs-ii-29_import-tests (  32): INFO : Region 409 - ('Telencephalon', 'Olfactory Bulb', 'right')\n",
      "local-nb_cs-ii-29_import-tests (  32): INFO : Region 410 - ('Spinal Cord', 'Neuropil Region', 'left')\n",
      "local-nb_cs-ii-29_import-tests (  32): INFO : Region 411 - ('Spinal Cord', 'Neuropil Region', 'right')\n",
      "local-nb_cs-ii-29_import-tests (  32): INFO : Region 412 - ('Rhombencephalon', 'Corpus Cerebelli', 'left')\n",
      "local-nb_cs-ii-29_import-tests (  32): INFO : Region 413 - ('Rhombencephalon', 'Corpus Cerebelli', 'right')\n",
      "local-nb_cs-ii-29_import-tests (  32): INFO : Region 414 - ('Mesencephalon', 'Tectum Stratum Periventriculare', 'left')\n",
      "local-nb_cs-ii-29_import-tests (  32): INFO : Region 415 - ('Mesencephalon', 'Tectum Stratum Periventriculare', 'right')\n",
      "local-nb_cs-ii-29_import-tests (  32): INFO : Region 416 - ('Rhombencephalon', 'CaV', 'left')\n",
      "local-nb_cs-ii-29_import-tests (  32): INFO : Region 417 - ('Rhombencephalon', 'CaV', 'right')\n",
      "local-nb_cs-ii-29_import-tests (  32): INFO : Region 418 - ('Rhombencephalon', 'Posterior Cluster of nV Trigeminal Motorneurons', 'left')\n",
      "local-nb_cs-ii-29_import-tests (  32): INFO : Region 419 - ('Rhombencephalon', 'Posterior Cluster of nV Trigeminal Motorneurons', 'right')\n",
      "local-nb_cs-ii-29_import-tests (  32): INFO : Region 420 - ('Rhombencephalon', 'Glyt2 Cluster 14', 'left')\n",
      "local-nb_cs-ii-29_import-tests (  32): INFO : Region 421 - ('Rhombencephalon', 'Glyt2 Cluster 14', 'right')\n",
      "local-nb_cs-ii-29_import-tests (  32): INFO : Region 422 - ('Diencephalon', 'Oxtl Cluster 3', 'left')\n",
      "local-nb_cs-ii-29_import-tests (  32): INFO : Region 423 - ('Diencephalon', 'Oxtl Cluster 3', 'right')\n",
      "local-nb_cs-ii-29_import-tests (  32): INFO : Region 424 - ('Rhombencephalon', 'Glyt2 Cluster 6', 'left')\n",
      "local-nb_cs-ii-29_import-tests (  32): INFO : Region 425 - ('Rhombencephalon', 'Glyt2 Cluster 6', 'right')\n",
      "local-nb_cs-ii-29_import-tests (  32): INFO : Region 426 - ('Rhombencephalon', 'Locus Coreuleus', 'left')\n",
      "local-nb_cs-ii-29_import-tests (  32): INFO : Region 427 - ('Rhombencephalon', 'Locus Coreuleus', 'right')\n",
      "local-nb_cs-ii-29_import-tests (  32): INFO : Region 428 - ('Diencephalon', 'Hypothalamus Qrfp neuron cluster', 'left')\n",
      "local-nb_cs-ii-29_import-tests (  32): INFO : Region 429 - ('Diencephalon', 'Hypothalamus Qrfp neuron cluster', 'right')\n",
      "local-nb_cs-ii-29_import-tests (  32): INFO : Region 430 - ('Spinal Cord', 'Vglut2 Stripe 3', 'left')\n",
      "local-nb_cs-ii-29_import-tests (  32): INFO : Region 431 - ('Spinal Cord', 'Vglut2 Stripe 3', 'right')\n",
      "local-nb_cs-ii-29_import-tests (  32): INFO : Region 432 - ('Rhombencephalon', 'Vglut2 Stripe 2', 'left')\n",
      "local-nb_cs-ii-29_import-tests (  32): INFO : Region 433 - ('Rhombencephalon', 'Vglut2 Stripe 2', 'right')\n",
      "local-nb_cs-ii-29_import-tests (  32): INFO : Region 434 - ('Mesencephalon', 'Vmat2 cluster of paraventricular organ', 'left')\n",
      "local-nb_cs-ii-29_import-tests (  32): INFO : Region 435 - ('Mesencephalon', 'Vmat2 cluster of paraventricular organ', 'right')\n",
      "local-nb_cs-ii-29_import-tests (  32): INFO : Region 436 - ('Rhombencephalon', 'Isl1 Cluster 1', 'left')\n",
      "local-nb_cs-ii-29_import-tests (  32): INFO : Region 437 - ('Rhombencephalon', 'Isl1 Cluster 1', 'right')\n",
      "local-nb_cs-ii-29_import-tests (  32): INFO : Region 438 - ('Rhombencephalon', 'VII Facial Motor and octavolateralis efferent neurons', 'left')\n",
      "local-nb_cs-ii-29_import-tests (  32): INFO : Region 439 - ('Rhombencephalon', 'VII Facial Motor and octavolateralis efferent neurons', 'right')\n",
      "local-nb_cs-ii-29_import-tests (  32): INFO : Region 440 - ('Diencephalon', 'Otpb Cluster 2', 'left')\n",
      "local-nb_cs-ii-29_import-tests (  32): INFO : Region 441 - ('Diencephalon', 'Otpb Cluster 2', 'right')\n",
      "local-nb_cs-ii-29_import-tests (  32): INFO : Region 442 - ('Diencephalon', 'Hypothamic VentroLateral VMAT cluster', 'left')\n",
      "local-nb_cs-ii-29_import-tests (  32): INFO : Region 443 - ('Diencephalon', 'Hypothamic VentroLateral VMAT cluster', 'right')\n",
      "local-nb_cs-ii-29_import-tests (  32): INFO : Region 444 - ('Rhombencephalon', 'Gad1b Cluster 13', 'left')\n",
      "local-nb_cs-ii-29_import-tests (  32): INFO : Region 445 - ('Rhombencephalon', 'Gad1b Cluster 13', 'right')\n",
      "local-nb_cs-ii-29_import-tests (  32): INFO : Region 446 - ('Telencephalon', 'Vmat2 cluster', 'left')\n",
      "local-nb_cs-ii-29_import-tests (  32): INFO : Region 447 - ('Telencephalon', 'Vmat2 cluster', 'right')\n",
      "local-nb_cs-ii-29_import-tests (  32): INFO : Region 448 - ('Rhombencephalon', 'Ptf1a Cluster 1', 'left')\n",
      "local-nb_cs-ii-29_import-tests (  32): INFO : Region 449 - ('Rhombencephalon', 'Ptf1a Cluster 1', 'right')\n",
      "local-nb_cs-ii-29_import-tests (  32): INFO : Region 450 - ('Rhombencephalon', 'Raphe - Superior', 'left')\n",
      "local-nb_cs-ii-29_import-tests (  32): INFO : Region 451 - ('Rhombencephalon', 'Raphe - Superior', 'right')\n",
      "local-nb_cs-ii-29_import-tests (  32): INFO : Region 452 - ('Rhombencephalon', 'Olig2 Stripe', 'left')\n",
      "local-nb_cs-ii-29_import-tests (  32): INFO : Region 453 - ('Rhombencephalon', 'Olig2 Stripe', 'right')\n",
      "local-nb_cs-ii-29_import-tests (  32): INFO : Region 454 - ('Diencephalon', 'Migrated Posterior Tubercular Area (M2)', 'left')\n",
      "local-nb_cs-ii-29_import-tests (  32): INFO : Region 455 - ('Diencephalon', 'Migrated Posterior Tubercular Area (M2)', 'right')\n",
      "local-nb_cs-ii-29_import-tests (  32): INFO : Region 456 - ('Mesencephalon', 'Vglut2 cluster 1', 'left')\n",
      "local-nb_cs-ii-29_import-tests (  32): INFO : Region 457 - ('Mesencephalon', 'Vglut2 cluster 1', 'right')\n",
      "local-nb_cs-ii-29_import-tests (  32): INFO : Region 458 - ('Rhombencephalon', 'Glyt2 Cluster 13', 'left')\n",
      "local-nb_cs-ii-29_import-tests (  32): INFO : Region 459 - ('Rhombencephalon', 'Glyt2 Cluster 13', 'right')\n",
      "local-nb_cs-ii-29_import-tests (  32): INFO : Region 460 - ('Telencephalon', 'Isl1 cluster 1', 'left')\n",
      "local-nb_cs-ii-29_import-tests (  32): INFO : Region 461 - ('Telencephalon', 'Isl1 cluster 1', 'right')\n",
      "local-nb_cs-ii-29_import-tests (  32): INFO : Region 462 - ('Spinal Cord', 'Neurons with descending projections labelled by spinal backfills', 'left')\n",
      "local-nb_cs-ii-29_import-tests (  32): INFO : Region 463 - ('Spinal Cord', 'Neurons with descending projections labelled by spinal backfills', 'right')\n",
      "local-nb_cs-ii-29_import-tests (  32): INFO : Region 464 - ('Rhombencephalon', 'Gad1b Stripe 2', 'left')\n",
      "local-nb_cs-ii-29_import-tests (  32): INFO : Region 465 - ('Rhombencephalon', 'Gad1b Stripe 2', 'right')\n",
      "local-nb_cs-ii-29_import-tests (  32): INFO : Region 466 - ('Rhombencephalon', 'Olig2 enriched areas in cerebellum', 'left')\n",
      "local-nb_cs-ii-29_import-tests (  32): INFO : Region 467 - ('Rhombencephalon', 'Olig2 enriched areas in cerebellum', 'right')\n",
      "local-nb_cs-ii-29_import-tests (  32): INFO : Region 468 - ('Diencephalon', 'Dorsal Thalamus', 'left')\n",
      "local-nb_cs-ii-29_import-tests (  32): INFO : Region 469 - ('Diencephalon', 'Dorsal Thalamus', 'right')\n",
      "local-nb_cs-ii-29_import-tests (  32): INFO : Region 470 - ('Diencephalon', 'Diffuse Nucleus of the Intermediate Hypothalamus', 'left')\n",
      "local-nb_cs-ii-29_import-tests (  32): INFO : Region 471 - ('Diencephalon', 'Diffuse Nucleus of the Intermediate Hypothalamus', 'right')\n",
      "local-nb_cs-ii-29_import-tests (  32): INFO : Region 472 - ('Rhombencephalon', 'Neuropil Region 2', 'left')\n",
      "local-nb_cs-ii-29_import-tests (  32): INFO : Region 473 - ('Rhombencephalon', 'Neuropil Region 2', 'right')\n",
      "local-nb_cs-ii-29_import-tests (  32): INFO : Region 474 - ('Diencephalon', 'Hypothalamus - Caudal Hypothalamus Neural Cluster', 'left')\n",
      "local-nb_cs-ii-29_import-tests (  32): INFO : Region 475 - ('Diencephalon', 'Hypothalamus - Caudal Hypothalamus Neural Cluster', 'right')\n",
      "local-nb_cs-ii-29_import-tests (  32): INFO : Region 476 - ('Telencephalon', 'Vglut2 rind', 'left')\n",
      "local-nb_cs-ii-29_import-tests (  32): INFO : Region 477 - ('Telencephalon', 'Vglut2 rind', 'right')\n",
      "local-nb_cs-ii-29_import-tests (  32): INFO : Region 478 - ('Mesencephalon', 'Torus Semicircularis', 'left')\n",
      "local-nb_cs-ii-29_import-tests (  32): INFO : Region 479 - ('Mesencephalon', 'Torus Semicircularis', 'right')\n",
      "local-nb_cs-ii-29_import-tests (  32): INFO : Region 480 - ('Diencephalon', 'Dopaminergic Cluster 2 - posterior tuberculum', 'left')\n",
      "local-nb_cs-ii-29_import-tests (  32): INFO : Region 481 - ('Diencephalon', 'Dopaminergic Cluster 2 - posterior tuberculum', 'right')\n",
      "local-nb_cs-ii-29_import-tests (  32): INFO : Region 482 - ('Rhombencephalon', 'Glyt2 Stripe 2', 'left')\n",
      "local-nb_cs-ii-29_import-tests (  32): INFO : Region 483 - ('Rhombencephalon', 'Glyt2 Stripe 2', 'right')\n",
      "local-nb_cs-ii-29_import-tests (  32): INFO : Region 484 - ('Diencephalon', 'Dopaminergic Cluster 1 - ventral thalamic and periventricular posterior tubercular DA neurons', 'left')\n",
      "local-nb_cs-ii-29_import-tests (  32): INFO : Region 485 - ('Diencephalon', 'Dopaminergic Cluster 1 - ventral thalamic and periventricular posterior tubercular DA neurons', 'right')\n",
      "local-nb_cs-ii-29_import-tests (  32): INFO : Region 486 - ('Diencephalon', 'Medial vglut2 cluster', 'left')\n",
      "local-nb_cs-ii-29_import-tests (  32): INFO : Region 487 - ('Diencephalon', 'Medial vglut2 cluster', 'right')\n",
      "local-nb_cs-ii-29_import-tests (  32): INFO : Region 488 - ('Rhombencephalon', 'Neuropil Region 6', 'left')\n",
      "local-nb_cs-ii-29_import-tests (  32): INFO : Region 489 - ('Rhombencephalon', 'Neuropil Region 6', 'right')\n",
      "local-nb_cs-ii-29_import-tests (  32): INFO : Region 490 - ('Telencephalon', 'Subpallial Otpb Cluster 2', 'left')\n",
      "local-nb_cs-ii-29_import-tests (  32): INFO : Region 491 - ('Telencephalon', 'Subpallial Otpb Cluster 2', 'right')\n",
      "local-nb_cs-ii-29_import-tests (  32): INFO : Region 492 - ('Rhombencephalon', 'Vglut2 Stripe 3', 'left')\n",
      "local-nb_cs-ii-29_import-tests (  32): INFO : Region 493 - ('Rhombencephalon', 'Vglut2 Stripe 3', 'right')\n",
      "local-nb_cs-ii-29_import-tests (  32): INFO : Region 494 - ('Rhombencephalon', 'Glyt2 Cluster 1', 'left')\n",
      "local-nb_cs-ii-29_import-tests (  32): INFO : Region 495 - ('Rhombencephalon', 'Glyt2 Cluster 1', 'right')\n",
      "local-nb_cs-ii-29_import-tests (  32): INFO : Region 496 - ('Spinal Cord', 'Vglut2 Stripe 1', 'left')\n",
      "local-nb_cs-ii-29_import-tests (  32): INFO : Region 497 - ('Spinal Cord', 'Vglut2 Stripe 1', 'right')\n",
      "local-nb_cs-ii-29_import-tests (  32): INFO : Region 498 - ('Diencephalon', 'Anterior pretectum cluster of vmat2 Neurons', 'left')\n",
      "local-nb_cs-ii-29_import-tests (  32): INFO : Region 499 - ('Diencephalon', 'Anterior pretectum cluster of vmat2 Neurons', 'right')\n",
      "local-nb_cs-ii-29_import-tests (  32): INFO : Region 500 - ('Rhombencephalon', 'Vglut2 Stripe 4', 'left')\n",
      "local-nb_cs-ii-29_import-tests (  32): INFO : Region 501 - ('Rhombencephalon', 'Vglut2 Stripe 4', 'right')\n",
      "local-nb_cs-ii-29_import-tests (  32): INFO : Region 502 - ('Rhombencephalon', 'Ptf1a Stripe', 'left')\n",
      "local-nb_cs-ii-29_import-tests (  32): INFO : Region 503 - ('Rhombencephalon', 'Ptf1a Stripe', 'right')\n",
      "local-nb_cs-ii-29_import-tests (  32): INFO : Region 504 - ('Rhombencephalon', 'Neuropil Region 4', 'left')\n",
      "local-nb_cs-ii-29_import-tests (  32): INFO : Region 505 - ('Rhombencephalon', 'Neuropil Region 4', 'right')\n",
      "local-nb_cs-ii-29_import-tests (  32): INFO : Region 506 - ('Rhombencephalon', 'Cerebelluar-Vglut2 enriched areas', 'left')\n",
      "local-nb_cs-ii-29_import-tests (  32): INFO : Region 507 - ('Rhombencephalon', 'Cerebelluar-Vglut2 enriched areas', 'right')\n",
      "local-nb_cs-ii-29_import-tests (  32): INFO : Region 508 - ('Rhombencephalon', 'Neuropil Region 3', 'left')\n",
      "local-nb_cs-ii-29_import-tests (  32): INFO : Region 509 - ('Rhombencephalon', 'Neuropil Region 3', 'right')\n",
      "local-nb_cs-ii-29_import-tests (  32): INFO : Region 510 - ('Diencephalon', 'Caudal Hypothalamus', 'left')\n",
      "local-nb_cs-ii-29_import-tests (  32): INFO : Region 511 - ('Diencephalon', 'Caudal Hypothalamus', 'right')\n",
      "local-nb_cs-ii-29_import-tests (  32): INFO : Region 512 - ('Mesencephalon', 'Tegmentum', 'left')\n",
      "local-nb_cs-ii-29_import-tests (  32): INFO : Region 513 - ('Mesencephalon', 'Tegmentum', 'right')\n",
      "local-nb_cs-ii-29_import-tests (  32): INFO : Region 514 - ('Telencephalon', 'Pallium', 'left')\n",
      "local-nb_cs-ii-29_import-tests (  32): INFO : Region 515 - ('Telencephalon', 'Pallium', 'right')\n",
      "local-nb_cs-ii-29_import-tests (  32): INFO : Region 516 - ('Diencephalon', 'Hypothalamus Hcrt Neurons', 'left')\n",
      "local-nb_cs-ii-29_import-tests (  32): INFO : Region 517 - ('Diencephalon', 'Hypothalamus Hcrt Neurons', 'right')\n",
      "local-nb_cs-ii-29_import-tests (  32): INFO : Region 518 - ('Diencephalon', 'Hypothalamus 6.7FRhcrtR-Gal4 cluster 1', 'left')\n",
      "local-nb_cs-ii-29_import-tests (  32): INFO : Region 519 - ('Diencephalon', 'Hypothalamus 6.7FRhcrtR-Gal4 cluster 1', 'right')\n",
      "local-nb_cs-ii-29_import-tests (  32): INFO : Region 520 - ('Rhombencephalon', 'Glyt2 Stripe 3', 'left')\n",
      "local-nb_cs-ii-29_import-tests (  32): INFO : Region 521 - ('Rhombencephalon', 'Glyt2 Stripe 3', 'right')\n",
      "local-nb_cs-ii-29_import-tests (  32): INFO : Region 522 - ('Rhombencephalon', 'S1181t Cluster', 'left')\n",
      "local-nb_cs-ii-29_import-tests (  32): INFO : Region 523 - ('Rhombencephalon', 'S1181t Cluster', 'right')\n",
      "local-nb_cs-ii-29_import-tests (  32): INFO : Region 524 - ('Rhombencephalon', 'X Vagus motorneuron cluster', 'left')\n",
      "local-nb_cs-ii-29_import-tests (  32): INFO : Region 525 - ('Rhombencephalon', 'X Vagus motorneuron cluster', 'right')\n",
      "local-nb_cs-ii-29_import-tests (  32): INFO : Region 526 - ('Diencephalon', 'Olig2 Band 2', 'left')\n",
      "local-nb_cs-ii-29_import-tests (  32): INFO : Region 527 - ('Diencephalon', 'Olig2 Band 2', 'right')\n",
      "local-nb_cs-ii-29_import-tests (  32): INFO : Region 528 - ('Spinal Cord', 'Glyt2 Stripe', 'left')\n",
      "local-nb_cs-ii-29_import-tests (  32): INFO : Region 529 - ('Spinal Cord', 'Glyt2 Stripe', 'right')\n",
      "local-nb_cs-ii-29_import-tests (  32): INFO : Region 530 - ('Diencephalon', 'Pretectum', 'left')\n",
      "local-nb_cs-ii-29_import-tests (  32): INFO : Region 531 - ('Diencephalon', 'Pretectum', 'right')\n",
      "local-nb_cs-ii-29_import-tests (  32): INFO : Region 532 - ('Rhombencephalon', 'Vmat2 Stripe1', 'left')\n",
      "local-nb_cs-ii-29_import-tests (  32): INFO : Region 533 - ('Rhombencephalon', 'Vmat2 Stripe1', 'right')\n",
      "local-nb_cs-ii-29_import-tests (  32): INFO : Region 534 - ('Telencephalon', 'Subpallial Gad1b cluster', 'left')\n",
      "local-nb_cs-ii-29_import-tests (  32): INFO : Region 535 - ('Telencephalon', 'Subpallial Gad1b cluster', 'right')\n",
      "local-nb_cs-ii-29_import-tests (  32): INFO : Region 536 - ('Rhombencephalon', 'Cerebellum Gad1b Enriched Areas', 'left')\n",
      "local-nb_cs-ii-29_import-tests (  32): INFO : Region 537 - ('Rhombencephalon', 'Cerebellum Gad1b Enriched Areas', 'right')\n",
      "local-nb_cs-ii-29_import-tests (  32): INFO : Region 538 - ('Diencephalon', 'Intermediate Hypothalamus', 'left')\n",
      "local-nb_cs-ii-29_import-tests (  32): INFO : Region 539 - ('Diencephalon', 'Intermediate Hypothalamus', 'right')\n",
      "local-nb_cs-ii-29_import-tests (  32): INFO : Region 540 - ('Rhombencephalon', 'Neuropil Region 5', 'left')\n",
      "local-nb_cs-ii-29_import-tests (  32): INFO : Region 541 - ('Rhombencephalon', 'Neuropil Region 5', 'right')\n",
      "local-nb_cs-ii-29_import-tests (  32): INFO : Region 542 - ('Diencephalon', 'Oxtl Cluster 1 in Preoptic Area', 'left')\n",
      "local-nb_cs-ii-29_import-tests (  32): INFO : Region 543 - ('Diencephalon', 'Oxtl Cluster 1 in Preoptic Area', 'right')\n",
      "local-nb_cs-ii-29_import-tests (  32): INFO : Region 544 - ('Rhombencephalon', 'Vglut2 cluster 2', 'left')\n",
      "local-nb_cs-ii-29_import-tests (  32): INFO : Region 545 - ('Rhombencephalon', 'Vglut2 cluster 2', 'right')\n",
      "local-nb_cs-ii-29_import-tests (  32): INFO : Region 546 - ('Spinal Cord', '6.7FDhcrtR-Gal4 Stripe', 'left')\n",
      "local-nb_cs-ii-29_import-tests (  32): INFO : Region 547 - ('Spinal Cord', '6.7FDhcrtR-Gal4 Stripe', 'right')\n",
      "local-nb_cs-ii-29_import-tests (  32): INFO : Region 548 - ('Rhombencephalon', 'Gad1b Stripe 3', 'left')\n",
      "local-nb_cs-ii-29_import-tests (  32): INFO : Region 549 - ('Rhombencephalon', 'Gad1b Stripe 3', 'right')\n",
      "local-nb_cs-ii-29_import-tests (  32): INFO : Region 550 - ('Rhombencephalon', 'Gad1b Stripe 1', 'left')\n",
      "local-nb_cs-ii-29_import-tests (  32): INFO : Region 551 - ('Rhombencephalon', 'Gad1b Stripe 1', 'right')\n",
      "local-nb_cs-ii-29_import-tests (  32): INFO : Region 552 - ('Diencephalon', 'Rostral Hypothalamus', 'left')\n",
      "local-nb_cs-ii-29_import-tests (  32): INFO : Region 553 - ('Diencephalon', 'Rostral Hypothalamus', 'right')\n",
      "local-nb_cs-ii-29_import-tests (  32): INFO : Region 554 - ('Rhombencephalon', 'Vglut2 Stripe 1', 'left')\n",
      "local-nb_cs-ii-29_import-tests (  32): INFO : Region 555 - ('Rhombencephalon', 'Vglut2 Stripe 1', 'right')\n",
      "local-nb_cs-ii-29_import-tests (  32): INFO : Region 556 - ('Telencephalon', 'Subpallium', 'left')\n",
      "local-nb_cs-ii-29_import-tests (  32): INFO : Region 557 - ('Telencephalon', 'Subpallium', 'right')\n",
      "local-nb_cs-ii-29_import-tests (  32): INFO : Region 558 - ('Rhombencephalon', 'Cerebellum', 'left')\n",
      "local-nb_cs-ii-29_import-tests (  32): INFO : Region 559 - ('Rhombencephalon', 'Cerebellum', 'right')\n",
      "local-nb_cs-ii-29_import-tests (  32): INFO : Region 560 - ('Mesencephalon', 'Mesencephalon', 'left')\n",
      "local-nb_cs-ii-29_import-tests (  32): INFO : Region 561 - ('Mesencephalon', 'Mesencephalon', 'right')\n",
      "local-nb_cs-ii-29_import-tests (  32): INFO : Region 562 - ('Diencephalon', 'Posterior Tuberculum', 'left')\n",
      "local-nb_cs-ii-29_import-tests (  32): INFO : Region 563 - ('Diencephalon', 'Posterior Tuberculum', 'right')\n",
      "local-nb_cs-ii-29_import-tests (  32): INFO : Region 564 - ('Rhombencephalon', 'Rhombomere 5', 'left')\n",
      "local-nb_cs-ii-29_import-tests (  32): INFO : Region 565 - ('Rhombencephalon', 'Rhombomere 5', 'right')\n",
      "local-nb_cs-ii-29_import-tests (  32): INFO : Region 566 - ('Rhombencephalon', 'Rhombomere 4', 'left')\n",
      "local-nb_cs-ii-29_import-tests (  32): INFO : Region 567 - ('Rhombencephalon', 'Rhombomere 4', 'right')\n",
      "local-nb_cs-ii-29_import-tests (  32): INFO : Region 568 - ('Rhombencephalon', 'Rhombomere 3', 'left')\n",
      "local-nb_cs-ii-29_import-tests (  32): INFO : Region 569 - ('Rhombencephalon', 'Rhombomere 3', 'right')\n",
      "local-nb_cs-ii-29_import-tests (  32): INFO : Region 570 - ('Spinal Cord', 'Spinal Cord', 'left')\n",
      "local-nb_cs-ii-29_import-tests (  32): INFO : Region 571 - ('Spinal Cord', 'Spinal Cord', 'right')\n",
      "local-nb_cs-ii-29_import-tests (  32): INFO : Region 572 - ('Telencephalon', 'Telencephalon', 'left')\n",
      "local-nb_cs-ii-29_import-tests (  32): INFO : Region 573 - ('Telencephalon', 'Telencephalon', 'right')\n",
      "local-nb_cs-ii-29_import-tests (  32): INFO : Region 574 - ('Rhombencephalon', 'Rhombomere 1', 'left')\n",
      "local-nb_cs-ii-29_import-tests (  32): INFO : Region 575 - ('Rhombencephalon', 'Rhombomere 1', 'right')\n",
      "local-nb_cs-ii-29_import-tests (  32): INFO : Region 576 - ('Rhombencephalon', 'Rhombomere 7', 'left')\n",
      "local-nb_cs-ii-29_import-tests (  32): INFO : Region 577 - ('Rhombencephalon', 'Rhombomere 7', 'right')\n",
      "local-nb_cs-ii-29_import-tests (  32): INFO : Region 578 - ('Diencephalon', 'Preoptic Area', 'left')\n",
      "local-nb_cs-ii-29_import-tests (  32): INFO : Region 579 - ('Diencephalon', 'Preoptic Area', 'right')\n",
      "local-nb_cs-ii-29_import-tests (  32): INFO : Region 580 - ('Rhombencephalon', 'Rhombomere 6', 'left')\n",
      "local-nb_cs-ii-29_import-tests (  32): INFO : Region 581 - ('Rhombencephalon', 'Rhombomere 6', 'right')\n",
      "local-nb_cs-ii-29_import-tests (  32): INFO : Region 582 - ('Rhombencephalon', 'Rhombomere 2', 'left')\n",
      "local-nb_cs-ii-29_import-tests (  32): INFO : Region 583 - ('Rhombencephalon', 'Rhombomere 2', 'right')\n",
      "local-nb_cs-ii-29_import-tests (  32): INFO : Region 584 - ('Diencephalon', 'Diencephalon', 'left')\n",
      "local-nb_cs-ii-29_import-tests (  32): INFO : Region 585 - ('Diencephalon', 'Diencephalon', 'right')\n",
      "local-nb_cs-ii-29_import-tests (  32): INFO : Region 586 - ('Rhombencephalon', 'Rhombencephalon', 'left')\n",
      "local-nb_cs-ii-29_import-tests (  32): INFO : Region 587 - ('Rhombencephalon', 'Rhombencephalon', 'right')\n"
     ]
    }
   ],
   "source": [
    "# ALL LABELS MOD\n",
    "\n",
    "# correcting labels to create multiindex\n",
    "\n",
    "# (region, sub region, side, value type)\n",
    "multiindex_names = ['region', 'sub_region', 'lateral_side', 'value_type']\n",
    "\n",
    "value_type_list = [\n",
    "    'quantile_95', \n",
    "    'quantile_75',\n",
    "    'quantile_50',\n",
    "    'quantile_25',\n",
    "    'quantile_05',\n",
    "    'mean',\n",
    "    'variance']\n",
    "\n",
    "all_label_names: list[str] = list(it.chain(*lr_labels_names_lists))\n",
    "\n",
    "all_label_tuples: list[tuple] = []\n",
    "\n",
    "for i, label_name in enumerate(all_label_names):\n",
    "    split_result = label_name.split('-')\n",
    "    side_str = split_result[0].strip().lower()\n",
    "    region_str = split_result[1].strip()\n",
    "    subregion_str = ('-'.join(split_result[2:])).strip()\n",
    "    \n",
    "    subregion_str = subregion_str or region_str\n",
    "    \n",
    "    label_tup = (region_str, subregion_str, side_str)\n",
    "    all_label_tuples.append(label_tup)\n",
    "    \n",
    "    log.info('Region {:03d} - {}', i, label_tup)"
   ],
   "metadata": {
    "collapsed": false,
    "ExecuteTime": {
     "end_time": "2023-10-20T16:17:22.614023900Z",
     "start_time": "2023-10-20T16:17:19.254415600Z"
    }
   },
   "id": "a389863f3b52e96a"
  },
  {
   "cell_type": "code",
   "execution_count": 239,
   "outputs": [],
   "source": [
    "%matplotlib qt\n",
    "\n",
    "if live_imds.source_data.metadata['bidirectionalZ']:\n",
    "    log.info('Downscaling data due to bidirectional scan.')\n",
    "    original_size = output_traces.shape[1]\n",
    "    new_size = original_size - (0 if (original_size % 2) == 0 else 1)\n",
    "    output_traces_downscale = ski.transform.downscale_local_mean(\n",
    "        output_traces[:, :new_size],\n",
    "        factors=(1, 2))\n",
    "    new_time_vector = ski.transform.downscale_local_mean(\n",
    "        live_imds_drop.coordinates[Dim.TIME].vector[:new_size],\n",
    "        factors=(2, ))\n",
    "else:\n",
    "    output_traces_downscale = output_traces\n",
    "    new_time_vector = live_imds_drop.coordinates[Dim.TIME].vector\n",
    "    "
   ],
   "metadata": {
    "collapsed": false,
    "ExecuteTime": {
     "end_time": "2023-10-24T19:03:29.171749Z",
     "start_time": "2023-10-24T19:03:28.943114800Z"
    }
   },
   "id": "9927617cfa78e66d"
  },
  {
   "cell_type": "code",
   "execution_count": 240,
   "outputs": [
    {
     "name": "stdout",
     "output_type": "stream",
     "text": [
      "local-nb_cs-ii-29_import-tests (   1): INFO : Plotting all raw traces\n"
     ]
    }
   ],
   "source": [
    "log.info('Plotting all raw traces')\n",
    "ax = plt.subplot(1, 1, 1)\n",
    "line_plots = ax.plot(new_time_vector,\n",
    "                     output_traces_downscale.T)\n",
    "ax.legend(line_plots,\n",
    "          tuple(label_names[i] for i in arg_labels_present),\n",
    "          loc='center left',\n",
    "          bbox_to_anchor=(1, 0.5))\n",
    "box = ax.get_position()\n",
    "ax.set_position([box.x0, box.y0, box.width * 0.8, box.height])\n",
    "plt.show()"
   ],
   "metadata": {
    "collapsed": false,
    "ExecuteTime": {
     "end_time": "2023-10-24T19:03:33.084691200Z",
     "start_time": "2023-10-24T19:03:32.955550800Z"
    }
   },
   "id": "f2efa5814d295199"
  },
  {
   "cell_type": "code",
   "execution_count": 241,
   "outputs": [
    {
     "name": "stdout",
     "output_type": "stream",
     "text": [
      "local-nb_cs-ii-29_import-tests (   1): INFO : Taking moving baseline\n",
      "local-nb_cs-ii-29_import-tests (  31): INFO : output_traces_baseline.shape = (4, 1710)\n",
      "local-nb_cs-ii-29_import-tests (  35): INFO : output_traces_baseline_diff.shape = (4, 1709)\n",
      "local-nb_cs-ii-29_import-tests (  36): INFO : output_traces_baseline_diff.min() = -0.0003180999662419498, output_traces_baseline_diff.max() = 0.0001192092787840604\n",
      "local-nb_cs-ii-29_import-tests (  42): INFO : new_diff.shape = (4, 1709)\n",
      "local-nb_cs-ii-29_import-tests (  43): INFO : new_diff.min() = -1.4913111000000328e-05, new_diff.max() = 1.4913111000000328e-05\n",
      "local-nb_cs-ii-29_import-tests (  47): INFO : zero_append.shape = (4, 1)\n",
      "local-nb_cs-ii-29_import-tests (  52): INFO : rate_lim_baseline.shape = (4, 1710)\n",
      "local-nb_cs-ii-29_import-tests (  57): INFO : arg_min_baseline.shape = (4, 1)\n",
      "local-nb_cs-ii-29_import-tests (  61): INFO : min_baseline.shape = (4, 1)\n",
      "local-nb_cs-ii-29_import-tests (  68): INFO : rate_lim_baseline.shape = (4, 1710)\n",
      "local-nb_cs-ii-29_import-tests (  72): INFO : output_traces_baseline.shape = (4, 1710)\n",
      "traces_labels = \n",
      "\t  0 : #001 | 121.73k vxl | LEFT - Diencephalon -\n",
      "\t  1 : #002 | 116.20k vxl | RIGHT - Diencephalon -\n",
      "\t  2 : #003 | 211.70k vxl | LEFT - Rhombencephalon -\n",
      "\t  3 : #004 | 227.52k vxl | RIGHT - Rhombencephalon -\n",
      "traces_labels_mask = \n",
      "\t  0 : #001 | 121.73k vxl | LEFT - Diencephalon -\n",
      "\t  1 : #002 | 116.20k vxl | RIGHT - Diencephalon -\n",
      "\t  2 : #003 | 211.70k vxl | LEFT - Rhombencephalon -\n",
      "\t  3 : #004 | 227.52k vxl | RIGHT - Rhombencephalon -\n"
     ]
    }
   ],
   "source": [
    "log.info('Taking moving baseline')\n",
    "\n",
    "smooth_sigma_sec = 1.0\n",
    "smooth_sigma_truncate = 2.5\n",
    "\n",
    "smooth_sigma = np.count_nonzero(new_time_vector < smooth_sigma_sec)\n",
    "\n",
    "if smooth_sigma > 0:\n",
    "    output_traces_smooth = scipy.ndimage.gaussian_filter1d(\n",
    "        output_traces_downscale,\n",
    "        sigma=smooth_sigma,\n",
    "        axis=1,\n",
    "        mode='nearest',\n",
    "        truncate=smooth_sigma_truncate)\n",
    "else:\n",
    "    output_traces_smooth = output_traces_downscale\n",
    "\n",
    "moving_quantile_size_sec = 60 * 4\n",
    "moving_quantile_size = np.count_nonzero(new_time_vector < moving_quantile_size_sec)\n",
    "output_traces_df = pd.DataFrame(output_traces_smooth)\n",
    "output_traces_baseline = \\\n",
    "    output_traces_df\\\n",
    "    .rolling(window=moving_quantile_size,\n",
    "             min_periods=1,\n",
    "             center=False,\n",
    "             axis=1,\n",
    "             closed='both')\\\n",
    "    .quantile(0.05)\n",
    "  \n",
    "output_traces_baseline = output_traces_baseline.to_numpy()\n",
    "log.info(f'{output_traces_baseline.shape = }')\n",
    "output_traces_baseline_diff = np.diff(output_traces_baseline,\n",
    "                                      n=1,\n",
    "                                      axis=1)\n",
    "log.info(f'{output_traces_baseline_diff.shape = }')\n",
    "log.info(f'{output_traces_baseline_diff.min() = }, {output_traces_baseline_diff.max() = }')\n",
    "max_change_rate = 30E-6\n",
    "max_change_rate_norm = max_change_rate * live_imds_drop.coordinates[Dim.TIME].median_pitch\n",
    "new_diff = np.clip(output_traces_baseline_diff,\n",
    "                   a_min=(-1 * max_change_rate_norm),\n",
    "                   a_max=max_change_rate_norm)\n",
    "log.info(f'{new_diff.shape = }')\n",
    "log.info(f'{new_diff.min() = }, {new_diff.max() = }')\n",
    "zero_append = np.zeros(\n",
    "    shape=(output_traces_baseline.shape[0], 1),\n",
    "    dtype=output_traces_baseline.dtype)\n",
    "log.info(f'{zero_append.shape = }')\n",
    "rate_lim_baseline = np.cumsum(\n",
    "    np.concatenate((zero_append, new_diff), \n",
    "                   axis=1),\n",
    "    axis=1)\n",
    "log.info(f'{rate_lim_baseline.shape = }')\n",
    "\n",
    "arg_min_baseline = np.argmin(output_traces_baseline,\n",
    "                             axis=1,\n",
    "                             keepdims=True)\n",
    "log.info(f'{arg_min_baseline.shape = }')\n",
    "min_baseline = np.take_along_axis(output_traces_baseline,\n",
    "                                  arg_min_baseline,\n",
    "                                  axis=1)\n",
    "log.info(f'{min_baseline.shape = }')\n",
    "rate_lim_baseline = (\n",
    "        rate_lim_baseline \n",
    "        - np.take_along_axis(rate_lim_baseline,\n",
    "                             arg_min_baseline,\n",
    "                             axis=1)                             \n",
    "        + min_baseline)\n",
    "log.info(f'{rate_lim_baseline.shape = }')\n",
    "\n",
    "output_traces_baseline_original = output_traces_baseline\n",
    "output_traces_baseline = rate_lim_baseline\n",
    "log.info(f'{output_traces_baseline.shape = }')\n",
    "                            \n",
    "# output_traces_baseline = scipy.ndimage.minimum_filter(\n",
    "#     output_traces_smooth,\n",
    "#     size=(1, moving_quantile_size),\n",
    "#     mode='nearest')\n",
    "\n",
    "# output_traces_clip = np.zeros(output_traces_smooth.shape)\n",
    "clip_mask = output_traces_smooth < output_traces_baseline\n",
    "output_traces_clip = output_traces_smooth.copy()\n",
    "output_traces_clip[clip_mask] = output_traces_baseline[clip_mask]\n",
    "traces_delta = output_traces_clip - output_traces_baseline\n",
    "traces_df_over_f = traces_delta / output_traces_baseline\n",
    "traces_df_over_f = traces_df_over_f[:, :]\n",
    "traces_labels = [label_names[a] for a in arg_labels_present]\n",
    "new_time_vector_mask = new_time_vector[:]\n",
    "traces_mask = np.all(output_traces_downscale > 0.008,\n",
    "                     axis=-1)\n",
    "traces_df_over_f_mask = traces_df_over_f[traces_mask, :]\n",
    "traces_labels_mask = [l for l, include in zip(traces_labels, traces_mask) if include]\n",
    "\n",
    "print('traces_labels = ')\n",
    "_ = [print(f'\\t{i:3d} : {t}') for i, t in enumerate(traces_labels)]\n",
    "\n",
    "print('traces_labels_mask = ')\n",
    "_ = [print(f'\\t{i:3d} : {t}') for i, t in enumerate(traces_labels)]"
   ],
   "metadata": {
    "collapsed": false,
    "ExecuteTime": {
     "end_time": "2023-10-24T19:03:44.920039100Z",
     "start_time": "2023-10-24T19:03:44.716107600Z"
    }
   },
   "id": "e88be6ac1a84b558"
  },
  {
   "cell_type": "code",
   "execution_count": 242,
   "outputs": [],
   "source": [
    "# ALL LABELS MOD\n",
    "new_time_vector_mask = new_time_vector"
   ],
   "metadata": {
    "collapsed": false,
    "ExecuteTime": {
     "end_time": "2023-10-24T19:03:49.140452800Z",
     "start_time": "2023-10-24T19:03:49.009560600Z"
    }
   },
   "id": "8e4ce4c3fa6b9666"
  },
  {
   "cell_type": "code",
   "execution_count": 253,
   "outputs": [],
   "source": [
    "for i in [2, ]:\n",
    "    plt.figure()\n",
    "    ax1 = plt.subplot(2, 1, 1)\n",
    "    ax1.plot(live_imds_drop.coordinates[Dim.TIME].vector,\n",
    "             output_traces[i, :],\n",
    "             'r',\n",
    "             label=f'f_{i+1}',\n",
    "             lw=3,\n",
    "             alpha=0.4)    \n",
    "    ax1.plot(new_time_vector,\n",
    "             output_traces_smooth[i],\n",
    "             'r',\n",
    "             label=f'f_{{{i+1},smooth}}',\n",
    "             lw=2,\n",
    "             alpha=0.85)\n",
    "    ax1.plot(new_time_vector,\n",
    "             output_traces_baseline_original[i],\n",
    "             'k',\n",
    "             lw=3,\n",
    "             alpha=0.4,\n",
    "             label=f'f_{{{i+1},rolling-qt}}')\n",
    "    ax1.plot(new_time_vector,\n",
    "             output_traces_baseline[i],\n",
    "             'k',\n",
    "             lw=2,\n",
    "             alpha=0.85,\n",
    "             label=f'f_{{{i+1},drift-limited}}')\n",
    "\n",
    "    # ax1.plot(new_time_vector,\n",
    "    #          output_traces_downscale[i],\n",
    "    #          label='RAW-DOWNSCALE',\n",
    "    #          alpha=0.5)\n",
    "\n",
    "    ax1.plot(new_time_vector,\n",
    "             output_traces_clip[i],\n",
    "             'g',\n",
    "             label=f'f_{{{i+1},smooth-clip}}',\n",
    "             lw=2,\n",
    "             alpha=0.85)\n",
    "\n",
    "    plt.title(traces_labels[i])\n",
    "    ax2 = plt.subplot(2, 1, 2, sharex=ax1)\n",
    "    ax2.plot(new_time_vector_mask,\n",
    "             traces_df_over_f[i],\n",
    "             label=f'f_{{{i+1},norm}}',\n",
    "             lw=2.5)    \n",
    "    ax2.axhline(0,\n",
    "                lw=0.5,\n",
    "                c='k',\n",
    "                zorder=1)\n",
    "    ax1.legend()\n",
    "    ax2.legend()\n",
    "    ax1.set_xlabel('Time (s)')\n",
    "    ax1.set_ylabel('Mean Relative Voxel Intensity (a.u.)')\n",
    "    \n",
    "    ax2.set_xlabel('Time (s)')\n",
    "    ax2.set_ylabel('Normalized Intensity (a.u.)')\n",
    "    plt.show()"
   ],
   "metadata": {
    "collapsed": false,
    "ExecuteTime": {
     "end_time": "2023-10-24T19:20:59.826851600Z",
     "start_time": "2023-10-24T19:20:59.335634100Z"
    }
   },
   "id": "b32ca4b879784e3d"
  },
  {
   "cell_type": "code",
   "execution_count": 182,
   "outputs": [
    {
     "name": "stdout",
     "output_type": "stream",
     "text": [
      "local-nb_cs-ii-29_import-tests (   2): INFO : Plotting all delta f over f traces\n"
     ]
    },
    {
     "name": "stderr",
     "output_type": "stream",
     "text": [
      "C:\\Users\\CorbanSwain\\AppData\\Local\\Temp\\ipykernel_49676\\430271188.py:3: MatplotlibDeprecationWarning:\n",
      "\n",
      "Auto-removal of overlapping axes is deprecated since 3.6 and will be removed two minor releases later; explicitly call ax.remove() as needed.\n",
      "\n"
     ]
    }
   ],
   "source": [
    "%matplotlib qt\n",
    "log.info('Plotting all delta f over f traces')\n",
    "ax = plt.subplot(1, 1, 1)\n",
    "line_plots = ax.plot(new_time_vector_mask,\n",
    "                     traces_df_over_f_mask.T)\n",
    "ax.legend(line_plots,\n",
    "          traces_labels_mask,\n",
    "          loc='center left',\n",
    "          bbox_to_anchor=(1, 0.5))\n",
    "box = ax.get_position()\n",
    "ax.set_position([box.x0, box.y0, box.width * 0.8, box.height])\n",
    "plt.show()"
   ],
   "metadata": {
    "collapsed": false,
    "ExecuteTime": {
     "end_time": "2023-10-05T16:26:30.712040500Z",
     "start_time": "2023-10-05T16:26:30.590234200Z"
    }
   },
   "id": "12b31ffce85edfbd"
  },
  {
   "cell_type": "code",
   "execution_count": 183,
   "outputs": [],
   "source": [
    "%matplotlib qt\n",
    "ax = plt.subplot(1, 1, 1)\n",
    "spacing = 1 * (traces_df_over_f_mask.max() - traces_df_over_f_mask.min()) * 1\n",
    "scaling = 4\n",
    "ones_arr = np.ones(new_time_vector_mask.shape)\n",
    "for i, (trace, label) in enumerate(zip(traces_df_over_f_mask, traces_labels_mask)):\n",
    "    zero_loc = (i * spacing)\n",
    "    ax.plot(new_time_vector_mask,\n",
    "            (trace * scaling) + zero_loc, \n",
    "            'r',\n",
    "            label=label,\n",
    "            zorder=(num_labels_present - i) + 10,\n",
    "            lw=2)\n",
    "    ax.fill_between(\n",
    "        new_time_vector_mask,\n",
    "        ones_arr * zero_loc,\n",
    "        (trace * scaling) + zero_loc,\n",
    "        interpolate=False,\n",
    "        fc='w',\n",
    "        zorder=(num_labels_present - i) + 10)\n",
    "    ax.axhline(zero_loc,\n",
    "               lw=0.5,\n",
    "               c='k',\n",
    "               zorder=1)\n",
    "    \n",
    "ax.legend(loc='center left',\n",
    "          bbox_to_anchor=(1, 0.5))\n",
    "box = ax.get_position()\n",
    "ax.set_position([box.x0, box.y0, box.width * 0.8, box.height])\n",
    "plt.show()"
   ],
   "metadata": {
    "collapsed": false,
    "ExecuteTime": {
     "end_time": "2023-10-05T16:26:35.052397400Z",
     "start_time": "2023-10-05T16:26:34.683986900Z"
    }
   },
   "id": "ab984f1085e2c806"
  },
  {
   "cell_type": "markdown",
   "source": [
    "## Generate Time Reference"
   ],
   "metadata": {
    "collapsed": false
   },
   "id": "5d84bb3043b841e"
  },
  {
   "cell_type": "code",
   "execution_count": 192,
   "outputs": [
    {
     "name": "stdout",
     "output_type": "stream",
     "text": [
      "live_datetime_start = datetime.datetime(2023, 8, 3, 17, 41, 28)\n",
      "precise_time_start_raw = datetime.datetime(1, 1, 1, 17, 41, 28, 535532)\n",
      "precise_time_scan_start = datetime.datetime(2023, 8, 3, 17, 41, 28, 535532)\n",
      "extra_time_delta = datetime.timedelta(seconds=23, microseconds=42000)\n",
      "precise_time_trigger_start_64 = Timestamp('2023-08-03 17:41:51.577532')\n"
     ]
    }
   ],
   "source": [
    "import datetime as dt\n",
    "\n",
    "live_pv_md = live_imds.source_data.metadata\n",
    "\n",
    "live_datetime_start = pvi._parse_time_str(live_pv_md[pvi.pvmk.TIMESTAMP])\n",
    "print(f'{live_datetime_start = !r}')\n",
    "\n",
    "precise_time_start_raw = pvi._parse_time_str(live_pv_md[pvi.pvmk.TIME][0])\n",
    "print(f'{precise_time_start_raw = !r}')\n",
    "\n",
    "precise_time_scan_start = dt.datetime(\n",
    "    year=live_datetime_start.year,\n",
    "    month=live_datetime_start.month,\n",
    "    day=live_datetime_start.day,\n",
    "    hour=precise_time_start_raw.hour,\n",
    "    minute=precise_time_start_raw.minute,\n",
    "    second=precise_time_start_raw.second,\n",
    "    microsecond=precise_time_start_raw.microsecond)\n",
    "\n",
    "print(f'{precise_time_scan_start = !r}')\n",
    "\n",
    "extra_time_delta = live_pv_md['absoluteTime'][0][0]\n",
    "extra_time_delta = dt.timedelta(seconds=extra_time_delta)\n",
    "print(f'{extra_time_delta = }')\n",
    "\n",
    "precise_time_trigger_start = precise_time_scan_start + extra_time_delta\n",
    "precise_time_trigger_start_64 = pd.to_datetime(precise_time_trigger_start)\n",
    "print(f'{precise_time_trigger_start_64 = }')\n",
    "\n",
    "conv_time_vector = [\n",
    "    precise_time_trigger_start_64\n",
    "    + pd.to_timedelta(v, unit='s')\n",
    "    for v in new_time_vector_mask]\n",
    "        \n",
    "time_index = pd.DatetimeIndex(conv_time_vector)"
   ],
   "metadata": {
    "collapsed": false,
    "ExecuteTime": {
     "end_time": "2023-10-20T19:17:27.464071300Z",
     "start_time": "2023-10-20T19:17:27.155567Z"
    }
   },
   "id": "143edeb90f16f5e1"
  },
  {
   "cell_type": "markdown",
   "source": [
    "## Create Activity Enhanced Volume"
   ],
   "metadata": {
    "collapsed": false
   },
   "id": "d32d74431c5353b9"
  },
  {
   "cell_type": "code",
   "execution_count": 70,
   "outputs": [],
   "source": [
    "region_traces = output_traces_clip\n",
    "region_int_labels = arg_labels_present[1:]\n",
    "\n",
    "# rescale each region\n",
    "region_traces -= np.min(region_traces, axis=0, keepdims=True)\n",
    "region_traces /= np.max(region_traces, axis=0, keepdims=True)\n",
    "\n",
    "output_labels = labels_ndarray\n",
    "mod_volume = np.zeros(live_imds_drop.shape)"
   ],
   "metadata": {
    "collapsed": false,
    "ExecuteTime": {
     "end_time": "2023-10-07T16:01:15.159245Z",
     "start_time": "2023-10-07T16:01:14.975539400Z"
    }
   },
   "id": "9b328540b0af3adf"
  },
  {
   "cell_type": "code",
   "execution_count": 71,
   "outputs": [
    {
     "name": "stdout",
     "output_type": "stream",
     "text": [
      "BEGINNING CYCLE 01 / 76, Region 1\n",
      "region_int = 1\n",
      "np.count_nonzero(label_select) = 68637\n",
      "made assignment\n",
      "BEGINNING CYCLE 02 / 76, Region 2\n",
      "region_int = 2\n",
      "np.count_nonzero(label_select) = 72386\n",
      "made assignment\n",
      "BEGINNING CYCLE 03 / 76, Region 3\n",
      "region_int = 3\n",
      "np.count_nonzero(label_select) = 45127\n",
      "made assignment\n",
      "BEGINNING CYCLE 04 / 76, Region 4\n",
      "region_int = 4\n",
      "np.count_nonzero(label_select) = 50979\n",
      "made assignment\n",
      "BEGINNING CYCLE 05 / 76, Region 5\n",
      "region_int = 5\n",
      "np.count_nonzero(label_select) = 55149\n",
      "made assignment\n",
      "BEGINNING CYCLE 06 / 76, Region 6\n",
      "region_int = 6\n",
      "np.count_nonzero(label_select) = 55361\n",
      "made assignment\n",
      "BEGINNING CYCLE 07 / 76, Region 7\n",
      "region_int = 7\n",
      "np.count_nonzero(label_select) = 34354\n",
      "made assignment\n",
      "BEGINNING CYCLE 08 / 76, Region 8\n",
      "region_int = 8\n",
      "np.count_nonzero(label_select) = 38246\n",
      "made assignment\n",
      "BEGINNING CYCLE 09 / 76, Region 9\n",
      "region_int = 9\n",
      "np.count_nonzero(label_select) = 32524\n",
      "made assignment\n",
      "BEGINNING CYCLE 10 / 76, Region 10\n",
      "region_int = 10\n",
      "np.count_nonzero(label_select) = 28259\n",
      "made assignment\n",
      "BEGINNING CYCLE 11 / 76, Region 11\n",
      "region_int = 11\n",
      "np.count_nonzero(label_select) = 28058\n",
      "made assignment\n",
      "BEGINNING CYCLE 12 / 76, Region 14\n",
      "region_int = 14\n",
      "np.count_nonzero(label_select) = 0\n",
      "made assignment\n",
      "BEGINNING CYCLE 13 / 76, Region 15\n",
      "region_int = 15\n",
      "np.count_nonzero(label_select) = 17253\n",
      "made assignment\n",
      "BEGINNING CYCLE 14 / 76, Region 16\n",
      "region_int = 16\n",
      "np.count_nonzero(label_select) = 18900\n",
      "made assignment\n",
      "BEGINNING CYCLE 15 / 76, Region 17\n",
      "region_int = 17\n",
      "np.count_nonzero(label_select) = 21316\n",
      "made assignment\n",
      "BEGINNING CYCLE 16 / 76, Region 18\n",
      "region_int = 18\n",
      "np.count_nonzero(label_select) = 18722\n",
      "made assignment\n",
      "BEGINNING CYCLE 17 / 76, Region 19\n",
      "region_int = 19\n",
      "np.count_nonzero(label_select) = 20185\n",
      "made assignment\n",
      "BEGINNING CYCLE 18 / 76, Region 20\n",
      "region_int = 20\n",
      "np.count_nonzero(label_select) = 23034\n",
      "made assignment\n",
      "BEGINNING CYCLE 19 / 76, Region 21\n",
      "region_int = 21\n",
      "np.count_nonzero(label_select) = 18259\n",
      "made assignment\n",
      "BEGINNING CYCLE 20 / 76, Region 22\n",
      "region_int = 22\n",
      "np.count_nonzero(label_select) = 18806\n",
      "made assignment\n",
      "BEGINNING CYCLE 21 / 76, Region 23\n",
      "region_int = 23\n",
      "np.count_nonzero(label_select) = 18310\n",
      "made assignment\n",
      "BEGINNING CYCLE 22 / 76, Region 24\n",
      "region_int = 24\n",
      "np.count_nonzero(label_select) = 17809\n",
      "made assignment\n",
      "BEGINNING CYCLE 23 / 76, Region 25\n",
      "region_int = 25\n",
      "np.count_nonzero(label_select) = 17481\n",
      "made assignment\n",
      "BEGINNING CYCLE 24 / 76, Region 26\n",
      "region_int = 26\n",
      "np.count_nonzero(label_select) = 15550\n",
      "made assignment\n",
      "BEGINNING CYCLE 25 / 76, Region 27\n",
      "region_int = 27\n",
      "np.count_nonzero(label_select) = 16105\n",
      "made assignment\n",
      "BEGINNING CYCLE 26 / 76, Region 28\n",
      "region_int = 28\n",
      "np.count_nonzero(label_select) = 18159\n",
      "made assignment\n",
      "BEGINNING CYCLE 27 / 76, Region 29\n",
      "region_int = 29\n",
      "np.count_nonzero(label_select) = 13745\n",
      "made assignment\n",
      "BEGINNING CYCLE 28 / 76, Region 30\n",
      "region_int = 30\n",
      "np.count_nonzero(label_select) = 14884\n",
      "made assignment\n",
      "BEGINNING CYCLE 29 / 76, Region 31\n",
      "region_int = 31\n",
      "np.count_nonzero(label_select) = 12373\n",
      "made assignment\n",
      "BEGINNING CYCLE 30 / 76, Region 32\n",
      "region_int = 32\n",
      "np.count_nonzero(label_select) = 10272\n",
      "made assignment\n",
      "BEGINNING CYCLE 31 / 76, Region 33\n",
      "region_int = 33\n",
      "np.count_nonzero(label_select) = 12998\n",
      "made assignment\n",
      "BEGINNING CYCLE 32 / 76, Region 34\n",
      "region_int = 34\n",
      "np.count_nonzero(label_select) = 8455\n",
      "made assignment\n",
      "BEGINNING CYCLE 33 / 76, Region 35\n",
      "region_int = 35\n",
      "np.count_nonzero(label_select) = 4635\n",
      "made assignment\n",
      "BEGINNING CYCLE 34 / 76, Region 36\n",
      "region_int = 36\n",
      "np.count_nonzero(label_select) = 4117\n",
      "made assignment\n",
      "BEGINNING CYCLE 35 / 76, Region 37\n",
      "region_int = 37\n",
      "np.count_nonzero(label_select) = 10498\n",
      "made assignment\n",
      "BEGINNING CYCLE 36 / 76, Region 38\n",
      "region_int = 38\n",
      "np.count_nonzero(label_select) = 10459\n",
      "made assignment\n",
      "BEGINNING CYCLE 37 / 76, Region 39\n",
      "region_int = 39\n",
      "np.count_nonzero(label_select) = 4515\n",
      "made assignment\n",
      "BEGINNING CYCLE 38 / 76, Region 40\n",
      "region_int = 40\n",
      "np.count_nonzero(label_select) = 5177\n",
      "made assignment\n",
      "BEGINNING CYCLE 39 / 76, Region 41\n",
      "region_int = 41\n",
      "np.count_nonzero(label_select) = 3377\n",
      "made assignment\n",
      "BEGINNING CYCLE 40 / 76, Region 42\n",
      "region_int = 42\n",
      "np.count_nonzero(label_select) = 3836\n",
      "made assignment\n",
      "BEGINNING CYCLE 41 / 76, Region 43\n",
      "region_int = 43\n",
      "np.count_nonzero(label_select) = 3389\n",
      "made assignment\n",
      "BEGINNING CYCLE 42 / 76, Region 44\n",
      "region_int = 44\n",
      "np.count_nonzero(label_select) = 3427\n",
      "made assignment\n",
      "BEGINNING CYCLE 43 / 76, Region 45\n",
      "region_int = 45\n",
      "np.count_nonzero(label_select) = 3952\n",
      "made assignment\n",
      "BEGINNING CYCLE 44 / 76, Region 46\n",
      "region_int = 46\n",
      "np.count_nonzero(label_select) = 3952\n",
      "made assignment\n",
      "BEGINNING CYCLE 45 / 76, Region 47\n",
      "region_int = 47\n",
      "np.count_nonzero(label_select) = 4555\n",
      "made assignment\n",
      "BEGINNING CYCLE 46 / 76, Region 50\n",
      "region_int = 50\n",
      "np.count_nonzero(label_select) = 291\n",
      "made assignment\n",
      "BEGINNING CYCLE 47 / 76, Region 51\n",
      "region_int = 51\n",
      "np.count_nonzero(label_select) = 2042\n",
      "made assignment\n",
      "BEGINNING CYCLE 48 / 76, Region 52\n",
      "region_int = 52\n",
      "np.count_nonzero(label_select) = 2125\n",
      "made assignment\n",
      "BEGINNING CYCLE 49 / 76, Region 53\n",
      "region_int = 53\n",
      "np.count_nonzero(label_select) = 1785\n",
      "made assignment\n",
      "BEGINNING CYCLE 50 / 76, Region 54\n",
      "region_int = 54\n",
      "np.count_nonzero(label_select) = 1140\n",
      "made assignment\n",
      "BEGINNING CYCLE 51 / 76, Region 55\n",
      "region_int = 55\n",
      "np.count_nonzero(label_select) = 2549\n",
      "made assignment\n",
      "BEGINNING CYCLE 52 / 76, Region 56\n",
      "region_int = 56\n",
      "np.count_nonzero(label_select) = 1821\n",
      "made assignment\n",
      "BEGINNING CYCLE 53 / 76, Region 57\n",
      "region_int = 57\n",
      "np.count_nonzero(label_select) = 941\n",
      "made assignment\n",
      "BEGINNING CYCLE 54 / 76, Region 58\n",
      "region_int = 58\n",
      "np.count_nonzero(label_select) = 1044\n",
      "made assignment\n",
      "BEGINNING CYCLE 55 / 76, Region 59\n",
      "region_int = 59\n",
      "np.count_nonzero(label_select) = 1687\n",
      "made assignment\n",
      "BEGINNING CYCLE 56 / 76, Region 60\n",
      "region_int = 60\n",
      "np.count_nonzero(label_select) = 1352\n",
      "made assignment\n",
      "BEGINNING CYCLE 57 / 76, Region 61\n",
      "region_int = 61\n",
      "np.count_nonzero(label_select) = 485\n",
      "made assignment\n",
      "BEGINNING CYCLE 58 / 76, Region 64\n",
      "region_int = 64\n",
      "np.count_nonzero(label_select) = 0\n",
      "made assignment\n",
      "BEGINNING CYCLE 59 / 76, Region 65\n",
      "region_int = 65\n",
      "np.count_nonzero(label_select) = 1416\n",
      "made assignment\n",
      "BEGINNING CYCLE 60 / 76, Region 66\n",
      "region_int = 66\n",
      "np.count_nonzero(label_select) = 1793\n",
      "made assignment\n",
      "BEGINNING CYCLE 61 / 76, Region 67\n",
      "region_int = 67\n",
      "np.count_nonzero(label_select) = 1637\n",
      "made assignment\n",
      "BEGINNING CYCLE 62 / 76, Region 68\n",
      "region_int = 68\n",
      "np.count_nonzero(label_select) = 2006\n",
      "made assignment\n",
      "BEGINNING CYCLE 63 / 76, Region 69\n",
      "region_int = 69\n",
      "np.count_nonzero(label_select) = 920\n",
      "made assignment\n",
      "BEGINNING CYCLE 64 / 76, Region 70\n",
      "region_int = 70\n",
      "np.count_nonzero(label_select) = 671\n",
      "made assignment\n",
      "BEGINNING CYCLE 65 / 76, Region 71\n",
      "region_int = 71\n",
      "np.count_nonzero(label_select) = 829\n",
      "made assignment\n",
      "BEGINNING CYCLE 66 / 76, Region 72\n",
      "region_int = 72\n",
      "np.count_nonzero(label_select) = 1164\n",
      "made assignment\n",
      "BEGINNING CYCLE 67 / 76, Region 73\n",
      "region_int = 73\n",
      "np.count_nonzero(label_select) = 995\n",
      "made assignment\n",
      "BEGINNING CYCLE 68 / 76, Region 74\n",
      "region_int = 74\n",
      "np.count_nonzero(label_select) = 857\n",
      "made assignment\n",
      "BEGINNING CYCLE 69 / 76, Region 75\n",
      "region_int = 75\n",
      "np.count_nonzero(label_select) = 886\n",
      "made assignment\n",
      "BEGINNING CYCLE 70 / 76, Region 76\n",
      "region_int = 76\n",
      "np.count_nonzero(label_select) = 1322\n",
      "made assignment\n",
      "BEGINNING CYCLE 71 / 76, Region 77\n",
      "region_int = 77\n",
      "np.count_nonzero(label_select) = 714\n",
      "made assignment\n",
      "BEGINNING CYCLE 72 / 76, Region 78\n",
      "region_int = 78\n",
      "np.count_nonzero(label_select) = 531\n",
      "made assignment\n",
      "BEGINNING CYCLE 73 / 76, Region 79\n",
      "region_int = 79\n",
      "np.count_nonzero(label_select) = 802\n",
      "made assignment\n",
      "BEGINNING CYCLE 74 / 76, Region 80\n",
      "region_int = 80\n",
      "np.count_nonzero(label_select) = 1079\n",
      "made assignment\n",
      "BEGINNING CYCLE 75 / 76, Region 85\n",
      "region_int = 85\n",
      "np.count_nonzero(label_select) = 382\n",
      "made assignment\n",
      "BEGINNING CYCLE 76 / 76, Region 86\n",
      "region_int = 86\n",
      "np.count_nonzero(label_select) = 511\n",
      "made assignment\n"
     ]
    }
   ],
   "source": [
    "for i, region_int in enumerate(region_int_labels):\n",
    "    print(f'BEGINNING CYCLE {i+1:02d} / {region_int_labels.size:02d}, '\n",
    "          f'Region {region_int}')\n",
    "    print(f'{region_int = }')\n",
    "    label_select = output_labels == region_int\n",
    "    print(f'{np.count_nonzero(label_select) = }')\n",
    "    assignment = region_traces[i].reshape((-1, 1))\n",
    "    # select = mod_volume[:, label_select]\n",
    "    # print(f'{select.shape = }')\n",
    "    mod_volume[:, label_select] = assignment\n",
    "    print(f'made assignment')"
   ],
   "metadata": {
    "collapsed": false,
    "ExecuteTime": {
     "end_time": "2023-10-07T16:01:54.134853Z",
     "start_time": "2023-10-07T16:01:16.982945300Z"
    }
   },
   "id": "fbf50c0d2c5e07b1"
  },
  {
   "cell_type": "code",
   "execution_count": 73,
   "outputs": [
    {
     "name": "stdout",
     "output_type": "stream",
     "text": [
      "Performing multiplication...\n",
      "mod_volume.shape = (1710, 18, 362, 512)\n",
      "live_imds_drop.shape = (1710, 18, 362, 512)\n",
      "output_volume.shape = (1710, 18, 362, 512)\n"
     ]
    }
   ],
   "source": [
    "print('Performing multiplication...')\n",
    "output_volume = live_max_proj_ds.get_image_data().astype(np.float32) * mod_volume.astype(np.float32)\n",
    "\n",
    "print(f'{mod_volume.shape = }')\n",
    "print(f'{live_imds_drop.shape = }')\n",
    "print(f'{output_volume.shape = }')"
   ],
   "metadata": {
    "collapsed": false,
    "ExecuteTime": {
     "end_time": "2023-10-07T16:03:17.022465300Z",
     "start_time": "2023-10-07T16:02:46.008830500Z"
    }
   },
   "id": "a607ae20ccad78fd"
  },
  {
   "cell_type": "code",
   "execution_count": 110,
   "outputs": [],
   "source": [
    "viewer = napari.Viewer()\n",
    "viewer.add_labels(large_labels_live_space_ndarray,\n",
    "                  scale=live_max_proj_ds.scale)\n",
    "viewer.add_image(mod_volume,\n",
    "                 scale=(1, ) + live_max_proj_ds.scale)\n",
    "viewer.add_image(output_volume,\n",
    "                 scale=(1, ) + live_max_proj_ds.scale)\n",
    "viewer.show()"
   ],
   "metadata": {
    "collapsed": false,
    "ExecuteTime": {
     "end_time": "2023-10-07T16:36:57.193852400Z",
     "start_time": "2023-10-07T16:36:55.269933500Z"
    }
   },
   "id": "2805ee7d8b828428"
  },
  {
   "cell_type": "markdown",
   "source": [
    "## Create Functional Activity DataFrame"
   ],
   "metadata": {
    "collapsed": false
   },
   "id": "216051cfea10f21f"
  },
  {
   "cell_type": "code",
   "execution_count": 83,
   "outputs": [
    {
     "data": {
      "text/plain": "                            #001 | 68.64k vxl | LEFT - Mesencephalon - Tectum Stratum Periventriculare  \\\n2023-08-03 17:41:51.577532                                           0.150157                            \n2023-08-03 17:41:52.074636                                           0.156645                            \n2023-08-03 17:41:52.571739                                           0.162769                            \n2023-08-03 17:41:53.068843                                           0.167676                            \n2023-08-03 17:41:53.565947                                           0.170721                            \n...                                                                       ...                            \n2023-08-03 17:55:59.139340                                           0.009820                            \n2023-08-03 17:55:59.636444                                           0.007752                            \n2023-08-03 17:56:00.133548                                           0.005976                            \n2023-08-03 17:56:00.630652                                           0.004577                            \n2023-08-03 17:56:01.127755                                           0.003586                            \n\n                            #002 | 72.39k vxl | RIGHT - Mesencephalon - Tectum Stratum Periventriculare  \\\n2023-08-03 17:41:51.577532                                           0.138701                             \n2023-08-03 17:41:52.074636                                           0.143930                             \n2023-08-03 17:41:52.571739                                           0.149019                             \n2023-08-03 17:41:53.068843                                           0.153225                             \n2023-08-03 17:41:53.565947                                           0.155970                             \n...                                                                       ...                             \n2023-08-03 17:55:59.139340                                           0.017254                             \n2023-08-03 17:55:59.636444                                           0.016282                             \n2023-08-03 17:56:00.133548                                           0.015402                             \n2023-08-03 17:56:00.630652                                           0.014660                             \n2023-08-03 17:56:01.127755                                           0.014118                             \n\n                            #003 | 45.13k vxl | LEFT - Rhombencephalon - Rhombomere 7  \\\n2023-08-03 17:41:51.577532                                           0.057621           \n2023-08-03 17:41:52.074636                                           0.059243           \n2023-08-03 17:41:52.571739                                           0.061286           \n2023-08-03 17:41:53.068843                                           0.063372           \n2023-08-03 17:41:53.565947                                           0.065091           \n...                                                                       ...           \n2023-08-03 17:55:59.139340                                           0.062655           \n2023-08-03 17:55:59.636444                                           0.060838           \n2023-08-03 17:56:00.133548                                           0.059022           \n2023-08-03 17:56:00.630652                                           0.057292           \n2023-08-03 17:56:01.127755                                           0.055794           \n\n                            #004 | 50.98k vxl | RIGHT - Rhombencephalon - Rhombomere 7  \\\n2023-08-03 17:41:51.577532                                           0.046461            \n2023-08-03 17:41:52.074636                                           0.047265            \n2023-08-03 17:41:52.571739                                           0.048854            \n2023-08-03 17:41:53.068843                                           0.050973            \n2023-08-03 17:41:53.565947                                           0.053135            \n...                                                                       ...            \n2023-08-03 17:55:59.139340                                           0.095588            \n2023-08-03 17:55:59.636444                                           0.090679            \n2023-08-03 17:56:00.133548                                           0.085473            \n2023-08-03 17:56:00.630652                                           0.080419            \n2023-08-03 17:56:01.127755                                           0.076003            \n\n                            #005 | 55.15k vxl | LEFT - Rhombencephalon - Rhombomere 1  \\\n2023-08-03 17:41:51.577532                                           0.072019           \n2023-08-03 17:41:52.074636                                           0.077685           \n2023-08-03 17:41:52.571739                                           0.083722           \n2023-08-03 17:41:53.068843                                           0.089449           \n2023-08-03 17:41:53.565947                                           0.094153           \n...                                                                       ...           \n2023-08-03 17:55:59.139340                                           0.016966           \n2023-08-03 17:55:59.636444                                           0.015173           \n2023-08-03 17:56:00.133548                                           0.013473           \n2023-08-03 17:56:00.630652                                           0.012028           \n2023-08-03 17:56:01.127755                                           0.011021           \n\n                            #006 | 55.36k vxl | RIGHT - Rhombencephalon - Rhombomere 1  \\\n2023-08-03 17:41:51.577532                                           0.097304            \n2023-08-03 17:41:52.074636                                           0.101803            \n2023-08-03 17:41:52.571739                                           0.105676            \n2023-08-03 17:41:53.068843                                           0.108249            \n2023-08-03 17:41:53.565947                                           0.109014            \n...                                                                       ...            \n2023-08-03 17:55:59.139340                                           0.017503            \n2023-08-03 17:55:59.636444                                           0.014948            \n2023-08-03 17:56:00.133548                                           0.011981            \n2023-08-03 17:56:00.630652                                           0.008775            \n2023-08-03 17:56:01.127755                                           0.005622            \n\n                            #007 | 34.35k vxl | LEFT - Mesencephalon - Tecum Neuropil  \\\n2023-08-03 17:41:51.577532                                           0.050253           \n2023-08-03 17:41:52.074636                                           0.060298           \n2023-08-03 17:41:52.571739                                           0.069596           \n2023-08-03 17:41:53.068843                                           0.077011           \n2023-08-03 17:41:53.565947                                           0.082166           \n...                                                                       ...           \n2023-08-03 17:55:59.139340                                           0.000000           \n2023-08-03 17:55:59.636444                                           0.000000           \n2023-08-03 17:56:00.133548                                           0.000000           \n2023-08-03 17:56:00.630652                                           0.000000           \n2023-08-03 17:56:01.127755                                           0.000000           \n\n                            #008 | 38.25k vxl | RIGHT - Mesencephalon - Tecum Neuropil  \\\n2023-08-03 17:41:51.577532                                           0.046932            \n2023-08-03 17:41:52.074636                                           0.059830            \n2023-08-03 17:41:52.571739                                           0.072241            \n2023-08-03 17:41:53.068843                                           0.082639            \n2023-08-03 17:41:53.565947                                           0.089766            \n...                                                                       ...            \n2023-08-03 17:55:59.139340                                           0.000000            \n2023-08-03 17:55:59.636444                                           0.000000            \n2023-08-03 17:56:00.133548                                           0.000000            \n2023-08-03 17:56:00.630652                                           0.000000            \n2023-08-03 17:56:01.127755                                           0.000000            \n\n                            #009 | 32.52k vxl | LEFT - Diencephalon - Intermediate Hypothalamus  \\\n2023-08-03 17:41:51.577532                                           0.050221                     \n2023-08-03 17:41:52.074636                                           0.055635                     \n2023-08-03 17:41:52.571739                                           0.060617                     \n2023-08-03 17:41:53.068843                                           0.064509                     \n2023-08-03 17:41:53.565947                                           0.066881                     \n...                                                                       ...                     \n2023-08-03 17:55:59.139340                                           0.000000                     \n2023-08-03 17:55:59.636444                                           0.000000                     \n2023-08-03 17:56:00.133548                                           0.000000                     \n2023-08-03 17:56:00.630652                                           0.000000                     \n2023-08-03 17:56:01.127755                                           0.000000                     \n\n                            #010 | 28.26k vxl | RIGHT - Diencephalon - Intermediate Hypothalamus  \\\n2023-08-03 17:41:51.577532                                           0.075835                      \n2023-08-03 17:41:52.074636                                           0.079562                      \n2023-08-03 17:41:52.571739                                           0.083089                      \n2023-08-03 17:41:53.068843                                           0.085942                      \n2023-08-03 17:41:53.565947                                           0.087566                      \n...                                                                       ...                      \n2023-08-03 17:55:59.139340                                           0.013440                      \n2023-08-03 17:55:59.636444                                           0.011368                      \n2023-08-03 17:56:00.133548                                           0.008851                      \n2023-08-03 17:56:00.630652                                           0.005978                      \n2023-08-03 17:56:01.127755                                           0.003087                      \n\n                            ...  \\\n2023-08-03 17:41:51.577532  ...   \n2023-08-03 17:41:52.074636  ...   \n2023-08-03 17:41:52.571739  ...   \n2023-08-03 17:41:53.068843  ...   \n2023-08-03 17:41:53.565947  ...   \n...                         ...   \n2023-08-03 17:55:59.139340  ...   \n2023-08-03 17:55:59.636444  ...   \n2023-08-03 17:56:00.133548  ...   \n2023-08-03 17:56:00.630652  ...   \n2023-08-03 17:56:01.127755  ...   \n\n                            #068 | 2.01k vxl | RIGHT - Telencephalon - Telencephalic Migrated Area 4 (M4)  \\\n2023-08-03 17:41:51.577532                                           0.191534                               \n2023-08-03 17:41:52.074636                                           0.198441                               \n2023-08-03 17:41:52.571739                                           0.204480                               \n2023-08-03 17:41:53.068843                                           0.208348                               \n2023-08-03 17:41:53.565947                                           0.209111                               \n...                                                                       ...                               \n2023-08-03 17:55:59.139340                                           0.078002                               \n2023-08-03 17:55:59.636444                                           0.078631                               \n2023-08-03 17:56:00.133548                                           0.076683                               \n2023-08-03 17:56:00.630652                                           0.072649                               \n2023-08-03 17:56:01.127755                                           0.067666                               \n\n                            #069 | 0.92k vxl | LEFT - Diencephalon - Hypothalamus 6.7FRhcrtR-Gal4 cluster 1  \\\n2023-08-03 17:41:51.577532                                           0.202594                                 \n2023-08-03 17:41:52.074636                                           0.216108                                 \n2023-08-03 17:41:52.571739                                           0.231337                                 \n2023-08-03 17:41:53.068843                                           0.246778                                 \n2023-08-03 17:41:53.565947                                           0.260868                                 \n...                                                                       ...                                 \n2023-08-03 17:55:59.139340                                           0.060533                                 \n2023-08-03 17:55:59.636444                                           0.057354                                 \n2023-08-03 17:56:00.133548                                           0.054315                                 \n2023-08-03 17:56:00.630652                                           0.051636                                 \n2023-08-03 17:56:01.127755                                           0.049649                                 \n\n                            #070 | 0.67k vxl | RIGHT - Diencephalon - Hypothalamus 6.7FRhcrtR-Gal4 cluster 1  \\\n2023-08-03 17:41:51.577532                                           0.426190                                  \n2023-08-03 17:41:52.074636                                           0.450335                                  \n2023-08-03 17:41:52.571739                                           0.475829                                  \n2023-08-03 17:41:53.068843                                           0.500498                                  \n2023-08-03 17:41:53.565947                                           0.522765                                  \n...                                                                       ...                                  \n2023-08-03 17:55:59.139340                                           0.076125                                  \n2023-08-03 17:55:59.636444                                           0.072912                                  \n2023-08-03 17:56:00.133548                                           0.066783                                  \n2023-08-03 17:56:00.630652                                           0.057985                                  \n2023-08-03 17:56:01.127755                                           0.048097                                  \n\n                            #071 | 0.83k vxl | LEFT - Mesencephalon - Retinal Arborization Field 9 (AF9)  \\\n2023-08-03 17:41:51.577532                                           0.574809                              \n2023-08-03 17:41:52.074636                                           0.580455                              \n2023-08-03 17:41:52.571739                                           0.579653                              \n2023-08-03 17:41:53.068843                                           0.574039                              \n2023-08-03 17:41:53.565947                                           0.564146                              \n...                                                                       ...                              \n2023-08-03 17:55:59.139340                                           0.191926                              \n2023-08-03 17:55:59.636444                                           0.195089                              \n2023-08-03 17:56:00.133548                                           0.195566                              \n2023-08-03 17:56:00.630652                                           0.192866                              \n2023-08-03 17:56:01.127755                                           0.187596                              \n\n                            #072 | 1.16k vxl | RIGHT - Mesencephalon - Retinal Arborization Field 9 (AF9)  \\\n2023-08-03 17:41:51.577532                                           0.304213                               \n2023-08-03 17:41:52.074636                                           0.329298                               \n2023-08-03 17:41:52.571739                                           0.350703                               \n2023-08-03 17:41:53.068843                                           0.366522                               \n2023-08-03 17:41:53.565947                                           0.375602                               \n...                                                                       ...                               \n2023-08-03 17:55:59.139340                                           0.135474                               \n2023-08-03 17:55:59.636444                                           0.134654                               \n2023-08-03 17:56:00.133548                                           0.132513                               \n2023-08-03 17:56:00.630652                                           0.129489                               \n2023-08-03 17:56:01.127755                                           0.126388                               \n\n                            #073 | 0.99k vxl | LEFT - Diencephalon - Migrated Area of the Pretectum (M1)  \\\n2023-08-03 17:41:51.577532                                           0.130085                              \n2023-08-03 17:41:52.074636                                           0.137631                              \n2023-08-03 17:41:52.571739                                           0.144073                              \n2023-08-03 17:41:53.068843                                           0.147429                              \n2023-08-03 17:41:53.565947                                           0.146730                              \n...                                                                       ...                              \n2023-08-03 17:55:59.139340                                           0.028695                              \n2023-08-03 17:55:59.636444                                           0.031548                              \n2023-08-03 17:56:00.133548                                           0.033638                              \n2023-08-03 17:56:00.630652                                           0.034347                              \n2023-08-03 17:56:01.127755                                           0.034031                              \n\n                            #074 | 0.86k vxl | RIGHT - Diencephalon - Migrated Area of the Pretectum (M1)  \\\n2023-08-03 17:41:51.577532                                           0.202192                               \n2023-08-03 17:41:52.074636                                           0.220586                               \n2023-08-03 17:41:52.571739                                           0.234635                               \n2023-08-03 17:41:53.068843                                           0.242445                               \n2023-08-03 17:41:53.565947                                           0.242979                               \n...                                                                       ...                               \n2023-08-03 17:55:59.139340                                           0.068900                               \n2023-08-03 17:55:59.636444                                           0.072977                               \n2023-08-03 17:56:00.133548                                           0.076972                               \n2023-08-03 17:56:00.630652                                           0.081226                               \n2023-08-03 17:56:01.127755                                           0.085746                               \n\n                            #077 | 0.71k vxl | LEFT - Diencephalon - Pineal  \\\n2023-08-03 17:41:51.577532                                         0.746535   \n2023-08-03 17:41:52.074636                                         0.685614   \n2023-08-03 17:41:52.571739                                         0.614328   \n2023-08-03 17:41:53.068843                                         0.535956   \n2023-08-03 17:41:53.565947                                         0.456180   \n...                                                                     ...   \n2023-08-03 17:55:59.139340                                         0.078905   \n2023-08-03 17:55:59.636444                                         0.071699   \n2023-08-03 17:56:00.133548                                         0.060917   \n2023-08-03 17:56:00.630652                                         0.048488   \n2023-08-03 17:56:01.127755                                         0.037212   \n\n                            #078 | 0.53k vxl | RIGHT - Diencephalon - Pineal  \\\n2023-08-03 17:41:51.577532                                          0.501024   \n2023-08-03 17:41:52.074636                                          0.428922   \n2023-08-03 17:41:52.571739                                          0.354488   \n2023-08-03 17:41:53.068843                                          0.284879   \n2023-08-03 17:41:53.565947                                          0.226356   \n...                                                                      ...   \n2023-08-03 17:55:59.139340                                          0.109831   \n2023-08-03 17:55:59.636444                                          0.102484   \n2023-08-03 17:56:00.133548                                          0.094911   \n2023-08-03 17:56:00.630652                                          0.087355   \n2023-08-03 17:56:01.127755                                          0.079664   \n\n                            #081 | 0.44k vxl | LEFT - Diencephalon - Dopaminergic Cluster 6 - hypothalamus  \n2023-08-03 17:41:51.577532                                           0.215814                               \n2023-08-03 17:41:52.074636                                           0.247272                               \n2023-08-03 17:41:52.571739                                           0.282001                               \n2023-08-03 17:41:53.068843                                           0.317219                               \n2023-08-03 17:41:53.565947                                           0.349954                               \n...                                                                       ...                               \n2023-08-03 17:55:59.139340                                           0.129702                               \n2023-08-03 17:55:59.636444                                           0.139596                               \n2023-08-03 17:56:00.133548                                           0.143344                               \n2023-08-03 17:56:00.630652                                           0.138201                               \n2023-08-03 17:56:01.127755                                           0.125307                               \n\n[1710 rows x 65 columns]",
      "text/html": "<div>\n<style scoped>\n    .dataframe tbody tr th:only-of-type {\n        vertical-align: middle;\n    }\n\n    .dataframe tbody tr th {\n        vertical-align: top;\n    }\n\n    .dataframe thead th {\n        text-align: right;\n    }\n</style>\n<table border=\"1\" class=\"dataframe\">\n  <thead>\n    <tr style=\"text-align: right;\">\n      <th></th>\n      <th>#001 | 68.64k vxl | LEFT - Mesencephalon - Tectum Stratum Periventriculare</th>\n      <th>#002 | 72.39k vxl | RIGHT - Mesencephalon - Tectum Stratum Periventriculare</th>\n      <th>#003 | 45.13k vxl | LEFT - Rhombencephalon - Rhombomere 7</th>\n      <th>#004 | 50.98k vxl | RIGHT - Rhombencephalon - Rhombomere 7</th>\n      <th>#005 | 55.15k vxl | LEFT - Rhombencephalon - Rhombomere 1</th>\n      <th>#006 | 55.36k vxl | RIGHT - Rhombencephalon - Rhombomere 1</th>\n      <th>#007 | 34.35k vxl | LEFT - Mesencephalon - Tecum Neuropil</th>\n      <th>#008 | 38.25k vxl | RIGHT - Mesencephalon - Tecum Neuropil</th>\n      <th>#009 | 32.52k vxl | LEFT - Diencephalon - Intermediate Hypothalamus</th>\n      <th>#010 | 28.26k vxl | RIGHT - Diencephalon - Intermediate Hypothalamus</th>\n      <th>...</th>\n      <th>#068 | 2.01k vxl | RIGHT - Telencephalon - Telencephalic Migrated Area 4 (M4)</th>\n      <th>#069 | 0.92k vxl | LEFT - Diencephalon - Hypothalamus 6.7FRhcrtR-Gal4 cluster 1</th>\n      <th>#070 | 0.67k vxl | RIGHT - Diencephalon - Hypothalamus 6.7FRhcrtR-Gal4 cluster 1</th>\n      <th>#071 | 0.83k vxl | LEFT - Mesencephalon - Retinal Arborization Field 9 (AF9)</th>\n      <th>#072 | 1.16k vxl | RIGHT - Mesencephalon - Retinal Arborization Field 9 (AF9)</th>\n      <th>#073 | 0.99k vxl | LEFT - Diencephalon - Migrated Area of the Pretectum (M1)</th>\n      <th>#074 | 0.86k vxl | RIGHT - Diencephalon - Migrated Area of the Pretectum (M1)</th>\n      <th>#077 | 0.71k vxl | LEFT - Diencephalon - Pineal</th>\n      <th>#078 | 0.53k vxl | RIGHT - Diencephalon - Pineal</th>\n      <th>#081 | 0.44k vxl | LEFT - Diencephalon - Dopaminergic Cluster 6 - hypothalamus</th>\n    </tr>\n  </thead>\n  <tbody>\n    <tr>\n      <th>2023-08-03 17:41:51.577532</th>\n      <td>0.150157</td>\n      <td>0.138701</td>\n      <td>0.057621</td>\n      <td>0.046461</td>\n      <td>0.072019</td>\n      <td>0.097304</td>\n      <td>0.050253</td>\n      <td>0.046932</td>\n      <td>0.050221</td>\n      <td>0.075835</td>\n      <td>...</td>\n      <td>0.191534</td>\n      <td>0.202594</td>\n      <td>0.426190</td>\n      <td>0.574809</td>\n      <td>0.304213</td>\n      <td>0.130085</td>\n      <td>0.202192</td>\n      <td>0.746535</td>\n      <td>0.501024</td>\n      <td>0.215814</td>\n    </tr>\n    <tr>\n      <th>2023-08-03 17:41:52.074636</th>\n      <td>0.156645</td>\n      <td>0.143930</td>\n      <td>0.059243</td>\n      <td>0.047265</td>\n      <td>0.077685</td>\n      <td>0.101803</td>\n      <td>0.060298</td>\n      <td>0.059830</td>\n      <td>0.055635</td>\n      <td>0.079562</td>\n      <td>...</td>\n      <td>0.198441</td>\n      <td>0.216108</td>\n      <td>0.450335</td>\n      <td>0.580455</td>\n      <td>0.329298</td>\n      <td>0.137631</td>\n      <td>0.220586</td>\n      <td>0.685614</td>\n      <td>0.428922</td>\n      <td>0.247272</td>\n    </tr>\n    <tr>\n      <th>2023-08-03 17:41:52.571739</th>\n      <td>0.162769</td>\n      <td>0.149019</td>\n      <td>0.061286</td>\n      <td>0.048854</td>\n      <td>0.083722</td>\n      <td>0.105676</td>\n      <td>0.069596</td>\n      <td>0.072241</td>\n      <td>0.060617</td>\n      <td>0.083089</td>\n      <td>...</td>\n      <td>0.204480</td>\n      <td>0.231337</td>\n      <td>0.475829</td>\n      <td>0.579653</td>\n      <td>0.350703</td>\n      <td>0.144073</td>\n      <td>0.234635</td>\n      <td>0.614328</td>\n      <td>0.354488</td>\n      <td>0.282001</td>\n    </tr>\n    <tr>\n      <th>2023-08-03 17:41:53.068843</th>\n      <td>0.167676</td>\n      <td>0.153225</td>\n      <td>0.063372</td>\n      <td>0.050973</td>\n      <td>0.089449</td>\n      <td>0.108249</td>\n      <td>0.077011</td>\n      <td>0.082639</td>\n      <td>0.064509</td>\n      <td>0.085942</td>\n      <td>...</td>\n      <td>0.208348</td>\n      <td>0.246778</td>\n      <td>0.500498</td>\n      <td>0.574039</td>\n      <td>0.366522</td>\n      <td>0.147429</td>\n      <td>0.242445</td>\n      <td>0.535956</td>\n      <td>0.284879</td>\n      <td>0.317219</td>\n    </tr>\n    <tr>\n      <th>2023-08-03 17:41:53.565947</th>\n      <td>0.170721</td>\n      <td>0.155970</td>\n      <td>0.065091</td>\n      <td>0.053135</td>\n      <td>0.094153</td>\n      <td>0.109014</td>\n      <td>0.082166</td>\n      <td>0.089766</td>\n      <td>0.066881</td>\n      <td>0.087566</td>\n      <td>...</td>\n      <td>0.209111</td>\n      <td>0.260868</td>\n      <td>0.522765</td>\n      <td>0.564146</td>\n      <td>0.375602</td>\n      <td>0.146730</td>\n      <td>0.242979</td>\n      <td>0.456180</td>\n      <td>0.226356</td>\n      <td>0.349954</td>\n    </tr>\n    <tr>\n      <th>...</th>\n      <td>...</td>\n      <td>...</td>\n      <td>...</td>\n      <td>...</td>\n      <td>...</td>\n      <td>...</td>\n      <td>...</td>\n      <td>...</td>\n      <td>...</td>\n      <td>...</td>\n      <td>...</td>\n      <td>...</td>\n      <td>...</td>\n      <td>...</td>\n      <td>...</td>\n      <td>...</td>\n      <td>...</td>\n      <td>...</td>\n      <td>...</td>\n      <td>...</td>\n      <td>...</td>\n    </tr>\n    <tr>\n      <th>2023-08-03 17:55:59.139340</th>\n      <td>0.009820</td>\n      <td>0.017254</td>\n      <td>0.062655</td>\n      <td>0.095588</td>\n      <td>0.016966</td>\n      <td>0.017503</td>\n      <td>0.000000</td>\n      <td>0.000000</td>\n      <td>0.000000</td>\n      <td>0.013440</td>\n      <td>...</td>\n      <td>0.078002</td>\n      <td>0.060533</td>\n      <td>0.076125</td>\n      <td>0.191926</td>\n      <td>0.135474</td>\n      <td>0.028695</td>\n      <td>0.068900</td>\n      <td>0.078905</td>\n      <td>0.109831</td>\n      <td>0.129702</td>\n    </tr>\n    <tr>\n      <th>2023-08-03 17:55:59.636444</th>\n      <td>0.007752</td>\n      <td>0.016282</td>\n      <td>0.060838</td>\n      <td>0.090679</td>\n      <td>0.015173</td>\n      <td>0.014948</td>\n      <td>0.000000</td>\n      <td>0.000000</td>\n      <td>0.000000</td>\n      <td>0.011368</td>\n      <td>...</td>\n      <td>0.078631</td>\n      <td>0.057354</td>\n      <td>0.072912</td>\n      <td>0.195089</td>\n      <td>0.134654</td>\n      <td>0.031548</td>\n      <td>0.072977</td>\n      <td>0.071699</td>\n      <td>0.102484</td>\n      <td>0.139596</td>\n    </tr>\n    <tr>\n      <th>2023-08-03 17:56:00.133548</th>\n      <td>0.005976</td>\n      <td>0.015402</td>\n      <td>0.059022</td>\n      <td>0.085473</td>\n      <td>0.013473</td>\n      <td>0.011981</td>\n      <td>0.000000</td>\n      <td>0.000000</td>\n      <td>0.000000</td>\n      <td>0.008851</td>\n      <td>...</td>\n      <td>0.076683</td>\n      <td>0.054315</td>\n      <td>0.066783</td>\n      <td>0.195566</td>\n      <td>0.132513</td>\n      <td>0.033638</td>\n      <td>0.076972</td>\n      <td>0.060917</td>\n      <td>0.094911</td>\n      <td>0.143344</td>\n    </tr>\n    <tr>\n      <th>2023-08-03 17:56:00.630652</th>\n      <td>0.004577</td>\n      <td>0.014660</td>\n      <td>0.057292</td>\n      <td>0.080419</td>\n      <td>0.012028</td>\n      <td>0.008775</td>\n      <td>0.000000</td>\n      <td>0.000000</td>\n      <td>0.000000</td>\n      <td>0.005978</td>\n      <td>...</td>\n      <td>0.072649</td>\n      <td>0.051636</td>\n      <td>0.057985</td>\n      <td>0.192866</td>\n      <td>0.129489</td>\n      <td>0.034347</td>\n      <td>0.081226</td>\n      <td>0.048488</td>\n      <td>0.087355</td>\n      <td>0.138201</td>\n    </tr>\n    <tr>\n      <th>2023-08-03 17:56:01.127755</th>\n      <td>0.003586</td>\n      <td>0.014118</td>\n      <td>0.055794</td>\n      <td>0.076003</td>\n      <td>0.011021</td>\n      <td>0.005622</td>\n      <td>0.000000</td>\n      <td>0.000000</td>\n      <td>0.000000</td>\n      <td>0.003087</td>\n      <td>...</td>\n      <td>0.067666</td>\n      <td>0.049649</td>\n      <td>0.048097</td>\n      <td>0.187596</td>\n      <td>0.126388</td>\n      <td>0.034031</td>\n      <td>0.085746</td>\n      <td>0.037212</td>\n      <td>0.079664</td>\n      <td>0.125307</td>\n    </tr>\n  </tbody>\n</table>\n<p>1710 rows × 65 columns</p>\n</div>"
     },
     "execution_count": 83,
     "metadata": {},
     "output_type": "execute_result"
    }
   ],
   "source": [
    "functional_activity_df = pd.DataFrame(\n",
    "    traces_df_over_f_mask.T,    \n",
    "    columns=traces_labels_mask,\n",
    "    index=time_index\n",
    ")\n",
    "functional_activity_df"
   ],
   "metadata": {
    "collapsed": false,
    "ExecuteTime": {
     "end_time": "2023-10-07T16:33:04.128568100Z",
     "start_time": "2023-10-07T16:33:03.992767200Z"
    }
   },
   "id": "a86f47197a36ac81"
  },
  {
   "cell_type": "code",
   "execution_count": 203,
   "outputs": [
    {
     "data": {
      "text/plain": "region                                                                    Diencephalon  \\\nsub_region                    Anterior group of the posterior tubercular vmat2 neurons   \nlateral_side                                                                      left   \nvalue_type                                                                        mean   \n2023-08-03 17:41:51.577532000                                           0.104865         \n2023-08-03 17:41:52.074635700                                           0.101257         \n2023-08-03 17:41:52.571739400                                           0.114340         \n2023-08-03 17:41:53.068843100                                           0.118689         \n2023-08-03 17:41:53.565946800                                           0.101860         \n...                                                                          ...         \n2023-08-03 17:42:38.802383500                                           0.083988         \n2023-08-03 17:42:39.299487200                                           0.090106         \n2023-08-03 17:42:39.796590900                                           0.090636         \n2023-08-03 17:42:40.293694600                                           0.099025         \n2023-08-03 17:42:40.790798300                                           0.096220         \n\nregion                                                                         \\\nsub_region                                                                      \nlateral_side                                                                    \nvalue_type                    quantile_05 quantile_25 quantile_50 quantile_75   \n2023-08-03 17:41:51.577532000    0.000000    0.033116    0.080942    0.143664   \n2023-08-03 17:41:52.074635700    0.000000    0.019686    0.064644    0.142229   \n2023-08-03 17:41:52.571739400    0.002692    0.039159    0.091076    0.165914   \n2023-08-03 17:41:53.068843100    0.000000    0.034794    0.095959    0.166494   \n2023-08-03 17:41:53.565946800    0.000000    0.029087    0.073312    0.154987   \n...                                   ...         ...         ...         ...   \n2023-08-03 17:42:38.802383500    0.000000    0.013674    0.061348    0.131089   \n2023-08-03 17:42:39.299487200    0.000000    0.015139    0.065743    0.126999   \n2023-08-03 17:42:39.796590900    0.000000    0.008760    0.060432    0.135728   \n2023-08-03 17:42:40.293694600    0.000000    0.017397    0.071481    0.147815   \n2023-08-03 17:42:40.790798300    0.000000    0.022220    0.077402    0.131425   \n\nregion                                                                     \\\nsub_region                                                                  \nlateral_side                                            right               \nvalue_type                    quantile_95  variance      mean quantile_05   \n2023-08-03 17:41:51.577532000    0.302637  0.009962  0.079341    0.000000   \n2023-08-03 17:41:52.074635700    0.319967  0.012616  0.077835    0.000476   \n2023-08-03 17:41:52.571739400    0.299267  0.009555  0.078671    0.000000   \n2023-08-03 17:41:53.068843100    0.330179  0.012404  0.069391    0.000000   \n2023-08-03 17:41:53.565946800    0.293011  0.009216  0.073686    0.000177   \n...                                   ...       ...       ...         ...   \n2023-08-03 17:42:38.802383500    0.227750  0.006303  0.064547    0.000000   \n2023-08-03 17:42:39.299487200    0.306593  0.009427  0.067651    0.000665   \n2023-08-03 17:42:39.796590900    0.251685  0.011577  0.079790    0.000488   \n2023-08-03 17:42:40.293694600    0.300897  0.010583  0.069151    0.000177   \n2023-08-03 17:42:40.790798300    0.275980  0.008759  0.070466    0.000000   \n\nregion                                     ...  \\\nsub_region                                 ...   \nlateral_side                               ...   \nvalue_type                    quantile_25  ...   \n2023-08-03 17:41:51.577532000    0.023868  ...   \n2023-08-03 17:41:52.074635700    0.021853  ...   \n2023-08-03 17:41:52.571739400    0.022647  ...   \n2023-08-03 17:41:53.068843100    0.013643  ...   \n2023-08-03 17:41:53.565946800    0.011201  ...   \n...                                   ...  ...   \n2023-08-03 17:42:38.802383500    0.009706  ...   \n2023-08-03 17:42:39.299487200    0.018343  ...   \n2023-08-03 17:42:39.796590900    0.026340  ...   \n2023-08-03 17:42:40.293694600    0.013796  ...   \n2023-08-03 17:42:40.790798300    0.018893  ...   \n\nregion                                                                                                                       \\\nsub_region                    Dopaminergic Cluster 1 - ventral thalamic and periventricular posterior tubercular DA neurons   \nlateral_side                                                                                                           left   \nvalue_type                                                                                                         variance   \n2023-08-03 17:41:51.577532000                                           0.014271                                              \n2023-08-03 17:41:52.074635700                                           0.015095                                              \n2023-08-03 17:41:52.571739400                                           0.015006                                              \n2023-08-03 17:41:53.068843100                                           0.016629                                              \n2023-08-03 17:41:53.565946800                                           0.017035                                              \n...                                                                          ...                                              \n2023-08-03 17:42:38.802383500                                           0.015063                                              \n2023-08-03 17:42:39.299487200                                           0.014192                                              \n2023-08-03 17:42:39.796590900                                           0.014480                                              \n2023-08-03 17:42:40.293694600                                           0.014262                                              \n2023-08-03 17:42:40.790798300                                           0.015625                                              \n\nregion                                                                       \\\nsub_region                                                                    \nlateral_side                      right                                       \nvalue_type                         mean quantile_05 quantile_25 quantile_50   \n2023-08-03 17:41:51.577532000  0.163902    0.012331    0.075143    0.143389   \n2023-08-03 17:41:52.074635700  0.171783    0.018276    0.078867    0.148822   \n2023-08-03 17:41:52.571739400  0.174763    0.013674    0.082072    0.151630   \n2023-08-03 17:41:53.068843100  0.175496    0.014632    0.083140    0.152240   \n2023-08-03 17:41:53.565946800  0.176869    0.014614    0.081217    0.150287   \n...                                 ...         ...         ...         ...   \n2023-08-03 17:42:38.802383500  0.155390    0.006837    0.064949    0.131730   \n2023-08-03 17:42:39.299487200  0.155411    0.006348    0.067635    0.131120   \n2023-08-03 17:42:39.796590900  0.158843    0.008912    0.067910    0.132951   \n2023-08-03 17:42:40.293694600  0.153060    0.007447    0.065590    0.126114   \n2023-08-03 17:42:40.790798300  0.160218    0.009993    0.069344    0.136430   \n\nregion                                                           \\\nsub_region                                                        \nlateral_side                                                      \nvalue_type                    quantile_75 quantile_95  variance   \n2023-08-03 17:41:51.577532000    0.227658    0.391826  0.014244   \n2023-08-03 17:41:52.074635700    0.236296    0.408027  0.015184   \n2023-08-03 17:41:52.571739400    0.239134    0.419491  0.015741   \n2023-08-03 17:41:53.068843100    0.242217    0.414449  0.015606   \n2023-08-03 17:41:53.565946800    0.244537    0.427317  0.016815   \n...                                   ...         ...       ...   \n2023-08-03 17:42:38.802383500    0.218655    0.383280  0.014567   \n2023-08-03 17:42:39.299487200    0.214321    0.396917  0.014778   \n2023-08-03 17:42:39.796590900    0.221188    0.401209  0.015780   \n2023-08-03 17:42:40.293694600    0.215572    0.381815  0.013936   \n2023-08-03 17:42:40.790798300    0.220913    0.386632  0.014724   \n\nregion                                                                       \\\nsub_region                    Dopaminergic Cluster 2 - posterior tuberculum   \nlateral_side                                                           left   \nvalue_type                                                             mean   \n2023-08-03 17:41:51.577532000                                      0.035175   \n2023-08-03 17:41:52.074635700                                      0.037155   \n2023-08-03 17:41:52.571739400                                      0.035737   \n2023-08-03 17:41:53.068843100                                      0.038697   \n2023-08-03 17:41:53.565946800                                      0.035497   \n...                                                                     ...   \n2023-08-03 17:42:38.802383500                                      0.032445   \n2023-08-03 17:42:39.299487200                                      0.032604   \n2023-08-03 17:42:39.796590900                                      0.031911   \n2023-08-03 17:42:40.293694600                                      0.034120   \n2023-08-03 17:42:40.790798300                                      0.031607   \n\nregion                                     \nsub_region                                 \nlateral_side                               \nvalue_type                    quantile_05  \n2023-08-03 17:41:51.577532000         0.0  \n2023-08-03 17:41:52.074635700         0.0  \n2023-08-03 17:41:52.571739400         0.0  \n2023-08-03 17:41:53.068843100         0.0  \n2023-08-03 17:41:53.565946800         0.0  \n...                                   ...  \n2023-08-03 17:42:38.802383500         0.0  \n2023-08-03 17:42:39.299487200         0.0  \n2023-08-03 17:42:39.796590900         0.0  \n2023-08-03 17:42:40.293694600         0.0  \n2023-08-03 17:42:40.790798300         0.0  \n\n[100 rows x 100 columns]",
      "text/html": "<div>\n<style scoped>\n    .dataframe tbody tr th:only-of-type {\n        vertical-align: middle;\n    }\n\n    .dataframe tbody tr th {\n        vertical-align: top;\n    }\n\n    .dataframe thead tr th {\n        text-align: left;\n    }\n</style>\n<table border=\"1\" class=\"dataframe\">\n  <thead>\n    <tr>\n      <th>region</th>\n      <th colspan=\"21\" halign=\"left\">Diencephalon</th>\n    </tr>\n    <tr>\n      <th>sub_region</th>\n      <th colspan=\"10\" halign=\"left\">Anterior group of the posterior tubercular vmat2 neurons</th>\n      <th>...</th>\n      <th colspan=\"8\" halign=\"left\">Dopaminergic Cluster 1 - ventral thalamic and periventricular posterior tubercular DA neurons</th>\n      <th colspan=\"2\" halign=\"left\">Dopaminergic Cluster 2 - posterior tuberculum</th>\n    </tr>\n    <tr>\n      <th>lateral_side</th>\n      <th colspan=\"7\" halign=\"left\">left</th>\n      <th colspan=\"3\" halign=\"left\">right</th>\n      <th>...</th>\n      <th>left</th>\n      <th colspan=\"7\" halign=\"left\">right</th>\n      <th colspan=\"2\" halign=\"left\">left</th>\n    </tr>\n    <tr>\n      <th>value_type</th>\n      <th>mean</th>\n      <th>quantile_05</th>\n      <th>quantile_25</th>\n      <th>quantile_50</th>\n      <th>quantile_75</th>\n      <th>quantile_95</th>\n      <th>variance</th>\n      <th>mean</th>\n      <th>quantile_05</th>\n      <th>quantile_25</th>\n      <th>...</th>\n      <th>variance</th>\n      <th>mean</th>\n      <th>quantile_05</th>\n      <th>quantile_25</th>\n      <th>quantile_50</th>\n      <th>quantile_75</th>\n      <th>quantile_95</th>\n      <th>variance</th>\n      <th>mean</th>\n      <th>quantile_05</th>\n    </tr>\n  </thead>\n  <tbody>\n    <tr>\n      <th>2023-08-03 17:41:51.577532000</th>\n      <td>0.104865</td>\n      <td>0.000000</td>\n      <td>0.033116</td>\n      <td>0.080942</td>\n      <td>0.143664</td>\n      <td>0.302637</td>\n      <td>0.009962</td>\n      <td>0.079341</td>\n      <td>0.000000</td>\n      <td>0.023868</td>\n      <td>...</td>\n      <td>0.014271</td>\n      <td>0.163902</td>\n      <td>0.012331</td>\n      <td>0.075143</td>\n      <td>0.143389</td>\n      <td>0.227658</td>\n      <td>0.391826</td>\n      <td>0.014244</td>\n      <td>0.035175</td>\n      <td>0.0</td>\n    </tr>\n    <tr>\n      <th>2023-08-03 17:41:52.074635700</th>\n      <td>0.101257</td>\n      <td>0.000000</td>\n      <td>0.019686</td>\n      <td>0.064644</td>\n      <td>0.142229</td>\n      <td>0.319967</td>\n      <td>0.012616</td>\n      <td>0.077835</td>\n      <td>0.000476</td>\n      <td>0.021853</td>\n      <td>...</td>\n      <td>0.015095</td>\n      <td>0.171783</td>\n      <td>0.018276</td>\n      <td>0.078867</td>\n      <td>0.148822</td>\n      <td>0.236296</td>\n      <td>0.408027</td>\n      <td>0.015184</td>\n      <td>0.037155</td>\n      <td>0.0</td>\n    </tr>\n    <tr>\n      <th>2023-08-03 17:41:52.571739400</th>\n      <td>0.114340</td>\n      <td>0.002692</td>\n      <td>0.039159</td>\n      <td>0.091076</td>\n      <td>0.165914</td>\n      <td>0.299267</td>\n      <td>0.009555</td>\n      <td>0.078671</td>\n      <td>0.000000</td>\n      <td>0.022647</td>\n      <td>...</td>\n      <td>0.015006</td>\n      <td>0.174763</td>\n      <td>0.013674</td>\n      <td>0.082072</td>\n      <td>0.151630</td>\n      <td>0.239134</td>\n      <td>0.419491</td>\n      <td>0.015741</td>\n      <td>0.035737</td>\n      <td>0.0</td>\n    </tr>\n    <tr>\n      <th>2023-08-03 17:41:53.068843100</th>\n      <td>0.118689</td>\n      <td>0.000000</td>\n      <td>0.034794</td>\n      <td>0.095959</td>\n      <td>0.166494</td>\n      <td>0.330179</td>\n      <td>0.012404</td>\n      <td>0.069391</td>\n      <td>0.000000</td>\n      <td>0.013643</td>\n      <td>...</td>\n      <td>0.016629</td>\n      <td>0.175496</td>\n      <td>0.014632</td>\n      <td>0.083140</td>\n      <td>0.152240</td>\n      <td>0.242217</td>\n      <td>0.414449</td>\n      <td>0.015606</td>\n      <td>0.038697</td>\n      <td>0.0</td>\n    </tr>\n    <tr>\n      <th>2023-08-03 17:41:53.565946800</th>\n      <td>0.101860</td>\n      <td>0.000000</td>\n      <td>0.029087</td>\n      <td>0.073312</td>\n      <td>0.154987</td>\n      <td>0.293011</td>\n      <td>0.009216</td>\n      <td>0.073686</td>\n      <td>0.000177</td>\n      <td>0.011201</td>\n      <td>...</td>\n      <td>0.017035</td>\n      <td>0.176869</td>\n      <td>0.014614</td>\n      <td>0.081217</td>\n      <td>0.150287</td>\n      <td>0.244537</td>\n      <td>0.427317</td>\n      <td>0.016815</td>\n      <td>0.035497</td>\n      <td>0.0</td>\n    </tr>\n    <tr>\n      <th>...</th>\n      <td>...</td>\n      <td>...</td>\n      <td>...</td>\n      <td>...</td>\n      <td>...</td>\n      <td>...</td>\n      <td>...</td>\n      <td>...</td>\n      <td>...</td>\n      <td>...</td>\n      <td>...</td>\n      <td>...</td>\n      <td>...</td>\n      <td>...</td>\n      <td>...</td>\n      <td>...</td>\n      <td>...</td>\n      <td>...</td>\n      <td>...</td>\n      <td>...</td>\n      <td>...</td>\n    </tr>\n    <tr>\n      <th>2023-08-03 17:42:38.802383500</th>\n      <td>0.083988</td>\n      <td>0.000000</td>\n      <td>0.013674</td>\n      <td>0.061348</td>\n      <td>0.131089</td>\n      <td>0.227750</td>\n      <td>0.006303</td>\n      <td>0.064547</td>\n      <td>0.000000</td>\n      <td>0.009706</td>\n      <td>...</td>\n      <td>0.015063</td>\n      <td>0.155390</td>\n      <td>0.006837</td>\n      <td>0.064949</td>\n      <td>0.131730</td>\n      <td>0.218655</td>\n      <td>0.383280</td>\n      <td>0.014567</td>\n      <td>0.032445</td>\n      <td>0.0</td>\n    </tr>\n    <tr>\n      <th>2023-08-03 17:42:39.299487200</th>\n      <td>0.090106</td>\n      <td>0.000000</td>\n      <td>0.015139</td>\n      <td>0.065743</td>\n      <td>0.126999</td>\n      <td>0.306593</td>\n      <td>0.009427</td>\n      <td>0.067651</td>\n      <td>0.000665</td>\n      <td>0.018343</td>\n      <td>...</td>\n      <td>0.014192</td>\n      <td>0.155411</td>\n      <td>0.006348</td>\n      <td>0.067635</td>\n      <td>0.131120</td>\n      <td>0.214321</td>\n      <td>0.396917</td>\n      <td>0.014778</td>\n      <td>0.032604</td>\n      <td>0.0</td>\n    </tr>\n    <tr>\n      <th>2023-08-03 17:42:39.796590900</th>\n      <td>0.090636</td>\n      <td>0.000000</td>\n      <td>0.008760</td>\n      <td>0.060432</td>\n      <td>0.135728</td>\n      <td>0.251685</td>\n      <td>0.011577</td>\n      <td>0.079790</td>\n      <td>0.000488</td>\n      <td>0.026340</td>\n      <td>...</td>\n      <td>0.014480</td>\n      <td>0.158843</td>\n      <td>0.008912</td>\n      <td>0.067910</td>\n      <td>0.132951</td>\n      <td>0.221188</td>\n      <td>0.401209</td>\n      <td>0.015780</td>\n      <td>0.031911</td>\n      <td>0.0</td>\n    </tr>\n    <tr>\n      <th>2023-08-03 17:42:40.293694600</th>\n      <td>0.099025</td>\n      <td>0.000000</td>\n      <td>0.017397</td>\n      <td>0.071481</td>\n      <td>0.147815</td>\n      <td>0.300897</td>\n      <td>0.010583</td>\n      <td>0.069151</td>\n      <td>0.000177</td>\n      <td>0.013796</td>\n      <td>...</td>\n      <td>0.014262</td>\n      <td>0.153060</td>\n      <td>0.007447</td>\n      <td>0.065590</td>\n      <td>0.126114</td>\n      <td>0.215572</td>\n      <td>0.381815</td>\n      <td>0.013936</td>\n      <td>0.034120</td>\n      <td>0.0</td>\n    </tr>\n    <tr>\n      <th>2023-08-03 17:42:40.790798300</th>\n      <td>0.096220</td>\n      <td>0.000000</td>\n      <td>0.022220</td>\n      <td>0.077402</td>\n      <td>0.131425</td>\n      <td>0.275980</td>\n      <td>0.008759</td>\n      <td>0.070466</td>\n      <td>0.000000</td>\n      <td>0.018893</td>\n      <td>...</td>\n      <td>0.015625</td>\n      <td>0.160218</td>\n      <td>0.009993</td>\n      <td>0.069344</td>\n      <td>0.136430</td>\n      <td>0.220913</td>\n      <td>0.386632</td>\n      <td>0.014724</td>\n      <td>0.031607</td>\n      <td>0.0</td>\n    </tr>\n  </tbody>\n</table>\n<p>100 rows × 100 columns</p>\n</div>"
     },
     "execution_count": 203,
     "metadata": {},
     "output_type": "execute_result"
    }
   ],
   "source": [
    "# ALL LABEL MOD\n",
    "\n",
    "# let's assemble a dataframe\n",
    "\n",
    "df_list: list[pd.DataFrame] = [] \n",
    "\n",
    "for i_val_type, val_type in enumerate(value_type_list):\n",
    "    region_multiindex_tuples = [t + (val_type, ) for t in all_label_tuples]\n",
    "    region_multiindex = pd.MultiIndex.from_tuples(\n",
    "        region_multiindex_tuples,\n",
    "        names=multiindex_names)\n",
    "    \n",
    "    new_df = pd.DataFrame(\n",
    "        output_traces[i_val_type, :, :].T,\n",
    "        index=time_index,\n",
    "        columns=region_multiindex)\n",
    "    \n",
    "    df_list.append(new_df)\n",
    "    \n",
    "full_activity_df = pd.concat(df_list, axis='columns')\n",
    "full_activity_df = full_activity_df.reindex(\n",
    "    full_activity_df.columns.sort_values(ascending=[True, True, True, True]), \n",
    "    axis=1)\n",
    "\n",
    "full_activity_df.iloc[:100, :100]"
   ],
   "metadata": {
    "collapsed": false,
    "ExecuteTime": {
     "end_time": "2023-10-20T19:21:03.675763200Z",
     "start_time": "2023-10-20T19:21:03.382233500Z"
    }
   },
   "id": "9ba882712d12753"
  },
  {
   "cell_type": "markdown",
   "source": [
    "## Create dataframe for other region properties"
   ],
   "metadata": {
    "collapsed": false
   },
   "id": "8e6385007b6cc519"
  },
  {
   "cell_type": "code",
   "execution_count": 194,
   "outputs": [
    {
     "data": {
      "text/plain": "                                                     voxel_count  \\\nregion          sub_region             lateral_side                \nRhombencephalon Mauthner Cell Axon Cap left                  4.0   \n                                       right                14.0   \n                MiR2                   left                 10.0   \n                                       right                 5.0   \n                Glyt2 Cluster 10       left                  2.0   \n...                                                          ...   \n                Rhombomere 2           right             29347.0   \nDiencephalon    Diencephalon           left             116200.0   \n                                       right            121726.0   \nRhombencephalon Rhombencephalon        left             227518.0   \n                                       right            211703.0   \n\n                                                     relative_size  \nregion          sub_region             lateral_side                 \nRhombencephalon Mauthner Cell Axon Cap left               0.000003  \n                                       right              0.000009  \n                MiR2                   left               0.000007  \n                                       right              0.000003  \n                Glyt2 Cluster 10       left               0.000001  \n...                                                            ...  \n                Rhombomere 2           right              0.019248  \nDiencephalon    Diencephalon           left               0.076214  \n                                       right              0.079839  \nRhombencephalon Rhombencephalon        left               0.149227  \n                                       right              0.138854  \n\n[588 rows x 2 columns]",
      "text/html": "<div>\n<style scoped>\n    .dataframe tbody tr th:only-of-type {\n        vertical-align: middle;\n    }\n\n    .dataframe tbody tr th {\n        vertical-align: top;\n    }\n\n    .dataframe thead th {\n        text-align: right;\n    }\n</style>\n<table border=\"1\" class=\"dataframe\">\n  <thead>\n    <tr style=\"text-align: right;\">\n      <th></th>\n      <th></th>\n      <th></th>\n      <th>voxel_count</th>\n      <th>relative_size</th>\n    </tr>\n    <tr>\n      <th>region</th>\n      <th>sub_region</th>\n      <th>lateral_side</th>\n      <th></th>\n      <th></th>\n    </tr>\n  </thead>\n  <tbody>\n    <tr>\n      <th rowspan=\"7\" valign=\"top\">Rhombencephalon</th>\n      <th rowspan=\"2\" valign=\"top\">Mauthner Cell Axon Cap</th>\n      <th>left</th>\n      <td>4.0</td>\n      <td>0.000003</td>\n    </tr>\n    <tr>\n      <th>right</th>\n      <td>14.0</td>\n      <td>0.000009</td>\n    </tr>\n    <tr>\n      <th rowspan=\"2\" valign=\"top\">MiR2</th>\n      <th>left</th>\n      <td>10.0</td>\n      <td>0.000007</td>\n    </tr>\n    <tr>\n      <th>right</th>\n      <td>5.0</td>\n      <td>0.000003</td>\n    </tr>\n    <tr>\n      <th>Glyt2 Cluster 10</th>\n      <th>left</th>\n      <td>2.0</td>\n      <td>0.000001</td>\n    </tr>\n    <tr>\n      <th>...</th>\n      <th>...</th>\n      <td>...</td>\n      <td>...</td>\n    </tr>\n    <tr>\n      <th>Rhombomere 2</th>\n      <th>right</th>\n      <td>29347.0</td>\n      <td>0.019248</td>\n    </tr>\n    <tr>\n      <th rowspan=\"2\" valign=\"top\">Diencephalon</th>\n      <th rowspan=\"2\" valign=\"top\">Diencephalon</th>\n      <th>left</th>\n      <td>116200.0</td>\n      <td>0.076214</td>\n    </tr>\n    <tr>\n      <th>right</th>\n      <td>121726.0</td>\n      <td>0.079839</td>\n    </tr>\n    <tr>\n      <th rowspan=\"2\" valign=\"top\">Rhombencephalon</th>\n      <th rowspan=\"2\" valign=\"top\">Rhombencephalon</th>\n      <th>left</th>\n      <td>227518.0</td>\n      <td>0.149227</td>\n    </tr>\n    <tr>\n      <th>right</th>\n      <td>211703.0</td>\n      <td>0.138854</td>\n    </tr>\n  </tbody>\n</table>\n<p>588 rows × 2 columns</p>\n</div>"
     },
     "execution_count": 194,
     "metadata": {},
     "output_type": "execute_result"
    }
   ],
   "source": [
    "# ALL LABELS MOD\n",
    "\n",
    "r_multiindex_short = pd.MultiIndex.from_tuples(\n",
    "    all_label_tuples,\n",
    "    names=multiindex_names[:3])\n",
    "\n",
    "size_prop_df = pd.DataFrame(\n",
    "    np.concatenate(labels_arrays_sizes).reshape((-1, 1)) / [[1, total_voxel_count], ],\n",
    "    columns=['voxel_count', 'relative_size'],\n",
    "    index=r_multiindex_short)\n",
    "\n",
    "size_prop_df"
   ],
   "metadata": {
    "collapsed": false,
    "ExecuteTime": {
     "end_time": "2023-10-20T19:18:11.969613700Z",
     "start_time": "2023-10-20T19:18:11.819244800Z"
    }
   },
   "id": "4c7fe4b3c698a2f1"
  },
  {
   "cell_type": "code",
   "execution_count": 195,
   "outputs": [
    {
     "data": {
      "text/plain": "                                                     dorsoventral_loc  \\\nregion          sub_region             lateral_side                     \nRhombencephalon Mauthner Cell Axon Cap left                  0.470211   \n                                       right                 0.466305   \n                MiR2                   left                  0.532215   \n                                       right                 0.543150   \n                Glyt2 Cluster 10       left                  0.590486   \n...                                                               ...   \n                Rhombomere 2           right                 0.459127   \nDiencephalon    Diencephalon           left                  0.697274   \n                                       right                 0.700846   \nRhombencephalon Rhombencephalon        left                  0.373973   \n                                       right                 0.372233   \n\n                                                     lateral_loc  \\\nregion          sub_region             lateral_side                \nRhombencephalon Mauthner Cell Axon Cap left            -0.043734   \n                                       right            0.055791   \n                MiR2                   left            -0.030764   \n                                       right            0.035648   \n                Glyt2 Cluster 10       left            -0.082647   \n...                                                          ...   \n                Rhombomere 2           right            0.137714   \nDiencephalon    Diencephalon           left            -0.085979   \n                                       right            0.097878   \nRhombencephalon Rhombencephalon        left            -0.109332   \n                                       right            0.121459   \n\n                                                     anteroposterior_loc  \nregion          sub_region             lateral_side                       \nRhombencephalon Mauthner Cell Axon Cap left                     0.540266  \n                                       right                    0.540732  \n                MiR2                   left                     0.552388  \n                                       right                    0.552845  \n                Glyt2 Cluster 10       left                     0.553418  \n...                                                                  ...  \n                Rhombomere 2           right                    0.506010  \nDiencephalon    Diencephalon           left                     0.332165  \n                                       right                    0.332112  \nRhombencephalon Rhombencephalon        left                     0.555688  \n                                       right                    0.558001  \n\n[588 rows x 3 columns]",
      "text/html": "<div>\n<style scoped>\n    .dataframe tbody tr th:only-of-type {\n        vertical-align: middle;\n    }\n\n    .dataframe tbody tr th {\n        vertical-align: top;\n    }\n\n    .dataframe thead th {\n        text-align: right;\n    }\n</style>\n<table border=\"1\" class=\"dataframe\">\n  <thead>\n    <tr style=\"text-align: right;\">\n      <th></th>\n      <th></th>\n      <th></th>\n      <th>dorsoventral_loc</th>\n      <th>lateral_loc</th>\n      <th>anteroposterior_loc</th>\n    </tr>\n    <tr>\n      <th>region</th>\n      <th>sub_region</th>\n      <th>lateral_side</th>\n      <th></th>\n      <th></th>\n      <th></th>\n    </tr>\n  </thead>\n  <tbody>\n    <tr>\n      <th rowspan=\"7\" valign=\"top\">Rhombencephalon</th>\n      <th rowspan=\"2\" valign=\"top\">Mauthner Cell Axon Cap</th>\n      <th>left</th>\n      <td>0.470211</td>\n      <td>-0.043734</td>\n      <td>0.540266</td>\n    </tr>\n    <tr>\n      <th>right</th>\n      <td>0.466305</td>\n      <td>0.055791</td>\n      <td>0.540732</td>\n    </tr>\n    <tr>\n      <th rowspan=\"2\" valign=\"top\">MiR2</th>\n      <th>left</th>\n      <td>0.532215</td>\n      <td>-0.030764</td>\n      <td>0.552388</td>\n    </tr>\n    <tr>\n      <th>right</th>\n      <td>0.543150</td>\n      <td>0.035648</td>\n      <td>0.552845</td>\n    </tr>\n    <tr>\n      <th>Glyt2 Cluster 10</th>\n      <th>left</th>\n      <td>0.590486</td>\n      <td>-0.082647</td>\n      <td>0.553418</td>\n    </tr>\n    <tr>\n      <th>...</th>\n      <th>...</th>\n      <td>...</td>\n      <td>...</td>\n      <td>...</td>\n    </tr>\n    <tr>\n      <th>Rhombomere 2</th>\n      <th>right</th>\n      <td>0.459127</td>\n      <td>0.137714</td>\n      <td>0.506010</td>\n    </tr>\n    <tr>\n      <th rowspan=\"2\" valign=\"top\">Diencephalon</th>\n      <th rowspan=\"2\" valign=\"top\">Diencephalon</th>\n      <th>left</th>\n      <td>0.697274</td>\n      <td>-0.085979</td>\n      <td>0.332165</td>\n    </tr>\n    <tr>\n      <th>right</th>\n      <td>0.700846</td>\n      <td>0.097878</td>\n      <td>0.332112</td>\n    </tr>\n    <tr>\n      <th rowspan=\"2\" valign=\"top\">Rhombencephalon</th>\n      <th rowspan=\"2\" valign=\"top\">Rhombencephalon</th>\n      <th>left</th>\n      <td>0.373973</td>\n      <td>-0.109332</td>\n      <td>0.555688</td>\n    </tr>\n    <tr>\n      <th>right</th>\n      <td>0.372233</td>\n      <td>0.121459</td>\n      <td>0.558001</td>\n    </tr>\n  </tbody>\n</table>\n<p>588 rows × 3 columns</p>\n</div>"
     },
     "execution_count": 195,
     "metadata": {},
     "output_type": "execute_result"
    }
   ],
   "source": [
    "# ALL LABELS MOD\n",
    "\n",
    "region_loc_df = pd.DataFrame(\n",
    "    np.concatenate(lr_labels_locs),\n",
    "    columns=['dorsoventral_loc', 'lateral_loc', 'anteroposterior_loc'],\n",
    "    index=r_multiindex_short)\n",
    "\n",
    "region_loc_df\n",
    "\n"
   ],
   "metadata": {
    "collapsed": false,
    "ExecuteTime": {
     "end_time": "2023-10-20T19:18:13.973065800Z",
     "start_time": "2023-10-20T19:18:13.700109800Z"
    }
   },
   "id": "919f8a52ab8277df"
  },
  {
   "cell_type": "code",
   "execution_count": 196,
   "outputs": [
    {
     "data": {
      "text/plain": "                                                                               voxel_count  \\\nregion        sub_region                                         lateral_side                \nDiencephalon  Anterior group of the posterior tubercular vmat... left                230.0   \n                                                                 right               250.0   \n              Anterior preoptic dopaminergic cluster             left                  0.0   \n                                                                 right                56.0   \n              Anterior pretectum cluster of vmat2 Neurons        left               4962.0   \n...                                                                                    ...   \nTelencephalon Telencephalon                                      right             68044.0   \n              Vglut2 rind                                        left               8803.0   \n                                                                 right              9633.0   \n              Vmat2 cluster                                      left               2072.0   \n                                                                 right              1718.0   \n\n                                                                               relative_size  \\\nregion        sub_region                                         lateral_side                  \nDiencephalon  Anterior group of the posterior tubercular vmat... left               0.000151   \n                                                                 right              0.000164   \n              Anterior preoptic dopaminergic cluster             left               0.000000   \n                                                                 right              0.000037   \n              Anterior pretectum cluster of vmat2 Neurons        left               0.003255   \n...                                                                                      ...   \nTelencephalon Telencephalon                                      right              0.044629   \n              Vglut2 rind                                        left               0.005774   \n                                                                 right              0.006318   \n              Vmat2 cluster                                      left               0.001359   \n                                                                 right              0.001127   \n\n                                                                               dorsoventral_loc  \\\nregion        sub_region                                         lateral_side                     \nDiencephalon  Anterior group of the posterior tubercular vmat... left                  0.685867   \n                                                                 right                 0.683132   \n              Anterior preoptic dopaminergic cluster             left                  0.775257   \n                                                                 right                 0.775026   \n              Anterior pretectum cluster of vmat2 Neurons        left                  0.369542   \n...                                                                                         ...   \nTelencephalon Telencephalon                                      right                 0.487483   \n              Vglut2 rind                                        left                  0.385693   \n                                                                 right                 0.371637   \n              Vmat2 cluster                                      left                  0.438657   \n                                                                 right                 0.432558   \n\n                                                                               lateral_loc  \\\nregion        sub_region                                         lateral_side                \nDiencephalon  Anterior group of the posterior tubercular vmat... left            -0.040523   \n                                                                 right            0.051296   \n              Anterior preoptic dopaminergic cluster             left            -0.028810   \n                                                                 right            0.057495   \n              Anterior pretectum cluster of vmat2 Neurons        left            -0.050993   \n...                                                                                    ...   \nTelencephalon Telencephalon                                      right            0.085501   \n              Vglut2 rind                                        left            -0.093912   \n                                                                 right            0.108608   \n              Vmat2 cluster                                      left            -0.036046   \n                                                                 right            0.058436   \n\n                                                                               anteroposterior_loc  \nregion        sub_region                                         lateral_side                       \nDiencephalon  Anterior group of the posterior tubercular vmat... left                     0.325811  \n                                                                 right                    0.326514  \n              Anterior preoptic dopaminergic cluster             left                     0.207681  \n                                                                 right                    0.210860  \n              Anterior pretectum cluster of vmat2 Neurons        left                     0.292232  \n...                                                                                            ...  \nTelencephalon Telencephalon                                      right                    0.161814  \n              Vglut2 rind                                        left                     0.196534  \n                                                                 right                    0.198764  \n              Vmat2 cluster                                      left                     0.163727  \n                                                                 right                    0.166639  \n\n[588 rows x 5 columns]",
      "text/html": "<div>\n<style scoped>\n    .dataframe tbody tr th:only-of-type {\n        vertical-align: middle;\n    }\n\n    .dataframe tbody tr th {\n        vertical-align: top;\n    }\n\n    .dataframe thead th {\n        text-align: right;\n    }\n</style>\n<table border=\"1\" class=\"dataframe\">\n  <thead>\n    <tr style=\"text-align: right;\">\n      <th></th>\n      <th></th>\n      <th></th>\n      <th>voxel_count</th>\n      <th>relative_size</th>\n      <th>dorsoventral_loc</th>\n      <th>lateral_loc</th>\n      <th>anteroposterior_loc</th>\n    </tr>\n    <tr>\n      <th>region</th>\n      <th>sub_region</th>\n      <th>lateral_side</th>\n      <th></th>\n      <th></th>\n      <th></th>\n      <th></th>\n      <th></th>\n    </tr>\n  </thead>\n  <tbody>\n    <tr>\n      <th rowspan=\"5\" valign=\"top\">Diencephalon</th>\n      <th rowspan=\"2\" valign=\"top\">Anterior group of the posterior tubercular vmat2 neurons</th>\n      <th>left</th>\n      <td>230.0</td>\n      <td>0.000151</td>\n      <td>0.685867</td>\n      <td>-0.040523</td>\n      <td>0.325811</td>\n    </tr>\n    <tr>\n      <th>right</th>\n      <td>250.0</td>\n      <td>0.000164</td>\n      <td>0.683132</td>\n      <td>0.051296</td>\n      <td>0.326514</td>\n    </tr>\n    <tr>\n      <th rowspan=\"2\" valign=\"top\">Anterior preoptic dopaminergic cluster</th>\n      <th>left</th>\n      <td>0.0</td>\n      <td>0.000000</td>\n      <td>0.775257</td>\n      <td>-0.028810</td>\n      <td>0.207681</td>\n    </tr>\n    <tr>\n      <th>right</th>\n      <td>56.0</td>\n      <td>0.000037</td>\n      <td>0.775026</td>\n      <td>0.057495</td>\n      <td>0.210860</td>\n    </tr>\n    <tr>\n      <th>Anterior pretectum cluster of vmat2 Neurons</th>\n      <th>left</th>\n      <td>4962.0</td>\n      <td>0.003255</td>\n      <td>0.369542</td>\n      <td>-0.050993</td>\n      <td>0.292232</td>\n    </tr>\n    <tr>\n      <th>...</th>\n      <th>...</th>\n      <th>...</th>\n      <td>...</td>\n      <td>...</td>\n      <td>...</td>\n      <td>...</td>\n      <td>...</td>\n    </tr>\n    <tr>\n      <th rowspan=\"5\" valign=\"top\">Telencephalon</th>\n      <th>Telencephalon</th>\n      <th>right</th>\n      <td>68044.0</td>\n      <td>0.044629</td>\n      <td>0.487483</td>\n      <td>0.085501</td>\n      <td>0.161814</td>\n    </tr>\n    <tr>\n      <th rowspan=\"2\" valign=\"top\">Vglut2 rind</th>\n      <th>left</th>\n      <td>8803.0</td>\n      <td>0.005774</td>\n      <td>0.385693</td>\n      <td>-0.093912</td>\n      <td>0.196534</td>\n    </tr>\n    <tr>\n      <th>right</th>\n      <td>9633.0</td>\n      <td>0.006318</td>\n      <td>0.371637</td>\n      <td>0.108608</td>\n      <td>0.198764</td>\n    </tr>\n    <tr>\n      <th rowspan=\"2\" valign=\"top\">Vmat2 cluster</th>\n      <th>left</th>\n      <td>2072.0</td>\n      <td>0.001359</td>\n      <td>0.438657</td>\n      <td>-0.036046</td>\n      <td>0.163727</td>\n    </tr>\n    <tr>\n      <th>right</th>\n      <td>1718.0</td>\n      <td>0.001127</td>\n      <td>0.432558</td>\n      <td>0.058436</td>\n      <td>0.166639</td>\n    </tr>\n  </tbody>\n</table>\n<p>588 rows × 5 columns</p>\n</div>"
     },
     "execution_count": 196,
     "metadata": {},
     "output_type": "execute_result"
    }
   ],
   "source": [
    "# ALL LABELS MOD\n",
    "\n",
    "prop_df = pd.concat([size_prop_df, region_loc_df],\n",
    "                    axis='columns')\n",
    "prop_df = prop_df.reindex(\n",
    "    prop_df.index.sort_values(ascending=[True, True, True]), \n",
    "    axis=0)\n",
    "prop_df"
   ],
   "metadata": {
    "collapsed": false,
    "ExecuteTime": {
     "end_time": "2023-10-20T19:18:16.491153400Z",
     "start_time": "2023-10-20T19:18:16.294467900Z"
    }
   },
   "id": "83a9a56026188963"
  },
  {
   "cell_type": "code",
   "execution_count": 197,
   "outputs": [
    {
     "data": {
      "text/plain": "'I:\\\\CorbanSwain\\\\repos\\\\zmia\\\\data\\\\shared_exports\\\\cs-ii-29_fish-B_run-399_{:s}.pkl'"
     },
     "execution_count": 197,
     "metadata": {},
     "output_type": "execute_result"
    }
   ],
   "source": [
    "# ALL LABELS MOD\n",
    "\n",
    "experiment_name = live_2p_dsi['experiment']\n",
    "fish_id = live_2p_dsi['fish-id']\n",
    "run_number = desired_run\n",
    "\n",
    "export_file_name_fmt = f'{experiment_name}_fish-{fish_id}_run-{run_number:03d}_{{:s}}.pkl'\n",
    "export_path_fmt = os.path.join(\n",
    "    repo_dir, \n",
    "    'data',\n",
    "    'shared_exports',\n",
    "    export_file_name_fmt)\n",
    "\n",
    "outdir, _ = os.path.split(export_path_fmt)\n",
    "csutils.touchdir(outdir)\n",
    "\n",
    "export_path_fmt"
   ],
   "metadata": {
    "collapsed": false,
    "ExecuteTime": {
     "end_time": "2023-10-20T19:18:19.044371300Z",
     "start_time": "2023-10-20T19:18:18.866655300Z"
    }
   },
   "id": "78e54e06b3d890f0"
  },
  {
   "cell_type": "code",
   "execution_count": 198,
   "outputs": [],
   "source": [
    "# ALL LABELS MOD\n",
    "pd.to_pickle(full_activity_df, \n",
    "             export_path_fmt.format('ca-activity-vs-time-by-region'))\n",
    "pd.to_pickle(prop_df, \n",
    "             export_path_fmt.format('size-and-loc-vs-region'))"
   ],
   "metadata": {
    "collapsed": false,
    "ExecuteTime": {
     "end_time": "2023-10-20T19:18:24.419015600Z",
     "start_time": "2023-10-20T19:18:24.268257500Z"
    }
   },
   "id": "8f940c6f8f730bcc"
  },
  {
   "cell_type": "code",
   "execution_count": 84,
   "outputs": [],
   "source": [
    "cache_path = os.path.join(repo_dir, 'data', 'functional_activity_df_lr')"
   ],
   "metadata": {
    "collapsed": false,
    "ExecuteTime": {
     "end_time": "2023-10-07T16:33:05.694024400Z",
     "start_time": "2023-10-07T16:33:05.571223200Z"
    }
   },
   "id": "c148b243265ff4f7"
  },
  {
   "cell_type": "code",
   "execution_count": 113,
   "outputs": [],
   "source": [
    "csutils.save_to_disk(\n",
    "    functional_activity_df, \n",
    "    cache_path)\n",
    "functional_activity_df.to_csv(\n",
    "    cache_path + '.csv')"
   ],
   "metadata": {
    "collapsed": false,
    "ExecuteTime": {
     "end_time": "2023-10-11T12:58:46.036755900Z",
     "start_time": "2023-10-11T12:58:45.803131Z"
    }
   },
   "id": "56758b820e48a283"
  },
  {
   "cell_type": "code",
   "execution_count": 86,
   "outputs": [
    {
     "name": "stdout",
     "output_type": "stream",
     "text": [
      "functional_activity_df.shape = (1710, 65)\n"
     ]
    },
    {
     "data": {
      "text/plain": "                            #001 | 68.64k vxl | LEFT - Mesencephalon - Tectum Stratum Periventriculare  \\\n2023-08-03 17:41:51.577532                                           0.150157                            \n2023-08-03 17:41:52.074636                                           0.156645                            \n2023-08-03 17:41:52.571739                                           0.162769                            \n2023-08-03 17:41:53.068843                                           0.167676                            \n2023-08-03 17:41:53.565947                                           0.170721                            \n...                                                                       ...                            \n2023-08-03 17:55:59.139340                                           0.009820                            \n2023-08-03 17:55:59.636444                                           0.007752                            \n2023-08-03 17:56:00.133548                                           0.005976                            \n2023-08-03 17:56:00.630652                                           0.004577                            \n2023-08-03 17:56:01.127755                                           0.003586                            \n\n                            #002 | 72.39k vxl | RIGHT - Mesencephalon - Tectum Stratum Periventriculare  \\\n2023-08-03 17:41:51.577532                                           0.138701                             \n2023-08-03 17:41:52.074636                                           0.143930                             \n2023-08-03 17:41:52.571739                                           0.149019                             \n2023-08-03 17:41:53.068843                                           0.153225                             \n2023-08-03 17:41:53.565947                                           0.155970                             \n...                                                                       ...                             \n2023-08-03 17:55:59.139340                                           0.017254                             \n2023-08-03 17:55:59.636444                                           0.016282                             \n2023-08-03 17:56:00.133548                                           0.015402                             \n2023-08-03 17:56:00.630652                                           0.014660                             \n2023-08-03 17:56:01.127755                                           0.014118                             \n\n                            #003 | 45.13k vxl | LEFT - Rhombencephalon - Rhombomere 7  \\\n2023-08-03 17:41:51.577532                                           0.057621           \n2023-08-03 17:41:52.074636                                           0.059243           \n2023-08-03 17:41:52.571739                                           0.061286           \n2023-08-03 17:41:53.068843                                           0.063372           \n2023-08-03 17:41:53.565947                                           0.065091           \n...                                                                       ...           \n2023-08-03 17:55:59.139340                                           0.062655           \n2023-08-03 17:55:59.636444                                           0.060838           \n2023-08-03 17:56:00.133548                                           0.059022           \n2023-08-03 17:56:00.630652                                           0.057292           \n2023-08-03 17:56:01.127755                                           0.055794           \n\n                            #004 | 50.98k vxl | RIGHT - Rhombencephalon - Rhombomere 7  \\\n2023-08-03 17:41:51.577532                                           0.046461            \n2023-08-03 17:41:52.074636                                           0.047265            \n2023-08-03 17:41:52.571739                                           0.048854            \n2023-08-03 17:41:53.068843                                           0.050973            \n2023-08-03 17:41:53.565947                                           0.053135            \n...                                                                       ...            \n2023-08-03 17:55:59.139340                                           0.095588            \n2023-08-03 17:55:59.636444                                           0.090679            \n2023-08-03 17:56:00.133548                                           0.085473            \n2023-08-03 17:56:00.630652                                           0.080419            \n2023-08-03 17:56:01.127755                                           0.076003            \n\n                            #005 | 55.15k vxl | LEFT - Rhombencephalon - Rhombomere 1  \\\n2023-08-03 17:41:51.577532                                           0.072019           \n2023-08-03 17:41:52.074636                                           0.077685           \n2023-08-03 17:41:52.571739                                           0.083722           \n2023-08-03 17:41:53.068843                                           0.089449           \n2023-08-03 17:41:53.565947                                           0.094153           \n...                                                                       ...           \n2023-08-03 17:55:59.139340                                           0.016966           \n2023-08-03 17:55:59.636444                                           0.015173           \n2023-08-03 17:56:00.133548                                           0.013473           \n2023-08-03 17:56:00.630652                                           0.012028           \n2023-08-03 17:56:01.127755                                           0.011021           \n\n                            #006 | 55.36k vxl | RIGHT - Rhombencephalon - Rhombomere 1  \\\n2023-08-03 17:41:51.577532                                           0.097304            \n2023-08-03 17:41:52.074636                                           0.101803            \n2023-08-03 17:41:52.571739                                           0.105676            \n2023-08-03 17:41:53.068843                                           0.108249            \n2023-08-03 17:41:53.565947                                           0.109014            \n...                                                                       ...            \n2023-08-03 17:55:59.139340                                           0.017503            \n2023-08-03 17:55:59.636444                                           0.014948            \n2023-08-03 17:56:00.133548                                           0.011981            \n2023-08-03 17:56:00.630652                                           0.008775            \n2023-08-03 17:56:01.127755                                           0.005622            \n\n                            #007 | 34.35k vxl | LEFT - Mesencephalon - Tecum Neuropil  \\\n2023-08-03 17:41:51.577532                                           0.050253           \n2023-08-03 17:41:52.074636                                           0.060298           \n2023-08-03 17:41:52.571739                                           0.069596           \n2023-08-03 17:41:53.068843                                           0.077011           \n2023-08-03 17:41:53.565947                                           0.082166           \n...                                                                       ...           \n2023-08-03 17:55:59.139340                                           0.000000           \n2023-08-03 17:55:59.636444                                           0.000000           \n2023-08-03 17:56:00.133548                                           0.000000           \n2023-08-03 17:56:00.630652                                           0.000000           \n2023-08-03 17:56:01.127755                                           0.000000           \n\n                            #008 | 38.25k vxl | RIGHT - Mesencephalon - Tecum Neuropil  \\\n2023-08-03 17:41:51.577532                                           0.046932            \n2023-08-03 17:41:52.074636                                           0.059830            \n2023-08-03 17:41:52.571739                                           0.072241            \n2023-08-03 17:41:53.068843                                           0.082639            \n2023-08-03 17:41:53.565947                                           0.089766            \n...                                                                       ...            \n2023-08-03 17:55:59.139340                                           0.000000            \n2023-08-03 17:55:59.636444                                           0.000000            \n2023-08-03 17:56:00.133548                                           0.000000            \n2023-08-03 17:56:00.630652                                           0.000000            \n2023-08-03 17:56:01.127755                                           0.000000            \n\n                            #009 | 32.52k vxl | LEFT - Diencephalon - Intermediate Hypothalamus  \\\n2023-08-03 17:41:51.577532                                           0.050221                     \n2023-08-03 17:41:52.074636                                           0.055635                     \n2023-08-03 17:41:52.571739                                           0.060617                     \n2023-08-03 17:41:53.068843                                           0.064509                     \n2023-08-03 17:41:53.565947                                           0.066881                     \n...                                                                       ...                     \n2023-08-03 17:55:59.139340                                           0.000000                     \n2023-08-03 17:55:59.636444                                           0.000000                     \n2023-08-03 17:56:00.133548                                           0.000000                     \n2023-08-03 17:56:00.630652                                           0.000000                     \n2023-08-03 17:56:01.127755                                           0.000000                     \n\n                            #010 | 28.26k vxl | RIGHT - Diencephalon - Intermediate Hypothalamus  \\\n2023-08-03 17:41:51.577532                                           0.075835                      \n2023-08-03 17:41:52.074636                                           0.079562                      \n2023-08-03 17:41:52.571739                                           0.083089                      \n2023-08-03 17:41:53.068843                                           0.085942                      \n2023-08-03 17:41:53.565947                                           0.087566                      \n...                                                                       ...                      \n2023-08-03 17:55:59.139340                                           0.013440                      \n2023-08-03 17:55:59.636444                                           0.011368                      \n2023-08-03 17:56:00.133548                                           0.008851                      \n2023-08-03 17:56:00.630652                                           0.005978                      \n2023-08-03 17:56:01.127755                                           0.003087                      \n\n                            ...  \\\n2023-08-03 17:41:51.577532  ...   \n2023-08-03 17:41:52.074636  ...   \n2023-08-03 17:41:52.571739  ...   \n2023-08-03 17:41:53.068843  ...   \n2023-08-03 17:41:53.565947  ...   \n...                         ...   \n2023-08-03 17:55:59.139340  ...   \n2023-08-03 17:55:59.636444  ...   \n2023-08-03 17:56:00.133548  ...   \n2023-08-03 17:56:00.630652  ...   \n2023-08-03 17:56:01.127755  ...   \n\n                            #068 | 2.01k vxl | RIGHT - Telencephalon - Telencephalic Migrated Area 4 (M4)  \\\n2023-08-03 17:41:51.577532                                           0.191534                               \n2023-08-03 17:41:52.074636                                           0.198441                               \n2023-08-03 17:41:52.571739                                           0.204480                               \n2023-08-03 17:41:53.068843                                           0.208348                               \n2023-08-03 17:41:53.565947                                           0.209111                               \n...                                                                       ...                               \n2023-08-03 17:55:59.139340                                           0.078002                               \n2023-08-03 17:55:59.636444                                           0.078631                               \n2023-08-03 17:56:00.133548                                           0.076683                               \n2023-08-03 17:56:00.630652                                           0.072649                               \n2023-08-03 17:56:01.127755                                           0.067666                               \n\n                            #069 | 0.92k vxl | LEFT - Diencephalon - Hypothalamus 6.7FRhcrtR-Gal4 cluster 1  \\\n2023-08-03 17:41:51.577532                                           0.202594                                 \n2023-08-03 17:41:52.074636                                           0.216108                                 \n2023-08-03 17:41:52.571739                                           0.231337                                 \n2023-08-03 17:41:53.068843                                           0.246778                                 \n2023-08-03 17:41:53.565947                                           0.260868                                 \n...                                                                       ...                                 \n2023-08-03 17:55:59.139340                                           0.060533                                 \n2023-08-03 17:55:59.636444                                           0.057354                                 \n2023-08-03 17:56:00.133548                                           0.054315                                 \n2023-08-03 17:56:00.630652                                           0.051636                                 \n2023-08-03 17:56:01.127755                                           0.049649                                 \n\n                            #070 | 0.67k vxl | RIGHT - Diencephalon - Hypothalamus 6.7FRhcrtR-Gal4 cluster 1  \\\n2023-08-03 17:41:51.577532                                           0.426190                                  \n2023-08-03 17:41:52.074636                                           0.450335                                  \n2023-08-03 17:41:52.571739                                           0.475829                                  \n2023-08-03 17:41:53.068843                                           0.500498                                  \n2023-08-03 17:41:53.565947                                           0.522765                                  \n...                                                                       ...                                  \n2023-08-03 17:55:59.139340                                           0.076125                                  \n2023-08-03 17:55:59.636444                                           0.072912                                  \n2023-08-03 17:56:00.133548                                           0.066783                                  \n2023-08-03 17:56:00.630652                                           0.057985                                  \n2023-08-03 17:56:01.127755                                           0.048097                                  \n\n                            #071 | 0.83k vxl | LEFT - Mesencephalon - Retinal Arborization Field 9 (AF9)  \\\n2023-08-03 17:41:51.577532                                           0.574809                              \n2023-08-03 17:41:52.074636                                           0.580455                              \n2023-08-03 17:41:52.571739                                           0.579653                              \n2023-08-03 17:41:53.068843                                           0.574039                              \n2023-08-03 17:41:53.565947                                           0.564146                              \n...                                                                       ...                              \n2023-08-03 17:55:59.139340                                           0.191926                              \n2023-08-03 17:55:59.636444                                           0.195089                              \n2023-08-03 17:56:00.133548                                           0.195566                              \n2023-08-03 17:56:00.630652                                           0.192866                              \n2023-08-03 17:56:01.127755                                           0.187596                              \n\n                            #072 | 1.16k vxl | RIGHT - Mesencephalon - Retinal Arborization Field 9 (AF9)  \\\n2023-08-03 17:41:51.577532                                           0.304213                               \n2023-08-03 17:41:52.074636                                           0.329298                               \n2023-08-03 17:41:52.571739                                           0.350703                               \n2023-08-03 17:41:53.068843                                           0.366522                               \n2023-08-03 17:41:53.565947                                           0.375602                               \n...                                                                       ...                               \n2023-08-03 17:55:59.139340                                           0.135474                               \n2023-08-03 17:55:59.636444                                           0.134654                               \n2023-08-03 17:56:00.133548                                           0.132513                               \n2023-08-03 17:56:00.630652                                           0.129489                               \n2023-08-03 17:56:01.127755                                           0.126388                               \n\n                            #073 | 0.99k vxl | LEFT - Diencephalon - Migrated Area of the Pretectum (M1)  \\\n2023-08-03 17:41:51.577532                                           0.130085                              \n2023-08-03 17:41:52.074636                                           0.137631                              \n2023-08-03 17:41:52.571739                                           0.144073                              \n2023-08-03 17:41:53.068843                                           0.147429                              \n2023-08-03 17:41:53.565947                                           0.146730                              \n...                                                                       ...                              \n2023-08-03 17:55:59.139340                                           0.028695                              \n2023-08-03 17:55:59.636444                                           0.031548                              \n2023-08-03 17:56:00.133548                                           0.033638                              \n2023-08-03 17:56:00.630652                                           0.034347                              \n2023-08-03 17:56:01.127755                                           0.034031                              \n\n                            #074 | 0.86k vxl | RIGHT - Diencephalon - Migrated Area of the Pretectum (M1)  \\\n2023-08-03 17:41:51.577532                                           0.202192                               \n2023-08-03 17:41:52.074636                                           0.220586                               \n2023-08-03 17:41:52.571739                                           0.234635                               \n2023-08-03 17:41:53.068843                                           0.242445                               \n2023-08-03 17:41:53.565947                                           0.242979                               \n...                                                                       ...                               \n2023-08-03 17:55:59.139340                                           0.068900                               \n2023-08-03 17:55:59.636444                                           0.072977                               \n2023-08-03 17:56:00.133548                                           0.076972                               \n2023-08-03 17:56:00.630652                                           0.081226                               \n2023-08-03 17:56:01.127755                                           0.085746                               \n\n                            #077 | 0.71k vxl | LEFT - Diencephalon - Pineal  \\\n2023-08-03 17:41:51.577532                                         0.746535   \n2023-08-03 17:41:52.074636                                         0.685614   \n2023-08-03 17:41:52.571739                                         0.614328   \n2023-08-03 17:41:53.068843                                         0.535956   \n2023-08-03 17:41:53.565947                                         0.456180   \n...                                                                     ...   \n2023-08-03 17:55:59.139340                                         0.078905   \n2023-08-03 17:55:59.636444                                         0.071699   \n2023-08-03 17:56:00.133548                                         0.060917   \n2023-08-03 17:56:00.630652                                         0.048488   \n2023-08-03 17:56:01.127755                                         0.037212   \n\n                            #078 | 0.53k vxl | RIGHT - Diencephalon - Pineal  \\\n2023-08-03 17:41:51.577532                                          0.501024   \n2023-08-03 17:41:52.074636                                          0.428922   \n2023-08-03 17:41:52.571739                                          0.354488   \n2023-08-03 17:41:53.068843                                          0.284879   \n2023-08-03 17:41:53.565947                                          0.226356   \n...                                                                      ...   \n2023-08-03 17:55:59.139340                                          0.109831   \n2023-08-03 17:55:59.636444                                          0.102484   \n2023-08-03 17:56:00.133548                                          0.094911   \n2023-08-03 17:56:00.630652                                          0.087355   \n2023-08-03 17:56:01.127755                                          0.079664   \n\n                            #081 | 0.44k vxl | LEFT - Diencephalon - Dopaminergic Cluster 6 - hypothalamus  \n2023-08-03 17:41:51.577532                                           0.215814                               \n2023-08-03 17:41:52.074636                                           0.247272                               \n2023-08-03 17:41:52.571739                                           0.282001                               \n2023-08-03 17:41:53.068843                                           0.317219                               \n2023-08-03 17:41:53.565947                                           0.349954                               \n...                                                                       ...                               \n2023-08-03 17:55:59.139340                                           0.129702                               \n2023-08-03 17:55:59.636444                                           0.139596                               \n2023-08-03 17:56:00.133548                                           0.143344                               \n2023-08-03 17:56:00.630652                                           0.138201                               \n2023-08-03 17:56:01.127755                                           0.125307                               \n\n[1710 rows x 65 columns]",
      "text/html": "<div>\n<style scoped>\n    .dataframe tbody tr th:only-of-type {\n        vertical-align: middle;\n    }\n\n    .dataframe tbody tr th {\n        vertical-align: top;\n    }\n\n    .dataframe thead th {\n        text-align: right;\n    }\n</style>\n<table border=\"1\" class=\"dataframe\">\n  <thead>\n    <tr style=\"text-align: right;\">\n      <th></th>\n      <th>#001 | 68.64k vxl | LEFT - Mesencephalon - Tectum Stratum Periventriculare</th>\n      <th>#002 | 72.39k vxl | RIGHT - Mesencephalon - Tectum Stratum Periventriculare</th>\n      <th>#003 | 45.13k vxl | LEFT - Rhombencephalon - Rhombomere 7</th>\n      <th>#004 | 50.98k vxl | RIGHT - Rhombencephalon - Rhombomere 7</th>\n      <th>#005 | 55.15k vxl | LEFT - Rhombencephalon - Rhombomere 1</th>\n      <th>#006 | 55.36k vxl | RIGHT - Rhombencephalon - Rhombomere 1</th>\n      <th>#007 | 34.35k vxl | LEFT - Mesencephalon - Tecum Neuropil</th>\n      <th>#008 | 38.25k vxl | RIGHT - Mesencephalon - Tecum Neuropil</th>\n      <th>#009 | 32.52k vxl | LEFT - Diencephalon - Intermediate Hypothalamus</th>\n      <th>#010 | 28.26k vxl | RIGHT - Diencephalon - Intermediate Hypothalamus</th>\n      <th>...</th>\n      <th>#068 | 2.01k vxl | RIGHT - Telencephalon - Telencephalic Migrated Area 4 (M4)</th>\n      <th>#069 | 0.92k vxl | LEFT - Diencephalon - Hypothalamus 6.7FRhcrtR-Gal4 cluster 1</th>\n      <th>#070 | 0.67k vxl | RIGHT - Diencephalon - Hypothalamus 6.7FRhcrtR-Gal4 cluster 1</th>\n      <th>#071 | 0.83k vxl | LEFT - Mesencephalon - Retinal Arborization Field 9 (AF9)</th>\n      <th>#072 | 1.16k vxl | RIGHT - Mesencephalon - Retinal Arborization Field 9 (AF9)</th>\n      <th>#073 | 0.99k vxl | LEFT - Diencephalon - Migrated Area of the Pretectum (M1)</th>\n      <th>#074 | 0.86k vxl | RIGHT - Diencephalon - Migrated Area of the Pretectum (M1)</th>\n      <th>#077 | 0.71k vxl | LEFT - Diencephalon - Pineal</th>\n      <th>#078 | 0.53k vxl | RIGHT - Diencephalon - Pineal</th>\n      <th>#081 | 0.44k vxl | LEFT - Diencephalon - Dopaminergic Cluster 6 - hypothalamus</th>\n    </tr>\n  </thead>\n  <tbody>\n    <tr>\n      <th>2023-08-03 17:41:51.577532</th>\n      <td>0.150157</td>\n      <td>0.138701</td>\n      <td>0.057621</td>\n      <td>0.046461</td>\n      <td>0.072019</td>\n      <td>0.097304</td>\n      <td>0.050253</td>\n      <td>0.046932</td>\n      <td>0.050221</td>\n      <td>0.075835</td>\n      <td>...</td>\n      <td>0.191534</td>\n      <td>0.202594</td>\n      <td>0.426190</td>\n      <td>0.574809</td>\n      <td>0.304213</td>\n      <td>0.130085</td>\n      <td>0.202192</td>\n      <td>0.746535</td>\n      <td>0.501024</td>\n      <td>0.215814</td>\n    </tr>\n    <tr>\n      <th>2023-08-03 17:41:52.074636</th>\n      <td>0.156645</td>\n      <td>0.143930</td>\n      <td>0.059243</td>\n      <td>0.047265</td>\n      <td>0.077685</td>\n      <td>0.101803</td>\n      <td>0.060298</td>\n      <td>0.059830</td>\n      <td>0.055635</td>\n      <td>0.079562</td>\n      <td>...</td>\n      <td>0.198441</td>\n      <td>0.216108</td>\n      <td>0.450335</td>\n      <td>0.580455</td>\n      <td>0.329298</td>\n      <td>0.137631</td>\n      <td>0.220586</td>\n      <td>0.685614</td>\n      <td>0.428922</td>\n      <td>0.247272</td>\n    </tr>\n    <tr>\n      <th>2023-08-03 17:41:52.571739</th>\n      <td>0.162769</td>\n      <td>0.149019</td>\n      <td>0.061286</td>\n      <td>0.048854</td>\n      <td>0.083722</td>\n      <td>0.105676</td>\n      <td>0.069596</td>\n      <td>0.072241</td>\n      <td>0.060617</td>\n      <td>0.083089</td>\n      <td>...</td>\n      <td>0.204480</td>\n      <td>0.231337</td>\n      <td>0.475829</td>\n      <td>0.579653</td>\n      <td>0.350703</td>\n      <td>0.144073</td>\n      <td>0.234635</td>\n      <td>0.614328</td>\n      <td>0.354488</td>\n      <td>0.282001</td>\n    </tr>\n    <tr>\n      <th>2023-08-03 17:41:53.068843</th>\n      <td>0.167676</td>\n      <td>0.153225</td>\n      <td>0.063372</td>\n      <td>0.050973</td>\n      <td>0.089449</td>\n      <td>0.108249</td>\n      <td>0.077011</td>\n      <td>0.082639</td>\n      <td>0.064509</td>\n      <td>0.085942</td>\n      <td>...</td>\n      <td>0.208348</td>\n      <td>0.246778</td>\n      <td>0.500498</td>\n      <td>0.574039</td>\n      <td>0.366522</td>\n      <td>0.147429</td>\n      <td>0.242445</td>\n      <td>0.535956</td>\n      <td>0.284879</td>\n      <td>0.317219</td>\n    </tr>\n    <tr>\n      <th>2023-08-03 17:41:53.565947</th>\n      <td>0.170721</td>\n      <td>0.155970</td>\n      <td>0.065091</td>\n      <td>0.053135</td>\n      <td>0.094153</td>\n      <td>0.109014</td>\n      <td>0.082166</td>\n      <td>0.089766</td>\n      <td>0.066881</td>\n      <td>0.087566</td>\n      <td>...</td>\n      <td>0.209111</td>\n      <td>0.260868</td>\n      <td>0.522765</td>\n      <td>0.564146</td>\n      <td>0.375602</td>\n      <td>0.146730</td>\n      <td>0.242979</td>\n      <td>0.456180</td>\n      <td>0.226356</td>\n      <td>0.349954</td>\n    </tr>\n    <tr>\n      <th>...</th>\n      <td>...</td>\n      <td>...</td>\n      <td>...</td>\n      <td>...</td>\n      <td>...</td>\n      <td>...</td>\n      <td>...</td>\n      <td>...</td>\n      <td>...</td>\n      <td>...</td>\n      <td>...</td>\n      <td>...</td>\n      <td>...</td>\n      <td>...</td>\n      <td>...</td>\n      <td>...</td>\n      <td>...</td>\n      <td>...</td>\n      <td>...</td>\n      <td>...</td>\n      <td>...</td>\n    </tr>\n    <tr>\n      <th>2023-08-03 17:55:59.139340</th>\n      <td>0.009820</td>\n      <td>0.017254</td>\n      <td>0.062655</td>\n      <td>0.095588</td>\n      <td>0.016966</td>\n      <td>0.017503</td>\n      <td>0.000000</td>\n      <td>0.000000</td>\n      <td>0.000000</td>\n      <td>0.013440</td>\n      <td>...</td>\n      <td>0.078002</td>\n      <td>0.060533</td>\n      <td>0.076125</td>\n      <td>0.191926</td>\n      <td>0.135474</td>\n      <td>0.028695</td>\n      <td>0.068900</td>\n      <td>0.078905</td>\n      <td>0.109831</td>\n      <td>0.129702</td>\n    </tr>\n    <tr>\n      <th>2023-08-03 17:55:59.636444</th>\n      <td>0.007752</td>\n      <td>0.016282</td>\n      <td>0.060838</td>\n      <td>0.090679</td>\n      <td>0.015173</td>\n      <td>0.014948</td>\n      <td>0.000000</td>\n      <td>0.000000</td>\n      <td>0.000000</td>\n      <td>0.011368</td>\n      <td>...</td>\n      <td>0.078631</td>\n      <td>0.057354</td>\n      <td>0.072912</td>\n      <td>0.195089</td>\n      <td>0.134654</td>\n      <td>0.031548</td>\n      <td>0.072977</td>\n      <td>0.071699</td>\n      <td>0.102484</td>\n      <td>0.139596</td>\n    </tr>\n    <tr>\n      <th>2023-08-03 17:56:00.133548</th>\n      <td>0.005976</td>\n      <td>0.015402</td>\n      <td>0.059022</td>\n      <td>0.085473</td>\n      <td>0.013473</td>\n      <td>0.011981</td>\n      <td>0.000000</td>\n      <td>0.000000</td>\n      <td>0.000000</td>\n      <td>0.008851</td>\n      <td>...</td>\n      <td>0.076683</td>\n      <td>0.054315</td>\n      <td>0.066783</td>\n      <td>0.195566</td>\n      <td>0.132513</td>\n      <td>0.033638</td>\n      <td>0.076972</td>\n      <td>0.060917</td>\n      <td>0.094911</td>\n      <td>0.143344</td>\n    </tr>\n    <tr>\n      <th>2023-08-03 17:56:00.630652</th>\n      <td>0.004577</td>\n      <td>0.014660</td>\n      <td>0.057292</td>\n      <td>0.080419</td>\n      <td>0.012028</td>\n      <td>0.008775</td>\n      <td>0.000000</td>\n      <td>0.000000</td>\n      <td>0.000000</td>\n      <td>0.005978</td>\n      <td>...</td>\n      <td>0.072649</td>\n      <td>0.051636</td>\n      <td>0.057985</td>\n      <td>0.192866</td>\n      <td>0.129489</td>\n      <td>0.034347</td>\n      <td>0.081226</td>\n      <td>0.048488</td>\n      <td>0.087355</td>\n      <td>0.138201</td>\n    </tr>\n    <tr>\n      <th>2023-08-03 17:56:01.127755</th>\n      <td>0.003586</td>\n      <td>0.014118</td>\n      <td>0.055794</td>\n      <td>0.076003</td>\n      <td>0.011021</td>\n      <td>0.005622</td>\n      <td>0.000000</td>\n      <td>0.000000</td>\n      <td>0.000000</td>\n      <td>0.003087</td>\n      <td>...</td>\n      <td>0.067666</td>\n      <td>0.049649</td>\n      <td>0.048097</td>\n      <td>0.187596</td>\n      <td>0.126388</td>\n      <td>0.034031</td>\n      <td>0.085746</td>\n      <td>0.037212</td>\n      <td>0.079664</td>\n      <td>0.125307</td>\n    </tr>\n  </tbody>\n</table>\n<p>1710 rows × 65 columns</p>\n</div>"
     },
     "execution_count": 86,
     "metadata": {},
     "output_type": "execute_result"
    }
   ],
   "source": [
    "functional_activity_df = csutils.load_from_disk(cache_path)\n",
    "print(f'{functional_activity_df.shape = }')\n",
    "functional_activity_df"
   ],
   "metadata": {
    "collapsed": false,
    "ExecuteTime": {
     "end_time": "2023-10-07T16:33:07.027889700Z",
     "start_time": "2023-10-07T16:33:06.972976600Z"
    }
   },
   "id": "19e35c921ef36bd4"
  },
  {
   "cell_type": "code",
   "execution_count": 87,
   "outputs": [
    {
     "data": {
      "text/plain": "array([0.00000000e+00, 4.97104168e-01, 9.94207144e-01, ...,\n       8.48556016e+02, 8.49053120e+02, 8.49550223e+02])"
     },
     "execution_count": 87,
     "metadata": {},
     "output_type": "execute_result"
    }
   ],
   "source": [
    "time_index = functional_activity_df.index\n",
    "unix_time_array = time_index.astype(np.int64) / 10**9\n",
    "adj_unix_time_array = (unix_time_array - unix_time_array[0]).to_numpy()\n",
    "adj_unix_time_array"
   ],
   "metadata": {
    "collapsed": false,
    "ExecuteTime": {
     "end_time": "2023-10-07T16:33:07.451338300Z",
     "start_time": "2023-10-07T16:33:07.393303800Z"
    }
   },
   "id": "39961228f193bd8a"
  },
  {
   "cell_type": "code",
   "execution_count": 88,
   "outputs": [
    {
     "name": "stderr",
     "output_type": "stream",
     "text": [
      "I:\\CorbanSwain\\repos\\zmia\\envs\\zmia-env-3.9\\lib\\site-packages\\seaborn\\matrix.py:578: UserWarning:\n",
      "\n",
      "Clustering large matrix with scipy. Installing `fastcluster` may give better performance.\n",
      "\n"
     ]
    },
    {
     "name": "stdout",
     "output_type": "stream",
     "text": [
      "Using meshgrid arguments.\n"
     ]
    }
   ],
   "source": [
    "%matplotlib qt\n",
    "\n",
    "y_locs_for_dendrogram = (np.arange(functional_activity_df.shape[1]) + 0.5) * 10\n",
    "\n",
    "clst_grd = sns.clustermap(\n",
    "    functional_activity_df.T,\n",
    "    metric='correlation',\n",
    "    figsize=(20, 12),\n",
    "    col_cluster=False,\n",
    "    cmap='rocket',\n",
    "    vmin=0,\n",
    "    vmax=np.quantile(functional_activity_df, 0.99),\n",
    "    cbar_pos=None,\n",
    "    x_meshgrid=adj_unix_time_array,\n",
    "    y_meshgrid=y_locs_for_dendrogram\n",
    ")\n",
    "\n",
    "ax_hmap = clst_grd.ax_heatmap\n",
    "ax_row_dgram = clst_grd.ax_row_dendrogram\n",
    "\n",
    "hmap_pos_0 = ax_hmap.get_position()\n",
    "ax_row_dgram_pos_0 = ax_row_dgram.get_position()\n",
    "\n",
    "top_margin = 0.02\n",
    "new_height = 0.95\n",
    "\n",
    "ax_hmap.set_position(\n",
    "    [hmap_pos_0.x0, 1 - new_height - top_margin,\n",
    "     hmap_pos_0.width, new_height])\n",
    "ax_row_dgram.set_position(\n",
    "    [ax_row_dgram_pos_0.x0, 1 - new_height - top_margin,\n",
    "     ax_row_dgram_pos_0.width, new_height])\n",
    "\n",
    "\n",
    "\n",
    "ax_hmap.set_xlim([0, adj_unix_time_array.max()])\n",
    "ax_hmap.sharey(ax_row_dgram)\n",
    "ax_hmap.xaxis.set_major_locator(\n",
    "    mpl.ticker.AutoLocator())\n",
    "ax_hmap.tick_params(\n",
    "    axis='both', \n",
    "    which='both',\n",
    "    length=5)\n",
    "ax_hmap.xaxis.set_tick_params(labelbottom=True)\n",
    "\n",
    "y_labels_raw = functional_activity_df.columns.to_list() \n",
    "y_labels = [y_labels_raw[i] for i in \n",
    "            clst_grd.dendrogram_row.reordered_ind]\n",
    "ax_hmap.yaxis.set_ticks(\n",
    "    ticks=y_locs_for_dendrogram,\n",
    "    labels=y_labels)\n",
    "\n",
    "plt.setp(ax_hmap.get_xticklabels(),\n",
    "         rotation='horizontal')\n",
    "\n",
    "def sec_formatter(x, pos):\n",
    "    x_min, x_sec = np.divmod(x, 60)\n",
    "    x_min = x_min.astype(int)\n",
    "    x_str = f'{x_min:02d}:{x_sec:04.1f}'\n",
    "    return x_str\n",
    "\n",
    "ax_hmap.xaxis.set_major_formatter(\n",
    "    mpl.ticker.FuncFormatter(sec_formatter))\n",
    "\n",
    "sns.despine(\n",
    "    ax=ax_hmap,\n",
    "    left=False,\n",
    "    top=False,\n",
    "    bottom=False,\n",
    "    right=False)\n",
    "\n",
    "plt.show()\n",
    "\n",
    "# TODO - look into metrics for evaluating registration\n",
    "\n",
    "# TODO - try the same thing with three trials\n",
    "# TODO - we can combine all the trials potentially\n",
    "# TODO - color-code delay from onset in terms of the stimulus\n",
    "# TODO - we could also look at the variance ... this might highlight different regions\n",
    "#        this could emphasize that we're looking at higher order responses\n",
    "#        learning, desensitization, etc.\n",
    "\n",
    "# TODO - try overlay / registration of the confocal data"
   ],
   "metadata": {
    "collapsed": false,
    "ExecuteTime": {
     "end_time": "2023-10-07T16:33:10.280068900Z",
     "start_time": "2023-10-07T16:33:09.240268400Z"
    }
   },
   "id": "9aa3e7826b64c99"
  },
  {
   "cell_type": "markdown",
   "source": [
    "# Export Tiffs"
   ],
   "metadata": {
    "collapsed": false
   },
   "id": "c88cb41f8e134df4"
  },
  {
   "cell_type": "code",
   "execution_count": 136,
   "outputs": [
    {
     "name": "stdout",
     "output_type": "stream",
     "text": [
      "local-nb_cs-ii-29_import-tests (  12): INFO : Loading dataset fish-29B_run-395_2p-tz ...\n",
      "prairie_view_imports (2739): INFO : Loading dataset (two-photon-fish-29B_run-395_2p-tz) from config cs-ii-29_2p-recordings.\n",
      "prairie_view_imports (1531): INFO : Attempting to load dataset from cache.\n",
      "prairie_view_imports (1548): INFO : Loading of dataset from cache was successful.\n",
      "prairie_view_imports (1561): INFO : Loading in cached images.\n",
      "prairie_view_imports (1569): INFO : Loading in of cached images is sucessful.\n",
      "imaging_dataset (1034): INFO : Categorized PVDataset as PVDatasetCategory.Z_STACK_IMAGE|TZ_SERIES_IMAGE|MULTI_SEQUENCE\n",
      "imaging_dataset (1041): INFO : Initializing ImagingDataset(s) from prairie view dataset PVDataset(name='two-photon-fish-29B_run-395_2p-tz', num_sequences=855)\n",
      "imaging_dataset ( 682): INFO : Attempting to load imaging dataset from cache.\n",
      "local-nb_cs-ii-29_import-tests (  15): INFO : Dropping z-slices according to config.\n",
      "imaging_dataset ( 396): INFO : Performing the following operation on ImagingDataset(name='two-photon-fish-29B_run-395_2p-tz', shape=(855, 40, 362, 512)) and returning a new ImagingDataset:\n",
      "imaging_dataset ( 400): INFO : > __getitem__(*[(slice(None, None, None), [2, 3, 4, 5, 6, 7, 8, 9, 10, 11, 12, 13, 14, 15, 16, 17, 18, 19, 20, 21, 22, 23, 24, 25, 26, 27, 28, 29, 30, 31, 32, 33, 34, 35, 36, 37, 38, 39], slice(None, None, None), slice(None, None, None))], **{})\n",
      "local-nb_cs-ii-29_import-tests (  19): INFO : Saving dataset fish-29B_run-395_2p-tz to tiff ...\n",
      "imaging_dataset ( 514): INFO : Transposing dataset dimensions for creating a tiff readable in ImageJ.\n",
      "imaging_dataset ( 500): INFO : Saving dataset imaging data to an image file.\n",
      "local-nb_cs-ii-29_import-tests (  12): INFO : Loading dataset fish-29B_run-396_2p-tz ...\n",
      "prairie_view_imports (2739): INFO : Loading dataset (two-photon-fish-29B_run-396_2p-tz) from config cs-ii-29_2p-recordings.\n",
      "prairie_view_imports (1531): INFO : Attempting to load dataset from cache.\n"
     ]
    },
    {
     "name": "stderr",
     "output_type": "stream",
     "text": [
      "I:\\CorbanSwain\\repos\\zmia\\envs\\zmia-env-3.9\\lib\\site-packages\\tifffile\\tifffile.py:3575: UserWarning:\n",
      "\n",
      "<tifffile.TiffWriter 'ImagingDataset-_…n-395_2p-tz.tif'> truncating ImageJ file\n",
      "\n"
     ]
    },
    {
     "name": "stdout",
     "output_type": "stream",
     "text": [
      "prairie_view_imports (1548): INFO : Loading of dataset from cache was successful.\n",
      "prairie_view_imports (1561): INFO : Loading in cached images.\n",
      "prairie_view_imports (1569): INFO : Loading in of cached images is sucessful.\n",
      "imaging_dataset (1034): INFO : Categorized PVDataset as PVDatasetCategory.Z_STACK_IMAGE|TZ_SERIES_IMAGE|MULTI_SEQUENCE\n",
      "imaging_dataset (1041): INFO : Initializing ImagingDataset(s) from prairie view dataset PVDataset(name='two-photon-fish-29B_run-396_2p-tz', num_sequences=855)\n",
      "imaging_dataset ( 682): INFO : Attempting to load imaging dataset from cache.\n",
      "local-nb_cs-ii-29_import-tests (  19): INFO : Saving dataset fish-29B_run-396_2p-tz to tiff ...\n",
      "imaging_dataset ( 514): INFO : Transposing dataset dimensions for creating a tiff readable in ImageJ.\n",
      "imaging_dataset ( 500): INFO : Saving dataset imaging data to an image file.\n",
      "local-nb_cs-ii-29_import-tests (  12): INFO : Loading dataset fish-29B_run-398_2p-tz ...\n",
      "prairie_view_imports (2739): INFO : Loading dataset (two-photon-fish-29B_run-398_2p-tz) from config cs-ii-29_2p-recordings.\n",
      "prairie_view_imports (1531): INFO : Attempting to load dataset from cache.\n"
     ]
    },
    {
     "name": "stderr",
     "output_type": "stream",
     "text": [
      "I:\\CorbanSwain\\repos\\zmia\\envs\\zmia-env-3.9\\lib\\site-packages\\tifffile\\tifffile.py:3575: UserWarning:\n",
      "\n",
      "<tifffile.TiffWriter 'PVDataset-two-p…un-396_2p-tz.tif'> truncating ImageJ file\n",
      "\n"
     ]
    },
    {
     "name": "stdout",
     "output_type": "stream",
     "text": [
      "prairie_view_imports (1548): INFO : Loading of dataset from cache was successful.\n",
      "prairie_view_imports (1561): INFO : Loading in cached images.\n",
      "prairie_view_imports (1569): INFO : Loading in of cached images is sucessful.\n",
      "imaging_dataset (1034): INFO : Categorized PVDataset as PVDatasetCategory.Z_STACK_IMAGE|TZ_SERIES_IMAGE|MULTI_SEQUENCE\n",
      "imaging_dataset (1041): INFO : Initializing ImagingDataset(s) from prairie view dataset PVDataset(name='two-photon-fish-29B_run-398_2p-tz', num_sequences=1710)\n",
      "imaging_dataset ( 682): INFO : Attempting to load imaging dataset from cache.\n",
      "local-nb_cs-ii-29_import-tests (  19): INFO : Saving dataset fish-29B_run-398_2p-tz to tiff ...\n",
      "imaging_dataset ( 514): INFO : Transposing dataset dimensions for creating a tiff readable in ImageJ.\n",
      "imaging_dataset ( 500): INFO : Saving dataset imaging data to an image file.\n",
      "local-nb_cs-ii-29_import-tests (  12): INFO : Loading dataset fish-29B_run-399_2p-tz ...\n",
      "prairie_view_imports (2739): INFO : Loading dataset (two-photon-fish-29B_run-399_2p-tz) from config cs-ii-29_2p-recordings.\n",
      "prairie_view_imports (1531): INFO : Attempting to load dataset from cache.\n"
     ]
    },
    {
     "name": "stderr",
     "output_type": "stream",
     "text": [
      "I:\\CorbanSwain\\repos\\zmia\\envs\\zmia-env-3.9\\lib\\site-packages\\tifffile\\tifffile.py:3575: UserWarning:\n",
      "\n",
      "<tifffile.TiffWriter 'PVDataset-two-p…un-398_2p-tz.tif'> truncating ImageJ file\n",
      "\n"
     ]
    },
    {
     "name": "stdout",
     "output_type": "stream",
     "text": [
      "prairie_view_imports (1548): INFO : Loading of dataset from cache was successful.\n",
      "prairie_view_imports (1561): INFO : Loading in cached images.\n",
      "prairie_view_imports (1569): INFO : Loading in of cached images is sucessful.\n",
      "imaging_dataset (1034): INFO : Categorized PVDataset as PVDatasetCategory.Z_STACK_IMAGE|TZ_SERIES_IMAGE|MULTI_SEQUENCE\n",
      "imaging_dataset (1041): INFO : Initializing ImagingDataset(s) from prairie view dataset PVDataset(name='two-photon-fish-29B_run-399_2p-tz', num_sequences=1710)\n",
      "imaging_dataset ( 682): INFO : Attempting to load imaging dataset from cache.\n",
      "local-nb_cs-ii-29_import-tests (  15): INFO : Dropping z-slices according to config.\n",
      "imaging_dataset ( 396): INFO : Performing the following operation on ImagingDataset(name='two-photon-fish-29B_run-399_2p-tz', shape=(1710, 20, 362, 512)) and returning a new ImagingDataset:\n",
      "imaging_dataset ( 400): INFO : > __getitem__(*[(slice(None, None, None), [2, 3, 4, 5, 6, 7, 8, 9, 10, 11, 12, 13, 14, 15, 16, 17, 18, 19], slice(None, None, None), slice(None, None, None))], **{})\n",
      "local-nb_cs-ii-29_import-tests (  19): INFO : Saving dataset fish-29B_run-399_2p-tz to tiff ...\n",
      "imaging_dataset ( 514): INFO : Transposing dataset dimensions for creating a tiff readable in ImageJ.\n",
      "imaging_dataset ( 500): INFO : Saving dataset imaging data to an image file.\n",
      "local-nb_cs-ii-29_import-tests (  12): INFO : Loading dataset fish-29B_anatomy-ref-anterior ...\n",
      "prairie_view_imports (2739): INFO : Loading dataset (two-photon-fish-29B_anatomy-ref-anterior) from config cs-ii-29_2p-recordings.\n",
      "prairie_view_imports (1531): INFO : Attempting to load dataset from cache.\n"
     ]
    },
    {
     "name": "stderr",
     "output_type": "stream",
     "text": [
      "I:\\CorbanSwain\\repos\\zmia\\envs\\zmia-env-3.9\\lib\\site-packages\\tifffile\\tifffile.py:3575: UserWarning:\n",
      "\n",
      "<tifffile.TiffWriter 'ImagingDataset-_…n-399_2p-tz.tif'> truncating ImageJ file\n",
      "\n"
     ]
    },
    {
     "name": "stdout",
     "output_type": "stream",
     "text": [
      "prairie_view_imports (1548): INFO : Loading of dataset from cache was successful.\n",
      "prairie_view_imports (1561): INFO : Loading in cached images.\n",
      "prairie_view_imports (1569): INFO : Loading in of cached images is sucessful.\n",
      "imaging_dataset (1034): INFO : Categorized PVDataset as PVDatasetCategory.Z_STACK_IMAGE|MULTI_SEQUENCE\n",
      "imaging_dataset (1041): INFO : Initializing ImagingDataset(s) from prairie view dataset PVDataset(name='two-photon-fish-29B_anatomy-ref-anterior', num_sequences=10)\n",
      "imaging_dataset ( 682): INFO : Attempting to load imaging dataset from cache.\n",
      "local-nb_cs-ii-29_import-tests (  19): INFO : Saving dataset fish-29B_anatomy-ref-anterior to tiff ...\n",
      "imaging_dataset ( 514): INFO : Transposing dataset dimensions for creating a tiff readable in ImageJ.\n",
      "imaging_dataset ( 500): INFO : Saving dataset imaging data to an image file.\n",
      "local-nb_cs-ii-29_import-tests (  12): INFO : Loading dataset fish-29B_anatomy-ref-posterior ...\n",
      "prairie_view_imports (2739): INFO : Loading dataset (two-photon-fish-29B_anatomy-ref-posterior) from config cs-ii-29_2p-recordings.\n",
      "prairie_view_imports (1531): INFO : Attempting to load dataset from cache.\n",
      "prairie_view_imports (1548): INFO : Loading of dataset from cache was successful.\n",
      "prairie_view_imports (1561): INFO : Loading in cached images.\n",
      "prairie_view_imports (1569): INFO : Loading in of cached images is sucessful.\n",
      "imaging_dataset (1034): INFO : Categorized PVDataset as PVDatasetCategory.Z_STACK_IMAGE\n",
      "imaging_dataset (1041): INFO : Initializing ImagingDataset(s) from prairie view dataset PVDataset(name='two-photon-fish-29B_anatomy-ref-posterior', num_sequences=1)\n",
      "imaging_dataset ( 682): INFO : Attempting to load imaging dataset from cache.\n",
      "local-nb_cs-ii-29_import-tests (  19): INFO : Saving dataset fish-29B_anatomy-ref-posterior to tiff ...\n",
      "imaging_dataset ( 514): INFO : Transposing dataset dimensions for creating a tiff readable in ImageJ.\n",
      "imaging_dataset ( 500): INFO : Saving dataset imaging data to an image file.\n"
     ]
    }
   ],
   "source": [
    "dataset_names = [\n",
    "    'fish-29B_run-395_2p-tz',\n",
    "    'fish-29B_run-396_2p-tz',\n",
    "    'fish-29B_run-398_2p-tz',\n",
    "    'fish-29B_run-399_2p-tz',\n",
    "    'fish-29B_anatomy-ref-anterior',\n",
    "    'fish-29B_anatomy-ref-posterior'\n",
    "]\n",
    "\n",
    "for dsi_name in dataset_names:\n",
    "    dsi = config.get_dataset_info(name=dsi_name)\n",
    "    log.info('Loading dataset {:s} ...', dsi_name)\n",
    "    imds = imd.ImagingDataset.from_dataset_info(dsi)\n",
    "    if 'z-index-to-ignore' in dsi:\n",
    "        log.info('Dropping z-slices according to config.')\n",
    "        imds = imds.drop_slices(\n",
    "            slice_indexes=dsi['z-index-to-ignore'],\n",
    "            axis=Dim.Z)\n",
    "    log.info('Saving dataset {:s} to tiff ...', dsi_name)\n",
    "    imds.to_tiff(use_imagej_dim_order=True)"
   ],
   "metadata": {
    "collapsed": false,
    "ExecuteTime": {
     "end_time": "2023-09-13T15:18:44.481885500Z",
     "start_time": "2023-09-13T15:13:12.790018600Z"
    }
   },
   "id": "9aa252d4e440d4f7"
  },
  {
   "cell_type": "markdown",
   "source": [
    "# Loading Stimulation and Sensor Data"
   ],
   "metadata": {
    "collapsed": false
   },
   "id": "ac54d81c4412be87"
  },
  {
   "cell_type": "code",
   "execution_count": 164,
   "outputs": [
    {
     "data": {
      "text/plain": "   rel time (s)  step num\n0  11380.084846        -2\n1  11385.090659        -1\n2  11385.098856         0\n3  11685.099867         1\n4  11745.100274         2\n5  11865.100722         3\n6  11925.101387         4\n7  12045.102137         5\n8  12105.103131         6\n9  12225.103101        -3",
      "text/html": "<div>\n<style scoped>\n    .dataframe tbody tr th:only-of-type {\n        vertical-align: middle;\n    }\n\n    .dataframe tbody tr th {\n        vertical-align: top;\n    }\n\n    .dataframe thead th {\n        text-align: right;\n    }\n</style>\n<table border=\"1\" class=\"dataframe\">\n  <thead>\n    <tr style=\"text-align: right;\">\n      <th></th>\n      <th>rel time (s)</th>\n      <th>step num</th>\n    </tr>\n  </thead>\n  <tbody>\n    <tr>\n      <th>0</th>\n      <td>11380.084846</td>\n      <td>-2</td>\n    </tr>\n    <tr>\n      <th>1</th>\n      <td>11385.090659</td>\n      <td>-1</td>\n    </tr>\n    <tr>\n      <th>2</th>\n      <td>11385.098856</td>\n      <td>0</td>\n    </tr>\n    <tr>\n      <th>3</th>\n      <td>11685.099867</td>\n      <td>1</td>\n    </tr>\n    <tr>\n      <th>4</th>\n      <td>11745.100274</td>\n      <td>2</td>\n    </tr>\n    <tr>\n      <th>5</th>\n      <td>11865.100722</td>\n      <td>3</td>\n    </tr>\n    <tr>\n      <th>6</th>\n      <td>11925.101387</td>\n      <td>4</td>\n    </tr>\n    <tr>\n      <th>7</th>\n      <td>12045.102137</td>\n      <td>5</td>\n    </tr>\n    <tr>\n      <th>8</th>\n      <td>12105.103131</td>\n      <td>6</td>\n    </tr>\n    <tr>\n      <th>9</th>\n      <td>12225.103101</td>\n      <td>-3</td>\n    </tr>\n  </tbody>\n</table>\n</div>"
     },
     "execution_count": 164,
     "metadata": {},
     "output_type": "execute_result"
    }
   ],
   "source": [
    "stim_control_df = pd.read_csv(control_dsi.full_path,\n",
    "                              header=0,\n",
    "                              skiprows=0)\n",
    "stim_control_df.columns = stim_control_df.columns.str.strip()\n",
    "stim_control_df"
   ],
   "metadata": {
    "collapsed": false,
    "ExecuteTime": {
     "end_time": "2023-10-20T18:49:27.450229700Z",
     "start_time": "2023-10-20T18:49:27.322434500Z"
    }
   },
   "id": "b13f3be31fcc10b1"
  },
  {
   "cell_type": "code",
   "execution_count": 165,
   "outputs": [
    {
     "data": {
      "text/plain": "               time  flow-mlpm00  flow-err00  temp-c00  temp-err00  \\\n0      11380.193771      -0.0001           0    29.570           0   \n1      11381.776729      -0.0001           0    29.705           0   \n2      11381.801501      -0.0001           0    29.685           0   \n3      11381.825011      -0.0001           0    29.705           0   \n4      11381.849761      -0.0001           0    29.765           0   \n...             ...          ...         ...       ...         ...   \n33626  12228.013561      -0.0001           0    30.680           0   \n33627  12228.037893      -0.0001           0    30.735           0   \n33628  12228.062981      -0.0001           0    30.745           0   \n33629  12228.091313      -0.0001           0    30.720           0   \n33630  12228.116830      -0.0001           0    30.720           0   \n\n       air-in-line00  high-flow00  flag-err00  flow-mlpm01  flow-err01  ...  \\\n0                  1            0           0      -0.0002           0  ...   \n1                  1            0           0      -0.0001           0  ...   \n2                  1            0           0       0.0000           0  ...   \n3                  1            0           0       0.0001           0  ...   \n4                  1            0           0       0.0001           0  ...   \n...              ...          ...         ...          ...         ...  ...   \n33626              1            0           0       0.0000           0  ...   \n33627              1            0           0       0.0000           0  ...   \n33628              1            0           0       0.0001           0  ...   \n33629              1            0           0       0.0001           0  ...   \n33630              1            0           0       0.0002           0  ...   \n\n       air-in-line10  high-flow10  flag-err10  flow-mlpm11  flow-err11  \\\n0                  0            0           0        0.192           0   \n1                  0            0           0        0.370           0   \n2                  0            0           0        0.428           0   \n3                  0            0           0        0.460           0   \n4                  0            0           0        0.476           0   \n...              ...          ...         ...          ...         ...   \n33626              0            0           0        0.492           0   \n33627              0            0           0        0.492           0   \n33628              0            0           0        0.490           0   \n33629              0            0           0        0.490           0   \n33630              0            0           0        0.492           0   \n\n       temp-c11  temp-err11  air-in-line11  high-flow11  flag-err11  \n0        26.805           0              0            0           0  \n1        26.755           0              0            0           0  \n2        26.810           0              0            0           0  \n3        26.810           0              0            0           0  \n4        26.895           0              0            0           0  \n...         ...         ...            ...          ...         ...  \n33626    27.115           0              0            0           0  \n33627    27.110           0              0            0           0  \n33628    27.135           0              0            0           0  \n33629    27.110           0              0            0           0  \n33630    27.130           0              0            0           0  \n\n[33631 rows x 85 columns]",
      "text/html": "<div>\n<style scoped>\n    .dataframe tbody tr th:only-of-type {\n        vertical-align: middle;\n    }\n\n    .dataframe tbody tr th {\n        vertical-align: top;\n    }\n\n    .dataframe thead th {\n        text-align: right;\n    }\n</style>\n<table border=\"1\" class=\"dataframe\">\n  <thead>\n    <tr style=\"text-align: right;\">\n      <th></th>\n      <th>time</th>\n      <th>flow-mlpm00</th>\n      <th>flow-err00</th>\n      <th>temp-c00</th>\n      <th>temp-err00</th>\n      <th>air-in-line00</th>\n      <th>high-flow00</th>\n      <th>flag-err00</th>\n      <th>flow-mlpm01</th>\n      <th>flow-err01</th>\n      <th>...</th>\n      <th>air-in-line10</th>\n      <th>high-flow10</th>\n      <th>flag-err10</th>\n      <th>flow-mlpm11</th>\n      <th>flow-err11</th>\n      <th>temp-c11</th>\n      <th>temp-err11</th>\n      <th>air-in-line11</th>\n      <th>high-flow11</th>\n      <th>flag-err11</th>\n    </tr>\n  </thead>\n  <tbody>\n    <tr>\n      <th>0</th>\n      <td>11380.193771</td>\n      <td>-0.0001</td>\n      <td>0</td>\n      <td>29.570</td>\n      <td>0</td>\n      <td>1</td>\n      <td>0</td>\n      <td>0</td>\n      <td>-0.0002</td>\n      <td>0</td>\n      <td>...</td>\n      <td>0</td>\n      <td>0</td>\n      <td>0</td>\n      <td>0.192</td>\n      <td>0</td>\n      <td>26.805</td>\n      <td>0</td>\n      <td>0</td>\n      <td>0</td>\n      <td>0</td>\n    </tr>\n    <tr>\n      <th>1</th>\n      <td>11381.776729</td>\n      <td>-0.0001</td>\n      <td>0</td>\n      <td>29.705</td>\n      <td>0</td>\n      <td>1</td>\n      <td>0</td>\n      <td>0</td>\n      <td>-0.0001</td>\n      <td>0</td>\n      <td>...</td>\n      <td>0</td>\n      <td>0</td>\n      <td>0</td>\n      <td>0.370</td>\n      <td>0</td>\n      <td>26.755</td>\n      <td>0</td>\n      <td>0</td>\n      <td>0</td>\n      <td>0</td>\n    </tr>\n    <tr>\n      <th>2</th>\n      <td>11381.801501</td>\n      <td>-0.0001</td>\n      <td>0</td>\n      <td>29.685</td>\n      <td>0</td>\n      <td>1</td>\n      <td>0</td>\n      <td>0</td>\n      <td>0.0000</td>\n      <td>0</td>\n      <td>...</td>\n      <td>0</td>\n      <td>0</td>\n      <td>0</td>\n      <td>0.428</td>\n      <td>0</td>\n      <td>26.810</td>\n      <td>0</td>\n      <td>0</td>\n      <td>0</td>\n      <td>0</td>\n    </tr>\n    <tr>\n      <th>3</th>\n      <td>11381.825011</td>\n      <td>-0.0001</td>\n      <td>0</td>\n      <td>29.705</td>\n      <td>0</td>\n      <td>1</td>\n      <td>0</td>\n      <td>0</td>\n      <td>0.0001</td>\n      <td>0</td>\n      <td>...</td>\n      <td>0</td>\n      <td>0</td>\n      <td>0</td>\n      <td>0.460</td>\n      <td>0</td>\n      <td>26.810</td>\n      <td>0</td>\n      <td>0</td>\n      <td>0</td>\n      <td>0</td>\n    </tr>\n    <tr>\n      <th>4</th>\n      <td>11381.849761</td>\n      <td>-0.0001</td>\n      <td>0</td>\n      <td>29.765</td>\n      <td>0</td>\n      <td>1</td>\n      <td>0</td>\n      <td>0</td>\n      <td>0.0001</td>\n      <td>0</td>\n      <td>...</td>\n      <td>0</td>\n      <td>0</td>\n      <td>0</td>\n      <td>0.476</td>\n      <td>0</td>\n      <td>26.895</td>\n      <td>0</td>\n      <td>0</td>\n      <td>0</td>\n      <td>0</td>\n    </tr>\n    <tr>\n      <th>...</th>\n      <td>...</td>\n      <td>...</td>\n      <td>...</td>\n      <td>...</td>\n      <td>...</td>\n      <td>...</td>\n      <td>...</td>\n      <td>...</td>\n      <td>...</td>\n      <td>...</td>\n      <td>...</td>\n      <td>...</td>\n      <td>...</td>\n      <td>...</td>\n      <td>...</td>\n      <td>...</td>\n      <td>...</td>\n      <td>...</td>\n      <td>...</td>\n      <td>...</td>\n      <td>...</td>\n    </tr>\n    <tr>\n      <th>33626</th>\n      <td>12228.013561</td>\n      <td>-0.0001</td>\n      <td>0</td>\n      <td>30.680</td>\n      <td>0</td>\n      <td>1</td>\n      <td>0</td>\n      <td>0</td>\n      <td>0.0000</td>\n      <td>0</td>\n      <td>...</td>\n      <td>0</td>\n      <td>0</td>\n      <td>0</td>\n      <td>0.492</td>\n      <td>0</td>\n      <td>27.115</td>\n      <td>0</td>\n      <td>0</td>\n      <td>0</td>\n      <td>0</td>\n    </tr>\n    <tr>\n      <th>33627</th>\n      <td>12228.037893</td>\n      <td>-0.0001</td>\n      <td>0</td>\n      <td>30.735</td>\n      <td>0</td>\n      <td>1</td>\n      <td>0</td>\n      <td>0</td>\n      <td>0.0000</td>\n      <td>0</td>\n      <td>...</td>\n      <td>0</td>\n      <td>0</td>\n      <td>0</td>\n      <td>0.492</td>\n      <td>0</td>\n      <td>27.110</td>\n      <td>0</td>\n      <td>0</td>\n      <td>0</td>\n      <td>0</td>\n    </tr>\n    <tr>\n      <th>33628</th>\n      <td>12228.062981</td>\n      <td>-0.0001</td>\n      <td>0</td>\n      <td>30.745</td>\n      <td>0</td>\n      <td>1</td>\n      <td>0</td>\n      <td>0</td>\n      <td>0.0001</td>\n      <td>0</td>\n      <td>...</td>\n      <td>0</td>\n      <td>0</td>\n      <td>0</td>\n      <td>0.490</td>\n      <td>0</td>\n      <td>27.135</td>\n      <td>0</td>\n      <td>0</td>\n      <td>0</td>\n      <td>0</td>\n    </tr>\n    <tr>\n      <th>33629</th>\n      <td>12228.091313</td>\n      <td>-0.0001</td>\n      <td>0</td>\n      <td>30.720</td>\n      <td>0</td>\n      <td>1</td>\n      <td>0</td>\n      <td>0</td>\n      <td>0.0001</td>\n      <td>0</td>\n      <td>...</td>\n      <td>0</td>\n      <td>0</td>\n      <td>0</td>\n      <td>0.490</td>\n      <td>0</td>\n      <td>27.110</td>\n      <td>0</td>\n      <td>0</td>\n      <td>0</td>\n      <td>0</td>\n    </tr>\n    <tr>\n      <th>33630</th>\n      <td>12228.116830</td>\n      <td>-0.0001</td>\n      <td>0</td>\n      <td>30.720</td>\n      <td>0</td>\n      <td>1</td>\n      <td>0</td>\n      <td>0</td>\n      <td>0.0002</td>\n      <td>0</td>\n      <td>...</td>\n      <td>0</td>\n      <td>0</td>\n      <td>0</td>\n      <td>0.492</td>\n      <td>0</td>\n      <td>27.130</td>\n      <td>0</td>\n      <td>0</td>\n      <td>0</td>\n      <td>0</td>\n    </tr>\n  </tbody>\n</table>\n<p>33631 rows × 85 columns</p>\n</div>"
     },
     "execution_count": 165,
     "metadata": {},
     "output_type": "execute_result"
    }
   ],
   "source": [
    "stim_sensor_df = pd.read_csv(sensor_dsi.full_path,\n",
    "                             header=0,\n",
    "                             skiprows=1)\n",
    "stim_sensor_df.columns = stim_sensor_df.columns.str.strip()\n",
    "stim_sensor_df"
   ],
   "metadata": {
    "collapsed": false,
    "ExecuteTime": {
     "end_time": "2023-10-20T18:49:29.448944Z",
     "start_time": "2023-10-20T18:49:28.543479600Z"
    }
   },
   "id": "7492f39e788022a7"
  },
  {
   "cell_type": "code",
   "execution_count": 166,
   "outputs": [
    {
     "data": {
      "text/plain": "Index(['time', 'flow-mlpm00', 'flow-err00', 'temp-c00', 'temp-err00',\n       'air-in-line00', 'high-flow00', 'flag-err00', 'flow-mlpm01',\n       'flow-err01', 'temp-c01', 'temp-err01', 'air-in-line01', 'high-flow01',\n       'flag-err01', 'flow-mlpm02', 'flow-err02', 'temp-c02', 'temp-err02',\n       'air-in-line02', 'high-flow02', 'flag-err02', 'flow-mlpm03',\n       'flow-err03', 'temp-c03', 'temp-err03', 'air-in-line03', 'high-flow03',\n       'flag-err03', 'flow-mlpm04', 'flow-err04', 'temp-c04', 'temp-err04',\n       'air-in-line04', 'high-flow04', 'flag-err04', 'flow-mlpm05',\n       'flow-err05', 'temp-c05', 'temp-err05', 'air-in-line05', 'high-flow05',\n       'flag-err05', 'flow-mlpm06', 'flow-err06', 'temp-c06', 'temp-err06',\n       'air-in-line06', 'high-flow06', 'flag-err06', 'flow-mlpm07',\n       'flow-err07', 'temp-c07', 'temp-err07', 'air-in-line07', 'high-flow07',\n       'flag-err07', 'flow-mlpm08', 'flow-err08', 'temp-c08', 'temp-err08',\n       'air-in-line08', 'high-flow08', 'flag-err08', 'flow-mlpm09',\n       'flow-err09', 'temp-c09', 'temp-err09', 'air-in-line09', 'high-flow09',\n       'flag-err09', 'flow-mlpm10', 'flow-err10', 'temp-c10', 'temp-err10',\n       'air-in-line10', 'high-flow10', 'flag-err10', 'flow-mlpm11',\n       'flow-err11', 'temp-c11', 'temp-err11', 'air-in-line11', 'high-flow11',\n       'flag-err11'],\n      dtype='object')"
     },
     "execution_count": 166,
     "metadata": {},
     "output_type": "execute_result"
    }
   ],
   "source": [
    "stim_sensor_df.columns"
   ],
   "metadata": {
    "collapsed": false,
    "ExecuteTime": {
     "end_time": "2023-10-20T18:49:30.408181900Z",
     "start_time": "2023-10-20T18:49:30.058602400Z"
    }
   },
   "id": "1f2529080aed8de2"
  },
  {
   "cell_type": "code",
   "execution_count": 167,
   "outputs": [
    {
     "name": "stdout",
     "output_type": "stream",
     "text": [
      "local-nb_cs-ii-29_import-tests (   8): INFO : ref_time = 11385.0988556\n"
     ]
    },
    {
     "data": {
      "text/plain": "array([-5.01400930e+00, -8.19700000e-03,  0.00000000e+00,  3.00001012e+02,\n        3.60001419e+02,  4.80001866e+02,  5.40002532e+02,  6.60003282e+02,\n        7.20004276e+02,  8.40004245e+02])"
     },
     "execution_count": 167,
     "metadata": {},
     "output_type": "execute_result"
    }
   ],
   "source": [
    "stim_control_step = stim_control_df.loc[:, 'step num']\\\n",
    "    .to_numpy().astype(int)\n",
    "stim_control_time = stim_control_df.loc[:, 'rel time (s)']\\\n",
    "    .to_numpy().astype(np.float64)\n",
    "\n",
    "ref_time = stim_control_time[stim_control_step == 0]\n",
    "ref_time = ref_time[0]\n",
    "log.info(f'{ref_time = }')\n",
    "\n",
    "stim_control_time_adj = stim_control_time - ref_time\n",
    "stim_control_time_adj"
   ],
   "metadata": {
    "collapsed": false,
    "ExecuteTime": {
     "end_time": "2023-10-20T18:49:33.336867300Z",
     "start_time": "2023-10-20T18:49:33.187108500Z"
    }
   },
   "id": "f98f6b5ae814189f"
  },
  {
   "cell_type": "code",
   "execution_count": 204,
   "outputs": [
    {
     "data": {
      "text/plain": "DatetimeIndex(['2023-08-03 17:41:46.672447200',\n               '2023-08-03 17:41:48.255405900',\n               '2023-08-03 17:41:48.280177800',\n               '2023-08-03 17:41:48.303687900',\n               '2023-08-03 17:41:48.328437600',\n               '2023-08-03 17:41:48.352969700',\n               '2023-08-03 17:41:48.377756700',\n               '2023-08-03 17:41:48.407181600',\n                  '2023-08-03 17:41:48.430213',\n               '2023-08-03 17:41:48.456240100',\n               ...\n               '2023-08-03 17:55:54.366346200',\n               '2023-08-03 17:55:54.393431200',\n               '2023-08-03 17:55:54.418400500',\n                  '2023-08-03 17:55:54.444387',\n               '2023-08-03 17:55:54.469264100',\n               '2023-08-03 17:55:54.492237500',\n               '2023-08-03 17:55:54.516569800',\n               '2023-08-03 17:55:54.541657900',\n               '2023-08-03 17:55:54.569989800',\n               '2023-08-03 17:55:54.595506500'],\n              dtype='datetime64[ns]', length=33631, freq=None)"
     },
     "execution_count": 204,
     "metadata": {},
     "output_type": "execute_result"
    }
   ],
   "source": [
    "_time_vector = [\n",
    "    precise_time_trigger_start_64\n",
    "    + pd.to_timedelta(v - ref_time, unit='s')\n",
    "    for v in stim_sensor_df.iloc[:, 0]]\n",
    "\n",
    "flow_sense_time_index = pd.DatetimeIndex(_time_vector)\n",
    "\n",
    "flow_sense_time_index"
   ],
   "metadata": {
    "collapsed": false,
    "ExecuteTime": {
     "end_time": "2023-10-20T19:38:12.672048300Z",
     "start_time": "2023-10-20T19:38:09.300375500Z"
    }
   },
   "id": "b1cbe0652934128d"
  },
  {
   "cell_type": "code",
   "execution_count": 205,
   "outputs": [
    {
     "data": {
      "text/plain": "                               flow-mlpm00  flow-err00  temp-c00  temp-err00  \\\n2023-08-03 17:41:46.672447200      -0.0001           0    29.570           0   \n2023-08-03 17:41:48.255405900      -0.0001           0    29.705           0   \n2023-08-03 17:41:48.280177800      -0.0001           0    29.685           0   \n2023-08-03 17:41:48.303687900      -0.0001           0    29.705           0   \n2023-08-03 17:41:48.328437600      -0.0001           0    29.765           0   \n...                                    ...         ...       ...         ...   \n2023-08-03 17:55:54.492237500      -0.0001           0    30.680           0   \n2023-08-03 17:55:54.516569800      -0.0001           0    30.735           0   \n2023-08-03 17:55:54.541657900      -0.0001           0    30.745           0   \n2023-08-03 17:55:54.569989800      -0.0001           0    30.720           0   \n2023-08-03 17:55:54.595506500      -0.0001           0    30.720           0   \n\n                               air-in-line00  high-flow00  flag-err00  \\\n2023-08-03 17:41:46.672447200              1            0           0   \n2023-08-03 17:41:48.255405900              1            0           0   \n2023-08-03 17:41:48.280177800              1            0           0   \n2023-08-03 17:41:48.303687900              1            0           0   \n2023-08-03 17:41:48.328437600              1            0           0   \n...                                      ...          ...         ...   \n2023-08-03 17:55:54.492237500              1            0           0   \n2023-08-03 17:55:54.516569800              1            0           0   \n2023-08-03 17:55:54.541657900              1            0           0   \n2023-08-03 17:55:54.569989800              1            0           0   \n2023-08-03 17:55:54.595506500              1            0           0   \n\n                               flow-mlpm01  flow-err01  temp-c01  ...  \\\n2023-08-03 17:41:46.672447200      -0.0002           0    29.710  ...   \n2023-08-03 17:41:48.255405900      -0.0001           0    29.690  ...   \n2023-08-03 17:41:48.280177800       0.0000           0    29.720  ...   \n2023-08-03 17:41:48.303687900       0.0001           0    29.825  ...   \n2023-08-03 17:41:48.328437600       0.0001           0    29.805  ...   \n...                                    ...         ...       ...  ...   \n2023-08-03 17:55:54.492237500       0.0000           0    30.295  ...   \n2023-08-03 17:55:54.516569800       0.0000           0    30.290  ...   \n2023-08-03 17:55:54.541657900       0.0001           0    30.270  ...   \n2023-08-03 17:55:54.569989800       0.0001           0    30.390  ...   \n2023-08-03 17:55:54.595506500       0.0002           0    30.335  ...   \n\n                               air-in-line10  high-flow10  flag-err10  \\\n2023-08-03 17:41:46.672447200              0            0           0   \n2023-08-03 17:41:48.255405900              0            0           0   \n2023-08-03 17:41:48.280177800              0            0           0   \n2023-08-03 17:41:48.303687900              0            0           0   \n2023-08-03 17:41:48.328437600              0            0           0   \n...                                      ...          ...         ...   \n2023-08-03 17:55:54.492237500              0            0           0   \n2023-08-03 17:55:54.516569800              0            0           0   \n2023-08-03 17:55:54.541657900              0            0           0   \n2023-08-03 17:55:54.569989800              0            0           0   \n2023-08-03 17:55:54.595506500              0            0           0   \n\n                               flow-mlpm11  flow-err11  temp-c11  temp-err11  \\\n2023-08-03 17:41:46.672447200        0.192           0    26.805           0   \n2023-08-03 17:41:48.255405900        0.370           0    26.755           0   \n2023-08-03 17:41:48.280177800        0.428           0    26.810           0   \n2023-08-03 17:41:48.303687900        0.460           0    26.810           0   \n2023-08-03 17:41:48.328437600        0.476           0    26.895           0   \n...                                    ...         ...       ...         ...   \n2023-08-03 17:55:54.492237500        0.492           0    27.115           0   \n2023-08-03 17:55:54.516569800        0.492           0    27.110           0   \n2023-08-03 17:55:54.541657900        0.490           0    27.135           0   \n2023-08-03 17:55:54.569989800        0.490           0    27.110           0   \n2023-08-03 17:55:54.595506500        0.492           0    27.130           0   \n\n                               air-in-line11  high-flow11  flag-err11  \n2023-08-03 17:41:46.672447200              0            0           0  \n2023-08-03 17:41:48.255405900              0            0           0  \n2023-08-03 17:41:48.280177800              0            0           0  \n2023-08-03 17:41:48.303687900              0            0           0  \n2023-08-03 17:41:48.328437600              0            0           0  \n...                                      ...          ...         ...  \n2023-08-03 17:55:54.492237500              0            0           0  \n2023-08-03 17:55:54.516569800              0            0           0  \n2023-08-03 17:55:54.541657900              0            0           0  \n2023-08-03 17:55:54.569989800              0            0           0  \n2023-08-03 17:55:54.595506500              0            0           0  \n\n[33631 rows x 84 columns]",
      "text/html": "<div>\n<style scoped>\n    .dataframe tbody tr th:only-of-type {\n        vertical-align: middle;\n    }\n\n    .dataframe tbody tr th {\n        vertical-align: top;\n    }\n\n    .dataframe thead th {\n        text-align: right;\n    }\n</style>\n<table border=\"1\" class=\"dataframe\">\n  <thead>\n    <tr style=\"text-align: right;\">\n      <th></th>\n      <th>flow-mlpm00</th>\n      <th>flow-err00</th>\n      <th>temp-c00</th>\n      <th>temp-err00</th>\n      <th>air-in-line00</th>\n      <th>high-flow00</th>\n      <th>flag-err00</th>\n      <th>flow-mlpm01</th>\n      <th>flow-err01</th>\n      <th>temp-c01</th>\n      <th>...</th>\n      <th>air-in-line10</th>\n      <th>high-flow10</th>\n      <th>flag-err10</th>\n      <th>flow-mlpm11</th>\n      <th>flow-err11</th>\n      <th>temp-c11</th>\n      <th>temp-err11</th>\n      <th>air-in-line11</th>\n      <th>high-flow11</th>\n      <th>flag-err11</th>\n    </tr>\n  </thead>\n  <tbody>\n    <tr>\n      <th>2023-08-03 17:41:46.672447200</th>\n      <td>-0.0001</td>\n      <td>0</td>\n      <td>29.570</td>\n      <td>0</td>\n      <td>1</td>\n      <td>0</td>\n      <td>0</td>\n      <td>-0.0002</td>\n      <td>0</td>\n      <td>29.710</td>\n      <td>...</td>\n      <td>0</td>\n      <td>0</td>\n      <td>0</td>\n      <td>0.192</td>\n      <td>0</td>\n      <td>26.805</td>\n      <td>0</td>\n      <td>0</td>\n      <td>0</td>\n      <td>0</td>\n    </tr>\n    <tr>\n      <th>2023-08-03 17:41:48.255405900</th>\n      <td>-0.0001</td>\n      <td>0</td>\n      <td>29.705</td>\n      <td>0</td>\n      <td>1</td>\n      <td>0</td>\n      <td>0</td>\n      <td>-0.0001</td>\n      <td>0</td>\n      <td>29.690</td>\n      <td>...</td>\n      <td>0</td>\n      <td>0</td>\n      <td>0</td>\n      <td>0.370</td>\n      <td>0</td>\n      <td>26.755</td>\n      <td>0</td>\n      <td>0</td>\n      <td>0</td>\n      <td>0</td>\n    </tr>\n    <tr>\n      <th>2023-08-03 17:41:48.280177800</th>\n      <td>-0.0001</td>\n      <td>0</td>\n      <td>29.685</td>\n      <td>0</td>\n      <td>1</td>\n      <td>0</td>\n      <td>0</td>\n      <td>0.0000</td>\n      <td>0</td>\n      <td>29.720</td>\n      <td>...</td>\n      <td>0</td>\n      <td>0</td>\n      <td>0</td>\n      <td>0.428</td>\n      <td>0</td>\n      <td>26.810</td>\n      <td>0</td>\n      <td>0</td>\n      <td>0</td>\n      <td>0</td>\n    </tr>\n    <tr>\n      <th>2023-08-03 17:41:48.303687900</th>\n      <td>-0.0001</td>\n      <td>0</td>\n      <td>29.705</td>\n      <td>0</td>\n      <td>1</td>\n      <td>0</td>\n      <td>0</td>\n      <td>0.0001</td>\n      <td>0</td>\n      <td>29.825</td>\n      <td>...</td>\n      <td>0</td>\n      <td>0</td>\n      <td>0</td>\n      <td>0.460</td>\n      <td>0</td>\n      <td>26.810</td>\n      <td>0</td>\n      <td>0</td>\n      <td>0</td>\n      <td>0</td>\n    </tr>\n    <tr>\n      <th>2023-08-03 17:41:48.328437600</th>\n      <td>-0.0001</td>\n      <td>0</td>\n      <td>29.765</td>\n      <td>0</td>\n      <td>1</td>\n      <td>0</td>\n      <td>0</td>\n      <td>0.0001</td>\n      <td>0</td>\n      <td>29.805</td>\n      <td>...</td>\n      <td>0</td>\n      <td>0</td>\n      <td>0</td>\n      <td>0.476</td>\n      <td>0</td>\n      <td>26.895</td>\n      <td>0</td>\n      <td>0</td>\n      <td>0</td>\n      <td>0</td>\n    </tr>\n    <tr>\n      <th>...</th>\n      <td>...</td>\n      <td>...</td>\n      <td>...</td>\n      <td>...</td>\n      <td>...</td>\n      <td>...</td>\n      <td>...</td>\n      <td>...</td>\n      <td>...</td>\n      <td>...</td>\n      <td>...</td>\n      <td>...</td>\n      <td>...</td>\n      <td>...</td>\n      <td>...</td>\n      <td>...</td>\n      <td>...</td>\n      <td>...</td>\n      <td>...</td>\n      <td>...</td>\n      <td>...</td>\n    </tr>\n    <tr>\n      <th>2023-08-03 17:55:54.492237500</th>\n      <td>-0.0001</td>\n      <td>0</td>\n      <td>30.680</td>\n      <td>0</td>\n      <td>1</td>\n      <td>0</td>\n      <td>0</td>\n      <td>0.0000</td>\n      <td>0</td>\n      <td>30.295</td>\n      <td>...</td>\n      <td>0</td>\n      <td>0</td>\n      <td>0</td>\n      <td>0.492</td>\n      <td>0</td>\n      <td>27.115</td>\n      <td>0</td>\n      <td>0</td>\n      <td>0</td>\n      <td>0</td>\n    </tr>\n    <tr>\n      <th>2023-08-03 17:55:54.516569800</th>\n      <td>-0.0001</td>\n      <td>0</td>\n      <td>30.735</td>\n      <td>0</td>\n      <td>1</td>\n      <td>0</td>\n      <td>0</td>\n      <td>0.0000</td>\n      <td>0</td>\n      <td>30.290</td>\n      <td>...</td>\n      <td>0</td>\n      <td>0</td>\n      <td>0</td>\n      <td>0.492</td>\n      <td>0</td>\n      <td>27.110</td>\n      <td>0</td>\n      <td>0</td>\n      <td>0</td>\n      <td>0</td>\n    </tr>\n    <tr>\n      <th>2023-08-03 17:55:54.541657900</th>\n      <td>-0.0001</td>\n      <td>0</td>\n      <td>30.745</td>\n      <td>0</td>\n      <td>1</td>\n      <td>0</td>\n      <td>0</td>\n      <td>0.0001</td>\n      <td>0</td>\n      <td>30.270</td>\n      <td>...</td>\n      <td>0</td>\n      <td>0</td>\n      <td>0</td>\n      <td>0.490</td>\n      <td>0</td>\n      <td>27.135</td>\n      <td>0</td>\n      <td>0</td>\n      <td>0</td>\n      <td>0</td>\n    </tr>\n    <tr>\n      <th>2023-08-03 17:55:54.569989800</th>\n      <td>-0.0001</td>\n      <td>0</td>\n      <td>30.720</td>\n      <td>0</td>\n      <td>1</td>\n      <td>0</td>\n      <td>0</td>\n      <td>0.0001</td>\n      <td>0</td>\n      <td>30.390</td>\n      <td>...</td>\n      <td>0</td>\n      <td>0</td>\n      <td>0</td>\n      <td>0.490</td>\n      <td>0</td>\n      <td>27.110</td>\n      <td>0</td>\n      <td>0</td>\n      <td>0</td>\n      <td>0</td>\n    </tr>\n    <tr>\n      <th>2023-08-03 17:55:54.595506500</th>\n      <td>-0.0001</td>\n      <td>0</td>\n      <td>30.720</td>\n      <td>0</td>\n      <td>1</td>\n      <td>0</td>\n      <td>0</td>\n      <td>0.0002</td>\n      <td>0</td>\n      <td>30.335</td>\n      <td>...</td>\n      <td>0</td>\n      <td>0</td>\n      <td>0</td>\n      <td>0.492</td>\n      <td>0</td>\n      <td>27.130</td>\n      <td>0</td>\n      <td>0</td>\n      <td>0</td>\n      <td>0</td>\n    </tr>\n  </tbody>\n</table>\n<p>33631 rows × 84 columns</p>\n</div>"
     },
     "execution_count": 205,
     "metadata": {},
     "output_type": "execute_result"
    }
   ],
   "source": [
    "flow_sense_df = stim_sensor_df.iloc[:, 1:]\n",
    "flow_sense_df.index = flow_sense_time_index\n",
    "flow_sense_df"
   ],
   "metadata": {
    "collapsed": false,
    "ExecuteTime": {
     "end_time": "2023-10-20T19:40:21.709259200Z",
     "start_time": "2023-10-20T19:40:21.567490100Z"
    }
   },
   "id": "68ef08c921c5e0ab"
  },
  {
   "cell_type": "code",
   "execution_count": 187,
   "outputs": [
    {
     "name": "stdout",
     "output_type": "stream",
     "text": [
      "local-nb_cs-ii-29_import-tests (  16): INFO : 0,  Starting\n",
      "local-nb_cs-ii-29_import-tests (  27): INFO : 1, Handling Special Case\n",
      "local-nb_cs-ii-29_import-tests (  23): INFO : 9, Breaking\n",
      "local-nb_cs-ii-29_import-tests (  38): INFO : sol_2_pos_arr.shape = (18,)\n"
     ]
    },
    {
     "data": {
      "text/plain": "array([False, False, False, False, False, False,  True,  True, False,\n       False,  True,  True, False, False,  True,  True, False, False])"
     },
     "execution_count": 187,
     "metadata": {},
     "output_type": "execute_result"
    }
   ],
   "source": [
    "step_info_sol_2 = [\n",
    "    False, # 0\n",
    "    True,  # 1\n",
    "    False, # 2\n",
    "    True,  # 3\n",
    "    False, # 4\n",
    "    True,  # 5\n",
    "    False, # 6\n",
    "]\n",
    "\n",
    "starting_pos_sol_2 = []\n",
    "ending_pos_sol_2 = []\n",
    "\n",
    "for i, step in enumerate(stim_control_step):\n",
    "    if i == 0:\n",
    "        log.info('{},  Starting', i)\n",
    "        starting_pos_sol_2.append(False)\n",
    "        continue\n",
    "        \n",
    "    ending_pos_sol_2.append(starting_pos_sol_2[i - 1])\n",
    "        \n",
    "    if i == (stim_control_step.size - 1):\n",
    "        log.info('{}, Breaking', i)\n",
    "        continue\n",
    "    \n",
    "    if step < 0:\n",
    "        log.info('{}, Handling Special Case', i)\n",
    "        starting_pos_sol_2.append(False)\n",
    "        continue\n",
    "        \n",
    "    starting_pos_sol_2.append(step_info_sol_2[step])\n",
    "\n",
    "sol_2_pos_arr = np.zeros(\n",
    "    shape=(len(starting_pos_sol_2) \n",
    "           + len(ending_pos_sol_2)),\n",
    "    dtype=bool)\n",
    "\n",
    "log.info(f'{sol_2_pos_arr.shape = }')\n",
    "\n",
    "sol_pos_time_arr = np.zeros(\n",
    "    shape=sol_2_pos_arr.shape,\n",
    "    dtype=np.float64)\n",
    "\n",
    "sol_2_pos_arr[0::2] = starting_pos_sol_2\n",
    "sol_pos_time_arr[0::2] = stim_control_time_adj[:-1]\n",
    "sol_2_pos_arr[1::2] = ending_pos_sol_2\n",
    "sol_pos_time_arr[1::2] = stim_control_time_adj[1:]\n",
    "\n",
    "eps_val = 1e-9\n",
    "sol_pos_time_arr[2:-1:2] = sol_pos_time_arr[2:-1:2] + eps_val\n",
    "\n",
    "sol_2_pos_arr"
   ],
   "metadata": {
    "collapsed": false,
    "ExecuteTime": {
     "end_time": "2023-10-20T19:14:31.723284900Z",
     "start_time": "2023-10-20T19:14:31.517615100Z"
    }
   },
   "id": "f187a3c6ea2b6290"
  },
  {
   "cell_type": "code",
   "execution_count": 189,
   "outputs": [
    {
     "data": {
      "text/plain": "DatetimeIndex(['2023-08-03 17:41:46.563522700',\n               '2023-08-03 17:41:51.569335001',\n               '2023-08-03 17:41:51.569335001',\n                  '2023-08-03 17:41:51.577532',\n               '2023-08-03 17:41:51.577532001',\n               '2023-08-03 17:46:51.578543699',\n               '2023-08-03 17:46:51.578543701',\n               '2023-08-03 17:47:51.578950800',\n               '2023-08-03 17:47:51.578950801',\n               '2023-08-03 17:49:51.579398400',\n               '2023-08-03 17:49:51.579398401',\n               '2023-08-03 17:50:51.580063800',\n               '2023-08-03 17:50:51.580063801',\n               '2023-08-03 17:52:51.580813600',\n               '2023-08-03 17:52:51.580813601',\n               '2023-08-03 17:53:51.581807800',\n               '2023-08-03 17:53:51.581807801',\n               '2023-08-03 17:55:51.581777100'],\n              dtype='datetime64[ns]', freq=None)"
     },
     "execution_count": 189,
     "metadata": {},
     "output_type": "execute_result"
    }
   ],
   "source": [
    "_time_vector = [\n",
    "    pd.to_datetime(precise_time_trigger_start)\n",
    "    + pd.to_timedelta(v, unit='s')\n",
    "    for v in sol_pos_time_arr]\n",
    "\n",
    "sol_pos_time_index = pd.DatetimeIndex(_time_vector)\n",
    "\n",
    "sol_pos_time_index"
   ],
   "metadata": {
    "collapsed": false,
    "ExecuteTime": {
     "end_time": "2023-10-20T19:15:21.079783300Z",
     "start_time": "2023-10-20T19:15:20.997914800Z"
    }
   },
   "id": "80cc903d98bd49ad"
  },
  {
   "cell_type": "code",
   "execution_count": 190,
   "outputs": [
    {
     "data": {
      "text/plain": "                               solenoid_00_open  solenoid_01_open  \\\n2023-08-03 17:41:46.563522700             False             False   \n2023-08-03 17:41:51.569335001             False             False   \n2023-08-03 17:41:51.569335001             False             False   \n2023-08-03 17:41:51.577532000             False             False   \n2023-08-03 17:41:51.577532001             False             False   \n2023-08-03 17:46:51.578543699             False             False   \n2023-08-03 17:46:51.578543701             False              True   \n2023-08-03 17:47:51.578950800             False              True   \n2023-08-03 17:47:51.578950801             False             False   \n2023-08-03 17:49:51.579398400             False             False   \n2023-08-03 17:49:51.579398401             False              True   \n2023-08-03 17:50:51.580063800             False              True   \n2023-08-03 17:50:51.580063801             False             False   \n2023-08-03 17:52:51.580813600             False             False   \n2023-08-03 17:52:51.580813601             False              True   \n2023-08-03 17:53:51.581807800             False              True   \n2023-08-03 17:53:51.581807801             False             False   \n2023-08-03 17:55:51.581777100             False             False   \n\n                               solenoid_02_open  solenoid_03_open  \\\n2023-08-03 17:41:46.563522700             False             False   \n2023-08-03 17:41:51.569335001             False             False   \n2023-08-03 17:41:51.569335001             False             False   \n2023-08-03 17:41:51.577532000             False             False   \n2023-08-03 17:41:51.577532001             False             False   \n2023-08-03 17:46:51.578543699             False             False   \n2023-08-03 17:46:51.578543701             False             False   \n2023-08-03 17:47:51.578950800             False             False   \n2023-08-03 17:47:51.578950801             False             False   \n2023-08-03 17:49:51.579398400             False             False   \n2023-08-03 17:49:51.579398401             False             False   \n2023-08-03 17:50:51.580063800             False             False   \n2023-08-03 17:50:51.580063801             False             False   \n2023-08-03 17:52:51.580813600             False             False   \n2023-08-03 17:52:51.580813601             False             False   \n2023-08-03 17:53:51.581807800             False             False   \n2023-08-03 17:53:51.581807801             False             False   \n2023-08-03 17:55:51.581777100             False             False   \n\n                               solenoid_04_open  solenoid_05_open  \\\n2023-08-03 17:41:46.563522700             False             False   \n2023-08-03 17:41:51.569335001             False             False   \n2023-08-03 17:41:51.569335001             False             False   \n2023-08-03 17:41:51.577532000             False             False   \n2023-08-03 17:41:51.577532001             False             False   \n2023-08-03 17:46:51.578543699             False             False   \n2023-08-03 17:46:51.578543701             False             False   \n2023-08-03 17:47:51.578950800             False             False   \n2023-08-03 17:47:51.578950801             False             False   \n2023-08-03 17:49:51.579398400             False             False   \n2023-08-03 17:49:51.579398401             False             False   \n2023-08-03 17:50:51.580063800             False             False   \n2023-08-03 17:50:51.580063801             False             False   \n2023-08-03 17:52:51.580813600             False             False   \n2023-08-03 17:52:51.580813601             False             False   \n2023-08-03 17:53:51.581807800             False             False   \n2023-08-03 17:53:51.581807801             False             False   \n2023-08-03 17:55:51.581777100             False             False   \n\n                               solenoid_06_open  solenoid_07_open  \\\n2023-08-03 17:41:46.563522700             False             False   \n2023-08-03 17:41:51.569335001             False             False   \n2023-08-03 17:41:51.569335001             False             False   \n2023-08-03 17:41:51.577532000             False             False   \n2023-08-03 17:41:51.577532001             False             False   \n2023-08-03 17:46:51.578543699             False             False   \n2023-08-03 17:46:51.578543701             False             False   \n2023-08-03 17:47:51.578950800             False             False   \n2023-08-03 17:47:51.578950801             False             False   \n2023-08-03 17:49:51.579398400             False             False   \n2023-08-03 17:49:51.579398401             False             False   \n2023-08-03 17:50:51.580063800             False             False   \n2023-08-03 17:50:51.580063801             False             False   \n2023-08-03 17:52:51.580813600             False             False   \n2023-08-03 17:52:51.580813601             False             False   \n2023-08-03 17:53:51.581807800             False             False   \n2023-08-03 17:53:51.581807801             False             False   \n2023-08-03 17:55:51.581777100             False             False   \n\n                               solenoid_08_open  solenoid_09_open  \n2023-08-03 17:41:46.563522700             False             False  \n2023-08-03 17:41:51.569335001             False             False  \n2023-08-03 17:41:51.569335001             False             False  \n2023-08-03 17:41:51.577532000             False             False  \n2023-08-03 17:41:51.577532001             False             False  \n2023-08-03 17:46:51.578543699             False             False  \n2023-08-03 17:46:51.578543701             False             False  \n2023-08-03 17:47:51.578950800             False             False  \n2023-08-03 17:47:51.578950801             False             False  \n2023-08-03 17:49:51.579398400             False             False  \n2023-08-03 17:49:51.579398401             False             False  \n2023-08-03 17:50:51.580063800             False             False  \n2023-08-03 17:50:51.580063801             False             False  \n2023-08-03 17:52:51.580813600             False             False  \n2023-08-03 17:52:51.580813601             False             False  \n2023-08-03 17:53:51.581807800             False             False  \n2023-08-03 17:53:51.581807801             False             False  \n2023-08-03 17:55:51.581777100             False             False  ",
      "text/html": "<div>\n<style scoped>\n    .dataframe tbody tr th:only-of-type {\n        vertical-align: middle;\n    }\n\n    .dataframe tbody tr th {\n        vertical-align: top;\n    }\n\n    .dataframe thead th {\n        text-align: right;\n    }\n</style>\n<table border=\"1\" class=\"dataframe\">\n  <thead>\n    <tr style=\"text-align: right;\">\n      <th></th>\n      <th>solenoid_00_open</th>\n      <th>solenoid_01_open</th>\n      <th>solenoid_02_open</th>\n      <th>solenoid_03_open</th>\n      <th>solenoid_04_open</th>\n      <th>solenoid_05_open</th>\n      <th>solenoid_06_open</th>\n      <th>solenoid_07_open</th>\n      <th>solenoid_08_open</th>\n      <th>solenoid_09_open</th>\n    </tr>\n  </thead>\n  <tbody>\n    <tr>\n      <th>2023-08-03 17:41:46.563522700</th>\n      <td>False</td>\n      <td>False</td>\n      <td>False</td>\n      <td>False</td>\n      <td>False</td>\n      <td>False</td>\n      <td>False</td>\n      <td>False</td>\n      <td>False</td>\n      <td>False</td>\n    </tr>\n    <tr>\n      <th>2023-08-03 17:41:51.569335001</th>\n      <td>False</td>\n      <td>False</td>\n      <td>False</td>\n      <td>False</td>\n      <td>False</td>\n      <td>False</td>\n      <td>False</td>\n      <td>False</td>\n      <td>False</td>\n      <td>False</td>\n    </tr>\n    <tr>\n      <th>2023-08-03 17:41:51.569335001</th>\n      <td>False</td>\n      <td>False</td>\n      <td>False</td>\n      <td>False</td>\n      <td>False</td>\n      <td>False</td>\n      <td>False</td>\n      <td>False</td>\n      <td>False</td>\n      <td>False</td>\n    </tr>\n    <tr>\n      <th>2023-08-03 17:41:51.577532000</th>\n      <td>False</td>\n      <td>False</td>\n      <td>False</td>\n      <td>False</td>\n      <td>False</td>\n      <td>False</td>\n      <td>False</td>\n      <td>False</td>\n      <td>False</td>\n      <td>False</td>\n    </tr>\n    <tr>\n      <th>2023-08-03 17:41:51.577532001</th>\n      <td>False</td>\n      <td>False</td>\n      <td>False</td>\n      <td>False</td>\n      <td>False</td>\n      <td>False</td>\n      <td>False</td>\n      <td>False</td>\n      <td>False</td>\n      <td>False</td>\n    </tr>\n    <tr>\n      <th>2023-08-03 17:46:51.578543699</th>\n      <td>False</td>\n      <td>False</td>\n      <td>False</td>\n      <td>False</td>\n      <td>False</td>\n      <td>False</td>\n      <td>False</td>\n      <td>False</td>\n      <td>False</td>\n      <td>False</td>\n    </tr>\n    <tr>\n      <th>2023-08-03 17:46:51.578543701</th>\n      <td>False</td>\n      <td>True</td>\n      <td>False</td>\n      <td>False</td>\n      <td>False</td>\n      <td>False</td>\n      <td>False</td>\n      <td>False</td>\n      <td>False</td>\n      <td>False</td>\n    </tr>\n    <tr>\n      <th>2023-08-03 17:47:51.578950800</th>\n      <td>False</td>\n      <td>True</td>\n      <td>False</td>\n      <td>False</td>\n      <td>False</td>\n      <td>False</td>\n      <td>False</td>\n      <td>False</td>\n      <td>False</td>\n      <td>False</td>\n    </tr>\n    <tr>\n      <th>2023-08-03 17:47:51.578950801</th>\n      <td>False</td>\n      <td>False</td>\n      <td>False</td>\n      <td>False</td>\n      <td>False</td>\n      <td>False</td>\n      <td>False</td>\n      <td>False</td>\n      <td>False</td>\n      <td>False</td>\n    </tr>\n    <tr>\n      <th>2023-08-03 17:49:51.579398400</th>\n      <td>False</td>\n      <td>False</td>\n      <td>False</td>\n      <td>False</td>\n      <td>False</td>\n      <td>False</td>\n      <td>False</td>\n      <td>False</td>\n      <td>False</td>\n      <td>False</td>\n    </tr>\n    <tr>\n      <th>2023-08-03 17:49:51.579398401</th>\n      <td>False</td>\n      <td>True</td>\n      <td>False</td>\n      <td>False</td>\n      <td>False</td>\n      <td>False</td>\n      <td>False</td>\n      <td>False</td>\n      <td>False</td>\n      <td>False</td>\n    </tr>\n    <tr>\n      <th>2023-08-03 17:50:51.580063800</th>\n      <td>False</td>\n      <td>True</td>\n      <td>False</td>\n      <td>False</td>\n      <td>False</td>\n      <td>False</td>\n      <td>False</td>\n      <td>False</td>\n      <td>False</td>\n      <td>False</td>\n    </tr>\n    <tr>\n      <th>2023-08-03 17:50:51.580063801</th>\n      <td>False</td>\n      <td>False</td>\n      <td>False</td>\n      <td>False</td>\n      <td>False</td>\n      <td>False</td>\n      <td>False</td>\n      <td>False</td>\n      <td>False</td>\n      <td>False</td>\n    </tr>\n    <tr>\n      <th>2023-08-03 17:52:51.580813600</th>\n      <td>False</td>\n      <td>False</td>\n      <td>False</td>\n      <td>False</td>\n      <td>False</td>\n      <td>False</td>\n      <td>False</td>\n      <td>False</td>\n      <td>False</td>\n      <td>False</td>\n    </tr>\n    <tr>\n      <th>2023-08-03 17:52:51.580813601</th>\n      <td>False</td>\n      <td>True</td>\n      <td>False</td>\n      <td>False</td>\n      <td>False</td>\n      <td>False</td>\n      <td>False</td>\n      <td>False</td>\n      <td>False</td>\n      <td>False</td>\n    </tr>\n    <tr>\n      <th>2023-08-03 17:53:51.581807800</th>\n      <td>False</td>\n      <td>True</td>\n      <td>False</td>\n      <td>False</td>\n      <td>False</td>\n      <td>False</td>\n      <td>False</td>\n      <td>False</td>\n      <td>False</td>\n      <td>False</td>\n    </tr>\n    <tr>\n      <th>2023-08-03 17:53:51.581807801</th>\n      <td>False</td>\n      <td>False</td>\n      <td>False</td>\n      <td>False</td>\n      <td>False</td>\n      <td>False</td>\n      <td>False</td>\n      <td>False</td>\n      <td>False</td>\n      <td>False</td>\n    </tr>\n    <tr>\n      <th>2023-08-03 17:55:51.581777100</th>\n      <td>False</td>\n      <td>False</td>\n      <td>False</td>\n      <td>False</td>\n      <td>False</td>\n      <td>False</td>\n      <td>False</td>\n      <td>False</td>\n      <td>False</td>\n      <td>False</td>\n    </tr>\n  </tbody>\n</table>\n</div>"
     },
     "execution_count": 190,
     "metadata": {},
     "output_type": "execute_result"
    }
   ],
   "source": [
    "all_sol_pos_arr = np.zeros((sol_pos_time_arr.size, 10), dtype=bool)\n",
    "all_sol_pos_arr[:, 1] = sol_2_pos_arr\n",
    "\n",
    "all_sol_pos_df = pd.DataFrame(\n",
    "    all_sol_pos_arr,\n",
    "    columns=[f'solenoid_{i:02d}_open' for i in range(all_sol_pos_arr.shape[1])],\n",
    "    index=sol_pos_time_index)\n",
    "\n",
    "all_sol_pos_df"
   ],
   "metadata": {
    "collapsed": false,
    "ExecuteTime": {
     "end_time": "2023-10-20T19:15:22.175030300Z",
     "start_time": "2023-10-20T19:15:22.017282500Z"
    }
   },
   "id": "afa073009049918b"
  },
  {
   "cell_type": "code",
   "execution_count": 94,
   "outputs": [],
   "source": [
    "def get_flow_array(sensor_df: pd.DataFrame, \n",
    "                   index: int,\n",
    "                   dialation: int = 2,\n",
    "                   time_arr: np.ndarray = None\n",
    "                   ) -> tuple[np.ndarray, np.ndarray]:\n",
    "    index_str = f'{index:02d}'\n",
    "    flow_name = f'flow-mlpm{index_str}'\n",
    "    flow_err_name = f'flow-err{index_str}'\n",
    "    # temp_name = f'temp-c{index_str}'\n",
    "    # temp_err_name = f'temp-err{index_str}'\n",
    "    air_in_line_flag_name = f'air-in-line{index_str}'\n",
    "    high_flow_flag_name = f'high-flow{index_str}'\n",
    "    flag_err_name = f'flag-err{index_str}'\n",
    "    \n",
    "    flow_arr_raw = sensor_df.loc[:, flow_name]\\\n",
    "                    .to_numpy().astype(np.float64)    \n",
    "    flow_err_arr = sensor_df.loc[:, flow_err_name]\\\n",
    "        .to_numpy().astype(bool)\n",
    "    air_in_line_flag_arr = sensor_df.loc[:, air_in_line_flag_name]\\\n",
    "        .to_numpy().astype(bool)\n",
    "    high_flow_flag_arr = sensor_df.loc[:, high_flow_flag_name]\\\n",
    "        .to_numpy().astype(bool)\n",
    "    flag_err_arr = sensor_df.loc[:, flag_err_name]\\\n",
    "        .to_numpy().astype(bool)\n",
    "    \n",
    "    nan_locs = csutils.logical_or(\n",
    "        flow_err_arr,\n",
    "        csutils.logical_and(\n",
    "            np.logical_not(flag_err_arr),\n",
    "            csutils.logical_or(\n",
    "                air_in_line_flag_arr,\n",
    "                high_flow_flag_arr)))\n",
    "    \n",
    "    num_nan = np.count_nonzero(nan_locs)\n",
    "    num_vals = flow_arr_raw.size\n",
    "    \n",
    "    log.info('Found {:d} invalid values out of {:d} total values '\n",
    "             '({:f} %).', num_nan, num_vals, (100 * num_nan / num_vals))\n",
    "    \n",
    "    if dialation > 0:\n",
    "        nan_locs = scipy.ndimage.binary_dilation(nan_locs,\n",
    "                                                 iterations=dialation)\n",
    "        \n",
    "        num_nan_new = np.count_nonzero(nan_locs)  \n",
    "    \n",
    "        log.info('Expanded (by binary dilation) to {:d} invalid values '\n",
    "                 '({:+d}).', num_nan_new, num_nan_new - num_nan)\n",
    "    \n",
    "    flow_arr = flow_arr_raw\n",
    "    flow_arr[nan_locs] = np.nan\n",
    "    \n",
    "    if time_arr is None:\n",
    "        time_arr = np.arange(flow_arr.size)\n",
    "    \n",
    "    nan_locs = np.isnan(flow_arr)\n",
    "    \n",
    "    x = time_arr[nan_locs]\n",
    "    not_nan = np.logical_not(nan_locs)\n",
    "    xp = time_arr[not_nan]\n",
    "    fp = flow_arr[not_nan]\n",
    "    flow_arr_filled = flow_arr.copy()\n",
    "    flow_arr_filled[nan_locs] = np.interp(x, xp, fp)\n",
    "    \n",
    "    return flow_arr, flow_arr_filled\n",
    "    "
   ],
   "metadata": {
    "collapsed": false,
    "ExecuteTime": {
     "end_time": "2023-10-07T16:33:27.291425500Z",
     "start_time": "2023-10-07T16:33:27.196230800Z"
    }
   },
   "id": "fc823883640c67c8"
  },
  {
   "cell_type": "code",
   "execution_count": 95,
   "outputs": [
    {
     "name": "stdout",
     "output_type": "stream",
     "text": [
      "local-nb_cs-ii-29_import-tests (  37): INFO : Found 28 invalid values out of 33631 total values (0.083257 %).\n",
      "local-nb_cs-ii-29_import-tests (  46): INFO : Expanded (by binary dilation) to 40 invalid values (+12).\n",
      "local-nb_cs-ii-29_import-tests (  13): INFO : median_step = 0.024907350000830775 seconds\n"
     ]
    }
   ],
   "source": [
    "time_arr = stim_sensor_df.loc[:, 'time'].to_numpy()\n",
    "time_arr_adj = time_arr - ref_time\n",
    "\n",
    "data_index = 1\n",
    "flow_arr, flow_arr_filled = get_flow_array(\n",
    "    sensor_df=stim_sensor_df,\n",
    "    index=data_index,\n",
    "    time_arr=time_arr_adj,\n",
    "    dialation=1)\n",
    "\n",
    "window_sec = 0.15\n",
    "median_step = np.median(np.diff(time_arr_adj))\n",
    "log.info(f'{median_step = } seconds')\n",
    "window = np.clip(round(window_sec / median_step),\n",
    "                 a_min=1,\n",
    "                 a_max=None)\n",
    "flow_arr_smooth = scipy.ndimage.gaussian_filter(flow_arr_filled, sigma=window)\n",
    "\n",
    "%matplotlib qt\n",
    "\n",
    "plt.figure()\n",
    "plt.plot(time_arr_adj,\n",
    "         flow_arr,\n",
    "         '.k',\n",
    "         label=f'Sensor # {data_index + 1:d}, RAW',\n",
    "         markersize=15,\n",
    "         alpha=0.5,\n",
    "         mew=0)\n",
    "plt.plot(time_arr_adj,\n",
    "         flow_arr_filled,\n",
    "         '.-b',\n",
    "         label=f'Sensor # {data_index + 1:d}, FILLED',\n",
    "         alpha=0.3,\n",
    "         lw=5)\n",
    "plt.plot(time_arr_adj,\n",
    "         flow_arr_smooth,\n",
    "         'r',\n",
    "         label=f'Sensor # {data_index + 1:d}, FILTERED',\n",
    "         lw=2)\n",
    "\n",
    "plt.ylim(plt.ylim())\n",
    "\n",
    "plt.fill_between(sol_pos_time_arr,\n",
    "                 np.ones(shape=sol_2_pos_arr.shape) * (-1E3),\n",
    "                 (sol_2_pos_arr.astype(float) * 2E3) - 1E3,\n",
    "                 alpha=0.3,\n",
    "                 label='Sol 2 Control Signal')\n",
    "plt.legend()\n",
    "plt.show()\n"
   ],
   "metadata": {
    "collapsed": false,
    "ExecuteTime": {
     "end_time": "2023-10-07T16:33:28.310796400Z",
     "start_time": "2023-10-07T16:33:27.973338Z"
    }
   },
   "id": "3cee6eca6a6ede9"
  },
  {
   "cell_type": "markdown",
   "source": [
    "# Loading ZebraZoom Tail Analysis Data"
   ],
   "metadata": {
    "collapsed": false
   },
   "id": "f1a0460008afd159"
  },
  {
   "cell_type": "code",
   "execution_count": 206,
   "outputs": [
    {
     "data": {
      "text/plain": "          HeadPosX    HeadPosY   TailPosX1   TailPosY1   TailPosX2  \\\n0       191.000015  266.087654  212.004318  267.617971  233.061736   \n1       190.993583  266.543729  212.773212  266.701784  234.582022   \n2       191.018951  266.596336  211.982494  265.492963  233.057101   \n3       191.000189  265.990566  211.985412  267.825624  233.017871   \n4       191.007249  266.591810  212.514090  265.481493  234.047271   \n...            ...         ...         ...         ...         ...   \n212495  190.963549  266.968029  212.385361  266.888262  233.806095   \n212496  191.003587  265.959431  212.014757  267.864138  233.086627   \n212497  191.030971  265.905682  211.978946  267.939851  233.057566   \n212498  190.998506  266.033437  212.396210  267.782851  233.830528   \n212499  190.998506  266.033437  212.396210  267.782851  233.830528   \n\n         TailPosY2   TailPosX3   TailPosY3   TailPosX4   TailPosY4  ...  \\\n0       268.179190  254.146349  268.242029  275.232238  268.277201  ...   \n1       266.716724  256.395080  266.909074  278.187457  267.599360  ...   \n2       265.091039  254.187630  265.346646  275.318938  266.215863  ...   \n3       268.242172  254.075684  267.998503  275.136968  267.852913  ...   \n4       265.828227  255.614380  266.978809  277.216923  268.357468  ...   \n...            ...         ...         ...         ...         ...  ...   \n212495  267.172504  255.208384  267.894493  276.574866  269.127971  ...   \n212496  268.205928  254.181207  267.967479  275.260508  268.131466  ...   \n212497  268.209681  254.188889  267.777409  275.294973  267.705273  ...   \n212498  268.256328  255.285877  268.238004  276.746671  268.512017  ...   \n212499  268.256328  255.285877  268.238004  276.746671  268.512017  ...   \n\n         TailPosX7   TailPosY7   TailPosX8   TailPosY8   TailPosX9  \\\n0       337.791456  273.363414  358.093405  272.482646  379.014338   \n1       343.137677  273.522175  364.492219  273.022664  385.939329   \n2       338.013520  272.474859  358.836883  272.768793  380.021901   \n3       337.799102  272.345348  358.140165  271.386626  379.015762   \n4       341.919842  272.566767  363.436431  272.924575  384.988273   \n...            ...         ...         ...         ...         ...   \n212495  340.383655  275.110880  361.638532  275.930469  382.950134   \n212496  337.691864  276.644763  357.277460  273.651204  378.047710   \n212497  337.738671  275.152399  358.148096  274.687812  378.985096   \n212498  339.901433  276.200042  360.668148  274.212238  382.016713   \n212499  339.901433  276.200042  360.668148  274.212238  382.016713   \n\n         TailPosY9  TailLength   Heading  tailAngle  BoutNumber  \n0       273.253244  188.407011  3.179413   0.000273         0.0  \n1       272.306374  195.256700  3.177001  -0.005857         0.0  \n2       271.761914  189.411032  3.176728  -0.007812         0.0  \n3       271.982104  188.316234  3.179926  -0.006477         0.0  \n4       272.446556  194.233376  3.176750  -0.004984         0.0  \n...            ...         ...       ...        ...         ...  \n212495  274.836689  192.362296  3.174753   0.007802         0.0  \n212496  274.283809  188.013615  3.180091   0.005977         0.0  \n212497  274.652183  188.555726  3.180381   0.007713         0.0  \n212498  273.947949  191.714755  3.179699   0.003303         0.0  \n212499  273.947949  191.714755  3.179699   0.003303         NaN  \n\n[212500 rows x 24 columns]",
      "text/html": "<div>\n<style scoped>\n    .dataframe tbody tr th:only-of-type {\n        vertical-align: middle;\n    }\n\n    .dataframe tbody tr th {\n        vertical-align: top;\n    }\n\n    .dataframe thead th {\n        text-align: right;\n    }\n</style>\n<table border=\"1\" class=\"dataframe\">\n  <thead>\n    <tr style=\"text-align: right;\">\n      <th></th>\n      <th>HeadPosX</th>\n      <th>HeadPosY</th>\n      <th>TailPosX1</th>\n      <th>TailPosY1</th>\n      <th>TailPosX2</th>\n      <th>TailPosY2</th>\n      <th>TailPosX3</th>\n      <th>TailPosY3</th>\n      <th>TailPosX4</th>\n      <th>TailPosY4</th>\n      <th>...</th>\n      <th>TailPosX7</th>\n      <th>TailPosY7</th>\n      <th>TailPosX8</th>\n      <th>TailPosY8</th>\n      <th>TailPosX9</th>\n      <th>TailPosY9</th>\n      <th>TailLength</th>\n      <th>Heading</th>\n      <th>tailAngle</th>\n      <th>BoutNumber</th>\n    </tr>\n  </thead>\n  <tbody>\n    <tr>\n      <th>0</th>\n      <td>191.000015</td>\n      <td>266.087654</td>\n      <td>212.004318</td>\n      <td>267.617971</td>\n      <td>233.061736</td>\n      <td>268.179190</td>\n      <td>254.146349</td>\n      <td>268.242029</td>\n      <td>275.232238</td>\n      <td>268.277201</td>\n      <td>...</td>\n      <td>337.791456</td>\n      <td>273.363414</td>\n      <td>358.093405</td>\n      <td>272.482646</td>\n      <td>379.014338</td>\n      <td>273.253244</td>\n      <td>188.407011</td>\n      <td>3.179413</td>\n      <td>0.000273</td>\n      <td>0.0</td>\n    </tr>\n    <tr>\n      <th>1</th>\n      <td>190.993583</td>\n      <td>266.543729</td>\n      <td>212.773212</td>\n      <td>266.701784</td>\n      <td>234.582022</td>\n      <td>266.716724</td>\n      <td>256.395080</td>\n      <td>266.909074</td>\n      <td>278.187457</td>\n      <td>267.599360</td>\n      <td>...</td>\n      <td>343.137677</td>\n      <td>273.522175</td>\n      <td>364.492219</td>\n      <td>273.022664</td>\n      <td>385.939329</td>\n      <td>272.306374</td>\n      <td>195.256700</td>\n      <td>3.177001</td>\n      <td>-0.005857</td>\n      <td>0.0</td>\n    </tr>\n    <tr>\n      <th>2</th>\n      <td>191.018951</td>\n      <td>266.596336</td>\n      <td>211.982494</td>\n      <td>265.492963</td>\n      <td>233.057101</td>\n      <td>265.091039</td>\n      <td>254.187630</td>\n      <td>265.346646</td>\n      <td>275.318938</td>\n      <td>266.215863</td>\n      <td>...</td>\n      <td>338.013520</td>\n      <td>272.474859</td>\n      <td>358.836883</td>\n      <td>272.768793</td>\n      <td>380.021901</td>\n      <td>271.761914</td>\n      <td>189.411032</td>\n      <td>3.176728</td>\n      <td>-0.007812</td>\n      <td>0.0</td>\n    </tr>\n    <tr>\n      <th>3</th>\n      <td>191.000189</td>\n      <td>265.990566</td>\n      <td>211.985412</td>\n      <td>267.825624</td>\n      <td>233.017871</td>\n      <td>268.242172</td>\n      <td>254.075684</td>\n      <td>267.998503</td>\n      <td>275.136968</td>\n      <td>267.852913</td>\n      <td>...</td>\n      <td>337.799102</td>\n      <td>272.345348</td>\n      <td>358.140165</td>\n      <td>271.386626</td>\n      <td>379.015762</td>\n      <td>271.982104</td>\n      <td>188.316234</td>\n      <td>3.179926</td>\n      <td>-0.006477</td>\n      <td>0.0</td>\n    </tr>\n    <tr>\n      <th>4</th>\n      <td>191.007249</td>\n      <td>266.591810</td>\n      <td>212.514090</td>\n      <td>265.481493</td>\n      <td>234.047271</td>\n      <td>265.828227</td>\n      <td>255.614380</td>\n      <td>266.978809</td>\n      <td>277.216923</td>\n      <td>268.357468</td>\n      <td>...</td>\n      <td>341.919842</td>\n      <td>272.566767</td>\n      <td>363.436431</td>\n      <td>272.924575</td>\n      <td>384.988273</td>\n      <td>272.446556</td>\n      <td>194.233376</td>\n      <td>3.176750</td>\n      <td>-0.004984</td>\n      <td>0.0</td>\n    </tr>\n    <tr>\n      <th>...</th>\n      <td>...</td>\n      <td>...</td>\n      <td>...</td>\n      <td>...</td>\n      <td>...</td>\n      <td>...</td>\n      <td>...</td>\n      <td>...</td>\n      <td>...</td>\n      <td>...</td>\n      <td>...</td>\n      <td>...</td>\n      <td>...</td>\n      <td>...</td>\n      <td>...</td>\n      <td>...</td>\n      <td>...</td>\n      <td>...</td>\n      <td>...</td>\n      <td>...</td>\n      <td>...</td>\n    </tr>\n    <tr>\n      <th>212495</th>\n      <td>190.963549</td>\n      <td>266.968029</td>\n      <td>212.385361</td>\n      <td>266.888262</td>\n      <td>233.806095</td>\n      <td>267.172504</td>\n      <td>255.208384</td>\n      <td>267.894493</td>\n      <td>276.574866</td>\n      <td>269.127971</td>\n      <td>...</td>\n      <td>340.383655</td>\n      <td>275.110880</td>\n      <td>361.638532</td>\n      <td>275.930469</td>\n      <td>382.950134</td>\n      <td>274.836689</td>\n      <td>192.362296</td>\n      <td>3.174753</td>\n      <td>0.007802</td>\n      <td>0.0</td>\n    </tr>\n    <tr>\n      <th>212496</th>\n      <td>191.003587</td>\n      <td>265.959431</td>\n      <td>212.014757</td>\n      <td>267.864138</td>\n      <td>233.086627</td>\n      <td>268.205928</td>\n      <td>254.181207</td>\n      <td>267.967479</td>\n      <td>275.260508</td>\n      <td>268.131466</td>\n      <td>...</td>\n      <td>337.691864</td>\n      <td>276.644763</td>\n      <td>357.277460</td>\n      <td>273.651204</td>\n      <td>378.047710</td>\n      <td>274.283809</td>\n      <td>188.013615</td>\n      <td>3.180091</td>\n      <td>0.005977</td>\n      <td>0.0</td>\n    </tr>\n    <tr>\n      <th>212497</th>\n      <td>191.030971</td>\n      <td>265.905682</td>\n      <td>211.978946</td>\n      <td>267.939851</td>\n      <td>233.057566</td>\n      <td>268.209681</td>\n      <td>254.188889</td>\n      <td>267.777409</td>\n      <td>275.294973</td>\n      <td>267.705273</td>\n      <td>...</td>\n      <td>337.738671</td>\n      <td>275.152399</td>\n      <td>358.148096</td>\n      <td>274.687812</td>\n      <td>378.985096</td>\n      <td>274.652183</td>\n      <td>188.555726</td>\n      <td>3.180381</td>\n      <td>0.007713</td>\n      <td>0.0</td>\n    </tr>\n    <tr>\n      <th>212498</th>\n      <td>190.998506</td>\n      <td>266.033437</td>\n      <td>212.396210</td>\n      <td>267.782851</td>\n      <td>233.830528</td>\n      <td>268.256328</td>\n      <td>255.285877</td>\n      <td>268.238004</td>\n      <td>276.746671</td>\n      <td>268.512017</td>\n      <td>...</td>\n      <td>339.901433</td>\n      <td>276.200042</td>\n      <td>360.668148</td>\n      <td>274.212238</td>\n      <td>382.016713</td>\n      <td>273.947949</td>\n      <td>191.714755</td>\n      <td>3.179699</td>\n      <td>0.003303</td>\n      <td>0.0</td>\n    </tr>\n    <tr>\n      <th>212499</th>\n      <td>190.998506</td>\n      <td>266.033437</td>\n      <td>212.396210</td>\n      <td>267.782851</td>\n      <td>233.830528</td>\n      <td>268.256328</td>\n      <td>255.285877</td>\n      <td>268.238004</td>\n      <td>276.746671</td>\n      <td>268.512017</td>\n      <td>...</td>\n      <td>339.901433</td>\n      <td>276.200042</td>\n      <td>360.668148</td>\n      <td>274.212238</td>\n      <td>382.016713</td>\n      <td>273.947949</td>\n      <td>191.714755</td>\n      <td>3.179699</td>\n      <td>0.003303</td>\n      <td>NaN</td>\n    </tr>\n  </tbody>\n</table>\n<p>212500 rows × 24 columns</p>\n</div>"
     },
     "execution_count": 206,
     "metadata": {},
     "output_type": "execute_result"
    }
   ],
   "source": [
    "_, analysis_dir_name = os.path.split(zz_output_dsi.path)\n",
    "output_csv_path = os.path.join(\n",
    "    zz_output_dsi.full_path,\n",
    "    f'allData_{analysis_dir_name}_wellNumber0_animal0.csv')\n",
    "\n",
    "zz_output_df = pd.read_csv(\n",
    "    output_csv_path,\n",
    "    header=0,\n",
    "    skiprows=0,\n",
    "    index_col=0)\n",
    "\n",
    "zz_output_df"
   ],
   "metadata": {
    "collapsed": false,
    "ExecuteTime": {
     "end_time": "2023-10-20T19:42:39.938240200Z",
     "start_time": "2023-10-20T19:42:38.241967Z"
    }
   },
   "id": "5e0b149e17749bbe"
  },
  {
   "cell_type": "code",
   "execution_count": 207,
   "outputs": [
    {
     "data": {
      "text/plain": "(-168.13919917184893, 176.54710117636884)"
     },
     "execution_count": 207,
     "metadata": {},
     "output_type": "execute_result"
    }
   ],
   "source": [
    "zz_tail_angle_raw_deg = np.rad2deg(zz_output_df.loc[:, 'tailAngle'])\n",
    "(zz_tail_angle_raw_deg.min(), zz_tail_angle_raw_deg.max())"
   ],
   "metadata": {
    "collapsed": false,
    "ExecuteTime": {
     "end_time": "2023-10-20T19:42:41.940827200Z",
     "start_time": "2023-10-20T19:42:41.746005700Z"
    }
   },
   "id": "a4c02a9285eebc7e"
  },
  {
   "cell_type": "markdown",
   "source": [
    "## Loading Time Points"
   ],
   "metadata": {
    "collapsed": false
   },
   "id": "4707141aeb6c45ac"
  },
  {
   "cell_type": "code",
   "execution_count": 208,
   "outputs": [
    {
     "data": {
      "text/plain": "        frame-index  frame-number  time-nanosecond\n0                 0             0     244950328000\n1                 1             1     244954332000\n2                 2             2     244958332000\n3                 3             3     244962336000\n4                 4             4     244966336000\n...             ...           ...              ...\n212495       212495        222928    1137114440000\n212496       212496        222929    1137118444000\n212497       212497        222930    1137122444000\n212498       212498        222931    1137126448000\n212499       212499        222932    1137130448000\n\n[212500 rows x 3 columns]",
      "text/html": "<div>\n<style scoped>\n    .dataframe tbody tr th:only-of-type {\n        vertical-align: middle;\n    }\n\n    .dataframe tbody tr th {\n        vertical-align: top;\n    }\n\n    .dataframe thead th {\n        text-align: right;\n    }\n</style>\n<table border=\"1\" class=\"dataframe\">\n  <thead>\n    <tr style=\"text-align: right;\">\n      <th></th>\n      <th>frame-index</th>\n      <th>frame-number</th>\n      <th>time-nanosecond</th>\n    </tr>\n  </thead>\n  <tbody>\n    <tr>\n      <th>0</th>\n      <td>0</td>\n      <td>0</td>\n      <td>244950328000</td>\n    </tr>\n    <tr>\n      <th>1</th>\n      <td>1</td>\n      <td>1</td>\n      <td>244954332000</td>\n    </tr>\n    <tr>\n      <th>2</th>\n      <td>2</td>\n      <td>2</td>\n      <td>244958332000</td>\n    </tr>\n    <tr>\n      <th>3</th>\n      <td>3</td>\n      <td>3</td>\n      <td>244962336000</td>\n    </tr>\n    <tr>\n      <th>4</th>\n      <td>4</td>\n      <td>4</td>\n      <td>244966336000</td>\n    </tr>\n    <tr>\n      <th>...</th>\n      <td>...</td>\n      <td>...</td>\n      <td>...</td>\n    </tr>\n    <tr>\n      <th>212495</th>\n      <td>212495</td>\n      <td>222928</td>\n      <td>1137114440000</td>\n    </tr>\n    <tr>\n      <th>212496</th>\n      <td>212496</td>\n      <td>222929</td>\n      <td>1137118444000</td>\n    </tr>\n    <tr>\n      <th>212497</th>\n      <td>212497</td>\n      <td>222930</td>\n      <td>1137122444000</td>\n    </tr>\n    <tr>\n      <th>212498</th>\n      <td>212498</td>\n      <td>222931</td>\n      <td>1137126448000</td>\n    </tr>\n    <tr>\n      <th>212499</th>\n      <td>212499</td>\n      <td>222932</td>\n      <td>1137130448000</td>\n    </tr>\n  </tbody>\n</table>\n<p>212500 rows × 3 columns</p>\n</div>"
     },
     "execution_count": 208,
     "metadata": {},
     "output_type": "execute_result"
    }
   ],
   "source": [
    "time_table_glob = os.path.join(behav_cam_dsi.full_path, '*TIME.csv')\n",
    "glob_results = glob.glob(time_table_glob)\n",
    "\n",
    "assert len(glob_results) == 1, 'Could not match one and only one \"*TIME.csv\" file.'\n",
    "\n",
    "vid_time_table_df = pd.read_csv(\n",
    "    glob_results[0],\n",
    "    header=0,\n",
    "    skiprows=0)\n",
    "\n",
    "vid_time_table_df.columns = vid_time_table_df.columns.str.strip()\n",
    "vid_time_table_df"
   ],
   "metadata": {
    "collapsed": false,
    "ExecuteTime": {
     "end_time": "2023-10-20T19:42:44.851630200Z",
     "start_time": "2023-10-20T19:42:44.594824900Z"
    }
   },
   "id": "24a94506daac93a7"
  },
  {
   "cell_type": "code",
   "execution_count": 209,
   "outputs": [
    {
     "data": {
      "text/plain": "array([0.00000000e+00, 4.00400000e-03, 8.00400000e-03, ...,\n       8.92172116e+02, 8.92176120e+02, 8.92180120e+02])"
     },
     "execution_count": 209,
     "metadata": {},
     "output_type": "execute_result"
    }
   ],
   "source": [
    "time_col_name = 'time-nanosecond'\n",
    "vid_time_arr_ns = vid_time_table_df.loc[:, time_col_name]\\\n",
    "    .to_numpy()\\\n",
    "    .astype(float)\n",
    "vid_time_arr_s = vid_time_arr_ns / 1.0E9\n",
    "rel_vid_time_arr = vid_time_arr_s - vid_time_arr_s[0]\n",
    "\n",
    "rel_vid_time_arr"
   ],
   "metadata": {
    "collapsed": false,
    "ExecuteTime": {
     "end_time": "2023-10-20T19:42:46.745547100Z",
     "start_time": "2023-10-20T19:42:46.612737700Z"
    }
   },
   "id": "c8bc852a0f282a7e"
  },
  {
   "cell_type": "markdown",
   "source": [
    "## Resample Data To Account for Dropped Frames"
   ],
   "metadata": {
    "collapsed": false
   },
   "id": "a7bdeb3d80b220dc"
  },
  {
   "cell_type": "code",
   "execution_count": 210,
   "outputs": [
    {
     "name": "stdout",
     "output_type": "stream",
     "text": [
      "rel_vid_time_arr.shape = (212500,)\n",
      "rel_vid_time_arr_homo.shape = (223046,)\n",
      "rel_vid_time_arr[-1] = 892.1801199999999\n",
      "rel_vid_time_arr_homo[-1] = 892.1800000000001\n"
     ]
    }
   ],
   "source": [
    "start_time = rel_vid_time_arr[0]\n",
    "end_time = rel_vid_time_arr[-1]\n",
    "desired_sampling_rate = 1/250\n",
    "# TODO - perform double final sampling rate for interpolation step then grab every other loc\n",
    "rel_vid_time_arr_homo = np.arange(start_time, end_time, desired_sampling_rate)\n",
    "\n",
    "print(f'{rel_vid_time_arr.shape = }')\n",
    "print(f'{rel_vid_time_arr_homo.shape = }')\n",
    "\n",
    "print(f'{rel_vid_time_arr[-1] = }')\n",
    "print(f'{rel_vid_time_arr_homo[-1] = }')"
   ],
   "metadata": {
    "collapsed": false,
    "ExecuteTime": {
     "end_time": "2023-10-20T19:43:03.332932100Z",
     "start_time": "2023-10-20T19:43:03.190101800Z"
    }
   },
   "id": "76f47bc088a70bee"
  },
  {
   "cell_type": "code",
   "execution_count": 211,
   "outputs": [],
   "source": [
    "# Median Filter for Noise\n",
    "zz_tail_angle_mov_med = pd.Series(zz_tail_angle_raw_deg)\\\n",
    "    .rolling(3, center=True, min_periods=1)\\\n",
    "    .median().to_numpy()"
   ],
   "metadata": {
    "collapsed": false,
    "ExecuteTime": {
     "end_time": "2023-10-20T19:43:04.492252700Z",
     "start_time": "2023-10-20T19:43:04.322773700Z"
    }
   },
   "id": "9247101a13460ee8"
  },
  {
   "cell_type": "code",
   "execution_count": 212,
   "outputs": [
    {
     "data": {
      "text/plain": "array([-0.15997297, -0.33541451, -0.37107551, ...,  0.34532756,\n        0.19383486,  0.18924349])"
     },
     "execution_count": 212,
     "metadata": {},
     "output_type": "execute_result"
    }
   ],
   "source": [
    "zz_tail_angle_homo = np.interp(\n",
    "    rel_vid_time_arr_homo, \n",
    "    rel_vid_time_arr, \n",
    "    zz_tail_angle_mov_med)\n",
    "zz_tail_angle_homo"
   ],
   "metadata": {
    "collapsed": false,
    "ExecuteTime": {
     "end_time": "2023-10-20T19:43:05.902439Z",
     "start_time": "2023-10-20T19:43:05.735154900Z"
    }
   },
   "id": "e0dcf05483bda7fb"
  },
  {
   "cell_type": "code",
   "execution_count": 214,
   "outputs": [],
   "source": [
    "sigma_samples = 0.25\n",
    "zz_tail_angle_smooth = ski.filters.gaussian(\n",
    "    zz_tail_angle_homo, \n",
    "    sigma=sigma_samples, \n",
    "    truncate=2)\n",
    "\n",
    "sigma_samples = 50\n",
    "zz_tail_angle_oversmooth = ski.filters.gaussian(\n",
    "    zz_tail_angle_homo, \n",
    "    sigma=sigma_samples, \n",
    "    truncate=5)\n",
    "\n",
    "zz_tail_angle_smooth_df = pd.DataFrame(zz_tail_angle_smooth.reshape((1, -1)))\n",
    "zz_tail_angle_baseline = \\\n",
    "    zz_tail_angle_smooth_df\\\n",
    "    .rolling(window=round(10 / desired_sampling_rate),\n",
    "             min_periods=1,\n",
    "             center=False,\n",
    "             axis=1,\n",
    "             closed='both')\\\n",
    "    .quantile(0.5)\\\n",
    "    .to_numpy().flatten()\n",
    "\n",
    "bout_detection_ovs = np.abs(zz_tail_angle_baseline - zz_tail_angle_oversmooth)"
   ],
   "metadata": {
    "collapsed": false,
    "ExecuteTime": {
     "end_time": "2023-10-20T19:44:43.367230300Z",
     "start_time": "2023-10-20T19:44:43.075921700Z"
    }
   },
   "id": "bf07027776d57525"
  },
  {
   "cell_type": "code",
   "execution_count": 228,
   "outputs": [],
   "source": [
    "bout_detection = np.abs(bout_detection_ovs) > 0.35\n",
    "bout_detection_0350 = np.abs(bout_detection_ovs) > 0.35\n",
    "bout_detection_1000 = np.abs(bout_detection_ovs) > 1\n",
    "bout_detection_5000 = np.abs(bout_detection_ovs) > 5"
   ],
   "metadata": {
    "collapsed": false,
    "ExecuteTime": {
     "end_time": "2023-10-20T19:59:20.107324Z",
     "start_time": "2023-10-20T19:59:19.986505800Z"
    }
   },
   "id": "91058b532ec6be53"
  },
  {
   "cell_type": "code",
   "execution_count": 225,
   "outputs": [],
   "source": [
    "fig = plt.figure()\n",
    "ax = plt.subplot(1, 1, 1)\n",
    "ax.plot(rel_vid_time_arr, zz_tail_angle_raw_deg, '.-',\n",
    "        markersize=5,\n",
    "        label='RAW',\n",
    "        alpha=0.5)\n",
    "ax.plot(rel_vid_time_arr, zz_tail_angle_mov_med, '.-',\n",
    "        markersize=5,\n",
    "        label='MOV-MED',\n",
    "        alpha=0.5)\n",
    "ax.plot(rel_vid_time_arr_homo, zz_tail_angle_homo, '.-',\n",
    "        markersize=5,\n",
    "        label='[HOMO] MOV-MED',\n",
    "        alpha=0.5)\n",
    "ax.plot(rel_vid_time_arr_homo, zz_tail_angle_smooth, '.-',\n",
    "        markersize=5,\n",
    "        label='[HOMO] SMOOTH',\n",
    "        alpha=0.5)\n",
    "ax.plot(rel_vid_time_arr_homo, zz_tail_angle_oversmooth, '.-',\n",
    "        markersize=5,\n",
    "        label='[HOMO] VERY SMOOTH')\n",
    "ax.plot(rel_vid_time_arr_homo, bout_detection_ovs, '.-',\n",
    "        markersize=5,\n",
    "        label='[HOMO] VSMOOTH DELTA DETECT')\n",
    "ax.plot(rel_vid_time_arr_homo, zz_tail_angle_baseline, '.-',\n",
    "        markersize=5,\n",
    "        label='[HOMO] BASELINE')\n",
    "plt.fill_between(rel_vid_time_arr_homo,\n",
    "                 np.ones(bout_detection.shape) * (-180),\n",
    "                 (bout_detection.astype(float) * 360) - 180,\n",
    "                 color='g',\n",
    "                 alpha=0.5,\n",
    "                 label='Bout Detection (low deg threshold)')\n",
    "plt.fill_between(rel_vid_time_arr_homo,\n",
    "                 np.ones(bout_detection_1000.shape) * (-180),\n",
    "                 (bout_detection_1000.astype(float) * 360) - 180,\n",
    "                 color='b',\n",
    "                 alpha=0.5,\n",
    "                 label='Bout Detection (med deg threshold)')\n",
    "plt.fill_between(rel_vid_time_arr_homo,\n",
    "                 np.ones(bout_detection_5000.shape) * (-180),\n",
    "                 (bout_detection_5000.astype(float) * 360) - 180,\n",
    "                 color='r',\n",
    "                 alpha=0.5,\n",
    "                 label='Bout Detection (high deg threshold)')\n",
    "plt.hlines(y=0, \n",
    "               xmin=0,\n",
    "               xmax=rel_vid_time_arr_homo[-1] + 10,\n",
    "               linestyles=':',\n",
    "               colors='k')\n",
    "ax.set_ylim([-160, 160])\n",
    "ax.legend()\n",
    "ax.set_xlabel('Time (s)')\n",
    "ax.set_ylabel('Tail Angle (deg)')\n",
    "plt.show()"
   ],
   "metadata": {
    "collapsed": false,
    "ExecuteTime": {
     "end_time": "2023-10-20T19:51:43.300379100Z",
     "start_time": "2023-10-20T19:51:42.765213900Z"
    }
   },
   "id": "a051658fa4093b88"
  },
  {
   "cell_type": "code",
   "execution_count": 226,
   "outputs": [
    {
     "data": {
      "text/plain": "DatetimeIndex(['2023-08-03 17:41:51.577532', '2023-08-03 17:41:51.581532',\n               '2023-08-03 17:41:51.585532', '2023-08-03 17:41:51.589532',\n               '2023-08-03 17:41:51.593532', '2023-08-03 17:41:51.597532',\n               '2023-08-03 17:41:51.601532', '2023-08-03 17:41:51.605532',\n               '2023-08-03 17:41:51.609532', '2023-08-03 17:41:51.613532',\n               ...\n               '2023-08-03 17:56:43.721532', '2023-08-03 17:56:43.725532',\n               '2023-08-03 17:56:43.729532', '2023-08-03 17:56:43.733532',\n               '2023-08-03 17:56:43.737532', '2023-08-03 17:56:43.741532',\n               '2023-08-03 17:56:43.745532', '2023-08-03 17:56:43.749532',\n               '2023-08-03 17:56:43.753532', '2023-08-03 17:56:43.757532'],\n              dtype='datetime64[ns]', length=223046, freq=None)"
     },
     "execution_count": 226,
     "metadata": {},
     "output_type": "execute_result"
    }
   ],
   "source": [
    "_time_vector = [\n",
    "    precise_time_trigger_start_64\n",
    "    + pd.to_timedelta(v, unit='s')\n",
    "    for v in rel_vid_time_arr_homo]\n",
    "\n",
    "tail_angle_index = pd.DatetimeIndex(_time_vector)\n",
    "tail_angle_index"
   ],
   "metadata": {
    "collapsed": false,
    "ExecuteTime": {
     "end_time": "2023-10-20T19:58:25.287368400Z",
     "start_time": "2023-10-20T19:58:18.542362600Z"
    }
   },
   "id": "e453fdf9a2771a65"
  },
  {
   "cell_type": "code",
   "execution_count": 229,
   "outputs": [
    {
     "data": {
      "text/plain": "                            tail_angle  bout_detection_0350  \\\n2023-08-03 17:41:51.577532   -0.160032                  0.0   \n2023-08-03 17:41:51.581532   -0.335368                  0.0   \n2023-08-03 17:41:51.585532   -0.371064                  0.0   \n2023-08-03 17:41:51.589532   -0.371111                  0.0   \n2023-08-03 17:41:51.593532   -0.371247                  0.0   \n...                                ...                  ...   \n2023-08-03 17:56:43.741532    0.345212                  0.0   \n2023-08-03 17:56:43.745532    0.438994                  0.0   \n2023-08-03 17:56:43.749532    0.345308                  0.0   \n2023-08-03 17:56:43.753532    0.193884                  0.0   \n2023-08-03 17:56:43.757532    0.189245                  0.0   \n\n                            bout_detection_1000  bout_detection_5000  \n2023-08-03 17:41:51.577532                  0.0                  0.0  \n2023-08-03 17:41:51.581532                  0.0                  0.0  \n2023-08-03 17:41:51.585532                  0.0                  0.0  \n2023-08-03 17:41:51.589532                  0.0                  0.0  \n2023-08-03 17:41:51.593532                  0.0                  0.0  \n...                                         ...                  ...  \n2023-08-03 17:56:43.741532                  0.0                  0.0  \n2023-08-03 17:56:43.745532                  0.0                  0.0  \n2023-08-03 17:56:43.749532                  0.0                  0.0  \n2023-08-03 17:56:43.753532                  0.0                  0.0  \n2023-08-03 17:56:43.757532                  0.0                  0.0  \n\n[223046 rows x 4 columns]",
      "text/html": "<div>\n<style scoped>\n    .dataframe tbody tr th:only-of-type {\n        vertical-align: middle;\n    }\n\n    .dataframe tbody tr th {\n        vertical-align: top;\n    }\n\n    .dataframe thead th {\n        text-align: right;\n    }\n</style>\n<table border=\"1\" class=\"dataframe\">\n  <thead>\n    <tr style=\"text-align: right;\">\n      <th></th>\n      <th>tail_angle</th>\n      <th>bout_detection_0350</th>\n      <th>bout_detection_1000</th>\n      <th>bout_detection_5000</th>\n    </tr>\n  </thead>\n  <tbody>\n    <tr>\n      <th>2023-08-03 17:41:51.577532</th>\n      <td>-0.160032</td>\n      <td>0.0</td>\n      <td>0.0</td>\n      <td>0.0</td>\n    </tr>\n    <tr>\n      <th>2023-08-03 17:41:51.581532</th>\n      <td>-0.335368</td>\n      <td>0.0</td>\n      <td>0.0</td>\n      <td>0.0</td>\n    </tr>\n    <tr>\n      <th>2023-08-03 17:41:51.585532</th>\n      <td>-0.371064</td>\n      <td>0.0</td>\n      <td>0.0</td>\n      <td>0.0</td>\n    </tr>\n    <tr>\n      <th>2023-08-03 17:41:51.589532</th>\n      <td>-0.371111</td>\n      <td>0.0</td>\n      <td>0.0</td>\n      <td>0.0</td>\n    </tr>\n    <tr>\n      <th>2023-08-03 17:41:51.593532</th>\n      <td>-0.371247</td>\n      <td>0.0</td>\n      <td>0.0</td>\n      <td>0.0</td>\n    </tr>\n    <tr>\n      <th>...</th>\n      <td>...</td>\n      <td>...</td>\n      <td>...</td>\n      <td>...</td>\n    </tr>\n    <tr>\n      <th>2023-08-03 17:56:43.741532</th>\n      <td>0.345212</td>\n      <td>0.0</td>\n      <td>0.0</td>\n      <td>0.0</td>\n    </tr>\n    <tr>\n      <th>2023-08-03 17:56:43.745532</th>\n      <td>0.438994</td>\n      <td>0.0</td>\n      <td>0.0</td>\n      <td>0.0</td>\n    </tr>\n    <tr>\n      <th>2023-08-03 17:56:43.749532</th>\n      <td>0.345308</td>\n      <td>0.0</td>\n      <td>0.0</td>\n      <td>0.0</td>\n    </tr>\n    <tr>\n      <th>2023-08-03 17:56:43.753532</th>\n      <td>0.193884</td>\n      <td>0.0</td>\n      <td>0.0</td>\n      <td>0.0</td>\n    </tr>\n    <tr>\n      <th>2023-08-03 17:56:43.757532</th>\n      <td>0.189245</td>\n      <td>0.0</td>\n      <td>0.0</td>\n      <td>0.0</td>\n    </tr>\n  </tbody>\n</table>\n<p>223046 rows × 4 columns</p>\n</div>"
     },
     "execution_count": 229,
     "metadata": {},
     "output_type": "execute_result"
    }
   ],
   "source": [
    "tail_angle_df = pd.DataFrame(\n",
    "    np.stack([zz_tail_angle_smooth, \n",
    "              bout_detection_0350, \n",
    "              bout_detection_1000, \n",
    "              bout_detection_5000],\n",
    "             axis=1),\n",
    "    columns=['tail_angle', 'bout_detection_0350', 'bout_detection_1000', 'bout_detection_5000'],\n",
    "    index=tail_angle_index)\n",
    "\n",
    "tail_angle_df"
   ],
   "metadata": {
    "collapsed": false,
    "ExecuteTime": {
     "end_time": "2023-10-20T19:59:26.599773100Z",
     "start_time": "2023-10-20T19:59:26.424982500Z"
    }
   },
   "id": "f8fef165cbf405cd"
  },
  {
   "cell_type": "code",
   "execution_count": 233,
   "outputs": [
    {
     "data": {
      "text/plain": "                               flow-mlpm00  flow-err00  temp-c00  temp-err00  \\\n2023-08-03 17:41:46.672447200      -0.0001           0    29.570           0   \n2023-08-03 17:41:48.255405900      -0.0001           0    29.705           0   \n2023-08-03 17:41:48.280177800      -0.0001           0    29.685           0   \n2023-08-03 17:41:48.303687900      -0.0001           0    29.705           0   \n2023-08-03 17:41:48.328437600      -0.0001           0    29.765           0   \n...                                    ...         ...       ...         ...   \n2023-08-03 17:55:54.492237500      -0.0001           0    30.680           0   \n2023-08-03 17:55:54.516569800      -0.0001           0    30.735           0   \n2023-08-03 17:55:54.541657900      -0.0001           0    30.745           0   \n2023-08-03 17:55:54.569989800      -0.0001           0    30.720           0   \n2023-08-03 17:55:54.595506500      -0.0001           0    30.720           0   \n\n                               air-in-line00  high-flow00  flag-err00  \\\n2023-08-03 17:41:46.672447200              1            0           0   \n2023-08-03 17:41:48.255405900              1            0           0   \n2023-08-03 17:41:48.280177800              1            0           0   \n2023-08-03 17:41:48.303687900              1            0           0   \n2023-08-03 17:41:48.328437600              1            0           0   \n...                                      ...          ...         ...   \n2023-08-03 17:55:54.492237500              1            0           0   \n2023-08-03 17:55:54.516569800              1            0           0   \n2023-08-03 17:55:54.541657900              1            0           0   \n2023-08-03 17:55:54.569989800              1            0           0   \n2023-08-03 17:55:54.595506500              1            0           0   \n\n                               flow-mlpm01  flow-err01  temp-c01  ...  \\\n2023-08-03 17:41:46.672447200      -0.0002           0    29.710  ...   \n2023-08-03 17:41:48.255405900      -0.0001           0    29.690  ...   \n2023-08-03 17:41:48.280177800       0.0000           0    29.720  ...   \n2023-08-03 17:41:48.303687900       0.0001           0    29.825  ...   \n2023-08-03 17:41:48.328437600       0.0001           0    29.805  ...   \n...                                    ...         ...       ...  ...   \n2023-08-03 17:55:54.492237500       0.0000           0    30.295  ...   \n2023-08-03 17:55:54.516569800       0.0000           0    30.290  ...   \n2023-08-03 17:55:54.541657900       0.0001           0    30.270  ...   \n2023-08-03 17:55:54.569989800       0.0001           0    30.390  ...   \n2023-08-03 17:55:54.595506500       0.0002           0    30.335  ...   \n\n                               air-in-line10  high-flow10  flag-err10  \\\n2023-08-03 17:41:46.672447200              0            0           0   \n2023-08-03 17:41:48.255405900              0            0           0   \n2023-08-03 17:41:48.280177800              0            0           0   \n2023-08-03 17:41:48.303687900              0            0           0   \n2023-08-03 17:41:48.328437600              0            0           0   \n...                                      ...          ...         ...   \n2023-08-03 17:55:54.492237500              0            0           0   \n2023-08-03 17:55:54.516569800              0            0           0   \n2023-08-03 17:55:54.541657900              0            0           0   \n2023-08-03 17:55:54.569989800              0            0           0   \n2023-08-03 17:55:54.595506500              0            0           0   \n\n                               flow-mlpm11  flow-err11  temp-c11  temp-err11  \\\n2023-08-03 17:41:46.672447200        0.192           0    26.805           0   \n2023-08-03 17:41:48.255405900        0.370           0    26.755           0   \n2023-08-03 17:41:48.280177800        0.428           0    26.810           0   \n2023-08-03 17:41:48.303687900        0.460           0    26.810           0   \n2023-08-03 17:41:48.328437600        0.476           0    26.895           0   \n...                                    ...         ...       ...         ...   \n2023-08-03 17:55:54.492237500        0.492           0    27.115           0   \n2023-08-03 17:55:54.516569800        0.492           0    27.110           0   \n2023-08-03 17:55:54.541657900        0.490           0    27.135           0   \n2023-08-03 17:55:54.569989800        0.490           0    27.110           0   \n2023-08-03 17:55:54.595506500        0.492           0    27.130           0   \n\n                               air-in-line11  high-flow11  flag-err11  \n2023-08-03 17:41:46.672447200              0            0           0  \n2023-08-03 17:41:48.255405900              0            0           0  \n2023-08-03 17:41:48.280177800              0            0           0  \n2023-08-03 17:41:48.303687900              0            0           0  \n2023-08-03 17:41:48.328437600              0            0           0  \n...                                      ...          ...         ...  \n2023-08-03 17:55:54.492237500              0            0           0  \n2023-08-03 17:55:54.516569800              0            0           0  \n2023-08-03 17:55:54.541657900              0            0           0  \n2023-08-03 17:55:54.569989800              0            0           0  \n2023-08-03 17:55:54.595506500              0            0           0  \n\n[33631 rows x 84 columns]",
      "text/html": "<div>\n<style scoped>\n    .dataframe tbody tr th:only-of-type {\n        vertical-align: middle;\n    }\n\n    .dataframe tbody tr th {\n        vertical-align: top;\n    }\n\n    .dataframe thead th {\n        text-align: right;\n    }\n</style>\n<table border=\"1\" class=\"dataframe\">\n  <thead>\n    <tr style=\"text-align: right;\">\n      <th></th>\n      <th>flow-mlpm00</th>\n      <th>flow-err00</th>\n      <th>temp-c00</th>\n      <th>temp-err00</th>\n      <th>air-in-line00</th>\n      <th>high-flow00</th>\n      <th>flag-err00</th>\n      <th>flow-mlpm01</th>\n      <th>flow-err01</th>\n      <th>temp-c01</th>\n      <th>...</th>\n      <th>air-in-line10</th>\n      <th>high-flow10</th>\n      <th>flag-err10</th>\n      <th>flow-mlpm11</th>\n      <th>flow-err11</th>\n      <th>temp-c11</th>\n      <th>temp-err11</th>\n      <th>air-in-line11</th>\n      <th>high-flow11</th>\n      <th>flag-err11</th>\n    </tr>\n  </thead>\n  <tbody>\n    <tr>\n      <th>2023-08-03 17:41:46.672447200</th>\n      <td>-0.0001</td>\n      <td>0</td>\n      <td>29.570</td>\n      <td>0</td>\n      <td>1</td>\n      <td>0</td>\n      <td>0</td>\n      <td>-0.0002</td>\n      <td>0</td>\n      <td>29.710</td>\n      <td>...</td>\n      <td>0</td>\n      <td>0</td>\n      <td>0</td>\n      <td>0.192</td>\n      <td>0</td>\n      <td>26.805</td>\n      <td>0</td>\n      <td>0</td>\n      <td>0</td>\n      <td>0</td>\n    </tr>\n    <tr>\n      <th>2023-08-03 17:41:48.255405900</th>\n      <td>-0.0001</td>\n      <td>0</td>\n      <td>29.705</td>\n      <td>0</td>\n      <td>1</td>\n      <td>0</td>\n      <td>0</td>\n      <td>-0.0001</td>\n      <td>0</td>\n      <td>29.690</td>\n      <td>...</td>\n      <td>0</td>\n      <td>0</td>\n      <td>0</td>\n      <td>0.370</td>\n      <td>0</td>\n      <td>26.755</td>\n      <td>0</td>\n      <td>0</td>\n      <td>0</td>\n      <td>0</td>\n    </tr>\n    <tr>\n      <th>2023-08-03 17:41:48.280177800</th>\n      <td>-0.0001</td>\n      <td>0</td>\n      <td>29.685</td>\n      <td>0</td>\n      <td>1</td>\n      <td>0</td>\n      <td>0</td>\n      <td>0.0000</td>\n      <td>0</td>\n      <td>29.720</td>\n      <td>...</td>\n      <td>0</td>\n      <td>0</td>\n      <td>0</td>\n      <td>0.428</td>\n      <td>0</td>\n      <td>26.810</td>\n      <td>0</td>\n      <td>0</td>\n      <td>0</td>\n      <td>0</td>\n    </tr>\n    <tr>\n      <th>2023-08-03 17:41:48.303687900</th>\n      <td>-0.0001</td>\n      <td>0</td>\n      <td>29.705</td>\n      <td>0</td>\n      <td>1</td>\n      <td>0</td>\n      <td>0</td>\n      <td>0.0001</td>\n      <td>0</td>\n      <td>29.825</td>\n      <td>...</td>\n      <td>0</td>\n      <td>0</td>\n      <td>0</td>\n      <td>0.460</td>\n      <td>0</td>\n      <td>26.810</td>\n      <td>0</td>\n      <td>0</td>\n      <td>0</td>\n      <td>0</td>\n    </tr>\n    <tr>\n      <th>2023-08-03 17:41:48.328437600</th>\n      <td>-0.0001</td>\n      <td>0</td>\n      <td>29.765</td>\n      <td>0</td>\n      <td>1</td>\n      <td>0</td>\n      <td>0</td>\n      <td>0.0001</td>\n      <td>0</td>\n      <td>29.805</td>\n      <td>...</td>\n      <td>0</td>\n      <td>0</td>\n      <td>0</td>\n      <td>0.476</td>\n      <td>0</td>\n      <td>26.895</td>\n      <td>0</td>\n      <td>0</td>\n      <td>0</td>\n      <td>0</td>\n    </tr>\n    <tr>\n      <th>...</th>\n      <td>...</td>\n      <td>...</td>\n      <td>...</td>\n      <td>...</td>\n      <td>...</td>\n      <td>...</td>\n      <td>...</td>\n      <td>...</td>\n      <td>...</td>\n      <td>...</td>\n      <td>...</td>\n      <td>...</td>\n      <td>...</td>\n      <td>...</td>\n      <td>...</td>\n      <td>...</td>\n      <td>...</td>\n      <td>...</td>\n      <td>...</td>\n      <td>...</td>\n      <td>...</td>\n    </tr>\n    <tr>\n      <th>2023-08-03 17:55:54.492237500</th>\n      <td>-0.0001</td>\n      <td>0</td>\n      <td>30.680</td>\n      <td>0</td>\n      <td>1</td>\n      <td>0</td>\n      <td>0</td>\n      <td>0.0000</td>\n      <td>0</td>\n      <td>30.295</td>\n      <td>...</td>\n      <td>0</td>\n      <td>0</td>\n      <td>0</td>\n      <td>0.492</td>\n      <td>0</td>\n      <td>27.115</td>\n      <td>0</td>\n      <td>0</td>\n      <td>0</td>\n      <td>0</td>\n    </tr>\n    <tr>\n      <th>2023-08-03 17:55:54.516569800</th>\n      <td>-0.0001</td>\n      <td>0</td>\n      <td>30.735</td>\n      <td>0</td>\n      <td>1</td>\n      <td>0</td>\n      <td>0</td>\n      <td>0.0000</td>\n      <td>0</td>\n      <td>30.290</td>\n      <td>...</td>\n      <td>0</td>\n      <td>0</td>\n      <td>0</td>\n      <td>0.492</td>\n      <td>0</td>\n      <td>27.110</td>\n      <td>0</td>\n      <td>0</td>\n      <td>0</td>\n      <td>0</td>\n    </tr>\n    <tr>\n      <th>2023-08-03 17:55:54.541657900</th>\n      <td>-0.0001</td>\n      <td>0</td>\n      <td>30.745</td>\n      <td>0</td>\n      <td>1</td>\n      <td>0</td>\n      <td>0</td>\n      <td>0.0001</td>\n      <td>0</td>\n      <td>30.270</td>\n      <td>...</td>\n      <td>0</td>\n      <td>0</td>\n      <td>0</td>\n      <td>0.490</td>\n      <td>0</td>\n      <td>27.135</td>\n      <td>0</td>\n      <td>0</td>\n      <td>0</td>\n      <td>0</td>\n    </tr>\n    <tr>\n      <th>2023-08-03 17:55:54.569989800</th>\n      <td>-0.0001</td>\n      <td>0</td>\n      <td>30.720</td>\n      <td>0</td>\n      <td>1</td>\n      <td>0</td>\n      <td>0</td>\n      <td>0.0001</td>\n      <td>0</td>\n      <td>30.390</td>\n      <td>...</td>\n      <td>0</td>\n      <td>0</td>\n      <td>0</td>\n      <td>0.490</td>\n      <td>0</td>\n      <td>27.110</td>\n      <td>0</td>\n      <td>0</td>\n      <td>0</td>\n      <td>0</td>\n    </tr>\n    <tr>\n      <th>2023-08-03 17:55:54.595506500</th>\n      <td>-0.0001</td>\n      <td>0</td>\n      <td>30.720</td>\n      <td>0</td>\n      <td>1</td>\n      <td>0</td>\n      <td>0</td>\n      <td>0.0002</td>\n      <td>0</td>\n      <td>30.335</td>\n      <td>...</td>\n      <td>0</td>\n      <td>0</td>\n      <td>0</td>\n      <td>0.492</td>\n      <td>0</td>\n      <td>27.130</td>\n      <td>0</td>\n      <td>0</td>\n      <td>0</td>\n      <td>0</td>\n    </tr>\n  </tbody>\n</table>\n<p>33631 rows × 84 columns</p>\n</div>"
     },
     "execution_count": 233,
     "metadata": {},
     "output_type": "execute_result"
    }
   ],
   "source": [
    "flow_sense_df"
   ],
   "metadata": {
    "collapsed": false,
    "ExecuteTime": {
     "end_time": "2023-10-23T20:16:04.590676Z",
     "start_time": "2023-10-23T20:16:04.313082200Z"
    }
   },
   "id": "bcb9f017684082e7"
  },
  {
   "cell_type": "code",
   "execution_count": 232,
   "outputs": [],
   "source": [
    "pd.to_pickle(flow_sense_df, \n",
    "             export_path_fmt.format('stimulation-flow-sensor-vs-time'))\n",
    "pd.to_pickle(all_sol_pos_df, \n",
    "             export_path_fmt.format('stimulation-control-vs-time'))\n",
    "pd.to_pickle(tail_angle_df, \n",
    "             export_path_fmt.format('tail-angle-and-bout-vs-time'))"
   ],
   "metadata": {
    "collapsed": false,
    "ExecuteTime": {
     "end_time": "2023-10-23T20:15:30.380752300Z",
     "start_time": "2023-10-23T20:15:30.233678100Z"
    }
   },
   "id": "9ecab9a6f81d8dcc"
  },
  {
   "cell_type": "markdown",
   "source": [
    "# Meta Plot for All Live Data"
   ],
   "metadata": {
    "collapsed": false
   },
   "id": "6b8be6a4a482f8ea"
  },
  {
   "cell_type": "code",
   "execution_count": 108,
   "outputs": [
    {
     "name": "stderr",
     "output_type": "stream",
     "text": [
      "I:\\CorbanSwain\\repos\\zmia\\envs\\zmia-env-3.9\\lib\\site-packages\\seaborn\\matrix.py:578: UserWarning:\n",
      "\n",
      "Clustering large matrix with scipy. Installing `fastcluster` may give better performance.\n",
      "\n"
     ]
    },
    {
     "name": "stdout",
     "output_type": "stream",
     "text": [
      "Using meshgrid arguments.\n"
     ]
    }
   ],
   "source": [
    "%matplotlib qt\n",
    "\n",
    "y_locs_for_dendrogram = (np.arange(functional_activity_df.shape[1]) + 0.5) * 10\n",
    "\n",
    "# Regional Activity Plot\n",
    "\n",
    "clst_grd = sns.clustermap(\n",
    "    functional_activity_df.T,\n",
    "    metric='correlation',\n",
    "    figsize=(20, 12),\n",
    "    col_cluster=False,\n",
    "    cmap='rocket',\n",
    "    vmin=0,\n",
    "    vmax=np.quantile(functional_activity_df, 0.995),\n",
    "    cbar_pos=None,\n",
    "    x_meshgrid=adj_unix_time_array,\n",
    "    y_meshgrid=y_locs_for_dendrogram\n",
    ")\n",
    "\n",
    "# TODO - use grid spec to specify the y positions of the figures\n",
    "#  and use the clustermap to give the xy position\n",
    "\n",
    "# clst_grd.ax_row_colors.remove()\n",
    "# clst_grd.ax_col_colors.remove()\n",
    "clst_grd.ax_col_dendrogram.remove()\n",
    "# clst_grd.ax_cbar.remove()\n",
    "\n",
    "ax_hmap = clst_grd.ax_heatmap\n",
    "ax_row_dgram = clst_grd.ax_row_dendrogram\n",
    "fig = clst_grd.figure\n",
    "\n",
    "hmap_pos_0 = ax_hmap.get_position()\n",
    "ax_row_dgram_pos_0 = ax_row_dgram.get_position()\n",
    "\n",
    "top_margin = 0.04\n",
    "new_height = hmap_pos_0.height * 0.7\n",
    "\n",
    "ref_x_pos = hmap_pos_0.x0\n",
    "ref_width = hmap_pos_0.width\n",
    "\n",
    "ax_hmap.set_title('ACTIVITY: Zebrafish Functional Ca++ Imaging Heatmap by Brain Region '\n",
    "                  '(regions clustered with correlation metric based on activity)'\n",
    "                  ' | Experiment CS-II-29A_RUN-399')\n",
    "\n",
    "ax_hmap.set_position(\n",
    "    [hmap_pos_0.x0, 1 - new_height - top_margin,\n",
    "     hmap_pos_0.width, new_height])\n",
    "ax_row_dgram.set_position(\n",
    "    [ax_row_dgram_pos_0.x0, 1 - new_height - top_margin,\n",
    "     ax_row_dgram_pos_0.width, new_height])\n",
    "\n",
    "\n",
    "ax_hmap.set_xlim([0, adj_unix_time_array.max()])\n",
    "ax_hmap.sharey(ax_row_dgram)\n",
    "ax_hmap.xaxis.set_major_locator(\n",
    "    mpl.ticker.AutoLocator())\n",
    "ax_hmap.tick_params(\n",
    "    axis='both', \n",
    "    which='both',\n",
    "    length=5)\n",
    "ax_hmap.xaxis.set_tick_params(labelbottom=True)\n",
    "y_labels_raw = functional_activity_df.columns.to_list() \n",
    "y_labels = [y_labels_raw[i] for i in \n",
    "            clst_grd.dendrogram_row.reordered_ind]\n",
    "ax_hmap.yaxis.set_ticks(\n",
    "    ticks=y_locs_for_dendrogram,\n",
    "    labels=y_labels)\n",
    "plt.setp(ax_hmap.get_xticklabels(),\n",
    "         rotation='horizontal')\n",
    "\n",
    "def sec_formatter(x, pos):\n",
    "    x_min, x_sec = np.divmod(x, 60)\n",
    "    x_min = x_min.astype(int)\n",
    "    x_str = f'{x_min:02d}:{x_sec:04.1f}'\n",
    "    return x_str\n",
    "\n",
    "ax_hmap.xaxis.set_major_formatter(\n",
    "    mpl.ticker.FuncFormatter(sec_formatter))\n",
    "\n",
    "sns.despine(\n",
    "    ax=ax_hmap,\n",
    "    left=False,\n",
    "    top=False,\n",
    "    bottom=False,\n",
    "    right=False)\n",
    "\n",
    "# Sensor Subplot\n",
    "sensor_subp_height = 0.175\n",
    "subp_space = 0.055\n",
    "\n",
    "new_pos = [\n",
    "    ref_x_pos, 1 - new_height - top_margin - subp_space - sensor_subp_height,\n",
    "    ref_width, sensor_subp_height]\n",
    "\n",
    "ax_sensor = fig.add_subplot(\n",
    "    position=new_pos,\n",
    "    sharex=ax_hmap)\n",
    "\n",
    "ax_sensor.plot(\n",
    "    time_arr_adj,\n",
    "    flow_arr_smooth,\n",
    "    'k',\n",
    "    label=f'Flow Sensor, Channel #{data_index + 1:d}, Smoothed',\n",
    "    lw=2)\n",
    "\n",
    "ax_sensor.set_ylim(ax_sensor.get_ylim())\n",
    "\n",
    "ax_sensor.fill_between(\n",
    "    sol_pos_time_arr,\n",
    "    np.ones(shape=sol_2_pos_arr.shape) * (-1E3),\n",
    "    (sol_2_pos_arr.astype(float) * 2E3) - 1E3,\n",
    "    alpha=0.2,\n",
    "    label='Control Signal, Solenoid #2')\n",
    "\n",
    "ax_sensor.set_xlabel('Time (m:s)')\n",
    "ax_sensor.set_ylabel('Flow Rate (ml/min)')\n",
    "ax_sensor.legend(\n",
    "    loc='upper left',\n",
    "    bbox_to_anchor=(1, 1))\n",
    "ax_sensor.set_title('STIMULATION: Flow Rate vs. Time (tactile pulses of water, no odor)')\n",
    "\n",
    "# Tail Angle Subplot\n",
    "tail_subp_height = 0.175\n",
    "\n",
    "new_pos = [\n",
    "    ref_x_pos, \n",
    "    1 - new_height - top_margin - subp_space - sensor_subp_height - subp_space - tail_subp_height,\n",
    "    ref_width,\n",
    "    tail_subp_height]\n",
    "\n",
    "ax_tail = fig.add_subplot(\n",
    "    position=new_pos,\n",
    "    sharex=ax_hmap)\n",
    "\n",
    "ax_tail.plot(\n",
    "    rel_vid_time_arr_homo, \n",
    "    zz_tail_angle_smooth,\n",
    "    'k',\n",
    "    label='Tail Angle, Smoothed',\n",
    "    lw=2)\n",
    "\n",
    "ax_tail.fill_between(\n",
    "    sol_pos_time_arr,\n",
    "    np.ones(shape=sol_2_pos_arr.shape) * (-1E3),\n",
    "    (sol_2_pos_arr.astype(float) * 2E3) - 1E3,\n",
    "    alpha=0.2,\n",
    "    label='Control Signal, Solenoid #2')\n",
    "\n",
    "ax_tail.fill_between(rel_vid_time_arr_homo,\n",
    "                 np.ones(bout_detection.shape) * (-180),\n",
    "                 (bout_detection.astype(float) * 360) - 180,\n",
    "                 color='r',\n",
    "                 alpha=0.5,\n",
    "                 label='Bout Detection (1.85 deg threshold)')\n",
    "ax_tail.set_ylim([-160, 160])\n",
    "\n",
    "ax_tail.hlines(y=0, \n",
    "               xmin=0,\n",
    "               xmax=rel_vid_time_arr_homo[-1] + 10,\n",
    "               linestyles=':',\n",
    "               colors='k')\n",
    "\n",
    "ax_tail.set_xlabel('Time (m:s)')\n",
    "ax_tail.set_ylabel('Tail Angle (deg)')\n",
    "ax_tail.legend(\n",
    "    loc='upper left',\n",
    "    bbox_to_anchor=(1, 1))\n",
    "ax_tail.set_title('BEHAVIOR: Tail Angle vs. Time, Quantified from IR Imaging Camera')\n",
    "\n",
    "plt.show()"
   ],
   "metadata": {
    "collapsed": false,
    "ExecuteTime": {
     "end_time": "2023-10-07T16:34:10.661767900Z",
     "start_time": "2023-10-07T16:34:09.281187Z"
    }
   },
   "id": "de730d7beae0b2fb"
  },
  {
   "cell_type": "markdown",
   "source": [
    "## Resample Stimulation and Tail Data to Live Rate"
   ],
   "metadata": {
    "collapsed": false
   },
   "id": "4eb1fd7a2532973c"
  },
  {
   "cell_type": "code",
   "execution_count": 106,
   "outputs": [
    {
     "name": "stdout",
     "output_type": "stream",
     "text": [
      "local-nb_cs-ii-29_import-tests (   1): INFO : Resample stim and tail array to match live data ...\n",
      "new_tail_arr.max() = 1.0\n",
      "new_stim_arr.max() = nan\n"
     ]
    }
   ],
   "source": [
    "log.info('Resample stim and tail array to match live data ...')\n",
    "new_stim_arr = np.zeros((functional_activity_df.shape[0],)) * np.nan\n",
    "stim_time = time_arr_adj\n",
    "stim_arr = flow_arr_smooth\n",
    "new_tail_arr = np.zeros((functional_activity_df.shape[0],)) * np.nan\n",
    "tail_time = rel_vid_time_arr_homo\n",
    "tail_arr = bout_detection.astype(float)\n",
    "\n",
    "quantile_val = 0.95\n",
    "\n",
    "for i, val in enumerate(adj_unix_time_array):\n",
    "    if i == 0:\n",
    "        time_delta = adj_unix_time_array[1] - val\n",
    "        half_delta = time_delta / 2\n",
    "        start_t = val - half_delta\n",
    "        end_t = val + half_delta\n",
    "    elif i == (adj_unix_time_array.size - 1):\n",
    "        time_delta = val - adj_unix_time_array[-2]\n",
    "        half_delta = time_delta / 2\n",
    "        start_t = val - half_delta\n",
    "        end_t = val + half_delta\n",
    "    else:\n",
    "        start_t = (val + adj_unix_time_array[i-1]) / 2\n",
    "        end_t = (val + adj_unix_time_array[i+1]) / 2\n",
    "        \n",
    "    stim_time_sel = (stim_time >= start_t) & (stim_time < end_t)\n",
    "    tail_time_sel = (tail_time >= start_t) & (tail_time < end_t)\n",
    "    \n",
    "    if np.any(stim_time_sel):\n",
    "        stim_subarr = stim_arr[stim_time_sel]\n",
    "        new_stim_arr[i] = np.quantile(stim_subarr, quantile_val)\n",
    "\n",
    "    if np.any(tail_time_sel):\n",
    "        tail_subarr = tail_arr[tail_time_sel]\n",
    "        new_tail_arr[i] = np.quantile(tail_subarr, 0.999)\n",
    "    \n",
    "    \n",
    "print(f'{new_tail_arr.max() = }')\n",
    "print(f'{new_stim_arr.max() = }')"
   ],
   "metadata": {
    "collapsed": false,
    "ExecuteTime": {
     "end_time": "2023-10-07T16:33:54.869578900Z",
     "start_time": "2023-10-07T16:33:53.841225Z"
    }
   },
   "id": "2a640a1d4fd2a82f"
  },
  {
   "cell_type": "code",
   "execution_count": 107,
   "outputs": [
    {
     "data": {
      "text/plain": "(0.11445428142524448, 1.0)"
     },
     "execution_count": 107,
     "metadata": {},
     "output_type": "execute_result"
    }
   ],
   "source": [
    "new_stim_arr[np.isnan(new_stim_arr)] = 0\n",
    "stim_max = np.quantile(new_stim_arr, 0.995)\n",
    "clip_stim_arr = np.clip(new_stim_arr, 0, stim_max)\n",
    "norm_stim_arr = clip_stim_arr / stim_max\n",
    "\n",
    "new_tail_arr[np.isnan(new_tail_arr)] = 0\n",
    "tail_max = np.quantile(new_tail_arr, 0.999)\n",
    "clip_tail_arr = np.clip(new_tail_arr, 0, tail_max)\n",
    "norm_tail_arr = clip_tail_arr / tail_max\n",
    "\n",
    "(stim_max, tail_max)"
   ],
   "metadata": {
    "collapsed": false,
    "ExecuteTime": {
     "end_time": "2023-10-07T16:33:55.735192600Z",
     "start_time": "2023-10-07T16:33:55.681278800Z"
    }
   },
   "id": "8ccdba6d0bca42b1"
  },
  {
   "cell_type": "code",
   "execution_count": 276,
   "outputs": [],
   "source": [
    "fig = plt.figure()\n",
    "ax1 = fig.add_subplot(2, 1, 1)\n",
    "ax1.plot(stim_time, stim_arr, '.-', label='original stim')\n",
    "ax1.plot(adj_unix_time_array, new_stim_arr, '.-', label='resampled stim')\n",
    "ax1.plot(adj_unix_time_array, clip_stim_arr, '.-', label='resampled, clipped stim')\n",
    "ax1.legend()\n",
    "\n",
    "ax2 = fig.add_subplot(2, 1, 2, sharex=ax1)\n",
    "ax2.plot(tail_time, tail_arr, '.-', label='original tail')\n",
    "ax2.plot(adj_unix_time_array, new_tail_arr, '.-', label='resampled tail')\n",
    "ax2.plot(adj_unix_time_array, clip_tail_arr, '.-', label='resampled, clipped tail')\n",
    "ax2.legend()\n",
    "\n",
    "plt.show()"
   ],
   "metadata": {
    "collapsed": false,
    "ExecuteTime": {
     "end_time": "2023-10-06T18:58:07.461882800Z",
     "start_time": "2023-10-06T18:58:07.169916600Z"
    }
   },
   "id": "50c7a28cda77f9db"
  },
  {
   "cell_type": "markdown",
   "source": [
    "# Add normalized arrays to dataframe"
   ],
   "metadata": {
    "collapsed": false
   },
   "id": "bf35aaf3e325d821"
  },
  {
   "cell_type": "code",
   "execution_count": 277,
   "outputs": [
    {
     "data": {
      "text/plain": "                            #001 | 69.00k vxl | LEFT - Mesencephalon - Tectum Stratum Periventriculare  \\\n2023-08-03 17:41:51.577532                                           0.150616                            \n2023-08-03 17:41:52.074636                                           0.157046                            \n2023-08-03 17:41:52.571739                                           0.163104                            \n2023-08-03 17:41:53.068843                                           0.167943                            \n2023-08-03 17:41:53.565947                                           0.170921                            \n...                                                                       ...                            \n2023-08-03 17:55:59.139340                                           0.009866                            \n2023-08-03 17:55:59.636444                                           0.007821                            \n2023-08-03 17:56:00.133548                                           0.006025                            \n2023-08-03 17:56:00.630652                                           0.004648                            \n2023-08-03 17:56:01.127755                                           0.003695                            \n\n                            #002 | 72.92k vxl | RIGHT - Mesencephalon - Tectum Stratum Periventriculare  \\\n2023-08-03 17:41:51.577532                                           0.139038                             \n2023-08-03 17:41:52.074636                                           0.144280                             \n2023-08-03 17:41:52.571739                                           0.149378                             \n2023-08-03 17:41:53.068843                                           0.153590                             \n2023-08-03 17:41:53.565947                                           0.156337                             \n...                                                                       ...                             \n2023-08-03 17:55:59.139340                                           0.016858                             \n2023-08-03 17:55:59.636444                                           0.015895                             \n2023-08-03 17:56:00.133548                                           0.015044                             \n2023-08-03 17:56:00.630652                                           0.014351                             \n2023-08-03 17:56:01.127755                                           0.013870                             \n\n                            #003 | 43.94k vxl | LEFT - Rhombencephalon - Rhombomere 7  \\\n2023-08-03 17:41:51.577532                                           0.058533           \n2023-08-03 17:41:52.074636                                           0.059898           \n2023-08-03 17:41:52.571739                                           0.061660           \n2023-08-03 17:41:53.068843                                           0.063477           \n2023-08-03 17:41:53.565947                                           0.064965           \n...                                                                       ...           \n2023-08-03 17:55:59.139340                                           0.061242           \n2023-08-03 17:55:59.636444                                           0.059519           \n2023-08-03 17:56:00.133548                                           0.057826           \n2023-08-03 17:56:00.630652                                           0.056260           \n2023-08-03 17:56:01.127755                                           0.054940           \n\n                            #004 | 49.32k vxl | RIGHT - Rhombencephalon - Rhombomere 7  \\\n2023-08-03 17:41:51.577532                                           0.048041            \n2023-08-03 17:41:52.074636                                           0.048661            \n2023-08-03 17:41:52.571739                                           0.050021            \n2023-08-03 17:41:53.068843                                           0.051891            \n2023-08-03 17:41:53.565947                                           0.053806            \n...                                                                       ...            \n2023-08-03 17:55:59.139340                                           0.092779            \n2023-08-03 17:55:59.636444                                           0.087898            \n2023-08-03 17:56:00.133548                                           0.082778            \n2023-08-03 17:56:00.630652                                           0.077855            \n2023-08-03 17:56:01.127755                                           0.073598            \n\n                            #005 | 55.45k vxl | LEFT - Rhombencephalon - Rhombomere 1  \\\n2023-08-03 17:41:51.577532                                           0.074429           \n2023-08-03 17:41:52.074636                                           0.079915           \n2023-08-03 17:41:52.571739                                           0.085812           \n2023-08-03 17:41:53.068843                                           0.091462           \n2023-08-03 17:41:53.565947                                           0.096174           \n...                                                                       ...           \n2023-08-03 17:55:59.139340                                           0.018291           \n2023-08-03 17:55:59.636444                                           0.016478           \n2023-08-03 17:56:00.133548                                           0.014732           \n2023-08-03 17:56:00.630652                                           0.013227           \n2023-08-03 17:56:01.127755                                           0.012168           \n\n                            #006 | 56.01k vxl | RIGHT - Rhombencephalon - Rhombomere 1  \\\n2023-08-03 17:41:51.577532                                           0.098386            \n2023-08-03 17:41:52.074636                                           0.103110            \n2023-08-03 17:41:52.571739                                           0.107245            \n2023-08-03 17:41:53.068843                                           0.110098            \n2023-08-03 17:41:53.565947                                           0.111144            \n...                                                                       ...            \n2023-08-03 17:55:59.139340                                           0.016828            \n2023-08-03 17:55:59.636444                                           0.014168            \n2023-08-03 17:56:00.133548                                           0.011087            \n2023-08-03 17:56:00.630652                                           0.007773            \n2023-08-03 17:56:01.127755                                           0.004535            \n\n                            #007 | 34.48k vxl | LEFT - Mesencephalon - Tecum Neuropil  \\\n2023-08-03 17:41:51.577532                                           0.049212           \n2023-08-03 17:41:52.074636                                           0.059364           \n2023-08-03 17:41:52.571739                                           0.068734           \n2023-08-03 17:41:53.068843                                           0.076173           \n2023-08-03 17:41:53.565947                                           0.081313           \n...                                                                       ...           \n2023-08-03 17:55:59.139340                                           0.000000           \n2023-08-03 17:55:59.636444                                           0.000000           \n2023-08-03 17:56:00.133548                                           0.000000           \n2023-08-03 17:56:00.630652                                           0.000000           \n2023-08-03 17:56:01.127755                                           0.000000           \n\n                            #008 | 38.00k vxl | RIGHT - Mesencephalon - Tecum Neuropil  \\\n2023-08-03 17:41:51.577532                                           0.046857            \n2023-08-03 17:41:52.074636                                           0.059797            \n2023-08-03 17:41:52.571739                                           0.072287            \n2023-08-03 17:41:53.068843                                           0.082776            \n2023-08-03 17:41:53.565947                                           0.089968            \n...                                                                       ...            \n2023-08-03 17:55:59.139340                                           0.000000            \n2023-08-03 17:55:59.636444                                           0.000000            \n2023-08-03 17:56:00.133548                                           0.000000            \n2023-08-03 17:56:00.630652                                           0.000000            \n2023-08-03 17:56:01.127755                                           0.000000            \n\n                            #009 | 32.70k vxl | LEFT - Diencephalon - Intermediate Hypothalamus  \\\n2023-08-03 17:41:51.577532                                           0.053436                     \n2023-08-03 17:41:52.074636                                           0.058956                     \n2023-08-03 17:41:52.571739                                           0.064057                     \n2023-08-03 17:41:53.068843                                           0.068057                     \n2023-08-03 17:41:53.565947                                           0.070496                     \n...                                                                       ...                     \n2023-08-03 17:55:59.139340                                           0.000000                     \n2023-08-03 17:55:59.636444                                           0.000000                     \n2023-08-03 17:56:00.133548                                           0.000000                     \n2023-08-03 17:56:00.630652                                           0.000000                     \n2023-08-03 17:56:01.127755                                           0.000000                     \n\n                            #010 | 28.57k vxl | RIGHT - Diencephalon - Intermediate Hypothalamus  \\\n2023-08-03 17:41:51.577532                                           0.076974                      \n2023-08-03 17:41:52.074636                                           0.080732                      \n2023-08-03 17:41:52.571739                                           0.084318                      \n2023-08-03 17:41:53.068843                                           0.087252                      \n2023-08-03 17:41:53.565947                                           0.088971                      \n...                                                                       ...                      \n2023-08-03 17:55:59.139340                                           0.013189                      \n2023-08-03 17:55:59.636444                                           0.011187                      \n2023-08-03 17:56:00.133548                                           0.008765                      \n2023-08-03 17:56:00.630652                                           0.006005                      \n2023-08-03 17:56:01.127755                                           0.003138                      \n\n                            ...  \\\n2023-08-03 17:41:51.577532  ...   \n2023-08-03 17:41:52.074636  ...   \n2023-08-03 17:41:52.571739  ...   \n2023-08-03 17:41:53.068843  ...   \n2023-08-03 17:41:53.565947  ...   \n...                         ...   \n2023-08-03 17:55:59.139340  ...   \n2023-08-03 17:55:59.636444  ...   \n2023-08-03 17:56:00.133548  ...   \n2023-08-03 17:56:00.630652  ...   \n2023-08-03 17:56:01.127755  ...   \n\n                            #070 | 0.68k vxl | RIGHT - Diencephalon - Hypothalamus 6.7FRhcrtR-Gal4 cluster 1  \\\n2023-08-03 17:41:51.577532                                           0.429535                                  \n2023-08-03 17:41:52.074636                                           0.448093                                  \n2023-08-03 17:41:52.571739                                           0.468222                                  \n2023-08-03 17:41:53.068843                                           0.488273                                  \n2023-08-03 17:41:53.565947                                           0.507100                                  \n...                                                                       ...                                  \n2023-08-03 17:55:59.139340                                           0.065001                                  \n2023-08-03 17:55:59.636444                                           0.063695                                  \n2023-08-03 17:56:00.133548                                           0.060352                                  \n2023-08-03 17:56:00.630652                                           0.054871                                  \n2023-08-03 17:56:01.127755                                           0.048522                                  \n\n                            #071 | 0.84k vxl | LEFT - Mesencephalon - Retinal Arborization Field 9 (AF9)  \\\n2023-08-03 17:41:51.577532                                           0.592882                              \n2023-08-03 17:41:52.074636                                           0.598662                              \n2023-08-03 17:41:52.571739                                           0.598472                              \n2023-08-03 17:41:53.068843                                           0.593650                              \n2023-08-03 17:41:53.565947                                           0.585602                              \n...                                                                       ...                              \n2023-08-03 17:55:59.139340                                           0.204499                              \n2023-08-03 17:55:59.636444                                           0.207860                              \n2023-08-03 17:56:00.133548                                           0.207320                              \n2023-08-03 17:56:00.630652                                           0.201955                              \n2023-08-03 17:56:01.127755                                           0.192659                              \n\n                            #072 | 1.17k vxl | RIGHT - Mesencephalon - Retinal Arborization Field 9 (AF9)  \\\n2023-08-03 17:41:51.577532                                           0.308872                               \n2023-08-03 17:41:52.074636                                           0.334153                               \n2023-08-03 17:41:52.571739                                           0.355389                               \n2023-08-03 17:41:53.068843                                           0.370404                               \n2023-08-03 17:41:53.565947                                           0.378057                               \n...                                                                       ...                               \n2023-08-03 17:55:59.139340                                           0.139289                               \n2023-08-03 17:55:59.636444                                           0.139213                               \n2023-08-03 17:56:00.133548                                           0.137997                               \n2023-08-03 17:56:00.630652                                           0.136326                               \n2023-08-03 17:56:01.127755                                           0.135021                               \n\n                            #073 | 0.99k vxl | LEFT - Diencephalon - Migrated Area of the Pretectum (M1)  \\\n2023-08-03 17:41:51.577532                                           0.126437                              \n2023-08-03 17:41:52.074636                                           0.133247                              \n2023-08-03 17:41:52.571739                                           0.139023                              \n2023-08-03 17:41:53.068843                                           0.141882                              \n2023-08-03 17:41:53.565947                                           0.140882                              \n...                                                                       ...                              \n2023-08-03 17:55:59.139340                                           0.023842                              \n2023-08-03 17:55:59.636444                                           0.026834                              \n2023-08-03 17:56:00.133548                                           0.029141                              \n2023-08-03 17:56:00.630652                                           0.030148                              \n2023-08-03 17:56:01.127755                                           0.030155                              \n\n                            #074 | 0.87k vxl | RIGHT - Diencephalon - Migrated Area of the Pretectum (M1)  \\\n2023-08-03 17:41:51.577532                                           0.198165                               \n2023-08-03 17:41:52.074636                                           0.213961                               \n2023-08-03 17:41:52.571739                                           0.225616                               \n2023-08-03 17:41:53.068843                                           0.231524                               \n2023-08-03 17:41:53.565947                                           0.230771                               \n...                                                                       ...                               \n2023-08-03 17:55:59.139340                                           0.061280                               \n2023-08-03 17:55:59.636444                                           0.065943                               \n2023-08-03 17:56:00.133548                                           0.070848                               \n2023-08-03 17:56:00.630652                                           0.076082                               \n2023-08-03 17:56:01.127755                                           0.081378                               \n\n                            #077 | 0.75k vxl | LEFT - Diencephalon - Pineal  \\\n2023-08-03 17:41:51.577532                                         0.731174   \n2023-08-03 17:41:52.074636                                         0.670298   \n2023-08-03 17:41:52.571739                                         0.599958   \n2023-08-03 17:41:53.068843                                         0.523398   \n2023-08-03 17:41:53.565947                                         0.446096   \n...                                                                     ...   \n2023-08-03 17:55:59.139340                                         0.062324   \n2023-08-03 17:55:59.636444                                         0.054635   \n2023-08-03 17:56:00.133548                                         0.045551   \n2023-08-03 17:56:00.630652                                         0.036145   \n2023-08-03 17:56:01.127755                                         0.027431   \n\n                            #078 | 0.54k vxl | RIGHT - Diencephalon - Pineal  \\\n2023-08-03 17:41:51.577532                                          0.499015   \n2023-08-03 17:41:52.074636                                          0.427714   \n2023-08-03 17:41:52.571739                                          0.353971   \n2023-08-03 17:41:53.068843                                          0.285093   \n2023-08-03 17:41:53.565947                                          0.227273   \n...                                                                      ...   \n2023-08-03 17:55:59.139340                                          0.102768   \n2023-08-03 17:55:59.636444                                          0.097060   \n2023-08-03 17:56:00.133548                                          0.089242   \n2023-08-03 17:56:00.630652                                          0.079871   \n2023-08-03 17:56:01.127755                                          0.069230   \n\n                            #081 | 0.48k vxl | LEFT - Diencephalon - Dopaminergic Cluster 6 - hypothalamus  \\\n2023-08-03 17:41:51.577532                                           0.222693                                \n2023-08-03 17:41:52.074636                                           0.253481                                \n2023-08-03 17:41:52.571739                                           0.286552                                \n2023-08-03 17:41:53.068843                                           0.319428                                \n2023-08-03 17:41:53.565947                                           0.349321                                \n...                                                                       ...                                \n2023-08-03 17:55:59.139340                                           0.131788                                \n2023-08-03 17:55:59.636444                                           0.133578                                \n2023-08-03 17:56:00.133548                                           0.126998                                \n2023-08-03 17:56:00.630652                                           0.110658                                \n2023-08-03 17:56:01.127755                                           0.086884                                \n\n                            **NEG. FLOW STIMULUS**  **BOUT DETECTION**  \n2023-08-03 17:41:51.577532                0.299317                 0.0  \n2023-08-03 17:41:52.074636                0.299387                 0.0  \n2023-08-03 17:41:52.571739                0.299361                 0.0  \n2023-08-03 17:41:53.068843                0.299362                 0.0  \n2023-08-03 17:41:53.565947                0.299361                 0.0  \n...                                            ...                 ...  \n2023-08-03 17:55:59.139340                0.299603                 0.0  \n2023-08-03 17:55:59.636444                0.299603                 0.0  \n2023-08-03 17:56:00.133548                0.299603                 0.0  \n2023-08-03 17:56:00.630652                0.299603                 0.0  \n2023-08-03 17:56:01.127755                0.299603                 0.0  \n\n[1710 rows x 67 columns]",
      "text/html": "<div>\n<style scoped>\n    .dataframe tbody tr th:only-of-type {\n        vertical-align: middle;\n    }\n\n    .dataframe tbody tr th {\n        vertical-align: top;\n    }\n\n    .dataframe thead th {\n        text-align: right;\n    }\n</style>\n<table border=\"1\" class=\"dataframe\">\n  <thead>\n    <tr style=\"text-align: right;\">\n      <th></th>\n      <th>#001 | 69.00k vxl | LEFT - Mesencephalon - Tectum Stratum Periventriculare</th>\n      <th>#002 | 72.92k vxl | RIGHT - Mesencephalon - Tectum Stratum Periventriculare</th>\n      <th>#003 | 43.94k vxl | LEFT - Rhombencephalon - Rhombomere 7</th>\n      <th>#004 | 49.32k vxl | RIGHT - Rhombencephalon - Rhombomere 7</th>\n      <th>#005 | 55.45k vxl | LEFT - Rhombencephalon - Rhombomere 1</th>\n      <th>#006 | 56.01k vxl | RIGHT - Rhombencephalon - Rhombomere 1</th>\n      <th>#007 | 34.48k vxl | LEFT - Mesencephalon - Tecum Neuropil</th>\n      <th>#008 | 38.00k vxl | RIGHT - Mesencephalon - Tecum Neuropil</th>\n      <th>#009 | 32.70k vxl | LEFT - Diencephalon - Intermediate Hypothalamus</th>\n      <th>#010 | 28.57k vxl | RIGHT - Diencephalon - Intermediate Hypothalamus</th>\n      <th>...</th>\n      <th>#070 | 0.68k vxl | RIGHT - Diencephalon - Hypothalamus 6.7FRhcrtR-Gal4 cluster 1</th>\n      <th>#071 | 0.84k vxl | LEFT - Mesencephalon - Retinal Arborization Field 9 (AF9)</th>\n      <th>#072 | 1.17k vxl | RIGHT - Mesencephalon - Retinal Arborization Field 9 (AF9)</th>\n      <th>#073 | 0.99k vxl | LEFT - Diencephalon - Migrated Area of the Pretectum (M1)</th>\n      <th>#074 | 0.87k vxl | RIGHT - Diencephalon - Migrated Area of the Pretectum (M1)</th>\n      <th>#077 | 0.75k vxl | LEFT - Diencephalon - Pineal</th>\n      <th>#078 | 0.54k vxl | RIGHT - Diencephalon - Pineal</th>\n      <th>#081 | 0.48k vxl | LEFT - Diencephalon - Dopaminergic Cluster 6 - hypothalamus</th>\n      <th>**NEG. FLOW STIMULUS**</th>\n      <th>**BOUT DETECTION**</th>\n    </tr>\n  </thead>\n  <tbody>\n    <tr>\n      <th>2023-08-03 17:41:51.577532</th>\n      <td>0.150616</td>\n      <td>0.139038</td>\n      <td>0.058533</td>\n      <td>0.048041</td>\n      <td>0.074429</td>\n      <td>0.098386</td>\n      <td>0.049212</td>\n      <td>0.046857</td>\n      <td>0.053436</td>\n      <td>0.076974</td>\n      <td>...</td>\n      <td>0.429535</td>\n      <td>0.592882</td>\n      <td>0.308872</td>\n      <td>0.126437</td>\n      <td>0.198165</td>\n      <td>0.731174</td>\n      <td>0.499015</td>\n      <td>0.222693</td>\n      <td>0.299317</td>\n      <td>0.0</td>\n    </tr>\n    <tr>\n      <th>2023-08-03 17:41:52.074636</th>\n      <td>0.157046</td>\n      <td>0.144280</td>\n      <td>0.059898</td>\n      <td>0.048661</td>\n      <td>0.079915</td>\n      <td>0.103110</td>\n      <td>0.059364</td>\n      <td>0.059797</td>\n      <td>0.058956</td>\n      <td>0.080732</td>\n      <td>...</td>\n      <td>0.448093</td>\n      <td>0.598662</td>\n      <td>0.334153</td>\n      <td>0.133247</td>\n      <td>0.213961</td>\n      <td>0.670298</td>\n      <td>0.427714</td>\n      <td>0.253481</td>\n      <td>0.299387</td>\n      <td>0.0</td>\n    </tr>\n    <tr>\n      <th>2023-08-03 17:41:52.571739</th>\n      <td>0.163104</td>\n      <td>0.149378</td>\n      <td>0.061660</td>\n      <td>0.050021</td>\n      <td>0.085812</td>\n      <td>0.107245</td>\n      <td>0.068734</td>\n      <td>0.072287</td>\n      <td>0.064057</td>\n      <td>0.084318</td>\n      <td>...</td>\n      <td>0.468222</td>\n      <td>0.598472</td>\n      <td>0.355389</td>\n      <td>0.139023</td>\n      <td>0.225616</td>\n      <td>0.599958</td>\n      <td>0.353971</td>\n      <td>0.286552</td>\n      <td>0.299361</td>\n      <td>0.0</td>\n    </tr>\n    <tr>\n      <th>2023-08-03 17:41:53.068843</th>\n      <td>0.167943</td>\n      <td>0.153590</td>\n      <td>0.063477</td>\n      <td>0.051891</td>\n      <td>0.091462</td>\n      <td>0.110098</td>\n      <td>0.076173</td>\n      <td>0.082776</td>\n      <td>0.068057</td>\n      <td>0.087252</td>\n      <td>...</td>\n      <td>0.488273</td>\n      <td>0.593650</td>\n      <td>0.370404</td>\n      <td>0.141882</td>\n      <td>0.231524</td>\n      <td>0.523398</td>\n      <td>0.285093</td>\n      <td>0.319428</td>\n      <td>0.299362</td>\n      <td>0.0</td>\n    </tr>\n    <tr>\n      <th>2023-08-03 17:41:53.565947</th>\n      <td>0.170921</td>\n      <td>0.156337</td>\n      <td>0.064965</td>\n      <td>0.053806</td>\n      <td>0.096174</td>\n      <td>0.111144</td>\n      <td>0.081313</td>\n      <td>0.089968</td>\n      <td>0.070496</td>\n      <td>0.088971</td>\n      <td>...</td>\n      <td>0.507100</td>\n      <td>0.585602</td>\n      <td>0.378057</td>\n      <td>0.140882</td>\n      <td>0.230771</td>\n      <td>0.446096</td>\n      <td>0.227273</td>\n      <td>0.349321</td>\n      <td>0.299361</td>\n      <td>0.0</td>\n    </tr>\n    <tr>\n      <th>...</th>\n      <td>...</td>\n      <td>...</td>\n      <td>...</td>\n      <td>...</td>\n      <td>...</td>\n      <td>...</td>\n      <td>...</td>\n      <td>...</td>\n      <td>...</td>\n      <td>...</td>\n      <td>...</td>\n      <td>...</td>\n      <td>...</td>\n      <td>...</td>\n      <td>...</td>\n      <td>...</td>\n      <td>...</td>\n      <td>...</td>\n      <td>...</td>\n      <td>...</td>\n      <td>...</td>\n    </tr>\n    <tr>\n      <th>2023-08-03 17:55:59.139340</th>\n      <td>0.009866</td>\n      <td>0.016858</td>\n      <td>0.061242</td>\n      <td>0.092779</td>\n      <td>0.018291</td>\n      <td>0.016828</td>\n      <td>0.000000</td>\n      <td>0.000000</td>\n      <td>0.000000</td>\n      <td>0.013189</td>\n      <td>...</td>\n      <td>0.065001</td>\n      <td>0.204499</td>\n      <td>0.139289</td>\n      <td>0.023842</td>\n      <td>0.061280</td>\n      <td>0.062324</td>\n      <td>0.102768</td>\n      <td>0.131788</td>\n      <td>0.299603</td>\n      <td>0.0</td>\n    </tr>\n    <tr>\n      <th>2023-08-03 17:55:59.636444</th>\n      <td>0.007821</td>\n      <td>0.015895</td>\n      <td>0.059519</td>\n      <td>0.087898</td>\n      <td>0.016478</td>\n      <td>0.014168</td>\n      <td>0.000000</td>\n      <td>0.000000</td>\n      <td>0.000000</td>\n      <td>0.011187</td>\n      <td>...</td>\n      <td>0.063695</td>\n      <td>0.207860</td>\n      <td>0.139213</td>\n      <td>0.026834</td>\n      <td>0.065943</td>\n      <td>0.054635</td>\n      <td>0.097060</td>\n      <td>0.133578</td>\n      <td>0.299603</td>\n      <td>0.0</td>\n    </tr>\n    <tr>\n      <th>2023-08-03 17:56:00.133548</th>\n      <td>0.006025</td>\n      <td>0.015044</td>\n      <td>0.057826</td>\n      <td>0.082778</td>\n      <td>0.014732</td>\n      <td>0.011087</td>\n      <td>0.000000</td>\n      <td>0.000000</td>\n      <td>0.000000</td>\n      <td>0.008765</td>\n      <td>...</td>\n      <td>0.060352</td>\n      <td>0.207320</td>\n      <td>0.137997</td>\n      <td>0.029141</td>\n      <td>0.070848</td>\n      <td>0.045551</td>\n      <td>0.089242</td>\n      <td>0.126998</td>\n      <td>0.299603</td>\n      <td>0.0</td>\n    </tr>\n    <tr>\n      <th>2023-08-03 17:56:00.630652</th>\n      <td>0.004648</td>\n      <td>0.014351</td>\n      <td>0.056260</td>\n      <td>0.077855</td>\n      <td>0.013227</td>\n      <td>0.007773</td>\n      <td>0.000000</td>\n      <td>0.000000</td>\n      <td>0.000000</td>\n      <td>0.006005</td>\n      <td>...</td>\n      <td>0.054871</td>\n      <td>0.201955</td>\n      <td>0.136326</td>\n      <td>0.030148</td>\n      <td>0.076082</td>\n      <td>0.036145</td>\n      <td>0.079871</td>\n      <td>0.110658</td>\n      <td>0.299603</td>\n      <td>0.0</td>\n    </tr>\n    <tr>\n      <th>2023-08-03 17:56:01.127755</th>\n      <td>0.003695</td>\n      <td>0.013870</td>\n      <td>0.054940</td>\n      <td>0.073598</td>\n      <td>0.012168</td>\n      <td>0.004535</td>\n      <td>0.000000</td>\n      <td>0.000000</td>\n      <td>0.000000</td>\n      <td>0.003138</td>\n      <td>...</td>\n      <td>0.048522</td>\n      <td>0.192659</td>\n      <td>0.135021</td>\n      <td>0.030155</td>\n      <td>0.081378</td>\n      <td>0.027431</td>\n      <td>0.069230</td>\n      <td>0.086884</td>\n      <td>0.299603</td>\n      <td>0.0</td>\n    </tr>\n  </tbody>\n</table>\n<p>1710 rows × 67 columns</p>\n</div>"
     },
     "execution_count": 277,
     "metadata": {},
     "output_type": "execute_result"
    }
   ],
   "source": [
    "activity_with_stim_tail_df = functional_activity_df.copy()\n",
    "norm_max = np.quantile(activity_with_stim_tail_df, 0.995)\n",
    "# activity_with_stim_tail_df['**FLOW STIMULUS**'] = norm_stim_arr * norm_max\n",
    "activity_with_stim_tail_df['**NEG. FLOW STIMULUS**'] = (1 + (norm_stim_arr * -1)) * norm_max\n",
    "activity_with_stim_tail_df['**BOUT DETECTION**'] = norm_tail_arr * norm_max * 10\n",
    "# activity_with_stim_tail_df['**NEG. ABS TAIL ANGLE**'] = (1 + (norm_tail_arr * -1)) * norm_max * 10\n",
    "activity_with_stim_tail_df"
   ],
   "metadata": {
    "collapsed": false,
    "ExecuteTime": {
     "end_time": "2023-10-06T18:58:12.391129Z",
     "start_time": "2023-10-06T18:58:12.251356600Z"
    }
   },
   "id": "c067650c2ec19262"
  },
  {
   "cell_type": "markdown",
   "source": [
    "## Plot Clustermap with Stim and Tail"
   ],
   "metadata": {
    "collapsed": false
   },
   "id": "53f3aaf60f689e96"
  },
  {
   "cell_type": "code",
   "execution_count": 278,
   "outputs": [
    {
     "name": "stderr",
     "output_type": "stream",
     "text": [
      "I:\\CorbanSwain\\repos\\zmia\\envs\\zmia-env-3.9\\lib\\site-packages\\seaborn\\matrix.py:578: UserWarning:\n",
      "\n",
      "Clustering large matrix with scipy. Installing `fastcluster` may give better performance.\n",
      "\n"
     ]
    },
    {
     "name": "stdout",
     "output_type": "stream",
     "text": [
      "Using meshgrid arguments.\n"
     ]
    }
   ],
   "source": [
    "%matplotlib qt\n",
    "\n",
    "y_locs_for_dendrogram = (np.arange(activity_with_stim_tail_df.shape[1]) + 0.5) * 10\n",
    "\n",
    "clst_grd = sns.clustermap(\n",
    "    activity_with_stim_tail_df.T,\n",
    "    metric='correlation',\n",
    "    figsize=(20, 12),\n",
    "    col_cluster=False,\n",
    "    cmap='rocket',\n",
    "    vmin=0,\n",
    "    vmax=norm_max,\n",
    "    cbar_pos=None,\n",
    "    x_meshgrid=adj_unix_time_array,  # NOTE - modified source code to allow for meshgrid\n",
    "    y_meshgrid=y_locs_for_dendrogram,  # NOTE - modified source code to allow for meshgrid\n",
    ")\n",
    "\n",
    "ax_hmap = clst_grd.ax_heatmap\n",
    "ax_row_dgram = clst_grd.ax_row_dendrogram\n",
    "\n",
    "hmap_pos_0 = ax_hmap.get_position()\n",
    "ax_row_dgram_pos_0 = ax_row_dgram.get_position()\n",
    "\n",
    "top_margin = 0.02\n",
    "new_height = 0.95\n",
    "\n",
    "ax_hmap.set_position(\n",
    "    [hmap_pos_0.x0, 1 - new_height - top_margin,\n",
    "     hmap_pos_0.width, new_height])\n",
    "ax_row_dgram.set_position(\n",
    "    [ax_row_dgram_pos_0.x0, 1 - new_height - top_margin,\n",
    "     ax_row_dgram_pos_0.width, new_height])\n",
    "\n",
    "ax_hmap.set_xlim([0, adj_unix_time_array.max()])\n",
    "ax_hmap.sharey(ax_row_dgram)\n",
    "ax_hmap.xaxis.set_major_locator(\n",
    "    mpl.ticker.AutoLocator())\n",
    "ax_hmap.tick_params(\n",
    "    axis='both', \n",
    "    which='both',\n",
    "    length=5)\n",
    "ax_hmap.xaxis.set_tick_params(labelbottom=True)\n",
    "\n",
    "y_labels_raw = activity_with_stim_tail_df.columns.to_list() \n",
    "y_labels = [y_labels_raw[i] for i in \n",
    "            clst_grd.dendrogram_row.reordered_ind]\n",
    "ax_hmap.yaxis.set_ticks(\n",
    "    ticks=y_locs_for_dendrogram,\n",
    "    labels=y_labels)\n",
    "\n",
    "plt.setp(ax_hmap.get_xticklabels(),\n",
    "         rotation='horizontal')\n",
    "\n",
    "def sec_formatter(x, pos):\n",
    "    x_min, x_sec = np.divmod(x, 60)\n",
    "    x_min = x_min.astype(int)\n",
    "    x_str = f'{x_min:02d}:{x_sec:04.1f}'\n",
    "    return x_str\n",
    "\n",
    "ax_hmap.xaxis.set_major_formatter(\n",
    "    mpl.ticker.FuncFormatter(sec_formatter))\n",
    "\n",
    "sns.despine(\n",
    "    ax=ax_hmap,\n",
    "    left=False,\n",
    "    top=False,\n",
    "    bottom=False,\n",
    "    right=False)\n",
    "\n",
    "plt.show()"
   ],
   "metadata": {
    "collapsed": false,
    "ExecuteTime": {
     "end_time": "2023-10-06T18:58:16.238161600Z",
     "start_time": "2023-10-06T18:58:14.915279500Z"
    }
   },
   "id": "630a3e89e9447332"
  },
  {
   "cell_type": "markdown",
   "source": [
    "# Random Experiments"
   ],
   "metadata": {
    "collapsed": false
   },
   "id": "22af5ed087426518"
  },
  {
   "cell_type": "code",
   "execution_count": null,
   "outputs": [],
   "source": [
    "x = np.array([[[0, 1], [2, 3]], [[4, 5], [6, 7]]])\n",
    "print('x')\n",
    "print(x)\n",
    "print('rot90(axes=(1, 2)) ... Z rotation')\n",
    "print(np.rot90(x, axes=(1, 2)))\n",
    "print('rot90(axes=(0, 1)) ... X rotation')\n",
    "print(np.rot90(x, axes=(0, 1)))\n",
    "print('rot90(axes=(0, 1)) ... Y rotation')\n",
    "print(np.rot90(x, axes=(2, 0)))"
   ],
   "metadata": {
    "collapsed": false
   },
   "id": "dd52933a7170a72f"
  },
  {
   "cell_type": "code",
   "execution_count": null,
   "outputs": [],
   "source": [
    "print(f'{hash(np.max.__module__):x}')\n",
    "print(f'{hash(np.max.__module__):d}')\n",
    "print(f'{binascii.hexlify(np.max.__module__.encode(\"utf8\"))}')"
   ],
   "metadata": {
    "collapsed": false
   },
   "id": "3484303da5e1f39"
  }
 ],
 "metadata": {
  "kernelspec": {
   "display_name": "Python 3",
   "language": "python",
   "name": "python3"
  },
  "language_info": {
   "codemirror_mode": {
    "name": "ipython",
    "version": 2
   },
   "file_extension": ".py",
   "mimetype": "text/x-python",
   "name": "python",
   "nbconvert_exporter": "python",
   "pygments_lexer": "ipython2",
   "version": "2.7.6"
  }
 },
 "nbformat": 4,
 "nbformat_minor": 5
}
